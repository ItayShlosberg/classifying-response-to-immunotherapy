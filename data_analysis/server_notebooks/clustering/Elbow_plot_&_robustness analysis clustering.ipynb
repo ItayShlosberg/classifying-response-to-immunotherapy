{
 "cells": [
  {
   "cell_type": "markdown",
   "metadata": {},
   "source": [
    "# Using the Elbow method & robustness analysis to explore clustering output\n"
   ]
  },
  {
   "cell_type": "code",
   "execution_count": 1,
   "metadata": {},
   "outputs": [],
   "source": [
    "# ------- SERVER EXTENSIONS ---------\n",
    "lib =  r'/srv01/technion/shitay/Code/classifying_response_to_immunotherapy/utilities/droplet_dataset'\n",
    "lib2 = r'/srv01/technion/shitay/Code/classifying_response_to_immunotherapy/utilities'\n",
    "lib3 = r'/srv01/technion/shitay/Code/classifying_response_to_immunotherapy/data_analysis'\n",
    "lib4 = r'/srv01/technion/shitay/Code/classifying_response_to_immunotherapy'\n",
    "lib5 = r'/srv01/technion/shitay/Code/classifying_response_to_immunotherapy/scripts'\n",
    "import sys\n",
    "sys.path.append(lib)\n",
    "sys.path.append(lib2)\n",
    "sys.path.append(lib3)\n",
    "sys.path.append(lib4)\n",
    "sys.path.append(lib5)\n",
    "import numpy as np\n",
    "import pandas as pd\n",
    "import scipy\n",
    "from os.path import join\n",
    "import sklearn\n",
    "from sklearn.manifold import TSNE\n",
    "import pickle\n",
    "# from Bio.Cluster import kcluster\n",
    "import os\n",
    "import numpy as np\n",
    "import yaml\n",
    "import os\n",
    "import pandas\n",
    "from collections import Counter\n",
    "from sklearn.cluster import KMeans\n",
    "import matplotlib.pyplot as plt\n",
    "# from sklearn.metrics import confusion_matrix, ConfusionMatrixDisplay\n",
    "import sys\n",
    "import seaborn as sns\n",
    "# import pyclustering\n",
    "import matplotlib.pylab as plt\n",
    "import seaborn as sb\n",
    "from scipy.spatial.distance import cdist\n",
    "\n",
    "from shutil import copyfile\n",
    "import matplotlib.pyplot as plt\n",
    "\n",
    "from utilities.general_helpers import flatten_list\n",
    "\n",
    "# ------- SERVER EXTENSIONS ---------"
   ]
  },
  {
   "cell_type": "markdown",
   "metadata": {},
   "source": [
    "# Elbow - mean distances\n",
    "computing the mean distances between all cells and the centroid of the corresponding cluster."
   ]
  },
  {
   "cell_type": "code",
   "execution_count": 114,
   "metadata": {},
   "outputs": [],
   "source": [
    "FILTERED_CELLS_PATH = fr'/storage/md_keren/shitay/outputs/variance_filtered/immune_cells_var0.315.pkl'\n",
    "filtered_cells = pickle.load(open(FILTERED_CELLS_PATH, 'rb'))"
   ]
  },
  {
   "cell_type": "code",
   "execution_count": 115,
   "metadata": {},
   "outputs": [
    {
     "name": "stdout",
     "output_type": "stream",
     "text": [
      "K = 2, score 0.3116550606051973\n",
      "K = 3, score 0.3049210049758273\n",
      "K = 4, score 0.3029131073105403\n",
      "K = 5, score 0.3010566035037296\n",
      "K = 6, score 0.2945527070065452\n",
      "K = 7, score 0.2930455970247686\n",
      "K = 8, score 0.2919037552678174\n",
      "K = 9, score 0.29213928606700174\n",
      "K = 10, score 0.28923988431643366\n",
      "K = 11, score 0.2904070635221433\n",
      "K = 12, score 0.28949650698279455\n",
      "K = 13, score 0.2897383604887938\n",
      "K = 14, score 0.28818278742666875\n",
      "K = 15, score 0.2893082597430661\n"
     ]
    }
   ],
   "source": [
    "scores = []\n",
    "for K in range(2, 16):\n",
    "    print(f'K = {K}, ', end='')\n",
    "    kmeans_clusters_path = fr'/storage/md_keren/shitay/outputs/clustering/kmeans/row_kmeans/kmeans_immune_cells_var0.315_k_{K}.pkl'\n",
    "    clustering_out = pickle.load(open(kmeans_clusters_path, 'rb'))\n",
    "    # clusters_indices\n",
    "    clustering_analysis = pickle.load(open(fr'/storage/md_keren/shitay/outputs/clustering/cluster_analysis/cluster_analysis_21.3.21/cluster_analysis_k_{K}.pkl', 'rb'))\n",
    "\n",
    "\n",
    "    clustering_out.keys()\n",
    "    len(clustering_out['clusters'])\n",
    "    np.array(clustering_out['centers']).shape\n",
    "    # filtered_cells.counts.shape\n",
    "    distances = []\n",
    "    for idx in range(len(clustering_out['clusters'])):\n",
    "#         print(f'cluster {idx}')\n",
    "        cluster_indices = clustering_out['clusters'][idx]\n",
    "        cluster_center = clustering_out['centers'][idx]\n",
    "        cluster_cells = filtered_cells.counts[cluster_indices]\n",
    "        cluster_distance = np.min(cdist(cluster_cells, np.expand_dims(cluster_center, axis=0), 'correlation'), axis=1)\n",
    "#         print(cluster_distance)\n",
    "        distances.append(cluster_distance.tolist())\n",
    "    score = np.mean(np.array(flatten_list(distances)))\n",
    "    print(f'score {score}')\n",
    "    scores.append(score)\n"
   ]
  },
  {
   "cell_type": "code",
   "execution_count": 116,
   "metadata": {},
   "outputs": [
    {
     "data": {
      "text/plain": [
       "<matplotlib.collections.PathCollection at 0x7f3961467f98>"
      ]
     },
     "execution_count": 116,
     "metadata": {},
     "output_type": "execute_result"
    },
    {
     "data": {
      "image/png": "[encoded data removed]",
      "text/plain": [
       "<Figure size 432x288 with 1 Axes>"
      ]
     },
     "metadata": {
      "needs_background": "light"
     },
     "output_type": "display_data"
    }
   ],
   "source": [
    "plt.scatter(np.arange(2, 16), scores)"
   ]
  },
  {
   "cell_type": "markdown",
   "metadata": {},
   "source": [
    "# Elbow - estimating the  variance explained by a given solution \n",
    "( Cell, 2018, Figure S8B)\n",
    "\n",
    "computing the sum of pair-wise distances between all cells in different clusters Dis_b=Σl=1-k(Σi∈cl,j∉cl D(i,j)) and the total distance Dis_t= Σi,j D(i,j). The ratio between these two measures V = Dis_b/Dis_t was used to estimate the variance explained by a given solution (Figure S8B), such that in the extreme case where all cells are clustered together or the case where each cell is a single cluster, this ratio would be 0 and 1, respectively. Exploring this ratio, we then select the solutions that are near plateau\n"
   ]
  },
  {
   "cell_type": "code",
   "execution_count": 16,
   "metadata": {},
   "outputs": [
    {
     "data": {
      "image/png": "[encoded data removed]",
      "text/plain": [
       "<Figure size 864x432 with 1 Axes>"
      ]
     },
     "metadata": {
      "needs_background": "light"
     },
     "output_type": "display_data"
    }
   ],
   "source": [
    "elbow_pickle_path = r'/storage/md_keren/shitay/outputs/clustering/elbow/26.6.21_cohort/elbow.pkl'\n",
    "\n",
    "elbow = pickle.load(open(elbow_pickle_path, 'rb'))\n",
    "\n",
    "All_Dist_b = elbow['Ks_Dist_b']\n",
    "Dis_t = elbow['Dis_t']\n",
    "\n",
    "plt.figure(figsize=(12,6))\n",
    "distances = [(ii/2)/Dis_t for ii in All_Dist_b.values()]\n",
    "plt.plot(list(All_Dist_b.keys()), distances, '-or');\n",
    "plt.ylim((0,1));\n",
    "distances_dic = dict(zip(list(All_Dist_b.keys()),distances))\n",
    "for a,b in distances_dic.items(): \n",
    "    plt.text(a, b, str(round(b,3)))\n",
    "plt.title('Percentage of variance explained');\n",
    "# plt.savefig(r'/storage/md_keren/shitay/outputs/clustering/elbow/26.6.21_cohort/elbow_fig.jpg')"
   ]
  },
  {
   "cell_type": "code",
   "execution_count": 15,
   "metadata": {},
   "outputs": [
    {
     "data": {
      "text/plain": [
       "<Figure size 432x288 with 0 Axes>"
      ]
     },
     "metadata": {},
     "output_type": "display_data"
    }
   ],
   "source": [
    "# plt.savefig(r'/storage/md_keren/shitay/outputs/clustering/elbow/26.6.21_cohort/elbow_fig.jpg')"
   ]
  },
  {
   "cell_type": "code",
   "execution_count": 26,
   "metadata": {},
   "outputs": [],
   "source": [
    "# dict(zip(list(All_Dist_b.keys()),[(ii/2)/Dis_t for ii in All_Dist_b.values()]))"
   ]
  },
  {
   "cell_type": "markdown",
   "metadata": {},
   "source": [
    "# Robustness analysis clustering\n",
    "\n",
    "to determine the robustness of each clustering solution, we need to perform 100 iterations in which we randomly remove 10% of the cells, and re-run the k-means algorithm and check the stability of the clustering solution. We then need to quantify the agreement of a given solution with the original one as the number of pairs of cells that were either clustered together, or not clustered together, in both solutions, divided by the total number pairs shared between the runs."
   ]
  },
  {
   "cell_type": "code",
   "execution_count": 121,
   "metadata": {
    "scrolled": true
   },
   "outputs": [
    {
     "data": {
      "image/png": "[encoded data removed]",
      "text/plain": [
       "<Figure size 432x288 with 1 Axes>"
      ]
     },
     "metadata": {
      "needs_background": "light"
     },
     "output_type": "display_data"
    }
   ],
   "source": [
    "cluster_list = []\n",
    "median_list = {}\n",
    "scores = {k: {'number_of_pairs_agreement': [], \n",
    "              'number_of_pairs_in_iter_clusters': [],\n",
    "             'number_of_pairs_in_origin_clusters': []} for k in range(2, 16)}\n",
    "for k in range(2, 16):\n",
    "#     print(f'k = ',k)\n",
    "    count = 0\n",
    "    for run in range(0, 100):\n",
    "        file_name = f'K_{k}_run_{run}.txt'        \n",
    "        if os.path.isfile(join(path, file_name)):\n",
    "    #         print(run)\n",
    "            count +=1\n",
    "            with open(join(path, file_name), \"r\") as text_file:\n",
    "                for line in text_file.readlines():\n",
    "                    line_interpretation = line.replace('\\n', '').split(' ')\n",
    "    #                 scores.append(float(line))\n",
    "                    scores[k][line_interpretation[0]].append(float(line_interpretation[1]))\n",
    "#     print('number of runs', count)\n",
    "    # np.mean(scores)\n",
    "\n",
    "#     origin_clusters = np.array(scores[k]['number_of_pairs_agreement']) / np.array(scores[k]['number_of_pairs_in_origin_clusters']) \n",
    "    iter_clusters = np.array(scores[k]['number_of_pairs_agreement']) / np.array(scores[k]['number_of_pairs_in_iter_clusters'])\n",
    "#     print('iter clusters median', np.median(iter_clusters))\n",
    "#     print('origin clusters median', np.median(origin_clusters))\n",
    "#     cluster_list.append(origin_clusters)\n",
    "    cluster_list.append(iter_clusters)\n",
    "    median_list[k] = np.median(iter_clusters)\n",
    "\n",
    "plt.boxplot(cluster_list, positions=list(range(2,16)));\n",
    "plt.ylim((0,1));\n",
    "plt.title('Robustness score');\n",
    "\n",
    "\n"
   ]
  },
  {
   "cell_type": "code",
   "execution_count": 112,
   "metadata": {},
   "outputs": [
    {
     "name": "stdout",
     "output_type": "stream",
     "text": [
      "Median, highest to lowest:\n",
      "K =  2:\t0.9694909051732921\n",
      "K =  3:\t0.7216231781513416\n",
      "K =  4:\t0.6598039396512563\n",
      "K =  6:\t0.6531309491405539\n",
      "K = 12:\t0.6361910291721997\n",
      "K =  8:\t0.6136347723170057\n",
      "K = 14:\t0.5888690770600816\n",
      "K =  9:\t0.5838896838642234\n",
      "K = 11:\t0.5744652173201779\n",
      "K = 10:\t0.5713752405140808\n",
      "K = 15:\t0.5625555112267594\n",
      "K =  5:\t0.5425472683164003\n",
      "K =  7:\t0.5300024728467271\n",
      "K = 13:\t0.5241920740371677\n"
     ]
    }
   ],
   "source": [
    "# list(median_list.keys()) \n",
    "sort = np.argsort(np.array(list(median_list.values())))[::-1]\n",
    "print('Median, highest to lowest:')\n",
    "for i in sort:\n",
    "    print('K = %2s'%list(median_list.keys())[i], end=':\\t')\n",
    "    print(list(median_list.values())[i])\n",
    "# np.array(list(median_list.values()))[sort]"
   ]
  },
  {
   "cell_type": "code",
   "execution_count": null,
   "metadata": {},
   "outputs": [],
   "source": []
  },
  {
   "cell_type": "code",
   "execution_count": null,
   "metadata": {},
   "outputs": [],
   "source": []
  },
  {
   "cell_type": "code",
   "execution_count": null,
   "metadata": {},
   "outputs": [],
   "source": []
  },
  {
   "cell_type": "code",
   "execution_count": null,
   "metadata": {},
   "outputs": [],
   "source": []
  },
  {
   "cell_type": "markdown",
   "metadata": {},
   "source": [
    "# Check which runs are missing and should be run by robustness_analysis_calculation_COMPLETION.py"
   ]
  },
  {
   "cell_type": "code",
   "execution_count": 110,
   "metadata": {},
   "outputs": [
    {
     "name": "stdout",
     "output_type": "stream",
     "text": [
      "\n",
      "k = 2\n",
      "0 files are missing\n",
      "[]\n",
      "\n",
      "k = 3\n",
      "0 files are missing\n",
      "[]\n",
      "\n",
      "k = 4\n",
      "0 files are missing\n",
      "[]\n",
      "\n",
      "k = 5\n",
      "0 files are missing\n",
      "[]\n",
      "\n",
      "k = 6\n",
      "0 files are missing\n",
      "[]\n",
      "\n",
      "k = 7\n",
      "0 files are missing\n",
      "[]\n",
      "\n",
      "k = 8\n",
      "0 files are missing\n",
      "[]\n",
      "\n",
      "k = 9\n",
      "0 files are missing\n",
      "[]\n",
      "\n",
      "k = 10\n",
      "0 files are missing\n",
      "[]\n",
      "\n",
      "k = 11\n",
      "0 files are missing\n",
      "[]\n",
      "\n",
      "k = 12\n",
      "0 files are missing\n",
      "[]\n",
      "\n",
      "k = 13\n",
      "0 files are missing\n",
      "[]\n",
      "\n",
      "k = 14\n",
      "0 files are missing\n",
      "[]\n",
      "\n",
      "k = 15\n",
      "0 files are missing\n",
      "[]\n",
      "\n",
      "\n",
      "Total number of runs missing 0\n"
     ]
    }
   ],
   "source": [
    "path = r'/storage/md_keren/shitay/outputs/clustering/robustness_analysis_clustering/run_scores/'\n",
    "\n",
    "\n",
    "path = r'/storage/md_keren/shitay/outputs/clustering/robustness_analysis_clustering/run_scores/'\n",
    "count = {k: [] for k in range(2, 16)}\n",
    "files = os.listdir(path)\n",
    "for file in files:\n",
    "    count[int(file.split('_')[1])].append(int(file.split('_')[3][:-4]))\n",
    "\n",
    "\n",
    "print()\n",
    "n_completion = 0\n",
    "all_renew_runs = []\n",
    "for k in range(2,16):\n",
    "    print(f'k = {k}')\n",
    "#     print(count[i])\n",
    "    missing = [(k,j) for j in range(100) if not j in count[k]]\n",
    "    print(f'{len(missing)} files are missing')\n",
    "    print(missing, end='\\n\\n')\n",
    "    n_completion += len(missing)\n",
    "    \n",
    "    all_renew_runs += [(k,j) for j in range(100) if not j in count[k]]\n",
    "    \n",
    "print(f'\\nTotal number of runs missing {n_completion}')\n",
    "# all_renew_runs ## the list containning all files needed to be added"
   ]
  },
  {
   "cell_type": "code",
   "execution_count": 12,
   "metadata": {},
   "outputs": [
    {
     "name": "stdout",
     "output_type": "stream",
     "text": [
      "log file num:\n"
     ]
    },
    {
     "data": {
      "text/plain": [
       "420"
      ]
     },
     "execution_count": 12,
     "metadata": {},
     "output_type": "execute_result"
    }
   ],
   "source": [
    "# get number of log file by k and run num\n",
    "k = 15\n",
    "run = 20\n",
    "\n",
    "print('log file num:')\n",
    "(k - 2) * 100 + run\n"
   ]
  },
  {
   "cell_type": "markdown",
   "metadata": {},
   "source": [
    "# DEBUG"
   ]
  },
  {
   "cell_type": "code",
   "execution_count": 183,
   "metadata": {},
   "outputs": [],
   "source": [
    "OUTPUT = r'/storage/md_keren/shitay/outputs/clustering/robustness_analysis_clustering/run_scores'\n"
   ]
  },
  {
   "cell_type": "code",
   "execution_count": 185,
   "metadata": {},
   "outputs": [],
   "source": [
    "result = 0.765\n",
    "from os.path import join\n",
    "with open(join(OUTPUT, f't.txt'), \"w\") as text_file:\n",
    "    text_file.write(str(result))\n",
    "\n"
   ]
  },
  {
   "cell_type": "code",
   "execution_count": 3,
   "metadata": {},
   "outputs": [],
   "source": [
    "K = 3\n",
    "kmeans_clusters_path = fr'/storage/md_keren/shitay/outputs/clustering/kmeans/row_kmeans/kmeans_immune_cells_var0.315_k_{K}.pkl'\n",
    "clustering_out = pickle.load(open(kmeans_clusters_path, 'rb'))\n",
    "clustering_analysis = pickle.load(open(fr'/storage/md_keren/shitay/outputs/clustering/cluster_analysis/cluster_analysis_21.3.21/cluster_analysis_k_{K}.pkl', 'rb'))\n"
   ]
  },
  {
   "cell_type": "code",
   "execution_count": 68,
   "metadata": {},
   "outputs": [],
   "source": [
    "# clustering_analysis"
   ]
  },
  {
   "cell_type": "code",
   "execution_count": 77,
   "metadata": {},
   "outputs": [
    {
     "name": "stdout",
     "output_type": "stream",
     "text": [
      "[[0.60175174]]\n",
      "[[0.00000000e+00 5.72679500e-01 6.33083988e-01 5.66232572e-01]\n",
      " [5.72679500e-01 1.11022302e-16 6.31810029e-01 5.76208016e-01]\n",
      " [6.33083988e-01 6.31810029e-01 0.00000000e+00 6.01751738e-01]\n",
      " [5.66232572e-01 5.76208016e-01 6.01751738e-01 0.00000000e+00]]\n"
     ]
    }
   ],
   "source": [
    "\n",
    "# TODO: Understand the problem here. why the correlation of cell with itself doesn't return 0!!!!!!!!\n",
    "idx = 2\n",
    "print(cdist(np.expand_dims(cluster_cells[idx], axis=0), np.expand_dims(cluster_cells[idx+1], axis=0), 'correlation'))\n",
    "# np.expand_dims(cluster_cells[1], axis=1).shape\n",
    "# user_function(cluster_cells[idx], cluster_cells[idx+1])\n",
    "\n",
    "\n",
    "print(cdist(cluster_cells[:idx+2], cluster_cells[:idx+2], 'correlation'))"
   ]
  },
  {
   "cell_type": "code",
   "execution_count": 53,
   "metadata": {},
   "outputs": [
    {
     "name": "stdout",
     "output_type": "stream",
     "text": [
      "[[0.]]\n"
     ]
    },
    {
     "data": {
      "text/plain": [
       "0.0"
      ]
     },
     "execution_count": 53,
     "metadata": {},
     "output_type": "execute_result"
    }
   ],
   "source": [
    "arr = np.array([[1,2,3, 4,5, 7, 100, 200]])\n",
    "# arr = np.array\n",
    "([[1,2, 3, 100]])\n",
    "print(cdist(arr, arr, 'correlation'))\n",
    "user_function(arr[0], arr[0])"
   ]
  },
  {
   "cell_type": "code",
   "execution_count": null,
   "metadata": {},
   "outputs": [],
   "source": []
  },
  {
   "cell_type": "code",
   "execution_count": 69,
   "metadata": {},
   "outputs": [],
   "source": [
    "FILTERED_CELLS_PATH = fr'/storage/md_keren/shitay/outputs/variance_filtered/immune_cells_var0.315.pkl'\n",
    "filtered_cells = pickle.load(open(FILTERED_CELLS_PATH, 'rb'))"
   ]
  },
  {
   "cell_type": "code",
   "execution_count": 70,
   "metadata": {},
   "outputs": [],
   "source": [
    "# runs = r'/storage/md_keren/shitay/outputs/clustering/robustness_analysis_clustering/runs/'\n",
    "# for K in os.listdir(runs):\n",
    "#     k_path = os.path.join(runs, K)\n",
    "#     for iteration in os.listdir(k_path):\n",
    "#         pickle.load()\n",
    "orig = pickle.load(open(r'/storage/md_keren/shitay/outputs/clustering/kmeans/row_kmeans/kmeans_immune_cells_var0.315_k_3.pkl', 'rb'))\n",
    "it = pickle.load(open(r'/storage/md_keren/shitay/outputs/clustering/robustness_analysis_clustering/runs/3/8.pkl', 'rb'))"
   ]
  },
  {
   "cell_type": "code",
   "execution_count": 71,
   "metadata": {},
   "outputs": [
    {
     "data": {
      "text/plain": [
       "89024"
      ]
     },
     "execution_count": 71,
     "metadata": {},
     "output_type": "execute_result"
    }
   ],
   "source": [
    "n_cells = filtered_cells.number_of_cells\n",
    "n_cells"
   ]
  },
  {
   "cell_type": "code",
   "execution_count": 72,
   "metadata": {},
   "outputs": [],
   "source": [
    "mapping_orig_to_filtering  = np.arange(n_cells)[it['sample_indices']]\n",
    "mapping_orig_to_filtering_dic = {}\n",
    "for i in range(mapping_orig_to_filtering.shape[0]):\n",
    "    mapping_orig_to_filtering_dic[mapping_orig_to_filtering[i]] = i \n",
    "# print(mapping_dic)\n",
    "\n",
    "## mapping orig indices to respective indices values after filtering\n",
    "base_clusters = [[mapping_orig_to_filtering_dic[jj] for jj in ii if jj in mapping_orig_to_filtering_dic.keys()] for ii in orig['clusters']]\n",
    "\n",
    "iteration_clusters = it['clusters']\n"
   ]
  },
  {
   "cell_type": "code",
   "execution_count": 73,
   "metadata": {},
   "outputs": [],
   "source": [
    "filterd_cells = flatten_list(iteration_clusters)\n",
    "n_cells_filtered = len(filterd_cells)\n"
   ]
  },
  {
   "cell_type": "code",
   "execution_count": 74,
   "metadata": {},
   "outputs": [],
   "source": [
    "bool_map = np.zeros((n_cells_filtered, n_cells_filtered))\n",
    "for cluster in base_clusters:\n",
    "    for ii in cluster:\n",
    "        for jj in cluster:\n",
    "            if ii != jj:\n",
    "                bool_map[ii, jj] = 1"
   ]
  },
  {
   "cell_type": "code",
   "execution_count": 75,
   "metadata": {},
   "outputs": [],
   "source": [
    "# bool_map[-10:, :10]"
   ]
  },
  {
   "cell_type": "code",
   "execution_count": 76,
   "metadata": {},
   "outputs": [],
   "source": [
    "bool_map2 = np.zeros((n_cells_filtered, n_cells_filtered))\n",
    "for cluster in iteration_clusters:\n",
    "    for ii in cluster:\n",
    "        for jj in cluster:\n",
    "            if ii != jj:\n",
    "                bool_map2[ii, jj] = 1"
   ]
  },
  {
   "cell_type": "code",
   "execution_count": 77,
   "metadata": {},
   "outputs": [
    {
     "data": {
      "text/plain": [
       "993290129.0"
      ]
     },
     "execution_count": 77,
     "metadata": {},
     "output_type": "execute_result"
    }
   ],
   "source": [
    "re = bool_map + bool_map2 \n",
    "re2 = re == 2\n",
    "bw = np.sum(re2) / 2\n",
    "bw"
   ]
  },
  {
   "cell_type": "code",
   "execution_count": 78,
   "metadata": {},
   "outputs": [
    {
     "name": "stdout",
     "output_type": "stream",
     "text": [
      "1246881429.0\n"
     ]
    },
    {
     "data": {
      "text/plain": [
       "0.7966195549135892"
      ]
     },
     "execution_count": 78,
     "metadata": {},
     "output_type": "execute_result"
    }
   ],
   "source": [
    "size = 0\n",
    "for cluster in base_clusters:\n",
    "    \n",
    "    len_cls = len(cluster)\n",
    "    size += (len_cls * (len_cls-1))/2  \n",
    "print(size)\n",
    "bw / size"
   ]
  },
  {
   "cell_type": "code",
   "execution_count": 79,
   "metadata": {},
   "outputs": [
    {
     "name": "stdout",
     "output_type": "stream",
     "text": [
      "1879901337.0\n"
     ]
    },
    {
     "data": {
      "text/plain": [
       "0.5283735425100131"
      ]
     },
     "execution_count": 79,
     "metadata": {},
     "output_type": "execute_result"
    }
   ],
   "source": [
    "size2 = 0\n",
    "for cluster in iteration_clusters:\n",
    "    \n",
    "    len_cls = len(cluster)\n",
    "    size2 += (len_cls * (len_cls-1))/2  \n",
    "print(size2)\n",
    "bw / size2"
   ]
  },
  {
   "cell_type": "code",
   "execution_count": 83,
   "metadata": {},
   "outputs": [
    {
     "name": "stdout",
     "output_type": "stream",
     "text": [
      "1246881429.0\n"
     ]
    },
    {
     "data": {
      "text/plain": [
       "1879901337.0"
      ]
     },
     "execution_count": 83,
     "metadata": {},
     "output_type": "execute_result"
    }
   ],
   "source": [
    "print(np.sum(bool_map == 1)/2)\n",
    "np.sum(bool_map2 == 1)/2"
   ]
  },
  {
   "cell_type": "code",
   "execution_count": null,
   "metadata": {},
   "outputs": [],
   "source": []
  },
  {
   "cell_type": "code",
   "execution_count": null,
   "metadata": {},
   "outputs": [],
   "source": []
  },
  {
   "cell_type": "code",
   "execution_count": 92,
   "metadata": {},
   "outputs": [],
   "source": [
    "dummy = r'/storage/md_keren/shitay/garbage/dummy.txt'\n",
    "with open(join(dummy), \"w\") as text_file:\n",
    "    text_file.write(str(10)+\"\\n\")\n",
    "    text_file.write('dfdf'+str(4)+\"\\n\")\n",
    "    text_file.write(str(4)+\"\\n\")"
   ]
  },
  {
   "cell_type": "markdown",
   "metadata": {},
   "source": [
    "Check whether after filtering 10 percent of the cells the indices are still fitting"
   ]
  },
  {
   "cell_type": "code",
   "execution_count": 61,
   "metadata": {},
   "outputs": [],
   "source": [
    "k = 4"
   ]
  },
  {
   "cell_type": "code",
   "execution_count": 62,
   "metadata": {},
   "outputs": [
    {
     "data": {
      "text/plain": [
       "<matplotlib.collections.PathCollection at 0x7f6da69fb400>"
      ]
     },
     "execution_count": 62,
     "metadata": {},
     "output_type": "execute_result"
    },
    {
     "data": {
      "image/png": "[encoded data removed]",
      "text/plain": [
       "<Figure size 432x288 with 1 Axes>"
      ]
     },
     "metadata": {
      "needs_background": "light"
     },
     "output_type": "display_data"
    }
   ],
   "source": [
    "run_path = fr'/storage/md_keren/shitay/outputs/clustering/robustness_analysis_clustering/runs/{k}/10.pkl'\n",
    "\n",
    "umap_path = r'/storage/md_keren/shitay/outputs/UMAP/UMAP_cohort_immune_o.315var.pkl'\n",
    "\n",
    "umap_embedded = pickle.load(open(umap_path, 'rb'))\n",
    "run = pickle.load(open(run_path, 'rb'))\n",
    "\n",
    "umap_cells = umap_embedded[run['sample_indices']]\n",
    "# run.\n",
    "# len(flatten_list(run['clusters']))\n",
    "colors = np.zeros(umap_cells.shape[0])\n",
    "for idx, cluster in enumerate(run['clusters']):\n",
    "    for cell in cluster:\n",
    "        colors[cell] = idx\n",
    "plt.pyplot.scatter(umap_cells[:, 0], umap_cells[:, 1], c=colors)"
   ]
  },
  {
   "cell_type": "code",
   "execution_count": 63,
   "metadata": {},
   "outputs": [
    {
     "data": {
      "text/plain": [
       "<matplotlib.collections.PathCollection at 0x7f6da511c4a8>"
      ]
     },
     "execution_count": 63,
     "metadata": {},
     "output_type": "execute_result"
    },
    {
     "data": {
      "image/png": "[encoded data removed]",
      "text/plain": [
       "<Figure size 432x288 with 1 Axes>"
      ]
     },
     "metadata": {
      "needs_background": "light"
     },
     "output_type": "display_data"
    }
   ],
   "source": [
    "## regular\n",
    "\n",
    "kmeans_path = fr'/storage/md_keren/shitay/outputs/clustering/kmeans/row_kmeans/kmeans_immune_cells_var0.315_k_{k}.pkl'\n",
    "umap_cells = umap_embedded[:]\n",
    "# run.\n",
    "# len(flatten_list(run['clusters']))\n",
    "colors = np.zeros(umap_cells.shape[0])\n",
    "for idx, cluster in enumerate(pickle.load(open(kmeans_path, 'rb'))['clusters']):\n",
    "    for cell in cluster:\n",
    "        colors[cell] = idx\n",
    "plt.pyplot.scatter(umap_cells[:, 0], umap_cells[:, 1], c=colors)"
   ]
  },
  {
   "cell_type": "code",
   "execution_count": null,
   "metadata": {},
   "outputs": [],
   "source": [
    "\n"
   ]
  },
  {
   "cell_type": "code",
   "execution_count": null,
   "metadata": {},
   "outputs": [],
   "source": []
  },
  {
   "cell_type": "code",
   "execution_count": null,
   "metadata": {},
   "outputs": [],
   "source": []
  }
 ],
 "metadata": {
  "kernelspec": {
   "display_name": "Python 3",
   "language": "python",
   "name": "python3"
  },
  "language_info": {
   "codemirror_mode": {
    "name": "ipython",
    "version": 3
   },
   "file_extension": ".py",
   "mimetype": "text/x-python",
   "name": "python",
   "nbconvert_exporter": "python",
   "pygments_lexer": "ipython3",
   "version": "3.8.3"
  }
 },
 "nbformat": 4,
 "nbformat_minor": 4
}
