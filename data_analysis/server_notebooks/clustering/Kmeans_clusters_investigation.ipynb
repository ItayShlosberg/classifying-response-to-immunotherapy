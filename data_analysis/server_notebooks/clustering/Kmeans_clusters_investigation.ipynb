{
 "cells": [
  {
   "cell_type": "markdown",
   "metadata": {},
   "source": [
    "# Kmeans cluster investigation\n",
    "This NB contains the following analysis:\n",
    "\n",
    "##### Clusters size\n",
    "Present how many cells there are in clusters\n",
    "\n",
    "##### Barcode documentation\n",
    "Creates excel dispalying for each barcode its cluster\n",
    "\n",
    "##### Cluster content\n",
    "- Part1: \n",
    "looks at the expression levels of known markers (given cell-type) of specific clusters.\n",
    " looks for number of mye&lymph conflicts in specified cluster.\n",
    "- Part2: compares expression levels across all genes between two specified clusters.\n",
    "\n",
    "##### Diffrential expression of Immune/fibroblast markers\n",
    "- given cell-type/markers print boxplot of distribution for all clusters\n",
    "\n",
    "##### Clusters contaminated with fibroblast markers\n",
    "- Part1: Loads cohort file and kmeans file (should be compatible!!!)\n",
    "- Part2: shows amount of cells expressing fibroblast markers in cluster\n",
    "- Part3: builds a DF for use_inferCNV_clustering_to_update_data.py\n",
    "\n",
    "##### Finds markers of a given cluster\n",
    "mediate marker definition. lower thresholds etc.\n",
    "\n",
    "##### Immune cells fib exploration\n",
    "The number of immune cells expressing each number of fibroblast markers"
   ]
  },
  {
   "cell_type": "code",
   "execution_count": 3,
   "metadata": {},
   "outputs": [],
   "source": [
    "# ------- SERVER EXTENSIONS ---------\n",
    "lib =  r'/srv01/technion/shitay/Code/classifying_response_to_immunotherapy/utilities/droplet_dataset'\n",
    "lib2 = r'/srv01/technion/shitay/Code/classifying_response_to_immunotherapy/utilities'\n",
    "lib3 = r'/srv01/technion/shitay/Code/classifying_response_to_immunotherapy/data_analysis'\n",
    "lib4 = r'/srv01/technion/shitay/Code/classifying_response_to_immunotherapy'\n",
    "lib5 = r'/srv01/technion/shitay/Code/classifying_response_to_immunotherapy/scripts'\n",
    "lib6 = r'/srv01/technion/shitay/Code/classifying_response_to_immunotherapy/scripts/preprocess_data'\n",
    "import sys\n",
    "sys.path.append(lib)\n",
    "sys.path.append(lib2)\n",
    "sys.path.append(lib3)\n",
    "sys.path.append(lib4)\n",
    "sys.path.append(lib5)\n",
    "sys.path.append(lib6)\n",
    "from classifying_cell_types import *\n",
    "from utilities.general_helpers import *\n",
    "# ------- SERVER EXTENSIONS ---------\n",
    "import numpy as np\n",
    "import pandas as pd\n",
    "import scipy\n",
    "import sklearn\n",
    "from sklearn.manifold import TSNE\n",
    "from utilities.ML_environment import find_marker_genes_in_cluster\n",
    "import pickle\n",
    "# from Bio.Cluster import kcluster\n",
    "# from Bio.Cluster import kcluster\n",
    "# import pyclustering\n",
    "from utilities.ML_environment import find_marker_genes_in_cluster\n",
    "import os\n",
    "import numpy as np\n",
    "import yaml\n",
    "from os.path import join\n",
    "import os\n",
    "import pandas\n",
    "from collections import Counter\n",
    "from sklearn.cluster import KMeans\n",
    "import matplotlib.pyplot as plt\n",
    "# from sklearn.metrics import confusion_matrix, ConfusionMatrixDisplay\n",
    "import sys\n",
    "import seaborn as sns\n",
    "# import statsmodels as sm\n",
    "import scipy.stats as stats\n",
    "from scipy.stats import rankdata\n",
    "from sklearn.manifold import TSNE\n",
    "import pickle\n",
    "import numpy as np\n",
    "from utilities.general_helpers import flatten_list\n",
    "# from utilities.ML_environment import find_marker_genes_in_cluster\n",
    "from shutil import copyfile\n",
    "import matplotlib.pyplot as plt"
   ]
  },
  {
   "cell_type": "markdown",
   "metadata": {},
   "source": [
    "# Clusters size\n",
    "\n",
    "- Present how many cells there are in clusters"
   ]
  },
  {
   "cell_type": "code",
   "execution_count": 41,
   "metadata": {},
   "outputs": [],
   "source": [
    "KMEANS_PATH = fr'/storage/md_keren/shitay/outputs/clustering/kmeans/26.6.21/row_kmeans'\n",
    "KMEANS_FILE_NAME = f'kmeans_immune_cells_4k_genes_k' # ENDS WITH _i.pkl for i in range(2, 15)\n",
    "\n",
    "clusters_size = []\n",
    "first_k=2\n",
    "last_k=15\n",
    "\n",
    "\n",
    "for K in range(first_k, last_k+1):\n",
    "    file_full_path = join(KMEANS_PATH, KMEANS_FILE_NAME+f'_{K}.pkl')\n",
    "    kmeans_file = pickle.load(open(file_full_path, 'rb'))\n",
    "    clusters_indices = kmeans_file['clusters']\n",
    "\n",
    "\n",
    "    clusters_size.append([len(cluster) for idx, cluster in enumerate(clusters_indices)])\n",
    "df = pd.DataFrame(clusters_size)\n",
    "df.index = [f'K={v}' for v in range(first_k, last_k+1)]\n",
    "df = df.T\n",
    "df.index = [v for v in range(1, last_k+1)]\n",
    "\n",
    "# df"
   ]
  },
  {
   "cell_type": "code",
   "execution_count": 43,
   "metadata": {},
   "outputs": [],
   "source": [
    "df.to_excel(f'/storage/md_keren/shitay/outputs/clustering/kmeans/26.6.21/clusters_size.xlsx')"
   ]
  },
  {
   "cell_type": "markdown",
   "metadata": {},
   "source": [
    "# Barcode documentation"
   ]
  },
  {
   "cell_type": "code",
   "execution_count": 6,
   "metadata": {},
   "outputs": [],
   "source": [
    "FILTERED_CELLS_PATH = r'/storage/md_keren/shitay/Data/droplet_seq/cohort/normalized/6.21/cohort_normalized_26.6.21.pkl'\n",
    "KMEANS_ROW_CLUSTERS_PATH = r'/storage/md_keren/shitay/outputs/clustering/kmeans/26.6.21/row_kmeans'\n",
    "KMEANS_FILE_NAME = r'kmeans_immune_cells_4k_genes'  # excluding the suffix: '_k_num.pkl'"
   ]
  },
  {
   "cell_type": "code",
   "execution_count": 7,
   "metadata": {},
   "outputs": [
    {
     "name": "stdout",
     "output_type": "stream",
     "text": [
      "Loading cohort file:\n",
      "/storage/md_keren/shitay/Data/droplet_seq/cohort/normalized/6.21/cohort_normalized_26.6.21.pkl\n"
     ]
    }
   ],
   "source": [
    "print(f'Loading cohort file:\\n{FILTERED_CELLS_PATH}')\n",
    "cohort = pickle.load(open(FILTERED_CELLS_PATH, 'rb'))\n",
    "filtered_cells = cohort.filter_cells_by_property('is_immune', True)"
   ]
  },
  {
   "cell_type": "code",
   "execution_count": 8,
   "metadata": {},
   "outputs": [
    {
     "name": "stdout",
     "output_type": "stream",
     "text": [
      "Loading kmeans file:\n",
      "/storage/md_keren/shitay/outputs/clustering/kmeans/26.6.21/row_kmeans/kmeans_immune_cells_4k_genes_k_15.pkl\n"
     ]
    }
   ],
   "source": [
    "K = 15\n",
    "kmeans_file_path = join(KMEANS_ROW_CLUSTERS_PATH, KMEANS_FILE_NAME + f'_k_{K}.pkl')\n",
    "print(f'Loading kmeans file:\\n{kmeans_file_path}')\n",
    "clusters = pickle.load(open(kmeans_file_path, 'rb'))['clusters']"
   ]
  },
  {
   "cell_type": "code",
   "execution_count": 10,
   "metadata": {},
   "outputs": [],
   "source": [
    "clusters_cells = [filtered_cells[cluster_indices] for cluster_indices in clusters]"
   ]
  },
  {
   "cell_type": "code",
   "execution_count": 33,
   "metadata": {},
   "outputs": [],
   "source": [
    "# [cls.number_of_cells for cls in clusters_cells]"
   ]
  },
  {
   "cell_type": "code",
   "execution_count": 31,
   "metadata": {},
   "outputs": [
    {
     "name": "stdout",
     "output_type": "stream",
     "text": [
      "cluster 2 contains 2 cells (less than 30 cells) and therefore excluded from DF\n",
      "cluster 6 contains 3 cells (less than 30 cells) and therefore excluded from DF\n",
      "cluster 9 contains 1 cells (less than 30 cells) and therefore excluded from DF\n",
      "cluster 13 contains 1 cells (less than 30 cells) and therefore excluded from DF\n"
     ]
    }
   ],
   "source": [
    "df = pd.DataFrame(columns=['Sample', 'Barcode', 'Cluster'])\n",
    "\n",
    "# [cls.number_of_cells for cls in clusters_cells]\n",
    "for idx, cls in enumerate(clusters_cells):  \n",
    "    if cls.number_of_cells > 30:\n",
    "        df = df.append(pd.DataFrame(transpose_list([cls.samples, cls.barcodes, [idx+1]*cls.number_of_cells]), columns=df.columns))\n",
    "    else:\n",
    "        print(f'cluster {idx+1} contains {cls.number_of_cells} cells (less than 30 cells) and therefore excluded from DF')\n",
    "df = df.reset_index()"
   ]
  },
  {
   "cell_type": "code",
   "execution_count": 32,
   "metadata": {},
   "outputs": [],
   "source": [
    "df.to_csv(r'/storage/md_keren/shitay/garbage/immune_kmeans_26.6.21_clusters_mapping.csv', index=False)"
   ]
  },
  {
   "cell_type": "markdown",
   "metadata": {},
   "source": [
    "# Cluster content"
   ]
  },
  {
   "cell_type": "markdown",
   "metadata": {},
   "source": [
    "###### (MUST) Data path (uploading):"
   ]
  },
  {
   "cell_type": "code",
   "execution_count": 2,
   "metadata": {},
   "outputs": [
    {
     "name": "stdout",
     "output_type": "stream",
     "text": [
      "Important Note: you are uploading cohort file and kmeans file. Make sure they are compatible\n"
     ]
    }
   ],
   "source": [
    "print(\"Important Note: you are uploading cohort file and kmeans file. Make sure they are compatible\")\n",
    "KMEANS_PATH = fr'/storage/md_keren/shitay/outputs/clustering/kmeans/row_kmeans'\n",
    "\n",
    "filtered_cells_path = r'/storage/md_keren/shitay/Data/droplet_seq/cohort/normalized/6.21/cohort_normalized_10.6.21.pkl'\n",
    "cohort = pickle.load(open(filtered_cells_path, 'rb'))\n",
    "filtered_cells = cohort[cohort.cells_information.getattr('is_immune')]\n",
    "\n",
    "# empty_barcodes_path = r'/storage/md_keren/shitay/outputs/CellBender/empty_droplets_barcodes.csv'\n",
    "# empty_barcodes_df = pd.read_csv(empty_barcodes_path)"
   ]
  },
  {
   "cell_type": "markdown",
   "metadata": {},
   "source": [
    "Extracts wanted cluster:"
   ]
  },
  {
   "cell_type": "code",
   "execution_count": 4,
   "metadata": {},
   "outputs": [
    {
     "name": "stdout",
     "output_type": "stream",
     "text": [
      "K = 11\n",
      "cluster idx: 7\n"
     ]
    }
   ],
   "source": [
    "# Extract kmeans solution (K) and cluster (cls_idx) \n",
    "K = 11\n",
    "cls_idx = 7\n",
    "path = join(KMEANS_PATH, f'kmeans_immune_cells_var0.315_k_{K}.pkl')\n",
    "kmeans = pickle.load(open(path, 'rb'))\n",
    "print(f'K = {K}')\n",
    "print(f'cluster idx: {cls_idx}')\n",
    "\n",
    "cluster_cells = filtered_cells[kmeans['clusters'][cls_idx-1]]"
   ]
  },
  {
   "cell_type": "markdown",
   "metadata": {},
   "source": [
    "Prints how many cell having a mye & lymph conflict:"
   ]
  },
  {
   "cell_type": "code",
   "execution_count": 5,
   "metadata": {},
   "outputs": [
    {
     "name": "stdout",
     "output_type": "stream",
     "text": [
      "number of cell in cluster: 7587\n",
      "number of mye&lymph-conflict cells: 38\n"
     ]
    }
   ],
   "source": [
    "mye = np.array([cluster_cells.cells_information.getattr('is_myeloid')])\n",
    "lym = np.array([cluster_cells.cells_information.getattr('is_lymphoid')])\n",
    "# np.concatenate((mye, lym), axis=0)\n",
    "print(f'number of cell in cluster: {cluster_cells.number_of_cells}')\n",
    "print(f'number of mye&lymph-conflict cells: {np.sum(mye & lym )}')"
   ]
  },
  {
   "cell_type": "markdown",
   "metadata": {},
   "source": [
    "Prints cell-types in the given cluster that have been found during marker classification process:"
   ]
  },
  {
   "cell_type": "code",
   "execution_count": 6,
   "metadata": {},
   "outputs": [
    {
     "name": "stdout",
     "output_type": "stream",
     "text": [
      "Cell-types shown in cluster 7, K=11:\n"
     ]
    },
    {
     "data": {
      "text/plain": [
       "[('Immune_general', 3727),\n",
       " ('Neutrophils', 3411),\n",
       " ('Granolocytes', 1952),\n",
       " ('B cells', 290),\n",
       " ('T cells', 237),\n",
       " ('CD8 Cytotoxic T cells', 82),\n",
       " ('Exhausted T cells', 66),\n",
       " ('myeloid cells_general_mature', 57),\n",
       " ('cDCs_dendritic_cells', 56),\n",
       " ('CD4 helper T cells', 41),\n",
       " ('NKT cells', 29),\n",
       " ('myeloid cells_general_immature', 17),\n",
       " ('pDCs', 15),\n",
       " ('Activated T cells', 14),\n",
       " ('Memory CD8 T cells', 11),\n",
       " ('Monocyte_mature', 9),\n",
       " ('Macrophage_mature', 7),\n",
       " ('Regulatory T cells', 7),\n",
       " ('Memory CD4 T cells', 6),\n",
       " ('NK cells', 4),\n",
       " ('Regulatory CD4 T cells', 3),\n",
       " ('Memory T cells', 2),\n",
       " ('Monocyte_immature', 1)]"
      ]
     },
     "execution_count": 6,
     "metadata": {},
     "output_type": "execute_result"
    }
   ],
   "source": [
    "print(f'Cell-types shown in cluster {cls_idx}, K={K}:')\n",
    "sorted(Counter(flatten_list(cluster_cells.cells_information.getattr('cell_type_list'))).items(), key=lambda x: x[1], reverse=True)"
   ]
  },
  {
   "cell_type": "markdown",
   "metadata": {},
   "source": [
    "Takes neutrophils markers and show expression levels of cells in cluster:"
   ]
  },
  {
   "cell_type": "code",
   "execution_count": 8,
   "metadata": {},
   "outputs": [
    {
     "name": "stdout",
     "output_type": "stream",
     "text": [
      "take neutrophils markers and show expression levels of cells in cluster\n"
     ]
    },
    {
     "data": {
      "text/html": [
       "<div>\n",
       "<style scoped>\n",
       "    .dataframe tbody tr th:only-of-type {\n",
       "        vertical-align: middle;\n",
       "    }\n",
       "\n",
       "    .dataframe tbody tr th {\n",
       "        vertical-align: top;\n",
       "    }\n",
       "\n",
       "    .dataframe thead th {\n",
       "        text-align: right;\n",
       "    }\n",
       "</style>\n",
       "<table border=\"1\" class=\"dataframe\">\n",
       "  <thead>\n",
       "    <tr style=\"text-align: right;\">\n",
       "      <th></th>\n",
       "      <th>Sample</th>\n",
       "      <th>Barcode</th>\n",
       "      <th>FUT4</th>\n",
       "      <th>FCGR3B</th>\n",
       "      <th>CXCR1</th>\n",
       "      <th>CXCR2</th>\n",
       "      <th>G0S2</th>\n",
       "      <th>CSF3R</th>\n",
       "      <th>FCGR3A</th>\n",
       "    </tr>\n",
       "  </thead>\n",
       "  <tbody>\n",
       "    <tr>\n",
       "      <th>0</th>\n",
       "      <td>M100</td>\n",
       "      <td>TCTATTGGTAAGTGTA-1</td>\n",
       "      <td>0.92</td>\n",
       "      <td>0.0</td>\n",
       "      <td>0.0</td>\n",
       "      <td>0.0</td>\n",
       "      <td>0.0</td>\n",
       "      <td>0.0</td>\n",
       "      <td>0.0</td>\n",
       "    </tr>\n",
       "    <tr>\n",
       "      <th>1</th>\n",
       "      <td>M101</td>\n",
       "      <td>AAACCTGAGCGTAATA-1</td>\n",
       "      <td>1.19</td>\n",
       "      <td>0.0</td>\n",
       "      <td>0.0</td>\n",
       "      <td>0.0</td>\n",
       "      <td>0.0</td>\n",
       "      <td>0.0</td>\n",
       "      <td>0.0</td>\n",
       "    </tr>\n",
       "  </tbody>\n",
       "</table>\n",
       "</div>"
      ],
      "text/plain": [
       "  Sample             Barcode  FUT4  FCGR3B  CXCR1  CXCR2  G0S2  CSF3R  FCGR3A\n",
       "0   M100  TCTATTGGTAAGTGTA-1  0.92     0.0    0.0    0.0   0.0    0.0     0.0\n",
       "1   M101  AAACCTGAGCGTAATA-1  1.19     0.0    0.0    0.0   0.0    0.0     0.0"
      ]
     },
     "execution_count": 8,
     "metadata": {},
     "output_type": "execute_result"
    }
   ],
   "source": [
    "print('take neutrophils markers and show expression levels of cells in cluster')\n",
    "neutrophils_markers = 'FUT4;FCGR3B;CXCR1;CXCR2;G0S2;CSF3R;FCGR3A'\n",
    "neutrophils_markers = neutrophils_markers.split(';')\n",
    "gene_idx = [cluster_cells.gene_names.index(marker) for marker in neutrophils_markers if marker in cluster_cells.gene_names]\n",
    "neu_cells = cluster_cells[['Neutrophils' in vv for vv in cluster_cells.cells_information.getattr('cell_type_list')]]\n",
    "\n",
    "ll= list(zip(neu_cells.samples,neu_cells.barcodes))#\n",
    "values = [list(map(list, zip(neu_cells.samples,neu_cells.barcodes)))[i] + neu_cells.counts[:, gene_idx].round(2).tolist()[i] for i in range(len(ll))]\n",
    "columns = ['Sample', 'Barcode']+[neu_cells.gene_names[idx] for idx in gene_idx]\n",
    "df = pd.DataFrame(values, columns=columns).sort_values(['Sample', 'Barcode'])\n",
    "df.head(2)"
   ]
  },
  {
   "cell_type": "markdown",
   "metadata": {},
   "source": [
    "Remove comment if you want to remove the DF:"
   ]
  },
  {
   "cell_type": "code",
   "execution_count": 9,
   "metadata": {},
   "outputs": [],
   "source": [
    "# df.to_csv(r'/storage/md_keren/shitay/garbage/cluster9_k11.csv', index=False)"
   ]
  },
  {
   "cell_type": "markdown",
   "metadata": {},
   "source": [
    "Shows the number of neutrophil markers, the identified neutrophil cells express:"
   ]
  },
  {
   "cell_type": "code",
   "execution_count": 10,
   "metadata": {},
   "outputs": [
    {
     "name": "stdout",
     "output_type": "stream",
     "text": [
      "Number of neutrophil markers, the identified neutrophil cells express (cluster #9 in k=11):\n"
     ]
    },
    {
     "data": {
      "text/plain": [
       "{'n_cells express 1 markers': 3257,\n",
       " 'n_cells express 2 markers': 144,\n",
       " 'n_cells express 3 markers': 6,\n",
       " 'n_cells express 5 markers': 3,\n",
       " 'n_cells express 6 markers': 1}"
      ]
     },
     "execution_count": 10,
     "metadata": {},
     "output_type": "execute_result"
    }
   ],
   "source": [
    "print('Number of neutrophil markers, the identified neutrophil cells express (cluster #9 in k=11):')\n",
    "dic = sorted(dict(Counter(np.sum(neu_cells.counts[:, gene_idx]!=0, axis=1))).items())\n",
    "{f'n_cells express {x} markers': y for x,y in dic}"
   ]
  },
  {
   "cell_type": "markdown",
   "metadata": {},
   "source": [
    "Shoes neutrophil markers expression distribution:"
   ]
  },
  {
   "cell_type": "code",
   "execution_count": 11,
   "metadata": {},
   "outputs": [
    {
     "name": "stdout",
     "output_type": "stream",
     "text": [
      "Neutrophil markers expression distribution:\n"
     ]
    },
    {
     "data": {
      "image/png": "[encoded data removed]",
      "text/plain": [
       "<Figure size 432x288 with 1 Axes>"
      ]
     },
     "metadata": {
      "needs_background": "light"
     },
     "output_type": "display_data"
    }
   ],
   "source": [
    "print('Neutrophil markers expression distribution:')\n",
    "arr = neu_cells.counts[:, gene_idx].flatten()\n",
    "arr = arr[arr!=0]\n",
    "annotate_boxplot(pd.DataFrame(arr).boxplot(whis=[5, 95], return_type='dict'), arr)"
   ]
  },
  {
   "cell_type": "markdown",
   "metadata": {},
   "source": [
    "###### 2. Conducts a comparison across all genes of 2 specified clusters: "
   ]
  },
  {
   "cell_type": "code",
   "execution_count": 4,
   "metadata": {},
   "outputs": [
    {
     "name": "stdout",
     "output_type": "stream",
     "text": [
      "Conducting a comparison:\n",
      "First cluster:\n",
      "K = 11\n",
      "cluster_idx: 7\n",
      "Number of cells: 7587\n",
      "\n",
      "Second cluster:\n",
      "K = 11\n",
      "cluster_idx: 9\n",
      "Number of cells: 2883\n"
     ]
    }
   ],
   "source": [
    "# Extract kmeans solution (K) and cluster (cls_idx) \n",
    "K_solution_1 = 11\n",
    "cluster_idx_1 = 7\n",
    "\n",
    "K_solution_2 = 11\n",
    "cluster_idx_2 = 9\n",
    "\n",
    "print(f'Conducting a comparison:')\n",
    "path = join(KMEANS_PATH, f'kmeans_immune_cells_var0.315_k_{K_solution_1}.pkl')\n",
    "kmeans = pickle.load(open(path, 'rb'))\n",
    "cluster_1_cells = filtered_cells[kmeans['clusters'][cluster_idx_1-1]]\n",
    "print('First cluster:')\n",
    "print(f'K = {K_solution_1}')\n",
    "print(f'cluster_idx: {cluster_idx_1}')\n",
    "print(f'Number of cells: {cluster_1_cells.number_of_cells}')\n",
    "\n",
    "\n",
    "path = join(KMEANS_PATH, f'kmeans_immune_cells_var0.315_k_{K_solution_2}.pkl')\n",
    "kmeans = pickle.load(open(path, 'rb'))\n",
    "cluster_2_cells = filtered_cells[kmeans['clusters'][cluster_idx_2-1]]\n",
    "print('\\nSecond cluster:')\n",
    "print(f'K = {K_solution_2}')\n",
    "print(f'cluster_idx: {cluster_idx_2}')\n",
    "print(f'Number of cells: {cluster_2_cells.number_of_cells}')"
   ]
  },
  {
   "cell_type": "code",
   "execution_count": 5,
   "metadata": {},
   "outputs": [
    {
     "name": "stdout",
     "output_type": "stream",
     "text": [
      "Number of cells in cluster 7587\n",
      "Number of cells in sub-cluster 3411\n"
     ]
    }
   ],
   "source": [
    "# get subset of the cluster\n",
    "\n",
    "print(f'Number of cells in cluster {cluster_1_cells.number_of_cells}')\n",
    "neutrophils_markers = 'FUT4;FCGR3B;CXCR1;CXCR2;G0S2;CSF3R;FCGR3A'\n",
    "neutrophils_markers = neutrophils_markers.split(';')\n",
    "gene_idx = [cluster_1_cells.gene_names.index(marker) for marker in neutrophils_markers if marker in cluster_1_cells.gene_names]\n",
    "sub_cluster_1_cells = cluster_1_cells[['Neutrophils' in vv for vv in cluster_1_cells.cells_information.getattr('cell_type_list')]]\n",
    "print(f'Number of cells in sub-cluster {sub_cluster_1_cells.number_of_cells}')\n",
    "# Counter(cluster_1_cells.samples)"
   ]
  },
  {
   "cell_type": "markdown",
   "metadata": {},
   "source": [
    "Remove comment if you want to see counter of samples in given cluster"
   ]
  },
  {
   "cell_type": "code",
   "execution_count": 19,
   "metadata": {},
   "outputs": [],
   "source": [
    "# Counter(cluster_1_cells.samples)\n",
    "# print(cluster_1_cells.number_of_cells)\n"
   ]
  },
  {
   "cell_type": "markdown",
   "metadata": {},
   "source": [
    "Runs find_marker_genes_in_cluster using log_FC_threshold=-1000 means that there will be no filter of the direction of the marker, \n",
    "we will get highly expressed genes of cluster1 compared to cluster2 and vise versa."
   ]
  },
  {
   "cell_type": "code",
   "execution_count": 5,
   "metadata": {},
   "outputs": [],
   "source": [
    "comparison_res = find_marker_genes_in_cluster(cluster_1_cells, cluster_2_cells, log_FC_threshold=-1000, pval_threshold=0.05)"
   ]
  },
  {
   "cell_type": "markdown",
   "metadata": {},
   "source": [
    "Saves results"
   ]
  },
  {
   "cell_type": "code",
   "execution_count": 18,
   "metadata": {},
   "outputs": [],
   "source": [
    "comparison_res = comparison_res.rename(columns={\"contaminated - mean_expression\": \"contaminated cells - mean_expression\",\n",
    "                        \"cluster 9\": \"cluster 9 - mean_expression\"})\n",
    "# comparison_res.to_csv(r'/storage/md_keren/shitay/garbage/k11_gene_comparison_with_contaminated.csv', index=False)"
   ]
  },
  {
   "cell_type": "code",
   "execution_count": 20,
   "metadata": {},
   "outputs": [],
   "source": [
    "comparison_res.drop(columns=['n_expressing_cells__cls1 > n_expressing_cells__cls2']).to_csv(r'/storage/md_keren/shitay/garbage/k11_gene_comparison_with_contaminated.csv', index=False)"
   ]
  },
  {
   "cell_type": "code",
   "execution_count": 25,
   "metadata": {},
   "outputs": [],
   "source": [
    "comparison_res[['features', 'gene names', 'corected_pval', 'log_FC', 'contaminated cells - mean_expression',\n",
    "       'cluster 9 - mean_expression']].to_csv(r'/storage/md_keren/shitay/garbage/k11_gene_comparison_with_contaminated.csv', index=False)"
   ]
  },
  {
   "cell_type": "markdown",
   "metadata": {},
   "source": [
    "# Diffrential expression of Immune/fibroblast markers \n",
    "* given cell-type/markers print boxplot of distribution of all clusters"
   ]
  },
  {
   "cell_type": "code",
   "execution_count": 51,
   "metadata": {},
   "outputs": [],
   "source": [
    "FILTERED_CELLS_PATH = r'/storage/md_keren/shitay/Data/droplet_seq/cohort/normalized/6.21/cohort_normalized_10.6.21.pkl'\n",
    "KMEANS_ROW_CLUSTERS_PATH = r'/storage/md_keren/shitay/outputs/clustering/kmeans/24.5.21/row_kmeans'\n",
    "KMEANS_FILE_NAME = r'kmeans_immune_cells_4k_genes'  # excluding the suffix: '_k_num.pkl'"
   ]
  },
  {
   "cell_type": "markdown",
   "metadata": {},
   "source": [
    "#### Loads cohort file"
   ]
  },
  {
   "cell_type": "code",
   "execution_count": 52,
   "metadata": {},
   "outputs": [
    {
     "name": "stdout",
     "output_type": "stream",
     "text": [
      "Loading cohort file:\n",
      "/storage/md_keren/shitay/Data/droplet_seq/cohort/normalized/6.21/cohort_normalized_10.6.21.pkl\n"
     ]
    }
   ],
   "source": [
    "print(f'Loading cohort file:\\n{FILTERED_CELLS_PATH}')\n",
    "cohort = pickle.load(open(FILTERED_CELLS_PATH, 'rb'))\n",
    "filtered_cells = cohort.filter_cells_by_property('is_immune', True)"
   ]
  },
  {
   "cell_type": "markdown",
   "metadata": {},
   "source": [
    "#### Loads kmeans file. Should be compatible with cohort file"
   ]
  },
  {
   "cell_type": "code",
   "execution_count": 53,
   "metadata": {},
   "outputs": [
    {
     "name": "stdout",
     "output_type": "stream",
     "text": [
      "Loading kmeans file:\n",
      "/storage/md_keren/shitay/outputs/clustering/kmeans/24.5.21/row_kmeans/kmeans_immune_cells_4k_genes_k_7.pkl\n"
     ]
    }
   ],
   "source": [
    "K = 7\n",
    "kmeans_file_path = join(KMEANS_ROW_CLUSTERS_PATH, KMEANS_FILE_NAME + f'_k_{K}.pkl')\n",
    "print(f'Loading kmeans file:\\n{kmeans_file_path}')\n",
    "clusters = pickle.load(open(kmeans_file_path, 'rb'))['clusters']"
   ]
  },
  {
   "cell_type": "markdown",
   "metadata": {},
   "source": [
    "#### split clusters and present the number of cells in each of them"
   ]
  },
  {
   "cell_type": "code",
   "execution_count": 54,
   "metadata": {},
   "outputs": [
    {
     "name": "stdout",
     "output_type": "stream",
     "text": [
      "[(1, 14783), (2, 5931), (3, 9415), (4, 12368), (5, 16035), (6, 12280), (7, 12849)]\n"
     ]
    }
   ],
   "source": [
    "clusters_cells = [filtered_cells[indices] for indices in clusters]\n",
    "print([(idx+1, v.number_of_cells) for idx, v in enumerate(clusters_cells)])"
   ]
  },
  {
   "cell_type": "markdown",
   "metadata": {},
   "source": [
    "#### Loads markers of cell-types from table\n",
    "immune from excel and tumor and stromal as we defined without a file"
   ]
  },
  {
   "cell_type": "code",
   "execution_count": 55,
   "metadata": {},
   "outputs": [],
   "source": [
    "MARKERS_PATH = r'/storage/md_keren/shitay/Data/tables/ImmuneCellsMarkersUpdated_12.11.20.xlsx'\n",
    "MHC2_GENES = ['HLA-DMA',  'HLA-DMB',  'HLA-DOA',  'HLA-DOB',\n",
    "                      'HLA-DPA1',  'HLA-DPB1',  'HLA-DQA1',  'HLA-DQB1',\n",
    "                      'HLA-DQB2',  'HLA-DRA',  'HLA-DRB1',  'HLA-DRB5']\n",
    "def replace_MHCII_genes(gene):\n",
    "    if gene=='MHCII':\n",
    "        return MHC2_GENES\n",
    "    else:\n",
    "        return gene\n",
    "    \n",
    "xls = pd.ExcelFile(MARKERS_PATH)\n",
    "positive_markers_df = pd.read_excel(xls, 'and_or')\n",
    "negative_markers_df = pd.read_excel(xls, 'none')\n",
    "positive_markers_table = builds_cell_type_markers_table(positive_markers_df)\n",
    "negative_markers_table = builds_cell_type_markers_table(negative_markers_df)\n",
    "cell_types_markers_mapping = {k: [vv.split(';') for vv in v] for k,v in positive_markers_table.items()}\n",
    "cell_types_markers_mapping = {k: flatten_list(v) for k,v in cell_types_markers_mapping.items()}\n",
    "cell_types_markers_mapping = {k: [replace_MHCII_genes(gene) for gene in v] for k,v in cell_types_markers_mapping.items()}\n",
    "cell_types_markers_mapping['tumor'] = ['MLANA', 'PMEL', 'TYR', 'MITF', 'AXL']\n",
    "cell_types_markers_mapping['stromal'] = [g for g in filtered_cells.gene_names if g.startswith('COL1') or g.startswith('COL2') or g.startswith('KRT')]"
   ]
  },
  {
   "cell_type": "markdown",
   "metadata": {},
   "source": [
    "#### Specify cell-types"
   ]
  },
  {
   "cell_type": "code",
   "execution_count": 56,
   "metadata": {},
   "outputs": [
    {
     "name": "stdout",
     "output_type": "stream",
     "text": [
      "Select cell-types from the list below:\n",
      "['T cells', 'CD4 helper T cells', 'CD8 Cytotoxic T cells', 'Regulatory T cells', 'Regulatory CD4 T cells', 'Regulatory CD8 T cells', 'Regulatory CD4_CD8 T cells', 'NKT cells', 'NK cells', 'B cells', 'Activated T cells', 'Senescence T cells', 'Terminal effector', 'Exhausted T cells', 'Stem_like T cells', 'Memory T cells', 'Memory CD4 T cells', 'Memory CD8 T cells', 'Memory CD4_CD8 T cells', 'Macrophage_immature', 'Macrophage_mature', 'Monocyte_immature', 'Monocyte_mature', 'cDCs_dendritic_cells', 'pDCs', 'myeloid cells_general_immature', 'myeloid cells_general_mature', 'Neutrophils', 'Granolocytes', 'Immune_general', 'tumor', 'stromal']\n"
     ]
    }
   ],
   "source": [
    "print(f'Select cell-types from the list below:\\n{list(cell_types_markers_mapping.keys())}')"
   ]
  },
  {
   "cell_type": "code",
   "execution_count": 57,
   "metadata": {},
   "outputs": [],
   "source": [
    "LYMPHOID = ['T cells', 'CD4 helper T cells', 'CD8 Cytotoxic T cells', 'Regulatory T cells', 'Regulatory CD4 T cells', 'Regulatory CD8 T cells', 'Regulatory CD4_CD8 T cells', 'NKT cells', 'NK cells', 'B cells', 'Activated T cells', 'Senescence T cells', 'Terminal effector', 'Exhausted T cells', 'Stem_like T cells', 'Memory T cells', 'Memory CD4 T cells', 'Memory CD8 T cells', 'Memory CD4_CD8 T cells']\n",
    "MYELOID = ['Macrophage_immature', 'Macrophage_mature', 'Monocyte_immature', 'Monocyte_mature', 'cDCs_dendritic_cells', 'pDCs', 'myeloid cells_general_immature', 'myeloid cells_general_mature', 'Neutrophils', 'Granolocytes']\n",
    "\n",
    "# specify here\n",
    "# cell_types = MYELOID# ['T cells', 'CD8 Cytotoxic T cells', 'Macrophage_mature']\n",
    "cell_types =['stromal']"
   ]
  },
  {
   "cell_type": "markdown",
   "metadata": {},
   "source": [
    "#### Calculates expression of the markers of these cell-types"
   ]
  },
  {
   "cell_type": "code",
   "execution_count": 58,
   "metadata": {},
   "outputs": [],
   "source": [
    "df = pd.DataFrame(columns=['expression', 'cluster_idx', 'cell_type', 'marker'])\n",
    "supervised_non_duplication_markers = []\n",
    "for cell_type in cell_types:\n",
    "    for marker_name in cell_types_markers_mapping[cell_type]:\n",
    "        if marker_name in supervised_non_duplication_markers:\n",
    "            continue\n",
    "        else:\n",
    "            supervised_non_duplication_markers.append(marker_name)\n",
    "        for i in range(len(clusters_cells)):\n",
    "            cluster_cells = clusters_cells[i]\n",
    "            if not marker_name in cluster_cells.gene_names:\n",
    "                continue\n",
    "            marker_index = cluster_cells.gene_names.index(marker_name)\n",
    "            cluster_cells.counts[:, marker_index]\n",
    "            df = df.append(pd.DataFrame(np.concatenate([[cluster_cells.counts[:, marker_index]],\n",
    "                                                        [np.ones(cluster_cells.number_of_cells).astype(int)*(i+1)],\n",
    "                                                       [[cell_type]*cluster_cells.number_of_cells],\n",
    "                                                       [[marker_name]*cluster_cells.number_of_cells]], axis=0).T, \n",
    "                                        columns=df.columns))\n",
    "        \n",
    "df['cluster_idx'] = df['cluster_idx'].astype('int32')\n",
    "df['expression'] = df['expression'].astype(np.float32)"
   ]
  },
  {
   "cell_type": "markdown",
   "metadata": {},
   "source": [
    "#### Present marker expression boxplots"
   ]
  },
  {
   "cell_type": "code",
   "execution_count": 59,
   "metadata": {},
   "outputs": [
    {
     "name": "stdout",
     "output_type": "stream",
     "text": [
      "If this value: 176 is bigger than 12, split the next plot into piceses of 12 as writen\n"
     ]
    }
   ],
   "source": [
    "print(f'If this value: {int(len(list(df[\"marker\"].unique())))} is bigger than 12, split the next plot into piceses of 12 as writen')"
   ]
  },
  {
   "cell_type": "code",
   "execution_count": 100,
   "metadata": {},
   "outputs": [
    {
     "data": {
      "text/plain": [
       "<Figure size 1152x720 with 0 Axes>"
      ]
     },
     "metadata": {},
     "output_type": "display_data"
    },
    {
     "data": {
      "image/png": "[encoded data removed]",
      "text/plain": [
       "<Figure size 1296x720 with 12 Axes>"
      ]
     },
     "metadata": {
      "needs_background": "light"
     },
     "output_type": "display_data"
    }
   ],
   "source": [
    "markers_list = list(df['marker'].unique())\n",
    "# markers_list = list(df['marker'].unique())[int(len(list(df['marker'].unique()))/2):] ## split into 2 when there are many markers (more than 12)\n",
    "markers_list = list(df['marker'].unique())[:12] ## Takes first 12 markers (more than 12)\n",
    "\n",
    "plt.figure(figsize=(16,10))\n",
    "# plt.figure(figsize=(16,56))\n",
    "fig, axes = plt.subplots(int(np.ceil(len(markers_list)/3)), 3, figsize=(18, 10))\n",
    "axes = axes.ravel()\n",
    "axes_indices = [(x,y) for x in range(int(np.ceil(len(markers_list)/3))) for y in range(3)]\n",
    "\n",
    "for idx, marker_name in enumerate(markers_list):\n",
    "    \n",
    "    if len(axes.shape)>1:\n",
    "        ax = axes[axes_indices[idx][0], axes_indices[idx][1]]\n",
    "    else:\n",
    "        ax = axes[idx]\n",
    "    \n",
    "    marker_df = df[df['marker']==marker_name]\n",
    "    g = sns.boxplot(ax=ax, x=\"cluster_idx\", y=\"expression\", data=marker_df);\n",
    "    ax.set_title(marker_name)\n",
    "fig.tight_layout()\n",
    "\n",
    "if len(markers_list)%3>0:\n",
    "    for i in range(3-len(markers_list)%3, 0, -1):\n",
    "        axes[-i].remove()"
   ]
  },
  {
   "cell_type": "code",
   "execution_count": 93,
   "metadata": {},
   "outputs": [],
   "source": [
    "fig.savefig(f'/storage/md_keren/shitay/garbage/stromal_marker_expression_distributions_p15.jpg')"
   ]
  },
  {
   "cell_type": "markdown",
   "metadata": {},
   "source": [
    "# Clusters contaminated with fibroblast markers\n",
    "* Part1: Loads cohort file and kmeans file (should be compatible!!!)\n",
    "* Part2: shows amount of cells expressing fibroblast markers in cluster\n",
    "* Part3: builds a DF for use_inferCNV_clustering_to_update_data.py"
   ]
  },
  {
   "cell_type": "markdown",
   "metadata": {},
   "source": [
    "##### Part1: Loads cohort file and kmeans file (should be compatible!!!)"
   ]
  },
  {
   "cell_type": "code",
   "execution_count": 7,
   "metadata": {},
   "outputs": [],
   "source": [
    "FILTERED_CELLS_PATH = r'/storage/md_keren/shitay/Data/droplet_seq/cohort/normalized/6.21/cohort_normalized_10.6.21.pkl'\n",
    "KMEANS_ROW_CLUSTERS_PATH = r'/storage/md_keren/shitay/outputs/clustering/kmeans/24.5.21/row_kmeans'\n",
    "KMEANS_FILE_NAME = r'kmeans_immune_cells_4k_genes'  # excluding the suffix: '_k_num.pkl'\n"
   ]
  },
  {
   "cell_type": "code",
   "execution_count": 9,
   "metadata": {},
   "outputs": [
    {
     "name": "stdout",
     "output_type": "stream",
     "text": [
      "Loading cohort file:\n",
      "/storage/md_keren/shitay/Data/droplet_seq/cohort/normalized/6.21/cohort_normalized_10.6.21.pkl\n",
      "Loading kmeans file:\n",
      "/storage/md_keren/shitay/outputs/clustering/kmeans/24.5.21/row_kmeans/kmeans_immune_cells_4k_genes_k_15.pkl\n"
     ]
    }
   ],
   "source": [
    "K = 15\n",
    "print(f'Loading cohort file:\\n{FILTERED_CELLS_PATH}')\n",
    "cohort = pickle.load(open(FILTERED_CELLS_PATH, 'rb'))\n",
    "filtered_cells = cohort.filter_cells_by_property('is_immune', True)\n",
    "\n",
    "kmeans_file_path = join(KMEANS_ROW_CLUSTERS_PATH, KMEANS_FILE_NAME + f'_k_{K}.pkl')\n",
    "print(f'Loading kmeans file:\\n{kmeans_file_path}')\n",
    "clusters = pickle.load(open(kmeans_file_path, 'rb'))['clusters']\n",
    "\n",
    "# markers = find_markers_in_clusters(filtered_cells, clusters)"
   ]
  },
  {
   "cell_type": "markdown",
   "metadata": {},
   "source": [
    "fib markers start with 'COL1' or 'COL2' or KRT.\n",
    "Lets find them and their location in the sequencing:"
   ]
  },
  {
   "cell_type": "markdown",
   "metadata": {},
   "source": [
    "##### Part2: shows amount of cells expressing fibroblast markers in cluster"
   ]
  },
  {
   "cell_type": "code",
   "execution_count": 10,
   "metadata": {},
   "outputs": [],
   "source": [
    "fib_genes = np.array([[idx, g] for idx, g in enumerate(filtered_cells.gene_names) if g.startswith('COL1') or g.startswith('COL2') or (g.startswith('KRT') and g[3]<='9' and g[3]>='0')])"
   ]
  },
  {
   "cell_type": "code",
   "execution_count": 57,
   "metadata": {},
   "outputs": [
    {
     "name": "stdout",
     "output_type": "stream",
     "text": [
      "The number of cells in cluster 12 expressing each number of fibroblast markers\n",
      "number of cells expressing exactly:\n",
      "{0: 401, 1: 901, 2: 822, 3: 736, 4: 419, 5: 296, 6: 345, 7: 143, 8: 53, 9: 31, 10: 9, 11: 3, 14: 1, 15: 1}\n",
      "\n",
      "4161 (100.0%) cells in cluster express 0 or more fib markers\n",
      "3760 (90.36%) cells in cluster express 1 or more fib markers\n",
      "2859 (68.71%) cells in cluster express 2 or more fib markers\n",
      "2037 (48.95%) cells in cluster express 3 or more fib markers\n",
      "1301 (31.27%) cells in cluster express 4 or more fib markers\n",
      "882 (21.2%) cells in cluster express 5 or more fib markers\n",
      "586 (14.08%) cells in cluster express 6 or more fib markers\n",
      "241 (5.79%) cells in cluster express 7 or more fib markers\n",
      "98 (2.36%) cells in cluster express 8 or more fib markers\n",
      "45 (1.08%) cells in cluster express 9 or more fib markers\n",
      "14 (0.34%) cells in cluster express 10 or more fib markers\n",
      "5 (0.12%) cells in cluster express 11 or more fib markers\n",
      "2 (0.05%) cells in cluster express 12 or more fib markers\n",
      "2 (0.05%) cells in cluster express 13 or more fib markers\n",
      "2 (0.05%) cells in cluster express 14 or more fib markers\n",
      "1 (0.02%) cells in cluster express 15 or more fib markers\n"
     ]
    }
   ],
   "source": [
    "cls_index = 12\n",
    "print(f'The number of cells in cluster {cls_index} expressing each number of fibroblast markers')\n",
    "cluster_cells_indices = clusters[cls_index-1]\n",
    "cluster_cells = filtered_cells[cluster_cells_indices]\n",
    "\n",
    "amount_expressing_fib_dic = sort_dic(dict(Counter(np.sum(cluster_cells.counts[:, fib_genes[:,0].astype(int)]>1, axis=1))))\n",
    "print(f'number of cells expressing exactly:')\n",
    "print(amount_expressing_fib_dic)\n",
    "\n",
    "print()\n",
    "max_markers = np.max(list(amount_expressing_fib_dic.keys()))\n",
    "more_or_equal_dic = {i:0 for i in range(max_markers+1)}\n",
    "for n_fib_genes, amount in amount_expressing_fib_dic.items():\n",
    "    for i in range(n_fib_genes+1):\n",
    "        more_or_equal_dic[i] += amount\n",
    "for i in range(max_markers+1):\n",
    "    print(f'{more_or_equal_dic[i]} ({round(more_or_equal_dic[i]/cluster_cells.number_of_cells*100, 2)}%) cells in cluster express {i} or more fib markers')"
   ]
  },
  {
   "cell_type": "markdown",
   "metadata": {},
   "source": [
    "##### Part3: builds a DF for use_inferCNV_clustering_to_update_data.py"
   ]
  },
  {
   "cell_type": "code",
   "execution_count": 59,
   "metadata": {},
   "outputs": [
    {
     "name": "stdout",
     "output_type": "stream",
     "text": [
      "<class 'pandas.core.frame.DataFrame'>\n",
      "RangeIndex: 4161 entries, 0 to 4160\n",
      "Data columns (total 2 columns):\n",
      " #   Column   Non-Null Count  Dtype \n",
      "---  ------   --------------  ----- \n",
      " 0   sample   4161 non-null   object\n",
      " 1   barcode  4161 non-null   object\n",
      "dtypes: object(2)\n",
      "memory usage: 65.1+ KB\n"
     ]
    }
   ],
   "source": [
    "df = pd.DataFrame(np.array([cluster_cells.samples, cluster_cells.barcodes]).T, columns=['sample', 'barcode'])\n",
    "df.info()"
   ]
  },
  {
   "cell_type": "code",
   "execution_count": 60,
   "metadata": {},
   "outputs": [],
   "source": [
    "save_path = f'/storage/md_keren/shitay/Data/tables/kmeans_conclusion_tables/epithelial_contaminated_cells_kmeans24.5.21_k15_cluster12.csv'\n",
    "df.to_csv(save_path)"
   ]
  },
  {
   "cell_type": "markdown",
   "metadata": {},
   "source": [
    "# Finds markers of a given cluster\n",
    "mediate marker definition. lower thresholds etc."
   ]
  },
  {
   "cell_type": "code",
   "execution_count": 4,
   "metadata": {},
   "outputs": [],
   "source": [
    "FILTERED_CELLS_PATH = r'/storage/md_keren/shitay/Data/droplet_seq/cohort/normalized/6.21/cohort_normalized_26.6.21.pkl'\n",
    "KMEANS_ROW_CLUSTERS_PATH = r'/storage/md_keren/shitay/outputs/clustering/kmeans/26.6.21/row_kmeans'\n",
    "KMEANS_FILE_NAME = r'kmeans_immune_cells_4k_genes'  # excluding the suffix: '_k_num.pkl'"
   ]
  },
  {
   "cell_type": "code",
   "execution_count": 5,
   "metadata": {},
   "outputs": [
    {
     "name": "stdout",
     "output_type": "stream",
     "text": [
      "Loading cohort file:\n",
      "/storage/md_keren/shitay/Data/droplet_seq/cohort/normalized/6.21/cohort_normalized_26.6.21.pkl\n",
      "Loading kmeans file:\n",
      "/storage/md_keren/shitay/outputs/clustering/kmeans/26.6.21/row_kmeans/kmeans_immune_cells_4k_genes_k_15.pkl\n"
     ]
    }
   ],
   "source": [
    "K = 15\n",
    "print(f'Loading cohort file:\\n{FILTERED_CELLS_PATH}')\n",
    "cohort = pickle.load(open(FILTERED_CELLS_PATH, 'rb'))\n",
    "filtered_cells = cohort.filter_cells_by_property('is_immune', True)\n",
    "\n",
    "kmeans_file_path = join(KMEANS_ROW_CLUSTERS_PATH, KMEANS_FILE_NAME + f'_k_{K}.pkl')\n",
    "print(f'Loading kmeans file:\\n{kmeans_file_path}')\n",
    "clusters = pickle.load(open(kmeans_file_path, 'rb'))['clusters']\n",
    "\n",
    "# markers = find_markers_in_clusters(filtered_cells, clusters)"
   ]
  },
  {
   "cell_type": "markdown",
   "metadata": {},
   "source": [
    "Conducts a statictical test to find marker of a given cluster_idx"
   ]
  },
  {
   "cell_type": "code",
   "execution_count": 6,
   "metadata": {},
   "outputs": [
    {
     "name": "stdout",
     "output_type": "stream",
     "text": [
      "The number of cells in cluster 15 is 5345\n"
     ]
    }
   ],
   "source": [
    "cls_index = 15\n",
    "cluster_cells_indices = clusters[cls_index-1]\n",
    "other_clusters_indices = flatten_list([[ind for ind in cluster_indices] for cluster_idx, cluster_indices in enumerate(clusters) if cluster_idx!=cls_index-1])\n",
    "\n",
    "cluster_cells = filtered_cells[cluster_cells_indices]\n",
    "other_clusters_cells = filtered_cells[other_clusters_indices]\n",
    "print(f'The number of cells in cluster {cls_index} is {cluster_cells.number_of_cells}')"
   ]
  },
  {
   "cell_type": "code",
   "execution_count": 7,
   "metadata": {},
   "outputs": [],
   "source": [
    "# other_clusters_cells.number_of_cells + cluster_cells.number_of_cells - filtered_cells.number_of_cells # sanity check\n",
    "# df = find_marker_genes_in_cluster(cluster_cells, other_clusters_cells, log_FC_threshold = 0.25, pval_threshold=0.05, min_pct=0.1, min_diff_pct=0.1)\n",
    "\n",
    "df2 = find_marker_genes_in_cluster(cluster_cells, other_clusters_cells, log_FC_threshold = 0.25, pval_threshold=0.05, min_pct=0.1, min_diff_pct=0.06)\n",
    "df2.sort_values('%expressing_diff', ascending=False, ignore_index=True)"
   ]
  },
  {
   "cell_type": "code",
   "execution_count": 16,
   "metadata": {},
   "outputs": [],
   "source": [
    "df3 = find_marker_genes_in_cluster(cluster_cells, other_clusters_cells, log_FC_threshold = 0.25, pval_threshold=0.05, min_pct=0.06, min_diff_pct=0.06)"
   ]
  },
  {
   "cell_type": "code",
   "execution_count": 17,
   "metadata": {},
   "outputs": [
    {
     "data": {
      "text/plain": [
       "(31, 11)"
      ]
     },
     "execution_count": 17,
     "metadata": {},
     "output_type": "execute_result"
    }
   ],
   "source": [
    "df3.shape"
   ]
  },
  {
   "cell_type": "markdown",
   "metadata": {},
   "source": [
    "# Immune cells fib exploration"
   ]
  },
  {
   "cell_type": "markdown",
   "metadata": {},
   "source": [
    "The number of immune cells expressing each number of fibroblast markers"
   ]
  },
  {
   "cell_type": "code",
   "execution_count": 32,
   "metadata": {},
   "outputs": [
    {
     "name": "stdout",
     "output_type": "stream",
     "text": [
      "The number of cells expressing each number of fibroblast markers\n"
     ]
    },
    {
     "data": {
      "text/plain": [
       "{0: 54807,\n",
       " 1: 23448,\n",
       " 2: 2525,\n",
       " 3: 897,\n",
       " 4: 622,\n",
       " 5: 432,\n",
       " 6: 351,\n",
       " 7: 273,\n",
       " 8: 176,\n",
       " 9: 83,\n",
       " 10: 29,\n",
       " 11: 4,\n",
       " 12: 8,\n",
       " 13: 3,\n",
       " 14: 2,\n",
       " 15: 1}"
      ]
     },
     "execution_count": 32,
     "metadata": {},
     "output_type": "execute_result"
    }
   ],
   "source": [
    "print(f'The number of cells expressing each number of fibroblast markers')\n",
    "sort_dic(dict(Counter(np.sum(filtered_cells.counts[:, fib_genes[:,0].astype(int)]>0, axis=1))))"
   ]
  },
  {
   "cell_type": "markdown",
   "metadata": {},
   "source": [
    "Now lets see if we set a threshold of the minimum number of fib markers, how many cells we would remove from the immune compartment"
   ]
  },
  {
   "cell_type": "code",
   "execution_count": 28,
   "metadata": {},
   "outputs": [
    {
     "name": "stdout",
     "output_type": "stream",
     "text": [
      "5406\n"
     ]
    }
   ],
   "source": [
    "min_markers = 2\n",
    "count = 0\n",
    "dd = sort_dic(dict(Counter(np.sum(filtered_cells.counts[:, fib_genes[:,0].astype(int)]>0, axis=1))))\n",
    "for k, v in dd.items():\n",
    "    if k>=min_markers:\n",
    "        count += v\n",
    "print(count)"
   ]
  },
  {
   "cell_type": "markdown",
   "metadata": {},
   "source": [
    "Lets build a table showing for each fib marker how many cells expressing it."
   ]
  },
  {
   "cell_type": "code",
   "execution_count": 29,
   "metadata": {},
   "outputs": [],
   "source": [
    "df = pd.DataFrame(columns=['gene', 'number of cells expressing'])\n",
    "sorted_fib_genes = sorted(fib_genes.tolist(), key=lambda x: x[1])\n",
    "for marker in sorted_fib_genes:\n",
    "#     print([marker[1], 0])\n",
    "    count = sum(filtered_cells.counts[:, int(marker[0])]>0)    \n",
    "    df = df.append(pd.DataFrame([[marker[1], count]], columns=df.columns))"
   ]
  },
  {
   "cell_type": "code",
   "execution_count": 62,
   "metadata": {},
   "outputs": [],
   "source": [
    "# df = df.reset_index().drop(columns=['level_0', 'index'])\n",
    "df.to_csv(r'/storage/md_keren/shitay/garbage/fib_genes_table.csv')"
   ]
  },
  {
   "cell_type": "markdown",
   "metadata": {},
   "source": [
    "# Debug"
   ]
  },
  {
   "cell_type": "code",
   "execution_count": 18,
   "metadata": {},
   "outputs": [],
   "source": [
    "# sorted_fib_genes\n",
    "# fib_genes"
   ]
  },
  {
   "cell_type": "code",
   "execution_count": null,
   "metadata": {},
   "outputs": [],
   "source": []
  },
  {
   "cell_type": "code",
   "execution_count": null,
   "metadata": {},
   "outputs": [],
   "source": []
  },
  {
   "cell_type": "code",
   "execution_count": 6,
   "metadata": {},
   "outputs": [],
   "source": [
    "cluster_1_cells.number_of_cells\n",
    "res = cluster_1_cells.get_subset_by_identifiers(sub_cluster_1_cells.samples, sub_cluster_1_cells.barcodes)"
   ]
  },
  {
   "cell_type": "code",
   "execution_count": 24,
   "metadata": {},
   "outputs": [],
   "source": [
    "df = pd.DataFrame(np.array([sub_cluster_1_cells.samples, sub_cluster_1_cells.barcodes]).T, columns=['sample', 'barcode'])\n",
    "\n",
    "path =r'/storage/md_keren/shitay/Data/tables/stroma_contaminated_cells_kmeans_k11_cluster7_expressing_neut.csv'\n",
    "df.to_csv(path, index=False)"
   ]
  },
  {
   "cell_type": "code",
   "execution_count": null,
   "metadata": {},
   "outputs": [],
   "source": []
  },
  {
   "cell_type": "code",
   "execution_count": 12,
   "metadata": {},
   "outputs": [],
   "source": [
    "mapping = list(zip(sub_cluster_1_cells.samples, sub_cluster_1_cells.barcodes))"
   ]
  },
  {
   "cell_type": "code",
   "execution_count": 17,
   "metadata": {},
   "outputs": [],
   "source": [
    "# mapping.index(mapping[200])\n"
   ]
  },
  {
   "cell_type": "code",
   "execution_count": null,
   "metadata": {},
   "outputs": [],
   "source": []
  },
  {
   "cell_type": "code",
   "execution_count": 14,
   "metadata": {},
   "outputs": [],
   "source": [
    "# maps = list(zip(cluster_1_cells.samples, cluster_1_cells.barcodes))\n",
    "# dic_map = {vv: [] for vv in set(cluster_1_cells.samples)}\n",
    "# dic_map\n",
    "# for sample_id, barcode in maps:\n",
    "#     dic_map[sample_id].append(barcode)\n",
    "# dic_map"
   ]
  },
  {
   "cell_type": "code",
   "execution_count": 15,
   "metadata": {},
   "outputs": [],
   "source": [
    "# barcode_idxs = []\n",
    "# print([(k, len(vv)) for k,vv in dic_map.items()])\n",
    "# for sample_id in sorted(dic_map.keys())[:4]:\n",
    "#     print(sample_id)\n",
    "#     def myfunc(n):\n",
    "#         if sample_id == n[0]:\n",
    "#             return n[1]\n",
    "#         return None\n",
    "# #     barcode_list = [c_barcode for c_sample_id, c_barcode zip(cluster_1_cells.samples, cluster_1_cells.barcodes)]\n",
    "#     barcode_mask_list = list(map(myfunc, zip(cluster_1_cells.samples, cluster_1_cells.barcodes)))\n",
    "#     barcodes_idx = [barcode_mask_list.index(barcode) for barcode in barcode_mask_list]\n",
    "#     barcode_idxs += barcodes_idx\n",
    "#     print(barcode_mask_list)"
   ]
  },
  {
   "cell_type": "code",
   "execution_count": 16,
   "metadata": {},
   "outputs": [],
   "source": [
    "# def myfunc(n):\n",
    "#   return len(n)\n",
    "\n",
    "# list(map(myfunc, ('apple', 'banana', 'cherry')) )"
   ]
  }
 ],
 "metadata": {
  "kernelspec": {
   "display_name": "Python 3",
   "language": "python",
   "name": "python3"
  },
  "language_info": {
   "codemirror_mode": {
    "name": "ipython",
    "version": 3
   },
   "file_extension": ".py",
   "mimetype": "text/x-python",
   "name": "python",
   "nbconvert_exporter": "python",
   "pygments_lexer": "ipython3",
   "version": "3.8.3"
  }
 },
 "nbformat": 4,
 "nbformat_minor": 4
}
