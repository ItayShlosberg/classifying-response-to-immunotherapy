{
 "cells": [
  {
   "cell_type": "code",
   "execution_count": 1,
   "metadata": {},
   "outputs": [],
   "source": [
    "# ------- SERVER EXTENSIONS ---------\n",
    "lib =  r'/srv01/technion/shitay/Code/classifying_response_to_immunotherapy/utilities/droplet_dataset'\n",
    "lib2 = r'/srv01/technion/shitay/Code/classifying_response_to_immunotherapy/utilities'\n",
    "lib3 = r'/srv01/technion/shitay/Code/classifying_response_to_immunotherapy/data_analysis'\n",
    "lib4 = r'/srv01/technion/shitay/Code/classifying_response_to_immunotherapy'\n",
    "lib5 = r'/srv01/technion/shitay/Code/classifying_response_to_immunotherapy/scripts'\n",
    "import sys\n",
    "sys.path.append(lib)\n",
    "sys.path.append(lib2)\n",
    "sys.path.append(lib3)\n",
    "sys.path.append(lib4)\n",
    "sys.path.append(lib5)\n",
    "from utilities.general_helpers import *\n",
    "# ------- SERVER EXTENSIONS ---------\n",
    "import numpy as np\n",
    "import pandas as pd\n",
    "import scipy\n",
    "import sklearn\n",
    "from sklearn.manifold import TSNE\n",
    "import pickle\n",
    "# from Bio.Cluster import kcluster\n",
    "import os\n",
    "import numpy as np\n",
    "import yaml\n",
    "from os.path import join\n",
    "import os\n",
    "import pandas\n",
    "from collections import Counter\n",
    "from sklearn.cluster import KMeans\n",
    "import matplotlib.pyplot as plt\n",
    "# from sklearn.metrics import confusion_matrix, ConfusionMatrixDisplay\n",
    "import sys\n",
    "import seaborn as sns\n",
    "# import statsmodels as sm\n",
    "import scipy.stats as stats\n",
    "from scipy.stats import rankdata\n",
    "from Bio.Cluster import kcluster\n",
    "from sklearn.manifold import TSNE\n",
    "import pickle\n",
    "import numpy as np\n",
    "from utilities.general_helpers import flatten_list\n",
    "from utilities.ML_environment import find_marker_genes_in_cluster\n",
    "# import pyclustering\n",
    "from shutil import copyfile\n",
    "import matplotlib.pyplot as plt"
   ]
  },
  {
   "cell_type": "markdown",
   "metadata": {},
   "source": [
    "# Finding a threshold for variance so that we will have 4k~ genes."
   ]
  },
  {
   "cell_type": "markdown",
   "metadata": {},
   "source": [
    "##### Loads pickle file of NORMALIZED cohort"
   ]
  },
  {
   "cell_type": "code",
   "execution_count": 2,
   "metadata": {},
   "outputs": [],
   "source": [
    "cohort_path = r'/storage/md_keren/shitay/Data/droplet_seq/cohort/normalized/5.21/cohort_normalized_24.5.21.pkl'\n",
    "normalized_cohort = pickle.load(open(cohort_path, 'rb'))"
   ]
  },
  {
   "cell_type": "markdown",
   "metadata": {},
   "source": [
    "##### Finds a threshold for all cohort"
   ]
  },
  {
   "cell_type": "code",
   "execution_count": 21,
   "metadata": {},
   "outputs": [],
   "source": [
    "variances = np.var(normalized_cohort.counts, axis=0)\n",
    "variances_sorted = np.flip(variances[np.argsort(variances)])"
   ]
  },
  {
   "cell_type": "code",
   "execution_count": 30,
   "metadata": {},
   "outputs": [
    {
     "name": "stdout",
     "output_type": "stream",
     "text": [
      "The 20 variances around the 4Kth gene:\n",
      "[0.3180053  0.31789164 0.31782625 0.31779738 0.31765869 0.31751089\n",
      " 0.31746045 0.31741887 0.31738702 0.31736216 0.31734278 0.31726301\n",
      " 0.31718303 0.31710028 0.31701251 0.31688825 0.31673426 0.31666172\n",
      " 0.31660014 0.31650064]\n",
      "\n",
      "To get 4K~ genes, you need to take a number between [0.31736216 0.31734278]\n"
     ]
    }
   ],
   "source": [
    "num_requested_genes = 4000\n",
    "print('The 20 variances around the 4Kth gene:')\n",
    "print(variances_sorted[num_requested_genes-10: num_requested_genes+10], end='\\n\\n')\n",
    "print(f'To get 4K~ genes, you need to take a number between {variances_sorted[num_requested_genes-1: num_requested_genes+1]}')"
   ]
  },
  {
   "cell_type": "markdown",
   "metadata": {},
   "source": [
    "##### Finds a threshold for immune cells"
   ]
  },
  {
   "cell_type": "code",
   "execution_count": 3,
   "metadata": {},
   "outputs": [],
   "source": [
    "immune_cells = normalized_cohort.filter_cells_by_property('is_immune', True)"
   ]
  },
  {
   "cell_type": "code",
   "execution_count": 4,
   "metadata": {},
   "outputs": [],
   "source": [
    "variances = np.var(immune_cells.counts, axis=0)\n",
    "variances_sorted = np.flip(variances[np.argsort(variances)])"
   ]
  },
  {
   "cell_type": "code",
   "execution_count": 5,
   "metadata": {},
   "outputs": [
    {
     "name": "stdout",
     "output_type": "stream",
     "text": [
      "The 20 variances around the 4Kth gene:\n",
      "[0.31913986 0.31913009 0.31912917 0.3190953  0.31892485 0.31877284\n",
      " 0.31874335 0.3187426  0.31873801 0.31870492 0.31857896 0.31847667\n",
      " 0.31841385 0.31832409 0.31831431 0.31823881 0.31820728 0.31818568\n",
      " 0.31814925 0.31807193]\n",
      "\n",
      "To get 4K~ genes, you need to take a number between [0.31870492 0.31857896]\n"
     ]
    }
   ],
   "source": [
    "num_requested_genes = 4000\n",
    "print('The 20 variances around the 4Kth gene:')\n",
    "print(variances_sorted[num_requested_genes-10: num_requested_genes+10], end='\\n\\n')\n",
    "print(f'To get 4K~ genes, you need to take a number between {variances_sorted[num_requested_genes-1: num_requested_genes+1]}')"
   ]
  },
  {
   "cell_type": "markdown",
   "metadata": {},
   "source": [
    "##### Finds a threshold for tumor cells"
   ]
  },
  {
   "cell_type": "code",
   "execution_count": 28,
   "metadata": {},
   "outputs": [],
   "source": [
    "tumor_cells = normalized_cohort.filter_cells_by_property('is_cancer', True)\n"
   ]
  },
  {
   "cell_type": "code",
   "execution_count": 33,
   "metadata": {},
   "outputs": [],
   "source": [
    "variances = np.var(tumor_cells.counts, axis=0)\n",
    "variances_sorted = np.flip(variances[np.argsort(variances)])"
   ]
  },
  {
   "cell_type": "code",
   "execution_count": 34,
   "metadata": {},
   "outputs": [
    {
     "name": "stdout",
     "output_type": "stream",
     "text": [
      "The 20 variances around the 4Kth gene:\n",
      "[0.27910708 0.27900916 0.27900727 0.27900416 0.27881262 0.27876171\n",
      " 0.27874488 0.27858683 0.27837879 0.27834315 0.27812552 0.27787858\n",
      " 0.27770549 0.27761339 0.27752057 0.27746356 0.27737847 0.27733027\n",
      " 0.27725518 0.27721452]\n",
      "\n",
      "To get 4K~ genes, you need to take a number between [0.27834315 0.27812552]\n"
     ]
    }
   ],
   "source": [
    "num_requested_genes = 4000\n",
    "print('The 20 variances around the 4Kth gene:')\n",
    "print(variances_sorted[num_requested_genes-10: num_requested_genes+10], end='\\n\\n')\n",
    "print(f'To get 4K~ genes, you need to take a number between {variances_sorted[num_requested_genes-1: num_requested_genes+1]}')"
   ]
  },
  {
   "cell_type": "markdown",
   "metadata": {},
   "source": [
    "### Saves PKLs of immune, tumor, or all cells with after variance filter"
   ]
  },
  {
   "cell_type": "markdown",
   "metadata": {},
   "source": [
    "Tumor:"
   ]
  },
  {
   "cell_type": "code",
   "execution_count": 71,
   "metadata": {},
   "outputs": [
    {
     "name": "stdout",
     "output_type": "stream",
     "text": [
      "Dataset was cleared from genes with variance of less than 0.2782\n",
      "Done\n"
     ]
    }
   ],
   "source": [
    "out_path = r'/storage/md_keren/shitay/Data/droplet_seq/cohort/normalized/5.21/tumor_cells_4k_genes.pkl'\n",
    "variance = 0.2782 #[0.27834315 0.27812552]\n",
    "\n",
    "tumor_filtered = tumor_cells.filter_genes_by_variance(variance)\n",
    "pickle.dump((tumor_filtered), open(out_path, 'wb'), protocol=4)\n",
    "print('Done')"
   ]
  },
  {
   "cell_type": "markdown",
   "metadata": {},
   "source": [
    "Immune:"
   ]
  },
  {
   "cell_type": "code",
   "execution_count": 6,
   "metadata": {},
   "outputs": [
    {
     "name": "stdout",
     "output_type": "stream",
     "text": [
      "Dataset was cleared from genes with variance of less than 0.3186\n",
      "Done\n"
     ]
    }
   ],
   "source": [
    "out_path = r'/storage/md_keren/shitay/Data/droplet_seq/cohort/normalized/5.21/immune_cells_4k_genes.pkl'\n",
    "variance = 0.3186  # [0.31870492 0.31857896]\n",
    "\n",
    "immune_filtered = immune_cells.filter_genes_by_variance(variance)\n",
    "pickle.dump((immune_filtered), open(out_path, 'wb'), protocol=4)\n",
    "print('Done')"
   ]
  },
  {
   "cell_type": "markdown",
   "metadata": {},
   "source": [
    "All cells (cohort):"
   ]
  },
  {
   "cell_type": "code",
   "execution_count": null,
   "metadata": {},
   "outputs": [],
   "source": [
    "out_path = r''\n",
    "variance = #[0.31736216 0.31734278]\n",
    "\n",
    "cohort_filtered = normalized_cohort.filter_genes_by_variance(variance)\n",
    "pickle.dump((cohort_filtered), open(out_path, 'wb'), protocol=4)\n",
    "print('Done')"
   ]
  },
  {
   "cell_type": "markdown",
   "metadata": {},
   "source": [
    "# Debug"
   ]
  },
  {
   "cell_type": "code",
   "execution_count": 39,
   "metadata": {},
   "outputs": [
    {
     "data": {
      "text/plain": [
       "97225"
      ]
     },
     "execution_count": 39,
     "metadata": {},
     "output_type": "execute_result"
    }
   ],
   "source": [
    "tumor_cells.number_of_cells\n",
    "sum(tumor_cells.cells_information.getattr('is_cancer'))"
   ]
  },
  {
   "cell_type": "code",
   "execution_count": 44,
   "metadata": {},
   "outputs": [],
   "source": [
    "ii = pickle.load(open(r'/storage/md_keren/shitay/Data/droplet_seq/cohort/normalized/5.21/immune_cells_4k_genes.pkl', 'rb'))"
   ]
  },
  {
   "cell_type": "code",
   "execution_count": 56,
   "metadata": {},
   "outputs": [
    {
     "data": {
      "text/plain": [
       "10.936111592118117"
      ]
     },
     "execution_count": 56,
     "metadata": {},
     "output_type": "execute_result"
    }
   ],
   "source": [
    "ii.counts[700:900].max()"
   ]
  },
  {
   "cell_type": "code",
   "execution_count": 77,
   "metadata": {},
   "outputs": [
    {
     "data": {
      "text/plain": [
       "97225"
      ]
     },
     "execution_count": 77,
     "metadata": {},
     "output_type": "execute_result"
    }
   ],
   "source": [
    "sum(tumor_filtered.cells_information.getattr('is_cancer'))\n",
    "tumor_filtered.number_of_cells"
   ]
  },
  {
   "cell_type": "code",
   "execution_count": 62,
   "metadata": {},
   "outputs": [],
   "source": [
    "cohort_path = r'/storage/md_keren/shitay/Data/droplet_seq/cohort/normalized/5.21/cohort_normalized_10.5.21.pkl'\n",
    "normalized_cohort = pickle.load(open(cohort_path, 'rb'))"
   ]
  },
  {
   "cell_type": "code",
   "execution_count": 66,
   "metadata": {},
   "outputs": [],
   "source": [
    "save_path = r'/storage/md_keren/shitay/Data/droplet_seq/cohort/normalized/5.21/immune_cells_10.5.21.pkl'\n",
    "immune_cells = normalized_cohort.filter_cells_by_property('is_immune', True)"
   ]
  },
  {
   "cell_type": "code",
   "execution_count": 70,
   "metadata": {},
   "outputs": [],
   "source": [
    "immune_cells.number_of_genes\n",
    "pickle.dump((immune_cells), open(save_path, 'wb'), protocol=4)"
   ]
  },
  {
   "cell_type": "code",
   "execution_count": 7,
   "metadata": {},
   "outputs": [
    {
     "data": {
      "text/plain": [
       "<utilities.droplet_dataset.Cohort_RNAseq at 0x7fa5f43205f8>"
      ]
     },
     "execution_count": 7,
     "metadata": {},
     "output_type": "execute_result"
    }
   ],
   "source": [
    "tt = pickle.load(open(out_path, 'rb'))\n",
    "tt\n"
   ]
  },
  {
   "cell_type": "code",
   "execution_count": 9,
   "metadata": {},
   "outputs": [
    {
     "data": {
      "text/plain": [
       "4000"
      ]
     },
     "execution_count": 9,
     "metadata": {},
     "output_type": "execute_result"
    }
   ],
   "source": [
    "tt.number_of_genes"
   ]
  }
 ],
 "metadata": {
  "kernelspec": {
   "display_name": "Python 3",
   "language": "python",
   "name": "python3"
  },
  "language_info": {
   "codemirror_mode": {
    "name": "ipython",
    "version": 3
   },
   "file_extension": ".py",
   "mimetype": "text/x-python",
   "name": "python",
   "nbconvert_exporter": "python",
   "pygments_lexer": "ipython3",
   "version": "3.7.3"
  }
 },
 "nbformat": 4,
 "nbformat_minor": 2
}
