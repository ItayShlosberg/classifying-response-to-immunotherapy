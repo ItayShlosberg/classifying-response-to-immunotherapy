{
 "cells": [
  {
   "cell_type": "code",
   "execution_count": 1,
   "metadata": {},
   "outputs": [],
   "source": [
    "# ------- SERVER EXTENSIONS ---------\n",
    "lib =  r'/srv01/technion/shitay/Code/classifying_response_to_immunotherapy/utilities/droplet_dataset'\n",
    "lib2 = r'/srv01/technion/shitay/Code/classifying_response_to_immunotherapy/utilities'\n",
    "lib3 = r'/srv01/technion/shitay/Code/classifying_response_to_immunotherapy/data_analysis'\n",
    "lib4 = r'/srv01/technion/shitay/Code/classifying_response_to_immunotherapy'\n",
    "lib5 = r'/srv01/technion/shitay/Code/classifying_response_to_immunotherapy/scripts'\n",
    "import sys\n",
    "sys.path.append(lib)\n",
    "sys.path.append(lib2)\n",
    "sys.path.append(lib3)\n",
    "sys.path.append(lib4)\n",
    "sys.path.append(lib5)\n",
    "# ------- SERVER EXTENSIONS ---------import numpy as np\n",
    "import pandas as pd\n",
    "import scipy\n",
    "import sklearn\n",
    "from sklearn.manifold import TSNE\n",
    "import pickle\n",
    "# from Bio.Cluster import kcluster\n",
    "import os\n",
    "import numpy as np\n",
    "import csv\n",
    "import gzip\n",
    "import yaml\n",
    "import os\n",
    "from general_helpers import annotate_boxplot\n",
    "import pandas\n",
    "from collections import Counter\n",
    "from sklearn.cluster import KMeans\n",
    "import matplotlib.pyplot as plt\n",
    "# from sklearn.metrics import confusion_matrix, ConfusionMatrixDisplay\n",
    "import sys\n",
    "import seaborn as sns\n",
    "# import pyclustering\n",
    "import matplotlib.pylab as plt\n",
    "import seaborn as sb\n",
    "from os.path import join\n",
    "plt.rcParams['figure.dpi'] = 400\n",
    "import seaborn as sns\n",
    "from utilities.general_helpers import sort_dic\n",
    "from utilities.general_helpers import transpose\n",
    "from utilities.droplet_dataset import RNAseq_Sample\n",
    "from shutil import copyfile\n",
    "import matplotlib.pyplot as plt\n",
    "import random\n",
    "from scipy.io import mmread\n",
    "from droplet_dataset import *\n"
   ]
  },
  {
   "cell_type": "code",
   "execution_count": 2,
   "metadata": {},
   "outputs": [],
   "source": [
    "sample_id = 'M138'"
   ]
  },
  {
   "cell_type": "markdown",
   "metadata": {},
   "source": [
    "Taks SoupX output of selected sample"
   ]
  },
  {
   "cell_type": "code",
   "execution_count": 3,
   "metadata": {},
   "outputs": [
    {
     "name": "stdout",
     "output_type": "stream",
     "text": [
      "4915\n",
      "32738\n"
     ]
    }
   ],
   "source": [
    "# file_path = f'/storage/md_keren/shitay/workplace/SoupX/output/{sample_id}_output.csv'\n",
    "file_path = f'/storage/md_keren/shitay/workplace/SoupX/output/{sample_id}_output_0.3_contamination_frac.csv' # M138_output_0.3_contamination_frac\n",
    "df = pd.read_csv(file_path, header = 0, index_col=0)\n",
    "df = df.T\n",
    "\n",
    "# df = df.T\n",
    "df.values.shape\n",
    "barcodes = df.index.tolist()\n",
    "genes = df.columns.tolist()\n",
    "counts = df.values\n",
    "# genes.index('KRT10')\n",
    "SoupX_output = RNAseq_Sample(counts, genes, barcodes, genes)\n",
    "print(SoupX_output.number_of_cells)\n",
    "print(SoupX_output.number_of_genes)"
   ]
  },
  {
   "cell_type": "markdown",
   "metadata": {},
   "source": [
    "Takes row sample of selected sample\n",
    "- inject row_sample information of cells into soupX_output to have the information which cells are immune, tumor etc. (the barcodes are at the same order)."
   ]
  },
  {
   "cell_type": "code",
   "execution_count": 4,
   "metadata": {},
   "outputs": [
    {
     "name": "stdout",
     "output_type": "stream",
     "text": [
      "4915\n",
      "22020\n"
     ]
    }
   ],
   "source": [
    "ROW_SAMPLES_PATH = fr'/storage/md_keren/shitay/Data/droplet_seq/ROW_DATA'\n",
    "SAMPLES_INFORMATION_PATH = fr'/storage/md_keren/shitay/Data/inferCNV_data/update_runs/26.6.21'\n",
    "\n",
    "\n",
    "row_sample = loading_sample(row_data_path=join(ROW_SAMPLES_PATH, f'{sample_id}.pkl'),\n",
    "                                    cells_information_path=join(SAMPLES_INFORMATION_PATH, f'{sample_id}.pkl'))\n",
    "\n",
    "SoupX_output.cells_information = row_sample.cells_information\n",
    "# SoupX_output.barcodes == row_sample.barcodes # check order of barcodes\n",
    "\n",
    "\n",
    "print(row_sample.number_of_cells)\n",
    "print(row_sample.number_of_genes)"
   ]
  },
  {
   "cell_type": "markdown",
   "metadata": {},
   "source": [
    "Takes filtered matrix sample of selected sample_id\n",
    "- inject row_sample information of cells into filtered_sample to have the information which cells are immune, tumor etc. (the barcodes are at the same order)."
   ]
  },
  {
   "cell_type": "code",
   "execution_count": 5,
   "metadata": {},
   "outputs": [],
   "source": [
    "SAMPLE_PATH = f'/storage/md_keren/shitay/workplace/SoupX/{sample_id}/filtered_feature_bc_matrix/'\n",
    "\n",
    "# Extract genes names and features\n",
    "features_path = join(SAMPLE_PATH, \"features.tsv.gz\")\n",
    "feature_ids = [row[0] for row in csv.reader(gzip.open(features_path, 'rt'), delimiter=\"\\t\")]\n",
    "gene_names = [row[1] for row in csv.reader(gzip.open(features_path, 'rt'), delimiter=\"\\t\")]\n",
    "mat = np.array(mmread(join(SAMPLE_PATH, \"matrix.mtx.gz\")).todense()).astype(np.uint16).T\n",
    "barcodes_path = join(SAMPLE_PATH, \"barcodes.tsv.gz\")\n",
    "barcodes = [row[0] for row in csv.reader(gzip.open(barcodes_path, 'rt'), delimiter=\"\\t\")]\n",
    "\n",
    "\n",
    "filtered_sample = RNAseq_Sample(mat, gene_names, barcodes, feature_ids)\n",
    "# SoupX_output.barcodes == filtered_sample.barcodes # check order of barcodes\n",
    "filtered_sample.cells_information = row_sample.cells_information"
   ]
  },
  {
   "cell_type": "markdown",
   "metadata": {},
   "source": [
    "# make SoupX output to be in the same form as row_output\n",
    "if you do unique on the gene indexes in the matrix file (the first column, only in Matlab you see it), you get a lower number of genes.\n",
    "My unerstanding is that they try to map the data to a constant list of genes that contains 32738 genes, but obviously not all of them are expressed in each sample, so not all the indexes appear there.\n",
    "\n",
    "the output of SoupX is with the name of the genes and not the gene ids, and the name of part of the genes changed a bit. so we can use the names and the features of the filtered data which are at the same lengeth to map SoupX output back to have the reduced gene list as in the row data."
   ]
  },
  {
   "cell_type": "code",
   "execution_count": 346,
   "metadata": {},
   "outputs": [],
   "source": [
    "# get the original names and features (gene_ids) from row_sample data\n",
    "SoupX_output.gene_names = row_sample.gene_names\n",
    "SoupX_output.features = row_sample.features\n",
    "SoupX_output.number_of_genes = row_sample.number_of_genes\n",
    "SoupX_output.cells_information = row_sample.cells_information\n",
    "\n",
    "\n",
    "gene_indices = [filtered_sample.features.index(g_id) for g_id in row_sample.features]\n",
    "SoupX_output.counts = SoupX_output.counts[:, gene_indices]"
   ]
  },
  {
   "cell_type": "markdown",
   "metadata": {},
   "source": [
    "##### Now we can compare expression when the count tables are aligned"
   ]
  },
  {
   "cell_type": "code",
   "execution_count": 347,
   "metadata": {},
   "outputs": [],
   "source": [
    "noise = row_sample.counts - SoupX_output.counts\n",
    "\n",
    "noise_sample = RNAseq_Sample(noise, SoupX_output.gene_names, SoupX_output.barcodes, SoupX_output.features)\n",
    "noise_sample.cells_information = SoupX_output.cells_information"
   ]
  },
  {
   "cell_type": "code",
   "execution_count": 348,
   "metadata": {},
   "outputs": [
    {
     "data": {
      "text/plain": [
       "(4915, 22020)"
      ]
     },
     "execution_count": 348,
     "metadata": {},
     "output_type": "execute_result"
    }
   ],
   "source": [
    "noise.shape"
   ]
  },
  {
   "cell_type": "code",
   "execution_count": 349,
   "metadata": {},
   "outputs": [],
   "source": [
    "cells_noise = np.mean(noise, axis=1)\n",
    "genes_noise = np.mean(noise, axis=0)"
   ]
  },
  {
   "cell_type": "code",
   "execution_count": 350,
   "metadata": {},
   "outputs": [
    {
     "data": {
      "image/png": "[encoded data removed]",
      "text/plain": [
       "<Figure size 432x288 with 1 Axes>"
      ]
     },
     "metadata": {
      "needs_background": "light"
     },
     "output_type": "display_data"
    }
   ],
   "source": [
    "sns.reset_orig()\n",
    "# annotate_boxplot(pd.DataFrame(cells_noise).boxplot(whis=[5, 95], return_type='dict'), cells_noise)\n",
    "# pd.DataFrame(cells_noise).boxplot()\n",
    "fig, ax = plt.subplots()\n",
    "# bp = pd.DataFrame(genes_noise[(genes_noise!=0) & (genes_noise<100)]).boxplot(ax=ax)\n",
    "bp = pd.DataFrame(genes_noise).boxplot(ax=ax)\n",
    "ax.set_title(\"noise in genes\");\n",
    "ymin, ymax = 0, 100\n",
    "ax.set_ylim([ymin,ymax])\n",
    "plt.show()"
   ]
  },
  {
   "cell_type": "markdown",
   "metadata": {},
   "source": [
    "#### see what is the mean noise in KRT10"
   ]
  },
  {
   "cell_type": "code",
   "execution_count": 351,
   "metadata": {},
   "outputs": [
    {
     "data": {
      "text/plain": [
       "0.6317362031931265"
      ]
     },
     "execution_count": 351,
     "metadata": {},
     "output_type": "execute_result"
    }
   ],
   "source": [
    "KRT_idx = SoupX_output.gene_names.index('KRT10')\n",
    "genes_noise[KRT_idx]"
   ]
  },
  {
   "cell_type": "markdown",
   "metadata": {},
   "source": [
    "##### Top noisy genes"
   ]
  },
  {
   "cell_type": "code",
   "execution_count": 352,
   "metadata": {},
   "outputs": [
    {
     "data": {
      "text/html": [
       "<div>\n",
       "<style scoped>\n",
       "    .dataframe tbody tr th:only-of-type {\n",
       "        vertical-align: middle;\n",
       "    }\n",
       "\n",
       "    .dataframe tbody tr th {\n",
       "        vertical-align: top;\n",
       "    }\n",
       "\n",
       "    .dataframe thead th {\n",
       "        text-align: right;\n",
       "    }\n",
       "</style>\n",
       "<table border=\"1\" class=\"dataframe\">\n",
       "  <thead>\n",
       "    <tr style=\"text-align: right;\">\n",
       "      <th></th>\n",
       "      <th>gene</th>\n",
       "      <th>noise</th>\n",
       "    </tr>\n",
       "  </thead>\n",
       "  <tbody>\n",
       "    <tr>\n",
       "      <th>0</th>\n",
       "      <td>MT-CO2</td>\n",
       "      <td>86.337281</td>\n",
       "    </tr>\n",
       "    <tr>\n",
       "      <th>1</th>\n",
       "      <td>FTH1</td>\n",
       "      <td>58.889705</td>\n",
       "    </tr>\n",
       "    <tr>\n",
       "      <th>2</th>\n",
       "      <td>MT-CO1</td>\n",
       "      <td>57.535375</td>\n",
       "    </tr>\n",
       "    <tr>\n",
       "      <th>3</th>\n",
       "      <td>B2M</td>\n",
       "      <td>57.324796</td>\n",
       "    </tr>\n",
       "    <tr>\n",
       "      <th>4</th>\n",
       "      <td>GAPDH</td>\n",
       "      <td>41.540708</td>\n",
       "    </tr>\n",
       "    <tr>\n",
       "      <th>...</th>\n",
       "      <td>...</td>\n",
       "      <td>...</td>\n",
       "    </tr>\n",
       "    <tr>\n",
       "      <th>95</th>\n",
       "      <td>IFITM3</td>\n",
       "      <td>5.129189</td>\n",
       "    </tr>\n",
       "    <tr>\n",
       "      <th>96</th>\n",
       "      <td>RPL24</td>\n",
       "      <td>5.080212</td>\n",
       "    </tr>\n",
       "    <tr>\n",
       "      <th>97</th>\n",
       "      <td>RPLP2</td>\n",
       "      <td>5.040680</td>\n",
       "    </tr>\n",
       "    <tr>\n",
       "      <th>98</th>\n",
       "      <td>H2AFZ</td>\n",
       "      <td>5.033016</td>\n",
       "    </tr>\n",
       "    <tr>\n",
       "      <th>99</th>\n",
       "      <td>TPI1</td>\n",
       "      <td>5.009165</td>\n",
       "    </tr>\n",
       "  </tbody>\n",
       "</table>\n",
       "<p>100 rows × 2 columns</p>\n",
       "</div>"
      ],
      "text/plain": [
       "      gene      noise\n",
       "0   MT-CO2  86.337281\n",
       "1     FTH1  58.889705\n",
       "2   MT-CO1  57.535375\n",
       "3      B2M  57.324796\n",
       "4    GAPDH  41.540708\n",
       "..     ...        ...\n",
       "95  IFITM3   5.129189\n",
       "96   RPL24   5.080212\n",
       "97   RPLP2   5.040680\n",
       "98   H2AFZ   5.033016\n",
       "99    TPI1   5.009165\n",
       "\n",
       "[100 rows x 2 columns]"
      ]
     },
     "execution_count": 352,
     "metadata": {},
     "output_type": "execute_result"
    }
   ],
   "source": [
    "# pd.set_option('display.max_rows', None)\n",
    "\n",
    "n_top_gene = 100\n",
    "top_genes_indices = np.argsort(genes_noise)[::-1][:n_top_gene]\n",
    "\n",
    "top_gene_df = pd.DataFrame()\n",
    "top_gene_df['gene'] = np.array(SoupX_output.gene_names)[top_genes_indices]\n",
    "top_gene_df['noise'] = genes_noise[top_genes_indices]\n",
    "top_gene_df"
   ]
  },
  {
   "cell_type": "markdown",
   "metadata": {},
   "source": [
    "#### Distribution of KRT expression"
   ]
  },
  {
   "cell_type": "code",
   "execution_count": 353,
   "metadata": {},
   "outputs": [
    {
     "data": {
      "text/plain": [
       "(0.0, 10.0)"
      ]
     },
     "execution_count": 353,
     "metadata": {},
     "output_type": "execute_result"
    },
    {
     "data": {
      "image/png": "[encoded data removed]",
      "text/plain": [
       "<Figure size 432x288 with 2 Axes>"
      ]
     },
     "metadata": {
      "needs_background": "light"
     },
     "output_type": "display_data"
    }
   ],
   "source": [
    "fig, ax = plt.subplots(2)\n",
    "\n",
    "\n",
    "KRT_idx = SoupX_output.gene_names.index('KRT10')\n",
    "bx1 = pd.DataFrame(SoupX_output.counts[:, KRT_idx]).boxplot(ax=ax[0])\n",
    "ax[0].set_title(\"KRT10 expression in soupX corrected matrix\");\n",
    "\n",
    "KRT_idx = row_sample.gene_names.index('KRT10')\n",
    "bx2 = pd.DataFrame(row_sample.counts[:, KRT_idx]).boxplot(ax=ax[1])\n",
    "ax[1].set_title(\"KRT10 expression in row matrix\");\n",
    "\n",
    "\n",
    "\n",
    "ymin, ymax = 0, 10\n",
    "ax[0].set_ylim([ymin,ymax])\n",
    "ax[1].set_ylim([ymin,ymax])"
   ]
  },
  {
   "cell_type": "markdown",
   "metadata": {},
   "source": [
    "# investigate immune cells' noise VS tumors"
   ]
  },
  {
   "cell_type": "markdown",
   "metadata": {},
   "source": [
    "Immune:"
   ]
  },
  {
   "cell_type": "code",
   "execution_count": 354,
   "metadata": {},
   "outputs": [],
   "source": [
    "immune_noise = noise_sample.filter_cells_by_property('is_immune', True)\n",
    "immune_cells_noise = np.mean(immune_noise.counts, axis=1)\n",
    "immune_genes_noise = np.mean(immune_noise.counts, axis=0)"
   ]
  },
  {
   "cell_type": "markdown",
   "metadata": {},
   "source": [
    "immune cells mean noise distribution"
   ]
  },
  {
   "cell_type": "code",
   "execution_count": 355,
   "metadata": {},
   "outputs": [
    {
     "data": {
      "image/png": "[encoded data removed]",
      "text/plain": [
       "<Figure size 432x288 with 1 Axes>"
      ]
     },
     "metadata": {
      "needs_background": "light"
     },
     "output_type": "display_data"
    }
   ],
   "source": [
    "fig, ax = plt.subplots()\n",
    "# bp = pd.DataFrame(genes_noise[(genes_noise!=0) & (genes_noise<100)]).boxplot(ax=ax)\n",
    "bp = pd.DataFrame(immune_cells_noise).boxplot(ax=ax)\n",
    "# ymin, ymax = 0, 100\n",
    "# ax.set_ylim([ymin,ymax])\n",
    "ax.set_title(\"immune cells noise distribution\");\n",
    "plt.show()\n"
   ]
  },
  {
   "cell_type": "markdown",
   "metadata": {},
   "source": [
    "immune cells, mean genes noise distribution"
   ]
  },
  {
   "cell_type": "code",
   "execution_count": 356,
   "metadata": {},
   "outputs": [
    {
     "data": {
      "image/png": "[encoded data removed]",
      "text/plain": [
       "<Figure size 432x288 with 1 Axes>"
      ]
     },
     "metadata": {
      "needs_background": "light"
     },
     "output_type": "display_data"
    },
    {
     "name": "stdout",
     "output_type": "stream",
     "text": [
      "mean noise in KRT10 is 0.355265367054653\n"
     ]
    },
    {
     "data": {
      "text/html": [
       "<div>\n",
       "<style scoped>\n",
       "    .dataframe tbody tr th:only-of-type {\n",
       "        vertical-align: middle;\n",
       "    }\n",
       "\n",
       "    .dataframe tbody tr th {\n",
       "        vertical-align: top;\n",
       "    }\n",
       "\n",
       "    .dataframe thead th {\n",
       "        text-align: right;\n",
       "    }\n",
       "</style>\n",
       "<table border=\"1\" class=\"dataframe\">\n",
       "  <thead>\n",
       "    <tr style=\"text-align: right;\">\n",
       "      <th></th>\n",
       "      <th>gene</th>\n",
       "      <th>noise</th>\n",
       "    </tr>\n",
       "  </thead>\n",
       "  <tbody>\n",
       "    <tr>\n",
       "      <th>0</th>\n",
       "      <td>MT-CO2</td>\n",
       "      <td>49.096842</td>\n",
       "    </tr>\n",
       "    <tr>\n",
       "      <th>1</th>\n",
       "      <td>MT-CO1</td>\n",
       "      <td>32.737383</td>\n",
       "    </tr>\n",
       "    <tr>\n",
       "      <th>2</th>\n",
       "      <td>B2M</td>\n",
       "      <td>32.715641</td>\n",
       "    </tr>\n",
       "    <tr>\n",
       "      <th>3</th>\n",
       "      <td>GAPDH</td>\n",
       "      <td>22.953189</td>\n",
       "    </tr>\n",
       "    <tr>\n",
       "      <th>4</th>\n",
       "      <td>MTRNR2L12</td>\n",
       "      <td>20.595673</td>\n",
       "    </tr>\n",
       "    <tr>\n",
       "      <th>...</th>\n",
       "      <td>...</td>\n",
       "      <td>...</td>\n",
       "    </tr>\n",
       "    <tr>\n",
       "      <th>95</th>\n",
       "      <td>H2AFZ</td>\n",
       "      <td>2.732150</td>\n",
       "    </tr>\n",
       "    <tr>\n",
       "      <th>96</th>\n",
       "      <td>MT-ATP8</td>\n",
       "      <td>2.730198</td>\n",
       "    </tr>\n",
       "    <tr>\n",
       "      <th>97</th>\n",
       "      <td>MT-ND5</td>\n",
       "      <td>2.720434</td>\n",
       "    </tr>\n",
       "    <tr>\n",
       "      <th>98</th>\n",
       "      <td>RPS6</td>\n",
       "      <td>2.653614</td>\n",
       "    </tr>\n",
       "    <tr>\n",
       "      <th>99</th>\n",
       "      <td>OAZ1</td>\n",
       "      <td>2.611473</td>\n",
       "    </tr>\n",
       "  </tbody>\n",
       "</table>\n",
       "<p>100 rows × 2 columns</p>\n",
       "</div>"
      ],
      "text/plain": [
       "         gene      noise\n",
       "0      MT-CO2  49.096842\n",
       "1      MT-CO1  32.737383\n",
       "2         B2M  32.715641\n",
       "3       GAPDH  22.953189\n",
       "4   MTRNR2L12  20.595673\n",
       "..        ...        ...\n",
       "95      H2AFZ   2.732150\n",
       "96    MT-ATP8   2.730198\n",
       "97     MT-ND5   2.720434\n",
       "98       RPS6   2.653614\n",
       "99       OAZ1   2.611473\n",
       "\n",
       "[100 rows x 2 columns]"
      ]
     },
     "execution_count": 356,
     "metadata": {},
     "output_type": "execute_result"
    }
   ],
   "source": [
    "n_top_gene = 100\n",
    "\n",
    "fig, ax = plt.subplots()\n",
    "# bp = pd.DataFrame(genes_noise[(genes_noise!=0) & (genes_noise<100)]).boxplot(ax=ax)\n",
    "bp = pd.DataFrame(immune_genes_noise).boxplot(ax=ax)\n",
    "ymin, ymax = 0, 100\n",
    "ax.set_ylim([ymin,ymax])\n",
    "ax.set_title(\"immune genes noise distribution\");\n",
    "plt.show()\n",
    "KRT_idx = immune_noise.gene_names.index('KRT10')\n",
    "print(f'mean noise in KRT10 is {immune_genes_noise[KRT_idx]}')\n",
    "\n",
    "\n",
    "\n",
    "top_genes_indices = np.argsort(immune_genes_noise)[::-1][:n_top_gene]\n",
    "top_gene_df = pd.DataFrame()\n",
    "top_gene_df['gene'] = np.array(immune_noise.gene_names)[top_genes_indices]\n",
    "top_gene_df['noise'] = immune_genes_noise[top_genes_indices]\n",
    "top_gene_df"
   ]
  },
  {
   "cell_type": "markdown",
   "metadata": {},
   "source": [
    "KRT10 in immune cells"
   ]
  },
  {
   "cell_type": "code",
   "execution_count": 367,
   "metadata": {},
   "outputs": [
    {
     "name": "stdout",
     "output_type": "stream",
     "text": [
      "Number of immune cells expressing KRT10 in row data: 1185\n",
      "Number of immune cells expressing KRT10 in corrected SoupX output: 801\n",
      "Number of immune cells with some degree of noise 1185\n",
      "Number of immune cells in sample 2414\n",
      "[1 1 0 ... 0 8 1]\n",
      "[0.66543224 0.14107259 0.         ... 0.         5.47286638 0.50882412]\n",
      "[0.33456776 0.85892741 0.         ... 0.         2.52713362 0.49117588]\n"
     ]
    },
    {
     "data": {
      "image/png": "[encoded data removed]",
      "text/plain": [
       "<Figure size 432x288 with 2 Axes>"
      ]
     },
     "metadata": {
      "needs_background": "light"
     },
     "output_type": "display_data"
    }
   ],
   "source": [
    "immune_soupX = SoupX_output.filter_cells_by_property('is_immune', True)\n",
    "immune_row = row_sample.filter_cells_by_property('is_immune', True)\n",
    "\n",
    "fig, ax = plt.subplots(2)\n",
    "\n",
    "\n",
    "KRT_idx = immune_soupX.gene_names.index('KRT10')\n",
    "bx1 = pd.DataFrame(immune_soupX.counts[:, KRT_idx]).boxplot(ax=ax[0])\n",
    "ax[0].set_title(\"KRT10 expression in soupX corrected matrix (immune cells)\");\n",
    "\n",
    "KRT_idx = immune_row.gene_names.index('KRT10')\n",
    "bx2 = pd.DataFrame(immune_row.counts[:, KRT_idx]).boxplot(ax=ax[1])\n",
    "ax[1].set_title(\"KRT10 expression in row matrix (immune cells)\");\n",
    "\n",
    "\n",
    "\n",
    "ymin, ymax = 0, 4\n",
    "ax[0].set_ylim([ymin,ymax])\n",
    "ax[1].set_ylim([ymin,ymax])\n",
    "\n",
    "\n",
    "print(f'Number of immune cells expressing KRT10 in row data: {sum(immune_row.counts[:, KRT_idx]>0.5)}')\n",
    "print(f'Number of immune cells expressing KRT10 in corrected SoupX output: {sum(immune_soupX.counts[:, KRT_idx]>0.5)}')\n",
    "print(f'Number of immune cells with some degree of noise {sum(immune_noise.counts[:, KRT_idx]>0)}')\n",
    "print(f'Number of immune cells in sample {immune_soupX.number_of_cells}')\n",
    "\n",
    "\n",
    "print(immune_row.counts[:, KRT_idx])\n",
    "print(immune_soupX.counts[:, KRT_idx])\n",
    "print(immune_noise.counts[:, KRT_idx])"
   ]
  },
  {
   "cell_type": "markdown",
   "metadata": {},
   "source": [
    "See what part of KRT10 expression on average was removed:"
   ]
  },
  {
   "cell_type": "code",
   "execution_count": 359,
   "metadata": {},
   "outputs": [
    {
     "data": {
      "image/png": "[encoded data removed]",
      "text/plain": [
       "<Figure size 432x288 with 1 Axes>"
      ]
     },
     "metadata": {
      "needs_background": "light"
     },
     "output_type": "display_data"
    }
   ],
   "source": [
    "indices = immune_row.counts[:, KRT_idx]!=0\n",
    "out = np.divide(immune_noise.counts[indices, KRT_idx], immune_row.counts[indices, KRT_idx])\n",
    "bp = pd.DataFrame(out).boxplot()"
   ]
  },
  {
   "cell_type": "markdown",
   "metadata": {},
   "source": [
    "tumor:"
   ]
  },
  {
   "cell_type": "code",
   "execution_count": 247,
   "metadata": {},
   "outputs": [
    {
     "data": {
      "image/png": "[encoded data removed]",
      "text/plain": [
       "<Figure size 432x288 with 1 Axes>"
      ]
     },
     "metadata": {
      "needs_background": "light"
     },
     "output_type": "display_data"
    },
    {
     "name": "stdout",
     "output_type": "stream",
     "text": [
      "Noise in KRT10 is 79.14591380501608\n"
     ]
    },
    {
     "data": {
      "text/html": [
       "<div>\n",
       "<style scoped>\n",
       "    .dataframe tbody tr th:only-of-type {\n",
       "        vertical-align: middle;\n",
       "    }\n",
       "\n",
       "    .dataframe tbody tr th {\n",
       "        vertical-align: top;\n",
       "    }\n",
       "\n",
       "    .dataframe thead th {\n",
       "        text-align: right;\n",
       "    }\n",
       "</style>\n",
       "<table border=\"1\" class=\"dataframe\">\n",
       "  <thead>\n",
       "    <tr style=\"text-align: right;\">\n",
       "      <th></th>\n",
       "      <th>gene</th>\n",
       "      <th>noise</th>\n",
       "    </tr>\n",
       "  </thead>\n",
       "  <tbody>\n",
       "    <tr>\n",
       "      <th>0</th>\n",
       "      <td>MT-CO2</td>\n",
       "      <td>30047.679418</td>\n",
       "    </tr>\n",
       "    <tr>\n",
       "      <th>1</th>\n",
       "      <td>FTH1</td>\n",
       "      <td>24818.650329</td>\n",
       "    </tr>\n",
       "    <tr>\n",
       "      <th>2</th>\n",
       "      <td>B2M</td>\n",
       "      <td>19950.559828</td>\n",
       "    </tr>\n",
       "    <tr>\n",
       "      <th>3</th>\n",
       "      <td>MT-CO1</td>\n",
       "      <td>20023.846851</td>\n",
       "    </tr>\n",
       "    <tr>\n",
       "      <th>4</th>\n",
       "      <td>GAPDH</td>\n",
       "      <td>14653.740243</td>\n",
       "    </tr>\n",
       "    <tr>\n",
       "      <th>5</th>\n",
       "      <td>MTRNR2L12</td>\n",
       "      <td>12519.255699</td>\n",
       "    </tr>\n",
       "    <tr>\n",
       "      <th>6</th>\n",
       "      <td>RPLP1</td>\n",
       "      <td>12447.800852</td>\n",
       "    </tr>\n",
       "    <tr>\n",
       "      <th>7</th>\n",
       "      <td>RPL41</td>\n",
       "      <td>10263.847567</td>\n",
       "    </tr>\n",
       "    <tr>\n",
       "      <th>8</th>\n",
       "      <td>TMSB10</td>\n",
       "      <td>8684.512222</td>\n",
       "    </tr>\n",
       "    <tr>\n",
       "      <th>9</th>\n",
       "      <td>MT-ATP6</td>\n",
       "      <td>8354.720619</td>\n",
       "    </tr>\n",
       "  </tbody>\n",
       "</table>\n",
       "</div>"
      ],
      "text/plain": [
       "        gene         noise\n",
       "0     MT-CO2  30047.679418\n",
       "1       FTH1  24818.650329\n",
       "2        B2M  19950.559828\n",
       "3     MT-CO1  20023.846851\n",
       "4      GAPDH  14653.740243\n",
       "5  MTRNR2L12  12519.255699\n",
       "6      RPLP1  12447.800852\n",
       "7      RPL41  10263.847567\n",
       "8     TMSB10   8684.512222\n",
       "9    MT-ATP6   8354.720619"
      ]
     },
     "execution_count": 247,
     "metadata": {},
     "output_type": "execute_result"
    }
   ],
   "source": [
    "n_top_gene = 10\n",
    "\n",
    "tumor_noise = noise_sample.filter_cells_by_property('is_cancer', True)\n",
    "tumor_cells_noise = np.sum(tumor_noise.counts, axis=1)\n",
    "tumor_genes_noise = np.sum(tumor_noise.counts, axis=0)\n",
    "fig, ax = plt.subplots()\n",
    "# bp = pd.DataFrame(genes_noise[(genes_noise!=0) & (genes_noise<100)]).boxplot(ax=ax)\n",
    "bp = pd.DataFrame(tumor_genes_noise).boxplot(ax=ax)\n",
    "ymin, ymax = 0, 100\n",
    "ax.set_ylim([ymin,ymax])\n",
    "plt.show()\n",
    "KRT_idx = tumor_noise.gene_names.index('KRT10')\n",
    "print(f'Noise in KRT10 is {tumor_genes_noise[KRT_idx]}')\n",
    "\n",
    "\n",
    "top_genes_indices = np.argsort(tumor_genes_noise)[::-1][:n_top_gene]\n",
    "top_gene_df = pd.DataFrame()\n",
    "top_gene_df['gene'] = np.array(tumor_noise.gene_names)[top_genes_indices]\n",
    "top_gene_df['noise'] = tumor_genes_noise[top_genes_indices]\n",
    "top_gene_df"
   ]
  },
  {
   "cell_type": "code",
   "execution_count": null,
   "metadata": {},
   "outputs": [],
   "source": []
  },
  {
   "cell_type": "code",
   "execution_count": null,
   "metadata": {},
   "outputs": [],
   "source": []
  },
  {
   "cell_type": "markdown",
   "metadata": {},
   "source": [
    "# Protein coding overlap with high variance genes (4K first genes)"
   ]
  },
  {
   "cell_type": "code",
   "execution_count": 6,
   "metadata": {},
   "outputs": [],
   "source": [
    "def keep_protein_coding_only():\n",
    "    df = pandas.read_excel(PROTEIN_CODING_FILE)\n",
    "    kept_genes_names = [gene[0] for gene in df[df.lincRNA == 'protein_coding'][['MIR1302-11']].values]\n",
    "    # indices_of_protein_coding = [i for i in range(len(gene_names)) if gene_names[i] in kept_genes_names]\n",
    "    # cells = cd45_cells[:, indices_of_protein_coding]\n",
    "    # gene_names = operator.itemgetter(*indices_of_protein_coding)(gene_names)\n",
    "    # return cells, gene_names\n",
    "    return kept_genes_names\n",
    "\n",
    "\n",
    "PROTEIN_CODING_FILE = r'/storage/md_keren/shitay/Data/tables/gene_ens_map.xlsx'\n",
    "df = pandas.read_excel(PROTEIN_CODING_FILE, header = None, names=['gene_id', 'gene', '1', '2'])"
   ]
  },
  {
   "cell_type": "code",
   "execution_count": 396,
   "metadata": {},
   "outputs": [
    {
     "data": {
      "text/html": [
       "<div>\n",
       "<style scoped>\n",
       "    .dataframe tbody tr th:only-of-type {\n",
       "        vertical-align: middle;\n",
       "    }\n",
       "\n",
       "    .dataframe tbody tr th {\n",
       "        vertical-align: top;\n",
       "    }\n",
       "\n",
       "    .dataframe thead th {\n",
       "        text-align: right;\n",
       "    }\n",
       "</style>\n",
       "<table border=\"1\" class=\"dataframe\">\n",
       "  <thead>\n",
       "    <tr style=\"text-align: right;\">\n",
       "      <th></th>\n",
       "      <th>gene_id</th>\n",
       "      <th>gene</th>\n",
       "      <th>1</th>\n",
       "      <th>2</th>\n",
       "    </tr>\n",
       "  </thead>\n",
       "  <tbody>\n",
       "    <tr>\n",
       "      <th>13870</th>\n",
       "      <td>ENSG00000186092.4</td>\n",
       "      <td>OR4F5</td>\n",
       "      <td>protein_coding</td>\n",
       "      <td>protein_coding</td>\n",
       "    </tr>\n",
       "    <tr>\n",
       "      <th>13871</th>\n",
       "      <td>ENSG00000237683.5</td>\n",
       "      <td>AL627309.1</td>\n",
       "      <td>protein_coding</td>\n",
       "      <td>protein_coding</td>\n",
       "    </tr>\n",
       "    <tr>\n",
       "      <th>13872</th>\n",
       "      <td>ENSG00000235249.1</td>\n",
       "      <td>OR4F29</td>\n",
       "      <td>protein_coding</td>\n",
       "      <td>protein_coding</td>\n",
       "    </tr>\n",
       "    <tr>\n",
       "      <th>13873</th>\n",
       "      <td>ENSG00000185097.2</td>\n",
       "      <td>OR4F16</td>\n",
       "      <td>protein_coding</td>\n",
       "      <td>protein_coding</td>\n",
       "    </tr>\n",
       "    <tr>\n",
       "      <th>13874</th>\n",
       "      <td>ENSG00000269831.1</td>\n",
       "      <td>AL669831.1</td>\n",
       "      <td>protein_coding</td>\n",
       "      <td>protein_coding</td>\n",
       "    </tr>\n",
       "    <tr>\n",
       "      <th>...</th>\n",
       "      <td>...</td>\n",
       "      <td>...</td>\n",
       "      <td>...</td>\n",
       "      <td>...</td>\n",
       "    </tr>\n",
       "    <tr>\n",
       "      <th>34641</th>\n",
       "      <td>ENSG00000212907.2</td>\n",
       "      <td>MT-ND4L</td>\n",
       "      <td>protein_coding</td>\n",
       "      <td>protein_coding</td>\n",
       "    </tr>\n",
       "    <tr>\n",
       "      <th>34642</th>\n",
       "      <td>ENSG00000198886.2</td>\n",
       "      <td>MT-ND4</td>\n",
       "      <td>protein_coding</td>\n",
       "      <td>protein_coding</td>\n",
       "    </tr>\n",
       "    <tr>\n",
       "      <th>34643</th>\n",
       "      <td>ENSG00000198786.2</td>\n",
       "      <td>MT-ND5</td>\n",
       "      <td>protein_coding</td>\n",
       "      <td>protein_coding</td>\n",
       "    </tr>\n",
       "    <tr>\n",
       "      <th>34644</th>\n",
       "      <td>ENSG00000198695.2</td>\n",
       "      <td>MT-ND6</td>\n",
       "      <td>protein_coding</td>\n",
       "      <td>protein_coding</td>\n",
       "    </tr>\n",
       "    <tr>\n",
       "      <th>34645</th>\n",
       "      <td>ENSG00000198727.2</td>\n",
       "      <td>MT-CYB</td>\n",
       "      <td>protein_coding</td>\n",
       "      <td>protein_coding</td>\n",
       "    </tr>\n",
       "  </tbody>\n",
       "</table>\n",
       "<p>20776 rows × 4 columns</p>\n",
       "</div>"
      ],
      "text/plain": [
       "                 gene_id        gene               1               2\n",
       "13870  ENSG00000186092.4       OR4F5  protein_coding  protein_coding\n",
       "13871  ENSG00000237683.5  AL627309.1  protein_coding  protein_coding\n",
       "13872  ENSG00000235249.1      OR4F29  protein_coding  protein_coding\n",
       "13873  ENSG00000185097.2      OR4F16  protein_coding  protein_coding\n",
       "13874  ENSG00000269831.1  AL669831.1  protein_coding  protein_coding\n",
       "...                  ...         ...             ...             ...\n",
       "34641  ENSG00000212907.2     MT-ND4L  protein_coding  protein_coding\n",
       "34642  ENSG00000198886.2      MT-ND4  protein_coding  protein_coding\n",
       "34643  ENSG00000198786.2      MT-ND5  protein_coding  protein_coding\n",
       "34644  ENSG00000198695.2      MT-ND6  protein_coding  protein_coding\n",
       "34645  ENSG00000198727.2      MT-CYB  protein_coding  protein_coding\n",
       "\n",
       "[20776 rows x 4 columns]"
      ]
     },
     "execution_count": 396,
     "metadata": {},
     "output_type": "execute_result"
    }
   ],
   "source": [
    "dd = df[df['2'] == 'protein_coding']\n",
    "dd"
   ]
  },
  {
   "cell_type": "code",
   "execution_count": 433,
   "metadata": {},
   "outputs": [
    {
     "name": "stdout",
     "output_type": "stream",
     "text": [
      "num genes in filtered 32738\n",
      "num genes in row      4000\n",
      "num genes in df       20776\n"
     ]
    }
   ],
   "source": [
    "g1 = filtered_sample.gene_names\n",
    "g2 = tumor_cohort.gene_names\n",
    "g3 = dd['gene'].tolist()\n",
    "\n",
    "i1 = filtered_sample.features\n",
    "i2 = tumor_cohort.features\n",
    "i3 = dd['gene_id'].tolist()\n",
    "\n",
    "\n",
    "print(f'num genes in filtered {len(g1)}')\n",
    "print(f'num genes in row      {len(g2)}')\n",
    "print(f'num genes in df       {len(g3)}')"
   ]
  },
  {
   "cell_type": "code",
   "execution_count": 434,
   "metadata": {},
   "outputs": [],
   "source": [
    "# g_inter1 = intersection_of_lists(g1, g3)\n",
    "g_inter2 = intersection_of_lists(g2, g3)\n",
    "\n",
    "# i_inter1 = intersection_of_lists(i1, i3)\n",
    "i_inter2 = intersection_of_lists(i2, i3)"
   ]
  },
  {
   "cell_type": "code",
   "execution_count": 435,
   "metadata": {},
   "outputs": [
    {
     "name": "stdout",
     "output_type": "stream",
     "text": [
      "num genes in overlap of df with filtered 20185\n",
      "num genes in overlap of df with row      3924\n",
      "num gene_ids in overlap of df with filtered 0\n",
      "num gene_ids in overlap of df with row      0\n"
     ]
    }
   ],
   "source": [
    "print(f'num genes in overlap of df with filtered {len(g_inter1)}')\n",
    "print(f'num genes in overlap of df with row      {len(g_inter2)}')\n",
    "\n",
    "\n",
    "print(f'num gene_ids in overlap of df with filtered {len(i_inter1)}')\n",
    "print(f'num gene_ids in overlap of df with row      {len(i_inter2)}')"
   ]
  },
  {
   "cell_type": "code",
   "execution_count": null,
   "metadata": {},
   "outputs": [],
   "source": []
  },
  {
   "cell_type": "code",
   "execution_count": 415,
   "metadata": {},
   "outputs": [],
   "source": [
    "# tumor_path = r'/storage/md_keren/shitay/Data/droplet_seq/cohort/normalized/5.21/cohort_normalized_24.5.21.pkl'\n",
    "IMMUNE_PATH = r'/storage/md_keren/shitay/Data/droplet_seq/cohort/normalized/6.21/immune_cells_26.6.21_4k_genes.pkl'\n",
    "\n",
    "immune_cohort = pickle.load(open(IMMUNE_PATH, 'rb'))"
   ]
  },
  {
   "cell_type": "code",
   "execution_count": 432,
   "metadata": {},
   "outputs": [],
   "source": [
    "TUMOR_PATH = r'/storage/md_keren/shitay/Data/droplet_seq/cohort/normalized/6.21/tumor_cells_4k_genes.pkl'\n",
    "\n",
    "tumor_cohort = pickle.load(open(TUMOR_PATH, 'rb'))"
   ]
  },
  {
   "cell_type": "code",
   "execution_count": 418,
   "metadata": {},
   "outputs": [
    {
     "data": {
      "text/plain": [
       "4000"
      ]
     },
     "execution_count": 418,
     "metadata": {},
     "output_type": "execute_result"
    }
   ],
   "source": [
    "len(immune_cohort.gene_names)"
   ]
  },
  {
   "cell_type": "markdown",
   "metadata": {},
   "source": [
    "See general overlap (noty protein coding genes), whether each gene in 10X shown in the table."
   ]
  },
  {
   "cell_type": "code",
   "execution_count": 30,
   "metadata": {},
   "outputs": [
    {
     "data": {
      "text/plain": [
       "Counter({1: 32552, 2: 88, 4: 1, 3: 2})"
      ]
     },
     "execution_count": 30,
     "metadata": {},
     "output_type": "execute_result"
    }
   ],
   "source": [
    "Counter(list(dict(Counter(filtered_sample.gene_names)).values()))"
   ]
  },
  {
   "cell_type": "code",
   "execution_count": 24,
   "metadata": {},
   "outputs": [
    {
     "ename": "ValueError",
     "evalue": "'LINC01134' is not in list",
     "output_type": "error",
     "traceback": [
      "\u001b[0;31m---------------------------------------------------------------------------\u001b[0m",
      "\u001b[0;31mValueError\u001b[0m                                Traceback (most recent call last)",
      "\u001b[0;32m<ipython-input-24-d46f048d7a15>\u001b[0m in \u001b[0;36m<module>\u001b[0;34m\u001b[0m\n\u001b[1;32m      4\u001b[0m \u001b[0;34m\u001b[0m\u001b[0m\n\u001b[1;32m      5\u001b[0m \u001b[0;31m# [df[gene].tolist() filtered_sample.gene_names\u001b[0m\u001b[0;34m\u001b[0m\u001b[0;34m\u001b[0m\u001b[0;34m\u001b[0m\u001b[0m\n\u001b[0;32m----> 6\u001b[0;31m \u001b[0mindices\u001b[0m \u001b[0;34m=\u001b[0m \u001b[0;34m[\u001b[0m\u001b[0mdf\u001b[0m\u001b[0;34m[\u001b[0m\u001b[0;34m'gene'\u001b[0m\u001b[0;34m]\u001b[0m\u001b[0;34m.\u001b[0m\u001b[0mtolist\u001b[0m\u001b[0;34m(\u001b[0m\u001b[0;34m)\u001b[0m\u001b[0;34m.\u001b[0m\u001b[0mindex\u001b[0m\u001b[0;34m(\u001b[0m\u001b[0mg\u001b[0m\u001b[0;34m)\u001b[0m \u001b[0;32mfor\u001b[0m \u001b[0mg\u001b[0m \u001b[0;32min\u001b[0m \u001b[0mfiltered_sample\u001b[0m\u001b[0;34m.\u001b[0m\u001b[0mgene_names\u001b[0m\u001b[0;34m]\u001b[0m\u001b[0;34m\u001b[0m\u001b[0;34m\u001b[0m\u001b[0m\n\u001b[0m",
      "\u001b[0;32m<ipython-input-24-d46f048d7a15>\u001b[0m in \u001b[0;36m<listcomp>\u001b[0;34m(.0)\u001b[0m\n\u001b[1;32m      4\u001b[0m \u001b[0;34m\u001b[0m\u001b[0m\n\u001b[1;32m      5\u001b[0m \u001b[0;31m# [df[gene].tolist() filtered_sample.gene_names\u001b[0m\u001b[0;34m\u001b[0m\u001b[0;34m\u001b[0m\u001b[0;34m\u001b[0m\u001b[0m\n\u001b[0;32m----> 6\u001b[0;31m \u001b[0mindices\u001b[0m \u001b[0;34m=\u001b[0m \u001b[0;34m[\u001b[0m\u001b[0mdf\u001b[0m\u001b[0;34m[\u001b[0m\u001b[0;34m'gene'\u001b[0m\u001b[0;34m]\u001b[0m\u001b[0;34m.\u001b[0m\u001b[0mtolist\u001b[0m\u001b[0;34m(\u001b[0m\u001b[0;34m)\u001b[0m\u001b[0;34m.\u001b[0m\u001b[0mindex\u001b[0m\u001b[0;34m(\u001b[0m\u001b[0mg\u001b[0m\u001b[0;34m)\u001b[0m \u001b[0;32mfor\u001b[0m \u001b[0mg\u001b[0m \u001b[0;32min\u001b[0m \u001b[0mfiltered_sample\u001b[0m\u001b[0;34m.\u001b[0m\u001b[0mgene_names\u001b[0m\u001b[0;34m]\u001b[0m\u001b[0;34m\u001b[0m\u001b[0;34m\u001b[0m\u001b[0m\n\u001b[0m",
      "\u001b[0;31mValueError\u001b[0m: 'LINC01134' is not in list"
     ]
    }
   ],
   "source": [
    "df\n",
    "\n",
    "# Counter(list(dict(Counter(filtered_sample.gene_names)).values()))\n",
    "\n",
    "# [df[gene].tolist() filtered_sample.gene_names\n",
    "indices = [df['gene'].tolist().index(g) for g in filtered_sample.gene_names]"
   ]
  },
  {
   "cell_type": "code",
   "execution_count": 29,
   "metadata": {},
   "outputs": [
    {
     "data": {
      "text/plain": [
       "192"
      ]
     },
     "execution_count": 29,
     "metadata": {},
     "output_type": "execute_result"
    }
   ],
   "source": [
    "sum([(not g in df['gene'].tolist()) for g in filtered_sample.gene_names])"
   ]
  },
  {
   "cell_type": "code",
   "execution_count": null,
   "metadata": {},
   "outputs": [],
   "source": []
  },
  {
   "cell_type": "code",
   "execution_count": null,
   "metadata": {},
   "outputs": [],
   "source": []
  },
  {
   "cell_type": "markdown",
   "metadata": {},
   "source": [
    "# Debug"
   ]
  },
  {
   "cell_type": "code",
   "execution_count": 79,
   "metadata": {},
   "outputs": [
    {
     "ename": "ValueError",
     "evalue": "'ENSG00000238009' is not in list",
     "output_type": "error",
     "traceback": [
      "\u001b[0;31m---------------------------------------------------------------------------\u001b[0m",
      "\u001b[0;31mValueError\u001b[0m                                Traceback (most recent call last)",
      "\u001b[0;32m<ipython-input-79-db74a9a10ee9>\u001b[0m in \u001b[0;36m<module>\u001b[0;34m\u001b[0m\n\u001b[0;32m----> 1\u001b[0;31m \u001b[0mgene_indices\u001b[0m \u001b[0;34m=\u001b[0m \u001b[0;34m[\u001b[0m\u001b[0mSoupX_output\u001b[0m\u001b[0;34m.\u001b[0m\u001b[0mfeatures\u001b[0m\u001b[0;34m.\u001b[0m\u001b[0mindex\u001b[0m\u001b[0;34m(\u001b[0m\u001b[0mg_id\u001b[0m\u001b[0;34m)\u001b[0m \u001b[0;32mfor\u001b[0m \u001b[0mg_id\u001b[0m \u001b[0;32min\u001b[0m \u001b[0mrow_sample\u001b[0m\u001b[0;34m.\u001b[0m\u001b[0mfeatures\u001b[0m\u001b[0;34m]\u001b[0m\u001b[0;34m\u001b[0m\u001b[0;34m\u001b[0m\u001b[0m\n\u001b[0m",
      "\u001b[0;32m<ipython-input-79-db74a9a10ee9>\u001b[0m in \u001b[0;36m<listcomp>\u001b[0;34m(.0)\u001b[0m\n\u001b[0;32m----> 1\u001b[0;31m \u001b[0mgene_indices\u001b[0m \u001b[0;34m=\u001b[0m \u001b[0;34m[\u001b[0m\u001b[0mSoupX_output\u001b[0m\u001b[0;34m.\u001b[0m\u001b[0mfeatures\u001b[0m\u001b[0;34m.\u001b[0m\u001b[0mindex\u001b[0m\u001b[0;34m(\u001b[0m\u001b[0mg_id\u001b[0m\u001b[0;34m)\u001b[0m \u001b[0;32mfor\u001b[0m \u001b[0mg_id\u001b[0m \u001b[0;32min\u001b[0m \u001b[0mrow_sample\u001b[0m\u001b[0;34m.\u001b[0m\u001b[0mfeatures\u001b[0m\u001b[0;34m]\u001b[0m\u001b[0;34m\u001b[0m\u001b[0;34m\u001b[0m\u001b[0m\n\u001b[0m",
      "\u001b[0;31mValueError\u001b[0m: 'ENSG00000238009' is not in list"
     ]
    }
   ],
   "source": [
    "gene_indices = [SoupX_output.features.index(g_id) for g_id in row_sample.features]"
   ]
  },
  {
   "cell_type": "code",
   "execution_count": null,
   "metadata": {},
   "outputs": [],
   "source": [
    "[row_sample.features.index(g_id) for g_id in SoupX_output.features]"
   ]
  },
  {
   "cell_type": "code",
   "execution_count": 93,
   "metadata": {},
   "outputs": [],
   "source": [
    "in_l = []\n",
    "out_l = []\n",
    "for (gene, gene_idx) in zip(filtered_sample.gene_names, filtered_sample.features):\n",
    "    if gene_idx in SoupX_output.features:\n",
    "        in_l.append([gene, gene_idx])\n",
    "    else:\n",
    "        out_l.append([gene, gene_idx])"
   ]
  },
  {
   "cell_type": "code",
   "execution_count": 144,
   "metadata": {},
   "outputs": [],
   "source": [
    "# len(SoupX_output.features)\n",
    "# len(filtered_sample.features)\n",
    "# diff_indices = [i for i in range(len(filtered_sample.features)) if filtered_sample.gene_names[i] != SoupX_output.features[i]]\n",
    "# np.array([filtered_sample.gene_names, SoupX_output.features]).T[diff_indices]"
   ]
  },
  {
   "cell_type": "code",
   "execution_count": 95,
   "metadata": {},
   "outputs": [
    {
     "name": "stdout",
     "output_type": "stream",
     "text": [
      "32738\n",
      "0\n"
     ]
    }
   ],
   "source": [
    "print(len(out_l))\n",
    "print(len(in_l))"
   ]
  },
  {
   "cell_type": "code",
   "execution_count": 98,
   "metadata": {},
   "outputs": [
    {
     "data": {
      "text/plain": [
       "['ENSG00000243485',\n",
       " 'ENSG00000237613',\n",
       " 'ENSG00000186092',\n",
       " 'ENSG00000238009',\n",
       " 'ENSG00000239945',\n",
       " 'ENSG00000237683',\n",
       " 'ENSG00000239906',\n",
       " 'ENSG00000241599',\n",
       " 'ENSG00000228463',\n",
       " 'ENSG00000237094']"
      ]
     },
     "execution_count": 98,
     "metadata": {},
     "output_type": "execute_result"
    }
   ],
   "source": [
    "filtered_sample.features[:10]"
   ]
  },
  {
   "cell_type": "code",
   "execution_count": 104,
   "metadata": {},
   "outputs": [
    {
     "data": {
      "text/plain": [
       "['MIR1302-10',\n",
       " 'FAM138A',\n",
       " 'OR4F5',\n",
       " 'RP11-34P13.7',\n",
       " 'RP11-34P13.8',\n",
       " 'AL627309.1',\n",
       " 'RP11-34P13.14',\n",
       " 'RP11-34P13.9',\n",
       " 'AP006222.2',\n",
       " 'RP4-669L17.10']"
      ]
     },
     "execution_count": 104,
     "metadata": {},
     "output_type": "execute_result"
    }
   ],
   "source": [
    "SoupX_output.features[:10]"
   ]
  },
  {
   "cell_type": "markdown",
   "metadata": {},
   "source": []
  },
  {
   "cell_type": "code",
   "execution_count": 39,
   "metadata": {},
   "outputs": [],
   "source": [
    "noise = filtered_sample.counts - SoupX_output.counts"
   ]
  },
  {
   "cell_type": "code",
   "execution_count": 57,
   "metadata": {},
   "outputs": [],
   "source": [
    "noise_pr = (np.round(noise*1000).astype(int)).flatten()"
   ]
  },
  {
   "cell_type": "code",
   "execution_count": 83,
   "metadata": {},
   "outputs": [],
   "source": []
  },
  {
   "cell_type": "code",
   "execution_count": 89,
   "metadata": {},
   "outputs": [
    {
     "data": {
      "image/png": "[encoded data removed]",
      "text/plain": [
       "<Figure size 720x720 with 1 Axes>"
      ]
     },
     "metadata": {
      "needs_background": "light"
     },
     "output_type": "display_data"
    },
    {
     "data": {
      "image/png": "[encoded data removed]",
      "text/plain": [
       "<Figure size 720x720 with 1 Axes>"
      ]
     },
     "metadata": {
      "needs_background": "light"
     },
     "output_type": "display_data"
    }
   ],
   "source": [
    "# facetgrid_obj = sns.displot(noise_pr[noise_pr!=0]);\n",
    "cells_noise = np.sum(noise, axis=1)\n",
    "genes_noise = np.sum(noise, axis=0)\n",
    "\n",
    "sns.reset_orig()\n",
    "facetgrid_obj = sns.displot(cells_noise, height=10);\n",
    "facetgrid_obj = sns.displot(genes_noise[genes_noise!=0], height=10);"
   ]
  },
  {
   "cell_type": "code",
   "execution_count": 115,
   "metadata": {},
   "outputs": [
    {
     "name": "stdout",
     "output_type": "stream",
     "text": [
      "Total read counts 12003\n",
      "noise that was cleaned 219.86106891151022\n"
     ]
    }
   ],
   "source": [
    "# np.array(gene_names)[genes_noise>200]\n",
    "KRT_idx = filtered_sample.gene_names.index('KRT10')\n",
    "\n",
    "print(f'Total read counts {sum(filtered_sample.counts[:,KRT_idx])}')\n",
    "print(f'noise that was cleaned {genes_noise[KRT_idx]}')"
   ]
  },
  {
   "cell_type": "code",
   "execution_count": null,
   "metadata": {},
   "outputs": [],
   "source": []
  },
  {
   "cell_type": "code",
   "execution_count": 237,
   "metadata": {},
   "outputs": [
    {
     "data": {
      "image/png": "[encoded data removed]",
      "text/plain": [
       "<Figure size 360x360 with 1 Axes>"
      ]
     },
     "metadata": {
      "needs_background": "light"
     },
     "output_type": "display_data"
    }
   ],
   "source": [
    "sns.reset_orig()\n",
    "immune_cells = M138[M138.cells_information.getattr('is_immune')]\n",
    "gene_index = immune_cells.gene_names.index('KRT10')\n",
    "values1 = immune_cells.counts[:, gene_index]\n",
    "\n",
    "\n",
    "immune_cells = rna_sample[rna_sample.cells_information.getattr('is_immune')]\n",
    "gene_index = immune_cells.gene_names.index('KRT10')\n",
    "values2 = immune_cells.counts[:, gene_index]\n",
    "\n",
    "\n",
    "df = pd.DataFrame(np.concatenate([np.array([[v,1] for v in values1]),np.array([[v,2] for v in values2])]))\n",
    "df[1] = df[1].astype(int)\n",
    "\n",
    "df# facetgrid_obj = sns.displot(values);\n",
    "# facetgrid_obj = sns.displot(values);\n",
    "g = sns.catplot(x=1, y=0, data=df, kind=\"box\");"
   ]
  },
  {
   "cell_type": "code",
   "execution_count": null,
   "metadata": {},
   "outputs": [],
   "source": []
  },
  {
   "cell_type": "code",
   "execution_count": 198,
   "metadata": {},
   "outputs": [
    {
     "data": {
      "text/plain": [
       "array([1, 1, 0, ..., 0, 8, 1], dtype=uint16)"
      ]
     },
     "execution_count": 198,
     "metadata": {},
     "output_type": "execute_result"
    }
   ],
   "source": [
    "# sns.catplot(values)\n",
    "values"
   ]
  },
  {
   "cell_type": "code",
   "execution_count": 196,
   "metadata": {},
   "outputs": [
    {
     "data": {
      "image/png": "[encoded data removed]",
      "text/plain": [
       "<Figure size 360x360 with 1 Axes>"
      ]
     },
     "metadata": {
      "needs_background": "light"
     },
     "output_type": "display_data"
    }
   ],
   "source": [
    "sns.reset_orig()\n",
    "\n",
    "facetgrid_obj = sns.displot(values);"
   ]
  },
  {
   "cell_type": "code",
   "execution_count": null,
   "metadata": {},
   "outputs": [],
   "source": []
  },
  {
   "cell_type": "code",
   "execution_count": 93,
   "metadata": {},
   "outputs": [
    {
     "data": {
      "text/plain": [
       "Counter({1: 32738})"
      ]
     },
     "execution_count": 93,
     "metadata": {},
     "output_type": "execute_result"
    }
   ],
   "source": [
    "Counter(df.GENE.value_counts().values)\n",
    "# df[df.GENE=='PNRC2']"
   ]
  },
  {
   "cell_type": "code",
   "execution_count": 76,
   "metadata": {},
   "outputs": [
    {
     "data": {
      "text/plain": [
       "Counter({1: 21970, 2: 23, 4: 1})"
      ]
     },
     "execution_count": 76,
     "metadata": {},
     "output_type": "execute_result"
    }
   ],
   "source": [
    "Counter(dict(Counter(rna_sample.gene_names)).values())"
   ]
  },
  {
   "cell_type": "code",
   "execution_count": 94,
   "metadata": {},
   "outputs": [],
   "source": [
    "gene_counter = dict(Counter(rna_sample.gene_names))\n",
    "# [k for k, v in gene_counter.items() if v>1]"
   ]
  },
  {
   "cell_type": "code",
   "execution_count": null,
   "metadata": {},
   "outputs": [],
   "source": []
  },
  {
   "cell_type": "markdown",
   "metadata": {},
   "source": [
    "check the num of genes in filtered_matrix files\n",
    "1. tures.tsv.gz:"
   ]
  },
  {
   "cell_type": "code",
   "execution_count": 117,
   "metadata": {},
   "outputs": [
    {
     "name": "stdout",
     "output_type": "stream",
     "text": [
      "Counter({1: 32552, 2: 88, 3: 2, 4: 1})\n",
      "32738\n"
     ]
    }
   ],
   "source": [
    "SAMPLE_PATH = '/storage/md_keren/shitay/workplace/SoupX/MR47/filtered_feature_bc_matrix/'\n",
    "\n",
    "# Extract genes names and features\n",
    "features_path = join(SAMPLE_PATH, \"features.tsv.gz\")\n",
    "feature_ids = [row[0] for row in csv.reader(gzip.open(features_path, 'rt'), delimiter=\"\\t\")]\n",
    "gene_names = [row[1] for row in csv.reader(gzip.open(features_path, 'rt'), delimiter=\"\\t\")]\n",
    "print(Counter(dict(Counter(gene_names)).values()))\n",
    "print(len(gene_names))"
   ]
  },
  {
   "cell_type": "code",
   "execution_count": 108,
   "metadata": {},
   "outputs": [
    {
     "name": "stdout",
     "output_type": "stream",
     "text": [
      "Counter({1: 32552, 2: 88, 3: 2, 4: 1})\n",
      "32738\n"
     ]
    }
   ],
   "source": [
    "SAMPLE_PATH = '/storage/md_keren/shitay/workplace/SoupX/M136/raw_feature_bc_matrix/'\n",
    "\n",
    "# Extract genes names and features\n",
    "features_path = join(SAMPLE_PATH, \"features.tsv.gz\")\n",
    "feature_ids = [row[0] for row in csv.reader(gzip.open(features_path, 'rt'), delimiter=\"\\t\")]\n",
    "gene_names = [row[1] for row in csv.reader(gzip.open(features_path, 'rt'), delimiter=\"\\t\")]\n",
    "print(Counter(dict(Counter(gene_names)).values()))\n",
    "print(len(gene_names))"
   ]
  },
  {
   "cell_type": "markdown",
   "metadata": {},
   "source": [
    "check the num of genes in filtered_matrix files: matrix.mtx.gz"
   ]
  },
  {
   "cell_type": "code",
   "execution_count": 100,
   "metadata": {},
   "outputs": [],
   "source": [
    "from scipy.io import mmread\n",
    "\n",
    "SAMPLE_PATH = '/storage/md_keren/shitay/workplace/SoupX/M138/filtered_feature_bc_matrix/'\n",
    "\n",
    "mat = np.array(mmread(join(SAMPLE_PATH, \"matrix.mtx.gz\")).todense()).astype(np.uint16).T"
   ]
  },
  {
   "cell_type": "code",
   "execution_count": 102,
   "metadata": {},
   "outputs": [
    {
     "data": {
      "text/plain": [
       "(4915, 32738)"
      ]
     },
     "execution_count": 102,
     "metadata": {},
     "output_type": "execute_result"
    }
   ],
   "source": [
    "mat.shape"
   ]
  },
  {
   "cell_type": "markdown",
   "metadata": {},
   "source": [
    "check the num of genes in ROW_DATA files"
   ]
  },
  {
   "cell_type": "code",
   "execution_count": 115,
   "metadata": {},
   "outputs": [
    {
     "name": "stdout",
     "output_type": "stream",
     "text": [
      "4915\n",
      "22020\n"
     ]
    }
   ],
   "source": [
    "from droplet_dataset import *\n",
    "\n",
    "sample_id = 'M138'\n",
    "ROW_SAMPLES_PATH = fr'/storage/md_keren/shitay/Data/droplet_seq/ROW_DATA'\n",
    "SAMPLES_INFORMATION_PATH = fr'/storage/md_keren/shitay/Data/inferCNV_data/update_runs/26.6.21'\n",
    "\n",
    "\n",
    "rna_sample = loading_sample(row_data_path=join(ROW_SAMPLES_PATH, f'{sample_id}.pkl'),\n",
    "                                    cells_information_path=join(SAMPLES_INFORMATION_PATH, f'{sample_id}.pkl'))\n",
    "print(rna_sample.number_of_cells)\n",
    "print(rna_sample.number_of_genes)"
   ]
  },
  {
   "cell_type": "code",
   "execution_count": null,
   "metadata": {},
   "outputs": [],
   "source": []
  },
  {
   "cell_type": "markdown",
   "metadata": {},
   "source": [
    "Choose a sample with many cells highly expressing KRT10 "
   ]
  },
  {
   "cell_type": "code",
   "execution_count": 238,
   "metadata": {},
   "outputs": [],
   "source": [
    "cohort_path = r'/storage/md_keren/shitay/Data/droplet_seq/cohort/normalized/6.21/cohort_normalized_26.6.21.pkl'\n",
    "cohort = pickle.load(open(cohort_path, 'rb'))\n",
    "immune_cells = cohort[cohort.cells_information.getattr('is_immune')]"
   ]
  },
  {
   "cell_type": "code",
   "execution_count": 239,
   "metadata": {},
   "outputs": [],
   "source": [
    "gene_idx = immune_cells.gene_names.index('KRT10')\n",
    "sns.reset_orig()\n",
    "m = immune_cells.counts[:, gene_idx]\n",
    "cells_with_krt10 = immune_cells[m>1]"
   ]
  },
  {
   "cell_type": "code",
   "execution_count": 244,
   "metadata": {},
   "outputs": [
    {
     "data": {
      "image/png": "[encoded data removed]",
      "text/plain": [
       "<Figure size 360x360 with 1 Axes>"
      ]
     },
     "metadata": {
      "needs_background": "light"
     },
     "output_type": "display_data"
    },
    {
     "data": {
      "image/png": "[encoded data removed]",
      "text/plain": [
       "<Figure size 360x360 with 1 Axes>"
      ]
     },
     "metadata": {
      "needs_background": "light"
     },
     "output_type": "display_data"
    }
   ],
   "source": [
    "sns.displot(m);\n",
    "sns.displot(m[m>0]);"
   ]
  },
  {
   "cell_type": "code",
   "execution_count": 53,
   "metadata": {},
   "outputs": [
    {
     "data": {
      "text/plain": [
       "{'M140': 0.018,\n",
       " 'M128': 0.077,\n",
       " 'M135': 0.096,\n",
       " 'M120': 0.111,\n",
       " 'M108': 0.13,\n",
       " 'M145': 0.137,\n",
       " 'M144': 0.138,\n",
       " 'M98': 0.147,\n",
       " 'M139': 0.148,\n",
       " 'M123': 0.154,\n",
       " 'M105': 0.175,\n",
       " 'M115': 0.177,\n",
       " 'M100': 0.185,\n",
       " 'M118': 0.195,\n",
       " 'M133': 0.209,\n",
       " 'M97': 0.21,\n",
       " 'M146': 0.212,\n",
       " 'M114': 0.214,\n",
       " 'M143': 0.215,\n",
       " 'M127': 0.217,\n",
       " 'M129': 0.22,\n",
       " 'M136': 0.225,\n",
       " 'M109': 0.234,\n",
       " 'M132': 0.234,\n",
       " 'M124': 0.239,\n",
       " 'M101': 0.252,\n",
       " 'M141': 0.258,\n",
       " 'M104': 0.258,\n",
       " 'M121': 0.258,\n",
       " 'M137': 0.273,\n",
       " 'M103': 0.281,\n",
       " 'M107': 0.284,\n",
       " 'M125': 0.301,\n",
       " 'M126': 0.304,\n",
       " 'M122': 0.307,\n",
       " 'M102': 0.312,\n",
       " 'M110': 0.326,\n",
       " 'M99': 0.326,\n",
       " 'M130': 0.333,\n",
       " 'M106': 0.336,\n",
       " 'M112': 0.347,\n",
       " 'M134': 0.357,\n",
       " 'M116': 0.361,\n",
       " 'M131': 0.361,\n",
       " 'M111': 0.434,\n",
       " 'M138': 0.468}"
      ]
     },
     "execution_count": 53,
     "metadata": {},
     "output_type": "execute_result"
    }
   ],
   "source": [
    "total = dict(Counter(immune_cells.samples))\n",
    "krt = sort_dic(dict(Counter(cells_with_krt10.samples)), by_key=False)\n",
    "sort_dic({k:round(krt[k]/total[k],3) for k in krt.keys()}, by_key=False)"
   ]
  }
 ],
 "metadata": {
  "kernelspec": {
   "display_name": "Python 3",
   "language": "python",
   "name": "python3"
  },
  "language_info": {
   "codemirror_mode": {
    "name": "ipython",
    "version": 3
   },
   "file_extension": ".py",
   "mimetype": "text/x-python",
   "name": "python",
   "nbconvert_exporter": "python",
   "pygments_lexer": "ipython3",
   "version": "3.8.3"
  }
 },
 "nbformat": 4,
 "nbformat_minor": 4
}
