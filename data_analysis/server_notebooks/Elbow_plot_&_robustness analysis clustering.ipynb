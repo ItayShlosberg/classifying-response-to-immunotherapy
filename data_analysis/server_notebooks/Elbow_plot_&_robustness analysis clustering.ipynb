{
 "cells": [
  {
   "cell_type": "markdown",
   "metadata": {},
   "source": [
    "# Using the Elbow method & robustness analysis to explore clustering output\n"
   ]
  },
  {
   "cell_type": "code",
   "execution_count": 11,
   "metadata": {},
   "outputs": [],
   "source": [
    "import numpy as np\n",
    "import pandas as pd\n",
    "import scipy\n",
    "import sklearn\n",
    "from sklearn.manifold import TSNE\n",
    "import pickle\n",
    "# from Bio.Cluster import kcluster\n",
    "import os\n",
    "import numpy as np\n",
    "import yaml\n",
    "import os\n",
    "import pandas\n",
    "from collections import Counter\n",
    "from sklearn.cluster import KMeans\n",
    "import matplotlib.pyplot as plt\n",
    "# from sklearn.metrics import confusion_matrix, ConfusionMatrixDisplay\n",
    "import sys\n",
    "import seaborn as sns\n",
    "# import pyclustering\n",
    "import matplotlib.pylab as plt\n",
    "import seaborn as sb\n",
    "from scipy.spatial.distance import cdist\n",
    "from utilities.general_helpers import flatten_list\n",
    "\n",
    "from shutil import copyfile\n",
    "import matplotlib as plt\n",
    "# ------- SERVER EXTENSIONS ---------\n",
    "lib =  r'/srv01/technion/shitay/Code/classifying_response_to_immunotherapy/utilities/droplet_dataset'\n",
    "lib2 = r'/srv01/technion/shitay/Code/classifying_response_to_immunotherapy/utilities'\n",
    "lib3 = r'/srv01/technion/shitay/Code/classifying_response_to_immunotherapy/data_analysis'\n",
    "lib4 = r'/srv01/technion/shitay/Code/classifying_response_to_immunotherapy'\n",
    "lib5 = r'/srv01/technion/shitay/Code/classifying_response_to_immunotherapy/scripts'\n",
    "import sys\n",
    "sys.path.append(lib)\n",
    "sys.path.append(lib2)\n",
    "sys.path.append(lib3)\n",
    "sys.path.append(lib4)\n",
    "sys.path.append(lib5)\n",
    "# ------- SERVER EXTENSIONS ---------"
   ]
  },
  {
   "cell_type": "markdown",
   "metadata": {},
   "source": [
    "# Elbow - mean distances"
   ]
  },
  {
   "cell_type": "code",
   "execution_count": 12,
   "metadata": {},
   "outputs": [],
   "source": [
    "FILTERED_CELLS_PATH = fr'/storage/md_keren/shitay/outputs/variance_filtered/immune_cells_var0.315.pkl'\n",
    "filtered_cells = pickle.load(open(FILTERED_CELLS_PATH, 'rb'))"
   ]
  },
  {
   "cell_type": "code",
   "execution_count": 16,
   "metadata": {},
   "outputs": [
    {
     "name": "stdout",
     "output_type": "stream",
     "text": [
      "K = 2, score 0.3116550606051973\n",
      "K = 3, score 0.3049210049758273\n",
      "K = 4, score 0.3029131073105403\n",
      "K = 5, score 0.3010566035037296\n",
      "K = 6, score 0.2945527070065452\n",
      "K = 7, score 0.2930455970247686\n",
      "K = 8, score 0.2919037552678174\n",
      "K = 9, score 0.29213928606700174\n",
      "K = 10, score 0.28923988431643366\n",
      "K = 11, score 0.2904070635221433\n",
      "K = 12, score 0.28949650698279455\n",
      "K = 13, score 0.2897383604887938\n",
      "K = 14, score 0.28818278742666875\n",
      "K = 15, score 0.2893082597430661\n"
     ]
    }
   ],
   "source": [
    "scores = []\n",
    "for K in range(2, 16):\n",
    "    print(f'K = {K}, ', end='')\n",
    "    kmeans_clusters_path = fr'/storage/md_keren/shitay/outputs/clustering/kmeans/row_kmeans/kmeans_immune_cells_var0.315_k_{K}.pkl'\n",
    "    clustering_out = pickle.load(open(kmeans_clusters_path, 'rb'))\n",
    "    # clusters_indices\n",
    "    clustering_analysis = pickle.load(open(fr'/storage/md_keren/shitay/outputs/clustering/cluster_analysis/cluster_analysis_21.3.21/cluster_analysis_k_{K}.pkl', 'rb'))\n",
    "\n",
    "\n",
    "    clustering_out.keys()\n",
    "    len(clustering_out['clusters'])\n",
    "    np.array(clustering_out['centers']).shape\n",
    "    # filtered_cells.counts.shape\n",
    "    distances = []\n",
    "    for idx in range(len(clustering_out['clusters'])):\n",
    "#         print(f'cluster {idx}')\n",
    "        cluster_indices = clustering_out['clusters'][idx]\n",
    "        cluster_center = clustering_out['centers'][idx]\n",
    "        cluster_cells = filtered_cells.counts[cluster_indices]\n",
    "        cluster_distance = np.min(cdist(cluster_cells, np.expand_dims(cluster_center, axis=0), 'correlation'), axis=1)\n",
    "#         print(cluster_distance)\n",
    "        distances.append(cluster_distance.tolist())\n",
    "    score = np.mean(np.array(flatten_list(distances)))\n",
    "    print(f'score {score}')\n",
    "    scores.append(score)\n"
   ]
  },
  {
   "cell_type": "code",
   "execution_count": null,
   "metadata": {},
   "outputs": [],
   "source": [
    "plt.pyplot.scatter(np.arange(2, 16), scores)"
   ]
  },
  {
   "cell_type": "markdown",
   "metadata": {},
   "source": [
    "# Elbow - estimating the  variance explained by a given solution \n",
    "( Cell, 2018, Figure S8B)\n",
    "\n",
    "computing the sum of pair-wise distances between all cells in different clusters Dis_b=Σl=1-k(Σi∈cl,j∉cl D(i,j)) and the total distance Dis_t= Σi,j D(i,j). The ratio between these two measures V = Dis_b/Dis_t was used to estimate the variance explained by a given solution (Figure S8B), such that in the extreme case where all cells are clustered together or the case where each cell is a single cluster, this ratio would be 0 and 1, respectively. Exploring this ratio, we then select the solutions that are near plateau\n"
   ]
  },
  {
   "cell_type": "code",
   "execution_count": null,
   "metadata": {},
   "outputs": [],
   "source": []
  }
 ],
 "metadata": {
  "kernelspec": {
   "display_name": "Python 3",
   "language": "python",
   "name": "python3"
  },
  "language_info": {
   "codemirror_mode": {
    "name": "ipython",
    "version": 3
   },
   "file_extension": ".py",
   "mimetype": "text/x-python",
   "name": "python",
   "nbconvert_exporter": "python",
   "pygments_lexer": "ipython3",
   "version": "3.7.3"
  }
 },
 "nbformat": 4,
 "nbformat_minor": 2
}
