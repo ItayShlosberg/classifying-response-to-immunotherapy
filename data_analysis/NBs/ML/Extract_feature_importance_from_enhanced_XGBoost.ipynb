{
 "cells": [
  {
   "cell_type": "markdown",
   "metadata": {},
   "source": [
    "# From updated activated T cells experiments 13.6.22"
   ]
  },
  {
   "cell_type": "code",
   "execution_count": 1,
   "metadata": {},
   "outputs": [],
   "source": [
    "lib = r'C:\\Users\\KerenYlab\\Desktop\\Technion studies\\Keren Laboratory\\python_playground\\classifying-response-to-immunotherapy'\n",
    "import sys\n",
    "sys.path.append(lib)\n",
    "from utilities.package_importing import *\n",
    "import scipy.stats as stats\n",
    "from xgboost import XGBClassifier\n",
    "from xgboost import plot_tree\n",
    "import matplotlib.pyplot as plt\n",
    "import xgboost as xgb\n",
    "from utilities.smart_seq_dataset import *\n",
    "from utilities.smart_seq_dataset import *"
   ]
  },
  {
   "cell_type": "markdown",
   "metadata": {},
   "source": [
    "### Go through all exp"
   ]
  },
  {
   "cell_type": "code",
   "execution_count": 4,
   "metadata": {},
   "outputs": [],
   "source": [
    "total_scores = []\n",
    "\n",
    "ALL_EXP_FOLDER = r'C:\\Users\\KerenYlab\\Desktop\\Technion studies\\Keren laboratory\\python_playground\\classifying-response-to-immunotherapy\\XGBoost_facilities\\Experiments\\activated_t_cells'\n",
    "for exp in os.listdir(ALL_EXP_FOLDER):\n",
    "    exp_model_path = join(ALL_EXP_FOLDER, exp, r'Enhanced_XGboost_Model.pkl')\n",
    "    enhanced_model = pickle.load(open(exp_model_path, \"rb\"))\n",
    "    \n",
    "    \n",
    "    for layer in enhanced_model.model_layers:\n",
    "        total_scores.append(layer[0].get_score(importance_type='gain'))\n",
    "    "
   ]
  },
  {
   "cell_type": "code",
   "execution_count": 5,
   "metadata": {},
   "outputs": [],
   "source": [
    "scores_dic = {}\n",
    "for scores_xgbbost in total_scores:\n",
    "    for gene, gene_score in scores_xgbbost.items():\n",
    "        scores_dic[gene] = scores_dic.get(gene, [])+[gene_score]"
   ]
  },
  {
   "cell_type": "code",
   "execution_count": 6,
   "metadata": {},
   "outputs": [],
   "source": [
    "score_df = pd.DataFrame(columns=['gene', 'avg_score', 'usage'])\n",
    "for gene, gene_scores in scores_dic.items():\n",
    "    score_df = score_df.append(pd.DataFrame([[gene, np.mean(gene_scores), len(gene_scores)]], columns=score_df.columns))"
   ]
  },
  {
   "cell_type": "code",
   "execution_count": 8,
   "metadata": {},
   "outputs": [
    {
     "data": {
      "text/html": [
       "<div>\n",
       "<style scoped>\n",
       "    .dataframe tbody tr th:only-of-type {\n",
       "        vertical-align: middle;\n",
       "    }\n",
       "\n",
       "    .dataframe tbody tr th {\n",
       "        vertical-align: top;\n",
       "    }\n",
       "\n",
       "    .dataframe thead th {\n",
       "        text-align: right;\n",
       "    }\n",
       "</style>\n",
       "<table border=\"1\" class=\"dataframe\">\n",
       "  <thead>\n",
       "    <tr style=\"text-align: right;\">\n",
       "      <th></th>\n",
       "      <th>gene</th>\n",
       "      <th>avg_score</th>\n",
       "      <th>usage</th>\n",
       "    </tr>\n",
       "  </thead>\n",
       "  <tbody>\n",
       "  </tbody>\n",
       "</table>\n",
       "</div>"
      ],
      "text/plain": [
       "Empty DataFrame\n",
       "Columns: [gene, avg_score, usage]\n",
       "Index: []"
      ]
     },
     "execution_count": 8,
     "metadata": {},
     "output_type": "execute_result"
    }
   ],
   "source": [
    "pd.set_option('display.max_rows', 30)\n",
    "\n",
    "score_df.sort_values(['avg_score'], ascending=False).iloc[:20]#.gene.tolist()"
   ]
  },
  {
   "cell_type": "code",
   "execution_count": null,
   "metadata": {},
   "outputs": [],
   "source": []
  },
  {
   "cell_type": "code",
   "execution_count": null,
   "metadata": {},
   "outputs": [],
   "source": []
  },
  {
   "cell_type": "markdown",
   "metadata": {},
   "source": [
    "# DEBUG"
   ]
  },
  {
   "cell_type": "code",
   "execution_count": null,
   "metadata": {},
   "outputs": [],
   "source": []
  },
  {
   "cell_type": "code",
   "execution_count": null,
   "metadata": {},
   "outputs": [],
   "source": []
  },
  {
   "cell_type": "code",
   "execution_count": null,
   "metadata": {},
   "outputs": [],
   "source": [
    "EXP_PATH = r'C:\\Users\\KerenYlab\\Desktop\\Technion studies\\courses\\Cancer Bioinformatics - 066529\\Final project\\submission_CB\\Results\\All Experiments outputs\\exp_44'\n",
    "XGBOOST_FILE_NAME = r'Enhanced_XGboost_Model.pkl'\n",
    "\n",
    "enhanced_model = pickle.load(open(join(EXP_PATH, XGBOOST_FILE_NAME), \"rb\"))\n",
    "xgb_model = enhanced_model.model_layers[0][0]"
   ]
  },
  {
   "cell_type": "code",
   "execution_count": null,
   "metadata": {},
   "outputs": [],
   "source": [
    "EXP_PATH = r'C:\\Users\\KerenYlab\\Desktop\\Technion studies\\Keren laboratory\\python_playground\\classifying-response-to-immunotherapy\\XGBoost_facilities\\Experiments\\dummy'\n",
    "XGBOOST_FILE_NAME = r'Enhanced_XGboost_Model.pkl'\n",
    "\n",
    "enhanced_model = pickle.load(open(join(EXP_PATH, XGBOOST_FILE_NAME), \"rb\"))\n",
    "shaply_object = enhanced_model.model_layers[0][3]\n",
    "explainer = shaply_object[0]\n",
    "shap_values = shaply_object[1]"
   ]
  },
  {
   "cell_type": "code",
   "execution_count": null,
   "metadata": {},
   "outputs": [],
   "source": [
    "CONFIG_NAME = r'config.yaml'\n",
    "\n",
    "with open(join(EXP_PATH, CONFIG_NAME), 'r') as f:\n",
    "    config = yaml.safe_load(f)"
   ]
  },
  {
   "cell_type": "code",
   "execution_count": null,
   "metadata": {},
   "outputs": [],
   "source": [
    "split_data_path = config['DATASET']['split_data_path']\n",
    "pickle_path = r'C:\\Users\\KerenYlab\\Desktop\\Technion studies\\Keren laboratory\\python_playground\\classifying-response-to-immunotherapy\\XGBoost_facilities\\data\\smartseq_data_4k_genes.p'\n",
    "\n",
    "cells, gene_names, patients_information = pickle.load(open(pickle_path, \"rb\"))\n",
    "# Builds datasets\n",
    "\n",
    "whole_rna_seq_dataset = RNAseq_Dataset(cells, patients_information, gene_names)\n",
    "train_patients_names = pickle.load(open(split_data_path, \"rb\"))\n",
    "train_dataset, test_dataset = whole_rna_seq_dataset.split_by_patient_names(train_patients_names)"
   ]
  },
  {
   "cell_type": "code",
   "execution_count": null,
   "metadata": {},
   "outputs": [],
   "source": []
  }
 ],
 "metadata": {
  "kernelspec": {
   "display_name": "Python 3",
   "language": "python",
   "name": "python3"
  },
  "language_info": {
   "codemirror_mode": {
    "name": "ipython",
    "version": 3
   },
   "file_extension": ".py",
   "mimetype": "text/x-python",
   "name": "python",
   "nbconvert_exporter": "python",
   "pygments_lexer": "ipython3",
   "version": "3.8.5"
  }
 },
 "nbformat": 4,
 "nbformat_minor": 4
}
