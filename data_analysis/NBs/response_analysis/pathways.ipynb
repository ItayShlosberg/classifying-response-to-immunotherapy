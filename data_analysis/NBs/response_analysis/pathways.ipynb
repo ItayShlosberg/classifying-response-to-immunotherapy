{
 "cells": [
  {
   "cell_type": "markdown",
   "metadata": {},
   "source": [
    "Add pathways to marker excels"
   ]
  },
  {
   "cell_type": "code",
   "execution_count": 1,
   "metadata": {},
   "outputs": [],
   "source": [
    "# ------- SERVER EXTENSIONS ---------\n",
    "lib =  r'C:\\Users\\KerenYlab\\Desktop\\Technion studies\\Keren laboratory\\python_playground\\classifying-response-to-immunotherapy\\utilities\\droplet_dataset'\n",
    "lib2 = r'C:\\Users\\KerenYlab\\Desktop\\Technion studies\\Keren laboratory\\python_playground\\classifying-response-to-immunotherapy\\utilities'\n",
    "lib3 = r'C:\\Users\\KerenYlab\\Desktop\\Technion studies\\Keren laboratory\\python_playground\\classifying-response-to-immunotherapy\\data_analysis'\n",
    "lib4 = r'C:\\Users\\KerenYlab\\Desktop\\Technion studies\\Keren laboratory\\python_playground\\classifying-response-to-immunotherapy'\n",
    "lib5 = r'C:\\Users\\KerenYlab\\Desktop\\Technion studies\\Keren laboratory\\python_playground\\classifying-response-to-immunotherapy\\scripts'\n",
    "import sys\n",
    "sys.path.append(lib)\n",
    "sys.path.append(lib2)\n",
    "sys.path.append(lib3)\n",
    "sys.path.append(lib4)\n",
    "sys.path.append(lib5)\n",
    "# ------- SERVER EXTENSIONS ---------import numpy as np\n",
    "import pandas as pd\n",
    "import scipy\n",
    "import sklearn\n",
    "from sklearn.manifold import TSNE\n",
    "import pickle\n",
    "# from Bio.Cluster import kcluster\n",
    "import os\n",
    "import numpy as np\n",
    "import yaml\n",
    "import os\n",
    "import pandas\n",
    "from collections import Counter\n",
    "from sklearn.cluster import KMeans\n",
    "import matplotlib.pyplot as plt\n",
    "# from sklearn.metrics import confusion_matrix, ConfusionMatrixDisplay\n",
    "import sys\n",
    "import seaborn as sns\n",
    "# import pyclustering\n",
    "import matplotlib.pylab as plt\n",
    "import seaborn as sb\n",
    "from os.path import join\n",
    "plt.rcParams['figure.dpi'] = 400\n",
    "import seaborn as sns\n",
    "from utilities.general_helpers import sort_dic\n",
    "from utilities.general_helpers import transpose\n",
    "from general_helpers import create_folder\n",
    "from shutil import copyfile\n",
    "import matplotlib.pyplot as plt\n",
    "import random\n"
   ]
  },
  {
   "cell_type": "code",
   "execution_count": 12,
   "metadata": {},
   "outputs": [],
   "source": [
    "ROW = r'C:\\Users\\KerenYlab\\Desktop\\Technion studies\\Keren laboratory\\milestones\\milestone 10 - 5.8.21\\response_analysis\\pathways\\ROW'\n",
    "OUTPUT = r'C:\\Users\\KerenYlab\\Desktop\\Technion studies\\Keren laboratory\\milestones\\milestone 10 - 5.8.21\\response_analysis\\pathways\\OUTPUT'"
   ]
  },
  {
   "cell_type": "code",
   "execution_count": 13,
   "metadata": {},
   "outputs": [],
   "source": [
    "def line_is_hallmark(line):\n",
    "    return \"HALLMARK\" == line[:8]\n",
    "\n",
    "\n",
    "for group in os.listdir(ROW):\n",
    "    with open(os.path.join(ROW, group), 'r') as f:\n",
    "        lines = f.readlines()\n",
    "    last_hallmark_idx = [line_is_hallmark(s) for s in lines[10:]].index(False)+10\n",
    "    new_lines = lines[9: last_hallmark_idx]\n",
    "    \n",
    "    with open(os.path.join(OUTPUT, group), 'w') as w:\n",
    "        w.writelines(new_lines)"
   ]
  },
  {
   "cell_type": "code",
   "execution_count": 14,
   "metadata": {},
   "outputs": [],
   "source": [
    "EXCEL_PATH = r'C:\\Users\\KerenYlab\\Desktop\\Technion studies\\Keren laboratory\\milestones\\milestone 10 - 5.8.21\\response_analysis\\pathways'\n",
    "writer_path = os.path.join(EXCEL_PATH, 'analysis_pathways.xlsx')\n",
    "writer = pd.ExcelWriter(writer_path, engine='xlsxwriter')\n",
    "for group in sorted(os.listdir(OUTPUT)):\n",
    "    group_pathways_path = os.path.join(OUTPUT, group)\n",
    "    new_sheet = pd.read_csv(group_pathways_path, sep='\\t')\n",
    "#     new_sheet = new_sheet.reindex(sorted(new_sheet.columns), axis=1)\n",
    "    new_sheet.to_excel(writer, sheet_name=group[:-4], index=False)\n",
    "writer.save()"
   ]
  }
 ],
 "metadata": {
  "kernelspec": {
   "display_name": "Python 3",
   "language": "python",
   "name": "python3"
  },
  "language_info": {
   "codemirror_mode": {
    "name": "ipython",
    "version": 3
   },
   "file_extension": ".py",
   "mimetype": "text/x-python",
   "name": "python",
   "nbconvert_exporter": "python",
   "pygments_lexer": "ipython3",
   "version": "3.8.5"
  }
 },
 "nbformat": 4,
 "nbformat_minor": 4
}
