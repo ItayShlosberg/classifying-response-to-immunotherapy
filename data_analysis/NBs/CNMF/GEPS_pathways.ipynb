{
 "cells": [
  {
   "cell_type": "code",
   "execution_count": 1,
   "metadata": {},
   "outputs": [],
   "source": [
    "lib = r'C:\\Users\\KerenYlab\\Desktop\\Technion studies\\Keren laboratory\\python_playground\\classifying-response-to-immunotherapy'\n",
    "import sys\n",
    "sys.path.append(lib)\n",
    "from utilities.package_importing import *"
   ]
  },
  {
   "cell_type": "markdown",
   "metadata": {},
   "source": [
    "# USE the Tool: https://www.gsea-msigdb.org/gsea/msigdb/compute_overlaps.jsp for each program and create the overlap txt file. Then, use this script to combine them"
   ]
  },
  {
   "cell_type": "code",
   "execution_count": 2,
   "metadata": {},
   "outputs": [],
   "source": [
    "ROW = r'C:\\Users\\KerenYlab\\Desktop\\Technion studies\\Keren laboratory\\milestones\\milestone 14 - 22.12.21\\subcohort\\subcohort_GEP_7.1.22\\k20_2000genes_200iter\\pathways\\row'\n",
    "OUTPUT = r'C:\\Users\\KerenYlab\\Desktop\\Technion studies\\Keren laboratory\\milestones\\milestone 14 - 22.12.21\\subcohort\\subcohort_GEP_7.1.22\\k20_2000genes_200iter\\pathways\\converted'"
   ]
  },
  {
   "cell_type": "markdown",
   "metadata": {},
   "source": [
    "#### cut the overlap file and keep the important part of it (the pathways df)"
   ]
  },
  {
   "cell_type": "code",
   "execution_count": 3,
   "metadata": {},
   "outputs": [],
   "source": [
    "def line_is_hallmark(line):\n",
    "    return \"HALLMARK\" == line[:8]\n",
    "\n",
    "\n",
    "for gep in os.listdir(ROW):\n",
    "    with open(os.path.join(ROW, gep), 'r') as f:\n",
    "        lines = f.readlines()\n",
    "    last_hallmark_idx = [line_is_hallmark(s) for s in lines[10:]].index(False)+10\n",
    "    new_lines = lines[9: last_hallmark_idx]\n",
    "    \n",
    "    with open(os.path.join(OUTPUT, gep), 'w') as w:\n",
    "        w.writelines(new_lines)\n"
   ]
  },
  {
   "cell_type": "markdown",
   "metadata": {},
   "source": [
    "#### Combine them"
   ]
  },
  {
   "cell_type": "code",
   "execution_count": 4,
   "metadata": {},
   "outputs": [],
   "source": [
    "EXCEL_PATH = r'C:\\Users\\KerenYlab\\Desktop\\Technion studies\\Keren laboratory\\milestones\\milestone 14 - 22.12.21\\subcohort\\subcohort_GEP_7.1.22\\k20_2000genes_200iter\\pathways'\n",
    "writer_path = os.path.join(EXCEL_PATH, 'GEPS_pathways.xlsx')\n",
    "writer = pd.ExcelWriter(writer_path, engine='xlsxwriter')\n",
    "for gep in sorted(os.listdir(OUTPUT)):\n",
    "    gep_pathways_path = os.path.join(OUTPUT, gep)\n",
    "    new_sheet = pd.read_csv(gep_pathways_path, sep='\\t')\n",
    "#     new_sheet = new_sheet.reindex(sorted(new_sheet.columns), axis=1)\n",
    "    new_sheet.to_excel(writer, sheet_name=gep[:-4], index=False)\n",
    "writer.save()"
   ]
  },
  {
   "cell_type": "code",
   "execution_count": null,
   "metadata": {},
   "outputs": [],
   "source": []
  }
 ],
 "metadata": {
  "kernelspec": {
   "display_name": "Python 3",
   "language": "python",
   "name": "python3"
  },
  "language_info": {
   "codemirror_mode": {
    "name": "ipython",
    "version": 3
   },
   "file_extension": ".py",
   "mimetype": "text/x-python",
   "name": "python",
   "nbconvert_exporter": "python",
   "pygments_lexer": "ipython3",
   "version": "3.8.5"
  }
 },
 "nbformat": 4,
 "nbformat_minor": 4
}
