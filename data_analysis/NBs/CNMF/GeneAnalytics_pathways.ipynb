{
 "cells": [
  {
   "cell_type": "code",
   "execution_count": 3,
   "metadata": {},
   "outputs": [],
   "source": [
    "lib = r'C:\\Users\\KerenYlab\\Desktop\\Technion studies\\Keren Laboratory\\python_playground\\classifying-response-to-immunotherapy'\n",
    "import sys\n",
    "sys.path.append(lib)\n",
    "from utilities.package_importing import *\n",
    "from openpyxl import Workbook, load_workbook\n"
   ]
  },
  {
   "cell_type": "code",
   "execution_count": null,
   "metadata": {},
   "outputs": [],
   "source": [
    "GEPS_PATH = r'C:\\Users\\KerenYlab\\Desktop\\Technion studies\\Keren laboratory\\milestones\\milestone 16 - 26.4.22\\GEP_cohort_5.5.22\\K21\\pathways\\row'\n",
    "OUTPUT = r'C:\\Users\\KerenYlab\\Desktop\\Technion studies\\Keren laboratory\\milestones\\milestone 16 - 26.4.22\\GEP_cohort_5.5.22\\K21\\pathways'"
   ]
  },
  {
   "cell_type": "code",
   "execution_count": 76,
   "metadata": {},
   "outputs": [],
   "source": [
    "\n",
    "FILE_NAME = os.listdir(GEPS_PATH)[0]\n",
    "\n",
    "workbook = load_workbook(join(GEPS_PATH, FILE_NAME)) # Your Excel file\n",
    "for sheet_name in [name for name in workbook.sheetnames]:# if name!= 'Pathways']:\n",
    "    workbook.remove(workbook[sheet_name])\n"
   ]
  },
  {
   "cell_type": "code",
   "execution_count": 78,
   "metadata": {},
   "outputs": [],
   "source": [
    "for FILE_NAME in os.listdir(GEPS_PATH):\n",
    "    curr_workbook = load_workbook(join(GEPS_PATH, FILE_NAME))\n",
    "    sheet_name = FILE_NAME.split('.')[0]\n",
    "    sheet = curr_workbook['Pathways']\n",
    "    sheet.title = sheet_name\n",
    "    sheet._parent = workbook\n",
    "\n",
    "    workbook._add_sheet(sheet)\n"
   ]
  },
  {
   "cell_type": "code",
   "execution_count": 79,
   "metadata": {},
   "outputs": [],
   "source": [
    "OUTPUT = r'C:\\Users\\KerenYlab\\Desktop\\Technion studies\\Keren laboratory\\milestones\\milestone 16 - 26.4.22\\GEP_cohort_5.5.22\\K21\\pathways'\n",
    "workbook.save(join(GEPS_PATH, r'combined.xlsx'))"
   ]
  }
 ],
 "metadata": {
  "kernelspec": {
   "display_name": "Python 3",
   "language": "python",
   "name": "python3"
  },
  "language_info": {
   "codemirror_mode": {
    "name": "ipython",
    "version": 3
   },
   "file_extension": ".py",
   "mimetype": "text/x-python",
   "name": "python",
   "nbconvert_exporter": "python",
   "pygments_lexer": "ipython3",
   "version": "3.8.5"
  }
 },
 "nbformat": 4,
 "nbformat_minor": 4
}
