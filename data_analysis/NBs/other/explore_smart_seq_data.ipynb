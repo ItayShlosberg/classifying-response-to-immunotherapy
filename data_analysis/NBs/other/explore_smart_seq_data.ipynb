{
 "cells": [
  {
   "cell_type": "markdown",
   "metadata": {},
   "source": [
    "#  cells participating in clusters of T-cells (group statistics)"
   ]
  },
  {
   "cell_type": "code",
   "execution_count": 1,
   "metadata": {},
   "outputs": [],
   "source": [
    "import pickle\n",
    "from termcolor import colored\n",
    "import sys\n",
    "from collections import  Counter\n",
    "lib = r'D:\\Technion studies\\Keren Laboratory\\python_playground\\classifying-response-to-immunotherapy'\n",
    "sys.path.append(lib)\n",
    "from utilities.smart_seq_dataset import RNAseq_Dataset\n",
    "def extract_data_from_pickle(pickle_path):\n",
    "    \"\"\"\n",
    "    Retrieves data from PC located in PICKLE_PATH.\n",
    "    :return: cells_form, gene_names, patients_information\n",
    "    \"\"\"\n",
    "    cells_form, gene_names, patients_information = pickle.load(open(pickle_path, \"rb\"))\n",
    "    return cells_form, gene_names, patients_information\n",
    "\n",
    "\n",
    "# PICKLE_PATH = r'DATA\\1-16291cells.p'\n",
    "# PICKLE_PATH = r'D:\\Technion studies\\Keren Laboratory\\Data\\smart_seq\\SmartSeq_RNAseq_DATA.p'\n",
    "PICKLE_PATH = r'D:\\Technion studies\\Keren Laboratory\\python_playground\\outputs\\smart_seq\\SmartSeq_RNAseq_DATA_3.1.2021.p'"
   ]
  },
  {
   "cell_type": "markdown",
   "metadata": {},
   "source": [
    "Retrieve Dataset:"
   ]
  },
  {
   "cell_type": "code",
   "execution_count": 2,
   "metadata": {},
   "outputs": [],
   "source": [
    "cells, gene_names, patients_information = extract_data_from_pickle(PICKLE_PATH)\n",
    "dataset = RNAseq_Dataset(cells, patients_information, gene_names)"
   ]
  },
  {
   "cell_type": "markdown",
   "metadata": {},
   "source": [
    "All Supervides cell typs:"
   ]
  },
  {
   "cell_type": "code",
   "execution_count": 4,
   "metadata": {},
   "outputs": [],
   "source": [
    "cell_types = ['T cells', 'CD4 helper T cells', 'CD8 Cytotoxic T cells', 'Regulatory T cells', 'Regulatory CD4 T cells', 'Regulatory CD8 T cells', 'Regulatory CD4_CD8 T cells', 'NKT cells', 'NK cells', 'B cells', 'Activated T cells', 'Senescence T cells', 'Terminal effector', 'Exhausted T cells', 'Stem_like T cells', 'Memory T cells', 'Memory CD4 T cells', 'Memory CD8 T cells', 'Memory CD4_CD8 T cells', 'Macrophage_immature', 'Macrophage_mature', 'Monocyte_immature', 'Monocyte_mature', 'cDCs_dendritic_cells', 'pDCs', 'myeloid cells_general_immature', 'myeloid cells_general_mature', 'Neutrophils', 'Granolocytes', 'CD4+CD8+ T cells']"
   ]
  },
  {
   "cell_type": "code",
   "execution_count": 7,
   "metadata": {},
   "outputs": [],
   "source": [
    "# some helper functions\n",
    "def flatten_list(l):\n",
    "    return [item for sublist in l for item in sublist]\n",
    "def sort(_counter):\n",
    "    return sorted(_counter.items(), key=lambda pair: pair[0], reverse=False)\n",
    "\n",
    "def search_in_list(count_list, key):\n",
    "    d = {v[0]:v[1] for v in count_list}\n",
    "    return d.get(key, 0)\n",
    "\n",
    "def is_overlap(l1 , l2):\n",
    "    return len([f for f in l1 if f in l2])!=0"
   ]
  },
  {
   "cell_type": "markdown",
   "metadata": {},
   "source": [
    "Cells participating in T-cells cluster (CD8_B and CD8_G) amount:"
   ]
  },
  {
   "cell_type": "code",
   "execution_count": 8,
   "metadata": {},
   "outputs": [
    {
     "name": "stdout",
     "output_type": "stream",
     "text": [
      "total number of cells:\n",
      "16291\n",
      "number of cells participating in T-cell cluster:\n",
      "6350\n"
     ]
    }
   ],
   "source": [
    "print(\"total number of cells:\")\n",
    "print(len(patients_information))\n",
    "print(\"number of cells participating in T-cell cluster:\")\n",
    "print(len([p['general 11 cluster'] for p in patients_information if p['T-cell 6 cluster']]))"
   ]
  },
  {
   "cell_type": "markdown",
   "metadata": {},
   "source": [
    "See distibutation of participated cells in cluster over supervised cell typs:"
   ]
  },
  {
   "cell_type": "code",
   "execution_count": 9,
   "metadata": {},
   "outputs": [
    {
     "name": "stdout",
     "output_type": "stream",
     "text": [
      "\u001b[31mFor each cell-type shows amount of cells participating in CD8 clustering (CD8_B and CD8_G):\u001b[0m\n",
      "\n",
      "supervised classification        total cells   |   participating in CD8 Clustering   |   not participating in CD8 Clustering\n",
      "                       T cells           9990                            6350                            3640\n",
      "            CD4 helper T cells           2196                               0                            2196\n",
      "         CD8 Cytotoxic T cells           6350                            6350                               0\n",
      "            Regulatory T cells            140                               0                             140\n",
      "        Regulatory CD4 T cells            718                               0                             718\n",
      "        Regulatory CD8 T cells             28                               0                              28\n",
      "    Regulatory CD4_CD8 T cells             12                               0                              12\n",
      "                     NKT cells            638                               0                             638\n",
      "                      NK cells            233                               0                             233\n",
      "                       B cells           1717                               0                            1717\n",
      "             Activated T cells           5007                            2633                            2374\n",
      "            Senescence T cells              8                               6                               2\n",
      "             Terminal effector              0                               0                               0\n",
      "             Exhausted T cells           8215                            4941                            3274\n",
      "             Stem_like T cells              0                               0                               0\n",
      "                Memory T cells             83                               0                              83\n",
      "            Memory CD4 T cells            131                               0                             131\n",
      "            Memory CD8 T cells            127                             124                               3\n",
      "        Memory CD4_CD8 T cells              4                               1                               3\n",
      "           Macrophage_immature             11                               0                              11\n",
      "             Macrophage_mature            668                               0                             668\n",
      "             Monocyte_immature              7                               0                               7\n",
      "               Monocyte_mature            780                               0                             780\n",
      "          cDCs_dendritic_cells           1043                               0                            1043\n",
      "                          pDCs            162                               0                             162\n",
      "myeloid cells_general_immature              6                               0                               6\n",
      "  myeloid cells_general_mature            539                               0                             539\n",
      "                   Neutrophils             40                               0                              40\n",
      "                  Granolocytes            154                               0                             154\n",
      "              CD4+CD8+ T cells             95                               0                              95\n"
     ]
    }
   ],
   "source": [
    "print(colored(\"For each cell-type shows amount of cells participating in CD8 clustering (CD8_B and CD8_G):\", 'red'), end='\\n\\n')\n",
    "\n",
    "\n",
    "total = sort(Counter(flatten_list([p['supervised classification'] for p in patients_information])))\n",
    "is_t = sort(Counter(flatten_list([p['supervised classification'] for p in patients_information if p['T-cell 6 cluster']])))\n",
    "is_n_t = sort(Counter(flatten_list([p['supervised classification'] for p in patients_information if not p['T-cell 6 cluster']])))\n",
    "\n",
    "print(\"supervised classification        total cells   |   participating in CD8 Clustering   |   not participating in CD8 Clustering\")\n",
    "for ct in cell_types:\n",
    "    print('%30s   %12d%32d%32d' % (ct, search_in_list(total,ct), search_in_list(is_t,ct), search_in_list(is_n_t,ct)))\n"
   ]
  },
  {
   "cell_type": "markdown",
   "metadata": {},
   "source": [
    "See distibutation of participated cells in cluster over general 11-clusters:"
   ]
  },
  {
   "cell_type": "code",
   "execution_count": 50,
   "metadata": {},
   "outputs": [
    {
     "name": "stdout",
     "output_type": "stream",
     "text": [
      "\u001b[31mEach cluster in General_11_Clusters shows amount of cells participating in T-cells cluster (CD8_B and CD8_G):\u001b[0m\n",
      "\n",
      "number of cells:   total cells   |   participating in t-cell Cluster   |   not participating in T-cell Cluster\n",
      "cluster  G1          1455                               1                            1454\n",
      "cluster  G2           305                              17                             288\n",
      "cluster  G3          1391                               1                            1390\n",
      "cluster  G4           290                               1                             289\n",
      "cluster  G5          2165                            1246                             919\n",
      "cluster  G6          2222                            1603                             619\n",
      "cluster  G7          1740                              34                            1706\n",
      "cluster  G8          2165                            1225                             940\n",
      "cluster  G9          1656                            1194                             462\n",
      "cluster G10          1773                             472                            1301\n",
      "cluster G11          1129                             556                             573\n"
     ]
    }
   ],
   "source": [
    "print(colored(\"Each cluster in General_11_Clusters shows amount of cells participating in T-cells cluster (CD8_B and CD8_G):\", 'red'), end='\\n\\n')\n",
    "\n",
    "is_t = sort(Counter([p['general 11 cluster'] for p in patients_information if p['T-cell 6 cluster']]))\n",
    "is_n_t = sort(Counter([p['general 11 cluster'] for p in patients_information if not p['T-cell 6 cluster']]))\n",
    "total = sort(Counter([p['general 11 cluster'] for p in patients_information]))\n",
    "print(\"number of cells:   total cells   |   participating in t-cell Cluster   |   not participating in T-cell Cluster\")\n",
    "for i in range(1, 12):\n",
    "    print('cluster %3s  %12d%32d%32d' % ('G'+str(i), search_in_list(total,i), search_in_list(is_t,i), search_in_list(is_n_t,i)))"
   ]
  },
  {
   "cell_type": "markdown",
   "metadata": {},
   "source": [
    "General cluster distribution over cell-types"
   ]
  },
  {
   "cell_type": "code",
   "execution_count": 51,
   "metadata": {},
   "outputs": [
    {
     "name": "stdout",
     "output_type": "stream",
     "text": [
      "\u001b[31mEach cluster in General_11_Clusters shows amount of appearances of each supervised cell-type\u001b[0m\n",
      "\n",
      "Supervised Classification|Cluster: G1      G2      G3      G4      G5      G6      G7      G8      G9      G10      G11      \n",
      "                        T cells     6 |    36 |    14 |    43 |  1849 |  1796 |   834 |  1660 |  1451 |  1481 |   820 | \n",
      "             CD4 helper T cells     3 |    17 |    10 |    42 |   295 |    87 |   630 |   209 |   119 |   611 |   173 | \n",
      "          CD8 Cytotoxic T cells     1 |    17 |     1 |     1 |  1246 |  1603 |    34 |  1225 |  1194 |   472 |   556 | \n",
      "             Regulatory T cells     2 |     0 |     0 |     0 |     6 |     0 |   107 |     1 |     0 |    23 |     1 | \n",
      "         Regulatory CD4 T cells     0 |     0 |     5 |     0 |    19 |     6 |   574 |     1 |     7 |    46 |    60 | \n",
      "         Regulatory CD8 T cells     0 |     0 |     0 |     0 |     2 |     5 |     7 |     0 |     9 |     3 |     2 | \n",
      "     Regulatory CD4_CD8 T cells     0 |     0 |     1 |     0 |     0 |     0 |     9 |     0 |     0 |     1 |     1 | \n",
      "                      NKT cells     0 |     2 |     3 |     0 |    87 |   153 |     8 |   144 |   144 |    11 |    86 | \n",
      "                       NK cells     0 |     1 |    14 |     0 |    54 |     1 |     1 |   154 |     3 |     4 |     1 | \n",
      "                        B cells  1367 |   235 |    17 |     3 |    30 |     5 |     3 |    15 |     5 |    20 |    17 | \n",
      "              Activated T cells     4 |    23 |    10 |    33 |  1226 |   480 |   434 |  1026 |   398 |  1021 |   352 | \n",
      "             Senescence T cells     0 |     0 |     0 |     0 |     0 |     2 |     0 |     4 |     1 |     0 |     1 | \n",
      "              Terminal effector     0 |     0 |     0 |     0 |     0 |     0 |     0 |     0 |     0 |     0 |     0 | \n",
      "              Exhausted T cells     4 |    15 |    20 |    25 |  1049 |  1741 |  1372 |   983 |  1421 |   749 |   836 | \n",
      "              Stem_like T cells     0 |     0 |     0 |     0 |     0 |     0 |     0 |     0 |     0 |     0 |     0 | \n",
      "                 Memory T cells     0 |     0 |     0 |     0 |    16 |     1 |     9 |     2 |     1 |    51 |     3 | \n",
      "             Memory CD4 T cells     0 |     0 |     2 |     0 |    20 |     0 |    26 |     2 |     1 |    69 |    11 | \n",
      "             Memory CD8 T cells     0 |     0 |     0 |     0 |    44 |     9 |     1 |    10 |     7 |    47 |     9 | \n",
      "         Memory CD4_CD8 T cells     0 |     0 |     0 |     0 |     0 |     0 |     3 |     0 |     0 |     1 |     0 | \n",
      "            Macrophage_immature     0 |     0 |     6 |     1 |     3 |     0 |     0 |     0 |     1 |     0 |     0 | \n",
      "              Macrophage_mature     0 |     1 |   652 |     3 |     4 |     1 |     1 |     2 |     0 |     4 |     0 | \n",
      "              Monocyte_immature     0 |     0 |     7 |     0 |     0 |     0 |     0 |     0 |     0 |     0 |     0 | \n",
      "                Monocyte_mature     0 |     0 |   772 |     4 |     1 |     0 |     1 |     1 |     0 |     1 |     0 | \n",
      "           cDCs_dendritic_cells     3 |     3 |   911 |   122 |     3 |     0 |     0 |     0 |     0 |     1 |     0 | \n",
      "                           pDCs     0 |     1 |     1 |   159 |     0 |     0 |     0 |     0 |     0 |     1 |     0 | \n",
      " myeloid cells_general_immature     0 |     0 |     4 |     0 |     0 |     0 |     0 |     2 |     0 |     0 |     0 | \n",
      "   myeloid cells_general_mature     1 |     1 |   523 |    13 |     0 |     0 |     0 |     0 |     0 |     0 |     1 | \n",
      "                    Neutrophils     0 |     0 |    40 |     0 |     0 |     0 |     0 |     0 |     0 |     0 |     0 | \n",
      "                   Granolocytes     0 |     3 |    72 |     4 |    14 |     6 |    23 |    10 |     3 |    17 |     2 | \n",
      "               CD4+CD8+ T cells     0 |     0 |     3 |     0 |     5 |    11 |    23 |     8 |    15 |    21 |     9 | \n"
     ]
    }
   ],
   "source": [
    "print(colored(\"Each cluster in General_11_Clusters shows amount of appearances of each supervised cell-type\", 'red'), end='\\n\\n')\n",
    "\n",
    "print(\"Supervised Classification|Cluster:\", end=' ')\n",
    "\n",
    "g_clusters = [[] for i in range(11)]\n",
    "for i in range(11):\n",
    "    print(\"%2s \"%('G'+str(i+1)), end=\"     \")\n",
    "    g_clusters[i] = sort(Counter(flatten_list([p['supervised classification'] for p in patients_information if p['general 11 cluster']==i+1])))\n",
    "print()\n",
    "for ct in cell_types:\n",
    "    print(' %30s' % (ct), end=\" \")\n",
    "    for i in range(11):\n",
    "        print('%5d |' % (search_in_list(g_clusters[i], ct)), end=\" \")\n",
    "    print()"
   ]
  },
  {
   "cell_type": "code",
   "execution_count": null,
   "metadata": {},
   "outputs": [],
   "source": []
  }
 ],
 "metadata": {
  "kernelspec": {
   "display_name": "Python 3",
   "language": "python",
   "name": "python3"
  },
  "language_info": {
   "codemirror_mode": {
    "name": "ipython",
    "version": 3
   },
   "file_extension": ".py",
   "mimetype": "text/x-python",
   "name": "python",
   "nbconvert_exporter": "python",
   "pygments_lexer": "ipython3",
   "version": "3.7.3"
  }
 },
 "nbformat": 4,
 "nbformat_minor": 2
}
