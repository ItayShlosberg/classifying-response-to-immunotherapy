{
 "cells": [
  {
   "cell_type": "code",
   "execution_count": 1,
   "metadata": {},
   "outputs": [],
   "source": [
    "lib = r'C:\\Users\\KerenYlab\\Desktop\\Technion studies\\Keren laboratory\\python_playground\\classifying-response-to-immunotherapy'\n",
    "import sys\n",
    "sys.path.append(lib)\n",
    "from utilities.package_importing import *\n",
    "import scipy.stats as stats"
   ]
  },
  {
   "cell_type": "code",
   "execution_count": null,
   "metadata": {},
   "outputs": [],
   "source": []
  },
  {
   "cell_type": "code",
   "execution_count": 2,
   "metadata": {},
   "outputs": [],
   "source": [
    "PKL_PATH = r'C:\\Users\\KerenYlab\\Desktop\\Technion studies\\Keren laboratory\\python_playground\\outputs\\MachineLearning\\DEBUG\\input\\debug_cohort_cluster_9.pkl'"
   ]
  },
  {
   "cell_type": "code",
   "execution_count": 3,
   "metadata": {},
   "outputs": [],
   "source": [
    "cohort = pickle.load(open(PKL_PATH, 'rb'))\n"
   ]
  },
  {
   "cell_type": "code",
   "execution_count": 4,
   "metadata": {},
   "outputs": [],
   "source": [
    "MARKERS_FOLDER_PATH = r'C:\\Users\\KerenYlab\\Desktop\\Technion studies\\Keren laboratory\\milestones\\milestone 12 - 23.10.21\\integrated_data_4.11.21\\response_analysis\\immune'\n",
    "def use_markers_to_filter_cohort(cohort, MARKERS_FOLDER_PATH):\n",
    "    NON_RESPONSE_MARKER_PATH = join(MARKER_FOLDER_PATH, r'non_response_immune_markers.xlsx')\n",
    "    RESPONSE_MARKER_PATH = join(MARKER_FOLDER_PATH, r'response_immune_markers.xlsx')\n",
    "    non_response_markers = pd.read_excel(NON_RESPONSE_MARKER_PATH)\n",
    "    response_markers = pd.read_excel(RESPONSE_MARKER_PATH)\n",
    "    response_markers_indexes = [cohort.features.index(feature) for feature in response_markers.features if feature in cohort.features]\n",
    "    non_response_markers_indexes = [cohort.features.index(feature) for feature in non_response_markers.features if feature in cohort.features]\n",
    "    marker_indexes = response_markers_indexes + non_response_markers_indexes[:66]\n",
    "    cohort.filter_gene_by_indexes(marker_indexes)"
   ]
  },
  {
   "cell_type": "code",
   "execution_count": 5,
   "metadata": {},
   "outputs": [],
   "source": []
  },
  {
   "cell_type": "code",
   "execution_count": 6,
   "metadata": {},
   "outputs": [],
   "source": []
  },
  {
   "cell_type": "code",
   "execution_count": 7,
   "metadata": {},
   "outputs": [
    {
     "data": {
      "text/plain": [
       "100"
      ]
     },
     "execution_count": 7,
     "metadata": {},
     "output_type": "execute_result"
    }
   ],
   "source": [
    "len(marker_indexes)"
   ]
  },
  {
   "cell_type": "code",
   "execution_count": null,
   "metadata": {},
   "outputs": [],
   "source": []
  },
  {
   "cell_type": "code",
   "execution_count": 8,
   "metadata": {},
   "outputs": [
    {
     "name": "stdout",
     "output_type": "stream",
     "text": [
      "Dataset was cleared, left with 100 genes with variance of less than\n"
     ]
    },
    {
     "data": {
      "text/plain": [
       "<utilities.droplet_dataset.Cohort_RNAseq at 0x1bdd649c550>"
      ]
     },
     "execution_count": 8,
     "metadata": {},
     "output_type": "execute_result"
    }
   ],
   "source": []
  },
  {
   "cell_type": "code",
   "execution_count": 10,
   "metadata": {},
   "outputs": [
    {
     "data": {
      "text/plain": [
       "100"
      ]
     },
     "execution_count": 10,
     "metadata": {},
     "output_type": "execute_result"
    }
   ],
   "source": [
    "cohort.number_of_genes"
   ]
  },
  {
   "cell_type": "code",
   "execution_count": null,
   "metadata": {},
   "outputs": [],
   "source": []
  }
 ],
 "metadata": {
  "kernelspec": {
   "display_name": "Python 3",
   "language": "python",
   "name": "python3"
  },
  "language_info": {
   "codemirror_mode": {
    "name": "ipython",
    "version": 3
   },
   "file_extension": ".py",
   "mimetype": "text/x-python",
   "name": "python",
   "nbconvert_exporter": "python",
   "pygments_lexer": "ipython3",
   "version": "3.8.5"
  }
 },
 "nbformat": 4,
 "nbformat_minor": 4
}
