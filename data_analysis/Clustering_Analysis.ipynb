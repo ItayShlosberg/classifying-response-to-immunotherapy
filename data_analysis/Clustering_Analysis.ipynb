{
 "cells": [
  {
   "cell_type": "markdown",
   "metadata": {},
   "source": [
    "# Clustering Analysis\n",
    "Here are several uses of clustering analysis\n",
    "* singular sample TSNE:\n",
    "    - immune & Cancer & stroma\n",
    "    - immune: myeloid & lymphoid\n",
    "* saving TSNE representation for all samples & saving images of the representation\n",
    "* Cohort analysis:\n",
    " - TSNE representation of all immune cells. saving representation\n",
    " - KMEANS with k <- (1,2,3,...,15)\n",
    " - will search for gene markers for each cluster.\n"
   ]
  },
  {
   "cell_type": "code",
   "execution_count": 12,
   "metadata": {},
   "outputs": [],
   "source": [
    "import sys\n",
    "lib = r'D:\\Technion studies\\Keren Laboratory\\python_playground\\classifying-response-to-immunotherapy\\utilities\\droplet_dataset'\n",
    "lib2 = r'D:\\Technion studies\\Keren Laboratory\\python_playground\\classifying-response-to-immunotherapy\\utilities'\n",
    "lib3 = r'D:\\Technion studies\\Keren Laboratory\\python_playground\\classifying-response-to-immunotherapy\\data_analysis'\n",
    "lib4 = r'D:\\Technion studies\\Keren Laboratory\\python_playground\\classifying-response-to-immunotherapy'\n",
    "sys.path.append(lib)\n",
    "sys.path.append(lib2)\n",
    "sys.path.append(lib3)\n",
    "sys.path.append(lib4)\n",
    "import os\n",
    "from os.path import join\n",
    "import sklearn\n",
    "from utilities.droplet_dataset import *\n",
    "# from utilities import *\n",
    "from matplotlib import pyplot\n",
    "import numpy as np\n",
    "import scipy\n",
    "import pickle\n",
    "import matplotlib.pyplot as plt\n",
    "import pickle\n",
    "from statsmodels.stats.proportion import proportions_ztest\n",
    "import pandas as pd\n",
    "import random\n",
    "from scipy.stats import pearsonr\n",
    "from matplotlib.pyplot import figure\n",
    "import time\n",
    "import seaborn as sns\n",
    "import matplotlib.pyplot as plt\n",
    "import copy\n",
    "from scipy import stats\n",
    "from sklearn.cluster import KMeans\n",
    "from collections import Counter\n",
    "from PIL import Image, ImageColor\n",
    "from termcolor import colored\n",
    "from sklearn.manifold import TSNE\n",
    "from DL.Mars_seq_DL.data_loading import extract_droplet_data_from_pickle"
   ]
  },
  {
   "cell_type": "code",
   "execution_count": 13,
   "metadata": {},
   "outputs": [],
   "source": [
    "SAMPLES = r'D:\\Technion studies\\Keren Laboratory\\python_playground\\outputs\\inferCNV\\update_runs\\21.2.21'"
   ]
  },
  {
   "cell_type": "markdown",
   "metadata": {},
   "source": [
    "#  singular sample TSNE:\n",
    "    - immune & Cancer & stroma\n",
    "    - immune: myeloid & lymphoid"
   ]
  },
  {
   "cell_type": "code",
   "execution_count": 10,
   "metadata": {},
   "outputs": [
    {
     "name": "stdout",
     "output_type": "stream",
     "text": [
      "Number of cells: 4307\n",
      "Number of cells after garbage has removed: 3170\n"
     ]
    }
   ],
   "source": [
    "sample_id = 'M110'\n",
    "\n",
    "sample_path = os.path.join(SAMPLES, f'{sample_id}.pkl')\n",
    "rna_sample = pickle.load(open(sample_path, 'rb'))\n",
    "# Only because the samle had been saved in old version without one of the attributes.\n",
    "_rna_sample = RNAseq_Sample(counts=rna_sample.counts, gene_names=rna_sample.gene_names, barcodes=rna_sample.barcodes, \n",
    "                        features=rna_sample.features, cells_information=rna_sample.cells_information)\n",
    "rna_sample = _rna_sample \n",
    "print(f\"Number of cells: {rna_sample.number_of_cells}\")\n",
    "\n",
    "\n",
    "rna_sample = rna_sample.filter_cells_by_property('should_be_removed', False)\n",
    "rna_sample.normalize_data()\n",
    "print(f\"Number of cells after garbage has removed: {rna_sample.number_of_cells}\")\n"
   ]
  },
  {
   "cell_type": "code",
   "execution_count": null,
   "metadata": {},
   "outputs": [
    {
     "name": "stdout",
     "output_type": "stream",
     "text": [
      "Running TSNE on sample\n"
     ]
    }
   ],
   "source": [
    "print(\"Running TSNE on sample\")\n",
    "cells_embedded = TSNE(n_components=2, random_state=21).fit_transform(rna_sample.counts)\n",
    "\n",
    "\n",
    "fig, axes = plt.subplots(1, 2, figsize=(12, 4))\n",
    "\n",
    "print(\"Drawing full representation now\")\n",
    "is_cancer = rna_sample.cells_information.getattr('is_cancer')\n",
    "is_stroma = rna_sample.cells_information.getattr('is_stromal')\n",
    "is_immune = rna_sample.cells_information.getattr('is_immune')\n",
    "colors = []\n",
    "print(rna_sample.number_of_cells)\n",
    "for i in range(rna_sample.number_of_cells):\n",
    "    if is_cancer[i]:\n",
    "        colors.append(\"tumor\")\n",
    "    elif is_immune[i]:\n",
    "        colors.append(\"immune\")\n",
    "    else:\n",
    "        colors.append(\"stroma\")\n",
    "\n",
    "df = pd.DataFrame(cells_embedded, columns=['X', 'Y'])\n",
    "df[\"cell type\"] = colors\n",
    "sns.scatterplot(ax=axes[0], x=\"X\", y=\"Y\",\n",
    "              hue=\"cell type\",\n",
    "              data=df)\n",
    "\n",
    "\n",
    "\n",
    "# coloring by is_myeloid and is_lymphoid\n",
    "is_m = rna_sample.cells_information.getattr('is_myeloid')\n",
    "is_l = rna_sample.cells_information.getattr('is_lymphoid')\n",
    "colors = []\n",
    "for i in range(rna_sample.number_of_cells):\n",
    "    if rna_sample[i][1].is_lymphoid:\n",
    "        colors.append(0)\n",
    "    elif rna_sample[i][1].is_myeloid:\n",
    "        colors.append(1)\n",
    "    else:\n",
    "        colors.append(2)\n",
    "\n",
    "print(\"Drawing immune cells only\")        \n",
    "immune_cells = rna_sample.filter_cells_by_property('is_immune', True)\n",
    "print(f'Number of immune cells: {immune_cells.number_of_cells}')\n",
    "print(rna_sample.counts.shape)\n",
    "rna_sample.filter_genes_by_variance(6)\n",
    "print(f\"shape after reming gene under variance: {immune_cells.counts.shape}\")\n",
    "\n",
    "df = pd.DataFrame(cells_embedded, columns=['X', 'Y'])\n",
    "df[\"cell type\"] = colors\n",
    "sns.scatterplot(ax=axes[1], x=\"X\", y=\"Y\",\n",
    "              hue=\"cell type\",\n",
    "              data=df)\n",
    "axes[0].set_title(\"All cells\")\n",
    "axes[1].set_title(\"Immune\")\n",
    "fig.suptitle('TSNE')"
   ]
  },
  {
   "cell_type": "code",
   "execution_count": null,
   "metadata": {},
   "outputs": [],
   "source": []
  }
 ],
 "metadata": {
  "kernelspec": {
   "display_name": "Python 3",
   "language": "python",
   "name": "python3"
  },
  "language_info": {
   "codemirror_mode": {
    "name": "ipython",
    "version": 3
   },
   "file_extension": ".py",
   "mimetype": "text/x-python",
   "name": "python",
   "nbconvert_exporter": "python",
   "pygments_lexer": "ipython3",
   "version": "3.7.3"
  }
 },
 "nbformat": 4,
 "nbformat_minor": 4
}
