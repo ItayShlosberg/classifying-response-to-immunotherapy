{
 "cells": [
  {
   "cell_type": "code",
   "execution_count": 2,
   "metadata": {},
   "outputs": [],
   "source": [
    "lib = r'/srv01/technion/shitay/Code/classifying_response_to_immunotherapy/'\n",
    "import sys\n",
    "sys.path.append(lib)\n",
    "from utilities.package_importing import *\n",
    "import scipy.stats as stats"
   ]
  },
  {
   "cell_type": "markdown",
   "metadata": {},
   "source": [
    "# NATMI conversions\n",
    "Here you can convert expression matrix for NATMI\n",
    "\n",
    "# Option 1 - Immune clusters:"
   ]
  },
  {
   "cell_type": "code",
   "execution_count": 143,
   "metadata": {},
   "outputs": [],
   "source": [
    "COHORT_PATH = r'/storage/md_keren/shitay/Data/droplet_seq/M97_M173/subcohort/normalized/1.1.22/subcohort_normalized_1.1.22_protein_coding_genes.pkl'\n",
    "IMMUNE_CLUSTER_BARCODE_MAPPING_PATH = r'/storage/md_keren/shitay/outputs/clustering/immune/summary/subcohort_1.1.22_run_1.1.22/subcohort_immune_1.1.22_clusters_mapping.csv'\n",
    "immune_annotation_path = r'/storage/md_keren/shitay/Data/tables/clustering_annotations/subcohort_1.1.22/17.1.22/immune.xlsx'\n",
    "\n",
    "FOLDER_PATH = r'/storage/md_keren/shitay/outputs/NATMI/immune/conversions/20.3.22'"
   ]
  },
  {
   "cell_type": "code",
   "execution_count": 144,
   "metadata": {},
   "outputs": [],
   "source": [
    "cohort = pickle.load(open(COHORT_PATH, 'rb'))\n",
    "clusters_barcodes_mapping_df = pd.read_csv(IMMUNE_CLUSTER_BARCODE_MAPPING_PATH)\n",
    "immune_annotation_df = pd.read_excel(immune_annotation_path, engine='openpyxl').set_index('CLUSTER_IDX')\n",
    "immune_cohort=cohort.get_subset_by_identifiers(clusters_barcodes_mapping_df.Sample, clusters_barcodes_mapping_df.Barcode)"
   ]
  },
  {
   "cell_type": "markdown",
   "metadata": {},
   "source": [
    "Annotations df:"
   ]
  },
  {
   "cell_type": "code",
   "execution_count": 145,
   "metadata": {},
   "outputs": [],
   "source": [
    "clusters_barcodes_mapping_df['cell'] =  clusters_barcodes_mapping_df.Sample +'_'+ clusters_barcodes_mapping_df.Barcode\n",
    "clusters_barcodes_mapping_df['annotation'] = clusters_barcodes_mapping_df['Cluster'].apply(lambda x: immune_annotation_df.loc[x])"
   ]
  },
  {
   "cell_type": "code",
   "execution_count": 146,
   "metadata": {},
   "outputs": [],
   "source": [
    "clusters_barcodes_mapping_df[['cell', 'annotation']].set_index('cell').to_csv(f'{FOLDER_PATH}/ann.csv',index=True,header=True)"
   ]
  },
  {
   "cell_type": "markdown",
   "metadata": {},
   "source": [
    "Expression df:"
   ]
  },
  {
   "cell_type": "code",
   "execution_count": 148,
   "metadata": {},
   "outputs": [],
   "source": [
    "pd.DataFrame(immune_cohort.counts.T, columns=[k+'_'+v for k,v in zip(immune_cohort.samples,immune_cohort.barcodes)], index=immune_cohort.features).to_csv(f'{FOLDER_PATH}/count_table.csv',index=True,header=True)"
   ]
  },
  {
   "cell_type": "code",
   "execution_count": null,
   "metadata": {},
   "outputs": [],
   "source": []
  },
  {
   "cell_type": "code",
   "execution_count": null,
   "metadata": {},
   "outputs": [],
   "source": []
  },
  {
   "cell_type": "markdown",
   "metadata": {},
   "source": [
    "# Option 2 - tumor GEPs & CD8 & myeloid clusters:"
   ]
  },
  {
   "cell_type": "code",
   "execution_count": 3,
   "metadata": {},
   "outputs": [],
   "source": [
    "# extract cohort\n",
    "COHORT_PATH = r'/storage/md_keren/shitay/Data/droplet_seq/M97_M173/subcohort/normalized/16.3.22/subcohort_normalized_1.1.22_protein_coding_genes.pkl'\n",
    "\n",
    "cohort = pickle.load(open(COHORT_PATH, 'rb'))"
   ]
  },
  {
   "cell_type": "code",
   "execution_count": 4,
   "metadata": {},
   "outputs": [],
   "source": [
    "CD8_CLUSTER_BARCODE_MAPPING_PATH = r'/storage/md_keren/shitay/outputs/clustering/CD8/summary/subcohort_1.1.22_run_1.1.22/subcohort_CD8_1.1.22_clusters_mapping.csv'\n",
    "MYELOID_CLUSTER_BARCODE_MAPPING_PATH = r'/storage/md_keren/shitay/outputs/clustering/myeloid/summary/subcohort_1.1.22_run_1.1.22/subcohort_myeloid_1.1.22_clusters_mapping.csv'\n",
    "\n",
    "myeloid_annotation_path = r'/storage/md_keren/shitay/Data/tables/clustering_annotations/subcohort_1.1.22/17.1.22/Myeloid.xlsx'\n",
    "CD8_annotation_path = r'/storage/md_keren/shitay/Data/tables/clustering_annotations/subcohort_1.1.22/17.1.22/CD8.xlsx'\n",
    "\n",
    "\n",
    "# Extract barcode mapping of myeloid & CD8 clusters\n",
    "CD8_clusters_barcodes_mapping_df = pd.read_csv(CD8_CLUSTER_BARCODE_MAPPING_PATH)\n",
    "myeloid_clusters_barcodes_mapping_df = pd.read_csv(MYELOID_CLUSTER_BARCODE_MAPPING_PATH)\n",
    "\n",
    "# Extract myeloid & CD8 cluster annotations\n",
    "myeloid_annotation_df = pd.read_excel(myeloid_annotation_path, engine='openpyxl').set_index('cluster')\n",
    "CD8_annotation_df = pd.read_excel(CD8_annotation_path, engine='openpyxl').set_index('cluster')"
   ]
  },
  {
   "cell_type": "code",
   "execution_count": 5,
   "metadata": {},
   "outputs": [
    {
     "name": "stdout",
     "output_type": "stream",
     "text": [
      "Using clinical table in path:\n",
      " /storage/md_keren/shitay/Data/tables/Melanoma_clinical_data_12.21_unportected.csv\n",
      "\n",
      "and labels:\n",
      "/storage/md_keren/shitay/Data/tables/clinical_labels.csv\n"
     ]
    }
   ],
   "source": [
    "melanoma_clinical_data = get_constant_cohort(3) #get_clinical_data(71)#ICI=True, after_biopsy='ICI')\n",
    "# melanoma_clinical_data\n",
    "\n",
    "GEP_DF, R_GEP_DF, NR_GEP_DF = get_GEP_dfs(melanoma_clinical_data, EXEC_DIR = r'/storage/md_keren/shitay/outputs/cNMF/executions/tumor_runs/subcohort_1.1.22',\n",
    "                    RUN_RANGE = '20', selected_K=20, number_of_genes=2000, n_replicates=200, local_density_threshold='0.10', FEATURE='response', FEATURE_A='R', FEATURE_B='NR')\n",
    "\n",
    "filtered_GEP_DF = filter_contaminated_cells_out_of_GEP_DF(GEP_DF, 14, contaminated_cells_path = r'/storage/md_keren/shitay/Data/tables/GEP/subcohort_1.1.22/contaminated_cells_list/GEP14_contaminated_cells.csv')"
   ]
  },
  {
   "cell_type": "markdown",
   "metadata": {},
   "source": [
    "NATMI annotation df build:"
   ]
  },
  {
   "cell_type": "code",
   "execution_count": 11,
   "metadata": {},
   "outputs": [],
   "source": [
    "# columns rename\n",
    "GEP_NATMI_df = filtered_GEP_DF[['sample', 'barcode', 'associated program']].rename(columns={'associated program': 'cluster'})\n",
    "CD8_NATMI_df = CD8_clusters_barcodes_mapping_df[['Sample', 'Barcode', 'Cluster']].rename(columns={'Sample': 'sample', 'Barcode': 'barcode', 'Cluster': 'cluster'})\n",
    "myeloid_NATMI_df = myeloid_clusters_barcodes_mapping_df[['Sample', 'Barcode', 'Cluster']].rename(columns={'Sample': 'sample', 'Barcode': 'barcode', 'Cluster': 'cluster'})\n",
    "\n",
    "# fill cluster annotations\n",
    "myeloid_NATMI_df['annotation'] = \"Myeloid_cluster_\"+ myeloid_NATMI_df['cluster'].astype(str) #myeloid_NATMI_df['cluster'].apply(lambda x: myeloid_annotation_df.loc[x])\n",
    "CD8_NATMI_df['annotation'] = \"CD8_cluster_\"+ CD8_NATMI_df['cluster'].astype(str) #CD8_NATMI_df['cluster'].apply(lambda x: CD8_annotation_df.loc[x])\n",
    "GEP_NATMI_df['annotation'] = \"GEP_#\"+GEP_NATMI_df['cluster'].astype(str)\n",
    "\n",
    "# remove cells defined as both myeloid and CD8\n",
    "CD8_ids = [tuple(a) for a in CD8_NATMI_df[['sample', 'barcode']].values.tolist()]\n",
    "myeloid_ids = [tuple(a) for a in myeloid_NATMI_df[['sample', 'barcode']].values.tolist()]\n",
    "\n",
    "CD8_NATMI_df = CD8_NATMI_df[[not id in myeloid_ids for id in CD8_ids]]\n",
    "myeloid_NATMI_df = myeloid_NATMI_df[[not id in CD8_ids for id in myeloid_ids]]\n",
    "\n",
    "\n",
    "# concatanate dfs\n",
    "NATMI_df = GEP_NATMI_df.append(CD8_NATMI_df).append(myeloid_NATMI_df)\n",
    "\n",
    "# set id as the connection of sample and barcode\n",
    "NATMI_df['cell'] = NATMI_df['sample'] + '_' + NATMI_df['barcode']"
   ]
  },
  {
   "cell_type": "markdown",
   "metadata": {},
   "source": [
    "save NATMI annotation df:"
   ]
  },
  {
   "cell_type": "code",
   "execution_count": 14,
   "metadata": {},
   "outputs": [],
   "source": [
    "NATMI_ann_df = NATMI_df[['cell', 'annotation']].set_index('cell')\n",
    "NATMI_ann_df.to_csv('/storage/md_keren/shitay/outputs/NATMI/tumor_CD8_myeloid/conversions/21.3.22/ann.csv',index=True,header=True)"
   ]
  },
  {
   "cell_type": "markdown",
   "metadata": {},
   "source": [
    "Expression df build:"
   ]
  },
  {
   "cell_type": "code",
   "execution_count": 15,
   "metadata": {},
   "outputs": [],
   "source": [
    "NATMI_cohort = cohort.get_subset_by_identifiers(NATMI_df['sample'], NATMI_df['barcode'])"
   ]
  },
  {
   "cell_type": "code",
   "execution_count": 16,
   "metadata": {},
   "outputs": [],
   "source": [
    "NATMI_exp_matrix_df = pd.DataFrame(NATMI_cohort.counts.T, columns=[k+'_'+v for k,v in zip(NATMI_cohort.samples,NATMI_cohort.barcodes)], index=NATMI_cohort.features)\n",
    "NATMI_exp_matrix_df.to_csv('/storage/md_keren/shitay/outputs/NATMI/tumor_CD8_myeloid/conversions/21.3.22/count_table.csv',index=True,header=True)"
   ]
  },
  {
   "cell_type": "code",
   "execution_count": null,
   "metadata": {},
   "outputs": [],
   "source": []
  },
  {
   "cell_type": "code",
   "execution_count": null,
   "metadata": {},
   "outputs": [],
   "source": []
  },
  {
   "cell_type": "markdown",
   "metadata": {},
   "source": [
    "# DEBUG"
   ]
  },
  {
   "cell_type": "code",
   "execution_count": null,
   "metadata": {},
   "outputs": [],
   "source": []
  },
  {
   "cell_type": "code",
   "execution_count": 191,
   "metadata": {},
   "outputs": [],
   "source": [
    "CD8_CLUSTER_BARCODE_MAPPING_PATH = r'/storage/md_keren/shitay/outputs/clustering/CD8/summary/subcohort_1.1.22_run_1.1.22/subcohort_CD8_1.1.22_clusters_mapping.csv'\n",
    "MYELOID_CLUSTER_BARCODE_MAPPING_PATH = r'/storage/md_keren/shitay/outputs/clustering/myeloid/summary/subcohort_1.1.22_run_1.1.22/subcohort_myeloid_1.1.22_clusters_mapping.csv'\n",
    "\n",
    "myeloid_annotation_path = r'/storage/md_keren/shitay/Data/tables/clustering_annotations/subcohort_1.1.22/17.1.22/Myeloid.xlsx'\n",
    "CD8_annotation_path = r'/storage/md_keren/shitay/Data/tables/clustering_annotations/subcohort_1.1.22/17.1.22/CD8.xlsx'\n",
    "\n",
    "\n",
    "# Extract barcode mapping of myeloid & CD8 clusters\n",
    "CD8_clusters_barcodes_mapping_df = pd.read_csv(CD8_CLUSTER_BARCODE_MAPPING_PATH)\n",
    "myeloid_clusters_barcodes_mapping_df = pd.read_csv(MYELOID_CLUSTER_BARCODE_MAPPING_PATH)"
   ]
  },
  {
   "cell_type": "code",
   "execution_count": 208,
   "metadata": {},
   "outputs": [],
   "source": [
    "CD8_ids = [tuple(a) for a in CD8_NATMI_df[['sample', 'barcode']].values.tolist()]\n",
    "myeloid_ids = [tuple(a) for a in myeloid_NATMI_df[['sample', 'barcode']].values.tolist()]"
   ]
  },
  {
   "cell_type": "code",
   "execution_count": 213,
   "metadata": {},
   "outputs": [
    {
     "data": {
      "text/plain": [
       "7609"
      ]
     },
     "execution_count": 213,
     "metadata": {},
     "output_type": "execute_result"
    }
   ],
   "source": [
    "# sum([id in myeloid_ids for id in CD8_ids])\n",
    "sum([not id in CD8_ids for id in myeloid_ids])"
   ]
  },
  {
   "cell_type": "code",
   "execution_count": 217,
   "metadata": {},
   "outputs": [
    {
     "data": {
      "text/plain": [
       "7609"
      ]
     },
     "execution_count": 217,
     "metadata": {},
     "output_type": "execute_result"
    }
   ],
   "source": [
    "len(myeloid_NATMI_df)"
   ]
  },
  {
   "cell_type": "code",
   "execution_count": 203,
   "metadata": {},
   "outputs": [
    {
     "data": {
      "text/plain": [
       "Counter({'M111': 8,\n",
       "         'M137': 1,\n",
       "         'M146': 9,\n",
       "         'M151': 4,\n",
       "         'M136': 2,\n",
       "         'M162': 4,\n",
       "         'M145': 4,\n",
       "         'M147': 4})"
      ]
     },
     "execution_count": 203,
     "metadata": {},
     "output_type": "execute_result"
    }
   ],
   "source": [
    "Counter([a[0] for a in inter])"
   ]
  },
  {
   "cell_type": "code",
   "execution_count": 207,
   "metadata": {},
   "outputs": [
    {
     "data": {
      "text/plain": [
       "Counter({'M111': 8,\n",
       "         'M136': 2,\n",
       "         'M145': 4,\n",
       "         'M146': 9,\n",
       "         'M162': 4,\n",
       "         'M147': 4,\n",
       "         'M151': 4,\n",
       "         'M137': 1})"
      ]
     },
     "execution_count": 207,
     "metadata": {},
     "output_type": "execute_result"
    }
   ],
   "source": [
    "Counter([k.split('_')[0] for k,v in dict(Counter(l)).items() if v>1])"
   ]
  },
  {
   "cell_type": "code",
   "execution_count": null,
   "metadata": {},
   "outputs": [],
   "source": []
  },
  {
   "cell_type": "code",
   "execution_count": null,
   "metadata": {},
   "outputs": [],
   "source": []
  },
  {
   "cell_type": "code",
   "execution_count": 149,
   "metadata": {},
   "outputs": [],
   "source": [
    "ddd = pd.read_csv('/storage/md_keren/shitay/outputs/NATMI/tumor_CD8_myeloid/conversions/20.3.22/count_table.csv')"
   ]
  },
  {
   "cell_type": "code",
   "execution_count": 157,
   "metadata": {},
   "outputs": [],
   "source": [
    "em = ddd.set_index('Unnamed: 0')"
   ]
  },
  {
   "cell_type": "code",
   "execution_count": 158,
   "metadata": {},
   "outputs": [
    {
     "data": {
      "text/plain": [
       "Index(['M106_AAACCTGAGATCCCAT-1', 'M106_AAACCTGCACTAAGTC-1',\n",
       "       'M106_AAACCTGGTTGTCTTT-1', 'M106_AAACCTGTCATGCATG-1',\n",
       "       'M106_AAACCTGTCGTATCAG-1', 'M106_AAACGGGAGGCCCGTT-1',\n",
       "       'M106_AAACGGGCATGTAAGA-1', 'M106_AAACGGGTCGCTTAGA-1',\n",
       "       'M106_AAAGATGCATTTGCTT-1', 'M106_AAAGATGTCCAGATCA-1',\n",
       "       ...\n",
       "       'M131_TTAGGCATCAGAGCTT-1', 'M131_TTAGTTCAGATGTGTA-1',\n",
       "       'M131_TTAGTTCTCTTCCTTC-1', 'M131_TTATGCTAGTGCTGCC-1',\n",
       "       'M131_TTGAACGCACCAGCAC-1', 'M131_TTGCGTCAGAGCTATA-1',\n",
       "       'M146_AGGGTGATCACCACCT-1', 'M147_GGGACCTAGGGTTCCC-1',\n",
       "       'M147_GGGCATCAGCTATGCT-1', 'M147_TGCACCTGTAAGTGTA-1'],\n",
       "      dtype='object', length=67885)"
      ]
     },
     "execution_count": 158,
     "metadata": {},
     "output_type": "execute_result"
    }
   ],
   "source": [
    "em.columns"
   ]
  },
  {
   "cell_type": "code",
   "execution_count": 159,
   "metadata": {},
   "outputs": [],
   "source": [
    "ann = pd.read_csv('/storage/md_keren/shitay/outputs/NATMI/tumor_CD8_myeloid/conversions/20.3.22/ann.csv', index_col=0, header=0)"
   ]
  },
  {
   "cell_type": "code",
   "execution_count": 161,
   "metadata": {},
   "outputs": [
    {
     "data": {
      "text/plain": [
       "67849"
      ]
     },
     "execution_count": 161,
     "metadata": {},
     "output_type": "execute_result"
    }
   ],
   "source": [
    "len(set(em.columns).intersection(set(ann.index)))"
   ]
  },
  {
   "cell_type": "code",
   "execution_count": 162,
   "metadata": {},
   "outputs": [
    {
     "data": {
      "text/plain": [
       "67849"
      ]
     },
     "execution_count": 162,
     "metadata": {},
     "output_type": "execute_result"
    }
   ],
   "source": [
    "len(set(em.columns).intersection(set(ann.index)))"
   ]
  },
  {
   "cell_type": "code",
   "execution_count": 163,
   "metadata": {},
   "outputs": [
    {
     "data": {
      "text/plain": [
       "67885"
      ]
     },
     "execution_count": 163,
     "metadata": {},
     "output_type": "execute_result"
    }
   ],
   "source": [
    "len(set(em.columns))"
   ]
  },
  {
   "cell_type": "code",
   "execution_count": 164,
   "metadata": {},
   "outputs": [
    {
     "data": {
      "text/plain": [
       "67849"
      ]
     },
     "execution_count": 164,
     "metadata": {},
     "output_type": "execute_result"
    }
   ],
   "source": [
    "len(set(em.columns).intersection(set(ann.index)))"
   ]
  },
  {
   "cell_type": "code",
   "execution_count": 182,
   "metadata": {},
   "outputs": [
    {
     "name": "stdout",
     "output_type": "stream",
     "text": [
      "67885\n",
      "67885\n"
     ]
    }
   ],
   "source": [
    "if len(set(em.columns)) == len(em.columns):\n",
    "    print(len(em.columns))\n",
    "if len(set(ann.index)) != len(ann.index):\n",
    "    print(len(ann.index))"
   ]
  },
  {
   "cell_type": "code",
   "execution_count": 190,
   "metadata": {},
   "outputs": [
    {
     "data": {
      "text/plain": [
       "{'M111_CGTTAGACAATCGGTT-1': 2,\n",
       " 'M111_TTGCCGTGTCGAGTTT-1': 2,\n",
       " 'M136_ACTGAACGTTGAGTTC-1': 2,\n",
       " 'M136_GGACAAGGTCAGAAGC-1': 2,\n",
       " 'M145_ATGCGATAGAGGGATA-1': 2,\n",
       " 'M146_ACTGAGTTCCCTTGTG-1': 2,\n",
       " 'M162_AACGTTGAGTGACATA-1': 2,\n",
       " 'M111_ACACTGAAGCGATAGC-1': 2,\n",
       " 'M111_ATGGGAGAGCACGCCT-1': 2,\n",
       " 'M111_CACCAGGCACACCGAC-1': 2,\n",
       " 'M111_CAGCTGGGTATTCGTG-1': 2,\n",
       " 'M111_CTAGTGATCTCTGCTG-1': 2,\n",
       " 'M111_TTCGGTCAGGCCCTTG-1': 2,\n",
       " 'M147_CTTAGGAAGTGCTGCC-1': 2,\n",
       " 'M151_CACACCTGTCTGATCA-1': 2,\n",
       " 'M151_GATGAGGTCAACCAAC-1': 2,\n",
       " 'M145_GACTAACCAGTCACTA-1': 2,\n",
       " 'M145_GGACAGATCCTCTAGC-1': 2,\n",
       " 'M146_CTCGGAGAGTACTTGC-1': 2,\n",
       " 'M146_GACGGCTTCACCTCGT-1': 2,\n",
       " 'M162_CCTACCATCGCACTCT-1': 2,\n",
       " 'M162_GTTCATTTCTCGTATT-1': 2,\n",
       " 'M146_ACACTGAGTCGAAAGC-1': 2,\n",
       " 'M146_CCATGTCCAGCCAATT-1': 2,\n",
       " 'M137_TGAGGGAAGTATCTCG-1': 2,\n",
       " 'M145_AGTGAGGGTTGGTGGA-1': 2,\n",
       " 'M146_CCCAATCAGCTAGCCC-1': 2,\n",
       " 'M146_CCGGGATTCTTGAGAC-1': 2,\n",
       " 'M146_GAACGGACACATTAGC-1': 2,\n",
       " 'M146_GAGTCCGGTTCAGTAC-1': 2,\n",
       " 'M147_CATGACAGTCCGACGT-1': 2,\n",
       " 'M147_CCAGCGATCAGCGACC-1': 2,\n",
       " 'M147_GTGAAGGTCGTTGCCT-1': 2,\n",
       " 'M151_ACGGCCAGTAGCGATG-1': 2,\n",
       " 'M151_CCCAATCCATATGGTC-1': 2,\n",
       " 'M162_CTGTGCTGTGTGGCTC-1': 2}"
      ]
     },
     "execution_count": 190,
     "metadata": {},
     "output_type": "execute_result"
    }
   ],
   "source": [
    "l = ann.index.tolist()\n",
    "{k:v for k,v in dict(Counter(l)).items() if v>1}"
   ]
  },
  {
   "cell_type": "code",
   "execution_count": null,
   "metadata": {},
   "outputs": [],
   "source": []
  },
  {
   "cell_type": "code",
   "execution_count": null,
   "metadata": {},
   "outputs": [],
   "source": []
  },
  {
   "cell_type": "code",
   "execution_count": null,
   "metadata": {},
   "outputs": [],
   "source": []
  },
  {
   "cell_type": "code",
   "execution_count": 127,
   "metadata": {},
   "outputs": [],
   "source": [
    "ids = [k+'_'+v for k,v in zip(NATMI_cohort.samples,NATMI_cohort.barcodes)]"
   ]
  },
  {
   "cell_type": "code",
   "execution_count": 129,
   "metadata": {},
   "outputs": [
    {
     "data": {
      "text/plain": [
       "67885"
      ]
     },
     "execution_count": 129,
     "metadata": {},
     "output_type": "execute_result"
    }
   ],
   "source": [
    "len(ids)"
   ]
  },
  {
   "cell_type": "code",
   "execution_count": 141,
   "metadata": {},
   "outputs": [
    {
     "data": {
      "text/plain": [
       "True"
      ]
     },
     "execution_count": 141,
     "metadata": {},
     "output_type": "execute_result"
    }
   ],
   "source": [
    "# NATMI_df['cell']#.set_index('cell')\n",
    "# Counter(NATMI_df['annotation'])\n",
    "\n",
    "are_the_lists_identical(ids, NATMI_df['cell'].tolist())"
   ]
  },
  {
   "cell_type": "code",
   "execution_count": 142,
   "metadata": {},
   "outputs": [
    {
     "data": {
      "text/html": [
       "<div>\n",
       "<style scoped>\n",
       "    .dataframe tbody tr th:only-of-type {\n",
       "        vertical-align: middle;\n",
       "    }\n",
       "\n",
       "    .dataframe tbody tr th {\n",
       "        vertical-align: top;\n",
       "    }\n",
       "\n",
       "    .dataframe thead th {\n",
       "        text-align: right;\n",
       "    }\n",
       "</style>\n",
       "<table border=\"1\" class=\"dataframe\">\n",
       "  <thead>\n",
       "    <tr style=\"text-align: right;\">\n",
       "      <th></th>\n",
       "      <th>annotation</th>\n",
       "    </tr>\n",
       "    <tr>\n",
       "      <th>cell</th>\n",
       "      <th></th>\n",
       "    </tr>\n",
       "  </thead>\n",
       "  <tbody>\n",
       "    <tr>\n",
       "      <th>M106_AAACCTGAGATCCCAT-1</th>\n",
       "      <td>GEP #15</td>\n",
       "    </tr>\n",
       "    <tr>\n",
       "      <th>M106_AAACCTGCACTAAGTC-1</th>\n",
       "      <td>GEP #17</td>\n",
       "    </tr>\n",
       "    <tr>\n",
       "      <th>M106_AAACCTGGTTGTCTTT-1</th>\n",
       "      <td>GEP #15</td>\n",
       "    </tr>\n",
       "    <tr>\n",
       "      <th>M106_AAACCTGTCATGCATG-1</th>\n",
       "      <td>GEP #17</td>\n",
       "    </tr>\n",
       "    <tr>\n",
       "      <th>M106_AAACCTGTCGTATCAG-1</th>\n",
       "      <td>GEP #17</td>\n",
       "    </tr>\n",
       "    <tr>\n",
       "      <th>...</th>\n",
       "      <td>...</td>\n",
       "    </tr>\n",
       "    <tr>\n",
       "      <th>M131_TTGCGTCAGAGCTATA-1</th>\n",
       "      <td>Mac-PLTP+MACRO+RBP4+  and DC3- FSCN1+</td>\n",
       "    </tr>\n",
       "    <tr>\n",
       "      <th>M146_AGGGTGATCACCACCT-1</th>\n",
       "      <td>Mac-PLTP+MACRO+RBP4+  and DC3- FSCN1+</td>\n",
       "    </tr>\n",
       "    <tr>\n",
       "      <th>M147_GGGACCTAGGGTTCCC-1</th>\n",
       "      <td>Mac-PLTP+MACRO+RBP4+  and DC3- FSCN1+</td>\n",
       "    </tr>\n",
       "    <tr>\n",
       "      <th>M147_GGGCATCAGCTATGCT-1</th>\n",
       "      <td>Mac-PLTP+MACRO+RBP4+  and DC3- FSCN1+</td>\n",
       "    </tr>\n",
       "    <tr>\n",
       "      <th>M147_TGCACCTGTAAGTGTA-1</th>\n",
       "      <td>Mac-PLTP+MACRO+RBP4+  and DC3- FSCN1+</td>\n",
       "    </tr>\n",
       "  </tbody>\n",
       "</table>\n",
       "<p>67885 rows × 1 columns</p>\n",
       "</div>"
      ],
      "text/plain": [
       "                                                    annotation\n",
       "cell                                                          \n",
       "M106_AAACCTGAGATCCCAT-1                                GEP #15\n",
       "M106_AAACCTGCACTAAGTC-1                                GEP #17\n",
       "M106_AAACCTGGTTGTCTTT-1                                GEP #15\n",
       "M106_AAACCTGTCATGCATG-1                                GEP #17\n",
       "M106_AAACCTGTCGTATCAG-1                                GEP #17\n",
       "...                                                        ...\n",
       "M131_TTGCGTCAGAGCTATA-1  Mac-PLTP+MACRO+RBP4+  and DC3- FSCN1+\n",
       "M146_AGGGTGATCACCACCT-1  Mac-PLTP+MACRO+RBP4+  and DC3- FSCN1+\n",
       "M147_GGGACCTAGGGTTCCC-1  Mac-PLTP+MACRO+RBP4+  and DC3- FSCN1+\n",
       "M147_GGGCATCAGCTATGCT-1  Mac-PLTP+MACRO+RBP4+  and DC3- FSCN1+\n",
       "M147_TGCACCTGTAAGTGTA-1  Mac-PLTP+MACRO+RBP4+  and DC3- FSCN1+\n",
       "\n",
       "[67885 rows x 1 columns]"
      ]
     },
     "execution_count": 142,
     "metadata": {},
     "output_type": "execute_result"
    }
   ],
   "source": [
    "NATMI_df[['cell', 'annotation']].set_index('cell')"
   ]
  },
  {
   "cell_type": "code",
   "execution_count": 125,
   "metadata": {},
   "outputs": [
    {
     "data": {
      "text/html": [
       "<div>\n",
       "<style scoped>\n",
       "    .dataframe tbody tr th:only-of-type {\n",
       "        vertical-align: middle;\n",
       "    }\n",
       "\n",
       "    .dataframe tbody tr th {\n",
       "        vertical-align: top;\n",
       "    }\n",
       "\n",
       "    .dataframe thead th {\n",
       "        text-align: right;\n",
       "    }\n",
       "</style>\n",
       "<table border=\"1\" class=\"dataframe\">\n",
       "  <thead>\n",
       "    <tr style=\"text-align: right;\">\n",
       "      <th></th>\n",
       "      <th>M106_AAACCTGAGATCCCAT-1</th>\n",
       "      <th>M106_AAACCTGCACTAAGTC-1</th>\n",
       "      <th>M106_AAACCTGGTTGTCTTT-1</th>\n",
       "      <th>M106_AAACCTGTCATGCATG-1</th>\n",
       "      <th>M106_AAACCTGTCGTATCAG-1</th>\n",
       "      <th>M106_AAACGGGAGGCCCGTT-1</th>\n",
       "      <th>M106_AAACGGGCATGTAAGA-1</th>\n",
       "      <th>M106_AAACGGGTCGCTTAGA-1</th>\n",
       "      <th>M106_AAAGATGCATTTGCTT-1</th>\n",
       "      <th>M106_AAAGATGTCCAGATCA-1</th>\n",
       "      <th>...</th>\n",
       "      <th>M131_TTAGGCATCAGAGCTT-1</th>\n",
       "      <th>M131_TTAGTTCAGATGTGTA-1</th>\n",
       "      <th>M131_TTAGTTCTCTTCCTTC-1</th>\n",
       "      <th>M131_TTATGCTAGTGCTGCC-1</th>\n",
       "      <th>M131_TTGAACGCACCAGCAC-1</th>\n",
       "      <th>M131_TTGCGTCAGAGCTATA-1</th>\n",
       "      <th>M146_AGGGTGATCACCACCT-1</th>\n",
       "      <th>M147_GGGACCTAGGGTTCCC-1</th>\n",
       "      <th>M147_GGGCATCAGCTATGCT-1</th>\n",
       "      <th>M147_TGCACCTGTAAGTGTA-1</th>\n",
       "    </tr>\n",
       "  </thead>\n",
       "  <tbody>\n",
       "    <tr>\n",
       "      <th>ENSG00000000003</th>\n",
       "      <td>2.436964</td>\n",
       "      <td>1.794323</td>\n",
       "      <td>0.0</td>\n",
       "      <td>0.0</td>\n",
       "      <td>0.0</td>\n",
       "      <td>0.487696</td>\n",
       "      <td>0.0</td>\n",
       "      <td>0.00000</td>\n",
       "      <td>0.659384</td>\n",
       "      <td>0.875673</td>\n",
       "      <td>...</td>\n",
       "      <td>0.0</td>\n",
       "      <td>0.0</td>\n",
       "      <td>0.0</td>\n",
       "      <td>0.0</td>\n",
       "      <td>0.0</td>\n",
       "      <td>0.0</td>\n",
       "      <td>0.0</td>\n",
       "      <td>0.0</td>\n",
       "      <td>0.0</td>\n",
       "      <td>0.000000</td>\n",
       "    </tr>\n",
       "    <tr>\n",
       "      <th>ENSG00000000005</th>\n",
       "      <td>0.000000</td>\n",
       "      <td>0.000000</td>\n",
       "      <td>0.0</td>\n",
       "      <td>0.0</td>\n",
       "      <td>0.0</td>\n",
       "      <td>0.000000</td>\n",
       "      <td>0.0</td>\n",
       "      <td>0.00000</td>\n",
       "      <td>0.000000</td>\n",
       "      <td>0.000000</td>\n",
       "      <td>...</td>\n",
       "      <td>0.0</td>\n",
       "      <td>0.0</td>\n",
       "      <td>0.0</td>\n",
       "      <td>0.0</td>\n",
       "      <td>0.0</td>\n",
       "      <td>0.0</td>\n",
       "      <td>0.0</td>\n",
       "      <td>0.0</td>\n",
       "      <td>0.0</td>\n",
       "      <td>0.000000</td>\n",
       "    </tr>\n",
       "    <tr>\n",
       "      <th>ENSG00000000419</th>\n",
       "      <td>2.436964</td>\n",
       "      <td>0.000000</td>\n",
       "      <td>0.0</td>\n",
       "      <td>0.0</td>\n",
       "      <td>0.0</td>\n",
       "      <td>0.000000</td>\n",
       "      <td>0.0</td>\n",
       "      <td>0.80492</td>\n",
       "      <td>0.000000</td>\n",
       "      <td>0.875673</td>\n",
       "      <td>...</td>\n",
       "      <td>0.0</td>\n",
       "      <td>0.0</td>\n",
       "      <td>0.0</td>\n",
       "      <td>0.0</td>\n",
       "      <td>0.0</td>\n",
       "      <td>0.0</td>\n",
       "      <td>0.0</td>\n",
       "      <td>0.0</td>\n",
       "      <td>0.0</td>\n",
       "      <td>0.000000</td>\n",
       "    </tr>\n",
       "    <tr>\n",
       "      <th>ENSG00000000457</th>\n",
       "      <td>0.000000</td>\n",
       "      <td>0.000000</td>\n",
       "      <td>0.0</td>\n",
       "      <td>0.0</td>\n",
       "      <td>0.0</td>\n",
       "      <td>0.000000</td>\n",
       "      <td>0.0</td>\n",
       "      <td>0.00000</td>\n",
       "      <td>0.000000</td>\n",
       "      <td>0.000000</td>\n",
       "      <td>...</td>\n",
       "      <td>0.0</td>\n",
       "      <td>0.0</td>\n",
       "      <td>0.0</td>\n",
       "      <td>0.0</td>\n",
       "      <td>0.0</td>\n",
       "      <td>0.0</td>\n",
       "      <td>0.0</td>\n",
       "      <td>0.0</td>\n",
       "      <td>0.0</td>\n",
       "      <td>2.072502</td>\n",
       "    </tr>\n",
       "    <tr>\n",
       "      <th>ENSG00000000460</th>\n",
       "      <td>0.000000</td>\n",
       "      <td>0.000000</td>\n",
       "      <td>0.0</td>\n",
       "      <td>0.0</td>\n",
       "      <td>0.0</td>\n",
       "      <td>0.000000</td>\n",
       "      <td>0.0</td>\n",
       "      <td>0.00000</td>\n",
       "      <td>0.000000</td>\n",
       "      <td>0.000000</td>\n",
       "      <td>...</td>\n",
       "      <td>0.0</td>\n",
       "      <td>0.0</td>\n",
       "      <td>0.0</td>\n",
       "      <td>0.0</td>\n",
       "      <td>0.0</td>\n",
       "      <td>0.0</td>\n",
       "      <td>0.0</td>\n",
       "      <td>0.0</td>\n",
       "      <td>0.0</td>\n",
       "      <td>0.000000</td>\n",
       "    </tr>\n",
       "    <tr>\n",
       "      <th>...</th>\n",
       "      <td>...</td>\n",
       "      <td>...</td>\n",
       "      <td>...</td>\n",
       "      <td>...</td>\n",
       "      <td>...</td>\n",
       "      <td>...</td>\n",
       "      <td>...</td>\n",
       "      <td>...</td>\n",
       "      <td>...</td>\n",
       "      <td>...</td>\n",
       "      <td>...</td>\n",
       "      <td>...</td>\n",
       "      <td>...</td>\n",
       "      <td>...</td>\n",
       "      <td>...</td>\n",
       "      <td>...</td>\n",
       "      <td>...</td>\n",
       "      <td>...</td>\n",
       "      <td>...</td>\n",
       "      <td>...</td>\n",
       "      <td>...</td>\n",
       "    </tr>\n",
       "    <tr>\n",
       "      <th>ENSG00000273331</th>\n",
       "      <td>0.000000</td>\n",
       "      <td>0.000000</td>\n",
       "      <td>0.0</td>\n",
       "      <td>0.0</td>\n",
       "      <td>0.0</td>\n",
       "      <td>0.000000</td>\n",
       "      <td>0.0</td>\n",
       "      <td>0.00000</td>\n",
       "      <td>0.000000</td>\n",
       "      <td>0.000000</td>\n",
       "      <td>...</td>\n",
       "      <td>0.0</td>\n",
       "      <td>0.0</td>\n",
       "      <td>0.0</td>\n",
       "      <td>0.0</td>\n",
       "      <td>0.0</td>\n",
       "      <td>0.0</td>\n",
       "      <td>0.0</td>\n",
       "      <td>0.0</td>\n",
       "      <td>0.0</td>\n",
       "      <td>0.000000</td>\n",
       "    </tr>\n",
       "    <tr>\n",
       "      <th>ENSG00000273395</th>\n",
       "      <td>0.000000</td>\n",
       "      <td>0.000000</td>\n",
       "      <td>0.0</td>\n",
       "      <td>0.0</td>\n",
       "      <td>0.0</td>\n",
       "      <td>0.000000</td>\n",
       "      <td>0.0</td>\n",
       "      <td>0.00000</td>\n",
       "      <td>0.000000</td>\n",
       "      <td>0.000000</td>\n",
       "      <td>...</td>\n",
       "      <td>0.0</td>\n",
       "      <td>0.0</td>\n",
       "      <td>0.0</td>\n",
       "      <td>0.0</td>\n",
       "      <td>0.0</td>\n",
       "      <td>0.0</td>\n",
       "      <td>0.0</td>\n",
       "      <td>0.0</td>\n",
       "      <td>0.0</td>\n",
       "      <td>0.000000</td>\n",
       "    </tr>\n",
       "    <tr>\n",
       "      <th>ENSG00000273398</th>\n",
       "      <td>0.000000</td>\n",
       "      <td>0.000000</td>\n",
       "      <td>0.0</td>\n",
       "      <td>0.0</td>\n",
       "      <td>0.0</td>\n",
       "      <td>0.000000</td>\n",
       "      <td>0.0</td>\n",
       "      <td>0.00000</td>\n",
       "      <td>0.000000</td>\n",
       "      <td>0.000000</td>\n",
       "      <td>...</td>\n",
       "      <td>0.0</td>\n",
       "      <td>0.0</td>\n",
       "      <td>0.0</td>\n",
       "      <td>0.0</td>\n",
       "      <td>0.0</td>\n",
       "      <td>0.0</td>\n",
       "      <td>0.0</td>\n",
       "      <td>0.0</td>\n",
       "      <td>0.0</td>\n",
       "      <td>0.000000</td>\n",
       "    </tr>\n",
       "    <tr>\n",
       "      <th>ENSG00000273439</th>\n",
       "      <td>0.000000</td>\n",
       "      <td>0.000000</td>\n",
       "      <td>0.0</td>\n",
       "      <td>0.0</td>\n",
       "      <td>0.0</td>\n",
       "      <td>0.000000</td>\n",
       "      <td>0.0</td>\n",
       "      <td>0.00000</td>\n",
       "      <td>0.000000</td>\n",
       "      <td>0.000000</td>\n",
       "      <td>...</td>\n",
       "      <td>0.0</td>\n",
       "      <td>0.0</td>\n",
       "      <td>0.0</td>\n",
       "      <td>0.0</td>\n",
       "      <td>0.0</td>\n",
       "      <td>0.0</td>\n",
       "      <td>0.0</td>\n",
       "      <td>0.0</td>\n",
       "      <td>0.0</td>\n",
       "      <td>0.000000</td>\n",
       "    </tr>\n",
       "    <tr>\n",
       "      <th>ENSG00000273452</th>\n",
       "      <td>0.000000</td>\n",
       "      <td>0.000000</td>\n",
       "      <td>0.0</td>\n",
       "      <td>0.0</td>\n",
       "      <td>0.0</td>\n",
       "      <td>0.000000</td>\n",
       "      <td>0.0</td>\n",
       "      <td>0.00000</td>\n",
       "      <td>0.000000</td>\n",
       "      <td>0.000000</td>\n",
       "      <td>...</td>\n",
       "      <td>0.0</td>\n",
       "      <td>0.0</td>\n",
       "      <td>0.0</td>\n",
       "      <td>0.0</td>\n",
       "      <td>0.0</td>\n",
       "      <td>0.0</td>\n",
       "      <td>0.0</td>\n",
       "      <td>0.0</td>\n",
       "      <td>0.0</td>\n",
       "      <td>0.000000</td>\n",
       "    </tr>\n",
       "  </tbody>\n",
       "</table>\n",
       "<p>20273 rows × 67885 columns</p>\n",
       "</div>"
      ],
      "text/plain": [
       "                 M106_AAACCTGAGATCCCAT-1  M106_AAACCTGCACTAAGTC-1  \\\n",
       "ENSG00000000003                 2.436964                 1.794323   \n",
       "ENSG00000000005                 0.000000                 0.000000   \n",
       "ENSG00000000419                 2.436964                 0.000000   \n",
       "ENSG00000000457                 0.000000                 0.000000   \n",
       "ENSG00000000460                 0.000000                 0.000000   \n",
       "...                                  ...                      ...   \n",
       "ENSG00000273331                 0.000000                 0.000000   \n",
       "ENSG00000273395                 0.000000                 0.000000   \n",
       "ENSG00000273398                 0.000000                 0.000000   \n",
       "ENSG00000273439                 0.000000                 0.000000   \n",
       "ENSG00000273452                 0.000000                 0.000000   \n",
       "\n",
       "                 M106_AAACCTGGTTGTCTTT-1  M106_AAACCTGTCATGCATG-1  \\\n",
       "ENSG00000000003                      0.0                      0.0   \n",
       "ENSG00000000005                      0.0                      0.0   \n",
       "ENSG00000000419                      0.0                      0.0   \n",
       "ENSG00000000457                      0.0                      0.0   \n",
       "ENSG00000000460                      0.0                      0.0   \n",
       "...                                  ...                      ...   \n",
       "ENSG00000273331                      0.0                      0.0   \n",
       "ENSG00000273395                      0.0                      0.0   \n",
       "ENSG00000273398                      0.0                      0.0   \n",
       "ENSG00000273439                      0.0                      0.0   \n",
       "ENSG00000273452                      0.0                      0.0   \n",
       "\n",
       "                 M106_AAACCTGTCGTATCAG-1  M106_AAACGGGAGGCCCGTT-1  \\\n",
       "ENSG00000000003                      0.0                 0.487696   \n",
       "ENSG00000000005                      0.0                 0.000000   \n",
       "ENSG00000000419                      0.0                 0.000000   \n",
       "ENSG00000000457                      0.0                 0.000000   \n",
       "ENSG00000000460                      0.0                 0.000000   \n",
       "...                                  ...                      ...   \n",
       "ENSG00000273331                      0.0                 0.000000   \n",
       "ENSG00000273395                      0.0                 0.000000   \n",
       "ENSG00000273398                      0.0                 0.000000   \n",
       "ENSG00000273439                      0.0                 0.000000   \n",
       "ENSG00000273452                      0.0                 0.000000   \n",
       "\n",
       "                 M106_AAACGGGCATGTAAGA-1  M106_AAACGGGTCGCTTAGA-1  \\\n",
       "ENSG00000000003                      0.0                  0.00000   \n",
       "ENSG00000000005                      0.0                  0.00000   \n",
       "ENSG00000000419                      0.0                  0.80492   \n",
       "ENSG00000000457                      0.0                  0.00000   \n",
       "ENSG00000000460                      0.0                  0.00000   \n",
       "...                                  ...                      ...   \n",
       "ENSG00000273331                      0.0                  0.00000   \n",
       "ENSG00000273395                      0.0                  0.00000   \n",
       "ENSG00000273398                      0.0                  0.00000   \n",
       "ENSG00000273439                      0.0                  0.00000   \n",
       "ENSG00000273452                      0.0                  0.00000   \n",
       "\n",
       "                 M106_AAAGATGCATTTGCTT-1  M106_AAAGATGTCCAGATCA-1  ...  \\\n",
       "ENSG00000000003                 0.659384                 0.875673  ...   \n",
       "ENSG00000000005                 0.000000                 0.000000  ...   \n",
       "ENSG00000000419                 0.000000                 0.875673  ...   \n",
       "ENSG00000000457                 0.000000                 0.000000  ...   \n",
       "ENSG00000000460                 0.000000                 0.000000  ...   \n",
       "...                                  ...                      ...  ...   \n",
       "ENSG00000273331                 0.000000                 0.000000  ...   \n",
       "ENSG00000273395                 0.000000                 0.000000  ...   \n",
       "ENSG00000273398                 0.000000                 0.000000  ...   \n",
       "ENSG00000273439                 0.000000                 0.000000  ...   \n",
       "ENSG00000273452                 0.000000                 0.000000  ...   \n",
       "\n",
       "                 M131_TTAGGCATCAGAGCTT-1  M131_TTAGTTCAGATGTGTA-1  \\\n",
       "ENSG00000000003                      0.0                      0.0   \n",
       "ENSG00000000005                      0.0                      0.0   \n",
       "ENSG00000000419                      0.0                      0.0   \n",
       "ENSG00000000457                      0.0                      0.0   \n",
       "ENSG00000000460                      0.0                      0.0   \n",
       "...                                  ...                      ...   \n",
       "ENSG00000273331                      0.0                      0.0   \n",
       "ENSG00000273395                      0.0                      0.0   \n",
       "ENSG00000273398                      0.0                      0.0   \n",
       "ENSG00000273439                      0.0                      0.0   \n",
       "ENSG00000273452                      0.0                      0.0   \n",
       "\n",
       "                 M131_TTAGTTCTCTTCCTTC-1  M131_TTATGCTAGTGCTGCC-1  \\\n",
       "ENSG00000000003                      0.0                      0.0   \n",
       "ENSG00000000005                      0.0                      0.0   \n",
       "ENSG00000000419                      0.0                      0.0   \n",
       "ENSG00000000457                      0.0                      0.0   \n",
       "ENSG00000000460                      0.0                      0.0   \n",
       "...                                  ...                      ...   \n",
       "ENSG00000273331                      0.0                      0.0   \n",
       "ENSG00000273395                      0.0                      0.0   \n",
       "ENSG00000273398                      0.0                      0.0   \n",
       "ENSG00000273439                      0.0                      0.0   \n",
       "ENSG00000273452                      0.0                      0.0   \n",
       "\n",
       "                 M131_TTGAACGCACCAGCAC-1  M131_TTGCGTCAGAGCTATA-1  \\\n",
       "ENSG00000000003                      0.0                      0.0   \n",
       "ENSG00000000005                      0.0                      0.0   \n",
       "ENSG00000000419                      0.0                      0.0   \n",
       "ENSG00000000457                      0.0                      0.0   \n",
       "ENSG00000000460                      0.0                      0.0   \n",
       "...                                  ...                      ...   \n",
       "ENSG00000273331                      0.0                      0.0   \n",
       "ENSG00000273395                      0.0                      0.0   \n",
       "ENSG00000273398                      0.0                      0.0   \n",
       "ENSG00000273439                      0.0                      0.0   \n",
       "ENSG00000273452                      0.0                      0.0   \n",
       "\n",
       "                 M146_AGGGTGATCACCACCT-1  M147_GGGACCTAGGGTTCCC-1  \\\n",
       "ENSG00000000003                      0.0                      0.0   \n",
       "ENSG00000000005                      0.0                      0.0   \n",
       "ENSG00000000419                      0.0                      0.0   \n",
       "ENSG00000000457                      0.0                      0.0   \n",
       "ENSG00000000460                      0.0                      0.0   \n",
       "...                                  ...                      ...   \n",
       "ENSG00000273331                      0.0                      0.0   \n",
       "ENSG00000273395                      0.0                      0.0   \n",
       "ENSG00000273398                      0.0                      0.0   \n",
       "ENSG00000273439                      0.0                      0.0   \n",
       "ENSG00000273452                      0.0                      0.0   \n",
       "\n",
       "                 M147_GGGCATCAGCTATGCT-1  M147_TGCACCTGTAAGTGTA-1  \n",
       "ENSG00000000003                      0.0                 0.000000  \n",
       "ENSG00000000005                      0.0                 0.000000  \n",
       "ENSG00000000419                      0.0                 0.000000  \n",
       "ENSG00000000457                      0.0                 2.072502  \n",
       "ENSG00000000460                      0.0                 0.000000  \n",
       "...                                  ...                      ...  \n",
       "ENSG00000273331                      0.0                 0.000000  \n",
       "ENSG00000273395                      0.0                 0.000000  \n",
       "ENSG00000273398                      0.0                 0.000000  \n",
       "ENSG00000273439                      0.0                 0.000000  \n",
       "ENSG00000273452                      0.0                 0.000000  \n",
       "\n",
       "[20273 rows x 67885 columns]"
      ]
     },
     "execution_count": 125,
     "metadata": {},
     "output_type": "execute_result"
    }
   ],
   "source": [
    "pd.DataFrame(NATMI_cohort.counts.T, columns=[k+'_'+v for k,v in zip(NATMI_cohort.samples,NATMI_cohort.barcodes)], index=NATMI_cohort.features)"
   ]
  },
  {
   "cell_type": "code",
   "execution_count": 9,
   "metadata": {},
   "outputs": [
    {
     "data": {
      "text/plain": [
       "Counter({15: 2697,\n",
       "         17: 5966,\n",
       "         14: 874,\n",
       "         4: 3132,\n",
       "         3: 231,\n",
       "         8: 182,\n",
       "         10: 699,\n",
       "         18: 5929,\n",
       "         6: 3857,\n",
       "         13: 3027,\n",
       "         9: 18,\n",
       "         12: 7776,\n",
       "         20: 16,\n",
       "         7: 109,\n",
       "         11: 101,\n",
       "         16: 1224,\n",
       "         19: 665,\n",
       "         5: 11095,\n",
       "         2: 3732,\n",
       "         1: 71})"
      ]
     },
     "execution_count": 9,
     "metadata": {},
     "output_type": "execute_result"
    }
   ],
   "source": [
    "Counter(GEP_DF['associated program'])"
   ]
  }
 ],
 "metadata": {
  "kernelspec": {
   "display_name": "Python 3",
   "language": "python",
   "name": "python3"
  },
  "language_info": {
   "codemirror_mode": {
    "name": "ipython",
    "version": 3
   },
   "file_extension": ".py",
   "mimetype": "text/x-python",
   "name": "python",
   "nbconvert_exporter": "python",
   "pygments_lexer": "ipython3",
   "version": "3.8.12"
  }
 },
 "nbformat": 4,
 "nbformat_minor": 4
}
