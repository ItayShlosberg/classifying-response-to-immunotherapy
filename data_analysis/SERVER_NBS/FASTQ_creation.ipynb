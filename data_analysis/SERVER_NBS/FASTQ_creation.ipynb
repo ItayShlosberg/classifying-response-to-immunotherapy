{
 "cells": [
  {
   "cell_type": "code",
   "execution_count": 2,
   "metadata": {},
   "outputs": [],
   "source": [
    "lib = r'/srv01/technion/shitay/Code/classifying_response_to_immunotherapy/'\n",
    "import sys\n",
    "sys.path.append(lib)\n",
    "from utilities.package_importing import *"
   ]
  },
  {
   "cell_type": "markdown",
   "metadata": {},
   "source": [
    "# Creating FASTQ files\n",
    "* 2 samples each time. you should only specify their names and the path for the joint CSV.\n",
    "* Should be a folder with CSV mapping the barcodes for both samples.\n",
    "* The output is a bash file which you can run and create the complete FASTQ files - it will be located in 'output_bash_file', and the output of it will be located in '/storage/md_keren/shitay/10X/fastq/'\n",
    "* you can use this script to create later condor_submit/job files that will be located in '/srv01/technion/shitay/scripts/FASTQ_scripts/', run them after creating the complete FASTQ file."
   ]
  },
  {
   "cell_type": "code",
   "execution_count": 3,
   "metadata": {},
   "outputs": [
    {
     "name": "stdout",
     "output_type": "stream",
     "text": [
      "PATH: \n",
      "/storage/md_keren/shitay/10X/Drive_row_files/M203_M204\n",
      "output_bash_file: \n",
      "/storage/md_keren/shitay/10X/sh_FASTQ_builders/combine_fastq_M203_M204.sh\n",
      "FASTQ_output_path: \n",
      "/storage/md_keren/shitay/10X/FASTQ\n"
     ]
    }
   ],
   "source": [
    "sample1_name = 'M203'\n",
    "sample2_name = 'M204'\n",
    "\n",
    "# important paths\n",
    "PATH = fr'/storage/md_keren/shitay/10X/Drive_row_files/{sample1_name}_{sample2_name}'\n",
    "output_bash_file = fr'/storage/md_keren/shitay/10X/sh_FASTQ_builders/combine_fastq_{sample1_name}_{sample2_name}.sh' ## the path of the .sh file that will be created.\n",
    "FASTQ_output_path = r'/storage/md_keren/shitay/10X/FASTQ' ## the output path of the final FASTQ file after you run the .sh file that build the fastq\n",
    "\n",
    "print(f'PATH: \\n{PATH}')\n",
    "print(f'output_bash_file: \\n{output_bash_file}')\n",
    "print(f'FASTQ_output_path: \\n{FASTQ_output_path}')"
   ]
  },
  {
   "cell_type": "code",
   "execution_count": 4,
   "metadata": {},
   "outputs": [
    {
     "name": "stdout",
     "output_type": "stream",
     "text": [
      "CSV_PATH: /storage/md_keren/shitay/10X/Drive_row_files/M203_M204/M203_M204.csv\n",
      "SN0_folder: SN0249300\n",
      "SN0_PATH: /storage/md_keren/shitay/10X/Drive_row_files/M203_M204/pkgs/SN0249300\n",
      "prefix: _HF3MWBGXL.\n"
     ]
    }
   ],
   "source": [
    "###  automatic find other important files:\n",
    "\n",
    "CSV_PATH = join(PATH, fr'{sample1_name}_{sample2_name}.csv') ## csv path\n",
    "SN0_folder = os.listdir(join(PATH, 'pkgs'))[0]\n",
    "SN0_PATH = join(PATH, fr'pkgs/{SN0_folder}')\n",
    "# It is a unique prefix that each of the row files contains. \n",
    "# look over the folder '/storage/md_keren/shitay/10X/M149_M150/pkgs/SN0217504/',\n",
    "# the prefix there for example is '_HVM2VBGXG.' \n",
    "# prefix = '_HVM2VBGXG.' \n",
    "prefix = [tt for tt in os.listdir(SN0_PATH) if len(tt)>2 and tt[1]=='_'][0][1:12]\n",
    "\n",
    "print(f'CSV_PATH: {CSV_PATH}')\n",
    "print(f'SN0_folder: {SN0_folder}')\n",
    "print(f'SN0_PATH: {SN0_PATH}')\n",
    "print(f'prefix: {prefix}')"
   ]
  },
  {
   "cell_type": "code",
   "execution_count": 5,
   "metadata": {},
   "outputs": [
    {
     "data": {
      "text/plain": [
       "{1: 'CCACTTAT', 2: 'AACTGGCG', 3: 'TTGGCATA', 4: 'GGTAACGC'}"
      ]
     },
     "execution_count": 5,
     "metadata": {},
     "output_type": "execute_result"
    }
   ],
   "source": [
    "df = pd.read_csv(CSV_PATH)[['SampleName', 'IndexBarcode1']]\n",
    "values = df.values \n",
    "sample1_values = [[s[0],s[1]] for s in values if sample1_name in s[0]]\n",
    "sample1_values = {int(barcode[0].split('_')[1]): barcode[1] for barcode in sample1_values}\n",
    "sample2_values = [[s[0],s[1]] for s in values if sample2_name in s[0]]\n",
    "sample2_values = {int(barcode[0].split('_')[1]): barcode[1] for barcode in sample2_values}\n",
    "\n",
    "\n",
    "y = [[1, 2],[3, 4]]\n",
    "[z for x in y for z in x]\n",
    "sample1_values"
   ]
  },
  {
   "cell_type": "code",
   "execution_count": 6,
   "metadata": {},
   "outputs": [
    {
     "data": {
      "text/plain": [
       "['mkdir /storage/md_keren/shitay/10X/FASTQ/M203',\n",
       " 'cd /storage/md_keren/shitay/10X/Drive_row_files/M203_M204/pkgs/SN0249300',\n",
       " 'cat 1_HF3MWBGXL.1.CCACTTAT.unmapped.1.fastq.gz 1_HF3MWBGXL.1.AACTGGCG.unmapped.1.fastq.gz 1_HF3MWBGXL.1.TTGGCATA.unmapped.1.fastq.gz 1_HF3MWBGXL.1.GGTAACGC.unmapped.1.fastq.gz 2_HF3MWBGXL.2.CCACTTAT.unmapped.1.fastq.gz 2_HF3MWBGXL.2.AACTGGCG.unmapped.1.fastq.gz 2_HF3MWBGXL.2.TTGGCATA.unmapped.1.fastq.gz 2_HF3MWBGXL.2.GGTAACGC.unmapped.1.fastq.gz 3_HF3MWBGXL.3.CCACTTAT.unmapped.1.fastq.gz 3_HF3MWBGXL.3.AACTGGCG.unmapped.1.fastq.gz 3_HF3MWBGXL.3.TTGGCATA.unmapped.1.fastq.gz 3_HF3MWBGXL.3.GGTAACGC.unmapped.1.fastq.gz 4_HF3MWBGXL.4.CCACTTAT.unmapped.1.fastq.gz 4_HF3MWBGXL.4.AACTGGCG.unmapped.1.fastq.gz 4_HF3MWBGXL.4.TTGGCATA.unmapped.1.fastq.gz 4_HF3MWBGXL.4.GGTAACGC.unmapped.1.fastq.gz > /storage/md_keren/shitay/10X/FASTQ/M203/M203_S1_L001_R1_001.fastq.gz',\n",
       " 'cat 1_HF3MWBGXL.1.CCACTTAT.unmapped.2.fastq.gz 1_HF3MWBGXL.1.AACTGGCG.unmapped.2.fastq.gz 1_HF3MWBGXL.1.TTGGCATA.unmapped.2.fastq.gz 1_HF3MWBGXL.1.GGTAACGC.unmapped.2.fastq.gz 2_HF3MWBGXL.2.CCACTTAT.unmapped.2.fastq.gz 2_HF3MWBGXL.2.AACTGGCG.unmapped.2.fastq.gz 2_HF3MWBGXL.2.TTGGCATA.unmapped.2.fastq.gz 2_HF3MWBGXL.2.GGTAACGC.unmapped.2.fastq.gz 3_HF3MWBGXL.3.CCACTTAT.unmapped.2.fastq.gz 3_HF3MWBGXL.3.AACTGGCG.unmapped.2.fastq.gz 3_HF3MWBGXL.3.TTGGCATA.unmapped.2.fastq.gz 3_HF3MWBGXL.3.GGTAACGC.unmapped.2.fastq.gz 4_HF3MWBGXL.4.CCACTTAT.unmapped.2.fastq.gz 4_HF3MWBGXL.4.AACTGGCG.unmapped.2.fastq.gz 4_HF3MWBGXL.4.TTGGCATA.unmapped.2.fastq.gz 4_HF3MWBGXL.4.GGTAACGC.unmapped.2.fastq.gz > /storage/md_keren/shitay/10X/FASTQ/M203/M203_S1_L001_R2_001.fastq.gz',\n",
       " 'mkdir /storage/md_keren/shitay/10X/FASTQ/M204',\n",
       " 'cd /storage/md_keren/shitay/10X/Drive_row_files/M203_M204/pkgs/SN0249300',\n",
       " 'cat 1_HF3MWBGXL.1.CCTAGACC.unmapped.1.fastq.gz 1_HF3MWBGXL.1.ATCTCTGT.unmapped.1.fastq.gz 1_HF3MWBGXL.1.TAGCTCTA.unmapped.1.fastq.gz 1_HF3MWBGXL.1.GGAGAGAG.unmapped.1.fastq.gz 2_HF3MWBGXL.2.CCTAGACC.unmapped.1.fastq.gz 2_HF3MWBGXL.2.ATCTCTGT.unmapped.1.fastq.gz 2_HF3MWBGXL.2.TAGCTCTA.unmapped.1.fastq.gz 2_HF3MWBGXL.2.GGAGAGAG.unmapped.1.fastq.gz 3_HF3MWBGXL.3.CCTAGACC.unmapped.1.fastq.gz 3_HF3MWBGXL.3.ATCTCTGT.unmapped.1.fastq.gz 3_HF3MWBGXL.3.TAGCTCTA.unmapped.1.fastq.gz 3_HF3MWBGXL.3.GGAGAGAG.unmapped.1.fastq.gz 4_HF3MWBGXL.4.CCTAGACC.unmapped.1.fastq.gz 4_HF3MWBGXL.4.ATCTCTGT.unmapped.1.fastq.gz 4_HF3MWBGXL.4.TAGCTCTA.unmapped.1.fastq.gz 4_HF3MWBGXL.4.GGAGAGAG.unmapped.1.fastq.gz > /storage/md_keren/shitay/10X/FASTQ/M204/M204_S1_L001_R1_001.fastq.gz',\n",
       " 'cat 1_HF3MWBGXL.1.CCTAGACC.unmapped.2.fastq.gz 1_HF3MWBGXL.1.ATCTCTGT.unmapped.2.fastq.gz 1_HF3MWBGXL.1.TAGCTCTA.unmapped.2.fastq.gz 1_HF3MWBGXL.1.GGAGAGAG.unmapped.2.fastq.gz 2_HF3MWBGXL.2.CCTAGACC.unmapped.2.fastq.gz 2_HF3MWBGXL.2.ATCTCTGT.unmapped.2.fastq.gz 2_HF3MWBGXL.2.TAGCTCTA.unmapped.2.fastq.gz 2_HF3MWBGXL.2.GGAGAGAG.unmapped.2.fastq.gz 3_HF3MWBGXL.3.CCTAGACC.unmapped.2.fastq.gz 3_HF3MWBGXL.3.ATCTCTGT.unmapped.2.fastq.gz 3_HF3MWBGXL.3.TAGCTCTA.unmapped.2.fastq.gz 3_HF3MWBGXL.3.GGAGAGAG.unmapped.2.fastq.gz 4_HF3MWBGXL.4.CCTAGACC.unmapped.2.fastq.gz 4_HF3MWBGXL.4.ATCTCTGT.unmapped.2.fastq.gz 4_HF3MWBGXL.4.TAGCTCTA.unmapped.2.fastq.gz 4_HF3MWBGXL.4.GGAGAGAG.unmapped.2.fastq.gz > /storage/md_keren/shitay/10X/FASTQ/M204/M204_S1_L001_R2_001.fastq.gz']"
      ]
     },
     "execution_count": 6,
     "metadata": {},
     "output_type": "execute_result"
    }
   ],
   "source": [
    "def synthesize_command_for_sample(barcode_values, sample_name):\n",
    "    n_of_channels = 4\n",
    "    n_of_directions = 2\n",
    "    n_of_barcodes = len(barcode_values)\n",
    "    lines = []\n",
    "    lines.append(f'mkdir {FASTQ_output_path}/{sample_name}')\n",
    "    lines.append(f'cd {SN0_PATH}')\n",
    "    for direction in range(1, 3):\n",
    "        line = 'cat '\n",
    "        for channel in range(1, n_of_channels+1):\n",
    "            for barcode_idx in range(1, n_of_barcodes+1):\n",
    "                barcode = barcode_values[barcode_idx]\n",
    "                line += str(channel)+prefix+str(channel)+'.'+barcode+'.unmapped.'+str(direction)+ '.fastq.gz '\n",
    "        line += f'> {FASTQ_output_path}/{sample_name}/{sample_name}_S1_L001_R{direction}_001.fastq.gz'\n",
    "        lines.append(line)      \n",
    "    return lines\n",
    "\n",
    "res = synthesize_command_for_sample(sample1_values, sample1_name) + synthesize_command_for_sample(sample2_values, sample2_name)\n",
    "res"
   ]
  },
  {
   "cell_type": "markdown",
   "metadata": {},
   "source": [
    "### Creating a bash file which you can run and create the complete FASTQ files - it will be located in 'output_bash_file', and the output of it will be located in '/storage/md_keren/shitay/10X/FASTQ/'"
   ]
  },
  {
   "cell_type": "code",
   "execution_count": 7,
   "metadata": {},
   "outputs": [],
   "source": [
    "# output_bash_file\n",
    "with open(output_bash_file, \"w\") as text_file:\n",
    "    for line in res:\n",
    "        text_file.write(line)\n",
    "        text_file.write('\\n')"
   ]
  },
  {
   "cell_type": "code",
   "execution_count": 8,
   "metadata": {},
   "outputs": [
    {
     "name": "stdout",
     "output_type": "stream",
     "text": [
      "In order to run the BASH file (builder) and create the FASTQ file, run:\n",
      "sh /storage/md_keren/shitay/10X/sh_FASTQ_builders/combine_fastq_M203_M204.sh\n"
     ]
    }
   ],
   "source": [
    "print('In order to run the BASH file (builder) and create the FASTQ file, run:')\n",
    "print(f'sh {output_bash_file}')"
   ]
  },
  {
   "cell_type": "markdown",
   "metadata": {},
   "source": [
    "# Run a job with Condor"
   ]
  },
  {
   "cell_type": "markdown",
   "metadata": {},
   "source": [
    "### you can run these lines to create condor_submit/job files that will be located in '/srv01/technion/shitay/scripts/FASTQ_scripts/', run them after creating the complete FASTQ file."
   ]
  },
  {
   "cell_type": "code",
   "execution_count": 9,
   "metadata": {},
   "outputs": [],
   "source": [
    "def create_submit_file(sample_name):\n",
    "    submit_content = f'executable   = run_{sample_name}.sh\\n'\n",
    "    submit_content += 'arguments    = $(Process)\\n'\n",
    "\n",
    "    submit_content += f'error   = /storage/md_keren/shitay/jobs/errors/{sample_name}.txt\\n'\n",
    "    submit_content += f'output  = /storage/md_keren/shitay/jobs/out/{sample_name}.txt\\n'\n",
    "    submit_content += f'log     = /storage/md_keren/shitay/jobs/logs/{sample_name}.txt\\n'\n",
    "\n",
    "    submit_content += 'request_cpus   = 10\\n'\n",
    "    submit_content += 'request_memory = 32000\\n'\n",
    "\n",
    "    submit_content += 'should_transfer_files = no\\n'\n",
    "    submit_content += 'queue 1'\n",
    "    \n",
    "    \n",
    "    path = fr'/srv01/technion/shitay/scripts/FASTQ_scripts/submit_{sample_name}.submit'\n",
    "    with open(path, 'w') as file:\n",
    "        file.write(submit_content)\n",
    "    \n",
    "create_submit_file(sample1_name)\n",
    "create_submit_file(sample2_name)"
   ]
  },
  {
   "cell_type": "code",
   "execution_count": 10,
   "metadata": {},
   "outputs": [
    {
     "name": "stdout",
     "output_type": "stream",
     "text": [
      "Please notice that you will first need to run chmod u+x bash_file_name in order to submit the job:\n",
      "cd /srv01/technion/shitay/scripts/FASTQ_scripts\n",
      "chmod u+x run_M203.sh\n",
      "chmod u+x run_M204.sh\n",
      "\n",
      "\n",
      "Two ways to run the scripts:\n",
      "\n",
      "1. you can run with condor:\n",
      "condor_submit submit_M203.submit\n",
      "condor_submit submit_M204.submit\n",
      "condor_q\n",
      "\n",
      "2. or alternatively, you can run with screen (note that for now only with screen you can run due to hardware limitations):\n",
      "screen -S M203\n",
      "sh run_M203.sh\n",
      "\n",
      "screen -S M204\n",
      "sh run_M204.sh\n"
     ]
    }
   ],
   "source": [
    "def create_bash_file(sample_name):\n",
    "\n",
    "    sh_content = '#!/bin/bash\\n'\n",
    "\n",
    "    sh_content += f'CELLRANGER_PATH=/Local/md_keren/cellranger-3.1.0/\\n'\n",
    "    sh_content += f'TRANSCRIPTOME_PATH=/storage/md_keren/CellRangerRefData/refdata-cellranger-hg19-3.0.0\\n'\n",
    "    sh_content += f'FASTQ_PATH=/storage/md_keren/shitay/10X/FASTQ/{sample_name}/\\n'\n",
    "    sh_content += f'ID={sample_name}\\n'\n",
    "    sh_content += f'SAMPLE={sample_name}\\n'\n",
    "    sh_content += f'MEMPERCORE=10\\n'\n",
    "    sh_content += f'mkdir /storage/`id -gn`/`id -un`/10X/Execution/{sample_name}\\n'\n",
    "    sh_content += f'cd /storage/`id -gn`/`id -un`/10X/Execution/{sample_name}\\n'\n",
    "    sh_content += '${CELLRANGER_PATH}/cellranger count --id=${ID} --sample=${SAMPLE} --fastqs=${FASTQ_PATH} --localmem=32 --localcores=16 --jobmode=local --transcriptome=${TRANSCRIPTOME_PATH} --chemistry=auto'\n",
    "    \n",
    "    path = fr'/srv01/technion/shitay/scripts/FASTQ_scripts/run_{sample_name}.sh'\n",
    "    with open(path, 'w') as file:\n",
    "        file.write(sh_content)\n",
    "    \n",
    "create_bash_file(sample1_name)\n",
    "create_bash_file(sample2_name)\n",
    "print('Please notice that you will first need to run chmod u+x bash_file_name in order to submit the job:')\n",
    "print(f'cd /srv01/technion/shitay/scripts/FASTQ_scripts')\n",
    "print(f'chmod u+x '+f'run_{sample1_name}.sh')\n",
    "print(f'chmod u+x '+f'run_{sample2_name}.sh\\n\\n')\n",
    "print(f'Two ways to run the scripts:\\n')\n",
    "print('1. you can run with condor:')\n",
    "print(f'condor_submit '+f'submit_{sample1_name}.submit')\n",
    "print(f'condor_submit '+f'submit_{sample2_name}.submit')\n",
    "print(f'condor_q')\n",
    "print()\n",
    "print('2. or alternatively, you can run with screen (note that for now only with screen you can run due to hardware limitations):')\n",
    "print(f'screen -S {sample1_name}')\n",
    "print(f'sh '+f'run_{sample1_name}.sh')\n",
    "print()\n",
    "print(f'screen -S {sample2_name}')\n",
    "print(f'sh '+f'run_{sample2_name}.sh')\n"
   ]
  },
  {
   "cell_type": "code",
   "execution_count": null,
   "metadata": {},
   "outputs": [],
   "source": []
  },
  {
   "cell_type": "code",
   "execution_count": null,
   "metadata": {},
   "outputs": [],
   "source": []
  },
  {
   "cell_type": "markdown",
   "metadata": {},
   "source": [
    "# Debug"
   ]
  },
  {
   "cell_type": "code",
   "execution_count": 34,
   "metadata": {},
   "outputs": [
    {
     "name": "stdout",
     "output_type": "stream",
     "text": [
      "\n",
      "0:0 1:0 2:0 2:1 2:2 \n",
      "\n",
      "0:0 1:0 2:0 2:2\n",
      "\n",
      "0:0 1:0 1:1 2:1 2:2 \n",
      "\n",
      "0:0 1:0 1:1 1:2 2:2 \n",
      "\n",
      "0:0 1:0 1:22:2 \n",
      "\n",
      "0:0 2:0 2:1 2:2 \n",
      "\n",
      "0:0 2:0 2:2\n",
      "\n",
      "0:0 0:1 1:1 2:1 2:2 \n",
      "\n",
      "0:0 0:1 1:1 1:2 2:2 \n",
      "\n",
      "0:0 0:1 2:1 2:2 \n",
      "\n",
      "0:0 0:1 0:2 1:2 2:2 \n",
      "\n",
      "0:0 0:1 0:2 2:2 \n",
      "\n",
      "0:0 0:21:2 2:2 \n",
      "\n",
      "0:0 0:22:2 \n"
     ]
    }
   ],
   "source": [
    "def stanga(x, y):\n",
    "    stanga_rec(x, y, 0, 0 ,'\\n0:0 ')\n",
    "    \n",
    "\n",
    "def stanga_rec(x, y, i, j, txt):\n",
    "    if x==0 and y==0:\n",
    "        print(txt)\n",
    "        return\n",
    "    \n",
    "    if x>=1:\n",
    "        txt2 = txt + f'{i+1}:{j} '\n",
    "        stanga_rec(x-1, y, i+1, j, txt2)\n",
    "    if x>=2:\n",
    "        txt3 = txt + f'{i+2}:{j} '\n",
    "        stanga_rec(x-2, y, i+2, j, txt3)\n",
    "    if y>=1:\n",
    "        txt4 = txt + f'{i}:{j+1} '\n",
    "        stanga_rec(x, y-1, i, j+1, txt4)\n",
    "    if y>=2:\n",
    "        txt5 = txt + f'{i}:{j+2}'\n",
    "        stanga_rec(x, y-2, i, j+2, txt5)\n",
    "\n",
    "stanga(2,2)"
   ]
  }
 ],
 "metadata": {
  "kernelspec": {
   "display_name": "Python 3",
   "language": "python",
   "name": "python3"
  },
  "language_info": {
   "codemirror_mode": {
    "name": "ipython",
    "version": 3
   },
   "file_extension": ".py",
   "mimetype": "text/x-python",
   "name": "python",
   "nbconvert_exporter": "python",
   "pygments_lexer": "ipython3",
   "version": "3.8.12"
  }
 },
 "nbformat": 4,
 "nbformat_minor": 4
}
