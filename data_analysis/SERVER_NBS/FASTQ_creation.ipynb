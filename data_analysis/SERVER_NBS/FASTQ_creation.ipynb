{
 "cells": [
  {
   "cell_type": "code",
   "execution_count": 12,
   "metadata": {},
   "outputs": [],
   "source": [
    "import numpy as np\n",
    "import pandas as pd\n",
    "import scipy\n",
    "import sklearn\n",
    "from sklearn.manifold import TSNE\n",
    "import pickle\n",
    "# from Bio.Cluster import kcluster\n",
    "import os\n",
    "import numpy as np\n",
    "import yaml\n",
    "import os\n",
    "import pandas\n",
    "from collections import Counter\n",
    "from sklearn.cluster import KMeans\n",
    "import matplotlib.pyplot as plt\n",
    "# from sklearn.metrics import confusion_matrix, ConfusionMatrixDisplay\n",
    "import sys\n",
    "import seaborn as sns\n",
    "# import pyclustering\n",
    "import matplotlib.pylab as plt\n",
    "import seaborn as sb\n",
    "from scipy.spatial.distance import cdist\n",
    "\n",
    "from shutil import copyfile\n",
    "import matplotlib as plt\n",
    "# ------- SERVER EXTENSIONS ---------\n",
    "lib =  r'/srv01/technion/shitay/Code/classifying_response_to_immunotherapy/utilities/droplet_dataset'\n",
    "lib2 = r'/srv01/technion/shitay/Code/classifying_response_to_immunotherapy/utilities'\n",
    "lib3 = r'/srv01/technion/shitay/Code/classifying_response_to_immunotherapy/data_analysis'\n",
    "lib4 = r'/srv01/technion/shitay/Code/classifying_response_to_immunotherapy'\n",
    "lib5 = r'/srv01/technion/shitay/Code/classifying_response_to_immunotherapy/scripts'\n",
    "import sys\n",
    "import pandas as pd, os\n",
    "sys.path.append(lib)\n",
    "sys.path.append(lib2)\n",
    "sys.path.append(lib3)\n",
    "sys.path.append(lib4)\n",
    "sys.path.append(lib5)\n",
    "# ------- SERVER EXTENSIONS ---------"
   ]
  },
  {
   "cell_type": "markdown",
   "metadata": {},
   "source": [
    "# Creating FASTQ files\n",
    "* 2 samples each time. you should only specify their names and the path for the joint CSV.\n",
    "* Should be a folder with CSV mapping the barcodes for both samples.\n",
    "* The output is a bash file which you can run and create the complete FASTQ files - it will be located in 'output_bash_file', and the output of it will be located in '/storage/md_keren/shitay/10X/fastq/'\n",
    "* you can use this script to create later condor_submit/job files that will be located in '/srv01/technion/shitay/scripts/FASTQ_scripts/', run them after creating the complete FASTQ file."
   ]
  },
  {
   "cell_type": "code",
   "execution_count": 13,
   "metadata": {},
   "outputs": [],
   "source": [
    "path = r'/storage/md_keren/shitay/10X/M171_M172/M171_M172_12-16-20.csv' ## csv path\n",
    "\n",
    "sample1_name = 'M171'\n",
    "sample2_name = 'M172'\n",
    "\n",
    "output_bash_file = fr'/storage/md_keren/shitay/10X/M171_M172/pkgs/SN0231656/combine_fastq_{sample1_name}_{sample2_name}.sh' ## the path of the created .sh file\n",
    "FASTQ_output_path = r'/storage/md_keren/shitay/10X/fastq' ## the output path of the final FASTQ file after you run the .sh file that build the fastq\n",
    "\n",
    "\n",
    "# It is a unique prefix that each of the row files contains. \n",
    "# look over the folder '/storage/md_keren/shitay/10X/M149_M150/pkgs/SN0217504/',\n",
    "# the prefix there for example is '_HVM2VBGXG.' \n",
    "# prefix = '_HVM2VBGXG.' \n",
    "prefix = '_HMNVVBGXJ.'"
   ]
  },
  {
   "cell_type": "code",
   "execution_count": 14,
   "metadata": {},
   "outputs": [
    {
     "data": {
      "text/plain": [
       "{1: 'GCGATGTG', 2: 'AGATACAA', 3: 'TTTCCACT', 4: 'CACGGTGC'}"
      ]
     },
     "execution_count": 14,
     "metadata": {},
     "output_type": "execute_result"
    }
   ],
   "source": [
    "df = pd.read_csv(path)[['SampleName', 'IndexBarcode1']]\n",
    "values = df.values \n",
    "sample1_values = [[s[0],s[1]] for s in values if sample1_name in s[0]]\n",
    "sample1_values = {int(barcode[0].split('_')[1]): barcode[1] for barcode in sample1_values}\n",
    "sample2_values = [[s[0],s[1]] for s in values if sample2_name in s[0]]\n",
    "sample2_values = {int(barcode[0].split('_')[1]): barcode[1] for barcode in sample2_values}\n",
    "\n",
    "\n",
    "y = [[1, 2],[3, 4]]\n",
    "[z for x in y for z in x]\n",
    "sample1_values"
   ]
  },
  {
   "cell_type": "code",
   "execution_count": 15,
   "metadata": {},
   "outputs": [
    {
     "data": {
      "text/plain": [
       "['mkdir /storage/md_keren/shitay/10X/fastq/M171',\n",
       " 'cat 1_HMNVVBGXJ.1.GCGATGTG.unmapped.1.fastq.gz 1_HMNVVBGXJ.1.AGATACAA.unmapped.1.fastq.gz 1_HMNVVBGXJ.1.TTTCCACT.unmapped.1.fastq.gz 1_HMNVVBGXJ.1.CACGGTGC.unmapped.1.fastq.gz 2_HMNVVBGXJ.2.GCGATGTG.unmapped.1.fastq.gz 2_HMNVVBGXJ.2.AGATACAA.unmapped.1.fastq.gz 2_HMNVVBGXJ.2.TTTCCACT.unmapped.1.fastq.gz 2_HMNVVBGXJ.2.CACGGTGC.unmapped.1.fastq.gz 3_HMNVVBGXJ.3.GCGATGTG.unmapped.1.fastq.gz 3_HMNVVBGXJ.3.AGATACAA.unmapped.1.fastq.gz 3_HMNVVBGXJ.3.TTTCCACT.unmapped.1.fastq.gz 3_HMNVVBGXJ.3.CACGGTGC.unmapped.1.fastq.gz 4_HMNVVBGXJ.4.GCGATGTG.unmapped.1.fastq.gz 4_HMNVVBGXJ.4.AGATACAA.unmapped.1.fastq.gz 4_HMNVVBGXJ.4.TTTCCACT.unmapped.1.fastq.gz 4_HMNVVBGXJ.4.CACGGTGC.unmapped.1.fastq.gz > /storage/md_keren/shitay/10X/fastq/M171/M171_S1_L001_R1_001.fastq.gz',\n",
       " 'cat 1_HMNVVBGXJ.1.GCGATGTG.unmapped.2.fastq.gz 1_HMNVVBGXJ.1.AGATACAA.unmapped.2.fastq.gz 1_HMNVVBGXJ.1.TTTCCACT.unmapped.2.fastq.gz 1_HMNVVBGXJ.1.CACGGTGC.unmapped.2.fastq.gz 2_HMNVVBGXJ.2.GCGATGTG.unmapped.2.fastq.gz 2_HMNVVBGXJ.2.AGATACAA.unmapped.2.fastq.gz 2_HMNVVBGXJ.2.TTTCCACT.unmapped.2.fastq.gz 2_HMNVVBGXJ.2.CACGGTGC.unmapped.2.fastq.gz 3_HMNVVBGXJ.3.GCGATGTG.unmapped.2.fastq.gz 3_HMNVVBGXJ.3.AGATACAA.unmapped.2.fastq.gz 3_HMNVVBGXJ.3.TTTCCACT.unmapped.2.fastq.gz 3_HMNVVBGXJ.3.CACGGTGC.unmapped.2.fastq.gz 4_HMNVVBGXJ.4.GCGATGTG.unmapped.2.fastq.gz 4_HMNVVBGXJ.4.AGATACAA.unmapped.2.fastq.gz 4_HMNVVBGXJ.4.TTTCCACT.unmapped.2.fastq.gz 4_HMNVVBGXJ.4.CACGGTGC.unmapped.2.fastq.gz > /storage/md_keren/shitay/10X/fastq/M171/M171_S1_L001_R2_001.fastq.gz',\n",
       " 'mkdir /storage/md_keren/shitay/10X/fastq/M172',\n",
       " 'cat 1_HMNVVBGXJ.1.GAGCAAGA.unmapped.1.fastq.gz 1_HMNVVBGXJ.1.TCTGTGAT.unmapped.1.fastq.gz 1_HMNVVBGXJ.1.CGCAGTTC.unmapped.1.fastq.gz 1_HMNVVBGXJ.1.ATATCCCG.unmapped.1.fastq.gz 2_HMNVVBGXJ.2.GAGCAAGA.unmapped.1.fastq.gz 2_HMNVVBGXJ.2.TCTGTGAT.unmapped.1.fastq.gz 2_HMNVVBGXJ.2.CGCAGTTC.unmapped.1.fastq.gz 2_HMNVVBGXJ.2.ATATCCCG.unmapped.1.fastq.gz 3_HMNVVBGXJ.3.GAGCAAGA.unmapped.1.fastq.gz 3_HMNVVBGXJ.3.TCTGTGAT.unmapped.1.fastq.gz 3_HMNVVBGXJ.3.CGCAGTTC.unmapped.1.fastq.gz 3_HMNVVBGXJ.3.ATATCCCG.unmapped.1.fastq.gz 4_HMNVVBGXJ.4.GAGCAAGA.unmapped.1.fastq.gz 4_HMNVVBGXJ.4.TCTGTGAT.unmapped.1.fastq.gz 4_HMNVVBGXJ.4.CGCAGTTC.unmapped.1.fastq.gz 4_HMNVVBGXJ.4.ATATCCCG.unmapped.1.fastq.gz > /storage/md_keren/shitay/10X/fastq/M172/M172_S1_L001_R1_001.fastq.gz',\n",
       " 'cat 1_HMNVVBGXJ.1.GAGCAAGA.unmapped.2.fastq.gz 1_HMNVVBGXJ.1.TCTGTGAT.unmapped.2.fastq.gz 1_HMNVVBGXJ.1.CGCAGTTC.unmapped.2.fastq.gz 1_HMNVVBGXJ.1.ATATCCCG.unmapped.2.fastq.gz 2_HMNVVBGXJ.2.GAGCAAGA.unmapped.2.fastq.gz 2_HMNVVBGXJ.2.TCTGTGAT.unmapped.2.fastq.gz 2_HMNVVBGXJ.2.CGCAGTTC.unmapped.2.fastq.gz 2_HMNVVBGXJ.2.ATATCCCG.unmapped.2.fastq.gz 3_HMNVVBGXJ.3.GAGCAAGA.unmapped.2.fastq.gz 3_HMNVVBGXJ.3.TCTGTGAT.unmapped.2.fastq.gz 3_HMNVVBGXJ.3.CGCAGTTC.unmapped.2.fastq.gz 3_HMNVVBGXJ.3.ATATCCCG.unmapped.2.fastq.gz 4_HMNVVBGXJ.4.GAGCAAGA.unmapped.2.fastq.gz 4_HMNVVBGXJ.4.TCTGTGAT.unmapped.2.fastq.gz 4_HMNVVBGXJ.4.CGCAGTTC.unmapped.2.fastq.gz 4_HMNVVBGXJ.4.ATATCCCG.unmapped.2.fastq.gz > /storage/md_keren/shitay/10X/fastq/M172/M172_S1_L001_R2_001.fastq.gz']"
      ]
     },
     "execution_count": 15,
     "metadata": {},
     "output_type": "execute_result"
    }
   ],
   "source": [
    "\n",
    "def synthesize_command_for_sample(barcode_values, sample_name):\n",
    "    n_of_channels = 4\n",
    "    n_of_directions = 2\n",
    "    n_of_barcodes = len(barcode_values)\n",
    "    lines = []\n",
    "    lines.append(f'mkdir {FASTQ_output_path}/{sample_name}')\n",
    "    for direction in range(1, 3):\n",
    "        line = 'cat '\n",
    "        for channel in range(1, n_of_channels+1):\n",
    "            for barcode_idx in range(1, n_of_barcodes+1):\n",
    "                barcode = barcode_values[barcode_idx]\n",
    "                line += str(channel)+prefix+str(channel)+'.'+barcode+'.unmapped.'+str(direction)+ '.fastq.gz '\n",
    "        line += f'> {FASTQ_output_path}/{sample_name}/{sample_name}_S1_L001_R{direction}_001.fastq.gz'\n",
    "        lines.append(line)      \n",
    "    return lines\n",
    "res = synthesize_command_for_sample(sample1_values, sample1_name) + synthesize_command_for_sample(sample2_values, sample2_name)\n",
    "res"
   ]
  },
  {
   "cell_type": "markdown",
   "metadata": {},
   "source": [
    "### Creating a bash file which you can run and create the complete FASTQ files - it will be located in 'output_bash_file', and the output of it will be located in '/storage/md_keren/shitay/10X/fastq/'"
   ]
  },
  {
   "cell_type": "code",
   "execution_count": 16,
   "metadata": {},
   "outputs": [],
   "source": [
    "# output_bash_file\n",
    "with open(output_bash_file, \"w\") as text_file:\n",
    "    for line in res:\n",
    "        text_file.write(line)\n",
    "        text_file.write('\\n')"
   ]
  },
  {
   "cell_type": "markdown",
   "metadata": {},
   "source": [
    "### you can run these lines to create condor_submit/job files that will be located in '/srv01/technion/shitay/scripts/FASTQ_scripts/', run them after creating the complete FASTQ file."
   ]
  },
  {
   "cell_type": "code",
   "execution_count": 17,
   "metadata": {},
   "outputs": [],
   "source": [
    "def create_submit_file(sample_name):\n",
    "    submit_content = f'executable   = run_{sample_name}.sh\\n'\n",
    "    submit_content += 'arguments    = $(Process)\\n'\n",
    "\n",
    "    submit_content += f'error   = /storage/md_keren/shitay/outputs/jobs/errors/err_{sample_name}\\n'\n",
    "    submit_content += f'output  = /storage/md_keren/shitay/outputs/jobs/out/out_{sample_name}\\n'\n",
    "    submit_content += f'log     = /storage/md_keren/shitay/outputs/jobs/logs/log_{sample_name}.log\\n'\n",
    "\n",
    "    submit_content += 'request_cpus   = 10\\n'\n",
    "    submit_content += 'request_memory = 32000\\n'\n",
    "\n",
    "    submit_content += 'should_transfer_files = no\\n'\n",
    "    submit_content += 'queue 1'\n",
    "    \n",
    "    \n",
    "    path = fr'/srv01/technion/shitay/scripts/FASTQ_scripts/submit_{sample_name}.submit'\n",
    "    with open(path, 'w') as file:\n",
    "        file.write(submit_content)\n",
    "    \n",
    "create_submit_file(sample1_name)\n",
    "create_submit_file(sample2_name)"
   ]
  },
  {
   "cell_type": "code",
   "execution_count": 18,
   "metadata": {},
   "outputs": [
    {
     "name": "stdout",
     "output_type": "stream",
     "text": [
      "Please notice that you will first need to run chmod u+x bash_file_name in order to submit the job\n"
     ]
    }
   ],
   "source": [
    "def create_bash_file(sample_name):\n",
    "\n",
    "    sh_content = '#!/bin/bash\\n'\n",
    "\n",
    "    sh_content += f'CELLRANGER_PATH=/Local/md_keren/cellranger-3.1.0/\\n'\n",
    "    sh_content += f'TRANSCRIPTOME_PATH=/storage/md_keren/CellRangerRefData/refdata-cellranger-hg19-3.0.0\\n'\n",
    "    sh_content += f'FASTQ_PATH=/storage/md_keren/shitay/10X/fastq/{sample_name}/\\n'\n",
    "    sh_content += f'ID={sample_name}\\n'\n",
    "    sh_content += f'SAMPLE={sample_name}\\n'\n",
    "    sh_content += f'MEMPERCORE=10\\n'\n",
    "    sh_content += f'mkdir /storage/`id -gn`/`id -un`/jobs/{sample_name}\\n'\n",
    "    sh_content += f'cd /storage/`id -gn`/`id -un`/jobs/{sample_name}\\n'\n",
    "    sh_content += '${CELLRANGER_PATH}/cellranger count --id=${ID} --sample=${SAMPLE} --fastqs=${FASTQ_PATH} --localmem=32 --localcores=8 --jobmode=local --transcriptome=${TRANSCRIPTOME_PATH} --chemistry=auto'\n",
    "    \n",
    "    path = fr'/srv01/technion/shitay/scripts/FASTQ_scripts/run_{sample_name}.sh'\n",
    "    with open(path, 'w') as file:\n",
    "        file.write(sh_content)\n",
    "    \n",
    "create_bash_file(sample1_name)\n",
    "create_bash_file(sample2_name)\n",
    "print('Please notice that you will first need to run chmod u+x bash_file_name in order to submit the job')"
   ]
  },
  {
   "cell_type": "code",
   "execution_count": null,
   "metadata": {},
   "outputs": [],
   "source": []
  },
  {
   "cell_type": "code",
   "execution_count": null,
   "metadata": {},
   "outputs": [],
   "source": []
  },
  {
   "cell_type": "markdown",
   "metadata": {},
   "source": [
    "# Debug"
   ]
  },
  {
   "cell_type": "code",
   "execution_count": 11,
   "metadata": {},
   "outputs": [
    {
     "data": {
      "text/plain": [
       "'M161'"
      ]
     },
     "execution_count": 11,
     "metadata": {},
     "output_type": "execute_result"
    }
   ],
   "source": [
    "sample1_name"
   ]
  }
 ],
 "metadata": {
  "kernelspec": {
   "display_name": "Python 3",
   "language": "python",
   "name": "python3"
  },
  "language_info": {
   "codemirror_mode": {
    "name": "ipython",
    "version": 3
   },
   "file_extension": ".py",
   "mimetype": "text/x-python",
   "name": "python",
   "nbconvert_exporter": "python",
   "pygments_lexer": "ipython3",
   "version": "3.8.3"
  }
 },
 "nbformat": 4,
 "nbformat_minor": 4
}
