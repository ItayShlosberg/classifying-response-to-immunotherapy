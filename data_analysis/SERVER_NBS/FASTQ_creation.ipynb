{
 "cells": [
  {
   "cell_type": "code",
   "execution_count": 24,
   "metadata": {},
   "outputs": [],
   "source": [
    "import numpy as np\n",
    "import pandas as pd\n",
    "import scipy\n",
    "import sklearn\n",
    "from sklearn.manifold import TSNE\n",
    "import pickle\n",
    "# from Bio.Cluster import kcluster\n",
    "import os\n",
    "import numpy as np\n",
    "import yaml\n",
    "import os\n",
    "import pandas\n",
    "from collections import Counter\n",
    "from sklearn.cluster import KMeans\n",
    "import matplotlib.pyplot as plt\n",
    "# from sklearn.metrics import confusion_matrix, ConfusionMatrixDisplay\n",
    "import sys\n",
    "import seaborn as sns\n",
    "# import pyclustering\n",
    "import matplotlib.pylab as plt\n",
    "import seaborn as sb\n",
    "from scipy.spatial.distance import cdist\n",
    "\n",
    "from shutil import copyfile\n",
    "import matplotlib as plt\n",
    "# ------- SERVER EXTENSIONS ---------\n",
    "lib =  r'/srv01/technion/shitay/Code/classifying_response_to_immunotherapy/utilities/droplet_dataset'\n",
    "lib2 = r'/srv01/technion/shitay/Code/classifying_response_to_immunotherapy/utilities'\n",
    "lib3 = r'/srv01/technion/shitay/Code/classifying_response_to_immunotherapy/data_analysis'\n",
    "lib4 = r'/srv01/technion/shitay/Code/classifying_response_to_immunotherapy'\n",
    "lib5 = r'/srv01/technion/shitay/Code/classifying_response_to_immunotherapy/scripts'\n",
    "import sys\n",
    "import pandas as pd, os\n",
    "sys.path.append(lib)\n",
    "sys.path.append(lib2)\n",
    "sys.path.append(lib3)\n",
    "sys.path.append(lib4)\n",
    "sys.path.append(lib5)\n",
    "# ------- SERVER EXTENSIONS ---------"
   ]
  },
  {
   "cell_type": "markdown",
   "metadata": {},
   "source": [
    "# Creating FASTQ files\n",
    "* 2 samples each time. you should only specify their names and the path for the joint CSV.\n",
    "* Should be a folder with CSV mapping the barcodes for both samples.\n",
    "* The output is a bash file which you can run and create the complete FASTQ files."
   ]
  },
  {
   "cell_type": "code",
   "execution_count": 2,
   "metadata": {},
   "outputs": [],
   "source": [
    "path = r'/storage/md_keren/shitay/10X/M159_M160/M159_M160_10-23-20.csv' ## csv path\n",
    "\n",
    "sample1_name = 'M159'\n",
    "sample2_name = 'M160'\n",
    "\n",
    "output_bash_file = fr'/storage/md_keren/shitay/10X/M159_M160/pkgs/SN0219751/combine_fastq_{sample1_name}_{sample2_name}.sh' ## the path of the created .sh file\n",
    "FASTQ_output_path = r'/storage/md_keren/shitay/10X/fastq' ## the output path of the final FASTQ file after you run the .sh file that build the fastq\n",
    "\n",
    "\n",
    "# It is a unique prefix that each of the row files contains. \n",
    "# look over the folder '/storage/md_keren/shitay/10X/M149_M150/pkgs/SN0217504/',\n",
    "# the prefix there for example is '_HVM2VBGXG.' \n",
    "# prefix = '_HVM2VBGXG.' \n",
    "prefix = '_HVWLVBGXH.'"
   ]
  },
  {
   "cell_type": "code",
   "execution_count": 3,
   "metadata": {},
   "outputs": [
    {
     "data": {
      "text/plain": [
       "{1: 'AAATGTGC', 2: 'GGGCAAAT', 3: 'TCTATCCG', 4: 'CTCGCGTA'}"
      ]
     },
     "execution_count": 3,
     "metadata": {},
     "output_type": "execute_result"
    }
   ],
   "source": [
    "df = pd.read_csv(path)[['SampleName', 'IndexBarcode1']]\n",
    "values = df.values \n",
    "sample1_values = [[s[0],s[1]] for s in values if sample1_name in s[0]]\n",
    "sample1_values = {int(barcode[0].split('_')[1]): barcode[1] for barcode in sample1_values}\n",
    "sample2_values = [[s[0],s[1]] for s in values if sample2_name in s[0]]\n",
    "sample2_values = {int(barcode[0].split('_')[1]): barcode[1] for barcode in sample2_values}\n",
    "\n",
    "\n",
    "y = [[1, 2],[3, 4]]\n",
    "[z for x in y for z in x]\n",
    "sample1_values"
   ]
  },
  {
   "cell_type": "code",
   "execution_count": 4,
   "metadata": {},
   "outputs": [
    {
     "data": {
      "text/plain": [
       "['mkdir /storage/md_keren/shitay/10X/fastq/M159',\n",
       " 'cat 1_HVWLVBGXH.1.AAATGTGC.unmapped.1.fastq.gz 1_HVWLVBGXH.1.GGGCAAAT.unmapped.1.fastq.gz 1_HVWLVBGXH.1.TCTATCCG.unmapped.1.fastq.gz 1_HVWLVBGXH.1.CTCGCGTA.unmapped.1.fastq.gz 2_HVWLVBGXH.2.AAATGTGC.unmapped.1.fastq.gz 2_HVWLVBGXH.2.GGGCAAAT.unmapped.1.fastq.gz 2_HVWLVBGXH.2.TCTATCCG.unmapped.1.fastq.gz 2_HVWLVBGXH.2.CTCGCGTA.unmapped.1.fastq.gz 3_HVWLVBGXH.3.AAATGTGC.unmapped.1.fastq.gz 3_HVWLVBGXH.3.GGGCAAAT.unmapped.1.fastq.gz 3_HVWLVBGXH.3.TCTATCCG.unmapped.1.fastq.gz 3_HVWLVBGXH.3.CTCGCGTA.unmapped.1.fastq.gz 4_HVWLVBGXH.4.AAATGTGC.unmapped.1.fastq.gz 4_HVWLVBGXH.4.GGGCAAAT.unmapped.1.fastq.gz 4_HVWLVBGXH.4.TCTATCCG.unmapped.1.fastq.gz 4_HVWLVBGXH.4.CTCGCGTA.unmapped.1.fastq.gz > /storage/md_keren/shitay/10X/fastq/M159/M159_S1_L001_R1_001.fastq.gz',\n",
       " 'cat 1_HVWLVBGXH.1.AAATGTGC.unmapped.2.fastq.gz 1_HVWLVBGXH.1.GGGCAAAT.unmapped.2.fastq.gz 1_HVWLVBGXH.1.TCTATCCG.unmapped.2.fastq.gz 1_HVWLVBGXH.1.CTCGCGTA.unmapped.2.fastq.gz 2_HVWLVBGXH.2.AAATGTGC.unmapped.2.fastq.gz 2_HVWLVBGXH.2.GGGCAAAT.unmapped.2.fastq.gz 2_HVWLVBGXH.2.TCTATCCG.unmapped.2.fastq.gz 2_HVWLVBGXH.2.CTCGCGTA.unmapped.2.fastq.gz 3_HVWLVBGXH.3.AAATGTGC.unmapped.2.fastq.gz 3_HVWLVBGXH.3.GGGCAAAT.unmapped.2.fastq.gz 3_HVWLVBGXH.3.TCTATCCG.unmapped.2.fastq.gz 3_HVWLVBGXH.3.CTCGCGTA.unmapped.2.fastq.gz 4_HVWLVBGXH.4.AAATGTGC.unmapped.2.fastq.gz 4_HVWLVBGXH.4.GGGCAAAT.unmapped.2.fastq.gz 4_HVWLVBGXH.4.TCTATCCG.unmapped.2.fastq.gz 4_HVWLVBGXH.4.CTCGCGTA.unmapped.2.fastq.gz > /storage/md_keren/shitay/10X/fastq/M159/M159_S1_L001_R2_001.fastq.gz',\n",
       " 'mkdir /storage/md_keren/shitay/10X/fastq/M160',\n",
       " 'cat 1_HVWLVBGXH.1.AAGCGCTG.unmapped.1.fastq.gz 1_HVWLVBGXH.1.CGTTTGAT.unmapped.1.fastq.gz 1_HVWLVBGXH.1.GTAGCACA.unmapped.1.fastq.gz 1_HVWLVBGXH.1.TCCAATGC.unmapped.1.fastq.gz 2_HVWLVBGXH.2.AAGCGCTG.unmapped.1.fastq.gz 2_HVWLVBGXH.2.CGTTTGAT.unmapped.1.fastq.gz 2_HVWLVBGXH.2.GTAGCACA.unmapped.1.fastq.gz 2_HVWLVBGXH.2.TCCAATGC.unmapped.1.fastq.gz 3_HVWLVBGXH.3.AAGCGCTG.unmapped.1.fastq.gz 3_HVWLVBGXH.3.CGTTTGAT.unmapped.1.fastq.gz 3_HVWLVBGXH.3.GTAGCACA.unmapped.1.fastq.gz 3_HVWLVBGXH.3.TCCAATGC.unmapped.1.fastq.gz 4_HVWLVBGXH.4.AAGCGCTG.unmapped.1.fastq.gz 4_HVWLVBGXH.4.CGTTTGAT.unmapped.1.fastq.gz 4_HVWLVBGXH.4.GTAGCACA.unmapped.1.fastq.gz 4_HVWLVBGXH.4.TCCAATGC.unmapped.1.fastq.gz > /storage/md_keren/shitay/10X/fastq/M160/M160_S1_L001_R1_001.fastq.gz',\n",
       " 'cat 1_HVWLVBGXH.1.AAGCGCTG.unmapped.2.fastq.gz 1_HVWLVBGXH.1.CGTTTGAT.unmapped.2.fastq.gz 1_HVWLVBGXH.1.GTAGCACA.unmapped.2.fastq.gz 1_HVWLVBGXH.1.TCCAATGC.unmapped.2.fastq.gz 2_HVWLVBGXH.2.AAGCGCTG.unmapped.2.fastq.gz 2_HVWLVBGXH.2.CGTTTGAT.unmapped.2.fastq.gz 2_HVWLVBGXH.2.GTAGCACA.unmapped.2.fastq.gz 2_HVWLVBGXH.2.TCCAATGC.unmapped.2.fastq.gz 3_HVWLVBGXH.3.AAGCGCTG.unmapped.2.fastq.gz 3_HVWLVBGXH.3.CGTTTGAT.unmapped.2.fastq.gz 3_HVWLVBGXH.3.GTAGCACA.unmapped.2.fastq.gz 3_HVWLVBGXH.3.TCCAATGC.unmapped.2.fastq.gz 4_HVWLVBGXH.4.AAGCGCTG.unmapped.2.fastq.gz 4_HVWLVBGXH.4.CGTTTGAT.unmapped.2.fastq.gz 4_HVWLVBGXH.4.GTAGCACA.unmapped.2.fastq.gz 4_HVWLVBGXH.4.TCCAATGC.unmapped.2.fastq.gz > /storage/md_keren/shitay/10X/fastq/M160/M160_S1_L001_R2_001.fastq.gz']"
      ]
     },
     "execution_count": 4,
     "metadata": {},
     "output_type": "execute_result"
    }
   ],
   "source": [
    "\n",
    "def synthesize_command_for_sample(barcode_values, sample_name):\n",
    "    n_of_channels = 4\n",
    "    n_of_directions = 2\n",
    "    n_of_barcodes = len(barcode_values)\n",
    "    lines = []\n",
    "    lines.append(f'mkdir {FASTQ_output_path}/{sample_name}')\n",
    "    for direction in range(1, 3):\n",
    "        line = 'cat '\n",
    "        for channel in range(1, n_of_channels+1):\n",
    "            for barcode_idx in range(1, n_of_barcodes+1):\n",
    "                barcode = barcode_values[barcode_idx]\n",
    "                line += str(channel)+prefix+str(channel)+'.'+barcode+'.unmapped.'+str(direction)+ '.fastq.gz '\n",
    "        line += f'> {FASTQ_output_path}/{sample_name}/{sample_name}_S1_L001_R{direction}_001.fastq.gz'\n",
    "        lines.append(line)      \n",
    "    return lines\n",
    "res = synthesize_command_for_sample(sample1_values, sample1_name) + synthesize_command_for_sample(sample2_values, sample2_name)\n",
    "res"
   ]
  },
  {
   "cell_type": "code",
   "execution_count": 5,
   "metadata": {},
   "outputs": [],
   "source": [
    "# output_bash_file\n",
    "with open(output_bash_file, \"w\") as text_file:\n",
    "    for line in res:\n",
    "        text_file.write(line)\n",
    "        text_file.write('\\n')"
   ]
  },
  {
   "cell_type": "code",
   "execution_count": null,
   "metadata": {},
   "outputs": [],
   "source": []
  },
  {
   "cell_type": "code",
   "execution_count": null,
   "metadata": {},
   "outputs": [],
   "source": []
  },
  {
   "cell_type": "code",
   "execution_count": null,
   "metadata": {},
   "outputs": [],
   "source": []
  },
  {
   "cell_type": "code",
   "execution_count": 23,
   "metadata": {},
   "outputs": [],
   "source": [
    "def create_submit_file(sample_name):\n",
    "    submit_content = f'executable   = run_{sample_name}.sh\\n'\n",
    "    submit_content += 'arguments    = $(Process)\\n'\n",
    "\n",
    "    submit_content += f'error   = /storage/md_keren/shitay/outputs/jobs/errors/err_{sample_name}\\n'\n",
    "    submit_content += f'output  = /storage/md_keren/shitay/outputs/jobs/out/out_{sample_name}\\n'\n",
    "    submit_content += f'log     = /storage/md_keren/shitay/outputs/jobs/logs/log_{sample_name}.log\\n'\n",
    "\n",
    "    submit_content += 'request_cpus   = 10\\n'\n",
    "    submit_content += 'request_memory = 32000\\n'\n",
    "\n",
    "    submit_content += 'should_transfer_files = no\\n'\n",
    "    submit_content += 'queue 1'\n",
    "    \n",
    "    \n",
    "    path = fr'/srv01/technion/shitay/scripts/FASTQ_scripts/submit_{sample_name}.submit'\n",
    "    with open(path, 'w') as file:\n",
    "        file.write(submit_content)\n",
    "    \n",
    "create_submit_file(sample1_name)\n",
    "create_submit_file(sample2_name)"
   ]
  },
  {
   "cell_type": "code",
   "execution_count": 22,
   "metadata": {},
   "outputs": [],
   "source": [
    "def create_bash_file(sample_name):\n",
    "\n",
    "    sh_content = '#!/bin/bash\\n'\n",
    "\n",
    "    sh_content += f'CELLRANGER_PATH=/Local/md_keren/cellranger-3.1.0/\\n'\n",
    "    sh_content += f'TRANSCRIPTOME_PATH=/storage/md_keren/CellRangerRefData/refdata-cellranger-hg19-3.0.0\\n'\n",
    "    sh_content += f'FASTQ_PATH=/storage/md_keren/shitay/10X/fastq/{sample_name}/\\n'\n",
    "    sh_content += f'ID={sample_name}\\n'\n",
    "    sh_content += f'SAMPLE={sample_name}\\n'\n",
    "    sh_content += f'MEMPERCORE=10\\n'\n",
    "    sh_content += f'mkdir /storage/`id -gn`/`id -un`/jobs/{sample_name}\\n'\n",
    "    sh_content += f'cd /storage/`id -gn`/`id -un`/jobs/{sample_name}\\n'\n",
    "    sh_content += '${CELLRANGER_PATH}/cellranger count --id=${ID} --sample=${SAMPLE} --fastqs=${FASTQ_PATH} --localmem=32 --localcores=8 --jobmode=local --transcriptome=${TRANSCRIPTOME_PATH} --chemistry=auto'\n",
    "    \n",
    "    path = fr'/srv01/technion/shitay/scripts/FASTQ_scripts/run_{sample_name}.sh'\n",
    "    with open(path, 'w') as file:\n",
    "        file.write(sh_content)\n",
    "    \n",
    "create_bash_file(sample1_name)\n",
    "create_bash_file(sample2_name)"
   ]
  },
  {
   "cell_type": "code",
   "execution_count": null,
   "metadata": {},
   "outputs": [],
   "source": []
  }
 ],
 "metadata": {
  "kernelspec": {
   "display_name": "Python 3",
   "language": "python",
   "name": "python3"
  },
  "language_info": {
   "codemirror_mode": {
    "name": "ipython",
    "version": 3
   },
   "file_extension": ".py",
   "mimetype": "text/x-python",
   "name": "python",
   "nbconvert_exporter": "python",
   "pygments_lexer": "ipython3",
   "version": "3.7.3"
  }
 },
 "nbformat": 4,
 "nbformat_minor": 2
}
