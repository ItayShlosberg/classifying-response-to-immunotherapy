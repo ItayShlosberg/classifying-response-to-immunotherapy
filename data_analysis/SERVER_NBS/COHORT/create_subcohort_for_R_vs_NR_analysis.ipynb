{
 "cells": [
  {
   "cell_type": "markdown",
   "metadata": {},
   "source": [
    "# Subcohort creation\n",
    "\n",
    "Creating a sub-cohort of selected samples for R vs NR analysis."
   ]
  },
  {
   "cell_type": "code",
   "execution_count": 1,
   "metadata": {},
   "outputs": [],
   "source": [
    "lib = r'/srv01/technion/shitay/Code/classifying_response_to_immunotherapy/'\n",
    "import sys\n",
    "sys.path.append(lib)\n",
    "from utilities.package_importing import *\n"
   ]
  },
  {
   "cell_type": "markdown",
   "metadata": {},
   "source": [
    "### normalized or non_normalized"
   ]
  },
  {
   "cell_type": "code",
   "execution_count": 13,
   "metadata": {},
   "outputs": [
    {
     "data": {
      "text/plain": [
       "'non_normalized'"
      ]
     },
     "execution_count": 13,
     "metadata": {},
     "output_type": "execute_result"
    }
   ],
   "source": [
    "IS_NORMALIZED = False\n",
    "\n",
    "\n",
    "\n",
    "if IS_NORMALIZED:\n",
    "    IS_NORMALIZED = 'normalized'\n",
    "else:\n",
    "    IS_NORMALIZED = 'non_normalized'\n",
    "IS_NORMALIZED"
   ]
  },
  {
   "cell_type": "markdown",
   "metadata": {},
   "source": [
    "#### Takes the whole cohort M97-M173 from the server"
   ]
  },
  {
   "cell_type": "code",
   "execution_count": 8,
   "metadata": {},
   "outputs": [],
   "source": [
    "COHORT_PATH = fr'/storage/md_keren/shitay/Data/droplet_seq/M97_M173/cohort/{IS_NORMALIZED}/4.11.21/cohort_{IS_NORMALIZED}_4.11.21.pkl'\n",
    "cohort = pickle.load(open(COHORT_PATH, 'rb'))"
   ]
  },
  {
   "cell_type": "markdown",
   "metadata": {},
   "source": [
    "#### Takes list of sub-cohort samples from server"
   ]
  },
  {
   "cell_type": "code",
   "execution_count": 9,
   "metadata": {},
   "outputs": [
    {
     "name": "stdout",
     "output_type": "stream",
     "text": [
      "Using clinical table in path:\n",
      " /storage/md_keren/shitay/Data/tables/Melanoma_clinical_data_12.21_unportected.csv\n",
      "\n",
      "and labels:\n",
      "/storage/md_keren/shitay/Data/tables/clinical_labels.csv\n",
      "Number of samples: 18\n"
     ]
    }
   ],
   "source": [
    "CLINICAL_TABLE_NUM = 3\n",
    "melanoma_clinical_data = get_constant_cohort(CLINICAL_TABLE_NUM) #get_clinical_data(71)#ICI=True, after_biopsy='ICI')\n",
    "samples = melanoma_clinical_data['Patient id'].tolist()\n",
    "print(f'Number of samples: {len(samples)}')"
   ]
  },
  {
   "cell_type": "markdown",
   "metadata": {},
   "source": [
    "#### Creates sub-cohort:"
   ]
  },
  {
   "cell_type": "code",
   "execution_count": 10,
   "metadata": {},
   "outputs": [],
   "source": [
    "cell_belong_sub_cohort_indices = pd.DataFrame(cohort.samples).isin(samples)[0].tolist()\n",
    "sub_cohort = cohort[cell_belong_sub_cohort_indices]"
   ]
  },
  {
   "cell_type": "code",
   "execution_count": 11,
   "metadata": {},
   "outputs": [
    {
     "data": {
      "text/plain": [
       "(95145, 32738)"
      ]
     },
     "execution_count": 11,
     "metadata": {},
     "output_type": "execute_result"
    }
   ],
   "source": [
    "sub_cohort.counts.shape"
   ]
  },
  {
   "cell_type": "markdown",
   "metadata": {},
   "source": [
    "#### Save sub-cohort"
   ]
  },
  {
   "cell_type": "code",
   "execution_count": 15,
   "metadata": {},
   "outputs": [
    {
     "name": "stdout",
     "output_type": "stream",
     "text": [
      "cohort was saved in /storage/md_keren/shitay/Data/droplet_seq/M97_M173/subcohort/non_normalized/1.1.22/sub_cohort_non_normalized_1.1.22.pkl\n"
     ]
    }
   ],
   "source": [
    "OUTPUT_PATH = fr'/storage/md_keren/shitay/Data/droplet_seq/M97_M173/subcohort/{IS_NORMALIZED}/1.1.22/sub_cohort_{IS_NORMALIZED}_1.1.22.pkl'\n",
    "pickle.dump((sub_cohort), open(OUTPUT_PATH, 'wb'), protocol=4)\n",
    "print(f'cohort was saved in {OUTPUT_PATH}')"
   ]
  },
  {
   "cell_type": "markdown",
   "metadata": {},
   "source": [
    "#### Protein coding genes cohort:"
   ]
  },
  {
   "cell_type": "code",
   "execution_count": 16,
   "metadata": {},
   "outputs": [
    {
     "name": "stdout",
     "output_type": "stream",
     "text": [
      "Number of genes in cohort: 32738\n",
      "Dataset was cleared from non-protein coding genes\n",
      "Number of genes in cohort after filtering: 20273\n"
     ]
    }
   ],
   "source": [
    "print(f'Number of genes in sub-cohort: {sub_cohort.number_of_genes}')\n",
    "sub_cohort.filter_protein_coding_genes()\n",
    "print(f'Number of genes in sub-cohort after filtering: {sub_cohort.number_of_genes}')"
   ]
  },
  {
   "cell_type": "markdown",
   "metadata": {},
   "source": [
    "#### Save sub-cohort of protein coding genes:"
   ]
  },
  {
   "cell_type": "code",
   "execution_count": 17,
   "metadata": {},
   "outputs": [
    {
     "name": "stdout",
     "output_type": "stream",
     "text": [
      "cohort was saved in /storage/md_keren/shitay/Data/droplet_seq/M97_M173/subcohort/non_normalized/1.1.22/sub_cohort_non_normalized_1.1.22_protein_coding_genes.pkl\n"
     ]
    }
   ],
   "source": [
    "OUTPUT_PATH = fr'/storage/md_keren/shitay/Data/droplet_seq/M97_M173/subcohort/{IS_NORMALIZED}/1.1.22/sub_cohort_{IS_NORMALIZED}_1.1.22_protein_coding_genes.pkl'\n",
    "pickle.dump((sub_cohort), open(OUTPUT_PATH, 'wb'), protocol=4)\n",
    "print(f'cohort was saved in {OUTPUT_PATH}')"
   ]
  },
  {
   "cell_type": "markdown",
   "metadata": {},
   "source": [
    "### Save immune cells with protein coding genes!"
   ]
  },
  {
   "cell_type": "code",
   "execution_count": 42,
   "metadata": {},
   "outputs": [],
   "source": [
    "immune_cells = sub_cohort.filter_cells_by_property('is_immune', True)"
   ]
  },
  {
   "cell_type": "code",
   "execution_count": 43,
   "metadata": {},
   "outputs": [],
   "source": [
    "out_path = fr'/storage/md_keren/shitay/Data/droplet_seq/M97_M173/subcohort/{IS_NORMALIZED}/1.1.22/sub_cohort_immune_cells__{IS_NORMALIZED}_1.1.22_protein_coding_genes.pkl'\n",
    "pickle.dump((immune_cells), open(out_path, 'wb'), protocol=4)"
   ]
  },
  {
   "cell_type": "code",
   "execution_count": null,
   "metadata": {},
   "outputs": [],
   "source": []
  },
  {
   "cell_type": "code",
   "execution_count": null,
   "metadata": {},
   "outputs": [],
   "source": []
  },
  {
   "cell_type": "code",
   "execution_count": null,
   "metadata": {},
   "outputs": [],
   "source": []
  }
 ],
 "metadata": {
  "kernelspec": {
   "display_name": "Python 3",
   "language": "python",
   "name": "python3"
  },
  "language_info": {
   "codemirror_mode": {
    "name": "ipython",
    "version": 3
   },
   "file_extension": ".py",
   "mimetype": "text/x-python",
   "name": "python",
   "nbconvert_exporter": "python",
   "pygments_lexer": "ipython3",
   "version": "3.8.12"
  }
 },
 "nbformat": 4,
 "nbformat_minor": 4
}
