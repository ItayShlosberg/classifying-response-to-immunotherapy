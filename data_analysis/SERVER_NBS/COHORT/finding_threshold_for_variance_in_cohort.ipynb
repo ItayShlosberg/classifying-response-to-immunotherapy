{
 "cells": [
  {
   "cell_type": "code",
   "execution_count": 13,
   "metadata": {},
   "outputs": [],
   "source": [
    "lib = r'/srv01/technion/shitay/Code/classifying_response_to_immunotherapy/'\n",
    "import sys\n",
    "sys.path.append(lib)\n",
    "from utilities.package_importing import *\n"
   ]
  },
  {
   "cell_type": "markdown",
   "metadata": {},
   "source": [
    "# Finding a threshold for variance so that we will have 4k~ genes."
   ]
  },
  {
   "cell_type": "markdown",
   "metadata": {},
   "source": [
    "##### Loads pickle file of NORMALIZED cohort"
   ]
  },
  {
   "cell_type": "code",
   "execution_count": 2,
   "metadata": {},
   "outputs": [],
   "source": [
    "# cohort_path = r'/storage/md_keren/shitay/Data/droplet_seq/cohort/normalized/6.21/cohort_normalized_26.6.21.pkl'\n",
    "# cohort_path = r'/storage/md_keren/shitay/Data/droplet_seq/cohort/normalized/6.21/myeloid_normalized_26.6.21.pkl'\n",
    "# cohort_path = fr'/storage/md_keren/shitay/Data/droplet_seq/M97_M173/cohort/normalized/4.11.21/cohort_normalized_4.11.21.pkl'\n",
    "cohort_path = r'/storage/md_keren/shitay/Data/droplet_seq/M97_M173/subcohort/normalized/1.1.22/sub_cohort_normalized_1.1.22_protein_coding_genes.pkl'\n",
    "\n",
    "normalized_cohort = pickle.load(open(cohort_path, 'rb'))"
   ]
  },
  {
   "cell_type": "markdown",
   "metadata": {},
   "source": [
    "##### Run the next block if you want to keep only protein coding genes:"
   ]
  },
  {
   "cell_type": "code",
   "execution_count": 3,
   "metadata": {},
   "outputs": [
    {
     "name": "stdout",
     "output_type": "stream",
     "text": [
      "Number of genes in cohort: 32738\n",
      "Dataset was cleared from non-protein coding genes\n",
      "Number of genes in cohort after filtering: 20273\n"
     ]
    }
   ],
   "source": [
    "print(f'Number of genes in cohort: {normalized_cohort.number_of_genes}')\n",
    "normalized_cohort.filter_protein_coding_genes()\n",
    "print(f'Number of genes in cohort after filtering: {normalized_cohort.number_of_genes}')"
   ]
  },
  {
   "cell_type": "code",
   "execution_count": 4,
   "metadata": {},
   "outputs": [
    {
     "name": "stdout",
     "output_type": "stream",
     "text": [
      "Number of genes in file: 20273\n",
      "Done\n"
     ]
    }
   ],
   "source": [
    "out_path = r'/storage/md_keren/shitay/Data/droplet_seq/M97_M173/cohort/normalized/4.11.21/cohort_normalized_4.11.21_protein_coding_genes.pkl'\n",
    "print(f'Number of genes in file: {normalized_cohort.number_of_genes}')\n",
    "pickle.dump((normalized_cohort), open(out_path, 'wb'), protocol=4)\n",
    "print('Done')"
   ]
  },
  {
   "cell_type": "markdown",
   "metadata": {},
   "source": [
    "##### Finds a threshold for all cohort"
   ]
  },
  {
   "cell_type": "code",
   "execution_count": 43,
   "metadata": {},
   "outputs": [],
   "source": [
    "variances = np.var(normalized_cohort.counts, axis=0)\n",
    "variances_sorted = np.flip(variances[np.argsort(variances)])"
   ]
  },
  {
   "cell_type": "code",
   "execution_count": 44,
   "metadata": {},
   "outputs": [
    {
     "name": "stdout",
     "output_type": "stream",
     "text": [
      "The 20 variances around the 4Kth gene:\n",
      "[0.28921257 0.28910463 0.28902773 0.28886497 0.28879879 0.28871017\n",
      " 0.28868781 0.28868044 0.2886425  0.28861065 0.28853778 0.28846126\n",
      " 0.28845333 0.28828159 0.2881256  0.2879871  0.28792872 0.28781682\n",
      " 0.28773422 0.28765617]\n",
      "\n",
      "To get 4K~ genes, you need to take a number between [0.28861065 0.28853778]\n",
      "You can take: 0.28857421811408934\n"
     ]
    }
   ],
   "source": [
    "num_requested_genes = 4000\n",
    "print('The 20 variances around the 4Kth gene:')\n",
    "print(variances_sorted[num_requested_genes-10: num_requested_genes+10], end='\\n\\n')\n",
    "print(f'To get 4K~ genes, you need to take a number between {variances_sorted[num_requested_genes-1: num_requested_genes+1]}')\n",
    "all_cohort_variance_threshold = variances_sorted[num_requested_genes-1]+ (variances_sorted[num_requested_genes]-variances_sorted[num_requested_genes-1])/2\n",
    "print(f'You can take: {all_cohort_variance_threshold}')\n"
   ]
  },
  {
   "cell_type": "markdown",
   "metadata": {},
   "source": [
    "##### Finds a threshold for immune cells"
   ]
  },
  {
   "cell_type": "code",
   "execution_count": 14,
   "metadata": {},
   "outputs": [],
   "source": [
    "immune_cells = normalized_cohort.filter_cells_by_property('is_immune', True)"
   ]
  },
  {
   "cell_type": "code",
   "execution_count": 16,
   "metadata": {},
   "outputs": [],
   "source": [
    "variances = np.var(immune_cells.counts, axis=0)\n",
    "variances_sorted = np.flip(variances[np.argsort(variances)])"
   ]
  },
  {
   "cell_type": "code",
   "execution_count": 17,
   "metadata": {},
   "outputs": [
    {
     "name": "stdout",
     "output_type": "stream",
     "text": [
      "The 20 variances around the 4Kth gene:\n",
      "[0.32477845 0.32468761 0.324658   0.32451938 0.32409917 0.32384286\n",
      " 0.32360099 0.32353323 0.32350215 0.32349147 0.32344303 0.32343794\n",
      " 0.32343003 0.32338269 0.32338191 0.3233039  0.32322295 0.32319925\n",
      " 0.32308194 0.32303047]\n",
      "\n",
      "To get 4K~ genes, you need to take a number between [0.32349147 0.32344303]\n",
      "You can take: 0.3234672507459016\n"
     ]
    }
   ],
   "source": [
    "num_requested_genes = 4000\n",
    "print('The 20 variances around the 4Kth gene:')\n",
    "print(variances_sorted[num_requested_genes-10: num_requested_genes+10], end='\\n\\n')\n",
    "print(f'To get 4K~ genes, you need to take a number between {variances_sorted[num_requested_genes-1: num_requested_genes+1]}')\n",
    "immune_optimal_threshold = variances_sorted[num_requested_genes-1]+ (variances_sorted[num_requested_genes]-variances_sorted[num_requested_genes-1])/2\n",
    "print(f'You can take: {immune_optimal_threshold}')"
   ]
  },
  {
   "cell_type": "markdown",
   "metadata": {},
   "source": [
    "##### Finds a threshold for tumor cells"
   ]
  },
  {
   "cell_type": "code",
   "execution_count": 5,
   "metadata": {},
   "outputs": [],
   "source": [
    "tumor_cells = normalized_cohort.filter_cells_by_property('is_cancer', True)\n"
   ]
  },
  {
   "cell_type": "code",
   "execution_count": 6,
   "metadata": {},
   "outputs": [],
   "source": [
    "variances = np.var(tumor_cells.counts, axis=0)\n",
    "variances_sorted = np.flip(variances[np.argsort(variances)])"
   ]
  },
  {
   "cell_type": "code",
   "execution_count": 8,
   "metadata": {},
   "outputs": [
    {
     "name": "stdout",
     "output_type": "stream",
     "text": [
      "The 20 variances around the 4Kth gene:\n",
      "[0.27668357 0.27666568 0.27664868 0.27649206 0.27641217 0.27637867\n",
      " 0.27637441 0.27628617 0.27619825 0.27618969 0.27613441 0.27611972\n",
      " 0.27597427 0.27596926 0.27580344 0.27543347 0.27541456 0.27532683\n",
      " 0.2753113  0.27526536]\n",
      "\n",
      "To get 4K~ genes, you need to take a number between [0.27618969 0.27613441]\n",
      "You can take: 0.276162053656859\n"
     ]
    }
   ],
   "source": [
    "num_requested_genes = 4000\n",
    "print('The 20 variances around the 4Kth gene:')\n",
    "print(variances_sorted[num_requested_genes-10: num_requested_genes+10], end='\\n\\n')\n",
    "print(f'To get 4K~ genes, you need to take a number between {variances_sorted[num_requested_genes-1: num_requested_genes+1]}')\n",
    "print(f'You can take: {variances_sorted[num_requested_genes-1]+ (variances_sorted[num_requested_genes]-variances_sorted[num_requested_genes-1])/2}')"
   ]
  },
  {
   "cell_type": "markdown",
   "metadata": {},
   "source": [
    "### Saves PKLs of immune, tumor, or all cells with after variance filter"
   ]
  },
  {
   "cell_type": "markdown",
   "metadata": {},
   "source": [
    "Tumor:"
   ]
  },
  {
   "cell_type": "code",
   "execution_count": 10,
   "metadata": {},
   "outputs": [
    {
     "name": "stdout",
     "output_type": "stream",
     "text": [
      "Dataset was cleared from genes with variance of less than 0.276162053656859\n",
      "Number of genes in file: 4000\n",
      "Done\n"
     ]
    }
   ],
   "source": [
    "out_path = r'/storage/md_keren/shitay/Data/droplet_seq/M97_M173/cohort/normalized/4.11.21/tumor_cells_normalized_4.11.21_4k_genes.pkl'\n",
    "variance = 0.276162053656859 # [0.27510745 0.27507093]\n",
    "\n",
    "tumor_filtered = tumor_cells.filter_genes_by_variance(variance)\n",
    "print(f'Number of genes in file: {tumor_filtered.number_of_genes}')\n",
    "pickle.dump((tumor_filtered), open(out_path, 'wb'), protocol=4)\n",
    "print('Done')"
   ]
  },
  {
   "cell_type": "markdown",
   "metadata": {},
   "source": [
    "Immune:"
   ]
  },
  {
   "cell_type": "code",
   "execution_count": 8,
   "metadata": {},
   "outputs": [
    {
     "name": "stdout",
     "output_type": "stream",
     "text": [
      "Dataset was cleared from genes with variance of less than 0.3234672507459016\n",
      "Number of genes in file: 4000\n",
      "Done\n"
     ]
    }
   ],
   "source": [
    "# out_path = r'/storage/md_keren/shitay/Data/droplet_seq/cohort/normalized/6.21/immune_cells_26.6.21_4k_genes.pkl'\n",
    "out_path = r'/storage/md_keren/shitay/Data/droplet_seq/M97_M173/subcohort/normalized/1.1.22/immune_cells_normalized_1.1.22_4k_genes.pkl'\n",
    "variance = immune_optimal_threshold # 0.31975473431525625\n",
    "\n",
    "immune_filtered = immune_cells.filter_genes_by_variance(variance)\n",
    "print(f'Number of genes in file: {immune_filtered.number_of_genes}')\n",
    "pickle.dump((immune_filtered), open(out_path, 'wb'), protocol=4)\n",
    "print('Done')"
   ]
  },
  {
   "cell_type": "markdown",
   "metadata": {},
   "source": [
    "All cells (cohort):"
   ]
  },
  {
   "cell_type": "code",
   "execution_count": 45,
   "metadata": {},
   "outputs": [
    {
     "name": "stdout",
     "output_type": "stream",
     "text": [
      "Dataset was cleared from genes with variance of less than 0.28857421811408934\n",
      "Number of genes in file: 4000\n",
      "Done\n"
     ]
    }
   ],
   "source": [
    "out_path = r'/storage/md_keren/shitay/Data/droplet_seq/cohort/normalized/6.21/myeloid_normalized_26.6.21_4k_genes.pkl'\n",
    "variance = all_cohort_variance_threshold\n",
    "\n",
    "cohort_filtered = normalized_cohort.filter_genes_by_variance(variance)\n",
    "print(f'Number of genes in file: {cohort_filtered.number_of_genes}')\n",
    "pickle.dump((cohort_filtered), open(out_path, 'wb'), protocol=4)\n",
    "print('Done')"
   ]
  },
  {
   "cell_type": "markdown",
   "metadata": {},
   "source": [
    "# Protein coding overlap with high variance genes (4K first genes)"
   ]
  },
  {
   "cell_type": "markdown",
   "metadata": {},
   "source": [
    "Loads protein coding DF:"
   ]
  },
  {
   "cell_type": "code",
   "execution_count": 30,
   "metadata": {},
   "outputs": [],
   "source": [
    "PROTEIN_CODING_FILE = r'/storage/md_keren/shitay/Data/tables/gene_ens_map.xlsx'\n",
    "protein_coding_df = pandas.read_excel(PROTEIN_CODING_FILE, header = None, names=['gene_id', 'gene', '1', '2'])\n",
    "protein_coding_genes = protein_coding_df[protein_coding_df['2'] == 'protein_coding']['gene'].tolist()"
   ]
  },
  {
   "cell_type": "markdown",
   "metadata": {},
   "source": [
    "Loads cohort that you want to see the number of protein coding genes out of all genes in the cohort:"
   ]
  },
  {
   "cell_type": "code",
   "execution_count": 31,
   "metadata": {},
   "outputs": [],
   "source": [
    "cohort_path = r'/storage/md_keren/shitay/Data/droplet_seq/cohort/normalized/6.21/cytotoxic_normalized_26.6.21_4k_genes.pkl'\n",
    "normalized_cohort = pickle.load(open(cohort_path, 'rb'))"
   ]
  },
  {
   "cell_type": "code",
   "execution_count": 32,
   "metadata": {},
   "outputs": [
    {
     "name": "stdout",
     "output_type": "stream",
     "text": [
      "Number of protein coding genes if DF: 20776\n",
      "Number of genes in cohort: 4000\n",
      "Number of protein coding genes in cohort: 4000\n"
     ]
    }
   ],
   "source": [
    "overlap_genes = intersection_of_lists(normalized_cohort.gene_names, protein_coding_genes)\n",
    "print(f'Number of protein coding genes if DF: {len(protein_coding_genes)}')\n",
    "print(f'Number of genes in cohort: {normalized_cohort.number_of_genes}')\n",
    "print(f'Number of protein coding genes in cohort: {len(overlap_genes)}')"
   ]
  },
  {
   "cell_type": "markdown",
   "metadata": {},
   "source": [
    "# Debug"
   ]
  },
  {
   "cell_type": "code",
   "execution_count": 34,
   "metadata": {},
   "outputs": [
    {
     "data": {
      "text/plain": [
       "25815"
      ]
     },
     "execution_count": 34,
     "metadata": {},
     "output_type": "execute_result"
    }
   ],
   "source": [
    "normalized_cohort.number_of_cells"
   ]
  },
  {
   "cell_type": "code",
   "execution_count": 39,
   "metadata": {},
   "outputs": [
    {
     "data": {
      "text/plain": [
       "97225"
      ]
     },
     "execution_count": 39,
     "metadata": {},
     "output_type": "execute_result"
    }
   ],
   "source": [
    "tumor_cells.number_of_cells\n",
    "sum(tumor_cells.cells_information.getattr('is_cancer'))"
   ]
  },
  {
   "cell_type": "code",
   "execution_count": 44,
   "metadata": {},
   "outputs": [],
   "source": [
    "ii = pickle.load(open(r'/storage/md_keren/shitay/Data/droplet_seq/cohort/normalized/5.21/immune_cells_4k_genes.pkl', 'rb'))"
   ]
  },
  {
   "cell_type": "code",
   "execution_count": 56,
   "metadata": {},
   "outputs": [
    {
     "data": {
      "text/plain": [
       "10.936111592118117"
      ]
     },
     "execution_count": 56,
     "metadata": {},
     "output_type": "execute_result"
    }
   ],
   "source": [
    "ii.counts[700:900].max()"
   ]
  },
  {
   "cell_type": "code",
   "execution_count": 77,
   "metadata": {},
   "outputs": [
    {
     "data": {
      "text/plain": [
       "97225"
      ]
     },
     "execution_count": 77,
     "metadata": {},
     "output_type": "execute_result"
    }
   ],
   "source": [
    "sum(tumor_filtered.cells_information.getattr('is_cancer'))\n",
    "tumor_filtered.number_of_cells"
   ]
  },
  {
   "cell_type": "code",
   "execution_count": 62,
   "metadata": {},
   "outputs": [],
   "source": [
    "cohort_path = r'/storage/md_keren/shitay/Data/droplet_seq/cohort/normalized/5.21/cohort_normalized_10.5.21.pkl'\n",
    "normalized_cohort = pickle.load(open(cohort_path, 'rb'))"
   ]
  },
  {
   "cell_type": "code",
   "execution_count": 66,
   "metadata": {},
   "outputs": [],
   "source": [
    "save_path = r'/storage/md_keren/shitay/Data/droplet_seq/cohort/normalized/5.21/immune_cells_10.5.21.pkl'\n",
    "immune_cells = normalized_cohort.filter_cells_by_property('is_immune', True)"
   ]
  },
  {
   "cell_type": "code",
   "execution_count": 70,
   "metadata": {},
   "outputs": [],
   "source": [
    "immune_cells.number_of_genes\n",
    "pickle.dump((immune_cells), open(save_path, 'wb'), protocol=4)"
   ]
  },
  {
   "cell_type": "code",
   "execution_count": 7,
   "metadata": {},
   "outputs": [
    {
     "data": {
      "text/plain": [
       "<utilities.droplet_dataset.Cohort_RNAseq at 0x7fa5f43205f8>"
      ]
     },
     "execution_count": 7,
     "metadata": {},
     "output_type": "execute_result"
    }
   ],
   "source": [
    "tt = pickle.load(open(out_path, 'rb'))\n",
    "tt\n"
   ]
  },
  {
   "cell_type": "code",
   "execution_count": 9,
   "metadata": {},
   "outputs": [
    {
     "data": {
      "text/plain": [
       "4000"
      ]
     },
     "execution_count": 9,
     "metadata": {},
     "output_type": "execute_result"
    }
   ],
   "source": [
    "tt.number_of_genes"
   ]
  },
  {
   "cell_type": "code",
   "execution_count": 4,
   "metadata": {},
   "outputs": [],
   "source": [
    "cohort_path = r'/storage/md_keren/shitay/Data/droplet_seq/M97_M173/subcohort/normalized/1.1.22/subcohort_normalized_1.1.22_protein_coding_genes.pkl'\n",
    "\n",
    "normalized_cohort = pickle.load(open(cohort_path, 'rb'))"
   ]
  },
  {
   "cell_type": "code",
   "execution_count": 7,
   "metadata": {},
   "outputs": [
    {
     "name": "stdout",
     "output_type": "stream",
     "text": [
      "Will be performed on myeloids\n",
      "IMMUNE CLUSTERING in path \t /storage/md_keren/shitay/outputs/clustering/immune/summaries/4.11.21/immune_kmeans_integrated_4.11.21_clusters_mapping.csv \t is used for defining which cells are myeloids\n",
      "Cluster 5 is defined to be myeloids\n"
     ]
    }
   ],
   "source": [
    "\n",
    "MYELOID_CLUSTER_IDX = 5\n",
    "\n",
    "cohort = normalized_cohort\n",
    "SUBSET = 'MYELOIDS'\n",
    "# ANALYSIS PARAMS for MYELOIDS, taken from summary of immune clustering analysis - cohort 26.6.21\n",
    "# IMMUNE_CLUSTERING_PATH = r'/storage/md_keren/shitay/outputs/clustering/immune/summaries/26.6.21/immune_kmeans_26.6.21_clusters_mapping.csv'\n",
    "# new clustering mapping  path (integrated data M97-M173)\n",
    "IMMUNE_CLUSTERING_PATH = r'/storage/md_keren/shitay/outputs/clustering/immune/summaries/4.11.21/immune_kmeans_integrated_4.11.21_clusters_mapping.csv'\n",
    "\n",
    "if SUBSET is None:\n",
    "    print(f'No subset request was given')\n",
    "    res =  cohort\n",
    "elif SUBSET == 'MYELOIDS':\n",
    "    print(f'Will be performed on myeloids')\n",
    "    print(f'IMMUNE CLUSTERING in path \\t {IMMUNE_CLUSTERING_PATH} \\t is used for defining which cells are myeloids')\n",
    "    print(f'Cluster {MYELOID_CLUSTER_IDX} is defined to be myeloids')\n",
    "\n",
    "    immune_mapping = pd.read_csv(IMMUNE_CLUSTERING_PATH)[['Sample', 'Barcode', 'Cluster']]\n",
    "    myeloid_indices = immune_mapping[immune_mapping['Cluster'] == MYELOID_CLUSTER_IDX][['Sample', 'Barcode']].values\n",
    "\n",
    "    res =  cohort.get_subset_by_identifiers(myeloid_indices[:, 0], myeloid_indices[:, 1])"
   ]
  },
  {
   "cell_type": "code",
   "execution_count": 10,
   "metadata": {},
   "outputs": [
    {
     "data": {
      "text/plain": [
       "(7645, 20273)"
      ]
     },
     "execution_count": 10,
     "metadata": {},
     "output_type": "execute_result"
    }
   ],
   "source": [
    "res.counts.shape"
   ]
  }
 ],
 "metadata": {
  "kernelspec": {
   "display_name": "Python 3",
   "language": "python",
   "name": "python3"
  },
  "language_info": {
   "codemirror_mode": {
    "name": "ipython",
    "version": 3
   },
   "file_extension": ".py",
   "mimetype": "text/x-python",
   "name": "python",
   "nbconvert_exporter": "python",
   "pygments_lexer": "ipython3",
   "version": "3.8.12"
  }
 },
 "nbformat": 4,
 "nbformat_minor": 4
}
