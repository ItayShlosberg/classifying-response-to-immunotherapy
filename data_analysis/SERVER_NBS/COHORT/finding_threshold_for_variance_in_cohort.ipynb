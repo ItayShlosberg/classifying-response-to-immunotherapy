{
 "cells": [
  {
   "cell_type": "code",
   "execution_count": 2,
   "metadata": {},
   "outputs": [],
   "source": [
    "lib = r'/srv01/technion/shitay/Code/classifying_response_to_immunotherapy/'\n",
    "import sys\n",
    "sys.path.append(lib)\n",
    "from utilities.package_importing import *\n"
   ]
  },
  {
   "cell_type": "markdown",
   "metadata": {},
   "source": [
    "# Finding a threshold for variance so that we will have 4k~ genes."
   ]
  },
  {
   "cell_type": "markdown",
   "metadata": {},
   "source": [
    "##### Loads pickle file of NORMALIZED cohort"
   ]
  },
  {
   "cell_type": "code",
   "execution_count": 3,
   "metadata": {},
   "outputs": [],
   "source": [
    "# cohort_path = r'/storage/md_keren/shitay/Data/droplet_seq/cohort/normalized/6.21/cohort_normalized_26.6.21.pkl'\n",
    "# cohort_path = r'/storage/md_keren/shitay/Data/droplet_seq/cohort/normalized/6.21/myeloid_normalized_26.6.21.pkl'\n",
    "# cohort_path = fr'/storage/md_keren/shitay/Data/droplet_seq/M97_M173/cohort/normalized/4.11.21/cohort_normalized_4.11.21.pkl'\n",
    "# cohort_path = r'/storage/md_keren/shitay/Data/droplet_seq/M97_M173/subcohort/normalized/1.1.22/sub_cohort_normalized_1.1.22_protein_coding_genes.pkl'\n",
    "cohort_path = r'/storage/md_keren/shitay/Data/droplet_seq/M97_M173/cohort/normalized/5.5.22/cohort_normalized_5.5.22_protein_coding_genes.pkl'\n",
    "\n",
    "\n",
    "normalized_cohort = pickle.load(open(cohort_path, 'rb'))"
   ]
  },
  {
   "cell_type": "markdown",
   "metadata": {},
   "source": [
    "##### Run the next block if you want to keep only protein coding genes:"
   ]
  },
  {
   "cell_type": "code",
   "execution_count": 15,
   "metadata": {},
   "outputs": [
    {
     "name": "stdout",
     "output_type": "stream",
     "text": [
      "Number of genes in cohort: 32738\n",
      "Dataset was cleared from non-protein coding genes\n",
      "Number of genes in cohort after filtering: 20273\n"
     ]
    }
   ],
   "source": [
    "print(f'Number of genes in cohort: {normalized_cohort.number_of_genes}')\n",
    "normalized_cohort.filter_protein_coding_genes()\n",
    "print(f'Number of genes in cohort after filtering: {normalized_cohort.number_of_genes}')"
   ]
  },
  {
   "cell_type": "code",
   "execution_count": 16,
   "metadata": {},
   "outputs": [
    {
     "name": "stdout",
     "output_type": "stream",
     "text": [
      "Number of genes in file: 20273\n",
      "Done\n"
     ]
    }
   ],
   "source": [
    "out_path = r'/storage/md_keren/shitay/Data/droplet_seq/M97_M173/cohort/non_normalized/5.5.22/cohort_non_normalized_5.5.22_protein_coding_genes.pkl'\n",
    "print(f'Number of genes in file: {normalized_cohort.number_of_genes}')\n",
    "pickle.dump((normalized_cohort), open(out_path, 'wb'), protocol=4)\n",
    "print('Done')"
   ]
  },
  {
   "cell_type": "markdown",
   "metadata": {},
   "source": [
    "#### 1.1. Finds a threshold for all cohort"
   ]
  },
  {
   "cell_type": "code",
   "execution_count": 7,
   "metadata": {},
   "outputs": [],
   "source": [
    "variances = np.var(normalized_cohort.counts, axis=0)\n",
    "variances_sorted = np.flip(variances[np.argsort(variances)])"
   ]
  },
  {
   "cell_type": "code",
   "execution_count": 8,
   "metadata": {},
   "outputs": [
    {
     "name": "stdout",
     "output_type": "stream",
     "text": [
      "The 20 variances around the 4Kth gene:\n",
      "[0.31984284 0.31972321 0.31966953 0.31960577 0.3195971  0.31940521\n",
      " 0.31931866 0.31929894 0.31906893 0.31900725 0.31897806 0.31892991\n",
      " 0.3189241  0.31881142 0.31880832 0.31869743 0.31867555 0.31842302\n",
      " 0.31820147 0.3181483 ]\n",
      "\n",
      "To get 4K~ genes, you need to take a number between [0.31900725 0.31897806]\n",
      "You can take: 0.31899265880767974\n"
     ]
    }
   ],
   "source": [
    "num_requested_genes = 4000\n",
    "print('The 20 variances around the 4Kth gene:')\n",
    "print(variances_sorted[num_requested_genes-10: num_requested_genes+10], end='\\n\\n')\n",
    "print(f'To get 4K~ genes, you need to take a number between {variances_sorted[num_requested_genes-1: num_requested_genes+1]}')\n",
    "all_cohort_variance_threshold = variances_sorted[num_requested_genes-1]+ (variances_sorted[num_requested_genes]-variances_sorted[num_requested_genes-1])/2\n",
    "print(f'You can take: {all_cohort_variance_threshold}')\n"
   ]
  },
  {
   "cell_type": "markdown",
   "metadata": {},
   "source": [
    "#### 1.2. Finds a threshold for immune cells"
   ]
  },
  {
   "cell_type": "code",
   "execution_count": 18,
   "metadata": {},
   "outputs": [],
   "source": [
    "immune_cells = normalized_cohort.filter_cells_by_property('is_immune', True)"
   ]
  },
  {
   "cell_type": "code",
   "execution_count": 19,
   "metadata": {},
   "outputs": [],
   "source": [
    "variances = np.var(immune_cells.counts, axis=0)\n",
    "variances_sorted = np.flip(variances[np.argsort(variances)])"
   ]
  },
  {
   "cell_type": "code",
   "execution_count": 20,
   "metadata": {},
   "outputs": [
    {
     "data": {
      "text/plain": [
       "20273"
      ]
     },
     "execution_count": 20,
     "metadata": {},
     "output_type": "execute_result"
    }
   ],
   "source": [
    "immune_cells.number_of_genes"
   ]
  },
  {
   "cell_type": "code",
   "execution_count": 21,
   "metadata": {},
   "outputs": [
    {
     "name": "stdout",
     "output_type": "stream",
     "text": [
      "The 20 variances around the 4Kth gene:\n",
      "[0.32084524 0.32071543 0.32066101 0.32040886 0.32035222 0.32029963\n",
      " 0.32007026 0.32000578 0.31980515 0.31976889 0.31974058 0.31959421\n",
      " 0.31943371 0.31942773 0.31937713 0.31935325 0.31934704 0.31931344\n",
      " 0.31927438 0.31917821]\n",
      "\n",
      "To get 4K~ genes, you need to take a number between [0.31976889 0.31974058]\n",
      "You can take: 0.31975473431525625\n"
     ]
    }
   ],
   "source": [
    "num_requested_genes = 4000\n",
    "print('The 20 variances around the 4Kth gene:')\n",
    "print(variances_sorted[num_requested_genes-10: num_requested_genes+10], end='\\n\\n')\n",
    "print(f'To get 4K~ genes, you need to take a number between {variances_sorted[num_requested_genes-1: num_requested_genes+1]}')\n",
    "immune_optimal_threshold = variances_sorted[num_requested_genes-1]+ (variances_sorted[num_requested_genes]-variances_sorted[num_requested_genes-1])/2\n",
    "print(f'You can take: {immune_optimal_threshold}')"
   ]
  },
  {
   "cell_type": "markdown",
   "metadata": {},
   "source": [
    "#### 1.3. Finds a threshold for tumor cells"
   ]
  },
  {
   "cell_type": "code",
   "execution_count": 4,
   "metadata": {},
   "outputs": [],
   "source": [
    "tumor_cells = normalized_cohort.filter_cells_by_property('is_cancer', True)\n"
   ]
  },
  {
   "cell_type": "code",
   "execution_count": 5,
   "metadata": {},
   "outputs": [],
   "source": [
    "variances = np.var(tumor_cells.counts, axis=0)\n",
    "variances_sorted = np.flip(variances[np.argsort(variances)])"
   ]
  },
  {
   "cell_type": "code",
   "execution_count": 7,
   "metadata": {},
   "outputs": [
    {
     "name": "stdout",
     "output_type": "stream",
     "text": [
      "The 20 variances around the 4Kth gene:\n",
      "[0.27280887 0.27278102 0.27267924 0.27264401 0.27256041 0.27254876\n",
      " 0.27243756 0.27227922 0.27222835 0.27212914 0.27185951 0.2718108\n",
      " 0.27155821 0.27145694 0.2714342  0.2711011  0.27067369 0.27067026\n",
      " 0.27062641 0.2704963 ]\n",
      "\n",
      "To get 4K~ genes, you need to take a number between [0.27212914 0.27185951]\n",
      "You can take: 0.27199432108278065\n"
     ]
    }
   ],
   "source": [
    "num_requested_genes = 4000\n",
    "print('The 20 variances around the 4Kth gene:')\n",
    "print(variances_sorted[num_requested_genes-10: num_requested_genes+10], end='\\n\\n')\n",
    "print(f'To get 4K~ genes, you need to take a number between {variances_sorted[num_requested_genes-1: num_requested_genes+1]}')\n",
    "tumor_optimal_threshold = variances_sorted[num_requested_genes-1]+ (variances_sorted[num_requested_genes]-variances_sorted[num_requested_genes-1])/2\n",
    "print(f'You can take: {tumor_optimal_threshold}')"
   ]
  },
  {
   "cell_type": "markdown",
   "metadata": {},
   "source": [
    "## 2. Saves PKLs of immune, tumor, or all cells with after variance filter"
   ]
  },
  {
   "cell_type": "markdown",
   "metadata": {},
   "source": [
    "#### 2.1. Tumor:"
   ]
  },
  {
   "cell_type": "code",
   "execution_count": 8,
   "metadata": {},
   "outputs": [
    {
     "name": "stdout",
     "output_type": "stream",
     "text": [
      "Dataset was cleared from genes with variance of less than 0.27199432108278065\n",
      "Number of genes in file: 4000\n",
      "Done\n"
     ]
    }
   ],
   "source": [
    "out_path = r'/storage/md_keren/shitay/Data/droplet_seq/M97_M173/cohort/normalized/5.5.22/tumor_cells_normalized_5.5.22_4k_genes.pkl'\n",
    "variance = tumor_optimal_threshold # [0.27510745 0.27507093]\n",
    "\n",
    "tumor_filtered = tumor_cells.filter_genes_by_variance(variance)\n",
    "print(f'Number of genes in file: {tumor_filtered.number_of_genes}')\n",
    "pickle.dump((tumor_filtered), open(out_path, 'wb'), protocol=4)\n",
    "print('Done')"
   ]
  },
  {
   "cell_type": "markdown",
   "metadata": {},
   "source": [
    "#### 2.2. Immune:"
   ]
  },
  {
   "cell_type": "code",
   "execution_count": 22,
   "metadata": {},
   "outputs": [
    {
     "name": "stdout",
     "output_type": "stream",
     "text": [
      "Dataset was cleared from genes with variance of less than 0.31975473431525625\n",
      "Number of genes in file: 4000\n",
      "Done\n"
     ]
    }
   ],
   "source": [
    "# out_path = r'/storage/md_keren/shitay/Data/droplet_seq/cohort/normalized/6.21/immune_cells_26.6.21_4k_genes.pkl'\n",
    "out_path = r'/storage/md_keren/shitay/Data/droplet_seq/M97_M173/cohort/normalized/5.5.22/immune_cells_normalized_5.5.22_4k_genes.pkl'\n",
    "variance = immune_optimal_threshold # 0.31975473431525625\n",
    "\n",
    "immune_filtered = immune_cells.filter_genes_by_variance(variance)\n",
    "print(f'Number of genes in file: {immune_filtered.number_of_genes}')\n",
    "pickle.dump((immune_filtered), open(out_path, 'wb'), protocol=4)\n",
    "print('Done')"
   ]
  },
  {
   "cell_type": "markdown",
   "metadata": {},
   "source": [
    "#### 2.3. All cells (cohort):"
   ]
  },
  {
   "cell_type": "code",
   "execution_count": 9,
   "metadata": {},
   "outputs": [
    {
     "name": "stdout",
     "output_type": "stream",
     "text": [
      "Dataset was cleared from genes with variance of less than 0.31899265880767974\n",
      "Number of genes in file: 4000\n",
      "Done\n"
     ]
    }
   ],
   "source": [
    "out_path = r'/storage/md_keren/shitay/Data/droplet_seq/M97_M173/cohort/normalized/5.5.22/cohort_normalized_5.5.22_4k_genes.pkl'\n",
    "variance = all_cohort_variance_threshold\n",
    "\n",
    "cohort_filtered = normalized_cohort.filter_genes_by_variance(variance)\n",
    "print(f'Number of genes in file: {cohort_filtered.number_of_genes}')\n",
    "pickle.dump((cohort_filtered), open(out_path, 'wb'), protocol=4)\n",
    "print('Done')"
   ]
  },
  {
   "cell_type": "markdown",
   "metadata": {},
   "source": [
    "# Protein coding overlap with high variance genes (4K first genes)"
   ]
  },
  {
   "cell_type": "markdown",
   "metadata": {},
   "source": [
    "Loads protein coding DF:"
   ]
  },
  {
   "cell_type": "code",
   "execution_count": 30,
   "metadata": {},
   "outputs": [],
   "source": [
    "PROTEIN_CODING_FILE = r'/storage/md_keren/shitay/Data/tables/gene_ens_map.xlsx'\n",
    "protein_coding_df = pandas.read_excel(PROTEIN_CODING_FILE, header = None, names=['gene_id', 'gene', '1', '2'])\n",
    "protein_coding_genes = protein_coding_df[protein_coding_df['2'] == 'protein_coding']['gene'].tolist()"
   ]
  },
  {
   "cell_type": "markdown",
   "metadata": {},
   "source": [
    "Loads cohort that you want to see the number of protein coding genes out of all genes in the cohort:"
   ]
  },
  {
   "cell_type": "code",
   "execution_count": 31,
   "metadata": {},
   "outputs": [],
   "source": [
    "cohort_path = r'/storage/md_keren/shitay/Data/droplet_seq/cohort/normalized/6.21/cytotoxic_normalized_26.6.21_4k_genes.pkl'\n",
    "normalized_cohort = pickle.load(open(cohort_path, 'rb'))"
   ]
  },
  {
   "cell_type": "code",
   "execution_count": 32,
   "metadata": {},
   "outputs": [
    {
     "name": "stdout",
     "output_type": "stream",
     "text": [
      "Number of protein coding genes if DF: 20776\n",
      "Number of genes in cohort: 4000\n",
      "Number of protein coding genes in cohort: 4000\n"
     ]
    }
   ],
   "source": [
    "overlap_genes = intersection_of_lists(normalized_cohort.gene_names, protein_coding_genes)\n",
    "print(f'Number of protein coding genes if DF: {len(protein_coding_genes)}')\n",
    "print(f'Number of genes in cohort: {normalized_cohort.number_of_genes}')\n",
    "print(f'Number of protein coding genes in cohort: {len(overlap_genes)}')"
   ]
  },
  {
   "cell_type": "markdown",
   "metadata": {},
   "source": [
    "# Debug"
   ]
  },
  {
   "cell_type": "code",
   "execution_count": 34,
   "metadata": {},
   "outputs": [
    {
     "data": {
      "text/plain": [
       "25815"
      ]
     },
     "execution_count": 34,
     "metadata": {},
     "output_type": "execute_result"
    }
   ],
   "source": [
    "normalized_cohort.number_of_cells"
   ]
  },
  {
   "cell_type": "code",
   "execution_count": 39,
   "metadata": {},
   "outputs": [
    {
     "data": {
      "text/plain": [
       "97225"
      ]
     },
     "execution_count": 39,
     "metadata": {},
     "output_type": "execute_result"
    }
   ],
   "source": [
    "tumor_cells.number_of_cells\n",
    "sum(tumor_cells.cells_information.getattr('is_cancer'))"
   ]
  },
  {
   "cell_type": "code",
   "execution_count": 44,
   "metadata": {},
   "outputs": [],
   "source": [
    "ii = pickle.load(open(r'/storage/md_keren/shitay/Data/droplet_seq/cohort/normalized/5.21/immune_cells_4k_genes.pkl', 'rb'))"
   ]
  },
  {
   "cell_type": "code",
   "execution_count": 56,
   "metadata": {},
   "outputs": [
    {
     "data": {
      "text/plain": [
       "10.936111592118117"
      ]
     },
     "execution_count": 56,
     "metadata": {},
     "output_type": "execute_result"
    }
   ],
   "source": [
    "ii.counts[700:900].max()"
   ]
  },
  {
   "cell_type": "code",
   "execution_count": 77,
   "metadata": {},
   "outputs": [
    {
     "data": {
      "text/plain": [
       "97225"
      ]
     },
     "execution_count": 77,
     "metadata": {},
     "output_type": "execute_result"
    }
   ],
   "source": [
    "sum(tumor_filtered.cells_information.getattr('is_cancer'))\n",
    "tumor_filtered.number_of_cells"
   ]
  },
  {
   "cell_type": "code",
   "execution_count": 62,
   "metadata": {},
   "outputs": [],
   "source": [
    "cohort_path = r'/storage/md_keren/shitay/Data/droplet_seq/cohort/normalized/5.21/cohort_normalized_10.5.21.pkl'\n",
    "normalized_cohort = pickle.load(open(cohort_path, 'rb'))"
   ]
  },
  {
   "cell_type": "code",
   "execution_count": 66,
   "metadata": {},
   "outputs": [],
   "source": [
    "save_path = r'/storage/md_keren/shitay/Data/droplet_seq/cohort/normalized/5.21/immune_cells_10.5.21.pkl'\n",
    "immune_cells = normalized_cohort.filter_cells_by_property('is_immune', True)"
   ]
  },
  {
   "cell_type": "code",
   "execution_count": 70,
   "metadata": {},
   "outputs": [],
   "source": [
    "immune_cells.number_of_genes\n",
    "pickle.dump((immune_cells), open(save_path, 'wb'), protocol=4)"
   ]
  },
  {
   "cell_type": "code",
   "execution_count": 7,
   "metadata": {},
   "outputs": [
    {
     "data": {
      "text/plain": [
       "<utilities.droplet_dataset.Cohort_RNAseq at 0x7fa5f43205f8>"
      ]
     },
     "execution_count": 7,
     "metadata": {},
     "output_type": "execute_result"
    }
   ],
   "source": [
    "tt = pickle.load(open(out_path, 'rb'))\n",
    "tt\n"
   ]
  },
  {
   "cell_type": "code",
   "execution_count": 9,
   "metadata": {},
   "outputs": [
    {
     "data": {
      "text/plain": [
       "4000"
      ]
     },
     "execution_count": 9,
     "metadata": {},
     "output_type": "execute_result"
    }
   ],
   "source": [
    "tt.number_of_genes"
   ]
  },
  {
   "cell_type": "code",
   "execution_count": 4,
   "metadata": {},
   "outputs": [],
   "source": [
    "cohort_path = r'/storage/md_keren/shitay/Data/droplet_seq/M97_M173/subcohort/normalized/1.1.22/subcohort_normalized_1.1.22_protein_coding_genes.pkl'\n",
    "\n",
    "normalized_cohort = pickle.load(open(cohort_path, 'rb'))"
   ]
  },
  {
   "cell_type": "code",
   "execution_count": 7,
   "metadata": {},
   "outputs": [
    {
     "name": "stdout",
     "output_type": "stream",
     "text": [
      "Will be performed on myeloids\n",
      "IMMUNE CLUSTERING in path \t /storage/md_keren/shitay/outputs/clustering/immune/summaries/4.11.21/immune_kmeans_integrated_4.11.21_clusters_mapping.csv \t is used for defining which cells are myeloids\n",
      "Cluster 5 is defined to be myeloids\n"
     ]
    }
   ],
   "source": [
    "\n",
    "MYELOID_CLUSTER_IDX = 5\n",
    "\n",
    "cohort = normalized_cohort\n",
    "SUBSET = 'MYELOIDS'\n",
    "# ANALYSIS PARAMS for MYELOIDS, taken from summary of immune clustering analysis - cohort 26.6.21\n",
    "# IMMUNE_CLUSTERING_PATH = r'/storage/md_keren/shitay/outputs/clustering/immune/summaries/26.6.21/immune_kmeans_26.6.21_clusters_mapping.csv'\n",
    "# new clustering mapping  path (integrated data M97-M173)\n",
    "IMMUNE_CLUSTERING_PATH = r'/storage/md_keren/shitay/outputs/clustering/immune/summaries/4.11.21/immune_kmeans_integrated_4.11.21_clusters_mapping.csv'\n",
    "\n",
    "if SUBSET is None:\n",
    "    print(f'No subset request was given')\n",
    "    res =  cohort\n",
    "elif SUBSET == 'MYELOIDS':\n",
    "    print(f'Will be performed on myeloids')\n",
    "    print(f'IMMUNE CLUSTERING in path \\t {IMMUNE_CLUSTERING_PATH} \\t is used for defining which cells are myeloids')\n",
    "    print(f'Cluster {MYELOID_CLUSTER_IDX} is defined to be myeloids')\n",
    "\n",
    "    immune_mapping = pd.read_csv(IMMUNE_CLUSTERING_PATH)[['Sample', 'Barcode', 'Cluster']]\n",
    "    myeloid_indices = immune_mapping[immune_mapping['Cluster'] == MYELOID_CLUSTER_IDX][['Sample', 'Barcode']].values\n",
    "\n",
    "    res =  cohort.get_subset_by_identifiers(myeloid_indices[:, 0], myeloid_indices[:, 1])"
   ]
  },
  {
   "cell_type": "code",
   "execution_count": 10,
   "metadata": {},
   "outputs": [
    {
     "data": {
      "text/plain": [
       "(7645, 20273)"
      ]
     },
     "execution_count": 10,
     "metadata": {},
     "output_type": "execute_result"
    }
   ],
   "source": [
    "res.counts.shape"
   ]
  }
 ],
 "metadata": {
  "kernelspec": {
   "display_name": "Python 3",
   "language": "python",
   "name": "python3"
  },
  "language_info": {
   "codemirror_mode": {
    "name": "ipython",
    "version": 3
   },
   "file_extension": ".py",
   "mimetype": "text/x-python",
   "name": "python",
   "nbconvert_exporter": "python",
   "pygments_lexer": "ipython3",
   "version": "3.8.12"
  }
 },
 "nbformat": 4,
 "nbformat_minor": 4
}
