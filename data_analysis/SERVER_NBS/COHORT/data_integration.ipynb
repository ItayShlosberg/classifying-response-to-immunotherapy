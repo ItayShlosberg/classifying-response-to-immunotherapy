{
 "cells": [
  {
   "cell_type": "markdown",
   "metadata": {},
   "source": [
    "# Data integration\n",
    "* In 3.10.21 new data was added to cohort:\n",
    "    - 25 samples M147-M173\n",
    "\n",
    "* this script is built to integrate the samples to one complete cohort.\n",
    "\n",
    "* Then, we can adjust all clustering files to the new cohort. "
   ]
  },
  {
   "cell_type": "code",
   "execution_count": 1,
   "metadata": {},
   "outputs": [],
   "source": [
    "# ------- SERVER EXTENSIONS ---------\n",
    "lib =  r'/srv01/technion/shitay/Code/classifying_response_to_immunotherapy/utilities/droplet_dataset'\n",
    "lib2 = r'/srv01/technion/shitay/Code/classifying_response_to_immunotherapy/utilities'\n",
    "lib3 = r'/srv01/technion/shitay/Code/classifying_response_to_immunotherapy/data_analysis'\n",
    "lib4 = r'/srv01/technion/shitay/Code/classifying_response_to_immunotherapy'\n",
    "lib5 = r'/srv01/technion/shitay/Code/classifying_response_to_immunotherapy/scripts'\n",
    "import sys\n",
    "sys.path.append(lib)\n",
    "sys.path.append(lib2)\n",
    "sys.path.append(lib3)\n",
    "sys.path.append(lib4)\n",
    "sys.path.append(lib5)\n",
    "# ------- SERVER EXTENSIONS ---------import numpy as np\n",
    "import pandas as pd\n",
    "import scipy\n",
    "import sklearn\n",
    "from sklearn.manifold import TSNE\n",
    "import pickle\n",
    "# from Bio.Cluster import kcluster\n",
    "import os\n",
    "import numpy as np\n",
    "import yaml\n",
    "import os\n",
    "import pandas\n",
    "from collections import Counter\n",
    "from sklearn.cluster import KMeans\n",
    "import matplotlib.pyplot as plt\n",
    "# from sklearn.metrics import confusion_matrix, ConfusionMatrixDisplay\n",
    "import sys\n",
    "import seaborn as sns\n",
    "# import pyclustering\n",
    "import matplotlib.pylab as plt\n",
    "import seaborn as sb\n",
    "from os.path import join\n",
    "plt.rcParams['figure.dpi'] = 400\n",
    "import seaborn as sns\n",
    "from utilities.general_helpers import sort_dic, transpose, bold\n",
    "from general_helpers import create_folder\n",
    "from scipy.stats import ranksums, wilcoxon\n",
    "from shutil import copyfile\n",
    "import matplotlib.pyplot as plt\n",
    "import random\n",
    "from utilities.clustering_tools import find_marker_genes_in_cluster, find_markers_in_clusters\n",
    "from utilities.clustering_tools import multipletests_fdr\n",
    "from utilities.general_helpers import intersection_of_lists\n",
    "from scipy.spatial.distance import cdist\n",
    "from utilities.droplet_dataset import get_requested_subset\n"
   ]
  },
  {
   "cell_type": "markdown",
   "metadata": {},
   "source": [
    "### Combines cohorts:"
   ]
  },
  {
   "cell_type": "markdown",
   "metadata": {},
   "source": [
    "Specify if normalized:"
   ]
  },
  {
   "cell_type": "code",
   "execution_count": 2,
   "metadata": {},
   "outputs": [],
   "source": [
    "NORMALIZED = False\n",
    "\n",
    "if NORMALIZED:\n",
    "    str_normalized = 'normalized'\n",
    "else:\n",
    "    str_normalized = 'non_normalized'"
   ]
  },
  {
   "cell_type": "markdown",
   "metadata": {},
   "source": [
    "Load cohorts:"
   ]
  },
  {
   "cell_type": "code",
   "execution_count": 3,
   "metadata": {},
   "outputs": [
    {
     "name": "stdout",
     "output_type": "stream",
     "text": [
      "Number of cells in exisiting cohort: 192778\n",
      "Number of cells in OCT cohort: 143429\n"
     ]
    }
   ],
   "source": [
    "EXISTING_COHORT_PATH = fr'/storage/md_keren/shitay/Data/droplet_seq/M97_M146/cohort/{str_normalized}/4.11.21/cohort_{str_normalized}_4.11.21.pkl'\n",
    "OCT_COHORT_PATH = fr'/storage/md_keren/shitay/Data/droplet_seq/M147_M173/cohort/{str_normalized}/4.11.21/cohort_{str_normalized}_4.11.21.pkl'\n",
    "\n",
    "existing_cohort =  pickle.load(open(EXISTING_COHORT_PATH, 'rb'))\n",
    "oct_cohort = pickle.load(open(OCT_COHORT_PATH, 'rb'))\n",
    "print(f'Number of cells in exisiting cohort: {existing_cohort.number_of_cells}')\n",
    "print(f'Number of cells in OCT cohort: {oct_cohort.number_of_cells}')"
   ]
  },
  {
   "cell_type": "markdown",
   "metadata": {},
   "source": [
    "Integrate:"
   ]
  },
  {
   "cell_type": "code",
   "execution_count": 4,
   "metadata": {},
   "outputs": [
    {
     "name": "stdout",
     "output_type": "stream",
     "text": [
      "Number of cells in integrated cohort: 336207\n"
     ]
    }
   ],
   "source": [
    "integrated_cohort = existing_cohort + oct_cohort\n",
    "print(f'Number of cells in integrated cohort: {integrated_cohort.number_of_cells}')"
   ]
  },
  {
   "cell_type": "markdown",
   "metadata": {},
   "source": [
    "Save integrated cohort:"
   ]
  },
  {
   "cell_type": "code",
   "execution_count": 15,
   "metadata": {},
   "outputs": [
    {
     "name": "stdout",
     "output_type": "stream",
     "text": [
      "cohort was saved in /storage/md_keren/shitay/Data/droplet_seq/M97_M173/cohort/non_normalized/4.11.21/cohort_non_normalized_4.11.21.pkl\n"
     ]
    }
   ],
   "source": [
    "INTEGRATED_COHORT_PATH = fr'/storage/md_keren/shitay/Data/droplet_seq/M97_M173/cohort/{str_normalized}/4.11.21/cohort_{str_normalized}_4.11.21.pkl'\n",
    "pickle.dump((integrated_cohort), open(INTEGRATED_COHORT_PATH, 'wb'), protocol=4)\n",
    "print(f'cohort was saved in {INTEGRATED_COHORT_PATH}')"
   ]
  },
  {
   "cell_type": "markdown",
   "metadata": {},
   "source": [
    "# Adjust Immune\\CD8\\Myeloid clustering to the integrated cohort\n",
    "\n",
    "Integration needed when new data arrives. The process involves clustering each cell in new data into existing clusters, such as immune clusters, CD8 clusters, and myeloid clusters. Here, we calculate the distances of cells with the centroids of existing clusters. Following that, each cell is assigned to the cluster whose centroid is closest. ####"
   ]
  },
  {
   "cell_type": "markdown",
   "metadata": {},
   "source": [
    "## 1. Immune clustering\n",
    " - 1.1 (A) take only Immune cells from cohorts.\n",
    " - 1.1 (B) Loads Immune clustering mapping df.\n",
    "\n",
    "##### Get cluster centroids (A: Calculate / B: Load):\n",
    " - 1.2. Calculating centroids (AVG) of immune clusters: (if already done you can skip it and load centroids from server)\n",
    " - 1.3 ( -> A  |B) save centroids of clusters.\n",
    " - 1.3 (A| -> B  ) Load centroids.\n",
    "\n",
    "\n",
    "##### calculating distance from centroids and creating mapping df for integrated data:\n",
    " - 1.4. Creating DF of immune clusters for OCT data, the cluster of a cell is the cluster with the closet centroid\n",
    " - 1.5. take the mapping of existing_cohort (the new order)\n",
    " - 1.6 Combine cluster mappinbg of existing cohort with oct cohort:\n",
    " - 1.7 Save mapping_df of integrated cohort:"
   ]
  },
  {
   "cell_type": "markdown",
   "metadata": {},
   "source": [
    "##### 1.1 (A) Extract only immune cells (for future analysis, used for mapping cells to immune clusters for OCT data):\n",
    "### NOTE: YOU SHOULD RUN THIS BLOCK FOR IMMUNE|CD8|MYLOIDS (all of them) clustering mapping update!!!"
   ]
  },
  {
   "cell_type": "code",
   "execution_count": 6,
   "metadata": {},
   "outputs": [],
   "source": [
    "immune_existing_cohort = existing_cohort.filter_cells_by_property('is_immune', True)\n",
    "immune_oct_cohort = oct_cohort.filter_cells_by_property('is_immune', True)"
   ]
  },
  {
   "cell_type": "markdown",
   "metadata": {},
   "source": [
    "##### 1.1 (B) Loads immune clustering mapping df "
   ]
  },
  {
   "cell_type": "code",
   "execution_count": 70,
   "metadata": {},
   "outputs": [],
   "source": [
    "clusters_barcodes_mapping_path = r'/storage/md_keren/shitay/outputs/clustering/immune/summaries/26.6.21/immune_kmeans_26.6.21_clusters_mapping.csv'\n",
    "immune_clustering_df = pd.read_csv(clusters_barcodes_mapping_path).drop(columns=['Unnamed: 0', 'index'])"
   ]
  },
  {
   "cell_type": "markdown",
   "metadata": {},
   "source": [
    "##### 1.2 Calculating centroids (AVG) of immune clusters: (if already done you can skip it and load centroids from server)"
   ]
  },
  {
   "cell_type": "code",
   "execution_count": 78,
   "metadata": {},
   "outputs": [
    {
     "name": "stdout",
     "output_type": "stream",
     "text": [
      "cluster 1, num of cells in cluster: 6505 , num of non-empty cells in cluster: 5842\n",
      "\n",
      "cluster 2, num of cells in cluster: 4537 , num of non-empty cells in cluster: 4514\n",
      "\n",
      "cluster 3, num of cells in cluster: 3385 , num of non-empty cells in cluster: 3186\n",
      "\n",
      "cluster 4, num of cells in cluster: 2950 , num of non-empty cells in cluster: 2849\n",
      "\n",
      "cluster 5, num of cells in cluster: 12924 , num of non-empty cells in cluster: 12379\n",
      "\n",
      "cluster 6, num of cells in cluster: 10061 , num of non-empty cells in cluster: 9400\n",
      "\n",
      "cluster 7, num of cells in cluster: 4726 , num of non-empty cells in cluster: 4614\n",
      "\n",
      "cluster 8, num of cells in cluster: 10521 , num of non-empty cells in cluster: 9886\n",
      "\n",
      "cluster 9, num of cells in cluster: 6522 , num of non-empty cells in cluster: 5997\n",
      "\n",
      "cluster 10, num of cells in cluster: 3341 , num of non-empty cells in cluster: 3297\n",
      "\n",
      "cluster 11, num of cells in cluster: 5345 , num of non-empty cells in cluster: 4005\n",
      "\n",
      "cluster 12, num of cells in cluster: 8676 , num of non-empty cells in cluster: 7457\n",
      "\n"
     ]
    }
   ],
   "source": [
    "cohort_ids = list(zip(immune_existing_cohort.barcodes, immune_existing_cohort.samples))\n",
    "immune_centroids = {}\n",
    "\n",
    "clusters = sorted(set(immune_clustering_df['Cluster']))\n",
    "for cluster_idx in clusters:\n",
    "    cluster_i_df = immune_clustering_df[immune_clustering_df['Cluster']==cluster_idx]\n",
    "    print(f'cluster {cluster_idx}, num of cells in cluster: {len(cluster_i_df)}', end=' ')\n",
    "    cluster_ids = list(zip(cluster_i_df['Barcode'].values.tolist(), cluster_i_df['Sample'].values.tolist()))\n",
    "    overlap_ids = intersection_of_lists(cluster_ids, cohort_ids)\n",
    "    print(f', num of non-empty cells in cluster: {len(overlap_ids)}', end='\\n\\n')\n",
    "    cluster_i_cohort = immune_existing_cohort.get_subset_by_identifiers(np.array(overlap_ids)[:,1], np.array(overlap_ids)[:,0])\n",
    "\n",
    "    # Calculate centroif of cluster\n",
    "    centroid = np.average(cluster_i_cohort.counts, axis=0)\n",
    "    immune_centroids[cluster_idx] = centroid"
   ]
  },
  {
   "cell_type": "markdown",
   "metadata": {},
   "source": [
    "##### 1.3 ( -> A  |B) save centroids of clusters:"
   ]
  },
  {
   "cell_type": "code",
   "execution_count": 169,
   "metadata": {},
   "outputs": [],
   "source": [
    "pickle.dump(immune_centroids, open(r'/storage/md_keren/shitay/garbage/centroids.pkl', 'wb'))"
   ]
  },
  {
   "cell_type": "markdown",
   "metadata": {},
   "source": [
    "##### 1.3 (A| -> B  ) Load centroids:"
   ]
  },
  {
   "cell_type": "code",
   "execution_count": 6,
   "metadata": {},
   "outputs": [],
   "source": [
    "immune_centroids = pickle.load(open(r'/storage/md_keren/shitay/garbage/centroids.pkl', 'rb'))"
   ]
  },
  {
   "cell_type": "markdown",
   "metadata": {},
   "source": [
    "##### 1.4 Creating DF of immune clusters for OCT data, the cluster of a cell is the cluster with the closet centroid"
   ]
  },
  {
   "cell_type": "code",
   "execution_count": 9,
   "metadata": {},
   "outputs": [],
   "source": [
    "# correlation distance of immune_oct_cohort from centroids, argmin+1 to keep the idx of the closet cluster:\n",
    "counting_table = immune_oct_cohort.counts\n",
    "oct_cohort_mapping_clusters = np.argmin(cdist(list(immune_centroids.values()), counting_table, 'correlation'), axis=0) + 1\n",
    "\n",
    "# Cancel comment if you want to see distribution of number of cells (new data) in each cluster.\n",
    "# Counter(oct_cohort_mapping_clusters)"
   ]
  },
  {
   "cell_type": "code",
   "execution_count": 56,
   "metadata": {},
   "outputs": [],
   "source": [
    "oct_cohort_cluster_mapping_df = pd.DataFrame(list(zip(immune_oct_cohort.samples, immune_oct_cohort.barcodes, oct_cohort_mapping_clusters)), columns=['Sample', 'Barcode', 'Cluster'])\n",
    "oct_cohort_cluster_mapping_df.head(5)"
   ]
  },
  {
   "cell_type": "markdown",
   "metadata": {},
   "source": [
    "##### 1.5 take the mapping of existing_cohort (the new order)\n",
    "\n",
    "immune_clustering_df contains for each immune cell (with identifier sample&barcode) the corresponding immune cluster. but there are some cells that dont appear there (few number that were excluded).\n",
    "\n",
    "we will update a new df (existing_clustering_df) with the mapping information corresponding the existing cohort (M97-M146). it should be \"kind of identical\" to the immune_clustering_df, but the to make sure about the order or/and exclude the non_empty cells from the original DF we use it."
   ]
  },
  {
   "cell_type": "code",
   "execution_count": 53,
   "metadata": {},
   "outputs": [],
   "source": [
    "existing_clustering_df = pd.DataFrame(columns=['Sample', 'Barcode', 'Cluster'])\n",
    "immune_clustering_df = immune_clustering_df.set_index(['Sample', 'Barcode'])\n",
    "\n",
    "for i in range(immune_existing_cohort.number_of_cells):\n",
    "    sample = immune_existing_cohort.samples[i]\n",
    "    barcode = immune_existing_cohort.barcodes[i]\n",
    "    \n",
    "    try:\n",
    "        cluster = immune_clustering_df.loc[(sample, barcode)]['Cluster']\n",
    "        existing_clustering_df = existing_clustering_df.append(pd.DataFrame([[sample, barcode, cluster]], columns=existing_clustering_df.columns))\n",
    "    except KeyError:\n",
    "        print(f\"{(sample, barcode)} has no cluster.\")\n",
    "    \n",
    "    \n",
    "existing_clustering_df.head(5)"
   ]
  },
  {
   "cell_type": "markdown",
   "metadata": {},
   "source": [
    "##### 1.6 Combine cluster mappinbg of existing cohort with oct cohort:"
   ]
  },
  {
   "cell_type": "code",
   "execution_count": 67,
   "metadata": {},
   "outputs": [
    {
     "name": "stdout",
     "output_type": "stream",
     "text": [
      "<class 'pandas.core.frame.DataFrame'>\n",
      "Int64Index: 144575 entries, 0 to 71148\n",
      "Data columns (total 3 columns):\n",
      " #   Column   Non-Null Count   Dtype \n",
      "---  ------   --------------   ----- \n",
      " 0   Sample   144575 non-null  object\n",
      " 1   Barcode  144575 non-null  object\n",
      " 2   Cluster  144575 non-null  object\n",
      "dtypes: object(3)\n",
      "memory usage: 4.4+ MB\n"
     ]
    }
   ],
   "source": [
    "integrated_cohort_clustering_df = existing_clustering_df.append(oct_cohort_cluster_mapping_df)\n",
    "integrated_cohort_clustering_df.info()"
   ]
  },
  {
   "cell_type": "markdown",
   "metadata": {},
   "source": [
    "##### 1.7 Save mapping_df of integrated cohort:"
   ]
  },
  {
   "cell_type": "code",
   "execution_count": 68,
   "metadata": {},
   "outputs": [],
   "source": [
    "INTEGRATED_CLUSTERING_MAPPING_PATH = r'/storage/md_keren/shitay/outputs/clustering/immune/summaries/4.11.21/immune_kmeans_integrated_4.11.21_clusters_mapping.csv'\n",
    "integrated_cohort_clustering_df.to_csv(INTEGRATED_CLUSTERING_MAPPING_PATH)"
   ]
  },
  {
   "cell_type": "markdown",
   "metadata": {},
   "source": [
    "## 2. CD8 clustering\n",
    "\n",
    " - 2.1 (A) take only CD8 cells from cohorts.\n",
    " - 2.1 (B) Loads CD8 clustering mapping df.\n",
    "\n",
    "##### Get cluster centroids (A: Calculate / B: Load):\n",
    " - 2.2. Calculating centroids (AVG) of immune clusters: (if already done you can skip it and load centroids from server)\n",
    " - 2.3 ( -> A  |B) save centroids of clusters.\n",
    " - 2.3 (A| -> B  ) Load centroids.\n",
    "\n",
    "\n",
    "##### calculating distance from centroids and creating mapping df for integrated data:\n",
    " - 2.4. Creating DF of cd8 clusters for OCT data, the cluster of a cell is the cluster with the closet centroid\n",
    " - 2.5. take the mapping of existing_cohort (the new order)\n",
    " - 2.6 Combine cluster mappinbg of existing cohort with oct cohort:\n",
    " - 2.7 Save mapping_df of integrated cohort:"
   ]
  },
  {
   "cell_type": "markdown",
   "metadata": {},
   "source": [
    "##### 2.1 (A) take only CD8 cells from cohort:"
   ]
  },
  {
   "cell_type": "code",
   "execution_count": null,
   "metadata": {},
   "outputs": [],
   "source": [
    "CD8_existing_cohort = get_requested_subset(immune_existing_cohort, 'CYTOTOXIC_T_CELLS')\n",
    "CD8_oct_cohort = get_requested_subset(immune_oct_cohort, 'CYTOTOXIC_T_CELLS')"
   ]
  },
  {
   "cell_type": "markdown",
   "metadata": {},
   "source": [
    "##### 2.1 (B) Loads CD8 clustering mapping df:"
   ]
  },
  {
   "cell_type": "code",
   "execution_count": 90,
   "metadata": {},
   "outputs": [
    {
     "data": {
      "text/html": [
       "<div>\n",
       "<style scoped>\n",
       "    .dataframe tbody tr th:only-of-type {\n",
       "        vertical-align: middle;\n",
       "    }\n",
       "\n",
       "    .dataframe tbody tr th {\n",
       "        vertical-align: top;\n",
       "    }\n",
       "\n",
       "    .dataframe thead th {\n",
       "        text-align: right;\n",
       "    }\n",
       "</style>\n",
       "<table border=\"1\" class=\"dataframe\">\n",
       "  <thead>\n",
       "    <tr style=\"text-align: right;\">\n",
       "      <th></th>\n",
       "      <th>Sample</th>\n",
       "      <th>Barcode</th>\n",
       "      <th>Cluster</th>\n",
       "    </tr>\n",
       "  </thead>\n",
       "  <tbody>\n",
       "    <tr>\n",
       "      <th>0</th>\n",
       "      <td>M101</td>\n",
       "      <td>AAAGATGCAGCTGTGC-1</td>\n",
       "      <td>1</td>\n",
       "    </tr>\n",
       "    <tr>\n",
       "      <th>1</th>\n",
       "      <td>M101</td>\n",
       "      <td>AAATGCCGTACTTGAC-1</td>\n",
       "      <td>1</td>\n",
       "    </tr>\n",
       "    <tr>\n",
       "      <th>2</th>\n",
       "      <td>M101</td>\n",
       "      <td>AAGGCAGCAGCCAATT-1</td>\n",
       "      <td>1</td>\n",
       "    </tr>\n",
       "    <tr>\n",
       "      <th>3</th>\n",
       "      <td>M101</td>\n",
       "      <td>AAGTCTGTCTAACCGA-1</td>\n",
       "      <td>1</td>\n",
       "    </tr>\n",
       "    <tr>\n",
       "      <th>4</th>\n",
       "      <td>M101</td>\n",
       "      <td>ACAGCTATCGTAGATC-1</td>\n",
       "      <td>1</td>\n",
       "    </tr>\n",
       "  </tbody>\n",
       "</table>\n",
       "</div>"
      ],
      "text/plain": [
       "  Sample             Barcode  Cluster\n",
       "0   M101  AAAGATGCAGCTGTGC-1        1\n",
       "1   M101  AAATGCCGTACTTGAC-1        1\n",
       "2   M101  AAGGCAGCAGCCAATT-1        1\n",
       "3   M101  AAGTCTGTCTAACCGA-1        1\n",
       "4   M101  ACAGCTATCGTAGATC-1        1"
      ]
     },
     "execution_count": 90,
     "metadata": {},
     "output_type": "execute_result"
    }
   ],
   "source": [
    "# clusters_barcodes_mapping_path = r'/storage/md_keren/shitay/outputs/clustering/myeloid/summary/11.8.21/myeloid_kmeans_11.8.21_clusters_mapping.csv'\n",
    "clusters_barcodes_mapping_path = r'/storage/md_keren/shitay/outputs/clustering/CD8/summary/11.8.21/CD8_kmeans_11.8.21_clusters_mapping.csv'\n",
    "cd8_clustering_df = pd.read_csv(clusters_barcodes_mapping_path).drop(columns=['Unnamed: 0', 'index'])\n",
    "cd8_clustering_df.head()"
   ]
  },
  {
   "cell_type": "markdown",
   "metadata": {},
   "source": [
    "##### 2.2. Calculating centroids (AVG) of immune clusters: (if already done you can skip it and load centroids from server)"
   ]
  },
  {
   "cell_type": "code",
   "execution_count": 92,
   "metadata": {},
   "outputs": [
    {
     "name": "stdout",
     "output_type": "stream",
     "text": [
      "cluster 1, num of cells in cluster: 4426 , num of non-empty cells in cluster: 4140\n",
      "\n",
      "cluster 2, num of cells in cluster: 1480 , num of non-empty cells in cluster: 1228\n",
      "\n",
      "cluster 3, num of cells in cluster: 1087 , num of non-empty cells in cluster: 1006\n",
      "\n",
      "cluster 4, num of cells in cluster: 2252 , num of non-empty cells in cluster: 2231\n",
      "\n",
      "cluster 5, num of cells in cluster: 2955 , num of non-empty cells in cluster: 2628\n",
      "\n",
      "cluster 6, num of cells in cluster: 2658 , num of non-empty cells in cluster: 2657\n",
      "\n",
      "cluster 7, num of cells in cluster: 1447 , num of non-empty cells in cluster: 1443\n",
      "\n",
      "cluster 8, num of cells in cluster: 2651 , num of non-empty cells in cluster: 2531\n",
      "\n",
      "cluster 9, num of cells in cluster: 2939 , num of non-empty cells in cluster: 2923\n",
      "\n",
      "cluster 10, num of cells in cluster: 3920 , num of non-empty cells in cluster: 3908\n",
      "\n"
     ]
    }
   ],
   "source": [
    "cohort_ids = list(zip(CD8_existing_cohort.barcodes, CD8_existing_cohort.samples))\n",
    "cd8_centroids = {}\n",
    "\n",
    "clusters = sorted(set(cd8_clustering_df['Cluster']))\n",
    "for cluster_idx in clusters:\n",
    "    cluster_i_df = cd8_clustering_df[cd8_clustering_df['Cluster']==cluster_idx]\n",
    "    print(f'cluster {cluster_idx}, num of cells in cluster: {len(cluster_i_df)}', end=' ')\n",
    "    cluster_ids = list(zip(cluster_i_df['Barcode'].values.tolist(), cluster_i_df['Sample'].values.tolist()))\n",
    "    overlap_ids = intersection_of_lists(cluster_ids, cohort_ids)\n",
    "    print(f', num of non-empty cells in cluster: {len(overlap_ids)}', end='\\n\\n')\n",
    "    cluster_i_cohort = CD8_existing_cohort.get_subset_by_identifiers(np.array(overlap_ids)[:,1], np.array(overlap_ids)[:,0])\n",
    "\n",
    "    # Calculate centroif of cluster\n",
    "    centroid = np.average(cluster_i_cohort.counts, axis=0)\n",
    "    cd8_centroids[cluster_idx] = centroid"
   ]
  },
  {
   "cell_type": "markdown",
   "metadata": {},
   "source": [
    "##### 2.3 ( -> A  |B) save centroids of clusters:"
   ]
  },
  {
   "cell_type": "code",
   "execution_count": 93,
   "metadata": {},
   "outputs": [],
   "source": [
    "pickle.dump(cd8_centroids, open(r'/storage/md_keren/shitay/garbage/cd8_centroids.pkl', 'wb'))"
   ]
  },
  {
   "cell_type": "markdown",
   "metadata": {},
   "source": [
    "##### 2.3 (A| -> B  ) Load centroids:"
   ]
  },
  {
   "cell_type": "code",
   "execution_count": 95,
   "metadata": {},
   "outputs": [],
   "source": [
    "cd8_centroids = pickle.load(open(r'/storage/md_keren/shitay/garbage/cd8_centroids.pkl', 'rb'))"
   ]
  },
  {
   "cell_type": "markdown",
   "metadata": {},
   "source": [
    "##### 2.4. Creating DF of immune clusters for OCT data, the cluster of a cell is the cluster with the closet centroid"
   ]
  },
  {
   "cell_type": "code",
   "execution_count": 97,
   "metadata": {},
   "outputs": [],
   "source": [
    "# correlation distance of immune_oct_cohort from centroids, argmin+1 to keep the idx of the closet cluster:\n",
    "counting_table = CD8_oct_cohort.counts\n",
    "oct_cohort_mapping_clusters = np.argmin(cdist(list(cd8_centroids.values()), counting_table, 'correlation'), axis=0) + 1\n",
    "\n",
    "# Cancel comment if you want to see distribution of number of cells (new data) in each cluster.\n",
    "# Counter(oct_cohort_mapping_clusters)"
   ]
  },
  {
   "cell_type": "code",
   "execution_count": 114,
   "metadata": {},
   "outputs": [
    {
     "data": {
      "text/html": [
       "<div>\n",
       "<style scoped>\n",
       "    .dataframe tbody tr th:only-of-type {\n",
       "        vertical-align: middle;\n",
       "    }\n",
       "\n",
       "    .dataframe tbody tr th {\n",
       "        vertical-align: top;\n",
       "    }\n",
       "\n",
       "    .dataframe thead th {\n",
       "        text-align: right;\n",
       "    }\n",
       "</style>\n",
       "<table border=\"1\" class=\"dataframe\">\n",
       "  <thead>\n",
       "    <tr style=\"text-align: right;\">\n",
       "      <th></th>\n",
       "      <th>Sample</th>\n",
       "      <th>Barcode</th>\n",
       "      <th>Cluster</th>\n",
       "    </tr>\n",
       "  </thead>\n",
       "  <tbody>\n",
       "    <tr>\n",
       "      <th>0</th>\n",
       "      <td>M147</td>\n",
       "      <td>AAACCTGAGGACATTA-1</td>\n",
       "      <td>8</td>\n",
       "    </tr>\n",
       "    <tr>\n",
       "      <th>1</th>\n",
       "      <td>M147</td>\n",
       "      <td>AAACCTGAGGCGATAC-1</td>\n",
       "      <td>2</td>\n",
       "    </tr>\n",
       "    <tr>\n",
       "      <th>2</th>\n",
       "      <td>M147</td>\n",
       "      <td>AAACCTGCAGCTCGAC-1</td>\n",
       "      <td>8</td>\n",
       "    </tr>\n",
       "    <tr>\n",
       "      <th>3</th>\n",
       "      <td>M147</td>\n",
       "      <td>AAACGGGCATTGGCGC-1</td>\n",
       "      <td>8</td>\n",
       "    </tr>\n",
       "    <tr>\n",
       "      <th>4</th>\n",
       "      <td>M147</td>\n",
       "      <td>AAAGCAAGTAAACGCG-1</td>\n",
       "      <td>8</td>\n",
       "    </tr>\n",
       "  </tbody>\n",
       "</table>\n",
       "</div>"
      ],
      "text/plain": [
       "  Sample             Barcode  Cluster\n",
       "0   M147  AAACCTGAGGACATTA-1        8\n",
       "1   M147  AAACCTGAGGCGATAC-1        2\n",
       "2   M147  AAACCTGCAGCTCGAC-1        8\n",
       "3   M147  AAACGGGCATTGGCGC-1        8\n",
       "4   M147  AAAGCAAGTAAACGCG-1        8"
      ]
     },
     "execution_count": 114,
     "metadata": {},
     "output_type": "execute_result"
    }
   ],
   "source": [
    "oct_cohort_cluster_mapping_df = pd.DataFrame(list(zip(CD8_oct_cohort.samples, CD8_oct_cohort.barcodes, oct_cohort_mapping_clusters)), columns=['Sample', 'Barcode', 'Cluster'])\n",
    "oct_cohort_cluster_mapping_df.head(5)"
   ]
  },
  {
   "cell_type": "markdown",
   "metadata": {},
   "source": [
    "##### 2.5. take the mapping of existing_cohort (the new order)\n",
    "\n",
    "immune_clustering_df contains for each immune cell (with identifier sample&barcode) the corresponding immune cluster. but there are some cells that dont appear there (few number that were excluded).\n",
    "\n",
    "we will update a new df (existing_clustering_df) with the mapping information corresponding the existing cohort (M97-M146). it should be \"kind of identical\" to the immune_clustering_df, but the to make sure about the order or/and exclude the non_empty cells from the original DF we use it."
   ]
  },
  {
   "cell_type": "code",
   "execution_count": 101,
   "metadata": {},
   "outputs": [
    {
     "data": {
      "text/html": [
       "<div>\n",
       "<style scoped>\n",
       "    .dataframe tbody tr th:only-of-type {\n",
       "        vertical-align: middle;\n",
       "    }\n",
       "\n",
       "    .dataframe tbody tr th {\n",
       "        vertical-align: top;\n",
       "    }\n",
       "\n",
       "    .dataframe thead th {\n",
       "        text-align: right;\n",
       "    }\n",
       "</style>\n",
       "<table border=\"1\" class=\"dataframe\">\n",
       "  <thead>\n",
       "    <tr style=\"text-align: right;\">\n",
       "      <th></th>\n",
       "      <th>Sample</th>\n",
       "      <th>Barcode</th>\n",
       "      <th>Cluster</th>\n",
       "    </tr>\n",
       "  </thead>\n",
       "  <tbody>\n",
       "    <tr>\n",
       "      <th>0</th>\n",
       "      <td>M100</td>\n",
       "      <td>AACGTTGGTTCGTGAT-1</td>\n",
       "      <td>8</td>\n",
       "    </tr>\n",
       "    <tr>\n",
       "      <th>0</th>\n",
       "      <td>M100</td>\n",
       "      <td>AAGTCTGGTAGTGAAT-1</td>\n",
       "      <td>5</td>\n",
       "    </tr>\n",
       "    <tr>\n",
       "      <th>0</th>\n",
       "      <td>M100</td>\n",
       "      <td>ACATCAGGTGTAAGTA-1</td>\n",
       "      <td>8</td>\n",
       "    </tr>\n",
       "    <tr>\n",
       "      <th>0</th>\n",
       "      <td>M100</td>\n",
       "      <td>ACGAGGACACTTCTGC-1</td>\n",
       "      <td>8</td>\n",
       "    </tr>\n",
       "    <tr>\n",
       "      <th>0</th>\n",
       "      <td>M100</td>\n",
       "      <td>ACGGAGATCCAACCAA-1</td>\n",
       "      <td>9</td>\n",
       "    </tr>\n",
       "  </tbody>\n",
       "</table>\n",
       "</div>"
      ],
      "text/plain": [
       "  Sample             Barcode Cluster\n",
       "0   M100  AACGTTGGTTCGTGAT-1       8\n",
       "0   M100  AAGTCTGGTAGTGAAT-1       5\n",
       "0   M100  ACATCAGGTGTAAGTA-1       8\n",
       "0   M100  ACGAGGACACTTCTGC-1       8\n",
       "0   M100  ACGGAGATCCAACCAA-1       9"
      ]
     },
     "execution_count": 101,
     "metadata": {},
     "output_type": "execute_result"
    }
   ],
   "source": [
    "existing_clustering_df = pd.DataFrame(columns=['Sample', 'Barcode', 'Cluster'])\n",
    "cd8_clustering_df = cd8_clustering_df.set_index(['Sample', 'Barcode'])\n",
    "\n",
    "for i in range(CD8_existing_cohort.number_of_cells):\n",
    "    sample = CD8_existing_cohort.samples[i]\n",
    "    barcode = CD8_existing_cohort.barcodes[i]\n",
    "    \n",
    "    try:\n",
    "        cluster = cd8_clustering_df.loc[(sample, barcode)]['Cluster']\n",
    "        existing_clustering_df = existing_clustering_df.append(pd.DataFrame([[sample, barcode, cluster]], columns=existing_clustering_df.columns))\n",
    "    except KeyError:\n",
    "        print(f\"{(sample, barcode)} has no cluster.\")\n",
    "    \n",
    "    \n",
    "existing_clustering_df.head(5)"
   ]
  },
  {
   "cell_type": "markdown",
   "metadata": {},
   "source": [
    "##### 2.6 Combine cluster mappinbg of existing cohort with oct cohort:"
   ]
  },
  {
   "cell_type": "code",
   "execution_count": 118,
   "metadata": {},
   "outputs": [
    {
     "name": "stdout",
     "output_type": "stream",
     "text": [
      "<class 'pandas.core.frame.DataFrame'>\n",
      "Int64Index: 42211 entries, 0 to 17515\n",
      "Data columns (total 3 columns):\n",
      " #   Column   Non-Null Count  Dtype \n",
      "---  ------   --------------  ----- \n",
      " 0   Sample   42211 non-null  object\n",
      " 1   Barcode  42211 non-null  object\n",
      " 2   Cluster  42211 non-null  object\n",
      "dtypes: object(3)\n",
      "memory usage: 1.3+ MB\n"
     ]
    }
   ],
   "source": [
    "integrated_cohort_clustering_df = existing_clustering_df.append(oct_cohort_cluster_mapping_df)\n",
    "integrated_cohort_clustering_df.info()\n",
    "# integrated_cohort_clustering_df"
   ]
  },
  {
   "cell_type": "markdown",
   "metadata": {},
   "source": [
    "##### 2.7 Save mapping_df of integrated cohort:"
   ]
  },
  {
   "cell_type": "code",
   "execution_count": 122,
   "metadata": {},
   "outputs": [],
   "source": [
    "INTEGRATED_CLUSTERING_MAPPING_PATH = r'/storage/md_keren/shitay/outputs/clustering/CD8/summary/4.11.21/cd8_kmeans_integrated_4.11.21_clusters_mapping.csv'\n",
    "integrated_cohort_clustering_df.to_csv(INTEGRATED_CLUSTERING_MAPPING_PATH)"
   ]
  },
  {
   "cell_type": "markdown",
   "metadata": {},
   "source": [
    "## 3. Myeloid clustering\n",
    "\n",
    " - 3.1 (A) take only Myeloid cells from cohorts.\n",
    " - 3.1 (B) Loads Myeloid clustering mapping df.\n",
    "\n",
    "##### Get cluster centroids (A: Calculate / B: Load):\n",
    " - 3.2. Calculating centroids (AVG) of immune clusters: (if already done you can skip it and load centroids from server)\n",
    " - 3.3 ( -> A  |B) save centroids of clusters.\n",
    " - 3.3 (A| -> B  ) Load centroids.\n",
    "\n",
    "\n",
    "##### calculating distance from centroids and creating mapping df for integrated data:\n",
    " - 3.4. Creating DF of immune clusters for OCT data, the cluster of a cell is the cluster with the closet centroid\n",
    " - 3.5. take the mapping of existing_cohort (the new order)\n",
    " - 3.6 Combine cluster mappinbg of existing cohort with oct cohort:\n",
    " - 3.7 Save mapping_df of integrated cohort:"
   ]
  },
  {
   "cell_type": "markdown",
   "metadata": {},
   "source": [
    "##### 3.1 (A) take only Myeloid cells from cohort:"
   ]
  },
  {
   "cell_type": "code",
   "execution_count": 27,
   "metadata": {},
   "outputs": [],
   "source": [
    "def get_myloids(cohort):\n",
    "    IMMUNE_CLUSTERING_PATH = r'/storage/md_keren/shitay/outputs/clustering/immune/summaries/4.11.21/immune_kmeans_integrated_4.11.21_clusters_mapping.csv'\n",
    "    MYELOID_CLUSTER_IDX = 5     # myeloid cluster\n",
    "    \n",
    "    # all myeloid ids (from df not allways exist in cohort)\n",
    "    immune_mapping = pd.read_csv(IMMUNE_CLUSTERING_PATH)[['Sample', 'Barcode', 'Cluster']]\n",
    "    myeloid_indices = immune_mapping[immune_mapping['Cluster'] == MYELOID_CLUSTER_IDX][['Sample', 'Barcode']].values\n",
    "    myeloid_ids = list(zip(*myeloid_indices.T.tolist()))\n",
    "    \n",
    "    # all cell-ids in cohort\n",
    "    cells_ids = list(zip(cohort.samples, cohort.barcodes))\n",
    "    \n",
    "    # all myeloid cell ids in cohort\n",
    "    myeloids_in_cohort_ids = [mye_id for mye_id in myeloid_ids if mye_id in cells_ids]\n",
    "    \n",
    "    return cohort.get_subset_by_identifiers([id[0] for id in myeloids_in_cohort_ids], [id[1] for id in myeloids_in_cohort_ids])\n",
    "\n",
    "myeloid_existing_cohort = get_myloids(immune_existing_cohort)\n",
    "myeloid_oct_cohort = get_myloids(immune_oct_cohort)"
   ]
  },
  {
   "cell_type": "markdown",
   "metadata": {},
   "source": [
    "##### 3.1 (B) Loads Myeloid clustering mapping df:"
   ]
  },
  {
   "cell_type": "code",
   "execution_count": 28,
   "metadata": {},
   "outputs": [
    {
     "data": {
      "text/html": [
       "<div>\n",
       "<style scoped>\n",
       "    .dataframe tbody tr th:only-of-type {\n",
       "        vertical-align: middle;\n",
       "    }\n",
       "\n",
       "    .dataframe tbody tr th {\n",
       "        vertical-align: top;\n",
       "    }\n",
       "\n",
       "    .dataframe thead th {\n",
       "        text-align: right;\n",
       "    }\n",
       "</style>\n",
       "<table border=\"1\" class=\"dataframe\">\n",
       "  <thead>\n",
       "    <tr style=\"text-align: right;\">\n",
       "      <th></th>\n",
       "      <th>Sample</th>\n",
       "      <th>Barcode</th>\n",
       "      <th>Cluster</th>\n",
       "    </tr>\n",
       "  </thead>\n",
       "  <tbody>\n",
       "    <tr>\n",
       "      <th>0</th>\n",
       "      <td>M101</td>\n",
       "      <td>AAGACCTAGATCGATA-1</td>\n",
       "      <td>1</td>\n",
       "    </tr>\n",
       "    <tr>\n",
       "      <th>1</th>\n",
       "      <td>M101</td>\n",
       "      <td>ACAGCCGAGTACGTAA-1</td>\n",
       "      <td>1</td>\n",
       "    </tr>\n",
       "    <tr>\n",
       "      <th>2</th>\n",
       "      <td>M101</td>\n",
       "      <td>ACGGAGACATGAACCT-1</td>\n",
       "      <td>1</td>\n",
       "    </tr>\n",
       "    <tr>\n",
       "      <th>3</th>\n",
       "      <td>M101</td>\n",
       "      <td>ATCGAGTGTAGCCTCG-1</td>\n",
       "      <td>1</td>\n",
       "    </tr>\n",
       "    <tr>\n",
       "      <th>4</th>\n",
       "      <td>M101</td>\n",
       "      <td>CATCCACCACGGTAAG-1</td>\n",
       "      <td>1</td>\n",
       "    </tr>\n",
       "  </tbody>\n",
       "</table>\n",
       "</div>"
      ],
      "text/plain": [
       "  Sample             Barcode  Cluster\n",
       "0   M101  AAGACCTAGATCGATA-1        1\n",
       "1   M101  ACAGCCGAGTACGTAA-1        1\n",
       "2   M101  ACGGAGACATGAACCT-1        1\n",
       "3   M101  ATCGAGTGTAGCCTCG-1        1\n",
       "4   M101  CATCCACCACGGTAAG-1        1"
      ]
     },
     "execution_count": 28,
     "metadata": {},
     "output_type": "execute_result"
    }
   ],
   "source": [
    "# clusters_barcodes_mapping_path = r'/storage/md_keren/shitay/outputs/clustering/myeloid/summary/11.8.21/myeloid_kmeans_11.8.21_clusters_mapping.csv'\n",
    "clusters_barcodes_mapping_path = r'/storage/md_keren/shitay/outputs/clustering/myeloid/summary/11.8.21/myeloid_kmeans_11.8.21_clusters_mapping.csv'\n",
    "myeloid_clustering_df = pd.read_csv(clusters_barcodes_mapping_path).drop(columns=['Unnamed: 0', 'index'])\n",
    "myeloid_clustering_df.head()"
   ]
  },
  {
   "cell_type": "markdown",
   "metadata": {},
   "source": [
    "##### 3.2. Calculating centroids (AVG) of immune clusters: (if already done you can skip it and load centroids from server)"
   ]
  },
  {
   "cell_type": "code",
   "execution_count": 30,
   "metadata": {},
   "outputs": [
    {
     "name": "stdout",
     "output_type": "stream",
     "text": [
      "cluster 1, num of cells in cluster: 1660 , num of non-empty cells in cluster: 1467\n",
      "\n",
      "cluster 2, num of cells in cluster: 866 , num of non-empty cells in cluster: 831\n",
      "\n",
      "cluster 3, num of cells in cluster: 503 , num of non-empty cells in cluster: 418\n",
      "\n",
      "cluster 4, num of cells in cluster: 1553 , num of non-empty cells in cluster: 1540\n",
      "\n",
      "cluster 5, num of cells in cluster: 1601 , num of non-empty cells in cluster: 1545\n",
      "\n",
      "cluster 6, num of cells in cluster: 1341 , num of non-empty cells in cluster: 1336\n",
      "\n",
      "cluster 7, num of cells in cluster: 79 , num of non-empty cells in cluster: 79\n",
      "\n",
      "cluster 8, num of cells in cluster: 1432 , num of non-empty cells in cluster: 1411\n",
      "\n",
      "cluster 9, num of cells in cluster: 1420 , num of non-empty cells in cluster: 1393\n",
      "\n",
      "cluster 10, num of cells in cluster: 1409 , num of non-empty cells in cluster: 1399\n",
      "\n",
      "cluster 11, num of cells in cluster: 1060 , num of non-empty cells in cluster: 960\n",
      "\n"
     ]
    }
   ],
   "source": [
    "cohort_ids = list(zip(myeloid_existing_cohort.barcodes, myeloid_existing_cohort.samples))\n",
    "myeloid_centroids = {}\n",
    "\n",
    "clusters = sorted(set(myeloid_clustering_df['Cluster']))\n",
    "for cluster_idx in clusters:\n",
    "    cluster_i_df = myeloid_clustering_df[myeloid_clustering_df['Cluster']==cluster_idx]\n",
    "    print(f'cluster {cluster_idx}, num of cells in cluster: {len(cluster_i_df)}', end=' ')\n",
    "    cluster_ids = list(zip(cluster_i_df['Barcode'].values.tolist(), cluster_i_df['Sample'].values.tolist()))\n",
    "    overlap_ids = intersection_of_lists(cluster_ids, cohort_ids)\n",
    "    print(f', num of non-empty cells in cluster: {len(overlap_ids)}', end='\\n\\n')\n",
    "    cluster_i_cohort = myeloid_existing_cohort.get_subset_by_identifiers(np.array(overlap_ids)[:,1], np.array(overlap_ids)[:,0])\n",
    "\n",
    "    # Calculate centroif of cluster\n",
    "    centroid = np.average(cluster_i_cohort.counts, axis=0)\n",
    "    myeloid_centroids[cluster_idx] = centroid"
   ]
  },
  {
   "cell_type": "markdown",
   "metadata": {},
   "source": [
    "##### 3.3 ( -> A  |B) save centroids of clusters:"
   ]
  },
  {
   "cell_type": "code",
   "execution_count": 31,
   "metadata": {},
   "outputs": [],
   "source": [
    "pickle.dump(myeloid_centroids, open(r'/storage/md_keren/shitay/garbage/myeloid_centroids.pkl', 'wb'))"
   ]
  },
  {
   "cell_type": "markdown",
   "metadata": {},
   "source": [
    "##### 1.3 (A| -> B  ) Load centroids:"
   ]
  },
  {
   "cell_type": "code",
   "execution_count": 32,
   "metadata": {},
   "outputs": [],
   "source": [
    "myeloid_centroids = pickle.load(open(r'/storage/md_keren/shitay/garbage/myeloid_centroids.pkl', 'rb'))"
   ]
  },
  {
   "cell_type": "markdown",
   "metadata": {},
   "source": [
    "##### 1.4. Creating DF of myeloid clusters for OCT data, the cluster of a cell is the cluster with the closet centroid"
   ]
  },
  {
   "cell_type": "code",
   "execution_count": 33,
   "metadata": {},
   "outputs": [],
   "source": [
    "# correlation distance of immune_oct_cohort from centroids, argmin+1 to keep the idx of the closet cluster:\n",
    "counting_table = myeloid_oct_cohort.counts\n",
    "oct_cohort_mapping_clusters = np.argmin(cdist(list(myeloid_centroids.values()), counting_table, 'correlation'), axis=0) + 1\n",
    "\n",
    "# Cancel comment if you want to see distribution of number of cells (new data) in each cluster.\n",
    "# Counter(oct_cohort_mapping_clusters)"
   ]
  },
  {
   "cell_type": "code",
   "execution_count": 36,
   "metadata": {},
   "outputs": [
    {
     "data": {
      "text/html": [
       "<div>\n",
       "<style scoped>\n",
       "    .dataframe tbody tr th:only-of-type {\n",
       "        vertical-align: middle;\n",
       "    }\n",
       "\n",
       "    .dataframe tbody tr th {\n",
       "        vertical-align: top;\n",
       "    }\n",
       "\n",
       "    .dataframe thead th {\n",
       "        text-align: right;\n",
       "    }\n",
       "</style>\n",
       "<table border=\"1\" class=\"dataframe\">\n",
       "  <thead>\n",
       "    <tr style=\"text-align: right;\">\n",
       "      <th></th>\n",
       "      <th>Sample</th>\n",
       "      <th>Barcode</th>\n",
       "      <th>Cluster</th>\n",
       "    </tr>\n",
       "  </thead>\n",
       "  <tbody>\n",
       "    <tr>\n",
       "      <th>0</th>\n",
       "      <td>M147</td>\n",
       "      <td>AAACGGGGTTAAGATG-1</td>\n",
       "      <td>11</td>\n",
       "    </tr>\n",
       "    <tr>\n",
       "      <th>1</th>\n",
       "      <td>M147</td>\n",
       "      <td>AAAGCAAAGCCGTCGT-1</td>\n",
       "      <td>11</td>\n",
       "    </tr>\n",
       "    <tr>\n",
       "      <th>2</th>\n",
       "      <td>M147</td>\n",
       "      <td>AAAGTAGGTATCACCA-1</td>\n",
       "      <td>11</td>\n",
       "    </tr>\n",
       "    <tr>\n",
       "      <th>3</th>\n",
       "      <td>M147</td>\n",
       "      <td>AAAGTAGTCACCTTAT-1</td>\n",
       "      <td>11</td>\n",
       "    </tr>\n",
       "    <tr>\n",
       "      <th>4</th>\n",
       "      <td>M147</td>\n",
       "      <td>AACCATGTCGGAATCT-1</td>\n",
       "      <td>3</td>\n",
       "    </tr>\n",
       "  </tbody>\n",
       "</table>\n",
       "</div>"
      ],
      "text/plain": [
       "  Sample             Barcode  Cluster\n",
       "0   M147  AAACGGGGTTAAGATG-1       11\n",
       "1   M147  AAAGCAAAGCCGTCGT-1       11\n",
       "2   M147  AAAGTAGGTATCACCA-1       11\n",
       "3   M147  AAAGTAGTCACCTTAT-1       11\n",
       "4   M147  AACCATGTCGGAATCT-1        3"
      ]
     },
     "execution_count": 36,
     "metadata": {},
     "output_type": "execute_result"
    }
   ],
   "source": [
    "oct_cohort_cluster_mapping_df = pd.DataFrame(list(zip(myeloid_oct_cohort.samples, myeloid_oct_cohort.barcodes, oct_cohort_mapping_clusters)), columns=['Sample', 'Barcode', 'Cluster'])\n",
    "oct_cohort_cluster_mapping_df.head(5)"
   ]
  },
  {
   "cell_type": "markdown",
   "metadata": {},
   "source": [
    "##### 1.5. take the mapping of existing_cohort (the new order)\n",
    "\n",
    "myeloid_clustering_df contains for each Myeloid cell (with identifier sample&barcode) the corresponding Myeloid cluster. but there are some cells that dont appear there (few number that were excluded).\n",
    "\n",
    "we will update a new df (existing_clustering_df) with the mapping information corresponding the existing cohort (M97-M146). it should be \"kind of identical\" to the myeloid_clustering_df, but the to make sure about the order or/and exclude the non_empty cells from the original DF we use it."
   ]
  },
  {
   "cell_type": "code",
   "execution_count": 37,
   "metadata": {},
   "outputs": [
    {
     "data": {
      "text/html": [
       "<div>\n",
       "<style scoped>\n",
       "    .dataframe tbody tr th:only-of-type {\n",
       "        vertical-align: middle;\n",
       "    }\n",
       "\n",
       "    .dataframe tbody tr th {\n",
       "        vertical-align: top;\n",
       "    }\n",
       "\n",
       "    .dataframe thead th {\n",
       "        text-align: right;\n",
       "    }\n",
       "</style>\n",
       "<table border=\"1\" class=\"dataframe\">\n",
       "  <thead>\n",
       "    <tr style=\"text-align: right;\">\n",
       "      <th></th>\n",
       "      <th>Sample</th>\n",
       "      <th>Barcode</th>\n",
       "      <th>Cluster</th>\n",
       "    </tr>\n",
       "  </thead>\n",
       "  <tbody>\n",
       "    <tr>\n",
       "      <th>0</th>\n",
       "      <td>M100</td>\n",
       "      <td>AACCGCGAGCGATCCC-1</td>\n",
       "      <td>5</td>\n",
       "    </tr>\n",
       "    <tr>\n",
       "      <th>0</th>\n",
       "      <td>M100</td>\n",
       "      <td>AAGCCGCTCAACGGGA-1</td>\n",
       "      <td>5</td>\n",
       "    </tr>\n",
       "    <tr>\n",
       "      <th>0</th>\n",
       "      <td>M100</td>\n",
       "      <td>ACACTGACATTGGCGC-1</td>\n",
       "      <td>11</td>\n",
       "    </tr>\n",
       "    <tr>\n",
       "      <th>0</th>\n",
       "      <td>M100</td>\n",
       "      <td>ACAGCCGGTTGGAGGT-1</td>\n",
       "      <td>5</td>\n",
       "    </tr>\n",
       "    <tr>\n",
       "      <th>0</th>\n",
       "      <td>M100</td>\n",
       "      <td>ACAGCTACACGGACAA-1</td>\n",
       "      <td>5</td>\n",
       "    </tr>\n",
       "  </tbody>\n",
       "</table>\n",
       "</div>"
      ],
      "text/plain": [
       "  Sample             Barcode Cluster\n",
       "0   M100  AACCGCGAGCGATCCC-1       5\n",
       "0   M100  AAGCCGCTCAACGGGA-1       5\n",
       "0   M100  ACACTGACATTGGCGC-1      11\n",
       "0   M100  ACAGCCGGTTGGAGGT-1       5\n",
       "0   M100  ACAGCTACACGGACAA-1       5"
      ]
     },
     "execution_count": 37,
     "metadata": {},
     "output_type": "execute_result"
    }
   ],
   "source": [
    "existing_clustering_df = pd.DataFrame(columns=['Sample', 'Barcode', 'Cluster'])\n",
    "myeloid_clustering_df = myeloid_clustering_df.set_index(['Sample', 'Barcode'])\n",
    "\n",
    "for i in range(myeloid_existing_cohort.number_of_cells):\n",
    "    sample = myeloid_existing_cohort.samples[i]\n",
    "    barcode = myeloid_existing_cohort.barcodes[i]\n",
    "    \n",
    "    try:\n",
    "        cluster = myeloid_clustering_df.loc[(sample, barcode)]['Cluster']\n",
    "        existing_clustering_df = existing_clustering_df.append(pd.DataFrame([[sample, barcode, cluster]], columns=existing_clustering_df.columns))\n",
    "    except KeyError:\n",
    "        print(f\"{(sample, barcode)} has no cluster.\")\n",
    "    \n",
    "    \n",
    "existing_clustering_df.head(5)"
   ]
  },
  {
   "cell_type": "markdown",
   "metadata": {},
   "source": [
    "##### 1.6 Combine cluster mappinbg of existing cohort with oct cohort:"
   ]
  },
  {
   "cell_type": "code",
   "execution_count": 40,
   "metadata": {},
   "outputs": [
    {
     "name": "stdout",
     "output_type": "stream",
     "text": [
      "<class 'pandas.core.frame.DataFrame'>\n",
      "Int64Index: 26991 entries, 0 to 14611\n",
      "Data columns (total 3 columns):\n",
      " #   Column   Non-Null Count  Dtype \n",
      "---  ------   --------------  ----- \n",
      " 0   Sample   26991 non-null  object\n",
      " 1   Barcode  26991 non-null  object\n",
      " 2   Cluster  26991 non-null  object\n",
      "dtypes: object(3)\n",
      "memory usage: 843.5+ KB\n"
     ]
    }
   ],
   "source": [
    "integrated_cohort_clustering_df = existing_clustering_df.append(oct_cohort_cluster_mapping_df)\n",
    "integrated_cohort_clustering_df.info()\n",
    "# integrated_cohort_clustering_df"
   ]
  },
  {
   "cell_type": "markdown",
   "metadata": {},
   "source": [
    "##### 1.7 Save mapping_df of integrated cohort:"
   ]
  },
  {
   "cell_type": "code",
   "execution_count": 42,
   "metadata": {},
   "outputs": [],
   "source": [
    "INTEGRATED_CLUSTERING_MAPPING_PATH = r'/storage/md_keren/shitay/outputs/clustering/myeloid/summary/4.11.21/myeloid_kmeans_integrated_4.11.21_clusters_mapping.csv'\n",
    "integrated_cohort_clustering_df.to_csv(INTEGRATED_CLUSTERING_MAPPING_PATH)"
   ]
  },
  {
   "cell_type": "markdown",
   "metadata": {},
   "source": [
    "# Debug"
   ]
  },
  {
   "cell_type": "code",
   "execution_count": 14,
   "metadata": {},
   "outputs": [
    {
     "name": "stderr",
     "output_type": "stream",
     "text": [
      "/Local/md_keren/anaconda3/lib/python3.8/site-packages/seaborn/_decorators.py:36: FutureWarning: Pass the following variable as a keyword arg: x. From version 0.12, the only valid positional argument will be `data`, and passing other arguments without an explicit keyword will result in an error or misinterpretation.\n",
      "  warnings.warn(\n"
     ]
    },
    {
     "data": {
      "text/plain": [
       "<AxesSubplot:>"
      ]
     },
     "execution_count": 14,
     "metadata": {},
     "output_type": "execute_result"
    },
    {
     "data": {
      "image/png": "[encoded data removed]",
      "text/plain": [
       "<Figure size 432x288 with 1 Axes>"
      ]
     },
     "metadata": {
      "needs_background": "light"
     },
     "output_type": "display_data"
    }
   ],
   "source": [
    "sns.reset_orig() # reset size of figure\n",
    "\n",
    "x = oct_cohort.counts[:3]\n",
    "x = x[np.nonzero(x)]\n",
    "# watch cell value distribution\n",
    "sns.boxplot(x)\n",
    "# oct_cohor"
   ]
  },
  {
   "cell_type": "code",
   "execution_count": null,
   "metadata": {},
   "outputs": [],
   "source": []
  },
  {
   "cell_type": "code",
   "execution_count": null,
   "metadata": {},
   "outputs": [],
   "source": [
    "sub_1 = existing_cohort[[1]]\n",
    "sub_2 = oct_cohort[np.arange(3)]\n",
    "a_sub_1 = sub_1.convert_to_AnnDataCohort()\n",
    "a_sub_2 = sub_2.convert_to_AnnDataCohort()\n",
    "display(a_sub_1.cohort.obs)\n",
    "display(a_sub_2.cohort.obs)\n",
    "sub_3 = sub_1 + sub_2\n",
    "a_sub_3 = sub_3.convert_to_AnnDataCohort()\n",
    "display(a_sub_3.cohort.obs)"
   ]
  },
  {
   "cell_type": "code",
   "execution_count": null,
   "metadata": {},
   "outputs": [],
   "source": [
    "sns.distplot(sub_1)"
   ]
  },
  {
   "cell_type": "code",
   "execution_count": null,
   "metadata": {},
   "outputs": [],
   "source": [
    "sns.distplot(sub_2)"
   ]
  },
  {
   "cell_type": "code",
   "execution_count": null,
   "metadata": {},
   "outputs": [],
   "source": []
  },
  {
   "cell_type": "code",
   "execution_count": 6,
   "metadata": {},
   "outputs": [
    {
     "name": "stdout",
     "output_type": "stream",
     "text": [
      "143429\n"
     ]
    },
    {
     "data": {
      "text/plain": [
       "Counter({'is_cancer': 66446, 'is_immune': 71149, 'is_stroma': 5834})"
      ]
     },
     "execution_count": 6,
     "metadata": {},
     "output_type": "execute_result"
    }
   ],
   "source": [
    "print(oct_cohort.number_of_cells)\n",
    "a, b = oct_cohort.get_cancer_immune_stroma_map()\n",
    "Counter(b)"
   ]
  },
  {
   "cell_type": "code",
   "execution_count": 7,
   "metadata": {},
   "outputs": [
    {
     "data": {
      "text/plain": [
       "143429"
      ]
     },
     "execution_count": 7,
     "metadata": {},
     "output_type": "execute_result"
    }
   ],
   "source": [
    "sum(list(dict(Counter(b)).values()))"
   ]
  },
  {
   "cell_type": "code",
   "execution_count": 9,
   "metadata": {},
   "outputs": [],
   "source": [
    "annCohort = oct_cohort.convert_to_AnnDataCohort()"
   ]
  },
  {
   "cell_type": "code",
   "execution_count": 16,
   "metadata": {},
   "outputs": [
    {
     "data": {
      "text/html": [
       "<div>\n",
       "<style scoped>\n",
       "    .dataframe tbody tr th:only-of-type {\n",
       "        vertical-align: middle;\n",
       "    }\n",
       "\n",
       "    .dataframe tbody tr th {\n",
       "        vertical-align: top;\n",
       "    }\n",
       "\n",
       "    .dataframe thead th {\n",
       "        text-align: right;\n",
       "    }\n",
       "</style>\n",
       "<table border=\"1\" class=\"dataframe\">\n",
       "  <thead>\n",
       "    <tr style=\"text-align: right;\">\n",
       "      <th></th>\n",
       "      <th>sample</th>\n",
       "      <th>barcode</th>\n",
       "      <th>cell_type_list</th>\n",
       "      <th>conflict_related_cell_types</th>\n",
       "      <th>is_apoptosis</th>\n",
       "      <th>is_immune</th>\n",
       "      <th>is_cancer</th>\n",
       "      <th>cancer_immune_conflict</th>\n",
       "      <th>is_doublet</th>\n",
       "      <th>is_lymphoid</th>\n",
       "      <th>is_myeloid</th>\n",
       "      <th>is_CelBender_empty</th>\n",
       "      <th>is_stromal</th>\n",
       "      <th>is_epithelial</th>\n",
       "      <th>should_be_removed</th>\n",
       "      <th>comment</th>\n",
       "      <th>is_responder</th>\n",
       "    </tr>\n",
       "  </thead>\n",
       "  <tbody>\n",
       "    <tr>\n",
       "      <th>0</th>\n",
       "      <td>M147</td>\n",
       "      <td>AAACCTGAGGAATCGC-1</td>\n",
       "      <td>[]</td>\n",
       "      <td>[]</td>\n",
       "      <td>False</td>\n",
       "      <td>False</td>\n",
       "      <td>True</td>\n",
       "      <td>False</td>\n",
       "      <td>False</td>\n",
       "      <td>False</td>\n",
       "      <td>False</td>\n",
       "      <td>False</td>\n",
       "      <td>False</td>\n",
       "      <td>False</td>\n",
       "      <td>False</td>\n",
       "      <td>None</td>\n",
       "      <td>False</td>\n",
       "    </tr>\n",
       "    <tr>\n",
       "      <th>1</th>\n",
       "      <td>M147</td>\n",
       "      <td>AAACCTGAGGACATTA-1</td>\n",
       "      <td>[T cells, CD8 Cytotoxic T cells, Immune_general]</td>\n",
       "      <td>[]</td>\n",
       "      <td>False</td>\n",
       "      <td>True</td>\n",
       "      <td>False</td>\n",
       "      <td>False</td>\n",
       "      <td>False</td>\n",
       "      <td>True</td>\n",
       "      <td>False</td>\n",
       "      <td>False</td>\n",
       "      <td>False</td>\n",
       "      <td>False</td>\n",
       "      <td>False</td>\n",
       "      <td>None</td>\n",
       "      <td>False</td>\n",
       "    </tr>\n",
       "    <tr>\n",
       "      <th>2</th>\n",
       "      <td>M147</td>\n",
       "      <td>AAACCTGAGGCGATAC-1</td>\n",
       "      <td>[T cells, Exhausted T cells, CD8 Cytotoxic T c...</td>\n",
       "      <td>[]</td>\n",
       "      <td>False</td>\n",
       "      <td>True</td>\n",
       "      <td>False</td>\n",
       "      <td>False</td>\n",
       "      <td>False</td>\n",
       "      <td>True</td>\n",
       "      <td>False</td>\n",
       "      <td>False</td>\n",
       "      <td>False</td>\n",
       "      <td>False</td>\n",
       "      <td>False</td>\n",
       "      <td>None</td>\n",
       "      <td>False</td>\n",
       "    </tr>\n",
       "    <tr>\n",
       "      <th>3</th>\n",
       "      <td>M147</td>\n",
       "      <td>AAACCTGAGGCTACGA-1</td>\n",
       "      <td>[]</td>\n",
       "      <td>[]</td>\n",
       "      <td>False</td>\n",
       "      <td>False</td>\n",
       "      <td>True</td>\n",
       "      <td>False</td>\n",
       "      <td>False</td>\n",
       "      <td>False</td>\n",
       "      <td>False</td>\n",
       "      <td>False</td>\n",
       "      <td>False</td>\n",
       "      <td>False</td>\n",
       "      <td>False</td>\n",
       "      <td>None</td>\n",
       "      <td>False</td>\n",
       "    </tr>\n",
       "    <tr>\n",
       "      <th>4</th>\n",
       "      <td>M147</td>\n",
       "      <td>AAACCTGCAGCTCGAC-1</td>\n",
       "      <td>[T cells, Exhausted T cells, CD8 Cytotoxic T c...</td>\n",
       "      <td>[]</td>\n",
       "      <td>False</td>\n",
       "      <td>True</td>\n",
       "      <td>False</td>\n",
       "      <td>False</td>\n",
       "      <td>False</td>\n",
       "      <td>True</td>\n",
       "      <td>False</td>\n",
       "      <td>False</td>\n",
       "      <td>False</td>\n",
       "      <td>False</td>\n",
       "      <td>False</td>\n",
       "      <td>None</td>\n",
       "      <td>False</td>\n",
       "    </tr>\n",
       "    <tr>\n",
       "      <th>...</th>\n",
       "      <td>...</td>\n",
       "      <td>...</td>\n",
       "      <td>...</td>\n",
       "      <td>...</td>\n",
       "      <td>...</td>\n",
       "      <td>...</td>\n",
       "      <td>...</td>\n",
       "      <td>...</td>\n",
       "      <td>...</td>\n",
       "      <td>...</td>\n",
       "      <td>...</td>\n",
       "      <td>...</td>\n",
       "      <td>...</td>\n",
       "      <td>...</td>\n",
       "      <td>...</td>\n",
       "      <td>...</td>\n",
       "      <td>...</td>\n",
       "    </tr>\n",
       "    <tr>\n",
       "      <th>143424</th>\n",
       "      <td>M173</td>\n",
       "      <td>TTTGTCACAAACTGTC-1</td>\n",
       "      <td>[]</td>\n",
       "      <td>[]</td>\n",
       "      <td>False</td>\n",
       "      <td>False</td>\n",
       "      <td>True</td>\n",
       "      <td>False</td>\n",
       "      <td>False</td>\n",
       "      <td>False</td>\n",
       "      <td>False</td>\n",
       "      <td>False</td>\n",
       "      <td>False</td>\n",
       "      <td>False</td>\n",
       "      <td>False</td>\n",
       "      <td>None</td>\n",
       "      <td>False</td>\n",
       "    </tr>\n",
       "    <tr>\n",
       "      <th>143425</th>\n",
       "      <td>M173</td>\n",
       "      <td>TTTGTCACAACGATGG-1</td>\n",
       "      <td>[Immune_general, Activated T cells, T cells, E...</td>\n",
       "      <td>[]</td>\n",
       "      <td>False</td>\n",
       "      <td>True</td>\n",
       "      <td>False</td>\n",
       "      <td>False</td>\n",
       "      <td>False</td>\n",
       "      <td>True</td>\n",
       "      <td>False</td>\n",
       "      <td>False</td>\n",
       "      <td>False</td>\n",
       "      <td>False</td>\n",
       "      <td>False</td>\n",
       "      <td>None</td>\n",
       "      <td>False</td>\n",
       "    </tr>\n",
       "    <tr>\n",
       "      <th>143426</th>\n",
       "      <td>M173</td>\n",
       "      <td>TTTGTCAGTCAAACTC-1</td>\n",
       "      <td>[T cells, CD8 Cytotoxic T cells, Immune_general]</td>\n",
       "      <td>[]</td>\n",
       "      <td>False</td>\n",
       "      <td>True</td>\n",
       "      <td>False</td>\n",
       "      <td>False</td>\n",
       "      <td>False</td>\n",
       "      <td>True</td>\n",
       "      <td>False</td>\n",
       "      <td>False</td>\n",
       "      <td>False</td>\n",
       "      <td>False</td>\n",
       "      <td>False</td>\n",
       "      <td>None</td>\n",
       "      <td>False</td>\n",
       "    </tr>\n",
       "    <tr>\n",
       "      <th>143427</th>\n",
       "      <td>M173</td>\n",
       "      <td>TTTGTCAGTGCCTGCA-1</td>\n",
       "      <td>[T cells, Exhausted T cells, CD8 Cytotoxic T c...</td>\n",
       "      <td>[]</td>\n",
       "      <td>False</td>\n",
       "      <td>True</td>\n",
       "      <td>False</td>\n",
       "      <td>False</td>\n",
       "      <td>False</td>\n",
       "      <td>True</td>\n",
       "      <td>False</td>\n",
       "      <td>False</td>\n",
       "      <td>False</td>\n",
       "      <td>False</td>\n",
       "      <td>False</td>\n",
       "      <td>None</td>\n",
       "      <td>False</td>\n",
       "    </tr>\n",
       "    <tr>\n",
       "      <th>143428</th>\n",
       "      <td>M173</td>\n",
       "      <td>TTTGTCATCGCGTTTC-1</td>\n",
       "      <td>[T cells, Exhausted T cells, CD8 Cytotoxic T c...</td>\n",
       "      <td>[]</td>\n",
       "      <td>False</td>\n",
       "      <td>True</td>\n",
       "      <td>False</td>\n",
       "      <td>False</td>\n",
       "      <td>False</td>\n",
       "      <td>True</td>\n",
       "      <td>False</td>\n",
       "      <td>False</td>\n",
       "      <td>False</td>\n",
       "      <td>False</td>\n",
       "      <td>False</td>\n",
       "      <td>None</td>\n",
       "      <td>False</td>\n",
       "    </tr>\n",
       "  </tbody>\n",
       "</table>\n",
       "<p>143429 rows × 17 columns</p>\n",
       "</div>"
      ],
      "text/plain": [
       "       sample             barcode  \\\n",
       "0        M147  AAACCTGAGGAATCGC-1   \n",
       "1        M147  AAACCTGAGGACATTA-1   \n",
       "2        M147  AAACCTGAGGCGATAC-1   \n",
       "3        M147  AAACCTGAGGCTACGA-1   \n",
       "4        M147  AAACCTGCAGCTCGAC-1   \n",
       "...       ...                 ...   \n",
       "143424   M173  TTTGTCACAAACTGTC-1   \n",
       "143425   M173  TTTGTCACAACGATGG-1   \n",
       "143426   M173  TTTGTCAGTCAAACTC-1   \n",
       "143427   M173  TTTGTCAGTGCCTGCA-1   \n",
       "143428   M173  TTTGTCATCGCGTTTC-1   \n",
       "\n",
       "                                           cell_type_list  \\\n",
       "0                                                      []   \n",
       "1        [T cells, CD8 Cytotoxic T cells, Immune_general]   \n",
       "2       [T cells, Exhausted T cells, CD8 Cytotoxic T c...   \n",
       "3                                                      []   \n",
       "4       [T cells, Exhausted T cells, CD8 Cytotoxic T c...   \n",
       "...                                                   ...   \n",
       "143424                                                 []   \n",
       "143425  [Immune_general, Activated T cells, T cells, E...   \n",
       "143426   [T cells, CD8 Cytotoxic T cells, Immune_general]   \n",
       "143427  [T cells, Exhausted T cells, CD8 Cytotoxic T c...   \n",
       "143428  [T cells, Exhausted T cells, CD8 Cytotoxic T c...   \n",
       "\n",
       "       conflict_related_cell_types  is_apoptosis  is_immune  is_cancer  \\\n",
       "0                               []         False      False       True   \n",
       "1                               []         False       True      False   \n",
       "2                               []         False       True      False   \n",
       "3                               []         False      False       True   \n",
       "4                               []         False       True      False   \n",
       "...                            ...           ...        ...        ...   \n",
       "143424                          []         False      False       True   \n",
       "143425                          []         False       True      False   \n",
       "143426                          []         False       True      False   \n",
       "143427                          []         False       True      False   \n",
       "143428                          []         False       True      False   \n",
       "\n",
       "        cancer_immune_conflict  is_doublet  is_lymphoid  is_myeloid  \\\n",
       "0                        False       False        False       False   \n",
       "1                        False       False         True       False   \n",
       "2                        False       False         True       False   \n",
       "3                        False       False        False       False   \n",
       "4                        False       False         True       False   \n",
       "...                        ...         ...          ...         ...   \n",
       "143424                   False       False        False       False   \n",
       "143425                   False       False         True       False   \n",
       "143426                   False       False         True       False   \n",
       "143427                   False       False         True       False   \n",
       "143428                   False       False         True       False   \n",
       "\n",
       "        is_CelBender_empty  is_stromal  is_epithelial  should_be_removed  \\\n",
       "0                    False       False          False              False   \n",
       "1                    False       False          False              False   \n",
       "2                    False       False          False              False   \n",
       "3                    False       False          False              False   \n",
       "4                    False       False          False              False   \n",
       "...                    ...         ...            ...                ...   \n",
       "143424               False       False          False              False   \n",
       "143425               False       False          False              False   \n",
       "143426               False       False          False              False   \n",
       "143427               False       False          False              False   \n",
       "143428               False       False          False              False   \n",
       "\n",
       "       comment  is_responder  \n",
       "0         None         False  \n",
       "1         None         False  \n",
       "2         None         False  \n",
       "3         None         False  \n",
       "4         None         False  \n",
       "...        ...           ...  \n",
       "143424    None         False  \n",
       "143425    None         False  \n",
       "143426    None         False  \n",
       "143427    None         False  \n",
       "143428    None         False  \n",
       "\n",
       "[143429 rows x 17 columns]"
      ]
     },
     "execution_count": 16,
     "metadata": {},
     "output_type": "execute_result"
    }
   ],
   "source": [
    "annCohort.cohort.obs"
   ]
  },
  {
   "cell_type": "code",
   "execution_count": null,
   "metadata": {},
   "outputs": [],
   "source": []
  },
  {
   "cell_type": "code",
   "execution_count": null,
   "metadata": {},
   "outputs": [],
   "source": []
  },
  {
   "cell_type": "code",
   "execution_count": 2,
   "metadata": {},
   "outputs": [],
   "source": [
    "file = r'/storage/md_keren/shitay/outputs/cNMF/conversions/tumor_filtered_cNMF_4.11.21.txt'\n"
   ]
  },
  {
   "cell_type": "code",
   "execution_count": 3,
   "metadata": {},
   "outputs": [],
   "source": [
    "with open(file) as f:\n",
    "    lines = f.readlines()"
   ]
  },
  {
   "cell_type": "code",
   "execution_count": null,
   "metadata": {},
   "outputs": [],
   "source": []
  },
  {
   "cell_type": "code",
   "execution_count": 11,
   "metadata": {},
   "outputs": [],
   "source": [
    "line_0 = lines[0].split('\\t')\n",
    "line_1 = lines[-1].split('\\t')"
   ]
  },
  {
   "cell_type": "code",
   "execution_count": 25,
   "metadata": {},
   "outputs": [
    {
     "data": {
      "text/plain": [
       "71.0"
      ]
     },
     "execution_count": 25,
     "metadata": {},
     "output_type": "execute_result"
    }
   ],
   "source": []
  }
 ],
 "metadata": {
  "kernelspec": {
   "display_name": "Python 3",
   "language": "python",
   "name": "python3"
  },
  "language_info": {
   "codemirror_mode": {
    "name": "ipython",
    "version": 3
   },
   "file_extension": ".py",
   "mimetype": "text/x-python",
   "name": "python",
   "nbconvert_exporter": "python",
   "pygments_lexer": "ipython3",
   "version": "3.8.3"
  }
 },
 "nbformat": 4,
 "nbformat_minor": 4
}
