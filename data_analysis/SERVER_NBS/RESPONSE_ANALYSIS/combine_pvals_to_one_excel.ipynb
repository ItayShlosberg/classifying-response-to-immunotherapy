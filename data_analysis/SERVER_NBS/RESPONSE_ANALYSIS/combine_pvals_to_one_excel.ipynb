{
 "cells": [
  {
   "cell_type": "code",
   "execution_count": 5,
   "metadata": {},
   "outputs": [],
   "source": [
    "lib = r'/srv01/technion/shitay/Code/classifying_response_to_immunotherapy/'\n",
    "import sys\n",
    "sys.path.append(lib)\n",
    "from utilities.package_importing import *\n",
    "import scipy.stats as stats"
   ]
  },
  {
   "cell_type": "code",
   "execution_count": 6,
   "metadata": {},
   "outputs": [],
   "source": [
    "############################  Helper functions ############################\n",
    "def col_fixed(df, wsheet, col_skip=0):\n",
    "    for idx, col in enumerate(df):  # loop through all columns\n",
    "        series = df[col]\n",
    "        max_len = max((\n",
    "            series.astype(str).map(len).max(),  # len of largest item\n",
    "            len(str(series.name))  # len of column name/header\n",
    "            )) + 1  # adding a little extra space\n",
    "        wsheet.set_column(idx+col_skip, idx+col_skip, max_len)  # set column width"
   ]
  },
  {
   "cell_type": "markdown",
   "metadata": {},
   "source": [
    "# Combine pvals\n",
    "After all analyses have been done, for example you compare NR mucosal vs NR cutaneous; ranksum fraction clusters of immune/CD8/myeloids and ranksum fraction of GEPs, \n",
    "you can now create an Excel that combines all pvals sorted in one sheet and examine your result.\n",
    "The file will be saved in the main folder of the anlyses."
   ]
  },
  {
   "cell_type": "markdown",
   "metadata": {},
   "source": [
    "#### Specify path of analysis and then run all other blocks:"
   ]
  },
  {
   "cell_type": "code",
   "execution_count": 32,
   "metadata": {},
   "outputs": [],
   "source": [
    "# FOLDER_PATH = r'/storage/md_keren/shitay/outputs/response_analysis/subcohort_1.1.22/8.1.22/NR_mucosal_vs_R_cutaneous'\n",
    "# FOLDER_PATH = r'/storage/md_keren/shitay/outputs/response_analysis/subcohort_1.1.22/8.1.22/NR_mucosal_vs_R_AND_NR_cutaneous'\n",
    "FOLDER_PATH = r'/storage/md_keren/shitay/outputs/response_analysis/subcohort_1.1.22/8.1.22/NR_mucosal_vs_NR_cutaneous'\n",
    "\n",
    "FILES_EXTENSION = 'csv' #"
   ]
  },
  {
   "cell_type": "code",
   "execution_count": 33,
   "metadata": {},
   "outputs": [],
   "source": [
    "prefix_file_name = '_'.join(FOLDER_PATH.split('/')[-1].split('_')[:-1])\n",
    "OUTPUT_FILE_NAME = fr'{prefix_file_name}_pvals_all_statistical_test_results.xlsx'"
   ]
  },
  {
   "cell_type": "markdown",
   "metadata": {},
   "source": [
    "dfs paths (no need to change):"
   ]
  },
  {
   "cell_type": "code",
   "execution_count": 34,
   "metadata": {},
   "outputs": [],
   "source": [
    "########################################### file paths ###########################################\n",
    "GEP_path = f'statistical_tests/GEP_fraction_ranksum_test_pvals.{FILES_EXTENSION}'\n",
    "immune_clustering_path = f'statistical_tests/cluster_fractions_ranksum_test_pvals.{FILES_EXTENSION}'\n",
    "myeloid_clustering_path = f'myeloids/statistical_tests/cluster_fractions_ranksum_test_pvals.{FILES_EXTENSION}'\n",
    "CD8_clustering_path = f'cytotoxic_t_cells/statistical_tests/cluster_fractions_ranksum_test_pvals.{FILES_EXTENSION}'\n",
    "\n",
    "########################################### annotation paths ###########################################\n",
    "immune_annotation_path = r'/storage/md_keren/shitay/Data/tables/clustering_annotations/for_pandas_df/Immune_clustering_26.6.21_annotations.xlsx'\n",
    "myeloid_annotation_path = r'/storage/md_keren/shitay/Data/tables/clustering_annotations/for_pandas_df/Myeloid_clustering_K_11_11.8.21_annotations.xlsx'\n",
    "CD8_annotation_path = r'/storage/md_keren/shitay/Data/tables/clustering_annotations/for_pandas_df/CD8_clustering_K_10_11.8.21_annotations.xlsx'\n",
    "########################################### GEP pathways path ###########################################\n",
    "GEP_pathways_path = r'/storage/md_keren/shitay/Data/tables/GEP/subcohort_1.1.22/k20_2000genes_200iter/GEPS_pathways.xlsx'"
   ]
  },
  {
   "cell_type": "markdown",
   "metadata": {},
   "source": [
    "import xlsx files:"
   ]
  },
  {
   "cell_type": "code",
   "execution_count": 35,
   "metadata": {},
   "outputs": [],
   "source": [
    "if FILES_EXTENSION=='csv':\n",
    "    read_func = pd.read_csv\n",
    "else:\n",
    "    read_func = pd.read_excel\n",
    "########################################### dfs ###########################################\n",
    "GEP_df = read_func(join(FOLDER_PATH, GEP_path))\n",
    "immune_clustering_df = read_func(join(FOLDER_PATH, immune_clustering_path))\n",
    "myeloid_clustering_df = read_func(join(FOLDER_PATH, myeloid_clustering_path))\n",
    "CD8_clustering_df = read_func(join(FOLDER_PATH, CD8_clustering_path))\n",
    "\n",
    "########################################### annotation dfs ###########################################\n",
    "immune_annotation_df = pd.read_excel(join(FOLDER_PATH, immune_annotation_path))\n",
    "myeloid_annotation_df = pd.read_excel(join(FOLDER_PATH, myeloid_annotation_path))\n",
    "CD8_annotation_df = pd.read_excel(join(FOLDER_PATH, CD8_annotation_path))\n",
    "# GEP_pathways_df = pd.read_excel(GEP_pathways_path)\n",
    "\n",
    "########################################### Add annotation to pval dfs ###########################################\n",
    "immune_clustering_df['cluster annotation'] = immune_clustering_df['cluster'].apply(lambda x: immune_annotation_df.set_index('CLUSTER_IDX').loc[x]['annotations'])\n",
    "myeloid_clustering_df['cluster annotation'] = myeloid_clustering_df['cluster'].apply(lambda x: myeloid_annotation_df.set_index('cluster').loc[x]['annotation'])\n",
    "CD8_clustering_df['cluster annotation'] = CD8_clustering_df['cluster'].apply(lambda x: CD8_annotation_df.set_index('cluster').loc[x]['annotation'])\n",
    "\n",
    "########################################### order pval dfs ###########################################\n",
    "immune_clustering_df = immune_clustering_df[['cluster', 'cluster annotation', 'pval', 'corrected_pval', 'Median >']].sort_values('pval')\n",
    "myeloid_clustering_df = myeloid_clustering_df[['cluster', 'cluster annotation', 'pval', 'corrected_pval', 'Median >']].sort_values('pval')\n",
    "CD8_clustering_df = CD8_clustering_df[['cluster', 'cluster annotation', 'pval', 'corrected_pval', 'Median >']].sort_values('pval')\n",
    "GEP_df = GEP_df.sort_values('pval')\n",
    "\n",
    "########################################### round pval ###########################################\n",
    "pval_round = 4\n",
    "immune_clustering_df.pval = round(immune_clustering_df.pval, pval_round)\n",
    "immune_clustering_df.corrected_pval = round(immune_clustering_df.corrected_pval, pval_round)\n",
    "\n",
    "myeloid_clustering_df.pval = round(myeloid_clustering_df.pval, pval_round)\n",
    "myeloid_clustering_df.corrected_pval = round(myeloid_clustering_df.corrected_pval, pval_round)\n",
    "\n",
    "CD8_clustering_df.pval = round(CD8_clustering_df.pval, pval_round)\n",
    "CD8_clustering_df.corrected_pval = round(CD8_clustering_df.corrected_pval, pval_round)\n",
    "\n",
    "GEP_df.pval = round(GEP_df.pval, pval_round)\n",
    "GEP_df.corrected_pval = round(GEP_df.corrected_pval, pval_round)"
   ]
  },
  {
   "cell_type": "markdown",
   "metadata": {},
   "source": [
    "builds an Excel that will contain all statistical test results in one sheet:"
   ]
  },
  {
   "cell_type": "code",
   "execution_count": 36,
   "metadata": {},
   "outputs": [],
   "source": [
    "GEP_df.name = \"GEP fraction ranksum test (sorted by pval)\"\n",
    "immune_clustering_df.name = \"Immune clustering fraction ranksum test (sorted by pval)\"\n",
    "myeloid_clustering_df.name = \"myeloid clustering fraction ranksum test (sorted by pval)\"\n",
    "CD8_clustering_df.name = \"CD8 clustering fraction ranksum test (sorted by pval)\"\n",
    "\n",
    "########################################### ExcelWriter ###########################################\n",
    "\n",
    "writer = pd.ExcelWriter(join(FOLDER_PATH, OUTPUT_FILE_NAME),engine='xlsxwriter')\n",
    "workbook=writer.book\n",
    "worksheet=workbook.add_worksheet('Result')\n",
    "writer.sheets['Result'] = worksheet\n",
    "\n",
    "########################################### write header ###########################################\n",
    "\n",
    "worksheet.write_string(0, 0, immune_clustering_df.name)\n",
    "worksheet.write_string(immune_clustering_df.shape[0] + 4, 0, myeloid_clustering_df.name)\n",
    "\n",
    "worksheet.write_string(0, immune_clustering_df.shape[1] + 1, CD8_clustering_df.name)\n",
    "worksheet.write_string(immune_clustering_df.shape[0] + 4, immune_clustering_df.shape[1] + 1, GEP_df.name)\n",
    "\n",
    "########################################### put dfs in xlsx ###########################################\n",
    "immune_clustering_df.to_excel(writer,sheet_name='Result',startrow=1 , startcol=0, index=False)\n",
    "col_fixed(immune_clustering_df, worksheet)\n",
    "\n",
    "myeloid_clustering_df.to_excel(writer,sheet_name='Result',startrow=immune_clustering_df.shape[0] + 5, startcol=0, index=False)\n",
    "\n",
    "CD8_clustering_df.to_excel(writer,sheet_name='Result',startrow=1, startcol=immune_clustering_df.shape[1] + 1, index=False)\n",
    "col_fixed(CD8_clustering_df, worksheet, col_skip=immune_clustering_df.shape[1] + 1)\n",
    "\n",
    "GEP_df.to_excel(writer,sheet_name='Result',startrow=immune_clustering_df.shape[0] + 5, startcol=immune_clustering_df.shape[1] + 1, index=False)\n",
    "\n",
    "########################################### add GEP pathways ###########################################\n",
    "pathways_col_skip = immune_clustering_df.shape[1]+ GEP_df.shape[1] + 3\n",
    "n_p_in_row = 4\n",
    "max_n_pathways = 8\n",
    "for i in range(1, 21):\n",
    "    if i==1:\n",
    "        pathways = []\n",
    "    else:\n",
    "        row_pathways_df = pd.read_excel(GEP_pathways_path, f'GEP{i}')\n",
    "        pathways = [v[9:].replace('_', ' ').lower() for v in row_pathways_df['Gene Set Name'].values.tolist()][:max_n_pathways]\n",
    "    \n",
    "    pr_pathways_df = pd.DataFrame(pathways,columns=[f'Pr{i}'])\n",
    "    col_p = (i-1)%n_p_in_row\n",
    "    row_p = int((i-1)/n_p_in_row)\n",
    "    pr_pathways_df.to_excel(writer,sheet_name='Result',startrow=1 + row_p *  (max_n_pathways+2), startcol=pathways_col_skip + (col_p *2) + 1, index=False)\n",
    "    \n",
    "########################################### save ###########################################\n",
    "writer.save()"
   ]
  },
  {
   "cell_type": "code",
   "execution_count": null,
   "metadata": {},
   "outputs": [],
   "source": []
  },
  {
   "cell_type": "code",
   "execution_count": null,
   "metadata": {},
   "outputs": [],
   "source": []
  },
  {
   "cell_type": "markdown",
   "metadata": {},
   "source": [
    "# Debug"
   ]
  },
  {
   "cell_type": "code",
   "execution_count": 42,
   "metadata": {},
   "outputs": [
    {
     "data": {
      "text/plain": [
       "'NR_mucosal_vs_NR_cutaneous'"
      ]
     },
     "execution_count": 42,
     "metadata": {},
     "output_type": "execute_result"
    }
   ],
   "source": []
  }
 ],
 "metadata": {
  "kernelspec": {
   "display_name": "Python 3",
   "language": "python",
   "name": "python3"
  },
  "language_info": {
   "codemirror_mode": {
    "name": "ipython",
    "version": 3
   },
   "file_extension": ".py",
   "mimetype": "text/x-python",
   "name": "python",
   "nbconvert_exporter": "python",
   "pygments_lexer": "ipython3",
   "version": "3.8.12"
  }
 },
 "nbformat": 4,
 "nbformat_minor": 4
}
