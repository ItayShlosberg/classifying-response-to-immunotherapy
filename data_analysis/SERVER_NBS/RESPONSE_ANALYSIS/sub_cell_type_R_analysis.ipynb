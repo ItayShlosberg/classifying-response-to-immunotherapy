{
 "cells": [
  {
   "cell_type": "markdown",
   "metadata": {},
   "source": [
    "# Response analysis\n",
    "\n",
    "\n",
    "##### 1. Response expression differential analysis - \n",
    "twice: (1) tumor cells and (2) immune cells separately - finds markers across all (protein coding) genes and draw heatmaps. - DONE\n",
    "\n",
    "##### 2. Response association with clusters analysis - \n",
    "Each cluster see the number of cells correspond to response patients vs. number of cells corespond to non-response patients.\n",
    "\n",
    "##### 3. GEP association with response (1) -\n",
    "Per program, take all usage values of cells coming from R patients vs. NR patients, and perform Wilcoxon ranksum test.\n",
    "\n",
    "##### 4. GEP association with response (2) - \n",
    "Assign each cell one program based on the maximal usage value. Then, for each patient, compute the fraction of cells belonging to each program. Finally, you can perform wilcoxon per program, comparing these fractions between R and NR patients.\n"
   ]
  },
  {
   "cell_type": "code",
   "execution_count": 1,
   "metadata": {},
   "outputs": [],
   "source": [
    "lib = r'/srv01/technion/shitay/Code/classifying_response_to_immunotherapy/'\n",
    "import sys\n",
    "sys.path.append(lib)\n",
    "from utilities.package_importing import *"
   ]
  },
  {
   "cell_type": "markdown",
   "metadata": {},
   "source": [
    "Helper functions:"
   ]
  },
  {
   "cell_type": "code",
   "execution_count": 2,
   "metadata": {},
   "outputs": [],
   "source": [
    "def print_pvals(pvals, n_groups):\n",
    "    \n",
    "    pvals_df = pd.DataFrame([[v[0], int(v[1])] for v in transpose([pvals, range(1, n_groups+1)])], columns=['pval', 'group'])\n",
    "    plt.figure(figsize=(8, 6), dpi=80);\n",
    "\n",
    "    pvals = pvals_df[[\"group\", \"pval\"]].values\n",
    "    small_pvals = pvals[pvals[:,1]<0.05]\n",
    "    big_pvals = pvals[pvals[:,1]>=0.05]\n",
    "\n",
    "\n",
    "    plt.scatter(x=big_pvals[:,0], y=big_pvals[:,1]);\n",
    "    plt.scatter(x=small_pvals[:,0], y=small_pvals[:,1]);\n",
    "\n",
    "    ax = plt.plot([0,n_groups+1],[0.05,0.05], color='y');\n",
    "    plt.xticks(np.arange(1, n_groups+1));\n",
    "    plt.yticks([0.05, 1]);\n",
    "    plt.xlim((0,n_groups+1));\n",
    "    plt.title('p-values');\n",
    "\n",
    "    for coord in pvals:\n",
    "        plt.text(coord[0], coord[1], '{}'.format(int(coord[0])));"
   ]
  },
  {
   "cell_type": "markdown",
   "metadata": {},
   "source": [
    "##### Loads clinical table to get labels - R/NR"
   ]
  },
  {
   "cell_type": "code",
   "execution_count": 3,
   "metadata": {},
   "outputs": [
    {
     "name": "stdout",
     "output_type": "stream",
     "text": [
      "Using clinical table in path:\n",
      " /storage/md_keren/shitay/Data/tables/Melanoma_clinical_data_OCT_unportected.xlsx\n",
      "\n",
      "and labels:\n",
      "/storage/md_keren/shitay/Data/tables/clinical_labels.xlsx\n"
     ]
    },
    {
     "data": {
      "text/html": [
       "<div>\n",
       "<style scoped>\n",
       "    .dataframe tbody tr th:only-of-type {\n",
       "        vertical-align: middle;\n",
       "    }\n",
       "\n",
       "    .dataframe tbody tr th {\n",
       "        vertical-align: top;\n",
       "    }\n",
       "\n",
       "    .dataframe thead th {\n",
       "        text-align: right;\n",
       "    }\n",
       "</style>\n",
       "<table border=\"1\" class=\"dataframe\">\n",
       "  <thead>\n",
       "    <tr style=\"text-align: right;\">\n",
       "      <th></th>\n",
       "      <th>Patient id</th>\n",
       "      <th>Melanoma type</th>\n",
       "      <th>response</th>\n",
       "      <th>prior to biopsy</th>\n",
       "      <th>after biopsy</th>\n",
       "      <th>ICI</th>\n",
       "    </tr>\n",
       "  </thead>\n",
       "  <tbody>\n",
       "    <tr>\n",
       "      <th>0</th>\n",
       "      <td>M97</td>\n",
       "      <td>Cutaneous</td>\n",
       "      <td>R</td>\n",
       "      <td>nothing</td>\n",
       "      <td>ICI</td>\n",
       "      <td>True</td>\n",
       "    </tr>\n",
       "    <tr>\n",
       "      <th>4</th>\n",
       "      <td>M101</td>\n",
       "      <td>other</td>\n",
       "      <td>R</td>\n",
       "      <td>nothing</td>\n",
       "      <td>ICI</td>\n",
       "      <td>True</td>\n",
       "    </tr>\n",
       "    <tr>\n",
       "      <th>5</th>\n",
       "      <td>M102</td>\n",
       "      <td>other</td>\n",
       "      <td>NR</td>\n",
       "      <td>ICI</td>\n",
       "      <td>ICI</td>\n",
       "      <td>True</td>\n",
       "    </tr>\n",
       "    <tr>\n",
       "      <th>8</th>\n",
       "      <td>M105</td>\n",
       "      <td>other</td>\n",
       "      <td>NR</td>\n",
       "      <td>ICI</td>\n",
       "      <td>ICI</td>\n",
       "      <td>True</td>\n",
       "    </tr>\n",
       "    <tr>\n",
       "      <th>11</th>\n",
       "      <td>M108</td>\n",
       "      <td>other</td>\n",
       "      <td>NR</td>\n",
       "      <td>other therapy</td>\n",
       "      <td>ICI</td>\n",
       "      <td>True</td>\n",
       "    </tr>\n",
       "  </tbody>\n",
       "</table>\n",
       "</div>"
      ],
      "text/plain": [
       "   Patient id Melanoma type response prior to biopsy after biopsy   ICI\n",
       "0         M97     Cutaneous        R         nothing          ICI  True\n",
       "4        M101         other        R         nothing          ICI  True\n",
       "5        M102         other       NR             ICI          ICI  True\n",
       "8        M105         other       NR             ICI          ICI  True\n",
       "11       M108         other       NR   other therapy          ICI  True"
      ]
     },
     "execution_count": 3,
     "metadata": {},
     "output_type": "execute_result"
    }
   ],
   "source": [
    "melanoma_clinical_data = get_clinical_data(ICI=True, after_biopsy='ICI')\n",
    "res_melanoma_clinical_data = melanoma_clinical_data.set_index('Patient id')\n",
    "melanoma_clinical_data.head(5)"
   ]
  },
  {
   "cell_type": "code",
   "execution_count": 4,
   "metadata": {},
   "outputs": [
    {
     "data": {
      "text/html": [
       "<div>\n",
       "<style scoped>\n",
       "    .dataframe tbody tr th:only-of-type {\n",
       "        vertical-align: middle;\n",
       "    }\n",
       "\n",
       "    .dataframe tbody tr th {\n",
       "        vertical-align: top;\n",
       "    }\n",
       "\n",
       "    .dataframe thead th {\n",
       "        text-align: right;\n",
       "    }\n",
       "</style>\n",
       "<table border=\"1\" class=\"dataframe\">\n",
       "  <thead>\n",
       "    <tr style=\"text-align: right;\">\n",
       "      <th></th>\n",
       "      <th>Patient id</th>\n",
       "      <th>Melanoma type</th>\n",
       "      <th>response</th>\n",
       "      <th>prior to biopsy</th>\n",
       "      <th>after biopsy</th>\n",
       "      <th>ICI</th>\n",
       "    </tr>\n",
       "  </thead>\n",
       "  <tbody>\n",
       "    <tr>\n",
       "      <th>0</th>\n",
       "      <td>M97</td>\n",
       "      <td>Cutaneous</td>\n",
       "      <td>R</td>\n",
       "      <td>nothing</td>\n",
       "      <td>ICI</td>\n",
       "      <td>True</td>\n",
       "    </tr>\n",
       "    <tr>\n",
       "      <th>4</th>\n",
       "      <td>M101</td>\n",
       "      <td>other</td>\n",
       "      <td>R</td>\n",
       "      <td>nothing</td>\n",
       "      <td>ICI</td>\n",
       "      <td>True</td>\n",
       "    </tr>\n",
       "    <tr>\n",
       "      <th>5</th>\n",
       "      <td>M102</td>\n",
       "      <td>other</td>\n",
       "      <td>NR</td>\n",
       "      <td>ICI</td>\n",
       "      <td>ICI</td>\n",
       "      <td>True</td>\n",
       "    </tr>\n",
       "    <tr>\n",
       "      <th>8</th>\n",
       "      <td>M105</td>\n",
       "      <td>other</td>\n",
       "      <td>NR</td>\n",
       "      <td>ICI</td>\n",
       "      <td>ICI</td>\n",
       "      <td>True</td>\n",
       "    </tr>\n",
       "    <tr>\n",
       "      <th>11</th>\n",
       "      <td>M108</td>\n",
       "      <td>other</td>\n",
       "      <td>NR</td>\n",
       "      <td>other therapy</td>\n",
       "      <td>ICI</td>\n",
       "      <td>True</td>\n",
       "    </tr>\n",
       "  </tbody>\n",
       "</table>\n",
       "</div>"
      ],
      "text/plain": [
       "   Patient id Melanoma type response prior to biopsy after biopsy   ICI\n",
       "0         M97     Cutaneous        R         nothing          ICI  True\n",
       "4        M101         other        R         nothing          ICI  True\n",
       "5        M102         other       NR             ICI          ICI  True\n",
       "8        M105         other       NR             ICI          ICI  True\n",
       "11       M108         other       NR   other therapy          ICI  True"
      ]
     },
     "execution_count": 4,
     "metadata": {},
     "output_type": "execute_result"
    }
   ],
   "source": [
    "melanoma_clinical_data.head(5)"
   ]
  },
  {
   "cell_type": "code",
   "execution_count": 5,
   "metadata": {},
   "outputs": [],
   "source": [
    "# melanoma_clinical_data"
   ]
  },
  {
   "cell_type": "markdown",
   "metadata": {},
   "source": [
    "#### Builds response/non_response sample list"
   ]
  },
  {
   "cell_type": "code",
   "execution_count": 18,
   "metadata": {},
   "outputs": [
    {
     "name": "stdout",
     "output_type": "stream",
     "text": [
      "number reponse_samples: 15\n",
      "number non_reponse_samples: 18\n",
      "number no label samples: 3\n"
     ]
    }
   ],
   "source": [
    "response_samples = melanoma_clinical_data[melanoma_clinical_data['response'] == 'R']['Patient id'].tolist()\n",
    "non_response_samples = melanoma_clinical_data[melanoma_clinical_data['response'] == 'NR']['Patient id'].tolist()\n",
    "no_used_samples = melanoma_clinical_data[melanoma_clinical_data['response'] == 'not in use for now']['Patient id'].tolist()\n",
    "\n",
    "print(f'number reponse_samples: {len(response_samples)}')\n",
    "print(f'number non_reponse_samples: {len(non_response_samples)}')\n",
    "print(f'number no label samples: {len(no_used_samples)}')"
   ]
  },
  {
   "cell_type": "markdown",
   "metadata": {},
   "source": [
    "#### Loads cohort's myeloid cells:"
   ]
  },
  {
   "cell_type": "code",
   "execution_count": 6,
   "metadata": {},
   "outputs": [],
   "source": [
    "# tumor_path = r'/storage/md_keren/shitay/Data/droplet_seq/cohort/normalized/5.21/cohort_normalized_24.5.21.pkl'\n",
    "COHORT_PATH = r'/storage/md_keren/shitay/Data/droplet_seq/cohort/normalized/6.21/myeloid_normalized_26.6.21.pkl'\n",
    "\n",
    "# tumor_cohort = pickle.load(open(tumor_path, 'rb'))\n",
    "cohort = pickle.load(open(COHORT_PATH, 'rb'))"
   ]
  },
  {
   "cell_type": "markdown",
   "metadata": {},
   "source": [
    "# Myeloid clustering - Response association with clusters analysis\n",
    "\n",
    "For each cluster, see the number of cells correspond to response patients vs. number of cells corespond to non-response patients.\n"
   ]
  },
  {
   "cell_type": "code",
   "execution_count": 31,
   "metadata": {},
   "outputs": [],
   "source": [
    "clusters_barcodes_mapping_path = r'/storage/md_keren/shitay/outputs/clustering/myeloid/summary/4.11.21/myeloid_kmeans_integrated_4.11.21_clusters_mapping.csv'\n",
    "clusters_barcodes_mapping_df = pd.read_csv(clusters_barcodes_mapping_path)"
   ]
  },
  {
   "cell_type": "markdown",
   "metadata": {},
   "source": [
    "##### Takes only samples that appear in the clinical table"
   ]
  },
  {
   "cell_type": "code",
   "execution_count": 32,
   "metadata": {},
   "outputs": [],
   "source": [
    "clusters_barcodes_mapping_df = clusters_barcodes_mapping_df[clusters_barcodes_mapping_df[\"Sample\"].isin(melanoma_clinical_data['Patient id'])]"
   ]
  },
  {
   "cell_type": "markdown",
   "metadata": {},
   "source": [
    "###### cluster visualizations"
   ]
  },
  {
   "cell_type": "code",
   "execution_count": 33,
   "metadata": {},
   "outputs": [],
   "source": [
    "df = clusters_barcodes_mapping_df#.drop(columns=['index'])\n",
    "df['Response'] = df['Sample'].apply(lambda x: res_melanoma_clinical_data.loc[x]['response'])\n",
    "\n",
    "n_NR = df['Response'].value_counts()['NR']\n",
    "n_R = df['Response'].value_counts()['R']"
   ]
  },
  {
   "cell_type": "code",
   "execution_count": 34,
   "metadata": {},
   "outputs": [],
   "source": [
    "clusters = df['Cluster'].unique()\n",
    "\n",
    "NR_counts = np.zeros(len(clusters))\n",
    "R_counts = np.zeros(len(clusters))\n",
    "\n",
    "for idx, cluster in enumerate(clusters):\n",
    "    responses = df[df['Cluster']==cluster]['Response']\n",
    "    NR_counts[idx] = sum(responses=='NR')\n",
    "    R_counts[idx] = sum(responses=='R')"
   ]
  },
  {
   "cell_type": "code",
   "execution_count": 35,
   "metadata": {},
   "outputs": [
    {
     "name": "stdout",
     "output_type": "stream",
     "text": [
      "\n",
      "RanksumsResult(statistic=0.984975161610839, pvalue=0.32463627173040743)\n",
      "WilcoxonResult(statistic=17.0, pvalue=0.1748046875)\n"
     ]
    },
    {
     "data": {
      "image/png": "[encoded data removed]",
      "text/plain": [
       "<Figure size 432x288 with 1 Axes>"
      ]
     },
     "metadata": {
      "needs_background": "light"
     },
     "output_type": "display_data"
    }
   ],
   "source": [
    "# for idx, (cx, cy) in enumerate(list(zip(NR_counts, R_counts))):\n",
    "#     print(f'cluster {idx+1} -  NR: {int(cx)}, R: {int(cy)}')\n",
    "\n",
    "sns.reset_orig() # reset size of figure\n",
    "ax = sns.countplot(x=\"Cluster\", hue='Response', data=df, palette=\"Set1\").set(title='number of barcodes in cluster')\n",
    "\n",
    "print()\n",
    "print(ranksums(R_counts, NR_counts))\n",
    "print(wilcoxon(R_counts, NR_counts))"
   ]
  },
  {
   "cell_type": "markdown",
   "metadata": {},
   "source": [
    "##### Normalized by group size (number of barcodes in group - R/NR):"
   ]
  },
  {
   "cell_type": "code",
   "execution_count": 36,
   "metadata": {},
   "outputs": [
    {
     "name": "stdout",
     "output_type": "stream",
     "text": [
      "Normalized by number of barcodes in group (R/NR):\n",
      "\n",
      "RanksumsResult(statistic=-0.03283250538702796, pvalue=0.9738081566288518)\n",
      "WilcoxonResult(statistic=23.0, pvalue=0.4130859375)\n"
     ]
    },
    {
     "data": {
      "image/png": "[encoded data removed]",
      "text/plain": [
       "<Figure size 486x360 with 1 Axes>"
      ]
     },
     "metadata": {
      "needs_background": "light"
     },
     "output_type": "display_data"
    }
   ],
   "source": [
    "R_nor = R_counts/n_R\n",
    "NR_nor = NR_counts/n_NR\n",
    "\n",
    "print('Normalized by number of barcodes in group (R/NR):')\n",
    "# for idx, (cx, cy) in enumerate(list(zip(NR_nor, R_nor))):\n",
    "#     print(f'cluster {idx+1} -  NR: {round(cx,3)}, R: {round(cy,3)}')\n",
    "\n",
    "count_df = df.groupby(['Response', 'Cluster']).count().reset_index().rename(columns={'Sample': 'count'}).drop(columns=['Barcode'])\n",
    "count_df[\"nor_count\"] = count_df.apply(lambda x: x['count']/n_R if x['Response']=='R' else x['count']/n_NR ,axis=1)\n",
    "ax = sns.catplot(kind=\"bar\", x='Cluster', y='nor_count', hue='Response', data=count_df, palette=\"Set1\").set(title='number of barcodes in cluster normalized by number of R/NR barcodes')\n",
    "    \n",
    "print()\n",
    "print(ranksums(R_nor, NR_nor))\n",
    "print(wilcoxon(R_nor, NR_nor))"
   ]
  },
  {
   "cell_type": "markdown",
   "metadata": {},
   "source": [
    "##### Normalized by number of cells in cluster:"
   ]
  },
  {
   "cell_type": "code",
   "execution_count": 37,
   "metadata": {},
   "outputs": [
    {
     "name": "stdout",
     "output_type": "stream",
     "text": [
      "\n",
      "RanksumsResult(statistic=1.6744577747384262, pvalue=0.09404066637444118)\n",
      "WilcoxonResult(statistic=19.0, pvalue=0.240234375)\n"
     ]
    },
    {
     "data": {
      "image/png": "[encoded data removed]",
      "text/plain": [
       "<Figure size 486x360 with 1 Axes>"
      ]
     },
     "metadata": {
      "needs_background": "light"
     },
     "output_type": "display_data"
    }
   ],
   "source": [
    "NR_nor = NR_counts/(NR_counts + R_counts)\n",
    "R_nor = R_counts/(NR_counts + R_counts)\n",
    "\n",
    "# print('Normalized by number of barcodes in cluster:')\n",
    "# for idx, (cx, cy) in enumerate(list(zip(NR_nor, R_nor))):\n",
    "#     print(f'cluster {idx+1} -  NR: {round(cx,3)}, R: {round(cy,3)}')\n",
    "    \n",
    "df_nor_count = df.groupby(['Response', 'Cluster']).count().reset_index().rename(columns={'Sample': 'count'}).drop(columns=['Barcode'])\n",
    "# df_nor_count = df[df[\"Response\"]!= 'not in use for now'].groupby(['Response', 'Cluster']).count().reset_index().rename(columns={'Sample': 'count'}).drop(columns=['Barcode'])\n",
    "df_nor_count['nor_count'] = df_nor_count.apply(lambda x: x['count']/df_nor_count[df_nor_count['Cluster']==x['Cluster']]['count'].sum(), axis=1)\n",
    "ax = sns.catplot(kind=\"bar\", x='Cluster', y='nor_count', hue='Response', data=df_nor_count, palette=\"Set1\").set(title='number of barcodes in cluster normalized by cluster size')\n",
    "print()    \n",
    "print(ranksums(R_nor, NR_nor))\n",
    "print(wilcoxon(R_nor, NR_nor))"
   ]
  },
  {
   "cell_type": "markdown",
   "metadata": {},
   "source": [
    "##### patient fraction over clusters"
   ]
  },
  {
   "cell_type": "code",
   "execution_count": 39,
   "metadata": {},
   "outputs": [],
   "source": [
    "sample_fractions_df = clusters_barcodes_mapping_df.groupby(['Sample', 'Cluster']).count().reset_index()#.drop(columns=['index'])\n",
    "sample_counts_df = clusters_barcodes_mapping_df.groupby(['Sample']).count().reset_index().drop(columns=['Cluster'])#.drop(columns=['index'])\n",
    "sample_fractions_df\n",
    "sample_fractions_df['counts'] = sample_fractions_df.apply(lambda x: sample_counts_df.set_index('Sample').loc[x['Sample']][0], axis=1)\n",
    "sample_fractions_df['fraction'] = sample_fractions_df['Barcode'] / sample_fractions_df['counts'] \n",
    "sample_fractions_df['Response'] = sample_fractions_df['Sample'].apply(lambda x: res_melanoma_clinical_data.loc[x]['response'])"
   ]
  },
  {
   "cell_type": "markdown",
   "metadata": {},
   "source": [
    "See how many samples (R/NR) have cells in each cluster:"
   ]
  },
  {
   "cell_type": "code",
   "execution_count": 41,
   "metadata": {},
   "outputs": [],
   "source": [
    "# full_sample_fractions_df[[\"Sample\", 'Cluster']].groupby('Cluster').count()\n",
    "# sample_fractions_df[[\"Sample\", 'Cluster', 'Response']].groupby(['Cluster','Response']).count()"
   ]
  },
  {
   "cell_type": "markdown",
   "metadata": {},
   "source": [
    "add zero fraction samples:"
   ]
  },
  {
   "cell_type": "code",
   "execution_count": 42,
   "metadata": {},
   "outputs": [],
   "source": [
    "sample_fractions_df = sample_fractions_df[[\"Sample\", 'Cluster', 'fraction' , 'Response' ]]\n",
    "full_sample_fractions_df = pd.DataFrame(sample_fractions_df[sample_fractions_df['Response']!='not in use for now'])\n",
    "samples_in_clusters = full_sample_fractions_df[[\"Sample\", 'Cluster']].values.tolist()\n",
    "samples = response_samples + non_response_samples\n",
    "dic_response = {ss:'R' for ss in response_samples}\n",
    "dic_response.update({ss:'NR' for ss in non_response_samples})\n",
    "all_pairs = [[s, cl] for cl in clusters for s in samples]\n",
    "pairs_need_to_add = [pair for pair in all_pairs if not pair in samples_in_clusters]\n",
    "for sample, cluster in pairs_need_to_add:\n",
    "    full_sample_fractions_df = full_sample_fractions_df.append(pd.DataFrame([[sample,cluster, 0, dic_response[sample]]], columns=full_sample_fractions_df.columns))\n",
    "    "
   ]
  },
  {
   "cell_type": "markdown",
   "metadata": {},
   "source": [
    "visualize:"
   ]
  },
  {
   "cell_type": "code",
   "execution_count": 44,
   "metadata": {},
   "outputs": [
    {
     "data": {
      "image/png": "[encoded data removed]",
      "text/plain": [
       "<Figure size 919.75x432 with 1 Axes>"
      ]
     },
     "metadata": {
      "needs_background": "light"
     },
     "output_type": "display_data"
    },
    {
     "data": {
      "text/plain": [
       "<Figure size 480x240 with 0 Axes>"
      ]
     },
     "metadata": {},
     "output_type": "display_data"
    },
    {
     "data": {
      "image/png": "[encoded data removed]",
      "text/plain": [
       "<Figure size 640x480 with 1 Axes>"
      ]
     },
     "metadata": {
      "needs_background": "light"
     },
     "output_type": "display_data"
    }
   ],
   "source": [
    "sns.reset_orig()\n",
    "ax = sns.catplot(kind=\"box\", x='Cluster', y='fraction', hue='Response', data=full_sample_fractions_df, palette=\"Set1\",height=6, aspect=2.0).set(title=\"cluster fraction distribution\")\n",
    "plt.figure(figsize=(6, 3), dpi=80)\n",
    "\n",
    "pvals = []\n",
    "for cluster in set(sample_fractions_df[\"Cluster\"]):\n",
    "    cluster_df = full_sample_fractions_df[full_sample_fractions_df[\"Cluster\"] == cluster]\n",
    "    R_fractions = cluster_df[cluster_df[\"Response\"] == 'R']['fraction'].values\n",
    "    NR_fractions = cluster_df[cluster_df[\"Response\"] == 'NR']['fraction'].values\n",
    "    res = ranksums(R_fractions, NR_fractions)[1]\n",
    "    pvals.append([cluster, res])\n",
    "pvals = np.array(pvals)\n",
    "\n",
    "# Correct pvals\n",
    "pvals[:,1] = multipletests_fdr(pvals[:,1])[1]\n",
    "\n",
    "print_pvals(pvals[:,1], 11)\n",
    "# pvals"
   ]
  },
  {
   "cell_type": "markdown",
   "metadata": {},
   "source": [
    "# CD8 clustering - Response association with clusters analysis\n",
    "\n",
    "For each cluster, see the number of cells correspond to response patients vs. number of cells corespond to non-response patients.\n"
   ]
  },
  {
   "cell_type": "code",
   "execution_count": 45,
   "metadata": {},
   "outputs": [],
   "source": [
    "clusters_barcodes_mapping_path = r'/storage/md_keren/shitay/outputs/clustering/CD8/summary/4.11.21/cd8_kmeans_integrated_4.11.21_clusters_mapping.csv'\n",
    "clusters_barcodes_mapping_df = pd.read_csv(clusters_barcodes_mapping_path)"
   ]
  },
  {
   "cell_type": "markdown",
   "metadata": {},
   "source": [
    "##### Takes only samples that appear in the clinical table"
   ]
  },
  {
   "cell_type": "code",
   "execution_count": 46,
   "metadata": {},
   "outputs": [],
   "source": [
    "clusters_barcodes_mapping_df = clusters_barcodes_mapping_df[clusters_barcodes_mapping_df[\"Sample\"].isin(melanoma_clinical_data['Patient id'])]"
   ]
  },
  {
   "cell_type": "markdown",
   "metadata": {},
   "source": [
    "###### cluster visualizations"
   ]
  },
  {
   "cell_type": "code",
   "execution_count": 49,
   "metadata": {},
   "outputs": [],
   "source": [
    "df = clusters_barcodes_mapping_df#.drop(columns=['index'])\n",
    "df['Response'] = df['Sample'].apply(lambda x: res_melanoma_clinical_data.loc[x]['response'])\n",
    "\n",
    "n_NR = df['Response'].value_counts()['NR']\n",
    "n_R = df['Response'].value_counts()['R']"
   ]
  },
  {
   "cell_type": "code",
   "execution_count": 50,
   "metadata": {},
   "outputs": [],
   "source": [
    "clusters = df['Cluster'].unique()\n",
    "\n",
    "NR_counts = np.zeros(len(clusters))\n",
    "R_counts = np.zeros(len(clusters))\n",
    "\n",
    "for idx, cluster in enumerate(clusters):\n",
    "    responses = df[df['Cluster']==cluster]['Response']\n",
    "    NR_counts[idx] = sum(responses=='NR')\n",
    "    R_counts[idx] = sum(responses=='R')"
   ]
  },
  {
   "cell_type": "code",
   "execution_count": 51,
   "metadata": {},
   "outputs": [
    {
     "name": "stdout",
     "output_type": "stream",
     "text": [
      "\n",
      "RanksumsResult(statistic=1.0583005244258363, pvalue=0.28991845394256976)\n",
      "WilcoxonResult(statistic=14.0, pvalue=0.193359375)\n"
     ]
    },
    {
     "data": {
      "image/png": "[encoded data removed]",
      "text/plain": [
       "<Figure size 432x288 with 1 Axes>"
      ]
     },
     "metadata": {
      "needs_background": "light"
     },
     "output_type": "display_data"
    }
   ],
   "source": [
    "# for idx, (cx, cy) in enumerate(list(zip(NR_counts, R_counts))):\n",
    "#     print(f'cluster {idx+1} -  NR: {int(cx)}, R: {int(cy)}')\n",
    "\n",
    "sns.reset_orig() # reset size of figure\n",
    "ax = sns.countplot(x=\"Cluster\", hue='Response', data=df, palette=\"Set1\").set(title='number of barcodes in cluster')\n",
    "\n",
    "print()\n",
    "print(ranksums(R_counts, NR_counts))\n",
    "print(wilcoxon(R_counts, NR_counts))"
   ]
  },
  {
   "cell_type": "markdown",
   "metadata": {},
   "source": [
    "##### Normalized by group size (number of barcodes in group - R/NR):"
   ]
  },
  {
   "cell_type": "code",
   "execution_count": 52,
   "metadata": {},
   "outputs": [
    {
     "name": "stdout",
     "output_type": "stream",
     "text": [
      "Normalized by number of barcodes in group (R/NR):\n",
      "\n",
      "RanksumsResult(statistic=0.7559289460184545, pvalue=0.4496917979688909)\n",
      "WilcoxonResult(statistic=17.0, pvalue=0.322265625)\n"
     ]
    },
    {
     "data": {
      "image/png": "[encoded data removed]",
      "text/plain": [
       "<Figure size 486x360 with 1 Axes>"
      ]
     },
     "metadata": {
      "needs_background": "light"
     },
     "output_type": "display_data"
    }
   ],
   "source": [
    "R_nor = R_counts/n_R\n",
    "NR_nor = NR_counts/n_NR\n",
    "\n",
    "print('Normalized by number of barcodes in group (R/NR):')\n",
    "# for idx, (cx, cy) in enumerate(list(zip(NR_nor, R_nor))):\n",
    "#     print(f'cluster {idx+1} -  NR: {round(cx,3)}, R: {round(cy,3)}')\n",
    "\n",
    "count_df = df.groupby(['Response', 'Cluster']).count().reset_index().rename(columns={'Sample': 'count'}).drop(columns=['Barcode'])\n",
    "count_df[\"nor_count\"] = count_df.apply(lambda x: x['count']/n_R if x['Response']=='R' else x['count']/n_NR ,axis=1)\n",
    "ax = sns.catplot(kind=\"bar\", x='Cluster', y='nor_count', hue='Response', data=count_df, palette=\"Set1\").set(title='number of barcodes in cluster normalized by number of R/NR barcodes')\n",
    "    \n",
    "print()\n",
    "print(ranksums(R_nor, NR_nor))\n",
    "print(wilcoxon(R_nor, NR_nor))"
   ]
  },
  {
   "cell_type": "markdown",
   "metadata": {},
   "source": [
    "##### Normalized by number of cells in cluster:"
   ]
  },
  {
   "cell_type": "code",
   "execution_count": 53,
   "metadata": {},
   "outputs": [
    {
     "name": "stdout",
     "output_type": "stream",
     "text": [
      "\n",
      "RanksumsResult(statistic=2.0410081542498273, pvalue=0.04125001659393949)\n",
      "WilcoxonResult(statistic=13.0, pvalue=0.16015625)\n"
     ]
    },
    {
     "data": {
      "image/png": "[encoded data removed]",
      "text/plain": [
       "<Figure size 486x360 with 1 Axes>"
      ]
     },
     "metadata": {
      "needs_background": "light"
     },
     "output_type": "display_data"
    }
   ],
   "source": [
    "NR_nor = NR_counts/(NR_counts + R_counts)\n",
    "R_nor = R_counts/(NR_counts + R_counts)\n",
    "\n",
    "# print('Normalized by number of barcodes in cluster:')\n",
    "# for idx, (cx, cy) in enumerate(list(zip(NR_nor, R_nor))):\n",
    "#     print(f'cluster {idx+1} -  NR: {round(cx,3)}, R: {round(cy,3)}')\n",
    "    \n",
    "df_nor_count = df.groupby(['Response', 'Cluster']).count().reset_index().rename(columns={'Sample': 'count'}).drop(columns=['Barcode'])\n",
    "# df_nor_count = df[df[\"Response\"]!= 'not in use for now'].groupby(['Response', 'Cluster']).count().reset_index().rename(columns={'Sample': 'count'}).drop(columns=['Barcode'])\n",
    "df_nor_count['nor_count'] = df_nor_count.apply(lambda x: x['count']/df_nor_count[df_nor_count['Cluster']==x['Cluster']]['count'].sum(), axis=1)\n",
    "ax = sns.catplot(kind=\"bar\", x='Cluster', y='nor_count', hue='Response', data=df_nor_count, palette=\"Set1\").set(title='number of barcodes in cluster normalized by cluster size')\n",
    "print()    \n",
    "print(ranksums(R_nor, NR_nor))\n",
    "print(wilcoxon(R_nor, NR_nor))"
   ]
  },
  {
   "cell_type": "markdown",
   "metadata": {},
   "source": [
    "#### patient fraction over clusters"
   ]
  },
  {
   "cell_type": "code",
   "execution_count": 54,
   "metadata": {},
   "outputs": [],
   "source": [
    "sample_fractions_df = clusters_barcodes_mapping_df.groupby(['Sample', 'Cluster']).count().reset_index()#.drop(columns=['index'])\n",
    "sample_counts_df = clusters_barcodes_mapping_df.groupby(['Sample']).count().reset_index().drop(columns=['Cluster'])#.drop(columns=['index'])\n",
    "sample_fractions_df\n",
    "sample_fractions_df['counts'] = sample_fractions_df.apply(lambda x: sample_counts_df.set_index('Sample').loc[x['Sample']][0], axis=1)\n",
    "sample_fractions_df['fraction'] = sample_fractions_df['Barcode'] / sample_fractions_df['counts'] \n",
    "sample_fractions_df['Response'] = sample_fractions_df['Sample'].apply(lambda x: res_melanoma_clinical_data.loc[x]['response'])"
   ]
  },
  {
   "cell_type": "markdown",
   "metadata": {},
   "source": [
    "See how many samples (R/NR) have cells in each cluster:"
   ]
  },
  {
   "cell_type": "code",
   "execution_count": 55,
   "metadata": {},
   "outputs": [],
   "source": [
    "# sample_fractions_df[[\"Sample\", 'Cluster', 'Response']].groupby(['Cluster','Response']).count()"
   ]
  },
  {
   "cell_type": "markdown",
   "metadata": {},
   "source": [
    "Add zero fraction samples:"
   ]
  },
  {
   "cell_type": "code",
   "execution_count": 56,
   "metadata": {},
   "outputs": [],
   "source": [
    "full_sample_fractions_df = pd.DataFrame(sample_fractions_df[sample_fractions_df['Response']!='not in use for now'])\n",
    "samples_in_clusters = full_sample_fractions_df[[\"Sample\", 'Cluster']].values.tolist()\n",
    "samples = response_samples + non_response_samples\n",
    "dic_response = {ss:'R' for ss in response_samples}\n",
    "dic_response.update({ss:'NR' for ss in non_response_samples})\n",
    "all_pairs = [[s, cl] for cl in clusters for s in samples]\n",
    "pairs_need_to_add = [pair for pair in all_pairs if not pair in samples_in_clusters]\n",
    "for sample, cluster in pairs_need_to_add:\n",
    "    full_sample_fractions_df = full_sample_fractions_df.append(pd.DataFrame([[sample,cluster, 0, 0, 0, 0, dic_response[sample]]], columns=full_sample_fractions_df.columns))\n",
    "    "
   ]
  },
  {
   "cell_type": "markdown",
   "metadata": {},
   "source": [
    "Visualize:"
   ]
  },
  {
   "cell_type": "code",
   "execution_count": 60,
   "metadata": {},
   "outputs": [
    {
     "data": {
      "image/png": "[encoded data removed]",
      "text/plain": [
       "<Figure size 919.75x432 with 1 Axes>"
      ]
     },
     "metadata": {
      "needs_background": "light"
     },
     "output_type": "display_data"
    },
    {
     "data": {
      "text/plain": [
       "<Figure size 480x240 with 0 Axes>"
      ]
     },
     "metadata": {},
     "output_type": "display_data"
    },
    {
     "data": {
      "image/png": "[encoded data removed]",
      "text/plain": [
       "<Figure size 640x480 with 1 Axes>"
      ]
     },
     "metadata": {
      "needs_background": "light"
     },
     "output_type": "display_data"
    }
   ],
   "source": [
    "sample_fractions_df = sample_fractions_df[[\"Sample\", 'Cluster', 'fraction' , 'Response' ]]\n",
    "full_sample_fractions_df = pd.DataFrame(sample_fractions_df[sample_fractions_df['Response']!='not in use for now'])\n",
    "samples_in_clusters = full_sample_fractions_df[[\"Sample\", 'Cluster']].values.tolist()\n",
    "samples = response_samples + non_response_samples\n",
    "dic_response = {ss:'R' for ss in response_samples}\n",
    "dic_response.update({ss:'NR' for ss in non_response_samples})\n",
    "all_pairs = [[s, cl] for cl in clusters for s in samples]\n",
    "pairs_need_to_add = [pair for pair in all_pairs if not pair in samples_in_clusters]\n",
    "for sample, cluster in pairs_need_to_add:\n",
    "    full_sample_fractions_df = full_sample_fractions_df.append(pd.DataFrame([[sample,cluster, 0, dic_response[sample]]], columns=full_sample_fractions_df.columns))\n",
    "    \n",
    "sns.reset_orig()\n",
    "ax = sns.catplot(kind=\"box\", x='Cluster', y='fraction', hue='Response', data=full_sample_fractions_df, palette=\"Set1\",height=6, aspect=2.0).set(title=\"cluster fraction distribution\")\n",
    "plt.figure(figsize=(6, 3), dpi=80)\n",
    "\n",
    "pvals = []\n",
    "for cluster in set(sample_fractions_df[\"Cluster\"]):\n",
    "    cluster_df = full_sample_fractions_df[full_sample_fractions_df[\"Cluster\"] == cluster]\n",
    "    R_fractions = cluster_df[cluster_df[\"Response\"] == 'R']['fraction'].values\n",
    "    NR_fractions = cluster_df[cluster_df[\"Response\"] == 'NR']['fraction'].values\n",
    "    res = ranksums(R_fractions, NR_fractions)[1]\n",
    "    pvals.append([cluster, res])\n",
    "pvals = np.array(pvals)\n",
    "\n",
    "# Correct pvals\n",
    "pvals[:,1] = multipletests_fdr(pvals[:,1])[1]\n",
    "\n",
    "print_pvals(pvals[:,1], 10)\n",
    "# pvals"
   ]
  },
  {
   "cell_type": "code",
   "execution_count": 31,
   "metadata": {},
   "outputs": [],
   "source": [
    "# pvals"
   ]
  },
  {
   "cell_type": "code",
   "execution_count": 32,
   "metadata": {},
   "outputs": [],
   "source": [
    "# full_sample_fractions_df[full_sample_fractions_df['Cluster']==3].sort_values('fraction')"
   ]
  },
  {
   "cell_type": "markdown",
   "metadata": {},
   "source": [
    "## Examining siginificance difference with differnt values of K in CD8:"
   ]
  },
  {
   "cell_type": "code",
   "execution_count": 10,
   "metadata": {},
   "outputs": [
    {
     "name": "stdout",
     "output_type": "stream",
     "text": [
      "CD8 clustering\n",
      "K=2\n"
     ]
    },
    {
     "data": {
      "image/png": "[encoded data removed]",
      "text/plain": [
       "<Figure size 919.75x432 with 1 Axes>"
      ]
     },
     "metadata": {
      "needs_background": "light"
     },
     "output_type": "display_data"
    },
    {
     "data": {
      "text/plain": [
       "<Figure size 480x240 with 0 Axes>"
      ]
     },
     "metadata": {},
     "output_type": "display_data"
    },
    {
     "data": {
      "image/png": "[encoded data removed]",
      "text/plain": [
       "<Figure size 640x480 with 1 Axes>"
      ]
     },
     "metadata": {
      "needs_background": "light"
     },
     "output_type": "display_data"
    }
   ],
   "source": [
    "# select K\n",
    "K = 2\n",
    "folder = 'CD8'\n",
    "\n",
    "\n",
    "print(f'{folder} clustering')\n",
    "print(f'K={K}')\n",
    "clusters_barcodes_mapping_path = fr'/storage/md_keren/shitay/outputs/clustering/{folder}/kmeans/cohort_26.6.21_run_11.8.21/barcode_mapping/kmeans_immune_cells_4k_genes_k_{K}_clusters_mapping.csv'\n",
    "clusters_barcodes_mapping_df = pd.read_csv(clusters_barcodes_mapping_path)\n",
    "\n",
    "df = clusters_barcodes_mapping_df.drop(columns=['index'])\n",
    "df['Response'] = df['Sample'].apply(lambda x: res_melanoma_clinical_data.loc[x]['response'])\n",
    "\n",
    "n_NR = df['Response'].value_counts()['NR']\n",
    "n_R = df['Response'].value_counts()['R']\n",
    "\n",
    "\n",
    "clusters = df['Cluster'].unique()\n",
    "\n",
    "NR_counts = np.zeros(len(clusters))\n",
    "R_counts = np.zeros(len(clusters))\n",
    "\n",
    "for idx, cluster in enumerate(clusters):\n",
    "    responses = df[df['Cluster']==cluster]['Response']\n",
    "    NR_counts[idx] = sum(responses=='NR')\n",
    "    R_counts[idx] = sum(responses=='R')\n",
    "\n",
    "\n",
    "sample_fractions_df = clusters_barcodes_mapping_df.groupby(['Sample', 'Cluster']).count().reset_index().drop(columns=['index'])\n",
    "sample_counts_df = clusters_barcodes_mapping_df.groupby(['Sample']).count().reset_index().drop(columns=['index', 'Cluster'])\n",
    "sample_fractions_df\n",
    "sample_fractions_df['counts'] = sample_fractions_df.apply(lambda x: sample_counts_df.set_index('Sample').loc[x['Sample']][0], axis=1)\n",
    "sample_fractions_df['fraction'] = sample_fractions_df['Barcode'] / sample_fractions_df['counts'] \n",
    "sample_fractions_df['Response'] = sample_fractions_df['Sample'].apply(lambda x: res_melanoma_clinical_data.loc[x]['response'])\n",
    "\n",
    "\n",
    "\n",
    "full_sample_fractions_df = pd.DataFrame(sample_fractions_df[sample_fractions_df['Response']!='not in use for now'])\n",
    "samples_in_clusters = full_sample_fractions_df[[\"Sample\", 'Cluster']].values.tolist()\n",
    "samples = response_samples + non_response_samples\n",
    "dic_response = {ss:'R' for ss in response_samples}\n",
    "dic_response.update({ss:'NR' for ss in non_response_samples})\n",
    "all_pairs = [[s, cl] for cl in clusters for s in samples]\n",
    "pairs_need_to_add = [pair for pair in all_pairs if not pair in samples_in_clusters]\n",
    "for sample, cluster in pairs_need_to_add:\n",
    "    full_sample_fractions_df = full_sample_fractions_df.append(pd.DataFrame([[sample,cluster, 0, 0, 0, dic_response[sample]]], columns=full_sample_fractions_df.columns))\n",
    "    \n",
    "sns.reset_orig()\n",
    "ax = sns.catplot(kind=\"box\", x='Cluster', y='fraction', hue='Response', data=full_sample_fractions_df, palette=\"Set1\",height=6, aspect=2.0).set(title=\"cluster fraction distribution\")\n",
    "plt.figure(figsize=(6, 3), dpi=80)\n",
    "\n",
    "pvals = []\n",
    "for cluster in set(sample_fractions_df[\"Cluster\"]):\n",
    "    cluster_df = full_sample_fractions_df[full_sample_fractions_df[\"Cluster\"] == cluster]\n",
    "    R_fractions = cluster_df[cluster_df[\"Response\"] == 'R']['fraction'].values\n",
    "    NR_fractions = cluster_df[cluster_df[\"Response\"] == 'NR']['fraction'].values\n",
    "    res = ranksums(R_fractions, NR_fractions)[1]\n",
    "    pvals.append([cluster, res])\n",
    "pvals = np.array(pvals)\n",
    "\n",
    "\n",
    "##################################################\n",
    "################# Correct pvals ##################\n",
    "##################################################\n",
    "\n",
    "# pvals[:,1] = multipletests_fdr(pvals[:,1])[1]\n",
    "\n",
    "print_pvals(pvals[:,1], K)\n",
    "# pvals"
   ]
  },
  {
   "cell_type": "markdown",
   "metadata": {},
   "source": [
    "# Debug"
   ]
  },
  {
   "cell_type": "code",
   "execution_count": 61,
   "metadata": {},
   "outputs": [
    {
     "data": {
      "text/html": [
       "<div>\n",
       "<style scoped>\n",
       "    .dataframe tbody tr th:only-of-type {\n",
       "        vertical-align: middle;\n",
       "    }\n",
       "\n",
       "    .dataframe tbody tr th {\n",
       "        vertical-align: top;\n",
       "    }\n",
       "\n",
       "    .dataframe thead th {\n",
       "        text-align: right;\n",
       "    }\n",
       "</style>\n",
       "<table border=\"1\" class=\"dataframe\">\n",
       "  <thead>\n",
       "    <tr style=\"text-align: right;\">\n",
       "      <th></th>\n",
       "      <th>Clinical response</th>\n",
       "      <th>binary label</th>\n",
       "      <th>number of samples</th>\n",
       "    </tr>\n",
       "  </thead>\n",
       "  <tbody>\n",
       "    <tr>\n",
       "      <th>0</th>\n",
       "      <td>NR</td>\n",
       "      <td>NR</td>\n",
       "      <td>6</td>\n",
       "    </tr>\n",
       "    <tr>\n",
       "      <th>1</th>\n",
       "      <td>NR (PD)</td>\n",
       "      <td>NR</td>\n",
       "      <td>6</td>\n",
       "    </tr>\n",
       "    <tr>\n",
       "      <th>2</th>\n",
       "      <td>??</td>\n",
       "      <td>not in use for now</td>\n",
       "      <td>6</td>\n",
       "    </tr>\n",
       "  </tbody>\n",
       "</table>\n",
       "</div>"
      ],
      "text/plain": [
       "  Clinical response        binary label  number of samples\n",
       "0                NR                  NR                  6\n",
       "1           NR (PD)                  NR                  6\n",
       "2                ??  not in use for now                  6"
      ]
     },
     "metadata": {},
     "output_type": "display_data"
    },
    {
     "data": {
      "text/html": [
       "<div>\n",
       "<style scoped>\n",
       "    .dataframe tbody tr th:only-of-type {\n",
       "        vertical-align: middle;\n",
       "    }\n",
       "\n",
       "    .dataframe tbody tr th {\n",
       "        vertical-align: top;\n",
       "    }\n",
       "\n",
       "    .dataframe thead th {\n",
       "        text-align: right;\n",
       "    }\n",
       "</style>\n",
       "<table border=\"1\" class=\"dataframe\">\n",
       "  <thead>\n",
       "    <tr style=\"text-align: right;\">\n",
       "      <th></th>\n",
       "      <th>#</th>\n",
       "      <th>Patient id</th>\n",
       "      <th>MGH id</th>\n",
       "      <th>Date collected</th>\n",
       "      <th>Sex (F/M)</th>\n",
       "      <th>Age (relevant to time of sample)</th>\n",
       "      <th>Melanoma type</th>\n",
       "      <th>Primary=1; Metastasis=0</th>\n",
       "      <th>Genotype</th>\n",
       "      <th>Therapy(ies) prior to biopsy</th>\n",
       "      <th>Therapy after biopsy</th>\n",
       "      <th>Clinical response</th>\n",
       "      <th>Status (Alive=1/Dead=0)</th>\n",
       "      <th>Biopsy site</th>\n",
       "      <th>Biopsy type (pre, post)</th>\n",
       "      <th>Overall survival (days)</th>\n",
       "      <th>Comments</th>\n",
       "      <th>Cell line (Y; N)</th>\n",
       "      <th>TILs (Y; N)</th>\n",
       "    </tr>\n",
       "  </thead>\n",
       "  <tbody>\n",
       "    <tr>\n",
       "      <th>0</th>\n",
       "      <td>1</td>\n",
       "      <td>M97</td>\n",
       "      <td>1256</td>\n",
       "      <td>2019-10-11</td>\n",
       "      <td>M</td>\n",
       "      <td>79.0</td>\n",
       "      <td>Cutaneous</td>\n",
       "      <td>0</td>\n",
       "      <td>TP63; DDR2; ATM; MAP2K1; HNF1A; TERT</td>\n",
       "      <td>NaN</td>\n",
       "      <td>PD1 (started on 3/31/20)</td>\n",
       "      <td>R</td>\n",
       "      <td>1.0</td>\n",
       "      <td>Left Axillary LN</td>\n",
       "      <td>Pre</td>\n",
       "      <td>NaN</td>\n",
       "      <td>NaN</td>\n",
       "      <td>NaN</td>\n",
       "      <td>NaN</td>\n",
       "    </tr>\n",
       "  </tbody>\n",
       "</table>\n",
       "</div>"
      ],
      "text/plain": [
       "   # Patient id MGH id Date collected Sex (F/M)  \\\n",
       "0  1        M97   1256     2019-10-11         M   \n",
       "\n",
       "   Age (relevant to time of sample) Melanoma type Primary=1; Metastasis=0  \\\n",
       "0                              79.0     Cutaneous                       0   \n",
       "\n",
       "                              Genotype  Therapy(ies) prior to biopsy  \\\n",
       "0  TP63; DDR2; ATM; MAP2K1; HNF1A; TERT                          NaN   \n",
       "\n",
       "       Therapy after biopsy Clinical response  Status (Alive=1/Dead=0)  \\\n",
       "0  PD1 (started on 3/31/20)                 R                      1.0   \n",
       "\n",
       "        Biopsy site Biopsy type (pre, post) Overall survival (days) Comments  \\\n",
       "0  Left Axillary LN                     Pre                     NaN      NaN   \n",
       "\n",
       "  Cell line (Y; N) TILs (Y; N)  \n",
       "0              NaN         NaN  "
      ]
     },
     "metadata": {},
     "output_type": "display_data"
    }
   ],
   "source": [
    "# Loads xlsx files\n",
    "CLINICAL_LABELS_PATH = r'/storage/md_keren/shitay/Data/tables/clinical_labels.xlsx'\n",
    "MELANOMA_CLINICAL_DATA_PATH = r'/storage/md_keren/shitay/Data/tables/Melanoma_clinical_data_OCT_unportected.xlsx'\n",
    "# MELANOMA_CLINICAL_DATA_PATH = r'/storage/md_keren/shitay/Data/tables/edited_unprotected_Melanoma_clinical_data.xlsx'\n",
    "\n",
    "melanoma_clinical_data = pd.read_excel(MELANOMA_CLINICAL_DATA_PATH)\n",
    "clinical_labels = pd.read_excel(CLINICAL_LABELS_PATH)\n",
    "\n",
    "display(clinical_labels.head(3))\n",
    "display(melanoma_clinical_data.head(1))"
   ]
  },
  {
   "cell_type": "code",
   "execution_count": 62,
   "metadata": {},
   "outputs": [
    {
     "data": {
      "text/html": [
       "<div>\n",
       "<style scoped>\n",
       "    .dataframe tbody tr th:only-of-type {\n",
       "        vertical-align: middle;\n",
       "    }\n",
       "\n",
       "    .dataframe tbody tr th {\n",
       "        vertical-align: top;\n",
       "    }\n",
       "\n",
       "    .dataframe thead th {\n",
       "        text-align: right;\n",
       "    }\n",
       "</style>\n",
       "<table border=\"1\" class=\"dataframe\">\n",
       "  <thead>\n",
       "    <tr style=\"text-align: right;\">\n",
       "      <th></th>\n",
       "      <th>Patient id</th>\n",
       "      <th>Clinical response</th>\n",
       "      <th>Melanoma type</th>\n",
       "    </tr>\n",
       "  </thead>\n",
       "  <tbody>\n",
       "    <tr>\n",
       "      <th>0</th>\n",
       "      <td>M97</td>\n",
       "      <td>R</td>\n",
       "      <td>Cutaneous</td>\n",
       "    </tr>\n",
       "    <tr>\n",
       "      <th>1</th>\n",
       "      <td>M98</td>\n",
       "      <td>R (had a response in 2016-2019)</td>\n",
       "      <td>Cutaneous</td>\n",
       "    </tr>\n",
       "    <tr>\n",
       "      <th>2</th>\n",
       "      <td>M99</td>\n",
       "      <td>NR (PD)</td>\n",
       "      <td>Mucosal</td>\n",
       "    </tr>\n",
       "  </tbody>\n",
       "</table>\n",
       "</div>"
      ],
      "text/plain": [
       "  Patient id                Clinical response Melanoma type\n",
       "0        M97                                R     Cutaneous\n",
       "1        M98  R (had a response in 2016-2019)     Cutaneous\n",
       "2        M99                          NR (PD)      Mucosal "
      ]
     },
     "execution_count": 62,
     "metadata": {},
     "output_type": "execute_result"
    }
   ],
   "source": [
    "# takes only first 71 samples, fill Nan and creat dictionary mapping\n",
    "melanoma_clinical_data = melanoma_clinical_data.iloc[:71][['Patient id', 'Clinical response', 'Melanoma type']]\n",
    "melanoma_clinical_data.head(3)"
   ]
  },
  {
   "cell_type": "code",
   "execution_count": 64,
   "metadata": {},
   "outputs": [],
   "source": [
    "# fill Nans\n",
    "melanoma_clinical_data['Melanoma type'] = melanoma_clinical_data['Melanoma type'].fillna('??')\n",
    "melanoma_clinical_data['Clinical response'] = melanoma_clinical_data['Clinical response'].fillna('??')\n",
    "\n",
    "# label mapping using clinical_label table \n",
    "labels_mapping = {v[0]: v[1] for v in clinical_labels[['Clinical response', 'binary label']].values}\n",
    "labels_mapping['R '] = 'R'\n",
    "labels_mapping['PD (NR; for pembro) NR for d+t'] = 'NR'\n",
    "melanoma_clinical_data['response'] = melanoma_clinical_data['Clinical response'].apply(lambda x: labels_mapping[x])\n",
    "\n",
    "melanoma_type_translate = {'Cutaneous': 'Cutaneous', 'Mucosal ': 'Mucosal ', 'Uveal': 'other', 'UN primary': 'other', 'Acral': 'other', 'Unknown': 'other', '??':'other'}\n",
    "melanoma_clinical_data['Melanoma type'] = melanoma_clinical_data['Melanoma type'].apply(lambda rr: melanoma_type_translate[rr])\n",
    "pd.set_option('display.max_rows', None)\n",
    "\n"
   ]
  },
  {
   "cell_type": "code",
   "execution_count": 70,
   "metadata": {},
   "outputs": [
    {
     "data": {
      "text/plain": [
       "Cutaneous    18\n",
       "other         7\n",
       "Name: Melanoma type, dtype: int64"
      ]
     },
     "execution_count": 70,
     "metadata": {},
     "output_type": "execute_result"
    }
   ],
   "source": [
    "# display(melanoma_clinical_data.iloc[46:])\n",
    "melanoma_clinical_data.iloc[46:]['response'].value_counts()\n",
    "melanoma_clinical_data.iloc[46:]['Melanoma type'].value_counts()"
   ]
  },
  {
   "cell_type": "code",
   "execution_count": 87,
   "metadata": {},
   "outputs": [
    {
     "data": {
      "text/html": [
       "<div>\n",
       "<style scoped>\n",
       "    .dataframe tbody tr th:only-of-type {\n",
       "        vertical-align: middle;\n",
       "    }\n",
       "\n",
       "    .dataframe tbody tr th {\n",
       "        vertical-align: top;\n",
       "    }\n",
       "\n",
       "    .dataframe thead th {\n",
       "        text-align: right;\n",
       "    }\n",
       "</style>\n",
       "<table border=\"1\" class=\"dataframe\">\n",
       "  <thead>\n",
       "    <tr style=\"text-align: right;\">\n",
       "      <th></th>\n",
       "      <th>Melanoma type</th>\n",
       "      <th>response</th>\n",
       "      <th>Patient id</th>\n",
       "    </tr>\n",
       "  </thead>\n",
       "  <tbody>\n",
       "    <tr>\n",
       "      <th>0</th>\n",
       "      <td>Cutaneous</td>\n",
       "      <td>NR</td>\n",
       "      <td>23</td>\n",
       "    </tr>\n",
       "    <tr>\n",
       "      <th>1</th>\n",
       "      <td>Cutaneous</td>\n",
       "      <td>R</td>\n",
       "      <td>15</td>\n",
       "    </tr>\n",
       "    <tr>\n",
       "      <th>2</th>\n",
       "      <td>Cutaneous</td>\n",
       "      <td>not in use for now</td>\n",
       "      <td>11</td>\n",
       "    </tr>\n",
       "    <tr>\n",
       "      <th>3</th>\n",
       "      <td>Mucosal</td>\n",
       "      <td>NR</td>\n",
       "      <td>5</td>\n",
       "    </tr>\n",
       "    <tr>\n",
       "      <th>4</th>\n",
       "      <td>Mucosal</td>\n",
       "      <td>R</td>\n",
       "      <td>2</td>\n",
       "    </tr>\n",
       "    <tr>\n",
       "      <th>5</th>\n",
       "      <td>Mucosal</td>\n",
       "      <td>not in use for now</td>\n",
       "      <td>1</td>\n",
       "    </tr>\n",
       "    <tr>\n",
       "      <th>6</th>\n",
       "      <td>other</td>\n",
       "      <td>NR</td>\n",
       "      <td>4</td>\n",
       "    </tr>\n",
       "    <tr>\n",
       "      <th>7</th>\n",
       "      <td>other</td>\n",
       "      <td>R</td>\n",
       "      <td>3</td>\n",
       "    </tr>\n",
       "    <tr>\n",
       "      <th>8</th>\n",
       "      <td>other</td>\n",
       "      <td>not in use for now</td>\n",
       "      <td>7</td>\n",
       "    </tr>\n",
       "  </tbody>\n",
       "</table>\n",
       "</div>"
      ],
      "text/plain": [
       "  Melanoma type            response  Patient id\n",
       "0     Cutaneous                  NR          23\n",
       "1     Cutaneous                   R          15\n",
       "2     Cutaneous  not in use for now          11\n",
       "3      Mucosal                   NR           5\n",
       "4      Mucosal                    R           2\n",
       "5      Mucosal   not in use for now           1\n",
       "6         other                  NR           4\n",
       "7         other                   R           3\n",
       "8         other  not in use for now           7"
      ]
     },
     "execution_count": 87,
     "metadata": {},
     "output_type": "execute_result"
    }
   ],
   "source": [
    "melanoma_clinical_data.iloc[:71].groupby(['Melanoma type', 'response']).count().reset_index().drop(columns=['Clinical response'])."
   ]
  }
 ],
 "metadata": {
  "kernelspec": {
   "display_name": "Python 3",
   "language": "python",
   "name": "python3"
  },
  "language_info": {
   "codemirror_mode": {
    "name": "ipython",
    "version": 3
   },
   "file_extension": ".py",
   "mimetype": "text/x-python",
   "name": "python",
   "nbconvert_exporter": "python",
   "pygments_lexer": "ipython3",
   "version": "3.8.3"
  }
 },
 "nbformat": 4,
 "nbformat_minor": 4
}
