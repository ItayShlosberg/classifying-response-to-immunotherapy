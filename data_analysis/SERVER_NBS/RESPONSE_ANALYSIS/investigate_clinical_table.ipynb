{
 "cells": [
  {
   "cell_type": "code",
   "execution_count": 25,
   "metadata": {},
   "outputs": [],
   "source": [
    "lib = r'/srv01/technion/shitay/Code/classifying_response_to_immunotherapy/'\n",
    "import sys\n",
    "sys.path.append(lib)\n",
    "from utilities.package_importing import *"
   ]
  },
  {
   "cell_type": "code",
   "execution_count": 77,
   "metadata": {},
   "outputs": [],
   "source": [
    "def therapy_translator(x):\n",
    "    if not x or str(x)=='nan':\n",
    "        return 'nothing'\n",
    "    x = str(x).lower()\n",
    "    if 'ipi' in x or 'pembro' in x or 'pembo' in x or 'nivo' in x or 'apd' in x or 'pd1' in x:\n",
    "        return 'ICI'\n",
    "    \n",
    "    elif 'enco' in x or 'd+t' in x:\n",
    "        return 'other therapy'\n",
    "    \n",
    "    elif 'radiation' in x:\n",
    "        return 'other therapy'\n",
    "    \n",
    "    elif 'carbo' in x or 'imatinib' in x or 'tmz' in x or 'tvec' in x or 'cdk4/6' in x :\n",
    "        return 'other immune therapy'\n",
    "    \n",
    "    elif 'surgical ' in x or 'surgery ' in x or 'neodajuvant' in x:\n",
    "        return 'other therapy'\n",
    "       \n",
    "    else:\n",
    "        return x"
   ]
  },
  {
   "cell_type": "markdown",
   "metadata": {},
   "source": [
    "### 1. Loads xlsx files"
   ]
  },
  {
   "cell_type": "code",
   "execution_count": 78,
   "metadata": {},
   "outputs": [
    {
     "data": {
      "text/html": [
       "<div>\n",
       "<style scoped>\n",
       "    .dataframe tbody tr th:only-of-type {\n",
       "        vertical-align: middle;\n",
       "    }\n",
       "\n",
       "    .dataframe tbody tr th {\n",
       "        vertical-align: top;\n",
       "    }\n",
       "\n",
       "    .dataframe thead th {\n",
       "        text-align: right;\n",
       "    }\n",
       "</style>\n",
       "<table border=\"1\" class=\"dataframe\">\n",
       "  <thead>\n",
       "    <tr style=\"text-align: right;\">\n",
       "      <th></th>\n",
       "      <th>Clinical response</th>\n",
       "      <th>binary label</th>\n",
       "      <th>number of samples</th>\n",
       "    </tr>\n",
       "  </thead>\n",
       "  <tbody>\n",
       "    <tr>\n",
       "      <th>0</th>\n",
       "      <td>NR</td>\n",
       "      <td>NR</td>\n",
       "      <td>6</td>\n",
       "    </tr>\n",
       "    <tr>\n",
       "      <th>1</th>\n",
       "      <td>NR (PD)</td>\n",
       "      <td>NR</td>\n",
       "      <td>6</td>\n",
       "    </tr>\n",
       "    <tr>\n",
       "      <th>2</th>\n",
       "      <td>??</td>\n",
       "      <td>not in use for now</td>\n",
       "      <td>6</td>\n",
       "    </tr>\n",
       "  </tbody>\n",
       "</table>\n",
       "</div>"
      ],
      "text/plain": [
       "  Clinical response        binary label  number of samples\n",
       "0                NR                  NR                  6\n",
       "1           NR (PD)                  NR                  6\n",
       "2                ??  not in use for now                  6"
      ]
     },
     "metadata": {},
     "output_type": "display_data"
    },
    {
     "data": {
      "text/html": [
       "<div>\n",
       "<style scoped>\n",
       "    .dataframe tbody tr th:only-of-type {\n",
       "        vertical-align: middle;\n",
       "    }\n",
       "\n",
       "    .dataframe tbody tr th {\n",
       "        vertical-align: top;\n",
       "    }\n",
       "\n",
       "    .dataframe thead th {\n",
       "        text-align: right;\n",
       "    }\n",
       "</style>\n",
       "<table border=\"1\" class=\"dataframe\">\n",
       "  <thead>\n",
       "    <tr style=\"text-align: right;\">\n",
       "      <th></th>\n",
       "      <th>#</th>\n",
       "      <th>Patient id</th>\n",
       "      <th>MGH id</th>\n",
       "      <th>Date collected</th>\n",
       "      <th>Sex (F/M)</th>\n",
       "      <th>Age (relevant to time of sample)</th>\n",
       "      <th>Melanoma type</th>\n",
       "      <th>Primary=1; Metastasis=0</th>\n",
       "      <th>Genotype</th>\n",
       "      <th>Therapy(ies) prior to biopsy</th>\n",
       "      <th>Therapy after biopsy</th>\n",
       "      <th>Clinical response</th>\n",
       "      <th>Status (Alive=1/Dead=0)</th>\n",
       "      <th>Biopsy site</th>\n",
       "      <th>Biopsy type (pre, post)</th>\n",
       "      <th>Overall survival (days)</th>\n",
       "      <th>Comments</th>\n",
       "      <th>Cell line (Y; N)</th>\n",
       "      <th>TILs (Y; N)</th>\n",
       "    </tr>\n",
       "  </thead>\n",
       "  <tbody>\n",
       "    <tr>\n",
       "      <th>0</th>\n",
       "      <td>1</td>\n",
       "      <td>M97</td>\n",
       "      <td>1256</td>\n",
       "      <td>2019-10-11</td>\n",
       "      <td>M</td>\n",
       "      <td>79.0</td>\n",
       "      <td>Cutaneous</td>\n",
       "      <td>0</td>\n",
       "      <td>TP63; DDR2; ATM; MAP2K1; HNF1A; TERT</td>\n",
       "      <td>NaN</td>\n",
       "      <td>PD1 (started on 3/31/20)</td>\n",
       "      <td>R</td>\n",
       "      <td>1.0</td>\n",
       "      <td>Left Axillary LN</td>\n",
       "      <td>Pre</td>\n",
       "      <td>NaN</td>\n",
       "      <td>NaN</td>\n",
       "      <td>NaN</td>\n",
       "      <td>NaN</td>\n",
       "    </tr>\n",
       "  </tbody>\n",
       "</table>\n",
       "</div>"
      ],
      "text/plain": [
       "   # Patient id MGH id Date collected Sex (F/M)  \\\n",
       "0  1        M97   1256     2019-10-11         M   \n",
       "\n",
       "   Age (relevant to time of sample) Melanoma type Primary=1; Metastasis=0  \\\n",
       "0                              79.0     Cutaneous                       0   \n",
       "\n",
       "                              Genotype  Therapy(ies) prior to biopsy  \\\n",
       "0  TP63; DDR2; ATM; MAP2K1; HNF1A; TERT                          NaN   \n",
       "\n",
       "       Therapy after biopsy Clinical response  Status (Alive=1/Dead=0)  \\\n",
       "0  PD1 (started on 3/31/20)                 R                      1.0   \n",
       "\n",
       "        Biopsy site Biopsy type (pre, post) Overall survival (days) Comments  \\\n",
       "0  Left Axillary LN                     Pre                     NaN      NaN   \n",
       "\n",
       "  Cell line (Y; N) TILs (Y; N)  \n",
       "0              NaN         NaN  "
      ]
     },
     "metadata": {},
     "output_type": "display_data"
    }
   ],
   "source": [
    "CLINICAL_LABELS_PATH = r'/storage/md_keren/shitay/Data/tables/clinical_labels.xlsx'\n",
    "MELANOMA_CLINICAL_DATA_PATH = r'/storage/md_keren/shitay/Data/tables/Melanoma_clinical_data_OCT_unportected.xlsx'\n",
    "# MELANOMA_CLINICAL_DATA_PATH = r'/storage/md_keren/shitay/Data/tables/edited_unprotected_Melanoma_clinical_data.xlsx'\n",
    "\n",
    "melanoma_clinical_data = pd.read_excel(MELANOMA_CLINICAL_DATA_PATH)\n",
    "clinical_labels = pd.read_excel(CLINICAL_LABELS_PATH)\n",
    "\n",
    "display(clinical_labels.head(3))\n",
    "display(melanoma_clinical_data.head(1))"
   ]
  },
  {
   "cell_type": "markdown",
   "metadata": {},
   "source": [
    "##### takes only first 71 samples, fill Nan and creat dictionary mapping"
   ]
  },
  {
   "cell_type": "code",
   "execution_count": 79,
   "metadata": {},
   "outputs": [
    {
     "data": {
      "text/html": [
       "<div>\n",
       "<style scoped>\n",
       "    .dataframe tbody tr th:only-of-type {\n",
       "        vertical-align: middle;\n",
       "    }\n",
       "\n",
       "    .dataframe tbody tr th {\n",
       "        vertical-align: top;\n",
       "    }\n",
       "\n",
       "    .dataframe thead th {\n",
       "        text-align: right;\n",
       "    }\n",
       "</style>\n",
       "<table border=\"1\" class=\"dataframe\">\n",
       "  <thead>\n",
       "    <tr style=\"text-align: right;\">\n",
       "      <th></th>\n",
       "      <th>Patient id</th>\n",
       "      <th>Clinical response</th>\n",
       "      <th>Melanoma type</th>\n",
       "      <th>Therapy(ies) prior to biopsy</th>\n",
       "      <th>Therapy after biopsy</th>\n",
       "    </tr>\n",
       "  </thead>\n",
       "  <tbody>\n",
       "    <tr>\n",
       "      <th>0</th>\n",
       "      <td>M97</td>\n",
       "      <td>R</td>\n",
       "      <td>Cutaneous</td>\n",
       "      <td>NaN</td>\n",
       "      <td>PD1 (started on 3/31/20)</td>\n",
       "    </tr>\n",
       "    <tr>\n",
       "      <th>1</th>\n",
       "      <td>M98</td>\n",
       "      <td>R (had a response in 2016-2019)</td>\n",
       "      <td>Cutaneous</td>\n",
       "      <td>aPD1 (progressed on 7/29/19)- 18 cycles, start...</td>\n",
       "      <td>NA (surgical management)</td>\n",
       "    </tr>\n",
       "    <tr>\n",
       "      <th>2</th>\n",
       "      <td>M99</td>\n",
       "      <td>NR (PD)</td>\n",
       "      <td>Mucosal</td>\n",
       "      <td>5/11/17- ipi+nivo; 7/18/17- nivo; 1/8/18- pemb...</td>\n",
       "      <td>TVEC</td>\n",
       "    </tr>\n",
       "  </tbody>\n",
       "</table>\n",
       "</div>"
      ],
      "text/plain": [
       "  Patient id                Clinical response Melanoma type  \\\n",
       "0        M97                                R     Cutaneous   \n",
       "1        M98  R (had a response in 2016-2019)     Cutaneous   \n",
       "2        M99                          NR (PD)      Mucosal    \n",
       "\n",
       "                        Therapy(ies) prior to biopsy      Therapy after biopsy  \n",
       "0                                                NaN  PD1 (started on 3/31/20)  \n",
       "1  aPD1 (progressed on 7/29/19)- 18 cycles, start...  NA (surgical management)  \n",
       "2  5/11/17- ipi+nivo; 7/18/17- nivo; 1/8/18- pemb...                      TVEC  "
      ]
     },
     "execution_count": 79,
     "metadata": {},
     "output_type": "execute_result"
    }
   ],
   "source": [
    "N_SAMPLES = 71\n",
    "melanoma_clinical_data = melanoma_clinical_data.iloc[:N_SAMPLES][['Patient id', 'Clinical response', 'Melanoma type', 'Therapy(ies) prior to biopsy', 'Therapy after biopsy']]\n",
    "melanoma_clinical_data.head(3)"
   ]
  },
  {
   "cell_type": "markdown",
   "metadata": {},
   "source": [
    "##### fill Nans"
   ]
  },
  {
   "cell_type": "code",
   "execution_count": 80,
   "metadata": {},
   "outputs": [],
   "source": [
    "melanoma_clinical_data['Melanoma type'] = melanoma_clinical_data['Melanoma type'].fillna('??')\n",
    "melanoma_clinical_data['Clinical response'] = melanoma_clinical_data['Clinical response'].fillna('??')\n",
    "\n"
   ]
  },
  {
   "cell_type": "markdown",
   "metadata": {},
   "source": [
    "### 2. Convert reponse labels, melanoma type and therapy prior/after biopsy."
   ]
  },
  {
   "cell_type": "markdown",
   "metadata": {},
   "source": [
    "##### Convert response label mapping using clinical_label table "
   ]
  },
  {
   "cell_type": "code",
   "execution_count": 81,
   "metadata": {},
   "outputs": [],
   "source": [
    "labels_mapping = {v[0]: v[1] for v in clinical_labels[['Clinical response', 'binary label']].values}\n",
    "labels_mapping['R '] = 'R'\n",
    "labels_mapping['PD (NR; for pembro) NR for d+t'] = 'NR'\n",
    "melanoma_clinical_data['response'] = melanoma_clinical_data['Clinical response'].apply(lambda x: labels_mapping[x])"
   ]
  },
  {
   "cell_type": "markdown",
   "metadata": {},
   "source": [
    "##### Convert melanoma type"
   ]
  },
  {
   "cell_type": "code",
   "execution_count": 82,
   "metadata": {},
   "outputs": [],
   "source": [
    "melanoma_type_translate = {'Cutaneous': 'Cutaneous', 'Mucosal ': 'Mucosal ', 'Uveal': 'other', 'UN primary': 'other', 'Acral': 'other', 'Unknown': 'other', '??':'other'}\n",
    "melanoma_clinical_data['Melanoma type'] = melanoma_clinical_data['Melanoma type'].apply(lambda rr: melanoma_type_translate[rr])\n"
   ]
  },
  {
   "cell_type": "markdown",
   "metadata": {},
   "source": [
    "##### Convert therapy prior/after biopsy"
   ]
  },
  {
   "cell_type": "code",
   "execution_count": 83,
   "metadata": {},
   "outputs": [],
   "source": [
    "melanoma_clinical_data['prior to biopsy'] = melanoma_clinical_data['Therapy(ies) prior to biopsy'].iloc[:N_SAMPLES].apply(lambda x: therapy_translator(x))\n",
    "melanoma_clinical_data['after biopsy'] = melanoma_clinical_data['Therapy after biopsy'].iloc[:N_SAMPLES].apply(lambda x: therapy_translator(x))\n",
    "melanoma_clinical_data['ICI'] =  (melanoma_clinical_data['prior to biopsy'] == 'ICI') | (melanoma_clinical_data['after biopsy'] == 'ICI')\n",
    "melanoma_clinical_data = melanoma_clinical_data.drop(columns=['Therapy(ies) prior to biopsy', 'Therapy after biopsy', 'Clinical response'])"
   ]
  },
  {
   "cell_type": "markdown",
   "metadata": {},
   "source": [
    "### 3. Visualization"
   ]
  },
  {
   "cell_type": "code",
   "execution_count": 84,
   "metadata": {},
   "outputs": [],
   "source": [
    "###############################\n",
    "sns.reset_orig() # reset size of figure"
   ]
  },
  {
   "cell_type": "markdown",
   "metadata": {},
   "source": [
    "##### 3.1. Response"
   ]
  },
  {
   "cell_type": "code",
   "execution_count": 85,
   "metadata": {},
   "outputs": [
    {
     "data": {
      "text/plain": [
       "{'NR': 32, 'R': 20, 'not in use for now': 19}"
      ]
     },
     "execution_count": 85,
     "metadata": {},
     "output_type": "execute_result"
    },
    {
     "data": {
      "image/png": "[encoded data removed]",
      "text/plain": [
       "<Figure size 360x360 with 1 Axes>"
      ]
     },
     "metadata": {
      "needs_background": "light"
     },
     "output_type": "display_data"
    }
   ],
   "source": [
    "g = sns.catplot(data=melanoma_clinical_data, x='response', kind=\"count\");\n",
    "g.set(yticks=np.arange(0,34,2));\n",
    "dict(melanoma_clinical_data['response'].value_counts())"
   ]
  },
  {
   "cell_type": "markdown",
   "metadata": {},
   "source": [
    "##### 3.1.2. Resposne && ICI treatment"
   ]
  },
  {
   "cell_type": "code",
   "execution_count": 86,
   "metadata": {},
   "outputs": [
    {
     "name": "stdout",
     "output_type": "stream",
     "text": [
      "ICI: {'NR': 31, 'R': 18, 'not in use for now': 4}\n"
     ]
    },
    {
     "data": {
      "image/png": "[encoded data removed]",
      "text/plain": [
       "<Figure size 720x360 with 2 Axes>"
      ]
     },
     "metadata": {
      "needs_background": "light"
     },
     "output_type": "display_data"
    }
   ],
   "source": [
    "g = sns.catplot(data=melanoma_clinical_data, x='response', kind=\"count\", col='ICI');\n",
    "g.set(yticks=np.arange(0,34,2));\n",
    "print(f'ICI:', end=' ')\n",
    "print(dict(melanoma_clinical_data[melanoma_clinical_data['ICI']==True]['response'].value_counts()))"
   ]
  },
  {
   "cell_type": "markdown",
   "metadata": {},
   "source": [
    "##### 3.2. Melanoma type"
   ]
  },
  {
   "cell_type": "code",
   "execution_count": 88,
   "metadata": {},
   "outputs": [
    {
     "data": {
      "text/plain": [
       "{'Cutaneous': 49, 'other': 14, 'Mucosal ': 8}"
      ]
     },
     "execution_count": 88,
     "metadata": {},
     "output_type": "execute_result"
    },
    {
     "data": {
      "image/png": "[encoded data removed]",
      "text/plain": [
       "<Figure size 360x360 with 1 Axes>"
      ]
     },
     "metadata": {
      "needs_background": "light"
     },
     "output_type": "display_data"
    }
   ],
   "source": [
    "g = sns.catplot(data=melanoma_clinical_data, x='Melanoma type', kind=\"count\");\n",
    "g.set(yticks=np.arange(0,50,2));\n",
    "dict(melanoma_clinical_data['Melanoma type'].value_counts())"
   ]
  },
  {
   "cell_type": "markdown",
   "metadata": {},
   "source": [
    "##### 3.2.2. Melanoma type && ICI treatment"
   ]
  },
  {
   "cell_type": "code",
   "execution_count": 90,
   "metadata": {},
   "outputs": [
    {
     "name": "stdout",
     "output_type": "stream",
     "text": [
      "ICI: {'Cutaneous': 39, 'other': 7, 'Mucosal ': 7}\n"
     ]
    },
    {
     "data": {
      "image/png": "[encoded data removed]",
      "text/plain": [
       "<Figure size 720x360 with 2 Axes>"
      ]
     },
     "metadata": {
      "needs_background": "light"
     },
     "output_type": "display_data"
    }
   ],
   "source": [
    "g = sns.catplot(data=melanoma_clinical_data, x='Melanoma type', kind=\"count\", col='ICI');\n",
    "g.set(yticks=np.arange(0,41,2));\n",
    "print(f'ICI:', end=' ')\n",
    "print(dict(melanoma_clinical_data[melanoma_clinical_data['ICI']==True]['Melanoma type'].value_counts()))"
   ]
  },
  {
   "cell_type": "markdown",
   "metadata": {},
   "source": [
    "##### 3.3. Melanoma type && Response"
   ]
  },
  {
   "cell_type": "code",
   "execution_count": 92,
   "metadata": {},
   "outputs": [
    {
     "data": {
      "text/html": [
       "<div>\n",
       "<style scoped>\n",
       "    .dataframe tbody tr th:only-of-type {\n",
       "        vertical-align: middle;\n",
       "    }\n",
       "\n",
       "    .dataframe tbody tr th {\n",
       "        vertical-align: top;\n",
       "    }\n",
       "\n",
       "    .dataframe thead th {\n",
       "        text-align: right;\n",
       "    }\n",
       "</style>\n",
       "<table border=\"1\" class=\"dataframe\">\n",
       "  <thead>\n",
       "    <tr style=\"text-align: right;\">\n",
       "      <th></th>\n",
       "      <th></th>\n",
       "      <th>count</th>\n",
       "    </tr>\n",
       "    <tr>\n",
       "      <th>Melanoma type</th>\n",
       "      <th>response</th>\n",
       "      <th></th>\n",
       "    </tr>\n",
       "  </thead>\n",
       "  <tbody>\n",
       "    <tr>\n",
       "      <th rowspan=\"3\" valign=\"top\">Cutaneous</th>\n",
       "      <th>NR</th>\n",
       "      <td>23</td>\n",
       "    </tr>\n",
       "    <tr>\n",
       "      <th>R</th>\n",
       "      <td>15</td>\n",
       "    </tr>\n",
       "    <tr>\n",
       "      <th>not in use for now</th>\n",
       "      <td>11</td>\n",
       "    </tr>\n",
       "    <tr>\n",
       "      <th rowspan=\"3\" valign=\"top\">Mucosal</th>\n",
       "      <th>NR</th>\n",
       "      <td>5</td>\n",
       "    </tr>\n",
       "    <tr>\n",
       "      <th>R</th>\n",
       "      <td>2</td>\n",
       "    </tr>\n",
       "    <tr>\n",
       "      <th>not in use for now</th>\n",
       "      <td>1</td>\n",
       "    </tr>\n",
       "    <tr>\n",
       "      <th rowspan=\"3\" valign=\"top\">other</th>\n",
       "      <th>NR</th>\n",
       "      <td>4</td>\n",
       "    </tr>\n",
       "    <tr>\n",
       "      <th>R</th>\n",
       "      <td>3</td>\n",
       "    </tr>\n",
       "    <tr>\n",
       "      <th>not in use for now</th>\n",
       "      <td>7</td>\n",
       "    </tr>\n",
       "  </tbody>\n",
       "</table>\n",
       "</div>"
      ],
      "text/plain": [
       "                                  count\n",
       "Melanoma type response                 \n",
       "Cutaneous     NR                     23\n",
       "              R                      15\n",
       "              not in use for now     11\n",
       "Mucosal       NR                      5\n",
       "              R                       2\n",
       "              not in use for now      1\n",
       "other         NR                      4\n",
       "              R                       3\n",
       "              not in use for now      7"
      ]
     },
     "execution_count": 92,
     "metadata": {},
     "output_type": "execute_result"
    },
    {
     "data": {
      "image/png": "[encoded data removed]",
      "text/plain": [
       "<Figure size 486x360 with 1 Axes>"
      ]
     },
     "metadata": {
      "needs_background": "light"
     },
     "output_type": "display_data"
    }
   ],
   "source": [
    "g = sns.catplot(data=melanoma_clinical_data, x='Melanoma type', kind=\"count\", hue='response');\n",
    "g.set(yticks=np.arange(0,25,2));\n",
    "melanoma_clinical_data.drop(columns=['prior to biopsy', 'after biopsy', 'ICI']).groupby(['Melanoma type', 'response']).count().rename(columns={'Patient id':'count'})#.set_index('Melanoma type')"
   ]
  },
  {
   "cell_type": "markdown",
   "metadata": {},
   "source": [
    "##### 3.3.2. Melanoma type && Response && ICI"
   ]
  },
  {
   "cell_type": "code",
   "execution_count": 93,
   "metadata": {},
   "outputs": [
    {
     "data": {
      "text/html": [
       "<div>\n",
       "<style scoped>\n",
       "    .dataframe tbody tr th:only-of-type {\n",
       "        vertical-align: middle;\n",
       "    }\n",
       "\n",
       "    .dataframe tbody tr th {\n",
       "        vertical-align: top;\n",
       "    }\n",
       "\n",
       "    .dataframe thead th {\n",
       "        text-align: right;\n",
       "    }\n",
       "</style>\n",
       "<table border=\"1\" class=\"dataframe\">\n",
       "  <thead>\n",
       "    <tr style=\"text-align: right;\">\n",
       "      <th></th>\n",
       "      <th></th>\n",
       "      <th></th>\n",
       "      <th>count</th>\n",
       "    </tr>\n",
       "    <tr>\n",
       "      <th>ICI</th>\n",
       "      <th>Melanoma type</th>\n",
       "      <th>response</th>\n",
       "      <th></th>\n",
       "    </tr>\n",
       "  </thead>\n",
       "  <tbody>\n",
       "    <tr>\n",
       "      <th rowspan=\"5\" valign=\"top\">False</th>\n",
       "      <th rowspan=\"2\" valign=\"top\">Cutaneous</th>\n",
       "      <th>NR</th>\n",
       "      <td>1</td>\n",
       "    </tr>\n",
       "    <tr>\n",
       "      <th>not in use for now</th>\n",
       "      <td>9</td>\n",
       "    </tr>\n",
       "    <tr>\n",
       "      <th>Mucosal</th>\n",
       "      <th>R</th>\n",
       "      <td>1</td>\n",
       "    </tr>\n",
       "    <tr>\n",
       "      <th rowspan=\"2\" valign=\"top\">other</th>\n",
       "      <th>R</th>\n",
       "      <td>1</td>\n",
       "    </tr>\n",
       "    <tr>\n",
       "      <th>not in use for now</th>\n",
       "      <td>6</td>\n",
       "    </tr>\n",
       "    <tr>\n",
       "      <th rowspan=\"9\" valign=\"top\">True</th>\n",
       "      <th rowspan=\"3\" valign=\"top\">Cutaneous</th>\n",
       "      <th>NR</th>\n",
       "      <td>22</td>\n",
       "    </tr>\n",
       "    <tr>\n",
       "      <th>R</th>\n",
       "      <td>15</td>\n",
       "    </tr>\n",
       "    <tr>\n",
       "      <th>not in use for now</th>\n",
       "      <td>2</td>\n",
       "    </tr>\n",
       "    <tr>\n",
       "      <th rowspan=\"3\" valign=\"top\">Mucosal</th>\n",
       "      <th>NR</th>\n",
       "      <td>5</td>\n",
       "    </tr>\n",
       "    <tr>\n",
       "      <th>R</th>\n",
       "      <td>1</td>\n",
       "    </tr>\n",
       "    <tr>\n",
       "      <th>not in use for now</th>\n",
       "      <td>1</td>\n",
       "    </tr>\n",
       "    <tr>\n",
       "      <th rowspan=\"3\" valign=\"top\">other</th>\n",
       "      <th>NR</th>\n",
       "      <td>4</td>\n",
       "    </tr>\n",
       "    <tr>\n",
       "      <th>R</th>\n",
       "      <td>2</td>\n",
       "    </tr>\n",
       "    <tr>\n",
       "      <th>not in use for now</th>\n",
       "      <td>1</td>\n",
       "    </tr>\n",
       "  </tbody>\n",
       "</table>\n",
       "</div>"
      ],
      "text/plain": [
       "                                        count\n",
       "ICI   Melanoma type response                 \n",
       "False Cutaneous     NR                      1\n",
       "                    not in use for now      9\n",
       "      Mucosal       R                       1\n",
       "      other         R                       1\n",
       "                    not in use for now      6\n",
       "True  Cutaneous     NR                     22\n",
       "                    R                      15\n",
       "                    not in use for now      2\n",
       "      Mucosal       NR                      5\n",
       "                    R                       1\n",
       "                    not in use for now      1\n",
       "      other         NR                      4\n",
       "                    R                       2\n",
       "                    not in use for now      1"
      ]
     },
     "execution_count": 93,
     "metadata": {},
     "output_type": "execute_result"
    },
    {
     "data": {
      "image/png": "[encoded data removed]",
      "text/plain": [
       "<Figure size 846x360 with 2 Axes>"
      ]
     },
     "metadata": {
      "needs_background": "light"
     },
     "output_type": "display_data"
    }
   ],
   "source": [
    "pd.set_option('display.max_rows', None)\n",
    "g = sns.catplot(data=melanoma_clinical_data, x='Melanoma type', kind=\"count\", hue='response', col='ICI');\n",
    "g.set(yticks=np.arange(0,25,2));\n",
    "# melanoma_clinical_data[melanoma_clinical_data[\"ICI\"]==True].groupby(['Melanoma type', 'response']).count().reset_index().drop(columns=['prior to biopsy', 'after biopsy', 'ICI']).rename(columns={'Patient id':'count'}).set_index('Melanoma type')\n",
    "melanoma_clinical_data.groupby(['ICI','Melanoma type', 'response']).count().drop(columns=['prior to biopsy', 'after biopsy']).rename(columns={'Patient id':'count'})"
   ]
  },
  {
   "cell_type": "code",
   "execution_count": 94,
   "metadata": {},
   "outputs": [],
   "source": [
    "# melanoma_clinical_data"
   ]
  },
  {
   "cell_type": "code",
   "execution_count": null,
   "metadata": {},
   "outputs": [],
   "source": []
  },
  {
   "cell_type": "code",
   "execution_count": null,
   "metadata": {},
   "outputs": [],
   "source": []
  },
  {
   "cell_type": "markdown",
   "metadata": {},
   "source": [
    "# DEBUG"
   ]
  },
  {
   "cell_type": "code",
   "execution_count": 74,
   "metadata": {},
   "outputs": [],
   "source": [
    "melanoma_clinical_data[\"IPI+NIVO\"] = melanoma_clinical_data[\"ICI\"]"
   ]
  },
  {
   "cell_type": "code",
   "execution_count": 75,
   "metadata": {},
   "outputs": [
    {
     "data": {
      "text/html": [
       "<div>\n",
       "<style scoped>\n",
       "    .dataframe tbody tr th:only-of-type {\n",
       "        vertical-align: middle;\n",
       "    }\n",
       "\n",
       "    .dataframe tbody tr th {\n",
       "        vertical-align: top;\n",
       "    }\n",
       "\n",
       "    .dataframe thead th {\n",
       "        text-align: right;\n",
       "    }\n",
       "</style>\n",
       "<table border=\"1\" class=\"dataframe\">\n",
       "  <thead>\n",
       "    <tr style=\"text-align: right;\">\n",
       "      <th></th>\n",
       "      <th></th>\n",
       "      <th></th>\n",
       "      <th>count</th>\n",
       "    </tr>\n",
       "    <tr>\n",
       "      <th>IPI+NIVO</th>\n",
       "      <th>Melanoma type</th>\n",
       "      <th>response</th>\n",
       "      <th></th>\n",
       "    </tr>\n",
       "  </thead>\n",
       "  <tbody>\n",
       "    <tr>\n",
       "      <th rowspan=\"8\" valign=\"top\">False</th>\n",
       "      <th rowspan=\"3\" valign=\"top\">Cutaneous</th>\n",
       "      <th>NR</th>\n",
       "      <td>9</td>\n",
       "    </tr>\n",
       "    <tr>\n",
       "      <th>R</th>\n",
       "      <td>10</td>\n",
       "    </tr>\n",
       "    <tr>\n",
       "      <th>not in use for now</th>\n",
       "      <td>11</td>\n",
       "    </tr>\n",
       "    <tr>\n",
       "      <th rowspan=\"2\" valign=\"top\">Mucosal</th>\n",
       "      <th>R</th>\n",
       "      <td>1</td>\n",
       "    </tr>\n",
       "    <tr>\n",
       "      <th>not in use for now</th>\n",
       "      <td>1</td>\n",
       "    </tr>\n",
       "    <tr>\n",
       "      <th rowspan=\"3\" valign=\"top\">other</th>\n",
       "      <th>NR</th>\n",
       "      <td>3</td>\n",
       "    </tr>\n",
       "    <tr>\n",
       "      <th>R</th>\n",
       "      <td>2</td>\n",
       "    </tr>\n",
       "    <tr>\n",
       "      <th>not in use for now</th>\n",
       "      <td>6</td>\n",
       "    </tr>\n",
       "    <tr>\n",
       "      <th rowspan=\"7\" valign=\"top\">True</th>\n",
       "      <th rowspan=\"2\" valign=\"top\">Cutaneous</th>\n",
       "      <th>NR</th>\n",
       "      <td>14</td>\n",
       "    </tr>\n",
       "    <tr>\n",
       "      <th>R</th>\n",
       "      <td>5</td>\n",
       "    </tr>\n",
       "    <tr>\n",
       "      <th rowspan=\"2\" valign=\"top\">Mucosal</th>\n",
       "      <th>NR</th>\n",
       "      <td>5</td>\n",
       "    </tr>\n",
       "    <tr>\n",
       "      <th>R</th>\n",
       "      <td>1</td>\n",
       "    </tr>\n",
       "    <tr>\n",
       "      <th rowspan=\"3\" valign=\"top\">other</th>\n",
       "      <th>NR</th>\n",
       "      <td>1</td>\n",
       "    </tr>\n",
       "    <tr>\n",
       "      <th>R</th>\n",
       "      <td>1</td>\n",
       "    </tr>\n",
       "    <tr>\n",
       "      <th>not in use for now</th>\n",
       "      <td>1</td>\n",
       "    </tr>\n",
       "  </tbody>\n",
       "</table>\n",
       "</div>"
      ],
      "text/plain": [
       "                                           count\n",
       "IPI+NIVO Melanoma type response                 \n",
       "False    Cutaneous     NR                      9\n",
       "                       R                      10\n",
       "                       not in use for now     11\n",
       "         Mucosal       R                       1\n",
       "                       not in use for now      1\n",
       "         other         NR                      3\n",
       "                       R                       2\n",
       "                       not in use for now      6\n",
       "True     Cutaneous     NR                     14\n",
       "                       R                       5\n",
       "         Mucosal       NR                      5\n",
       "                       R                       1\n",
       "         other         NR                      1\n",
       "                       R                       1\n",
       "                       not in use for now      1"
      ]
     },
     "execution_count": 76,
     "metadata": {},
     "output_type": "execute_result"
    },
    {
     "data": {
      "image/png": "[encoded data removed]",
      "text/plain": [
       "<Figure size 846x360 with 2 Axes>"
      ]
     },
     "metadata": {
      "needs_background": "light"
     },
     "output_type": "display_data"
    }
   ],
   "source": [
    "pd.set_option('display.max_rows', None)\n",
    "g = sns.catplot(data=melanoma_clinical_data, x='Melanoma type', kind=\"count\", hue='response', col=\"IPI+NIVO\");\n",
    "g.set(yticks=np.arange(0,25,2));\n",
    "# melanoma_clinical_data[melanoma_clinical_data[\"ICI\"]==True].groupby(['Melanoma type', 'response']).count().reset_index().drop(columns=['prior to biopsy', 'after biopsy', 'ICI']).rename(columns={'Patient id':'count'}).set_index('Melanoma type')\n",
    "melanoma_clinical_data.groupby([\"IPI+NIVO\",'Melanoma type', 'response']).count().drop(columns=['prior to biopsy', 'after biopsy', 'ICI']).rename(columns={'Patient id':'count'})"
   ]
  },
  {
   "cell_type": "code",
   "execution_count": 83,
   "metadata": {},
   "outputs": [
    {
     "name": "stdout",
     "output_type": "stream",
     "text": [
      "ICI\n"
     ]
    },
    {
     "data": {
      "text/html": [
       "<div>\n",
       "<style scoped>\n",
       "    .dataframe tbody tr th:only-of-type {\n",
       "        vertical-align: middle;\n",
       "    }\n",
       "\n",
       "    .dataframe tbody tr th {\n",
       "        vertical-align: top;\n",
       "    }\n",
       "\n",
       "    .dataframe thead th {\n",
       "        text-align: right;\n",
       "    }\n",
       "</style>\n",
       "<table border=\"1\" class=\"dataframe\">\n",
       "  <thead>\n",
       "    <tr style=\"text-align: right;\">\n",
       "      <th></th>\n",
       "      <th>response</th>\n",
       "      <th>count</th>\n",
       "    </tr>\n",
       "    <tr>\n",
       "      <th>Melanoma type</th>\n",
       "      <th></th>\n",
       "      <th></th>\n",
       "    </tr>\n",
       "  </thead>\n",
       "  <tbody>\n",
       "    <tr>\n",
       "      <th>Cutaneous</th>\n",
       "      <td>NR</td>\n",
       "      <td>22</td>\n",
       "    </tr>\n",
       "    <tr>\n",
       "      <th>Cutaneous</th>\n",
       "      <td>R</td>\n",
       "      <td>15</td>\n",
       "    </tr>\n",
       "    <tr>\n",
       "      <th>Cutaneous</th>\n",
       "      <td>not in use for now</td>\n",
       "      <td>2</td>\n",
       "    </tr>\n",
       "    <tr>\n",
       "      <th>Mucosal</th>\n",
       "      <td>NR</td>\n",
       "      <td>5</td>\n",
       "    </tr>\n",
       "    <tr>\n",
       "      <th>Mucosal</th>\n",
       "      <td>R</td>\n",
       "      <td>1</td>\n",
       "    </tr>\n",
       "    <tr>\n",
       "      <th>Mucosal</th>\n",
       "      <td>not in use for now</td>\n",
       "      <td>1</td>\n",
       "    </tr>\n",
       "    <tr>\n",
       "      <th>other</th>\n",
       "      <td>NR</td>\n",
       "      <td>4</td>\n",
       "    </tr>\n",
       "    <tr>\n",
       "      <th>other</th>\n",
       "      <td>R</td>\n",
       "      <td>2</td>\n",
       "    </tr>\n",
       "    <tr>\n",
       "      <th>other</th>\n",
       "      <td>not in use for now</td>\n",
       "      <td>1</td>\n",
       "    </tr>\n",
       "  </tbody>\n",
       "</table>\n",
       "</div>"
      ],
      "text/plain": [
       "                         response  count\n",
       "Melanoma type                           \n",
       "Cutaneous                      NR     22\n",
       "Cutaneous                       R     15\n",
       "Cutaneous      not in use for now      2\n",
       "Mucosal                        NR      5\n",
       "Mucosal                         R      1\n",
       "Mucosal        not in use for now      1\n",
       "other                          NR      4\n",
       "other                           R      2\n",
       "other          not in use for now      1"
      ]
     },
     "metadata": {},
     "output_type": "display_data"
    },
    {
     "name": "stdout",
     "output_type": "stream",
     "text": [
      "NOT ICI\n"
     ]
    },
    {
     "data": {
      "text/html": [
       "<div>\n",
       "<style scoped>\n",
       "    .dataframe tbody tr th:only-of-type {\n",
       "        vertical-align: middle;\n",
       "    }\n",
       "\n",
       "    .dataframe tbody tr th {\n",
       "        vertical-align: top;\n",
       "    }\n",
       "\n",
       "    .dataframe thead th {\n",
       "        text-align: right;\n",
       "    }\n",
       "</style>\n",
       "<table border=\"1\" class=\"dataframe\">\n",
       "  <thead>\n",
       "    <tr style=\"text-align: right;\">\n",
       "      <th></th>\n",
       "      <th>response</th>\n",
       "      <th>count</th>\n",
       "    </tr>\n",
       "    <tr>\n",
       "      <th>Melanoma type</th>\n",
       "      <th></th>\n",
       "      <th></th>\n",
       "    </tr>\n",
       "  </thead>\n",
       "  <tbody>\n",
       "    <tr>\n",
       "      <th>Cutaneous</th>\n",
       "      <td>NR</td>\n",
       "      <td>1</td>\n",
       "    </tr>\n",
       "    <tr>\n",
       "      <th>Cutaneous</th>\n",
       "      <td>not in use for now</td>\n",
       "      <td>9</td>\n",
       "    </tr>\n",
       "    <tr>\n",
       "      <th>Mucosal</th>\n",
       "      <td>R</td>\n",
       "      <td>1</td>\n",
       "    </tr>\n",
       "    <tr>\n",
       "      <th>other</th>\n",
       "      <td>R</td>\n",
       "      <td>1</td>\n",
       "    </tr>\n",
       "    <tr>\n",
       "      <th>other</th>\n",
       "      <td>not in use for now</td>\n",
       "      <td>6</td>\n",
       "    </tr>\n",
       "  </tbody>\n",
       "</table>\n",
       "</div>"
      ],
      "text/plain": [
       "                         response  count\n",
       "Melanoma type                           \n",
       "Cutaneous                      NR      1\n",
       "Cutaneous      not in use for now      9\n",
       "Mucosal                         R      1\n",
       "other                           R      1\n",
       "other          not in use for now      6"
      ]
     },
     "metadata": {},
     "output_type": "display_data"
    }
   ],
   "source": [
    "print(f'ICI')\n",
    "display(melanoma_clinical_data[melanoma_clinical_data['ICI']==True].groupby(['Melanoma type', 'response']).count().reset_index().drop(columns=['prior to biopsy', 'after biopsy', 'ICI']).rename(columns={'Patient id':'count'}).set_index('Melanoma type'))\n",
    "print(f'NOT ICI')\n",
    "display(melanoma_clinical_data[melanoma_clinical_data['ICI']==False].groupby(['Melanoma type', 'response']).count().reset_index().drop(columns=['prior to biopsy', 'after biopsy', 'ICI']).rename(columns={'Patient id':'count'}).set_index('Melanoma type'))"
   ]
  },
  {
   "cell_type": "code",
   "execution_count": null,
   "metadata": {},
   "outputs": [],
   "source": []
  },
  {
   "cell_type": "code",
   "execution_count": null,
   "metadata": {},
   "outputs": [],
   "source": []
  },
  {
   "cell_type": "code",
   "execution_count": null,
   "metadata": {},
   "outputs": [],
   "source": []
  },
  {
   "cell_type": "code",
   "execution_count": null,
   "metadata": {},
   "outputs": [],
   "source": []
  },
  {
   "cell_type": "code",
   "execution_count": null,
   "metadata": {},
   "outputs": [],
   "source": []
  },
  {
   "cell_type": "code",
   "execution_count": 11,
   "metadata": {},
   "outputs": [],
   "source": [
    "from utilities.clinical_data import *\n",
    "get_clinical_data(melanoma_type=['Mucosal'])"
   ]
  }
 ],
 "metadata": {
  "kernelspec": {
   "display_name": "Python 3",
   "language": "python",
   "name": "python3"
  },
  "language_info": {
   "codemirror_mode": {
    "name": "ipython",
    "version": 3
   },
   "file_extension": ".py",
   "mimetype": "text/x-python",
   "name": "python",
   "nbconvert_exporter": "python",
   "pygments_lexer": "ipython3",
   "version": "3.8.3"
  }
 },
 "nbformat": 4,
 "nbformat_minor": 4
}
