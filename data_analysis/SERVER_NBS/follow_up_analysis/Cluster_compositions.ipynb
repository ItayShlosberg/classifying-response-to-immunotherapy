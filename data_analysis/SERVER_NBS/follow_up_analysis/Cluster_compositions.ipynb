{
 "cells": [
  {
   "cell_type": "markdown",
   "metadata": {},
   "source": [
    "# Cluster compositions\n",
    "\n",
    "Check cluster proporites to explore cell-types in clusters"
   ]
  },
  {
   "cell_type": "code",
   "execution_count": 2,
   "metadata": {},
   "outputs": [],
   "source": [
    "lib = r'/srv01/technion/shitay/Code/classifying_response_to_immunotherapy/'\n",
    "import sys\n",
    "sys.path.append(lib)\n",
    "from utilities.package_importing import *\n",
    "import scipy.stats as stats\n",
    "import warnings \n",
    "warnings.filterwarnings(\"ignore\")"
   ]
  },
  {
   "cell_type": "markdown",
   "metadata": {},
   "source": [
    "#### load immune cohort:"
   ]
  },
  {
   "cell_type": "code",
   "execution_count": 3,
   "metadata": {},
   "outputs": [],
   "source": [
    "COHORT_PATH = r'/storage/md_keren/shitay/Data/droplet_seq/M97_M173/cohort/normalized/5.5.22/immune_cells_normalized_5.5.22_4k_genes.pkl'\n",
    "cohort = pickle.load(open(COHORT_PATH, 'rb'))\n"
   ]
  },
  {
   "cell_type": "markdown",
   "metadata": {},
   "source": [
    "#### Filter myeloid cohort"
   ]
  },
  {
   "cell_type": "code",
   "execution_count": 4,
   "metadata": {},
   "outputs": [
    {
     "name": "stdout",
     "output_type": "stream",
     "text": [
      "Will be performed on myeloids\n",
      "IMMUNE CLUSTERING in path \t /storage/md_keren/shitay/outputs/clustering/immune/summary/4.11.21/immune_kmeans_integrated_4.11.21_clusters_mapping.csv \t is used for defining which cells are myeloids\n",
      "Cluster 5 is defined to be myeloids\n"
     ]
    }
   ],
   "source": [
    "myeloid_cohort = get_requested_subset(cohort, 'MYELOIDS')"
   ]
  },
  {
   "cell_type": "code",
   "execution_count": 5,
   "metadata": {},
   "outputs": [],
   "source": [
    "MYELOID_COHORT_PATH = r'/storage/md_keren/shitay/Data/droplet_seq/M97_M173/cohort/normalized/5.5.22/myeloid_cells_normalized_5.5.22_4k_genes.pkl'\n",
    "\n",
    "pickle.dump((myeloid_cohort), open(MYELOID_COHORT_PATH, 'wb'), protocol=4)"
   ]
  },
  {
   "cell_type": "markdown",
   "metadata": {},
   "source": [
    "#### Load myeloid cohort:"
   ]
  },
  {
   "cell_type": "code",
   "execution_count": null,
   "metadata": {},
   "outputs": [],
   "source": [
    "MYELOID_COHORT_PATH = r'/storage/md_keren/shitay/Data/droplet_seq/M97_M173/cohort/normalized/5.5.22/myeloid_cells_normalized_5.5.22_4k_genes.pkl'\n",
    "\n",
    "myeloid_cohort = pickle.load(open(MYELOID_COHORT_PATH, 'rb'))"
   ]
  },
  {
   "cell_type": "markdown",
   "metadata": {},
   "source": [
    "#### Load cluster mapping df:"
   ]
  },
  {
   "cell_type": "code",
   "execution_count": 7,
   "metadata": {},
   "outputs": [
    {
     "data": {
      "text/plain": [
       "26991"
      ]
     },
     "execution_count": 7,
     "metadata": {},
     "output_type": "execute_result"
    }
   ],
   "source": [
    "myeloid_cohort.number_of_cells"
   ]
  },
  {
   "cell_type": "code",
   "execution_count": 9,
   "metadata": {},
   "outputs": [],
   "source": [
    "# CD8_CLUSTERING_PATH = r'/storage/md_keren/shitay/outputs/clustering/CD8/summary/4.11.21/CD8_kmeans_integrated_4.11.21_clusters_mapping.csv'\n",
    "# CD8_ANNOTATION_PATH = r'/storage/md_keren/shitay/Data/tables/clustering_annotations/cohort_4.11.21/python_format/CD8_clustering_11.8.21_ann.xlsx'\n",
    "# CD8_clustering_mapping_barcodes, CD8_annotations, CD8_cluster_fraction = get_clustering_data(CD8_CLUSTERING_PATH, melanoma_clinical_data, CD8_ANNOTATION_PATH)\n",
    "myeloid_CLUSTERING_PATH = r'/storage/md_keren/shitay/outputs/clustering/myeloid/summary/4.11.21/myeloid_kmeans_integrated_4.11.21_clusters_mapping.csv'\n",
    "myeloid_mapping_barcodes = pd.read_csv(myeloid_CLUSTERING_PATH)\n",
    "myeloid_mapping_barcodes = myeloid_mapping_barcodes.drop(columns=[col for col in myeloid_mapping_barcodes.columns if not col in ['Sample', 'Barcode', 'Cluster']])\n"
   ]
  },
  {
   "cell_type": "code",
   "execution_count": 15,
   "metadata": {},
   "outputs": [],
   "source": [
    "CLUSTER_IDX = 1\n",
    "cluster_filtered_df = myeloid_mapping_barcodes[myeloid_mapping_barcodes.Cluster == CLUSTER_IDX]\n",
    "cluster_cohort = myeloid_cohort.get_subset_by_identifiers(cluster_filtered_df.Sample, cluster_filtered_df.Barcode)"
   ]
  },
  {
   "cell_type": "code",
   "execution_count": 19,
   "metadata": {},
   "outputs": [
    {
     "ename": "AttributeError",
     "evalue": "'Cohort_RNAseq' object has no attribute 'tsne_X'",
     "output_type": "error",
     "traceback": [
      "\u001b[0;31m---------------------------------------------------------------------------\u001b[0m",
      "\u001b[0;31mAttributeError\u001b[0m                            Traceback (most recent call last)",
      "\u001b[0;32m<ipython-input-19-8a90cc514474>\u001b[0m in \u001b[0;36m<module>\u001b[0;34m\u001b[0m\n\u001b[0;32m----> 1\u001b[0;31m \u001b[0mmyeloid_cohort\u001b[0m\u001b[0;34m.\u001b[0m\u001b[0mplot_tsne_gene\u001b[0m\u001b[0;34m(\u001b[0m\u001b[0;34m'CD69'\u001b[0m\u001b[0;34m)\u001b[0m\u001b[0;34m\u001b[0m\u001b[0;34m\u001b[0m\u001b[0m\n\u001b[0m",
      "\u001b[0;32m~/Code/classifying_response_to_immunotherapy/utilities/droplet_dataset.py\u001b[0m in \u001b[0;36mplot_tsne_gene\u001b[0;34m(self, gene_name, cmap)\u001b[0m\n\u001b[1;32m    523\u001b[0m             \u001b[0mcmap\u001b[0m \u001b[0;34m=\u001b[0m \u001b[0mpickle\u001b[0m\u001b[0;34m.\u001b[0m\u001b[0mload\u001b[0m\u001b[0;34m(\u001b[0m\u001b[0mopen\u001b[0m\u001b[0;34m(\u001b[0m\u001b[0;34mr'/storage/md_keren/shitay/garbage/cmap.pkl'\u001b[0m\u001b[0;34m,\u001b[0m \u001b[0;34m'rb'\u001b[0m\u001b[0;34m)\u001b[0m\u001b[0;34m)\u001b[0m\u001b[0;34m\u001b[0m\u001b[0;34m\u001b[0m\u001b[0m\n\u001b[1;32m    524\u001b[0m         \u001b[0mgene_idx\u001b[0m \u001b[0;34m=\u001b[0m\u001b[0mself\u001b[0m\u001b[0;34m.\u001b[0m\u001b[0mgene_names\u001b[0m\u001b[0;34m.\u001b[0m\u001b[0mindex\u001b[0m\u001b[0;34m(\u001b[0m\u001b[0mgene_name\u001b[0m\u001b[0;34m)\u001b[0m\u001b[0;34m\u001b[0m\u001b[0;34m\u001b[0m\u001b[0m\n\u001b[0;32m--> 525\u001b[0;31m         sc = plt.scatter(self.tsne_X, self.tsne_Y, cmap=cmap,\n\u001b[0m\u001b[1;32m    526\u001b[0m                          c=self.zscore_nor_gene_exp[:, gene_idx], vmin=0, vmax=1., s=0.5, edgecolor='none');\n\u001b[1;32m    527\u001b[0m         \u001b[0mplt\u001b[0m\u001b[0;34m.\u001b[0m\u001b[0mcolorbar\u001b[0m\u001b[0;34m(\u001b[0m\u001b[0msc\u001b[0m\u001b[0;34m)\u001b[0m\u001b[0;34m;\u001b[0m\u001b[0;34m\u001b[0m\u001b[0;34m\u001b[0m\u001b[0m\n",
      "\u001b[0;31mAttributeError\u001b[0m: 'Cohort_RNAseq' object has no attribute 'tsne_X'"
     ]
    }
   ],
   "source": [
    "myeloid_cohort.plot_tsne_gene('CD69')"
   ]
  }
 ],
 "metadata": {
  "kernelspec": {
   "display_name": "Python 3",
   "language": "python",
   "name": "python3"
  },
  "language_info": {
   "codemirror_mode": {
    "name": "ipython",
    "version": 3
   },
   "file_extension": ".py",
   "mimetype": "text/x-python",
   "name": "python",
   "nbconvert_exporter": "python",
   "pygments_lexer": "ipython3",
   "version": "3.8.12"
  }
 },
 "nbformat": 4,
 "nbformat_minor": 4
}
