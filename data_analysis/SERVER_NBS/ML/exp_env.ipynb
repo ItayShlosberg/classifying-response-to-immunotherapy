{
 "cells": [
  {
   "cell_type": "code",
   "execution_count": 1,
   "metadata": {},
   "outputs": [],
   "source": [
    "lib = r'/srv01/technion/shitay/Code/classifying_response_to_immunotherapy/'\n",
    "import sys\n",
    "sys.path.append(lib)\n",
    "from utilities.package_importing import *\n",
    "import scipy.stats as stats\n",
    "import xgboost as xgb\n",
    "from MachineLearning.ML_utilities.dataloder import *\n",
    "from MachineLearning.ML_utilities.general_utilities import *\n",
    "from MachineLearning.Models.enhanced_xgboost import *"
   ]
  },
  {
   "cell_type": "code",
   "execution_count": null,
   "metadata": {},
   "outputs": [],
   "source": []
  },
  {
   "cell_type": "code",
   "execution_count": 10,
   "metadata": {},
   "outputs": [],
   "source": [
    "EXP_FOLDER = r'/storage/md_keren/shitay/outputs/ML/DEBUG'\n",
    "\n",
    "COHORT_PATH = r'/storage/md_keren/shitay/Data/droplet_seq/M97_M173/cohort/normalized/16.3.22/immune_cells_normalized_16.3.22_4k_genes.pkl'\n",
    "SPLIT_DATA_PATH = r'/storage/md_keren/shitay/Data/tables/ML/split_into_test_val_train_sets/cluster_mapping'\n",
    "CLUSTER_NUM = 13 # cluster 13 - all clusters combined\n",
    "MARKERS_FOLDER_PATH = r'/storage/md_keren/shitay/outputs/response_analysis/integrated_cohort_4.11.21'\n",
    "\n",
    "\n",
    "### XGBOOST:\n",
    "NUM_ROUND =  40\n",
    "MAX_DEPTH = 5\n",
    "EARLY_STOPPING_ROUNDS =  5\n"
   ]
  },
  {
   "cell_type": "code",
   "execution_count": 11,
   "metadata": {},
   "outputs": [],
   "source": [
    "def use_markers_to_filter_cohort(cohort, MARKERS_FOLDER_PATH):\n",
    "    NON_RESPONSE_MARKER_PATH = join(MARKERS_FOLDER_PATH, r'non_response_immune_markers.xlsx')\n",
    "    RESPONSE_MARKER_PATH = join(MARKERS_FOLDER_PATH, r'response_immune_markers.xlsx')\n",
    "    non_response_markers = pd.read_excel(NON_RESPONSE_MARKER_PATH)\n",
    "    response_markers = pd.read_excel(RESPONSE_MARKER_PATH)\n",
    "    response_markers_indexes = [cohort.features.index(feature) for feature in response_markers.features if feature in cohort.features]\n",
    "    non_response_markers_indexes = [cohort.features.index(feature) for feature in non_response_markers.features if feature in cohort.features]\n",
    "    marker_indexes = response_markers_indexes + non_response_markers_indexes[:66]\n",
    "    cohort.filter_gene_by_indexes(marker_indexes)\n",
    "\n",
    "def build_datasets(cohort):\n",
    "    # extracts params.\n",
    "    if MARKERS_FOLDER_PATH:\n",
    "        use_markers_to_filter_cohort(cohort, MARKERS_FOLDER_PATH)\n",
    "    data_loader = Droplet_data_manager(cohort, SPLIT_DATA_PATH, CLUSTER_NUM)\n",
    "    return data_loader\n"
   ]
  },
  {
   "cell_type": "code",
   "execution_count": 12,
   "metadata": {},
   "outputs": [],
   "source": [
    "cohort = pickle.load(open(COHORT_PATH, 'rb'))"
   ]
  },
  {
   "cell_type": "code",
   "execution_count": 13,
   "metadata": {},
   "outputs": [
    {
     "name": "stdout",
     "output_type": "stream",
     "text": [
      "Dataset was cleared, left with 100 genes with variance of less than\n",
      "Using clinical table in path:\n",
      " /storage/md_keren/shitay/Data/tables/clinical_tables/Melanoma_clinical_data_3.22_unprotected.xlsx\n",
      "\n",
      "and labels:\n",
      "/storage/md_keren/shitay/Data/tables/clinical_tables/clinical_labels.csv\n"
     ]
    }
   ],
   "source": [
    "data_loader = build_datasets(cohort)\n",
    "x_train, x_test, y_train, y_test = data_loader.train_X, data_loader.test_X, data_loader.train_Y, data_loader.test_Y\n",
    "x_val, y_val = data_loader.validation_X, data_loader.validation_Y\n",
    "feature_names = data_loader.feature_names\n",
    "\n"
   ]
  },
  {
   "cell_type": "code",
   "execution_count": 14,
   "metadata": {},
   "outputs": [],
   "source": [
    "model = NGModel(feature_names, NUM_ROUND, EARLY_STOPPING_ROUNDS, MAX_DEPTH)"
   ]
  },
  {
   "cell_type": "code",
   "execution_count": 15,
   "metadata": {},
   "outputs": [],
   "source": [
    "model.train(x_train, y_train, x_val, y_val, verbose=False)\n"
   ]
  },
  {
   "cell_type": "code",
   "execution_count": 16,
   "metadata": {},
   "outputs": [],
   "source": [
    "# xgb.plot_tree(model.model, num_trees=2)\n",
    "# plt.show()"
   ]
  },
  {
   "cell_type": "code",
   "execution_count": null,
   "metadata": {},
   "outputs": [],
   "source": [
    "## cluster 13 (all) with gene marker filter"
   ]
  },
  {
   "cell_type": "code",
   "execution_count": 17,
   "metadata": {},
   "outputs": [
    {
     "name": "stdout",
     "output_type": "stream",
     "text": [
      "Train inference\n",
      "------------------------\n",
      "Train cell scores:\n",
      "Accuracy: 0.8176003101376236\n",
      "sensitivity: 0.7773190869354055\n",
      "specificity: 0.8443548387096774\n",
      "precision: 0.7683629380700913\n",
      "Confusion matrix:\n",
      "[[5235  965]\n",
      " [ 917 3201]]\n",
      "------------------------\n",
      "val inference\n",
      "------------------------\n",
      "val cell scores:\n",
      "Accuracy: 0.6559821095788296\n",
      "sensitivity: 0.5383795309168443\n",
      "specificity: 0.7191977077363897\n",
      "precision: 0.507537688442211\n",
      "Confusion matrix:\n",
      "[[1255  490]\n",
      " [ 433  505]]\n",
      "------------------------\n",
      "Test inference\n",
      "------------------------\n",
      "Test cell scores:\n",
      "Accuracy: 0.4732834536184864\n",
      "sensitivity: 0.4794922322533339\n",
      "specificity: 0.4571258199165176\n",
      "precision: 0.6968364968364968\n",
      "Confusion matrix:\n",
      "[[ 3833  4552]\n",
      " [11358 10463]]\n",
      "------------------------\n"
     ]
    }
   ],
   "source": [
    "# Inferences on train set.\n",
    "\n",
    "print(\"Train inference\")\n",
    "y_pred = model.inference(x_train)\n",
    "Metrics(y_train, y_pred).print_scores('Train cell')\n",
    "\n",
    "print(\"val inference\")\n",
    "y_pred = model.inference(x_val)\n",
    "Metrics(y_val, y_pred).print_scores('val cell')\n",
    "\n",
    "print(\"Test inference\")\n",
    "y_pred = model.inference(x_test)\n",
    "Metrics(y_test, y_pred).print_scores('Test cell')"
   ]
  },
  {
   "cell_type": "code",
   "execution_count": 9,
   "metadata": {},
   "outputs": [
    {
     "name": "stdout",
     "output_type": "stream",
     "text": [
      "Train inference\n",
      "------------------------\n",
      "Train cell scores:\n",
      "Accuracy: 0.9910066724688135\n",
      "sensitivity: 1.0\n",
      "specificity: 0.9860548807917229\n",
      "precision: 0.9752988047808765\n",
      "Confusion matrix:\n",
      "[[2192   31]\n",
      " [   0 1224]]\n",
      "------------------------\n",
      "val inference\n",
      "------------------------\n",
      "val cell scores:\n",
      "Accuracy: 0.6944444444444444\n",
      "sensitivity: 0.5737704918032787\n",
      "specificity: 0.7771535580524345\n",
      "precision: 0.6382978723404256\n",
      "Confusion matrix:\n",
      "[[415 119]\n",
      " [156 210]]\n",
      "------------------------\n",
      "Test inference\n",
      "------------------------\n",
      "Test cell scores:\n",
      "Accuracy: 0.4726166328600406\n",
      "sensitivity: 0.3779385171790235\n",
      "specificity: 0.6416464891041163\n",
      "precision: 0.653125\n",
      "Confusion matrix:\n",
      "[[ 795  444]\n",
      " [1376  836]]\n",
      "------------------------\n"
     ]
    }
   ],
   "source": [
    "# cluster 5 no gene marker filter"
   ]
  },
  {
   "cell_type": "code",
   "execution_count": 21,
   "metadata": {},
   "outputs": [
    {
     "name": "stdout",
     "output_type": "stream",
     "text": [
      "Train inference\n",
      "------------------------\n",
      "Train cell scores:\n",
      "Accuracy: 0.91441833478387\n",
      "sensitivity: 0.951797385620915\n",
      "specificity: 0.8938371569950517\n",
      "precision: 0.8315488936473947\n",
      "Confusion matrix:\n",
      "[[1987  236]\n",
      " [  59 1165]]\n",
      "------------------------\n",
      "val inference\n",
      "------------------------\n",
      "val cell scores:\n",
      "Accuracy: 0.6211111111111111\n",
      "sensitivity: 0.5382513661202186\n",
      "specificity: 0.6779026217228464\n",
      "precision: 0.5338753387533876\n",
      "Confusion matrix:\n",
      "[[362 172]\n",
      " [169 197]]\n",
      "------------------------\n",
      "Test inference\n",
      "------------------------\n",
      "Test cell scores:\n",
      "Accuracy: 0.5105766444508838\n",
      "sensitivity: 0.47468354430379744\n",
      "specificity: 0.5746569814366425\n",
      "precision: 0.6658211794546608\n",
      "Confusion matrix:\n",
      "[[ 712  527]\n",
      " [1162 1050]]\n",
      "------------------------\n"
     ]
    }
   ],
   "source": [
    "# cluster 5 with gene marker filter"
   ]
  },
  {
   "cell_type": "code",
   "execution_count": null,
   "metadata": {},
   "outputs": [],
   "source": []
  }
 ],
 "metadata": {
  "kernelspec": {
   "display_name": "Python 3",
   "language": "python",
   "name": "python3"
  },
  "language_info": {
   "codemirror_mode": {
    "name": "ipython",
    "version": 3
   },
   "file_extension": ".py",
   "mimetype": "text/x-python",
   "name": "python",
   "nbconvert_exporter": "python",
   "pygments_lexer": "ipython3",
   "version": "3.8.12"
  }
 },
 "nbformat": 4,
 "nbformat_minor": 4
}
