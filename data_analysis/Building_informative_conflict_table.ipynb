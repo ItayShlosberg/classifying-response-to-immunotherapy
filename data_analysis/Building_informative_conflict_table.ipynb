{
 "cells": [
  {
   "cell_type": "markdown",
   "metadata": {},
   "source": [
    "# Building informative conflict  table\n",
    "\n",
    "After running 'classifying_cell_types' script we'll have a folder for each sample containing everything we need in order to\n",
    "build a table mapping between a cell classified with some cell-types wich had a conflict with one of the corresponding (negative) markers."
   ]
  },
  {
   "cell_type": "code",
   "execution_count": 1,
   "metadata": {},
   "outputs": [],
   "source": [
    "import sys\n",
    "import os\n",
    "lib = r'C:\\Users\\itay\\Desktop\\Technion studies\\Keren Laboratory\\python_playground\\classifying-response-to-immunotherapy\\utilities\\droplet_dataset'\n",
    "lib2 = r'C:\\Users\\itay\\Desktop\\Technion studies\\Keren Laboratory\\python_playground\\classifying-response-to-immunotherapy\\utilities'\n",
    "lib3 = r'C:\\Users\\itay\\Desktop\\Technion studies\\Keren Laboratory\\python_playground\\classifying-response-to-immunotherapy\\data_analysis'\n",
    "lib4 = r'C:\\Users\\itay\\Desktop\\Technion studies\\Keren Laboratory\\python_playground\\classifying-response-to-immunotherapy'\n",
    "lib5 = r'C:\\Users\\itay\\Desktop\\Technion studies\\Keren Laboratory\\python_playground\\classifying-response-to-immunotherapy\\scripts'\n",
    "sys.path.append(lib)\n",
    "sys.path.append(lib2)\n",
    "sys.path.append(lib3)\n",
    "sys.path.append(lib4)\n",
    "sys.path.append(lib5)"
   ]
  },
  {
   "cell_type": "code",
   "execution_count": 2,
   "metadata": {},
   "outputs": [],
   "source": [
    "import sklearn\n",
    "from droplet_dataset import *\n",
    "from utilities import *\n",
    "from matplotlib import pyplot\n",
    "import pandas as pd\n",
    "from os.path import join\n",
    "from classifying_cell_types import *\n"
   ]
  },
  {
   "cell_type": "code",
   "execution_count": 6,
   "metadata": {},
   "outputs": [],
   "source": [
    "EXPERIMENT = r'13.11.20_2'\n",
    "EXPERIMENTS_ROOT = fr'C:\\Users\\itay\\Desktop\\Technion studies\\Keren Laboratory\\python_playground\\output files\\runs'\n",
    "SAMPLES_PATH = join(EXPERIMENTS_ROOT, EXPERIMENT)\n",
    "ROOT_PATH = r'C:\\Users\\itay\\Desktop\\Technion studies\\Keren Laboratory\\python_playground\\classifying-response-to-immunotherapy\\Data\\rna_seq200k\\all_samples'\n",
    "OUTPUT_PATH = r'C:\\Users\\itay\\Desktop\\Technion studies\\Keren Laboratory\\python_playground\\output files'\n",
    "samples = [subfolder for subfolder in os.listdir(SAMPLES_PATH)][:-1]\n",
    "CSV_NAME = 'cells_with_neg_pos_conflict.csv'\n"
   ]
  },
  {
   "cell_type": "markdown",
   "metadata": {},
   "source": [
    "# Union all DFs of the samples to one DF"
   ]
  },
  {
   "cell_type": "code",
   "execution_count": 4,
   "metadata": {},
   "outputs": [],
   "source": [
    "# new version (13.11.20) doesn't require converstion.\n",
    "conflict_df = pd.DataFrame(columns=['sample_id', 'cell_index (from 0)', 'classified cell-types', 'problematic markers (potential for conflict)'])\n",
    "for sample in samples:\n",
    "#     print(sample)\n",
    "    sample_path = join(SAMPLES_PATH, sample, CSV_NAME)\n",
    "    sample_df = pd.read_csv(sample_path).fillna(-1)\n",
    "    \n",
    "    conflict_df = conflict_df.append(pd.DataFrame([[sample] + v[1:] + [np.nan] for v in sample_df.values.tolist()],\n",
    "                      columns=conflict_df.columns))\n"
   ]
  },
  {
   "cell_type": "code",
   "execution_count": 5,
   "metadata": {},
   "outputs": [
    {
     "data": {
      "text/html": [
       "<div>\n",
       "<style scoped>\n",
       "    .dataframe tbody tr th:only-of-type {\n",
       "        vertical-align: middle;\n",
       "    }\n",
       "\n",
       "    .dataframe tbody tr th {\n",
       "        vertical-align: top;\n",
       "    }\n",
       "\n",
       "    .dataframe thead th {\n",
       "        text-align: right;\n",
       "    }\n",
       "</style>\n",
       "<table border=\"1\" class=\"dataframe\">\n",
       "  <thead>\n",
       "    <tr style=\"text-align: right;\">\n",
       "      <th></th>\n",
       "      <th>sample_id</th>\n",
       "      <th>cell_index (from 0)</th>\n",
       "      <th>classified cell-types</th>\n",
       "      <th>problematic markers (potential for conflict)</th>\n",
       "    </tr>\n",
       "  </thead>\n",
       "  <tbody>\n",
       "    <tr>\n",
       "      <th>0</th>\n",
       "      <td>M100</td>\n",
       "      <td>68</td>\n",
       "      <td>myeloid cells_general_immature</td>\n",
       "      <td>NaN</td>\n",
       "    </tr>\n",
       "    <tr>\n",
       "      <th>1</th>\n",
       "      <td>M100</td>\n",
       "      <td>233</td>\n",
       "      <td>myeloid cells_general_immature</td>\n",
       "      <td>NaN</td>\n",
       "    </tr>\n",
       "    <tr>\n",
       "      <th>2</th>\n",
       "      <td>M100</td>\n",
       "      <td>278</td>\n",
       "      <td>T cells</td>\n",
       "      <td>NaN</td>\n",
       "    </tr>\n",
       "    <tr>\n",
       "      <th>3</th>\n",
       "      <td>M100</td>\n",
       "      <td>293</td>\n",
       "      <td>Neutrophils</td>\n",
       "      <td>NaN</td>\n",
       "    </tr>\n",
       "    <tr>\n",
       "      <th>4</th>\n",
       "      <td>M100</td>\n",
       "      <td>313</td>\n",
       "      <td>Neutrophils</td>\n",
       "      <td>NaN</td>\n",
       "    </tr>\n",
       "    <tr>\n",
       "      <th>...</th>\n",
       "      <td>...</td>\n",
       "      <td>...</td>\n",
       "      <td>...</td>\n",
       "      <td>...</td>\n",
       "    </tr>\n",
       "    <tr>\n",
       "      <th>773</th>\n",
       "      <td>M99</td>\n",
       "      <td>5077</td>\n",
       "      <td>myeloid cells_general_immature</td>\n",
       "      <td>NaN</td>\n",
       "    </tr>\n",
       "    <tr>\n",
       "      <th>774</th>\n",
       "      <td>M99</td>\n",
       "      <td>5078</td>\n",
       "      <td>Neutrophils</td>\n",
       "      <td>NaN</td>\n",
       "    </tr>\n",
       "    <tr>\n",
       "      <th>775</th>\n",
       "      <td>M99</td>\n",
       "      <td>5085</td>\n",
       "      <td>Monocyte_immature;Macrophage_immature</td>\n",
       "      <td>NaN</td>\n",
       "    </tr>\n",
       "    <tr>\n",
       "      <th>776</th>\n",
       "      <td>M99</td>\n",
       "      <td>5086</td>\n",
       "      <td>B cells;T cells</td>\n",
       "      <td>NaN</td>\n",
       "    </tr>\n",
       "    <tr>\n",
       "      <th>777</th>\n",
       "      <td>M99</td>\n",
       "      <td>5087</td>\n",
       "      <td>myeloid cells_general_immature</td>\n",
       "      <td>NaN</td>\n",
       "    </tr>\n",
       "  </tbody>\n",
       "</table>\n",
       "<p>21932 rows × 4 columns</p>\n",
       "</div>"
      ],
      "text/plain": [
       "    sample_id cell_index (from 0)                  classified cell-types  \\\n",
       "0        M100                  68         myeloid cells_general_immature   \n",
       "1        M100                 233         myeloid cells_general_immature   \n",
       "2        M100                 278                                T cells   \n",
       "3        M100                 293                            Neutrophils   \n",
       "4        M100                 313                            Neutrophils   \n",
       "..        ...                 ...                                    ...   \n",
       "773       M99                5077         myeloid cells_general_immature   \n",
       "774       M99                5078                            Neutrophils   \n",
       "775       M99                5085  Monocyte_immature;Macrophage_immature   \n",
       "776       M99                5086                        B cells;T cells   \n",
       "777       M99                5087         myeloid cells_general_immature   \n",
       "\n",
       "    problematic markers (potential for conflict)  \n",
       "0                                            NaN  \n",
       "1                                            NaN  \n",
       "2                                            NaN  \n",
       "3                                            NaN  \n",
       "4                                            NaN  \n",
       "..                                           ...  \n",
       "773                                          NaN  \n",
       "774                                          NaN  \n",
       "775                                          NaN  \n",
       "776                                          NaN  \n",
       "777                                          NaN  \n",
       "\n",
       "[21932 rows x 4 columns]"
      ]
     },
     "execution_count": 5,
     "metadata": {},
     "output_type": "execute_result"
    }
   ],
   "source": [
    "conflict_df"
   ]
  },
  {
   "cell_type": "markdown",
   "metadata": {},
   "source": [
    "# Find and add the neg markers\n",
    "Now we have a DataFrame for all the samples where each row is a cell which has a conflict.\n",
    "And we are going to find the negative markers responsible to the conflicts and add them to the table. "
   ]
  },
  {
   "cell_type": "code",
   "execution_count": 14,
   "metadata": {},
   "outputs": [],
   "source": [
    "rna_samples = {}\n",
    "for sample in samples:\n",
    "    sample_path = join(ROOT_PATH, sample, PKL_NAME)\n",
    "    rna_sample = extract_droplet_data_from_pickle(sample_path)\n",
    "    rna_samples[sample] = rna_sample"
   ]
  },
  {
   "cell_type": "code",
   "execution_count": 15,
   "metadata": {},
   "outputs": [],
   "source": [
    "MARKERS_PATH = join(PROJECT_PATH, r'Data\\ImmuneCellsMarkersUpdated_12.11.20.xlsx')\n",
    "\n",
    "# Step 2: Builds positive/negative cell type marker table.\n",
    "xls = pd.ExcelFile(MARKERS_PATH) # Extract ImmuneCellsMarkersUpdated Excel file from PC and load it into DataFrame.\n",
    "positive_markers_df = pd.read_excel(xls, 'and_or')\n",
    "negative_markers_df = pd.read_excel(xls, 'none')\n",
    "positive_markers_table = builds_cell_type_markers_table(positive_markers_df)\n",
    "negative_markers_table = builds_cell_type_markers_table(negative_markers_df)"
   ]
  },
  {
   "cell_type": "code",
   "execution_count": 16,
   "metadata": {},
   "outputs": [],
   "source": [
    "for row_idx, row in enumerate(conflict_df.iterrows()):\n",
    "    cell_idx = row[1]['cell_index (from 0)']\n",
    "    rna_sample = rna_samples[row[1]['sample_id']]\n",
    "    problematic_classified_cell_types = row[1]['classified cell-types'].split(';')\n",
    "    \n",
    "    conflict_markers = []\n",
    "    for cell_type in problematic_classified_cell_types:\n",
    "        markers = [m for m in convert_MHC2_markers_list(negative_markers_table[cell_type]) if m in rna_sample.gene_names]\n",
    "        curr_genes_indexes = find_indexes_of_markers_in_sample(rna_sample.gene_names, markers)\n",
    "        sample_markers_values = rna_sample.counts[cell_idx, curr_genes_indexes]\n",
    "        [conflict_markers.append(m) for idx, m in enumerate(markers) if sample_markers_values[idx]!=0]\n",
    "    \n",
    "    \n",
    "    row[1]['problematic markers (potential for conflict)'] = ';'.join(list(set(conflict_markers)))\n",
    "    conflict_df.iloc[row_idx] = row[1].values\n"
   ]
  },
  {
   "cell_type": "code",
   "execution_count": 10,
   "metadata": {},
   "outputs": [
    {
     "data": {
      "text/html": [
       "<div>\n",
       "<style scoped>\n",
       "    .dataframe tbody tr th:only-of-type {\n",
       "        vertical-align: middle;\n",
       "    }\n",
       "\n",
       "    .dataframe tbody tr th {\n",
       "        vertical-align: top;\n",
       "    }\n",
       "\n",
       "    .dataframe thead th {\n",
       "        text-align: right;\n",
       "    }\n",
       "</style>\n",
       "<table border=\"1\" class=\"dataframe\">\n",
       "  <thead>\n",
       "    <tr style=\"text-align: right;\">\n",
       "      <th></th>\n",
       "      <th>sample_id</th>\n",
       "      <th>cell_index (from 0)</th>\n",
       "      <th>classified cell-types</th>\n",
       "      <th>problematic markers (potential for conflict)</th>\n",
       "    </tr>\n",
       "  </thead>\n",
       "  <tbody>\n",
       "    <tr>\n",
       "      <th>0</th>\n",
       "      <td>M100</td>\n",
       "      <td>68</td>\n",
       "      <td>myeloid cells_general_immature</td>\n",
       "      <td>HLA-DRB1;HLA-DQB1;HLA-DPB1;HLA-DRA;HLA-DRB5;HL...</td>\n",
       "    </tr>\n",
       "    <tr>\n",
       "      <th>1</th>\n",
       "      <td>M100</td>\n",
       "      <td>233</td>\n",
       "      <td>myeloid cells_general_immature</td>\n",
       "      <td>HLA-DRB1;HLA-DQB1;HLA-DPB1;HLA-DRA;HLA-DRB5;HL...</td>\n",
       "    </tr>\n",
       "    <tr>\n",
       "      <th>2</th>\n",
       "      <td>M100</td>\n",
       "      <td>278</td>\n",
       "      <td>T cells</td>\n",
       "      <td>FOXP3</td>\n",
       "    </tr>\n",
       "    <tr>\n",
       "      <th>3</th>\n",
       "      <td>M100</td>\n",
       "      <td>293</td>\n",
       "      <td>Neutrophils</td>\n",
       "      <td>CD3E</td>\n",
       "    </tr>\n",
       "    <tr>\n",
       "      <th>4</th>\n",
       "      <td>M100</td>\n",
       "      <td>313</td>\n",
       "      <td>Neutrophils</td>\n",
       "      <td>CD3E</td>\n",
       "    </tr>\n",
       "    <tr>\n",
       "      <th>...</th>\n",
       "      <td>...</td>\n",
       "      <td>...</td>\n",
       "      <td>...</td>\n",
       "      <td>...</td>\n",
       "    </tr>\n",
       "    <tr>\n",
       "      <th>773</th>\n",
       "      <td>M99</td>\n",
       "      <td>5077</td>\n",
       "      <td>myeloid cells_general_immature</td>\n",
       "      <td>HLA-DRB1;HLA-DMA;HLA-DPB1;HLA-DQB1;HLA-DRA;HLA...</td>\n",
       "    </tr>\n",
       "    <tr>\n",
       "      <th>774</th>\n",
       "      <td>M99</td>\n",
       "      <td>5078</td>\n",
       "      <td>Neutrophils</td>\n",
       "      <td>CD3E</td>\n",
       "    </tr>\n",
       "    <tr>\n",
       "      <th>775</th>\n",
       "      <td>M99</td>\n",
       "      <td>5085</td>\n",
       "      <td>Macrophage_immature;Monocyte_immature</td>\n",
       "      <td>HLA-DRA</td>\n",
       "    </tr>\n",
       "    <tr>\n",
       "      <th>776</th>\n",
       "      <td>M99</td>\n",
       "      <td>5086</td>\n",
       "      <td>T cells;B cells</td>\n",
       "      <td>FOXP3;CD3E</td>\n",
       "    </tr>\n",
       "    <tr>\n",
       "      <th>777</th>\n",
       "      <td>M99</td>\n",
       "      <td>5087</td>\n",
       "      <td>myeloid cells_general_immature</td>\n",
       "      <td>HLA-DRB1;HLA-DMA;HLA-DPB1;HLA-DQB1;HLA-DRA;HLA...</td>\n",
       "    </tr>\n",
       "  </tbody>\n",
       "</table>\n",
       "<p>21932 rows × 4 columns</p>\n",
       "</div>"
      ],
      "text/plain": [
       "    sample_id cell_index (from 0)                  classified cell-types  \\\n",
       "0        M100                  68         myeloid cells_general_immature   \n",
       "1        M100                 233         myeloid cells_general_immature   \n",
       "2        M100                 278                                T cells   \n",
       "3        M100                 293                            Neutrophils   \n",
       "4        M100                 313                            Neutrophils   \n",
       "..        ...                 ...                                    ...   \n",
       "773       M99                5077         myeloid cells_general_immature   \n",
       "774       M99                5078                            Neutrophils   \n",
       "775       M99                5085  Macrophage_immature;Monocyte_immature   \n",
       "776       M99                5086                        T cells;B cells   \n",
       "777       M99                5087         myeloid cells_general_immature   \n",
       "\n",
       "          problematic markers (potential for conflict)  \n",
       "0    HLA-DRB1;HLA-DQB1;HLA-DPB1;HLA-DRA;HLA-DRB5;HL...  \n",
       "1    HLA-DRB1;HLA-DQB1;HLA-DPB1;HLA-DRA;HLA-DRB5;HL...  \n",
       "2                                                FOXP3  \n",
       "3                                                 CD3E  \n",
       "4                                                 CD3E  \n",
       "..                                                 ...  \n",
       "773  HLA-DRB1;HLA-DMA;HLA-DPB1;HLA-DQB1;HLA-DRA;HLA...  \n",
       "774                                               CD3E  \n",
       "775                                            HLA-DRA  \n",
       "776                                         FOXP3;CD3E  \n",
       "777  HLA-DRB1;HLA-DMA;HLA-DPB1;HLA-DQB1;HLA-DRA;HLA...  \n",
       "\n",
       "[21932 rows x 4 columns]"
      ]
     },
     "execution_count": 10,
     "metadata": {},
     "output_type": "execute_result"
    }
   ],
   "source": [
    "conflict_df"
   ]
  },
  {
   "cell_type": "markdown",
   "metadata": {},
   "source": [
    "# Save it"
   ]
  },
  {
   "cell_type": "code",
   "execution_count": 11,
   "metadata": {},
   "outputs": [],
   "source": [
    "file_name = r'conflict_summary_15.11.20_2.csv'\n",
    "conflict_df.to_csv(join(OUTPUT_PATH, file_name), index=False)"
   ]
  },
  {
   "cell_type": "code",
   "execution_count": null,
   "metadata": {},
   "outputs": [],
   "source": []
  },
  {
   "cell_type": "code",
   "execution_count": null,
   "metadata": {},
   "outputs": [],
   "source": []
  },
  {
   "cell_type": "markdown",
   "metadata": {},
   "source": [
    "# DEBUG ZONE"
   ]
  },
  {
   "cell_type": "code",
   "execution_count": 280,
   "metadata": {},
   "outputs": [
    {
     "data": {
      "text/plain": [
       "{'HLA-DMA',\n",
       " 'HLA-DMB',\n",
       " 'HLA-DOA',\n",
       " 'HLA-DOB',\n",
       " 'HLA-DPA1',\n",
       " 'HLA-DPB1',\n",
       " 'HLA-DQA1',\n",
       " 'HLA-DQB1',\n",
       " 'HLA-DQB2',\n",
       " 'HLA-DRA',\n",
       " 'HLA-DRB1',\n",
       " 'HLA-DRB5'}"
      ]
     },
     "execution_count": 280,
     "metadata": {},
     "output_type": "execute_result"
    }
   ],
   "source": [
    "MHC2_GENES = ['HLA-DM', 'HLA-DMA', 'HLA-DMB', 'HLA-DO',\n",
    "             'HLA-DOA', 'HLA-DOB', 'HLA-DP', 'HLA-DPA1',\n",
    "             'HLA-DPB1', 'HLA-DQ', 'HLA-DQA1', 'HLA-DQA2',\n",
    "             'HLA-DQB1', 'HLA-DQB2', 'HLA-DR', 'HLA-DRA',\n",
    "             'HLA-DRB1', 'HLA-DRB3', 'HLA-DRB4', 'HLA-DRB5']\n",
    "\n",
    "\n",
    "rna_sample = rna_samples['M102']\n",
    "# curr_genes_indexes = find_indexes_of_markers_in_sample(rna_sample.gene_names, HMC2_genes)\n",
    "# cells_any = np.any(rna_sample.counts[:, curr_genes_indexes], axis=1)\n",
    "# sum(cells_any)\n",
    "all_genes = []\n",
    "for rna_sample in rna_samples.values():\n",
    "#     rna_sample = rna_samples['M102']\n",
    "    all_genes = all_genes + [g for g in rna_sample.gene_names if g in MHC2_GENES]\n",
    "set(all_genes)"
   ]
  },
  {
   "cell_type": "code",
   "execution_count": null,
   "metadata": {},
   "outputs": [],
   "source": [
    "\n",
    "\n"
   ]
  },
  {
   "cell_type": "code",
   "execution_count": null,
   "metadata": {},
   "outputs": [],
   "source": [
    "\n"
   ]
  },
  {
   "cell_type": "code",
   "execution_count": null,
   "metadata": {},
   "outputs": [],
   "source": []
  }
 ],
 "metadata": {
  "kernelspec": {
   "display_name": "Python 3",
   "language": "python",
   "name": "python3"
  },
  "language_info": {
   "codemirror_mode": {
    "name": "ipython",
    "version": 3
   },
   "file_extension": ".py",
   "mimetype": "text/x-python",
   "name": "python",
   "nbconvert_exporter": "python",
   "pygments_lexer": "ipython3",
   "version": "3.8.3"
  }
 },
 "nbformat": 4,
 "nbformat_minor": 4
}
