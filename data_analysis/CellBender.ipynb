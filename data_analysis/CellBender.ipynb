{
 "cells": [
  {
   "cell_type": "code",
   "execution_count": 1,
   "metadata": {},
   "outputs": [],
   "source": [
    "import scanpy as sc\n",
    "from  os.path import join\n",
    "import sys\n",
    "import os\n",
    "lib = r'D:\\Technion studies\\Keren Laboratory\\python_playground\\classifying-response-to-immunotherapy\\utilities\\droplet_dataset'\n",
    "lib2 = r'D:\\Technion studies\\Keren Laboratory\\python_playground\\classifying-response-to-immunotherapy\\utilities'\n",
    "lib3 = r'D:\\Technion studies\\Keren Laboratory\\python_playground\\classifying-response-to-immunotherapy\\data_analysis'\n",
    "lib4 = r'D:\\Technion studies\\Keren Laboratory\\python_playground\\classifying-response-to-immunotherapy'\n",
    "lib5 = r'D:\\Technion studies\\Keren Laboratory\\python_playground\\classifying-response-to-immunotherapy\\scripts'\n",
    "sys.path.append(lib)\n",
    "sys.path.append(lib2)\n",
    "sys.path.append(lib3)\n",
    "sys.path.append(lib4)\n",
    "sys.path.append(lib5)\n",
    "import os\n",
    "from os.path import join\n",
    "import sklearn\n",
    "from droplet_dataset import *\n",
    "from utilities import *\n",
    "from matplotlib import pyplot\n",
    "import numpy as np\n",
    "import scipy\n",
    "import pickle\n",
    "import matplotlib.pyplot as plt\n",
    "import pickle\n",
    "import pandas as pd\n",
    "import random\n",
    "from scipy.stats import pearsonr\n",
    "from matplotlib.pyplot import figure\n",
    "from termcolor import colored\n",
    "import tables\n"
   ]
  },
  {
   "cell_type": "markdown",
   "metadata": {},
   "source": [
    "# Comparing CellBender ouputs\n",
    "1. Comparing CellBender output with row-samples.\n",
    "2. Comparing parameterized output with non-parameterized output\n",
    "3. Validating filtered cells are empty - Done once. Values histogram seems to be reasonable. "
   ]
  },
  {
   "cell_type": "markdown",
   "metadata": {},
   "source": [
    "Summary constructing:"
   ]
  },
  {
   "cell_type": "code",
   "execution_count": 12,
   "metadata": {},
   "outputs": [
    {
     "name": "stdout",
     "output_type": "stream",
     "text": [
      "\u001b[31mM100\u001b[0m\n"
     ]
    },
    {
     "name": "stderr",
     "output_type": "stream",
     "text": [
      "Variable names are not unique. To make them unique, call `.var_names_make_unique`.\n"
     ]
    },
    {
     "name": "stdout",
     "output_type": "stream",
     "text": [
      "\u001b[31mM101\u001b[0m\n"
     ]
    },
    {
     "name": "stderr",
     "output_type": "stream",
     "text": [
      "Variable names are not unique. To make them unique, call `.var_names_make_unique`.\n",
      "Variable names are not unique. To make them unique, call `.var_names_make_unique`.\n"
     ]
    },
    {
     "name": "stdout",
     "output_type": "stream",
     "text": [
      "\u001b[31mM102\u001b[0m\n"
     ]
    },
    {
     "name": "stderr",
     "output_type": "stream",
     "text": [
      "Variable names are not unique. To make them unique, call `.var_names_make_unique`.\n"
     ]
    },
    {
     "name": "stdout",
     "output_type": "stream",
     "text": [
      "\u001b[31mM103\u001b[0m\n"
     ]
    },
    {
     "name": "stderr",
     "output_type": "stream",
     "text": [
      "Variable names are not unique. To make them unique, call `.var_names_make_unique`.\n",
      "Variable names are not unique. To make them unique, call `.var_names_make_unique`.\n"
     ]
    },
    {
     "name": "stdout",
     "output_type": "stream",
     "text": [
      "\u001b[31mM104\u001b[0m\n"
     ]
    },
    {
     "name": "stderr",
     "output_type": "stream",
     "text": [
      "Variable names are not unique. To make them unique, call `.var_names_make_unique`.\n",
      "Variable names are not unique. To make them unique, call `.var_names_make_unique`.\n"
     ]
    },
    {
     "name": "stdout",
     "output_type": "stream",
     "text": [
      "\u001b[31mM105\u001b[0m\n"
     ]
    },
    {
     "name": "stderr",
     "output_type": "stream",
     "text": [
      "Variable names are not unique. To make them unique, call `.var_names_make_unique`.\n",
      "Variable names are not unique. To make them unique, call `.var_names_make_unique`.\n"
     ]
    },
    {
     "name": "stdout",
     "output_type": "stream",
     "text": [
      "\u001b[31mM106\u001b[0m\n"
     ]
    },
    {
     "name": "stderr",
     "output_type": "stream",
     "text": [
      "Variable names are not unique. To make them unique, call `.var_names_make_unique`.\n"
     ]
    },
    {
     "name": "stdout",
     "output_type": "stream",
     "text": [
      "\u001b[31mM107\u001b[0m\n"
     ]
    },
    {
     "name": "stderr",
     "output_type": "stream",
     "text": [
      "Variable names are not unique. To make them unique, call `.var_names_make_unique`.\n",
      "Variable names are not unique. To make them unique, call `.var_names_make_unique`.\n"
     ]
    },
    {
     "name": "stdout",
     "output_type": "stream",
     "text": [
      "\u001b[31mM108\u001b[0m\n",
      "\u001b[31mM109\u001b[0m\n"
     ]
    },
    {
     "name": "stderr",
     "output_type": "stream",
     "text": [
      "Variable names are not unique. To make them unique, call `.var_names_make_unique`.\n"
     ]
    },
    {
     "name": "stdout",
     "output_type": "stream",
     "text": [
      "\u001b[31mM110\u001b[0m\n"
     ]
    },
    {
     "name": "stderr",
     "output_type": "stream",
     "text": [
      "Variable names are not unique. To make them unique, call `.var_names_make_unique`.\n",
      "Variable names are not unique. To make them unique, call `.var_names_make_unique`.\n"
     ]
    },
    {
     "name": "stdout",
     "output_type": "stream",
     "text": [
      "\u001b[31mM111\u001b[0m\n"
     ]
    },
    {
     "name": "stderr",
     "output_type": "stream",
     "text": [
      "Variable names are not unique. To make them unique, call `.var_names_make_unique`.\n",
      "Variable names are not unique. To make them unique, call `.var_names_make_unique`.\n"
     ]
    },
    {
     "name": "stdout",
     "output_type": "stream",
     "text": [
      "\u001b[31mM112\u001b[0m\n"
     ]
    },
    {
     "name": "stderr",
     "output_type": "stream",
     "text": [
      "Variable names are not unique. To make them unique, call `.var_names_make_unique`.\n"
     ]
    },
    {
     "name": "stdout",
     "output_type": "stream",
     "text": [
      "\u001b[31mM114\u001b[0m\n"
     ]
    },
    {
     "name": "stderr",
     "output_type": "stream",
     "text": [
      "Variable names are not unique. To make them unique, call `.var_names_make_unique`.\n",
      "Variable names are not unique. To make them unique, call `.var_names_make_unique`.\n"
     ]
    },
    {
     "name": "stdout",
     "output_type": "stream",
     "text": [
      "\u001b[31mM115\u001b[0m\n"
     ]
    },
    {
     "name": "stderr",
     "output_type": "stream",
     "text": [
      "Variable names are not unique. To make them unique, call `.var_names_make_unique`.\n",
      "Variable names are not unique. To make them unique, call `.var_names_make_unique`.\n"
     ]
    },
    {
     "name": "stdout",
     "output_type": "stream",
     "text": [
      "\u001b[31mM116\u001b[0m\n"
     ]
    },
    {
     "name": "stderr",
     "output_type": "stream",
     "text": [
      "Variable names are not unique. To make them unique, call `.var_names_make_unique`.\n",
      "Variable names are not unique. To make them unique, call `.var_names_make_unique`.\n"
     ]
    },
    {
     "name": "stdout",
     "output_type": "stream",
     "text": [
      "\u001b[31mM118\u001b[0m\n"
     ]
    },
    {
     "name": "stderr",
     "output_type": "stream",
     "text": [
      "Variable names are not unique. To make them unique, call `.var_names_make_unique`.\n",
      "Variable names are not unique. To make them unique, call `.var_names_make_unique`.\n"
     ]
    },
    {
     "name": "stdout",
     "output_type": "stream",
     "text": [
      "\u001b[31mM120\u001b[0m\n"
     ]
    },
    {
     "name": "stderr",
     "output_type": "stream",
     "text": [
      "Variable names are not unique. To make them unique, call `.var_names_make_unique`.\n"
     ]
    },
    {
     "name": "stdout",
     "output_type": "stream",
     "text": [
      "\u001b[31mM121\u001b[0m\n"
     ]
    },
    {
     "name": "stderr",
     "output_type": "stream",
     "text": [
      "Variable names are not unique. To make them unique, call `.var_names_make_unique`.\n",
      "Variable names are not unique. To make them unique, call `.var_names_make_unique`.\n"
     ]
    },
    {
     "name": "stdout",
     "output_type": "stream",
     "text": [
      "\u001b[31mM122\u001b[0m\n"
     ]
    },
    {
     "name": "stderr",
     "output_type": "stream",
     "text": [
      "Variable names are not unique. To make them unique, call `.var_names_make_unique`.\n",
      "Variable names are not unique. To make them unique, call `.var_names_make_unique`.\n"
     ]
    },
    {
     "name": "stdout",
     "output_type": "stream",
     "text": [
      "\u001b[31mM123\u001b[0m\n",
      "\u001b[31mM124\u001b[0m\n"
     ]
    },
    {
     "name": "stderr",
     "output_type": "stream",
     "text": [
      "Variable names are not unique. To make them unique, call `.var_names_make_unique`.\n",
      "Variable names are not unique. To make them unique, call `.var_names_make_unique`.\n"
     ]
    },
    {
     "name": "stdout",
     "output_type": "stream",
     "text": [
      "\u001b[31mM125\u001b[0m\n"
     ]
    },
    {
     "name": "stderr",
     "output_type": "stream",
     "text": [
      "Variable names are not unique. To make them unique, call `.var_names_make_unique`.\n"
     ]
    },
    {
     "name": "stdout",
     "output_type": "stream",
     "text": [
      "\u001b[31mM126\u001b[0m\n"
     ]
    },
    {
     "name": "stderr",
     "output_type": "stream",
     "text": [
      "Variable names are not unique. To make them unique, call `.var_names_make_unique`.\n",
      "Variable names are not unique. To make them unique, call `.var_names_make_unique`.\n"
     ]
    },
    {
     "name": "stdout",
     "output_type": "stream",
     "text": [
      "\u001b[31mM127\u001b[0m\n",
      "\u001b[31mM128\u001b[0m\n"
     ]
    },
    {
     "name": "stderr",
     "output_type": "stream",
     "text": [
      "Variable names are not unique. To make them unique, call `.var_names_make_unique`.\n"
     ]
    },
    {
     "name": "stdout",
     "output_type": "stream",
     "text": [
      "\u001b[31mM129\u001b[0m\n"
     ]
    },
    {
     "name": "stderr",
     "output_type": "stream",
     "text": [
      "Variable names are not unique. To make them unique, call `.var_names_make_unique`.\n"
     ]
    },
    {
     "name": "stdout",
     "output_type": "stream",
     "text": [
      "\u001b[31mM130\u001b[0m\n"
     ]
    },
    {
     "name": "stderr",
     "output_type": "stream",
     "text": [
      "Variable names are not unique. To make them unique, call `.var_names_make_unique`.\n",
      "Variable names are not unique. To make them unique, call `.var_names_make_unique`.\n"
     ]
    },
    {
     "name": "stdout",
     "output_type": "stream",
     "text": [
      "\u001b[31mM131\u001b[0m\n"
     ]
    },
    {
     "name": "stderr",
     "output_type": "stream",
     "text": [
      "Variable names are not unique. To make them unique, call `.var_names_make_unique`.\n",
      "Variable names are not unique. To make them unique, call `.var_names_make_unique`.\n"
     ]
    },
    {
     "name": "stdout",
     "output_type": "stream",
     "text": [
      "\u001b[31mM132\u001b[0m\n"
     ]
    },
    {
     "name": "stderr",
     "output_type": "stream",
     "text": [
      "Variable names are not unique. To make them unique, call `.var_names_make_unique`.\n",
      "Variable names are not unique. To make them unique, call `.var_names_make_unique`.\n"
     ]
    },
    {
     "name": "stdout",
     "output_type": "stream",
     "text": [
      "\u001b[31mM133\u001b[0m\n",
      "\u001b[31mM134\u001b[0m\n"
     ]
    },
    {
     "name": "stderr",
     "output_type": "stream",
     "text": [
      "Variable names are not unique. To make them unique, call `.var_names_make_unique`.\n",
      "Variable names are not unique. To make them unique, call `.var_names_make_unique`.\n"
     ]
    },
    {
     "name": "stdout",
     "output_type": "stream",
     "text": [
      "\u001b[31mM135\u001b[0m\n"
     ]
    },
    {
     "name": "stderr",
     "output_type": "stream",
     "text": [
      "Variable names are not unique. To make them unique, call `.var_names_make_unique`.\n"
     ]
    },
    {
     "name": "stdout",
     "output_type": "stream",
     "text": [
      "\u001b[31mM136\u001b[0m\n"
     ]
    },
    {
     "name": "stderr",
     "output_type": "stream",
     "text": [
      "Variable names are not unique. To make them unique, call `.var_names_make_unique`.\n",
      "Variable names are not unique. To make them unique, call `.var_names_make_unique`.\n"
     ]
    },
    {
     "name": "stdout",
     "output_type": "stream",
     "text": [
      "\u001b[31mM137\u001b[0m\n"
     ]
    },
    {
     "name": "stderr",
     "output_type": "stream",
     "text": [
      "Variable names are not unique. To make them unique, call `.var_names_make_unique`.\n",
      "Variable names are not unique. To make them unique, call `.var_names_make_unique`.\n"
     ]
    },
    {
     "name": "stdout",
     "output_type": "stream",
     "text": [
      "\u001b[31mM138\u001b[0m\n"
     ]
    },
    {
     "name": "stderr",
     "output_type": "stream",
     "text": [
      "Variable names are not unique. To make them unique, call `.var_names_make_unique`.\n",
      "Variable names are not unique. To make them unique, call `.var_names_make_unique`.\n"
     ]
    },
    {
     "name": "stdout",
     "output_type": "stream",
     "text": [
      "\u001b[31mM139\u001b[0m\n"
     ]
    },
    {
     "name": "stderr",
     "output_type": "stream",
     "text": [
      "Variable names are not unique. To make them unique, call `.var_names_make_unique`.\n",
      "Variable names are not unique. To make them unique, call `.var_names_make_unique`.\n"
     ]
    },
    {
     "name": "stdout",
     "output_type": "stream",
     "text": [
      "\u001b[31mM140\u001b[0m\n"
     ]
    },
    {
     "name": "stderr",
     "output_type": "stream",
     "text": [
      "Variable names are not unique. To make them unique, call `.var_names_make_unique`.\n",
      "Variable names are not unique. To make them unique, call `.var_names_make_unique`.\n"
     ]
    },
    {
     "name": "stdout",
     "output_type": "stream",
     "text": [
      "\u001b[31mM141\u001b[0m\n"
     ]
    },
    {
     "name": "stderr",
     "output_type": "stream",
     "text": [
      "Variable names are not unique. To make them unique, call `.var_names_make_unique`.\n",
      "Variable names are not unique. To make them unique, call `.var_names_make_unique`.\n"
     ]
    },
    {
     "name": "stdout",
     "output_type": "stream",
     "text": [
      "\u001b[31mM143\u001b[0m\n"
     ]
    },
    {
     "name": "stderr",
     "output_type": "stream",
     "text": [
      "Variable names are not unique. To make them unique, call `.var_names_make_unique`.\n"
     ]
    },
    {
     "name": "stdout",
     "output_type": "stream",
     "text": [
      "\u001b[31mM144\u001b[0m\n",
      "\u001b[31mM145\u001b[0m\n"
     ]
    },
    {
     "name": "stderr",
     "output_type": "stream",
     "text": [
      "Variable names are not unique. To make them unique, call `.var_names_make_unique`.\n",
      "Variable names are not unique. To make them unique, call `.var_names_make_unique`.\n"
     ]
    },
    {
     "name": "stdout",
     "output_type": "stream",
     "text": [
      "\u001b[31mM146\u001b[0m\n"
     ]
    },
    {
     "name": "stderr",
     "output_type": "stream",
     "text": [
      "Variable names are not unique. To make them unique, call `.var_names_make_unique`.\n",
      "Variable names are not unique. To make them unique, call `.var_names_make_unique`.\n"
     ]
    },
    {
     "name": "stdout",
     "output_type": "stream",
     "text": [
      "\u001b[31mM97\u001b[0m\n"
     ]
    },
    {
     "name": "stderr",
     "output_type": "stream",
     "text": [
      "Variable names are not unique. To make them unique, call `.var_names_make_unique`.\n",
      "Variable names are not unique. To make them unique, call `.var_names_make_unique`.\n"
     ]
    },
    {
     "name": "stdout",
     "output_type": "stream",
     "text": [
      "\u001b[31mM98\u001b[0m\n"
     ]
    },
    {
     "name": "stderr",
     "output_type": "stream",
     "text": [
      "Variable names are not unique. To make them unique, call `.var_names_make_unique`.\n",
      "Variable names are not unique. To make them unique, call `.var_names_make_unique`.\n"
     ]
    },
    {
     "name": "stdout",
     "output_type": "stream",
     "text": [
      "\u001b[31mM99\u001b[0m\n"
     ]
    },
    {
     "name": "stderr",
     "output_type": "stream",
     "text": [
      "Variable names are not unique. To make them unique, call `.var_names_make_unique`.\n",
      "Variable names are not unique. To make them unique, call `.var_names_make_unique`.\n"
     ]
    },
    {
     "data": {
      "text/html": [
       "<div>\n",
       "<style scoped>\n",
       "    .dataframe tbody tr th:only-of-type {\n",
       "        vertical-align: middle;\n",
       "    }\n",
       "\n",
       "    .dataframe tbody tr th {\n",
       "        vertical-align: top;\n",
       "    }\n",
       "\n",
       "    .dataframe thead th {\n",
       "        text-align: right;\n",
       "    }\n",
       "</style>\n",
       "<table border=\"1\" class=\"dataframe\">\n",
       "  <thead>\n",
       "    <tr style=\"text-align: right;\">\n",
       "      <th></th>\n",
       "      <th>sample</th>\n",
       "      <th>number_of_droplets</th>\n",
       "      <th>simple_CB_n_cells</th>\n",
       "      <th>parameterized_cb_n_cells</th>\n",
       "      <th>simple_CB_p_cells</th>\n",
       "      <th>parameterized_cb_p_cells</th>\n",
       "    </tr>\n",
       "  </thead>\n",
       "  <tbody>\n",
       "    <tr>\n",
       "      <th>0</th>\n",
       "      <td>M100</td>\n",
       "      <td>4055</td>\n",
       "      <td>-</td>\n",
       "      <td>2484</td>\n",
       "      <td>-</td>\n",
       "      <td>0.612577</td>\n",
       "    </tr>\n",
       "    <tr>\n",
       "      <th>0</th>\n",
       "      <td>M101</td>\n",
       "      <td>5141</td>\n",
       "      <td>3274</td>\n",
       "      <td>3274</td>\n",
       "      <td>0.636841</td>\n",
       "      <td>0.636841</td>\n",
       "    </tr>\n",
       "    <tr>\n",
       "      <th>0</th>\n",
       "      <td>M102</td>\n",
       "      <td>22694</td>\n",
       "      <td>-</td>\n",
       "      <td>22691</td>\n",
       "      <td>-</td>\n",
       "      <td>0.999868</td>\n",
       "    </tr>\n",
       "    <tr>\n",
       "      <th>0</th>\n",
       "      <td>M103</td>\n",
       "      <td>2453</td>\n",
       "      <td>1612</td>\n",
       "      <td>1612</td>\n",
       "      <td>0.657155</td>\n",
       "      <td>0.657155</td>\n",
       "    </tr>\n",
       "    <tr>\n",
       "      <th>0</th>\n",
       "      <td>M104</td>\n",
       "      <td>4944</td>\n",
       "      <td>3066</td>\n",
       "      <td>3066</td>\n",
       "      <td>0.620146</td>\n",
       "      <td>0.620146</td>\n",
       "    </tr>\n",
       "    <tr>\n",
       "      <th>0</th>\n",
       "      <td>M105</td>\n",
       "      <td>14312</td>\n",
       "      <td>12065</td>\n",
       "      <td>11951</td>\n",
       "      <td>0.842999</td>\n",
       "      <td>0.835034</td>\n",
       "    </tr>\n",
       "    <tr>\n",
       "      <th>0</th>\n",
       "      <td>M106</td>\n",
       "      <td>5136</td>\n",
       "      <td>-</td>\n",
       "      <td>2746</td>\n",
       "      <td>-</td>\n",
       "      <td>0.534657</td>\n",
       "    </tr>\n",
       "    <tr>\n",
       "      <th>0</th>\n",
       "      <td>M107</td>\n",
       "      <td>8035</td>\n",
       "      <td>5072</td>\n",
       "      <td>5072</td>\n",
       "      <td>0.631238</td>\n",
       "      <td>0.631238</td>\n",
       "    </tr>\n",
       "    <tr>\n",
       "      <th>0</th>\n",
       "      <td>M108</td>\n",
       "      <td>23821</td>\n",
       "      <td>-</td>\n",
       "      <td>-</td>\n",
       "      <td>-</td>\n",
       "      <td>-</td>\n",
       "    </tr>\n",
       "    <tr>\n",
       "      <th>0</th>\n",
       "      <td>M109</td>\n",
       "      <td>7832</td>\n",
       "      <td>-</td>\n",
       "      <td>6828</td>\n",
       "      <td>-</td>\n",
       "      <td>0.871808</td>\n",
       "    </tr>\n",
       "    <tr>\n",
       "      <th>0</th>\n",
       "      <td>M110</td>\n",
       "      <td>4307</td>\n",
       "      <td>3068</td>\n",
       "      <td>3068</td>\n",
       "      <td>0.712329</td>\n",
       "      <td>0.712329</td>\n",
       "    </tr>\n",
       "    <tr>\n",
       "      <th>0</th>\n",
       "      <td>M111</td>\n",
       "      <td>6582</td>\n",
       "      <td>5461</td>\n",
       "      <td>5461</td>\n",
       "      <td>0.829687</td>\n",
       "      <td>0.829687</td>\n",
       "    </tr>\n",
       "    <tr>\n",
       "      <th>0</th>\n",
       "      <td>M112</td>\n",
       "      <td>4876</td>\n",
       "      <td>-</td>\n",
       "      <td>3351</td>\n",
       "      <td>-</td>\n",
       "      <td>0.687244</td>\n",
       "    </tr>\n",
       "    <tr>\n",
       "      <th>0</th>\n",
       "      <td>M114</td>\n",
       "      <td>10407</td>\n",
       "      <td>4812</td>\n",
       "      <td>4812</td>\n",
       "      <td>0.462381</td>\n",
       "      <td>0.462381</td>\n",
       "    </tr>\n",
       "    <tr>\n",
       "      <th>0</th>\n",
       "      <td>M115</td>\n",
       "      <td>6047</td>\n",
       "      <td>5537</td>\n",
       "      <td>5538</td>\n",
       "      <td>0.915661</td>\n",
       "      <td>0.915826</td>\n",
       "    </tr>\n",
       "    <tr>\n",
       "      <th>0</th>\n",
       "      <td>M116</td>\n",
       "      <td>3601</td>\n",
       "      <td>260</td>\n",
       "      <td>255</td>\n",
       "      <td>0.0722022</td>\n",
       "      <td>0.0708137</td>\n",
       "    </tr>\n",
       "    <tr>\n",
       "      <th>0</th>\n",
       "      <td>M118</td>\n",
       "      <td>1687</td>\n",
       "      <td>950</td>\n",
       "      <td>943</td>\n",
       "      <td>0.56313</td>\n",
       "      <td>0.55898</td>\n",
       "    </tr>\n",
       "    <tr>\n",
       "      <th>0</th>\n",
       "      <td>M120</td>\n",
       "      <td>4613</td>\n",
       "      <td>-</td>\n",
       "      <td>1205</td>\n",
       "      <td>-</td>\n",
       "      <td>0.261218</td>\n",
       "    </tr>\n",
       "    <tr>\n",
       "      <th>0</th>\n",
       "      <td>M121</td>\n",
       "      <td>5943</td>\n",
       "      <td>5319</td>\n",
       "      <td>5368</td>\n",
       "      <td>0.895003</td>\n",
       "      <td>0.903248</td>\n",
       "    </tr>\n",
       "    <tr>\n",
       "      <th>0</th>\n",
       "      <td>M122</td>\n",
       "      <td>2591</td>\n",
       "      <td>1997</td>\n",
       "      <td>1713</td>\n",
       "      <td>0.770745</td>\n",
       "      <td>0.661135</td>\n",
       "    </tr>\n",
       "    <tr>\n",
       "      <th>0</th>\n",
       "      <td>M123</td>\n",
       "      <td>6743</td>\n",
       "      <td>-</td>\n",
       "      <td>-</td>\n",
       "      <td>-</td>\n",
       "      <td>-</td>\n",
       "    </tr>\n",
       "    <tr>\n",
       "      <th>0</th>\n",
       "      <td>M124</td>\n",
       "      <td>5148</td>\n",
       "      <td>1109</td>\n",
       "      <td>1108</td>\n",
       "      <td>0.215423</td>\n",
       "      <td>0.215229</td>\n",
       "    </tr>\n",
       "    <tr>\n",
       "      <th>0</th>\n",
       "      <td>M125</td>\n",
       "      <td>507</td>\n",
       "      <td>-</td>\n",
       "      <td>504</td>\n",
       "      <td>-</td>\n",
       "      <td>0.994083</td>\n",
       "    </tr>\n",
       "    <tr>\n",
       "      <th>0</th>\n",
       "      <td>M126</td>\n",
       "      <td>3125</td>\n",
       "      <td>1035</td>\n",
       "      <td>534</td>\n",
       "      <td>0.3312</td>\n",
       "      <td>0.17088</td>\n",
       "    </tr>\n",
       "    <tr>\n",
       "      <th>0</th>\n",
       "      <td>M127</td>\n",
       "      <td>5534</td>\n",
       "      <td>-</td>\n",
       "      <td>-</td>\n",
       "      <td>-</td>\n",
       "      <td>-</td>\n",
       "    </tr>\n",
       "    <tr>\n",
       "      <th>0</th>\n",
       "      <td>M128</td>\n",
       "      <td>8331</td>\n",
       "      <td>-</td>\n",
       "      <td>8328</td>\n",
       "      <td>-</td>\n",
       "      <td>0.99964</td>\n",
       "    </tr>\n",
       "    <tr>\n",
       "      <th>0</th>\n",
       "      <td>M129</td>\n",
       "      <td>8911</td>\n",
       "      <td>-</td>\n",
       "      <td>5856</td>\n",
       "      <td>-</td>\n",
       "      <td>0.657165</td>\n",
       "    </tr>\n",
       "    <tr>\n",
       "      <th>0</th>\n",
       "      <td>M130</td>\n",
       "      <td>5981</td>\n",
       "      <td>536</td>\n",
       "      <td>536</td>\n",
       "      <td>0.0896171</td>\n",
       "      <td>0.0896171</td>\n",
       "    </tr>\n",
       "    <tr>\n",
       "      <th>0</th>\n",
       "      <td>M131</td>\n",
       "      <td>4722</td>\n",
       "      <td>4326</td>\n",
       "      <td>4326</td>\n",
       "      <td>0.916137</td>\n",
       "      <td>0.916137</td>\n",
       "    </tr>\n",
       "    <tr>\n",
       "      <th>0</th>\n",
       "      <td>M132</td>\n",
       "      <td>5949</td>\n",
       "      <td>3085</td>\n",
       "      <td>3085</td>\n",
       "      <td>0.518575</td>\n",
       "      <td>0.518575</td>\n",
       "    </tr>\n",
       "    <tr>\n",
       "      <th>0</th>\n",
       "      <td>M133</td>\n",
       "      <td>5696</td>\n",
       "      <td>-</td>\n",
       "      <td>-</td>\n",
       "      <td>-</td>\n",
       "      <td>-</td>\n",
       "    </tr>\n",
       "    <tr>\n",
       "      <th>0</th>\n",
       "      <td>M134</td>\n",
       "      <td>2384</td>\n",
       "      <td>1358</td>\n",
       "      <td>1358</td>\n",
       "      <td>0.569631</td>\n",
       "      <td>0.569631</td>\n",
       "    </tr>\n",
       "    <tr>\n",
       "      <th>0</th>\n",
       "      <td>M135</td>\n",
       "      <td>3388</td>\n",
       "      <td>-</td>\n",
       "      <td>3345</td>\n",
       "      <td>-</td>\n",
       "      <td>0.987308</td>\n",
       "    </tr>\n",
       "    <tr>\n",
       "      <th>0</th>\n",
       "      <td>M136</td>\n",
       "      <td>4872</td>\n",
       "      <td>3275</td>\n",
       "      <td>3275</td>\n",
       "      <td>0.672209</td>\n",
       "      <td>0.672209</td>\n",
       "    </tr>\n",
       "    <tr>\n",
       "      <th>0</th>\n",
       "      <td>M137</td>\n",
       "      <td>9353</td>\n",
       "      <td>5319</td>\n",
       "      <td>5220</td>\n",
       "      <td>0.568695</td>\n",
       "      <td>0.55811</td>\n",
       "    </tr>\n",
       "    <tr>\n",
       "      <th>0</th>\n",
       "      <td>M138</td>\n",
       "      <td>4915</td>\n",
       "      <td>2861</td>\n",
       "      <td>2915</td>\n",
       "      <td>0.582096</td>\n",
       "      <td>0.593082</td>\n",
       "    </tr>\n",
       "    <tr>\n",
       "      <th>0</th>\n",
       "      <td>M139</td>\n",
       "      <td>4915</td>\n",
       "      <td>2915</td>\n",
       "      <td>2915</td>\n",
       "      <td>0.593082</td>\n",
       "      <td>0.593082</td>\n",
       "    </tr>\n",
       "    <tr>\n",
       "      <th>0</th>\n",
       "      <td>M140</td>\n",
       "      <td>3756</td>\n",
       "      <td>3484</td>\n",
       "      <td>3484</td>\n",
       "      <td>0.927583</td>\n",
       "      <td>0.927583</td>\n",
       "    </tr>\n",
       "    <tr>\n",
       "      <th>0</th>\n",
       "      <td>M141</td>\n",
       "      <td>1233</td>\n",
       "      <td>637</td>\n",
       "      <td>637</td>\n",
       "      <td>0.516626</td>\n",
       "      <td>0.516626</td>\n",
       "    </tr>\n",
       "    <tr>\n",
       "      <th>0</th>\n",
       "      <td>M143</td>\n",
       "      <td>10992</td>\n",
       "      <td>-</td>\n",
       "      <td>5534</td>\n",
       "      <td>-</td>\n",
       "      <td>0.503457</td>\n",
       "    </tr>\n",
       "    <tr>\n",
       "      <th>0</th>\n",
       "      <td>M144</td>\n",
       "      <td>10765</td>\n",
       "      <td>-</td>\n",
       "      <td>-</td>\n",
       "      <td>-</td>\n",
       "      <td>-</td>\n",
       "    </tr>\n",
       "    <tr>\n",
       "      <th>0</th>\n",
       "      <td>M145</td>\n",
       "      <td>8911</td>\n",
       "      <td>8393</td>\n",
       "      <td>8393</td>\n",
       "      <td>0.94187</td>\n",
       "      <td>0.94187</td>\n",
       "    </tr>\n",
       "    <tr>\n",
       "      <th>0</th>\n",
       "      <td>M146</td>\n",
       "      <td>8281</td>\n",
       "      <td>7170</td>\n",
       "      <td>7170</td>\n",
       "      <td>0.865837</td>\n",
       "      <td>0.865837</td>\n",
       "    </tr>\n",
       "    <tr>\n",
       "      <th>0</th>\n",
       "      <td>M97</td>\n",
       "      <td>4296</td>\n",
       "      <td>2647</td>\n",
       "      <td>2657</td>\n",
       "      <td>0.616155</td>\n",
       "      <td>0.618482</td>\n",
       "    </tr>\n",
       "    <tr>\n",
       "      <th>0</th>\n",
       "      <td>M98</td>\n",
       "      <td>5137</td>\n",
       "      <td>2709</td>\n",
       "      <td>2709</td>\n",
       "      <td>0.527351</td>\n",
       "      <td>0.527351</td>\n",
       "    </tr>\n",
       "    <tr>\n",
       "      <th>0</th>\n",
       "      <td>M99</td>\n",
       "      <td>5093</td>\n",
       "      <td>2494</td>\n",
       "      <td>2494</td>\n",
       "      <td>0.489692</td>\n",
       "      <td>0.489692</td>\n",
       "    </tr>\n",
       "  </tbody>\n",
       "</table>\n",
       "</div>"
      ],
      "text/plain": [
       "  sample number_of_droplets simple_CB_n_cells parameterized_cb_n_cells  \\\n",
       "0   M100               4055                 -                     2484   \n",
       "0   M101               5141              3274                     3274   \n",
       "0   M102              22694                 -                    22691   \n",
       "0   M103               2453              1612                     1612   \n",
       "0   M104               4944              3066                     3066   \n",
       "0   M105              14312             12065                    11951   \n",
       "0   M106               5136                 -                     2746   \n",
       "0   M107               8035              5072                     5072   \n",
       "0   M108              23821                 -                        -   \n",
       "0   M109               7832                 -                     6828   \n",
       "0   M110               4307              3068                     3068   \n",
       "0   M111               6582              5461                     5461   \n",
       "0   M112               4876                 -                     3351   \n",
       "0   M114              10407              4812                     4812   \n",
       "0   M115               6047              5537                     5538   \n",
       "0   M116               3601               260                      255   \n",
       "0   M118               1687               950                      943   \n",
       "0   M120               4613                 -                     1205   \n",
       "0   M121               5943              5319                     5368   \n",
       "0   M122               2591              1997                     1713   \n",
       "0   M123               6743                 -                        -   \n",
       "0   M124               5148              1109                     1108   \n",
       "0   M125                507                 -                      504   \n",
       "0   M126               3125              1035                      534   \n",
       "0   M127               5534                 -                        -   \n",
       "0   M128               8331                 -                     8328   \n",
       "0   M129               8911                 -                     5856   \n",
       "0   M130               5981               536                      536   \n",
       "0   M131               4722              4326                     4326   \n",
       "0   M132               5949              3085                     3085   \n",
       "0   M133               5696                 -                        -   \n",
       "0   M134               2384              1358                     1358   \n",
       "0   M135               3388                 -                     3345   \n",
       "0   M136               4872              3275                     3275   \n",
       "0   M137               9353              5319                     5220   \n",
       "0   M138               4915              2861                     2915   \n",
       "0   M139               4915              2915                     2915   \n",
       "0   M140               3756              3484                     3484   \n",
       "0   M141               1233               637                      637   \n",
       "0   M143              10992                 -                     5534   \n",
       "0   M144              10765                 -                        -   \n",
       "0   M145               8911              8393                     8393   \n",
       "0   M146               8281              7170                     7170   \n",
       "0    M97               4296              2647                     2657   \n",
       "0    M98               5137              2709                     2709   \n",
       "0    M99               5093              2494                     2494   \n",
       "\n",
       "  simple_CB_p_cells parameterized_cb_p_cells  \n",
       "0                 -                 0.612577  \n",
       "0          0.636841                 0.636841  \n",
       "0                 -                 0.999868  \n",
       "0          0.657155                 0.657155  \n",
       "0          0.620146                 0.620146  \n",
       "0          0.842999                 0.835034  \n",
       "0                 -                 0.534657  \n",
       "0          0.631238                 0.631238  \n",
       "0                 -                        -  \n",
       "0                 -                 0.871808  \n",
       "0          0.712329                 0.712329  \n",
       "0          0.829687                 0.829687  \n",
       "0                 -                 0.687244  \n",
       "0          0.462381                 0.462381  \n",
       "0          0.915661                 0.915826  \n",
       "0         0.0722022                0.0708137  \n",
       "0           0.56313                  0.55898  \n",
       "0                 -                 0.261218  \n",
       "0          0.895003                 0.903248  \n",
       "0          0.770745                 0.661135  \n",
       "0                 -                        -  \n",
       "0          0.215423                 0.215229  \n",
       "0                 -                 0.994083  \n",
       "0            0.3312                  0.17088  \n",
       "0                 -                        -  \n",
       "0                 -                  0.99964  \n",
       "0                 -                 0.657165  \n",
       "0         0.0896171                0.0896171  \n",
       "0          0.916137                 0.916137  \n",
       "0          0.518575                 0.518575  \n",
       "0                 -                        -  \n",
       "0          0.569631                 0.569631  \n",
       "0                 -                 0.987308  \n",
       "0          0.672209                 0.672209  \n",
       "0          0.568695                  0.55811  \n",
       "0          0.582096                 0.593082  \n",
       "0          0.593082                 0.593082  \n",
       "0          0.927583                 0.927583  \n",
       "0          0.516626                 0.516626  \n",
       "0                 -                 0.503457  \n",
       "0                 -                        -  \n",
       "0           0.94187                  0.94187  \n",
       "0          0.865837                 0.865837  \n",
       "0          0.616155                 0.618482  \n",
       "0          0.527351                 0.527351  \n",
       "0          0.489692                 0.489692  "
      ]
     },
     "execution_count": 12,
     "metadata": {},
     "output_type": "execute_result"
    }
   ],
   "source": [
    "PARAMETERIZED_RUNS_PATH = r'D:\\PycharmProjects\\CellBender\\server_output\\parameterized_with_repairs'\n",
    "NON_PARAMETERIZED_RUNS_PATH = r'D:\\PycharmProjects\\CellBender\\server_output\\simple'\n",
    "RAW_SAMPLES_OUTPUTS = r'D:\\Technion studies\\Keren Laboratory\\python_playground\\outputs\\scrublet\\10.12.20'\n",
    "\n",
    "summary = pd.DataFrame(columns=['sample', \n",
    "                                'number_of_droplets',\n",
    "                                'simple_CB_n_cells',\n",
    "                                'parameterized_cb_n_cells',\n",
    "                                'simple_CB_p_cells',\n",
    "                                'parameterized_cb_p_cells'])\n",
    "\n",
    "samples = [subfolder for subfolder in os.listdir(RAW_SAMPLES_OUTPUTS) if not 'xlsx' in subfolder]\n",
    "for sample_id in samples:\n",
    "    print(colored(sample_id, 'red'))\n",
    "    number_of_droplets = 0\n",
    "    simple_CB_n_cells = '-'\n",
    "    parameterized_cb_n_cells = '-'\n",
    "    simple_CB_p_cells = '-'\n",
    "    parameterized_cb_p_cells = '-'\n",
    "    \n",
    "    \n",
    "    simple_cb_path = join(NON_PARAMETERIZED_RUNS_PATH, sample_id, 'out_filtered.h5')\n",
    "    parameterized_cb_path = join(PARAMETERIZED_RUNS_PATH, sample_id, 'out_filtered.h5')\n",
    "    sample_path = join(RAW_SAMPLES_OUTPUTS, sample_id, f'{sample_id}.pkl')\n",
    "    \n",
    "    rna_sample = pickle.load(open(sample_path, 'rb'))\n",
    "    number_of_droplets = rna_sample.number_of_cells\n",
    "    if os.path.isfile(simple_cb_path):\n",
    "        filterd_cb = sc.read_10x_h5(simple_cb_path, genome='background_removed')\n",
    "        simple_CB_n_cells = len(list(filterd_cb.to_df().index))\n",
    "        simple_CB_p_cells = simple_CB_n_cells/number_of_droplets\n",
    "        \n",
    "    if os.path.isfile(parameterized_cb_path):\n",
    "        filterd_cb = sc.read_10x_h5(parameterized_cb_path, genome='background_removed')\n",
    "        parameterized_cb_n_cells = len(list(filterd_cb.to_df().index))\n",
    "        parameterized_cb_p_cells = parameterized_cb_n_cells/number_of_droplets\n",
    "\n",
    "    summary = summary.append(pd.DataFrame([[sample_id, \n",
    "                                           number_of_droplets,\n",
    "                                           simple_CB_n_cells,\n",
    "                                           parameterized_cb_n_cells,\n",
    "                                           simple_CB_p_cells,\n",
    "                                           parameterized_cb_p_cells]], columns = summary.columns))\n",
    "summary"
   ]
  },
  {
   "cell_type": "markdown",
   "metadata": {},
   "source": [
    "Constructing scRNAseq Dataset with CellBender output, keeping only non-empty droplets:"
   ]
  },
  {
   "cell_type": "code",
   "execution_count": 90,
   "metadata": {},
   "outputs": [
    {
     "data": {
      "text/plain": [
       "5093"
      ]
     },
     "execution_count": 90,
     "metadata": {},
     "output_type": "execute_result"
    }
   ],
   "source": [
    "rna_sample.number_of_cells"
   ]
  },
  {
   "cell_type": "markdown",
   "metadata": {},
   "source": [
    "Constructing scRNAseq Dataset with CellBender output, non-empty droplets are defined to be the same raw-data"
   ]
  },
  {
   "cell_type": "code",
   "execution_count": 139,
   "metadata": {},
   "outputs": [
    {
     "name": "stdout",
     "output_type": "stream",
     "text": [
      "\u001b[34mM100\u001b[0m\n",
      "\u001b[31mCellBender output for M100 doesn't exist\u001b[0m\n",
      "\u001b[34mM101\u001b[0m\n"
     ]
    },
    {
     "name": "stderr",
     "output_type": "stream",
     "text": [
      "Variable names are not unique. To make them unique, call `.var_names_make_unique`.\n"
     ]
    },
    {
     "name": "stdout",
     "output_type": "stream",
     "text": [
      "13\n",
      "12\n",
      "\u001b[34mM102\u001b[0m\n",
      "\u001b[31mCellBender output for M102 doesn't exist\u001b[0m\n"
     ]
    }
   ],
   "source": [
    "CELLBENDER_OUTPUT_PATH = r'D:\\PycharmProjects\\CellBender\\server_output\\out_15.12.20'\n",
    "RAW_SAMPLES_OUTPUTS = r'D:\\Technion studies\\Keren Laboratory\\python_playground\\outputs\\scrublet\\10.12.20'\n",
    "OUTPUT_PATH = r'D:\\Technion studies\\Keren Laboratory\\python_playground\\outputs\\CellBender\\PARAMETERIZED_RUN_RNASEQ'\n",
    "\n",
    "samples = [subfolder for subfolder in os.listdir(RAW_SAMPLES_OUTPUTS) if not 'xlsx' in subfolder]\n",
    "create_folder(OUTPUT_PATH)\n",
    "for sample_id in samples[:3]:\n",
    "    print(colored(sample_id, 'blue'))\n",
    "    create_folder(join(OUTPUT_PATH, sample_id))\n",
    "    cb_path = join(CELLBENDER_OUTPUT_PATH, sample_id, 'out_filtered.h5')\n",
    "    sample_path = join(RAW_SAMPLES_OUTPUTS, sample_id, f'{sample_id}.pkl')\n",
    "    rna_sample = pickle.load(open(sample_path, 'rb'))\n",
    "    \n",
    "    if not os.path.isfile(cb_path):\n",
    "        print(colored(f'CellBender output for {sample_id} doesn\\'t exist', 'red'))\n",
    "        pickle.dump((rna_sample), open(os.path.join(OUTPUT_PATH, sample_id, f\"{sample_id}.pkl\"), \"wb\"))\n",
    "        continue\n",
    "   \n",
    "\n",
    "    number_of_droplets = rna_sample.number_of_cells\n",
    "    filterd_cb = sc.read_10x_h5(cb_path, genome='background_removed')\n",
    "    \n",
    "    cb_counts = filterd_cb.to_df().values\n",
    "    cb_barcodes = list(filterd_cb.to_df().index)\n",
    "\n",
    "    rna_sample.counts[[rna_sample.barcodes.index(b) for b in cb_barcodes], :] = cb_counts\n",
    "    pickle.dump((rna_sample), open(os.path.join(OUTPUT_PATH, sample_id, f\"{sample_id}.pkl\"), \"wb\"))\n",
    "    \n",
    "    "
   ]
  },
  {
   "cell_type": "code",
   "execution_count": 142,
   "metadata": {},
   "outputs": [
    {
     "data": {
      "text/plain": [
       "12.0"
      ]
     },
     "execution_count": 142,
     "metadata": {},
     "output_type": "execute_result"
    }
   ],
   "source": [
    "cb_counts[3][24]\n",
    "# rna_sample.counts[rna_sample.barcodes.index(cb_barcodes[3])][24]\n",
    "# rna_sample.barcodes.index(cb_barcodes[3])"
   ]
  },
  {
   "cell_type": "code",
   "execution_count": 10,
   "metadata": {},
   "outputs": [
    {
     "data": {
      "text/plain": [
       "10765"
      ]
     },
     "execution_count": 10,
     "metadata": {},
     "output_type": "execute_result"
    }
   ],
   "source": [
    "RAW_SAMPLES_OUTPUTS = r'D:\\Technion studies\\Keren Laboratory\\python_playground\\outputs\\scrublet\\10.12.20'\n",
    "rna_sample = pickle.load(open(join(RAW_SAMPLES_OUTPUTS, 'M144', 'M144.pkl'), 'rb'))\n",
    "rna_sample.number_of_cells"
   ]
  },
  {
   "cell_type": "code",
   "execution_count": null,
   "metadata": {},
   "outputs": [],
   "source": []
  },
  {
   "cell_type": "code",
   "execution_count": null,
   "metadata": {},
   "outputs": [],
   "source": [
    "\n",
    "# rna_sample.counts.shape\n",
    "\n",
    "print(f'filterd_cb shape {filterd_cb.to_df().values.shape}')\n",
    "cb_counts = filterd_cb.to_df().values\n",
    "cb_barcodes = list(filterd_cb.to_df().index)\n",
    "\n",
    "droplets_with_cells = rna_sample.counts[[rna_sample.barcodes.index(b) for b in cb_barcodes], :]\n",
    "empty_droplets_with_cells = rna_sample.counts[[idx for idx, _b in enumerate(rna_sample.barcodes) if not _b in cb_barcodes], :]\n",
    "print(f'rna_sample.counts.shape {rna_sample.counts.shape}')\n",
    "print(f'droplets_with_cells.shape {droplets_with_cells.shape}')\n",
    "print(f'empty_droplets_with_cells.shape {empty_droplets_with_cells.shape}')"
   ]
  },
  {
   "cell_type": "markdown",
   "metadata": {},
   "source": [
    "# Sanitychecks for CellBender input conversions."
   ]
  },
  {
   "cell_type": "code",
   "execution_count": 87,
   "metadata": {},
   "outputs": [
    {
     "name": "stdout",
     "output_type": "stream",
     "text": [
      "4055\n",
      "4055\n",
      "4055\n"
     ]
    }
   ],
   "source": [
    "path = r'D:\\PycharmProjects\\CellBender\\conversions\\M100'\n",
    "with open(join(path, 'barcodes.tsv'), 'r') as f:\n",
    "    barcodes = f.readlines()\n",
    "with open(join(path, 'genes.tsv'), 'r') as f:\n",
    "    genes = f.readlines()\n",
    "with open(join(path, 'matrix.mtx'), 'r') as f:\n",
    "    matrix = f.readlines()\n",
    "    \n",
    "num_cells = int(matrix[2].split(' ')[1])\n",
    "print(num_cells)\n",
    "print(len(barcodes))\n",
    "print(len(set([int(line.split(' ')[1]) for line in matrix[3:]])))"
   ]
  },
  {
   "cell_type": "markdown",
   "metadata": {},
   "source": [
    "# Creating CellBender scripts"
   ]
  },
  {
   "cell_type": "code",
   "execution_count": null,
   "metadata": {},
   "outputs": [],
   "source": [
    "summary_path = r'D:\\Technion studies\\Keren Laboratory\\python_playground\\outputs\\apoptosis\\10.12.20\\apoptosis_summary.csv'\n",
    "output_scripts_path = r'D:\\Technion studies\\Keren Laboratory\\python_playground\\outputs\\CellBender\\scripts'\n",
    "values = pd.read_csv(summary_path)[['sample name', 'n_cells']].values.tolist()\n",
    "\n",
    "for val in values:\n",
    "    content = ''\n",
    "    sample_name = val[0]\n",
    "    n_cells = val[1]\n",
    "    with open(join(output_scripts_path, f'{sample_name}.sh'), 'wb') as f:\n",
    "        f.write(str.encode(f'mkdir /storage/md_keren/shitay/CellBender/out_15.12.20/{sample_name}\\n'))\n",
    "        f.write(str.encode('source /Local/md_keren/anaconda3/bin/activate cellbender\\n'))\n",
    "        f.write(str.encode('export MKL_NUM_THREADS=8\\n'))\n",
    "        f.write(str.encode('export OMP_NUM_THREADS=8\\n'))\n",
    "        f.write(str.encode(f'cellbender remove-background --input /storage/md_keren/shitay/CellBender/Data/{sample_name}/ --output /storage/md_keren/shitay/CellBender/out_15.12.20/{sample_name}/out.h5 --total-droplets-included {n_cells-3}\\n'))\n",
    "#         content += f'mkdir /storage/md_keren/shitay/CellBender/out_15.12.20/{sample_name}\\n'\n",
    "#         content += 'source /Local/md_keren/anaconda3/bin/activate cellbender\\n'\n",
    "#         content += 'export MKL_NUM_THREADS=8\\n'\n",
    "#         content += 'export OMP_NUM_THREADS=8\\n'\n",
    "#         content += f'cellbender remove-background --input /storage/md_keren/shitay/CellBender/Data/{sample_name}/ --output /storage/md_keren/shitay/CellBender/out_15.12.20/{sample_name}/out.h5\\n'\n",
    "#     print(content)"
   ]
  },
  {
   "cell_type": "code",
   "execution_count": null,
   "metadata": {},
   "outputs": [],
   "source": [
    "INPUT_DIR = r'D:\\Technion studies\\Keren Laboratory\\python_playground\\outputs\\scrublet\\10.12.20'\n",
    "samples = [subfolder for subfolder in os.listdir(INPUT_DIR)]\n",
    "# line = f'mkdir /storage/md_keren/shitay/CellBender/out\\n'\n",
    "line = ''\n",
    "for sample_id in samples[:-1]:\n",
    "#     line += '%@Try%\\n'\n",
    "    line += fr'mkdir /storage/md_keren/shitay/CellBender/out/{sample_id}'+'\\n'\n",
    "    line += fr'cellbender remove-background --input D:\\PycharmProjects\\CellBender\\dummy\\{sample_id} --output D:\\PycharmProjects\\CellBender\\dummy\\{sample_id} --cuda'+'\\n'\n",
    "\n",
    "print(line)\n",
    "\n",
    "\n",
    "# mkdir /storage/md_keren/shitay/CellBender/out/M146\n",
    "# source /Local/md_keren/anaconda3/bin/activate cellbender\n",
    "# cellbender remove-background --input /storage/md_keren/shitay/CellBender/Data/M146/ --output /storage/md_keren/shitay/CellBender/out/M146/out.h5"
   ]
  },
  {
   "cell_type": "code",
   "execution_count": null,
   "metadata": {},
   "outputs": [],
   "source": [
    "INPUT_DIR = r'D:\\Technion studies\\Keren Laboratory\\python_playground\\outputs\\scrublet\\10.12.20'\n",
    "samples = [subfolder for subfolder in os.listdir(INPUT_DIR)]\n",
    "line = f'mkdir /storage/md_keren/shitay/CellBender/out\\n'\n",
    "for sample_id in samples[:-1]:\n",
    "    line += f'mkdir /storage/md_keren/shitay/CellBender/out/{sample_id}\\n'\n",
    "    line += f'/srv01/technion/shitay/.local/bin/cellbender remove-background --input /storage/md_keren/shitay/CellBender/{sample_id} --output /storage/md_keren/shitay/CellBender/out/{sample_id}\\n'\n",
    "print(line)"
   ]
  }
 ],
 "metadata": {
  "kernelspec": {
   "display_name": "Python 3",
   "language": "python",
   "name": "python3"
  },
  "language_info": {
   "codemirror_mode": {
    "name": "ipython",
    "version": 3
   },
   "file_extension": ".py",
   "mimetype": "text/x-python",
   "name": "python",
   "nbconvert_exporter": "python",
   "pygments_lexer": "ipython3",
   "version": "3.7.3"
  }
 },
 "nbformat": 4,
 "nbformat_minor": 4
}
