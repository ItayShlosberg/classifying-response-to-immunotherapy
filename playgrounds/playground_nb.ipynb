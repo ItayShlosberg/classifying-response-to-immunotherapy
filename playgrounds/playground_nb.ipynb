{
 "cells": [
  {
   "cell_type": "code",
   "execution_count": 1,
   "metadata": {},
   "outputs": [],
   "source": [
    "import scanpy as sc\n",
    "from  os.path import join\n",
    "import sys\n",
    "import os\n",
    "lib = r'D:\\Technion studies\\Keren Laboratory\\python_playground\\classifying-response-to-immunotherapy\\utilities\\droplet_dataset'\n",
    "lib2 = r'D:\\Technion studies\\Keren Laboratory\\python_playground\\classifying-response-to-immunotherapy\\utilities'\n",
    "lib3 = r'D:\\Technion studies\\Keren Laboratory\\python_playground\\classifying-response-to-immunotherapy\\data_analysis'\n",
    "lib4 = r'D:\\Technion studies\\Keren Laboratory\\python_playground\\classifying-response-to-immunotherapy'\n",
    "lib5 = r'D:\\Technion studies\\Keren Laboratory\\python_playground\\classifying-response-to-immunotherapy\\scripts'\n",
    "sys.path.append(lib)\n",
    "sys.path.append(lib2)\n",
    "sys.path.append(lib3)\n",
    "sys.path.append(lib4)\n",
    "sys.path.append(lib5)\n",
    "import os\n",
    "from os.path import join\n",
    "import sklearn\n",
    "from droplet_dataset import *\n",
    "from utilities import *\n",
    "from matplotlib import pyplot\n",
    "import numpy as np\n",
    "import scipy\n",
    "import pickle\n",
    "import matplotlib.pyplot as plt\n",
    "import pickle\n",
    "import pandas as pd\n",
    "import random\n",
    "from scipy.stats import pearsonr\n",
    "from matplotlib.pyplot import figure\n",
    "from termcolor import colored\n",
    "import tables\n",
    "\n"
   ]
  },
  {
   "cell_type": "code",
   "execution_count": null,
   "metadata": {},
   "outputs": [],
   "source": [
    "\n"
   ]
  },
  {
   "cell_type": "code",
   "execution_count": null,
   "metadata": {},
   "outputs": [],
   "source": []
  },
  {
   "cell_type": "markdown",
   "metadata": {},
   "source": [
    "# number of mitochondria reads vs. number of reads"
   ]
  },
  {
   "cell_type": "code",
   "execution_count": 5,
   "metadata": {},
   "outputs": [
    {
     "name": "stdout",
     "output_type": "stream",
     "text": [
      "count shape (5981, 23986)\n"
     ]
    },
    {
     "data": {
      "application/javascript": [
       "/* Put everything inside the global mpl namespace */\n",
       "window.mpl = {};\n",
       "\n",
       "\n",
       "mpl.get_websocket_type = function() {\n",
       "    if (typeof(WebSocket) !== 'undefined') {\n",
       "        return WebSocket;\n",
       "    } else if (typeof(MozWebSocket) !== 'undefined') {\n",
       "        return MozWebSocket;\n",
       "    } else {\n",
       "        alert('Your browser does not have WebSocket support.' +\n",
       "              'Please try Chrome, Safari or Firefox ≥ 6. ' +\n",
       "              'Firefox 4 and 5 are also supported but you ' +\n",
       "              'have to enable WebSockets in about:config.');\n",
       "    };\n",
       "}\n",
       "\n",
       "mpl.figure = function(figure_id, websocket, ondownload, parent_element) {\n",
       "    this.id = figure_id;\n",
       "\n",
       "    this.ws = websocket;\n",
       "\n",
       "    this.supports_binary = (this.ws.binaryType != undefined);\n",
       "\n",
       "    if (!this.supports_binary) {\n",
       "        var warnings = document.getElementById(\"mpl-warnings\");\n",
       "        if (warnings) {\n",
       "            warnings.style.display = 'block';\n",
       "            warnings.textContent = (\n",
       "                \"This browser does not support binary websocket messages. \" +\n",
       "                    \"Performance may be slow.\");\n",
       "        }\n",
       "    }\n",
       "\n",
       "    this.imageObj = new Image();\n",
       "\n",
       "    this.context = undefined;\n",
       "    this.message = undefined;\n",
       "    this.canvas = undefined;\n",
       "    this.rubberband_canvas = undefined;\n",
       "    this.rubberband_context = undefined;\n",
       "    this.format_dropdown = undefined;\n",
       "\n",
       "    this.image_mode = 'full';\n",
       "\n",
       "    this.root = $('<div/>');\n",
       "    this._root_extra_style(this.root)\n",
       "    this.root.attr('style', 'display: inline-block');\n",
       "\n",
       "    $(parent_element).append(this.root);\n",
       "\n",
       "    this._init_header(this);\n",
       "    this._init_canvas(this);\n",
       "    this._init_toolbar(this);\n",
       "\n",
       "    var fig = this;\n",
       "\n",
       "    this.waiting = false;\n",
       "\n",
       "    this.ws.onopen =  function () {\n",
       "            fig.send_message(\"supports_binary\", {value: fig.supports_binary});\n",
       "            fig.send_message(\"send_image_mode\", {});\n",
       "            if (mpl.ratio != 1) {\n",
       "                fig.send_message(\"set_dpi_ratio\", {'dpi_ratio': mpl.ratio});\n",
       "            }\n",
       "            fig.send_message(\"refresh\", {});\n",
       "        }\n",
       "\n",
       "    this.imageObj.onload = function() {\n",
       "            if (fig.image_mode == 'full') {\n",
       "                // Full images could contain transparency (where diff images\n",
       "                // almost always do), so we need to clear the canvas so that\n",
       "                // there is no ghosting.\n",
       "                fig.context.clearRect(0, 0, fig.canvas.width, fig.canvas.height);\n",
       "            }\n",
       "            fig.context.drawImage(fig.imageObj, 0, 0);\n",
       "        };\n",
       "\n",
       "    this.imageObj.onunload = function() {\n",
       "        fig.ws.close();\n",
       "    }\n",
       "\n",
       "    this.ws.onmessage = this._make_on_message_function(this);\n",
       "\n",
       "    this.ondownload = ondownload;\n",
       "}\n",
       "\n",
       "mpl.figure.prototype._init_header = function() {\n",
       "    var titlebar = $(\n",
       "        '<div class=\"ui-dialog-titlebar ui-widget-header ui-corner-all ' +\n",
       "        'ui-helper-clearfix\"/>');\n",
       "    var titletext = $(\n",
       "        '<div class=\"ui-dialog-title\" style=\"width: 100%; ' +\n",
       "        'text-align: center; padding: 3px;\"/>');\n",
       "    titlebar.append(titletext)\n",
       "    this.root.append(titlebar);\n",
       "    this.header = titletext[0];\n",
       "}\n",
       "\n",
       "\n",
       "\n",
       "mpl.figure.prototype._canvas_extra_style = function(canvas_div) {\n",
       "\n",
       "}\n",
       "\n",
       "\n",
       "mpl.figure.prototype._root_extra_style = function(canvas_div) {\n",
       "\n",
       "}\n",
       "\n",
       "mpl.figure.prototype._init_canvas = function() {\n",
       "    var fig = this;\n",
       "\n",
       "    var canvas_div = $('<div/>');\n",
       "\n",
       "    canvas_div.attr('style', 'position: relative; clear: both; outline: 0');\n",
       "\n",
       "    function canvas_keyboard_event(event) {\n",
       "        return fig.key_event(event, event['data']);\n",
       "    }\n",
       "\n",
       "    canvas_div.keydown('key_press', canvas_keyboard_event);\n",
       "    canvas_div.keyup('key_release', canvas_keyboard_event);\n",
       "    this.canvas_div = canvas_div\n",
       "    this._canvas_extra_style(canvas_div)\n",
       "    this.root.append(canvas_div);\n",
       "\n",
       "    var canvas = $('<canvas/>');\n",
       "    canvas.addClass('mpl-canvas');\n",
       "    canvas.attr('style', \"left: 0; top: 0; z-index: 0; outline: 0\")\n",
       "\n",
       "    this.canvas = canvas[0];\n",
       "    this.context = canvas[0].getContext(\"2d\");\n",
       "\n",
       "    var backingStore = this.context.backingStorePixelRatio ||\n",
       "\tthis.context.webkitBackingStorePixelRatio ||\n",
       "\tthis.context.mozBackingStorePixelRatio ||\n",
       "\tthis.context.msBackingStorePixelRatio ||\n",
       "\tthis.context.oBackingStorePixelRatio ||\n",
       "\tthis.context.backingStorePixelRatio || 1;\n",
       "\n",
       "    mpl.ratio = (window.devicePixelRatio || 1) / backingStore;\n",
       "\n",
       "    var rubberband = $('<canvas/>');\n",
       "    rubberband.attr('style', \"position: absolute; left: 0; top: 0; z-index: 1;\")\n",
       "\n",
       "    var pass_mouse_events = true;\n",
       "\n",
       "    canvas_div.resizable({\n",
       "        start: function(event, ui) {\n",
       "            pass_mouse_events = false;\n",
       "        },\n",
       "        resize: function(event, ui) {\n",
       "            fig.request_resize(ui.size.width, ui.size.height);\n",
       "        },\n",
       "        stop: function(event, ui) {\n",
       "            pass_mouse_events = true;\n",
       "            fig.request_resize(ui.size.width, ui.size.height);\n",
       "        },\n",
       "    });\n",
       "\n",
       "    function mouse_event_fn(event) {\n",
       "        if (pass_mouse_events)\n",
       "            return fig.mouse_event(event, event['data']);\n",
       "    }\n",
       "\n",
       "    rubberband.mousedown('button_press', mouse_event_fn);\n",
       "    rubberband.mouseup('button_release', mouse_event_fn);\n",
       "    // Throttle sequential mouse events to 1 every 20ms.\n",
       "    rubberband.mousemove('motion_notify', mouse_event_fn);\n",
       "\n",
       "    rubberband.mouseenter('figure_enter', mouse_event_fn);\n",
       "    rubberband.mouseleave('figure_leave', mouse_event_fn);\n",
       "\n",
       "    canvas_div.on(\"wheel\", function (event) {\n",
       "        event = event.originalEvent;\n",
       "        event['data'] = 'scroll'\n",
       "        if (event.deltaY < 0) {\n",
       "            event.step = 1;\n",
       "        } else {\n",
       "            event.step = -1;\n",
       "        }\n",
       "        mouse_event_fn(event);\n",
       "    });\n",
       "\n",
       "    canvas_div.append(canvas);\n",
       "    canvas_div.append(rubberband);\n",
       "\n",
       "    this.rubberband = rubberband;\n",
       "    this.rubberband_canvas = rubberband[0];\n",
       "    this.rubberband_context = rubberband[0].getContext(\"2d\");\n",
       "    this.rubberband_context.strokeStyle = \"#000000\";\n",
       "\n",
       "    this._resize_canvas = function(width, height) {\n",
       "        // Keep the size of the canvas, canvas container, and rubber band\n",
       "        // canvas in synch.\n",
       "        canvas_div.css('width', width)\n",
       "        canvas_div.css('height', height)\n",
       "\n",
       "        canvas.attr('width', width * mpl.ratio);\n",
       "        canvas.attr('height', height * mpl.ratio);\n",
       "        canvas.attr('style', 'width: ' + width + 'px; height: ' + height + 'px;');\n",
       "\n",
       "        rubberband.attr('width', width);\n",
       "        rubberband.attr('height', height);\n",
       "    }\n",
       "\n",
       "    // Set the figure to an initial 600x600px, this will subsequently be updated\n",
       "    // upon first draw.\n",
       "    this._resize_canvas(600, 600);\n",
       "\n",
       "    // Disable right mouse context menu.\n",
       "    $(this.rubberband_canvas).bind(\"contextmenu\",function(e){\n",
       "        return false;\n",
       "    });\n",
       "\n",
       "    function set_focus () {\n",
       "        canvas.focus();\n",
       "        canvas_div.focus();\n",
       "    }\n",
       "\n",
       "    window.setTimeout(set_focus, 100);\n",
       "}\n",
       "\n",
       "mpl.figure.prototype._init_toolbar = function() {\n",
       "    var fig = this;\n",
       "\n",
       "    var nav_element = $('<div/>')\n",
       "    nav_element.attr('style', 'width: 100%');\n",
       "    this.root.append(nav_element);\n",
       "\n",
       "    // Define a callback function for later on.\n",
       "    function toolbar_event(event) {\n",
       "        return fig.toolbar_button_onclick(event['data']);\n",
       "    }\n",
       "    function toolbar_mouse_event(event) {\n",
       "        return fig.toolbar_button_onmouseover(event['data']);\n",
       "    }\n",
       "\n",
       "    for(var toolbar_ind in mpl.toolbar_items) {\n",
       "        var name = mpl.toolbar_items[toolbar_ind][0];\n",
       "        var tooltip = mpl.toolbar_items[toolbar_ind][1];\n",
       "        var image = mpl.toolbar_items[toolbar_ind][2];\n",
       "        var method_name = mpl.toolbar_items[toolbar_ind][3];\n",
       "\n",
       "        if (!name) {\n",
       "            // put a spacer in here.\n",
       "            continue;\n",
       "        }\n",
       "        var button = $('<button/>');\n",
       "        button.addClass('ui-button ui-widget ui-state-default ui-corner-all ' +\n",
       "                        'ui-button-icon-only');\n",
       "        button.attr('role', 'button');\n",
       "        button.attr('aria-disabled', 'false');\n",
       "        button.click(method_name, toolbar_event);\n",
       "        button.mouseover(tooltip, toolbar_mouse_event);\n",
       "\n",
       "        var icon_img = $('<span/>');\n",
       "        icon_img.addClass('ui-button-icon-primary ui-icon');\n",
       "        icon_img.addClass(image);\n",
       "        icon_img.addClass('ui-corner-all');\n",
       "\n",
       "        var tooltip_span = $('<span/>');\n",
       "        tooltip_span.addClass('ui-button-text');\n",
       "        tooltip_span.html(tooltip);\n",
       "\n",
       "        button.append(icon_img);\n",
       "        button.append(tooltip_span);\n",
       "\n",
       "        nav_element.append(button);\n",
       "    }\n",
       "\n",
       "    var fmt_picker_span = $('<span/>');\n",
       "\n",
       "    var fmt_picker = $('<select/>');\n",
       "    fmt_picker.addClass('mpl-toolbar-option ui-widget ui-widget-content');\n",
       "    fmt_picker_span.append(fmt_picker);\n",
       "    nav_element.append(fmt_picker_span);\n",
       "    this.format_dropdown = fmt_picker[0];\n",
       "\n",
       "    for (var ind in mpl.extensions) {\n",
       "        var fmt = mpl.extensions[ind];\n",
       "        var option = $(\n",
       "            '<option/>', {selected: fmt === mpl.default_extension}).html(fmt);\n",
       "        fmt_picker.append(option)\n",
       "    }\n",
       "\n",
       "    // Add hover states to the ui-buttons\n",
       "    $( \".ui-button\" ).hover(\n",
       "        function() { $(this).addClass(\"ui-state-hover\");},\n",
       "        function() { $(this).removeClass(\"ui-state-hover\");}\n",
       "    );\n",
       "\n",
       "    var status_bar = $('<span class=\"mpl-message\"/>');\n",
       "    nav_element.append(status_bar);\n",
       "    this.message = status_bar[0];\n",
       "}\n",
       "\n",
       "mpl.figure.prototype.request_resize = function(x_pixels, y_pixels) {\n",
       "    // Request matplotlib to resize the figure. Matplotlib will then trigger a resize in the client,\n",
       "    // which will in turn request a refresh of the image.\n",
       "    this.send_message('resize', {'width': x_pixels, 'height': y_pixels});\n",
       "}\n",
       "\n",
       "mpl.figure.prototype.send_message = function(type, properties) {\n",
       "    properties['type'] = type;\n",
       "    properties['figure_id'] = this.id;\n",
       "    this.ws.send(JSON.stringify(properties));\n",
       "}\n",
       "\n",
       "mpl.figure.prototype.send_draw_message = function() {\n",
       "    if (!this.waiting) {\n",
       "        this.waiting = true;\n",
       "        this.ws.send(JSON.stringify({type: \"draw\", figure_id: this.id}));\n",
       "    }\n",
       "}\n",
       "\n",
       "\n",
       "mpl.figure.prototype.handle_save = function(fig, msg) {\n",
       "    var format_dropdown = fig.format_dropdown;\n",
       "    var format = format_dropdown.options[format_dropdown.selectedIndex].value;\n",
       "    fig.ondownload(fig, format);\n",
       "}\n",
       "\n",
       "\n",
       "mpl.figure.prototype.handle_resize = function(fig, msg) {\n",
       "    var size = msg['size'];\n",
       "    if (size[0] != fig.canvas.width || size[1] != fig.canvas.height) {\n",
       "        fig._resize_canvas(size[0], size[1]);\n",
       "        fig.send_message(\"refresh\", {});\n",
       "    };\n",
       "}\n",
       "\n",
       "mpl.figure.prototype.handle_rubberband = function(fig, msg) {\n",
       "    var x0 = msg['x0'] / mpl.ratio;\n",
       "    var y0 = (fig.canvas.height - msg['y0']) / mpl.ratio;\n",
       "    var x1 = msg['x1'] / mpl.ratio;\n",
       "    var y1 = (fig.canvas.height - msg['y1']) / mpl.ratio;\n",
       "    x0 = Math.floor(x0) + 0.5;\n",
       "    y0 = Math.floor(y0) + 0.5;\n",
       "    x1 = Math.floor(x1) + 0.5;\n",
       "    y1 = Math.floor(y1) + 0.5;\n",
       "    var min_x = Math.min(x0, x1);\n",
       "    var min_y = Math.min(y0, y1);\n",
       "    var width = Math.abs(x1 - x0);\n",
       "    var height = Math.abs(y1 - y0);\n",
       "\n",
       "    fig.rubberband_context.clearRect(\n",
       "        0, 0, fig.canvas.width, fig.canvas.height);\n",
       "\n",
       "    fig.rubberband_context.strokeRect(min_x, min_y, width, height);\n",
       "}\n",
       "\n",
       "mpl.figure.prototype.handle_figure_label = function(fig, msg) {\n",
       "    // Updates the figure title.\n",
       "    fig.header.textContent = msg['label'];\n",
       "}\n",
       "\n",
       "mpl.figure.prototype.handle_cursor = function(fig, msg) {\n",
       "    var cursor = msg['cursor'];\n",
       "    switch(cursor)\n",
       "    {\n",
       "    case 0:\n",
       "        cursor = 'pointer';\n",
       "        break;\n",
       "    case 1:\n",
       "        cursor = 'default';\n",
       "        break;\n",
       "    case 2:\n",
       "        cursor = 'crosshair';\n",
       "        break;\n",
       "    case 3:\n",
       "        cursor = 'move';\n",
       "        break;\n",
       "    }\n",
       "    fig.rubberband_canvas.style.cursor = cursor;\n",
       "}\n",
       "\n",
       "mpl.figure.prototype.handle_message = function(fig, msg) {\n",
       "    fig.message.textContent = msg['message'];\n",
       "}\n",
       "\n",
       "mpl.figure.prototype.handle_draw = function(fig, msg) {\n",
       "    // Request the server to send over a new figure.\n",
       "    fig.send_draw_message();\n",
       "}\n",
       "\n",
       "mpl.figure.prototype.handle_image_mode = function(fig, msg) {\n",
       "    fig.image_mode = msg['mode'];\n",
       "}\n",
       "\n",
       "mpl.figure.prototype.updated_canvas_event = function() {\n",
       "    // Called whenever the canvas gets updated.\n",
       "    this.send_message(\"ack\", {});\n",
       "}\n",
       "\n",
       "// A function to construct a web socket function for onmessage handling.\n",
       "// Called in the figure constructor.\n",
       "mpl.figure.prototype._make_on_message_function = function(fig) {\n",
       "    return function socket_on_message(evt) {\n",
       "        if (evt.data instanceof Blob) {\n",
       "            /* FIXME: We get \"Resource interpreted as Image but\n",
       "             * transferred with MIME type text/plain:\" errors on\n",
       "             * Chrome.  But how to set the MIME type?  It doesn't seem\n",
       "             * to be part of the websocket stream */\n",
       "            evt.data.type = \"image/png\";\n",
       "\n",
       "            /* Free the memory for the previous frames */\n",
       "            if (fig.imageObj.src) {\n",
       "                (window.URL || window.webkitURL).revokeObjectURL(\n",
       "                    fig.imageObj.src);\n",
       "            }\n",
       "\n",
       "            fig.imageObj.src = (window.URL || window.webkitURL).createObjectURL(\n",
       "                evt.data);\n",
       "            fig.updated_canvas_event();\n",
       "            fig.waiting = false;\n",
       "            return;\n",
       "        }\n",
       "        else if (typeof evt.data === 'string' && evt.data.slice(0, 21) == \"data:image/png;base64\") {\n",
       "            fig.imageObj.src = evt.data;\n",
       "            fig.updated_canvas_event();\n",
       "            fig.waiting = false;\n",
       "            return;\n",
       "        }\n",
       "\n",
       "        var msg = JSON.parse(evt.data);\n",
       "        var msg_type = msg['type'];\n",
       "\n",
       "        // Call the  \"handle_{type}\" callback, which takes\n",
       "        // the figure and JSON message as its only arguments.\n",
       "        try {\n",
       "            var callback = fig[\"handle_\" + msg_type];\n",
       "        } catch (e) {\n",
       "            console.log(\"No handler for the '\" + msg_type + \"' message type: \", msg);\n",
       "            return;\n",
       "        }\n",
       "\n",
       "        if (callback) {\n",
       "            try {\n",
       "                // console.log(\"Handling '\" + msg_type + \"' message: \", msg);\n",
       "                callback(fig, msg);\n",
       "            } catch (e) {\n",
       "                console.log(\"Exception inside the 'handler_\" + msg_type + \"' callback:\", e, e.stack, msg);\n",
       "            }\n",
       "        }\n",
       "    };\n",
       "}\n",
       "\n",
       "// from http://stackoverflow.com/questions/1114465/getting-mouse-location-in-canvas\n",
       "mpl.findpos = function(e) {\n",
       "    //this section is from http://www.quirksmode.org/js/events_properties.html\n",
       "    var targ;\n",
       "    if (!e)\n",
       "        e = window.event;\n",
       "    if (e.target)\n",
       "        targ = e.target;\n",
       "    else if (e.srcElement)\n",
       "        targ = e.srcElement;\n",
       "    if (targ.nodeType == 3) // defeat Safari bug\n",
       "        targ = targ.parentNode;\n",
       "\n",
       "    // jQuery normalizes the pageX and pageY\n",
       "    // pageX,Y are the mouse positions relative to the document\n",
       "    // offset() returns the position of the element relative to the document\n",
       "    var x = e.pageX - $(targ).offset().left;\n",
       "    var y = e.pageY - $(targ).offset().top;\n",
       "\n",
       "    return {\"x\": x, \"y\": y};\n",
       "};\n",
       "\n",
       "/*\n",
       " * return a copy of an object with only non-object keys\n",
       " * we need this to avoid circular references\n",
       " * http://stackoverflow.com/a/24161582/3208463\n",
       " */\n",
       "function simpleKeys (original) {\n",
       "  return Object.keys(original).reduce(function (obj, key) {\n",
       "    if (typeof original[key] !== 'object')\n",
       "        obj[key] = original[key]\n",
       "    return obj;\n",
       "  }, {});\n",
       "}\n",
       "\n",
       "mpl.figure.prototype.mouse_event = function(event, name) {\n",
       "    var canvas_pos = mpl.findpos(event)\n",
       "\n",
       "    if (name === 'button_press')\n",
       "    {\n",
       "        this.canvas.focus();\n",
       "        this.canvas_div.focus();\n",
       "    }\n",
       "\n",
       "    var x = canvas_pos.x * mpl.ratio;\n",
       "    var y = canvas_pos.y * mpl.ratio;\n",
       "\n",
       "    this.send_message(name, {x: x, y: y, button: event.button,\n",
       "                             step: event.step,\n",
       "                             guiEvent: simpleKeys(event)});\n",
       "\n",
       "    /* This prevents the web browser from automatically changing to\n",
       "     * the text insertion cursor when the button is pressed.  We want\n",
       "     * to control all of the cursor setting manually through the\n",
       "     * 'cursor' event from matplotlib */\n",
       "    event.preventDefault();\n",
       "    return false;\n",
       "}\n",
       "\n",
       "mpl.figure.prototype._key_event_extra = function(event, name) {\n",
       "    // Handle any extra behaviour associated with a key event\n",
       "}\n",
       "\n",
       "mpl.figure.prototype.key_event = function(event, name) {\n",
       "\n",
       "    // Prevent repeat events\n",
       "    if (name == 'key_press')\n",
       "    {\n",
       "        if (event.which === this._key)\n",
       "            return;\n",
       "        else\n",
       "            this._key = event.which;\n",
       "    }\n",
       "    if (name == 'key_release')\n",
       "        this._key = null;\n",
       "\n",
       "    var value = '';\n",
       "    if (event.ctrlKey && event.which != 17)\n",
       "        value += \"ctrl+\";\n",
       "    if (event.altKey && event.which != 18)\n",
       "        value += \"alt+\";\n",
       "    if (event.shiftKey && event.which != 16)\n",
       "        value += \"shift+\";\n",
       "\n",
       "    value += 'k';\n",
       "    value += event.which.toString();\n",
       "\n",
       "    this._key_event_extra(event, name);\n",
       "\n",
       "    this.send_message(name, {key: value,\n",
       "                             guiEvent: simpleKeys(event)});\n",
       "    return false;\n",
       "}\n",
       "\n",
       "mpl.figure.prototype.toolbar_button_onclick = function(name) {\n",
       "    if (name == 'download') {\n",
       "        this.handle_save(this, null);\n",
       "    } else {\n",
       "        this.send_message(\"toolbar_button\", {name: name});\n",
       "    }\n",
       "};\n",
       "\n",
       "mpl.figure.prototype.toolbar_button_onmouseover = function(tooltip) {\n",
       "    this.message.textContent = tooltip;\n",
       "};\n",
       "mpl.toolbar_items = [[\"Home\", \"Reset original view\", \"fa fa-home icon-home\", \"home\"], [\"Back\", \"Back to previous view\", \"fa fa-arrow-left icon-arrow-left\", \"back\"], [\"Forward\", \"Forward to next view\", \"fa fa-arrow-right icon-arrow-right\", \"forward\"], [\"\", \"\", \"\", \"\"], [\"Pan\", \"Pan axes with left mouse, zoom with right\", \"fa fa-arrows icon-move\", \"pan\"], [\"Zoom\", \"Zoom to rectangle\", \"fa fa-square-o icon-check-empty\", \"zoom\"], [\"\", \"\", \"\", \"\"], [\"Download\", \"Download plot\", \"fa fa-floppy-o icon-save\", \"download\"]];\n",
       "\n",
       "mpl.extensions = [\"eps\", \"jpeg\", \"pdf\", \"png\", \"ps\", \"raw\", \"svg\", \"tif\"];\n",
       "\n",
       "mpl.default_extension = \"png\";var comm_websocket_adapter = function(comm) {\n",
       "    // Create a \"websocket\"-like object which calls the given IPython comm\n",
       "    // object with the appropriate methods. Currently this is a non binary\n",
       "    // socket, so there is still some room for performance tuning.\n",
       "    var ws = {};\n",
       "\n",
       "    ws.close = function() {\n",
       "        comm.close()\n",
       "    };\n",
       "    ws.send = function(m) {\n",
       "        //console.log('sending', m);\n",
       "        comm.send(m);\n",
       "    };\n",
       "    // Register the callback with on_msg.\n",
       "    comm.on_msg(function(msg) {\n",
       "        //console.log('receiving', msg['content']['data'], msg);\n",
       "        // Pass the mpl event to the overridden (by mpl) onmessage function.\n",
       "        ws.onmessage(msg['content']['data'])\n",
       "    });\n",
       "    return ws;\n",
       "}\n",
       "\n",
       "mpl.mpl_figure_comm = function(comm, msg) {\n",
       "    // This is the function which gets called when the mpl process\n",
       "    // starts-up an IPython Comm through the \"matplotlib\" channel.\n",
       "\n",
       "    var id = msg.content.data.id;\n",
       "    // Get hold of the div created by the display call when the Comm\n",
       "    // socket was opened in Python.\n",
       "    var element = $(\"#\" + id);\n",
       "    var ws_proxy = comm_websocket_adapter(comm)\n",
       "\n",
       "    function ondownload(figure, format) {\n",
       "        window.open(figure.imageObj.src);\n",
       "    }\n",
       "\n",
       "    var fig = new mpl.figure(id, ws_proxy,\n",
       "                           ondownload,\n",
       "                           element.get(0));\n",
       "\n",
       "    // Call onopen now - mpl needs it, as it is assuming we've passed it a real\n",
       "    // web socket which is closed, not our websocket->open comm proxy.\n",
       "    ws_proxy.onopen();\n",
       "\n",
       "    fig.parent_element = element.get(0);\n",
       "    fig.cell_info = mpl.find_output_cell(\"<div id='\" + id + \"'></div>\");\n",
       "    if (!fig.cell_info) {\n",
       "        console.error(\"Failed to find cell for figure\", id, fig);\n",
       "        return;\n",
       "    }\n",
       "\n",
       "    var output_index = fig.cell_info[2]\n",
       "    var cell = fig.cell_info[0];\n",
       "\n",
       "};\n",
       "\n",
       "mpl.figure.prototype.handle_close = function(fig, msg) {\n",
       "    var width = fig.canvas.width/mpl.ratio\n",
       "    fig.root.unbind('remove')\n",
       "\n",
       "    // Update the output cell to use the data from the current canvas.\n",
       "    fig.push_to_output();\n",
       "    var dataURL = fig.canvas.toDataURL();\n",
       "    // Re-enable the keyboard manager in IPython - without this line, in FF,\n",
       "    // the notebook keyboard shortcuts fail.\n",
       "    IPython.keyboard_manager.enable()\n",
       "    $(fig.parent_element).html('<img src=\"' + dataURL + '\" width=\"' + width + '\">');\n",
       "    fig.close_ws(fig, msg);\n",
       "}\n",
       "\n",
       "mpl.figure.prototype.close_ws = function(fig, msg){\n",
       "    fig.send_message('closing', msg);\n",
       "    // fig.ws.close()\n",
       "}\n",
       "\n",
       "mpl.figure.prototype.push_to_output = function(remove_interactive) {\n",
       "    // Turn the data on the canvas into data in the output cell.\n",
       "    var width = this.canvas.width/mpl.ratio\n",
       "    var dataURL = this.canvas.toDataURL();\n",
       "    this.cell_info[1]['text/html'] = '<img src=\"' + dataURL + '\" width=\"' + width + '\">';\n",
       "}\n",
       "\n",
       "mpl.figure.prototype.updated_canvas_event = function() {\n",
       "    // Tell IPython that the notebook contents must change.\n",
       "    IPython.notebook.set_dirty(true);\n",
       "    this.send_message(\"ack\", {});\n",
       "    var fig = this;\n",
       "    // Wait a second, then push the new image to the DOM so\n",
       "    // that it is saved nicely (might be nice to debounce this).\n",
       "    setTimeout(function () { fig.push_to_output() }, 1000);\n",
       "}\n",
       "\n",
       "mpl.figure.prototype._init_toolbar = function() {\n",
       "    var fig = this;\n",
       "\n",
       "    var nav_element = $('<div/>')\n",
       "    nav_element.attr('style', 'width: 100%');\n",
       "    this.root.append(nav_element);\n",
       "\n",
       "    // Define a callback function for later on.\n",
       "    function toolbar_event(event) {\n",
       "        return fig.toolbar_button_onclick(event['data']);\n",
       "    }\n",
       "    function toolbar_mouse_event(event) {\n",
       "        return fig.toolbar_button_onmouseover(event['data']);\n",
       "    }\n",
       "\n",
       "    for(var toolbar_ind in mpl.toolbar_items){\n",
       "        var name = mpl.toolbar_items[toolbar_ind][0];\n",
       "        var tooltip = mpl.toolbar_items[toolbar_ind][1];\n",
       "        var image = mpl.toolbar_items[toolbar_ind][2];\n",
       "        var method_name = mpl.toolbar_items[toolbar_ind][3];\n",
       "\n",
       "        if (!name) { continue; };\n",
       "\n",
       "        var button = $('<button class=\"btn btn-default\" href=\"#\" title=\"' + name + '\"><i class=\"fa ' + image + ' fa-lg\"></i></button>');\n",
       "        button.click(method_name, toolbar_event);\n",
       "        button.mouseover(tooltip, toolbar_mouse_event);\n",
       "        nav_element.append(button);\n",
       "    }\n",
       "\n",
       "    // Add the status bar.\n",
       "    var status_bar = $('<span class=\"mpl-message\" style=\"text-align:right; float: right;\"/>');\n",
       "    nav_element.append(status_bar);\n",
       "    this.message = status_bar[0];\n",
       "\n",
       "    // Add the close button to the window.\n",
       "    var buttongrp = $('<div class=\"btn-group inline pull-right\"></div>');\n",
       "    var button = $('<button class=\"btn btn-mini btn-primary\" href=\"#\" title=\"Stop Interaction\"><i class=\"fa fa-power-off icon-remove icon-large\"></i></button>');\n",
       "    button.click(function (evt) { fig.handle_close(fig, {}); } );\n",
       "    button.mouseover('Stop Interaction', toolbar_mouse_event);\n",
       "    buttongrp.append(button);\n",
       "    var titlebar = this.root.find($('.ui-dialog-titlebar'));\n",
       "    titlebar.prepend(buttongrp);\n",
       "}\n",
       "\n",
       "mpl.figure.prototype._root_extra_style = function(el){\n",
       "    var fig = this\n",
       "    el.on(\"remove\", function(){\n",
       "\tfig.close_ws(fig, {});\n",
       "    });\n",
       "}\n",
       "\n",
       "mpl.figure.prototype._canvas_extra_style = function(el){\n",
       "    // this is important to make the div 'focusable\n",
       "    el.attr('tabindex', 0)\n",
       "    // reach out to IPython and tell the keyboard manager to turn it's self\n",
       "    // off when our div gets focus\n",
       "\n",
       "    // location in version 3\n",
       "    if (IPython.notebook.keyboard_manager) {\n",
       "        IPython.notebook.keyboard_manager.register_events(el);\n",
       "    }\n",
       "    else {\n",
       "        // location in version 2\n",
       "        IPython.keyboard_manager.register_events(el);\n",
       "    }\n",
       "\n",
       "}\n",
       "\n",
       "mpl.figure.prototype._key_event_extra = function(event, name) {\n",
       "    var manager = IPython.notebook.keyboard_manager;\n",
       "    if (!manager)\n",
       "        manager = IPython.keyboard_manager;\n",
       "\n",
       "    // Check for shift+enter\n",
       "    if (event.shiftKey && event.which == 13) {\n",
       "        this.canvas_div.blur();\n",
       "        event.shiftKey = false;\n",
       "        // Send a \"J\" for go to next cell\n",
       "        event.which = 74;\n",
       "        event.keyCode = 74;\n",
       "        manager.command_mode();\n",
       "        manager.handle_keydown(event);\n",
       "    }\n",
       "}\n",
       "\n",
       "mpl.figure.prototype.handle_save = function(fig, msg) {\n",
       "    fig.ondownload(fig, null);\n",
       "}\n",
       "\n",
       "\n",
       "mpl.find_output_cell = function(html_output) {\n",
       "    // Return the cell and output element which can be found *uniquely* in the notebook.\n",
       "    // Note - this is a bit hacky, but it is done because the \"notebook_saving.Notebook\"\n",
       "    // IPython event is triggered only after the cells have been serialised, which for\n",
       "    // our purposes (turning an active figure into a static one), is too late.\n",
       "    var cells = IPython.notebook.get_cells();\n",
       "    var ncells = cells.length;\n",
       "    for (var i=0; i<ncells; i++) {\n",
       "        var cell = cells[i];\n",
       "        if (cell.cell_type === 'code'){\n",
       "            for (var j=0; j<cell.output_area.outputs.length; j++) {\n",
       "                var data = cell.output_area.outputs[j];\n",
       "                if (data.data) {\n",
       "                    // IPython >= 3 moved mimebundle to data attribute of output\n",
       "                    data = data.data;\n",
       "                }\n",
       "                if (data['text/html'] == html_output) {\n",
       "                    return [cell, data, j];\n",
       "                }\n",
       "            }\n",
       "        }\n",
       "    }\n",
       "}\n",
       "\n",
       "// Register the function which deals with the matplotlib target/channel.\n",
       "// The kernel may be null if the page has been refreshed.\n",
       "if (IPython.notebook.kernel != null) {\n",
       "    IPython.notebook.kernel.comm_manager.register_target('matplotlib', mpl.mpl_figure_comm);\n",
       "}\n"
      ],
      "text/plain": [
       "<IPython.core.display.Javascript object>"
      ]
     },
     "metadata": {},
     "output_type": "display_data"
    },
    {
     "data": {
      "text/html": [
       "<img src=\"data:image/png;base64,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\" width=\"308.44444444444446\">"
      ],
      "text/plain": [
       "<IPython.core.display.HTML object>"
      ]
     },
     "metadata": {},
     "output_type": "display_data"
    },
    {
     "name": "stdout",
     "output_type": "stream",
     "text": [
      "num of mitochondria genes 13\n",
      "mitochondria genes ['MT-ND1', 'MT-ND2', 'MT-CO1', 'MT-CO2', 'MT-ATP8', 'MT-ATP6', 'MT-CO3', 'MT-ND3', 'MT-ND4L', 'MT-ND4', 'MT-ND5', 'MT-ND6', 'MT-CYB']\n",
      "pearson correlation  (0.8175328673698923, 0.0)\n",
      "counting_reads shape  (5981,)\n",
      "counting_reads shape  (5981,)\n",
      "number of cell having more than 0.7 mitochondria genes: 125\n"
     ]
    }
   ],
   "source": [
    "sample_id = 'M130'\n",
    "sample = fr'C:\\Users\\itay\\Desktop\\Technion studies\\Keren Laboratory\\python_playground\\classifying-response-to-immunotherapy\\Data\\rna_seq200k\\all_samples\\{sample_id}\\RNA_sample.pkl'\n",
    "data = pickle.load(open(sample, 'rb'))\n",
    "genes = data.gene_names\n",
    "counts = data.counts.T\n",
    "print(f'count shape {counts.shape}')\n",
    "\n",
    "fig, axs = plt.subplots(4, 2)\n",
    "\n",
    "counting_reads = counts.sum(axis=1)\n",
    "mitochondria_genes = counts[:, [s.startswith('MT-') for s in genes]].sum(axis=1)\n",
    "mit = [s for s in genes if s.startswith('MT-')]\n",
    "print(f'num of mitochondria genes {len(mit)}')\n",
    "print(f'mitochondria genes {mit}')\n",
    "print(f'pearson correlation  {pearsonr(counting_reads, mitochondria_genes)}')\n",
    "print(f'counting_reads shape  {counting_reads.shape}')\n",
    "print(f'counting_reads shape  {mitochondria_genes.shape}')\n",
    "\n",
    "\n",
    "\n",
    "# plot 1 - cell reads intensity\n",
    "axs[0, 0].hist(counting_reads, bins=150)\n",
    "axs[0, 0].set_title(\"cell reads intensity\")\n",
    "axs[0, 0].set_ylabel('number of reads')\n",
    "axs[0, 0].set_xlabel('indexes')\n",
    "\n",
    "\n",
    "\n",
    "# plot 2\n",
    "axs[0, 1].hist(mitochondria_genes, bins=100)\n",
    "axs[0, 1].set_title(\"mitochondria reads intensity\")\n",
    "axs[0, 1].set_ylabel('number of reads')\n",
    "axs[0, 1].set_xlabel('indexes')\n",
    "\n",
    "\n",
    "\n",
    "# plot 3\n",
    "axs[1, 0].plot(mitochondria_genes, counting_reads, 'ro')\n",
    "axs[1, 0].set_title(\"reads intensity X mitochondria reads intensity\")\n",
    "axs[1, 0].set_xlabel('number of mitochondria reads')\n",
    "axs[1, 0].set_ylabel('number of reads')\n",
    "\n",
    "\n",
    "# plot 4\n",
    "rand = random.choices(range(len(counting_reads)), k=300)\n",
    "axs[1, 1].plot(mitochondria_genes[rand], counting_reads[rand], 'ro')\n",
    "axs[1, 1].set_title(\"reads intensity X mitochondria reads intensity\")\n",
    "axs[1, 1].set_xlabel('number of mitochondria reads')\n",
    "axs[1, 1].set_ylabel('number of reads')\n",
    "\n",
    "\n",
    "\n",
    "# plot 5\n",
    "indexes = np.where(counting_reads<8000)\n",
    "counting_reads_small = counting_reads[indexes]\n",
    "mitochondria_genes_small = mitochondria_genes[indexes]\n",
    "axs[2, 0].plot(mitochondria_genes_small, counting_reads_small, 'ro')\n",
    "axs[2, 0].set_title(\"reads intensity X mitochondria reads intensity\")\n",
    "axs[2, 0].set_xlabel('number of mitochondria reads')\n",
    "axs[2, 0].set_ylabel('number of reads')\n",
    "\n",
    "\n",
    "# plot 6\n",
    "indexes = np.where(counting_reads<2000)\n",
    "rand = random.choices(range(len(sum(indexes))), k=300)\n",
    "counting_reads_small = counting_reads[indexes][rand]\n",
    "mitochondria_genes_small = mitochondria_genes[indexes][rand]\n",
    "axs[2, 1].plot(mitochondria_genes_small, counting_reads_small, 'ro')\n",
    "axs[2, 1].set_title(\"reads intensity X mitochondria reads intensity\")\n",
    "axs[2, 1].set_xlabel('number of mitochondria reads')\n",
    "axs[2, 1].set_ylabel('number of reads')\n",
    "\n",
    "\n",
    "\n",
    "# plot 7\n",
    "# indexes = np.where(counting_reads<1000)\n",
    "counting_reads = counting_reads.astype(np.float64)\n",
    "mitochondria_genes = mitochondria_genes.astype(np.float64)\n",
    "res = np.divide(mitochondria_genes, counting_reads, out=np.zeros_like(counting_reads), where=counting_reads!=0)\n",
    "axs[3, 0].hist(res, bins=40)\n",
    "axs[3, 0].set_title(\"retion reads & mitochondria reads\")\n",
    "\n",
    "\n",
    "\n",
    "# plot 8\n",
    "ratio_of_interest = 0.7\n",
    "indexes = np.where(res>ratio_of_interest)\n",
    "axs[3, 1].plot(mitochondria_genes[indexes], counting_reads[indexes], 'ro')\n",
    "axs[3, 1].set_title(f\"ratio higher than {ratio_of_interest}\")\n",
    "axs[3, 1].set_xlabel('number of mitochondria reads')\n",
    "axs[3, 1].set_ylabel('number of reads')\n",
    "print(f'number of cell having more than {ratio_of_interest} mitochondria genes: {len(mitochondria_genes[indexes])}')\n",
    "\n"
   ]
  },
  {
   "cell_type": "markdown",
   "metadata": {},
   "source": [
    "# number of mitochondria reads vs. number of reads"
   ]
  },
  {
   "cell_type": "code",
   "execution_count": null,
   "metadata": {},
   "outputs": [],
   "source": []
  },
  {
   "cell_type": "code",
   "execution_count": null,
   "metadata": {},
   "outputs": [],
   "source": []
  },
  {
   "cell_type": "code",
   "execution_count": null,
   "metadata": {},
   "outputs": [],
   "source": []
  },
  {
   "cell_type": "code",
   "execution_count": null,
   "metadata": {},
   "outputs": [],
   "source": []
  },
  {
   "cell_type": "code",
   "execution_count": null,
   "metadata": {},
   "outputs": [],
   "source": [
    "import scipy.stats as stats\n",
    "\n",
    "oddsratio, pvalue = stats.fisher_exact([[7, 2], [2, 7]])\n",
    "pvalue"
   ]
  },
  {
   "cell_type": "code",
   "execution_count": null,
   "metadata": {},
   "outputs": [],
   "source": [
    "# sample_id = 'M110'\n",
    "sample = r'D:\\Technion studies\\Keren Laboratory\\Data\\droplet_seq\\Cohort\\cohort_all_samples_3.2.21.pkl'\n",
    "data = pickle.load(open(sample, 'rb'))\n",
    "genes = data.gene_names\n",
    "counts = data.counts"
   ]
  },
  {
   "cell_type": "code",
   "execution_count": null,
   "metadata": {},
   "outputs": [],
   "source": [
    "\n"
   ]
  },
  {
   "cell_type": "code",
   "execution_count": 51,
   "metadata": {},
   "outputs": [],
   "source": [
    "cls1 = random.sample(range(data.number_of_cells), k = int(data.number_of_cells/2))\n",
    "cls2 = [ii for ii in range(data.number_of_cells) if not ii in cls1]"
   ]
  },
  {
   "cell_type": "code",
   "execution_count": 70,
   "metadata": {},
   "outputs": [],
   "source": [
    "gene_idx = data.gene_names.index('CD3E')\n",
    "gene_cls1 = data.counts[cls1, gene_idx]\n",
    "gene_cls2 = data.counts[cls2, gene_idx]\n"
   ]
  },
  {
   "cell_type": "code",
   "execution_count": 80,
   "metadata": {},
   "outputs": [
    {
     "data": {
      "text/plain": [
       "0.8606385214395829"
      ]
     },
     "execution_count": 80,
     "metadata": {},
     "output_type": "execute_result"
    }
   ],
   "source": [
    "sum(gene_cls1>1)\n",
    "sum(gene_cls2>1)\n",
    "# len(gene_cls1)\n",
    "\n",
    "oddsratio, pvalue = stats.fisher_exact([[sum(gene_cls1>1), sum(gene_cls2>1)], \n",
    "                                        [len(gene_cls1), len(gene_cls2)]])\n",
    "pvalue"
   ]
  },
  {
   "cell_type": "code",
   "execution_count": 88,
   "metadata": {},
   "outputs": [],
   "source": [
    "t_cell_indices = [idx for idx, cell_type_list in enumerate(data.cells_information.getattr('cell_type_list')) if 'T cells' in cell_type_list]\n",
    "not_t_cell_indices = [idx for idx in range(data.number_of_cells) if not idx in t_cell_indices]"
   ]
  },
  {
   "cell_type": "code",
   "execution_count": 139,
   "metadata": {},
   "outputs": [
    {
     "data": {
      "text/plain": [
       "0.0"
      ]
     },
     "execution_count": 139,
     "metadata": {},
     "output_type": "execute_result"
    }
   ],
   "source": [
    "gene_idx = data.gene_names.index('CD3E')\n",
    "gene_cls1 = data.counts[t_cell_indices, gene_idx]\n",
    "gene_cls2 = data.counts[not_t_cell_indices, gene_idx]\n",
    "\n",
    "oddsratio, pvalue = stats.fisher_exact([[sum(gene_cls1>1), sum(gene_cls2>1)], \n",
    "                                        [len(gene_cls1), len(gene_cls2)]])\n",
    "pvalue"
   ]
  },
  {
   "cell_type": "code",
   "execution_count": 137,
   "metadata": {},
   "outputs": [
    {
     "name": "stdout",
     "output_type": "stream",
     "text": [
      "[[960, 255], [964, 257]]\n"
     ]
    }
   ],
   "source": [
    "print([[sum(gene_cls1>1), sum(gene_cls2>1)], \n",
    "                                        [len(gene_cls1), len(gene_cls2)]])\n"
   ]
  },
  {
   "cell_type": "code",
   "execution_count": 96,
   "metadata": {},
   "outputs": [
    {
     "data": {
      "text/plain": [
       "0"
      ]
     },
     "execution_count": 96,
     "metadata": {},
     "output_type": "execute_result"
    }
   ],
   "source": [
    "sum([not 'T cells' in ii for ii in data[t_cell_indices].cells_information.getattr('cell_type_list')])"
   ]
  },
  {
   "cell_type": "code",
   "execution_count": 17,
   "metadata": {},
   "outputs": [
    {
     "data": {
      "text/plain": [
       "[3, 2, 1, 1, 2, 3, 3, 3, 3, 3]"
      ]
     },
     "execution_count": 17,
     "metadata": {},
     "output_type": "execute_result"
    }
   ],
   "source": [
    "# dd = data[not_t_cell_indices][(gene_cls2>1).tolist()]\n",
    "\n",
    "def print_c(c_inf):\n",
    "    print(f'cell_type_list: {c_inf.cell_type_list}')\n",
    "    print(f'conflict_related_cell_types: {c_inf.conflict_related_cell_types}')\n",
    "    print(f'is_apoptosis: {c_inf.is_apoptosis}')\n",
    "    print(f'is_immune: {c_inf.is_immune}')\n",
    "    print(f'is_cancer: {c_inf.is_cancer}')\n",
    "    print(f'cancer_immune_conflict: {c_inf.cancer_immune_conflict}')\n",
    "    print(f'is_doublet: {c_inf.is_doublet}')\n",
    "    print(f'is_lymphoid: {c_inf.is_lymphoid}')\n",
    "    print(f'is_myeloid: {c_inf.is_myeloid}')\n",
    "    print(f'is_stromal: {c_inf.is_stromal}')\n",
    "#     print(f'inferCNV: {c_inf.inferCNV}')\n",
    "    print(f'should_be_removed: {c_inf.should_be_removed}')\n",
    "#     print(f'count_insertions: {c_inf.count_insertions}')\n",
    "#     print(f'count_deletions: {c_inf.count_deletions}')\n",
    "\n",
    "\n",
    "clusters = [random.choice([1,2,3]) for _ in range(10)]\n",
    "\n",
    "clusters\n"
   ]
  },
  {
   "cell_type": "code",
   "execution_count": null,
   "metadata": {},
   "outputs": [],
   "source": []
  },
  {
   "cell_type": "code",
   "execution_count": 23,
   "metadata": {},
   "outputs": [
    {
     "name": "stdout",
     "output_type": "stream",
     "text": [
      "1\n",
      "[2, 3]\n",
      "2\n",
      "[1, 4]\n",
      "3\n",
      "[0, 5, 6, 7, 8, 9]\n"
     ]
    }
   ],
   "source": [
    "import statsmodels as sm\n",
    "import scipy.stats as stats\n",
    "\n",
    "\n",
    "\n",
    "percentage_voting_expression_in_clusters = []\n",
    "p_values = [] # before correction\n",
    "for cluster in list(set(clusters)):\n",
    "    print(cluster)\n",
    "    cluster_indices = [idx for idx, val in enumerate(clusters) if val==cluster]\n",
    "    other_clusters_indices = [idx for idx, val in enumerate(clusters) if val!=cluster]\n",
    "#     print(cls_indices)\n",
    "    \n",
    "    cluster_data = data[cluster_indices]\n",
    "    other_clusters_data = data[other_clusters_indices]\n",
    "    # statistical test for each gene\n",
    "    for gene_idx in range(data.number_of_genes):\n",
    "        cluster_gene_expression = cluster_data.counts[:, gene_idx] > 1\n",
    "        other_clusters_gene_expression = other_clusters_data.counts[:, gene_idx] > 1\n",
    "        \n",
    "        number_of_cells_expressing_gene_in_cluster = sum(cluster_gene_expression)\n",
    "        number_of_cells_expressing_gene_in_other_clusters = sum(other_clusters_gene_expression)\n",
    "        \n",
    "        n_cells_in_cluster = len(cluster_gene_expression)\n",
    "        n_cells_in_other_clusters = len(other_clusters_gene_expression)\n",
    "        \n",
    "        oddsratio, pvalue = stats.fisher_exact([[number_of_cells_expressing_gene_in_cluster, \n",
    "                                                 number_of_cells_expressing_gene_in_other_clusters], \n",
    "                                        [n_cells_in_cluster, n_cells_in_other_clusters]])\n",
    "        \n",
    "        p_voting_expression_in_cluster = number_of_cells_expressing_gene_in_cluster / n_cells_in_cluster\n",
    "        \n",
    "        \n",
    "        percentage_voting_expression_in_clusters.append(p_voting_expression_in_cluster)\n",
    "        p_values.append(pvalue)\n",
    "        \n",
    "\n",
    "        \n",
    "sm.stats.multitest.multipletests(p_values, alpha=0.05, method='fdr_bh', is_sorted=False, returnsorted=False)"
   ]
  },
  {
   "cell_type": "code",
   "execution_count": null,
   "metadata": {},
   "outputs": [],
   "source": []
  },
  {
   "cell_type": "code",
   "execution_count": null,
   "metadata": {},
   "outputs": [],
   "source": []
  },
  {
   "cell_type": "code",
   "execution_count": null,
   "metadata": {},
   "outputs": [],
   "source": []
  },
  {
   "cell_type": "code",
   "execution_count": 136,
   "metadata": {},
   "outputs": [
    {
     "name": "stdout",
     "output_type": "stream",
     "text": [
      "cell_type_list: ['Immune_general', 'Exhausted T cells', 'Regulatory CD4 T cells']\n",
      "conflict_related_cell_types: ['T cells', 'CD4 helper T cells', 'Regulatory T cells', 'Regulatory T cells']\n",
      "is_apoptosis: False\n",
      "is_immune: True\n",
      "is_cancer: False\n",
      "cancer_immune_conflict: False\n",
      "is_doublet: False\n",
      "is_lymphoid: True\n",
      "is_myeloid: False\n",
      "is_stromal: False\n",
      "should_be_removed: False\n"
     ]
    }
   ],
   "source": [
    "print_c(dd.cells_information[6])"
   ]
  },
  {
   "cell_type": "code",
   "execution_count": 14,
   "metadata": {},
   "outputs": [
    {
     "data": {
      "text/plain": [
       "(array([ True,  True, False, False]),\n",
       " array([0.04      , 0.04      , 0.05333333, 0.15      ]),\n",
       " 0.012741455098566168,\n",
       " 0.0125)"
      ]
     },
     "execution_count": 14,
     "metadata": {},
     "output_type": "execute_result"
    }
   ],
   "source": [
    "import statsmodels as sm\n",
    "sm.stats.multitest.multipletests([0.01, 0.02, 0.04, 0.15], alpha=0.05, method='fdr_bh', is_sorted=False, returnsorted=False)"
   ]
  },
  {
   "cell_type": "code",
   "execution_count": null,
   "metadata": {},
   "outputs": [],
   "source": []
  },
  {
   "cell_type": "code",
   "execution_count": null,
   "metadata": {},
   "outputs": [],
   "source": []
  },
  {
   "cell_type": "code",
   "execution_count": null,
   "metadata": {},
   "outputs": [],
   "source": []
  },
  {
   "cell_type": "code",
   "execution_count": null,
   "metadata": {},
   "outputs": [],
   "source": []
  },
  {
   "cell_type": "code",
   "execution_count": 3,
   "metadata": {},
   "outputs": [
    {
     "name": "stdout",
     "output_type": "stream",
     "text": [
      "count shape (21987, 7832)\n"
     ]
    }
   ],
   "source": [
    "sample_id = 'M109'\n",
    "\n",
    "sample = fr'D:\\Technion studies\\Keren Laboratory\\python_playground\\outputs\\inferCNV\\update_runs\\21.2.21\\{sample_id}.pkl'\n",
    "data = pickle.load(open(sample, 'rb'))\n",
    "genes = data.gene_names\n",
    "counts = data.counts.T\n",
    "print(f'count shape {counts.shape}')"
   ]
  },
  {
   "cell_type": "code",
   "execution_count": 22,
   "metadata": {},
   "outputs": [
    {
     "data": {
      "text/plain": [
       "0.9953503819329127"
      ]
     },
     "execution_count": 22,
     "metadata": {},
     "output_type": "execute_result"
    }
   ],
   "source": [
    "data = data[[not aa for aa in data.cells_information.getattr('should_be_removed')]]\n",
    "cc = data.cells_information.getattr('is_cancer')\n",
    "mm = data.cells_information.getattr('is_immune')\n",
    "ss = data.cells_information.getattr('is_stromal')\n",
    "ind = [cc[ii] or mm[ii] or ss[ii] for ii in range(len(cc))]\n",
    "sum(ind)/len(ind)\n",
    "# ind"
   ]
  },
  {
   "cell_type": "code",
   "execution_count": 54,
   "metadata": {},
   "outputs": [
    {
     "data": {
      "text/plain": [
       "(7832, 21987)"
      ]
     },
     "execution_count": 54,
     "metadata": {},
     "output_type": "execute_result"
    }
   ],
   "source": [
    "data.counts.shape\n",
    "\n"
   ]
  },
  {
   "cell_type": "code",
   "execution_count": 4,
   "metadata": {},
   "outputs": [],
   "source": [
    "arr = data.counts.flatten()"
   ]
  },
  {
   "cell_type": "code",
   "execution_count": 6,
   "metadata": {},
   "outputs": [],
   "source": [
    "arr2 = arr[arr!=0]"
   ]
  },
  {
   "cell_type": "code",
   "execution_count": 17,
   "metadata": {},
   "outputs": [],
   "source": [
    "# print(arr.shape)\n",
    "# print(arr2.shape)\n",
    "# counts\n",
    "# counts[np.argsort(counts)]\n",
    "arr3 = np.log(arr2)"
   ]
  },
  {
   "cell_type": "code",
   "execution_count": 36,
   "metadata": {},
   "outputs": [
    {
     "data": {
      "text/plain": [
       "array([0, 1, 2, 3, 4, 5, 6, 7, 8, 9])"
      ]
     },
     "execution_count": 36,
     "metadata": {},
     "output_type": "execute_result"
    }
   ],
   "source": [
    "arr3[:10][np.argsort(arr3[:10])]\n",
    "np.arange(arr3[:10].shape[0])\n"
   ]
  },
  {
   "cell_type": "code",
   "execution_count": 40,
   "metadata": {},
   "outputs": [
    {
     "data": {
      "text/plain": [
       "<matplotlib.collections.PathCollection at 0x2160b14c748>"
      ]
     },
     "execution_count": 40,
     "metadata": {},
     "output_type": "execute_result"
    },
    {
     "data": {
      "image/png": "[encoded data removed]",
      "text/plain": [
       "<Figure size 432x288 with 1 Axes>"
      ]
     },
     "metadata": {
      "needs_background": "light"
     },
     "output_type": "display_data"
    }
   ],
   "source": [
    "# print(data.counts.mean(axis=0).shape)\n",
    "# counts, bins = np.histogram(arr2[:1000])\n",
    "# plt.hist(bins[:-1], bins, weights=counts)\n",
    "# np.argmax(data.counts)\n",
    "\n",
    "plt.scatter(np.arange(arr3.shape[0]), arr3[np.argsort(arr3)])"
   ]
  },
  {
   "cell_type": "code",
   "execution_count": 98,
   "metadata": {},
   "outputs": [
    {
     "name": "stdout",
     "output_type": "stream",
     "text": [
      "10000.0\n"
     ]
    },
    {
     "name": "stderr",
     "output_type": "stream",
     "text": [
      "c:\\users\\itay\\appdata\\local\\programs\\python\\python37\\lib\\site-packages\\ipykernel_launcher.py:8: RuntimeWarning: divide by zero encountered in log2\n",
      "  \n"
     ]
    },
    {
     "data": {
      "text/plain": [
       "<matplotlib.collections.PathCollection at 0x216142e27b8>"
      ]
     },
     "execution_count": 98,
     "metadata": {},
     "output_type": "execute_result"
    },
    {
     "data": {
      "image/png": "[encoded data removed]",
      "text/plain": [
       "<Figure size 432x288 with 1 Axes>"
      ]
     },
     "metadata": {
      "needs_background": "light"
     },
     "output_type": "display_data"
    }
   ],
   "source": [
    "cell0 = data.counts[0]\n",
    "\n",
    "\n",
    "cell0_sum = cell0.sum()\n",
    "scalling_factor = cell0_sum/10000\n",
    "print(cell0_sum/scalling_factor)\n",
    "\n",
    "vv = np.log2(cell0/scalling_factor)+1\n",
    "plt.scatter(np.arange(vv.shape[0]), vv[np.argsort(vv)])"
   ]
  },
  {
   "cell_type": "code",
   "execution_count": 99,
   "metadata": {},
   "outputs": [
    {
     "data": {
      "text/plain": [
       "Counter({-inf: 21597,\n",
       "         4.941198646383814: 284,\n",
       "         6.52616114710497: 24,\n",
       "         5.941198646383814: 59,\n",
       "         6.941198646383814: 8,\n",
       "         8.40063026502111: 1,\n",
       "         8.263126741271176: 2,\n",
       "         9.111123647826126: 1,\n",
       "         7.52616114710497: 2,\n",
       "         7.263126741271177: 4,\n",
       "         7.748553568441418: 1,\n",
       "         8.52616114710497: 1,\n",
       "         9.028661487634153: 1,\n",
       "         8.641638364524905: 1,\n",
       "         8.848089241992334: 1})"
      ]
     },
     "execution_count": 99,
     "metadata": {},
     "output_type": "execute_result"
    }
   ],
   "source": [
    "from collections import Counter\n",
    "Counter(vv)"
   ]
  },
  {
   "cell_type": "code",
   "execution_count": null,
   "metadata": {},
   "outputs": [],
   "source": []
  },
  {
   "cell_type": "code",
   "execution_count": 130,
   "metadata": {},
   "outputs": [
    {
     "name": "stdout",
     "output_type": "stream",
     "text": [
      "(7832, 21987)\n"
     ]
    },
    {
     "name": "stderr",
     "output_type": "stream",
     "text": [
      "c:\\users\\itay\\appdata\\local\\programs\\python\\python37\\lib\\site-packages\\ipykernel_launcher.py:6: RuntimeWarning: divide by zero encountered in log2\n",
      "  \n"
     ]
    }
   ],
   "source": [
    "print(data.counts.shape)\n",
    "\n",
    "sum_cells = data.counts.sum(axis=1) # for each cell\n",
    "scaling_factors = sum_cells / 10000\n",
    "\n",
    "normalized = np.log2((data.counts/scaling_factors[:,None]))+1\n",
    "normalized[np.isneginf(normalized)] = 0\n",
    "\n",
    "\n",
    "\n"
   ]
  },
  {
   "cell_type": "code",
   "execution_count": 133,
   "metadata": {},
   "outputs": [],
   "source": [
    "\n",
    "\n",
    "# Counter(normalized[1].tolist())"
   ]
  },
  {
   "cell_type": "code",
   "execution_count": null,
   "metadata": {},
   "outputs": [],
   "source": []
  },
  {
   "cell_type": "code",
   "execution_count": null,
   "metadata": {},
   "outputs": [],
   "source": []
  },
  {
   "cell_type": "code",
   "execution_count": 183,
   "metadata": {},
   "outputs": [
    {
     "name": "stdout",
     "output_type": "stream",
     "text": [
      "gene_indexes [15717, 15718]\n",
      "mean 1.0\n",
      "median 1.0\n",
      "max 65535\n",
      "min 1\n"
     ]
    },
    {
     "data": {
      "text/plain": [
       "{'whiskers': [<matplotlib.lines.Line2D at 0x21610f0e978>,\n",
       "  <matplotlib.lines.Line2D at 0x21610f0eda0>],\n",
       " 'caps': [<matplotlib.lines.Line2D at 0x2160d8c79b0>,\n",
       "  <matplotlib.lines.Line2D at 0x21613c5a278>],\n",
       " 'boxes': [<matplotlib.lines.Line2D at 0x21610f0eba8>],\n",
       " 'medians': [<matplotlib.lines.Line2D at 0x21610f08dd8>],\n",
       " 'fliers': [<matplotlib.lines.Line2D at 0x21613c6b828>],\n",
       " 'means': []}"
      ]
     },
     "execution_count": 183,
     "metadata": {},
     "output_type": "execute_result"
    },
    {
     "data": {
      "image/png": "[encoded data removed]",
      "text/plain": [
       "<Figure size 432x288 with 1 Axes>"
      ]
     },
     "metadata": {
      "needs_background": "light"
     },
     "output_type": "display_data"
    }
   ],
   "source": [
    "d_gene = 'SNURF'\n",
    "\n",
    "gene_indexes = [idx for idx, gg in enumerate(data.gene_names) if gg==d_gene]\n",
    "print(f'gene_indexes {gene_indexes}')\n",
    "\n",
    "indices = data.counts[:, gene_indexes[0]] != data.counts[:, gene_indexes[1]]\n",
    "\n",
    "\n",
    "diff = np.abs(data.counts[indices, gene_indexes[0]] - data.counts[indices, gene_indexes[1]])\n",
    "\n",
    "med = np.median(diff)\n",
    "mean = np.median(diff)\n",
    "_max = np.max(diff)\n",
    "_min = np.min(diff)\n",
    "print(f'mean {mean}')\n",
    "print(f'median {med}')\n",
    "print(f'max {_max}')\n",
    "print(f'min {_min}')\n",
    "\n",
    "pyplot.boxplot(diff)"
   ]
  },
  {
   "cell_type": "code",
   "execution_count": 203,
   "metadata": {},
   "outputs": [
    {
     "data": {
      "text/plain": [
       "dtype('uint16')"
      ]
     },
     "execution_count": 203,
     "metadata": {},
     "output_type": "execute_result"
    }
   ],
   "source": [
    "diff.dtype"
   ]
  },
  {
   "cell_type": "code",
   "execution_count": 204,
   "metadata": {},
   "outputs": [
    {
     "ename": "MemoryError",
     "evalue": "Unable to allocate array with shape (10000, 30000) and data type uint16",
     "output_type": "error",
     "traceback": [
      "\u001b[1;31m---------------------------------------------------------------------------\u001b[0m",
      "\u001b[1;31mMemoryError\u001b[0m                               Traceback (most recent call last)",
      "\u001b[1;32m<ipython-input-204-cd9c947e153c>\u001b[0m in \u001b[0;36m<module>\u001b[1;34m\u001b[0m\n\u001b[0;32m      1\u001b[0m \u001b[0mlsts\u001b[0m \u001b[1;33m=\u001b[0m \u001b[1;33m[\u001b[0m\u001b[1;33m]\u001b[0m\u001b[1;33m\u001b[0m\u001b[1;33m\u001b[0m\u001b[0m\n\u001b[0;32m      2\u001b[0m \u001b[1;32mfor\u001b[0m \u001b[0mi\u001b[0m \u001b[1;32min\u001b[0m \u001b[0mrange\u001b[0m\u001b[1;33m(\u001b[0m\u001b[1;36m3\u001b[0m\u001b[1;33m)\u001b[0m\u001b[1;33m:\u001b[0m\u001b[1;33m\u001b[0m\u001b[1;33m\u001b[0m\u001b[0m\n\u001b[1;32m----> 3\u001b[1;33m     \u001b[0mlsts\u001b[0m\u001b[1;33m.\u001b[0m\u001b[0mappend\u001b[0m\u001b[1;33m(\u001b[0m\u001b[0mnp\u001b[0m\u001b[1;33m.\u001b[0m\u001b[0mrandom\u001b[0m\u001b[1;33m.\u001b[0m\u001b[0mrand\u001b[0m\u001b[1;33m(\u001b[0m\u001b[1;36m10000\u001b[0m\u001b[1;33m,\u001b[0m\u001b[1;36m30000\u001b[0m\u001b[1;33m)\u001b[0m\u001b[1;33m.\u001b[0m\u001b[0mastype\u001b[0m\u001b[1;33m(\u001b[0m\u001b[0mnp\u001b[0m\u001b[1;33m.\u001b[0m\u001b[0muint16\u001b[0m\u001b[1;33m)\u001b[0m\u001b[1;33m)\u001b[0m\u001b[1;33m\u001b[0m\u001b[1;33m\u001b[0m\u001b[0m\n\u001b[0m",
      "\u001b[1;31mMemoryError\u001b[0m: Unable to allocate array with shape (10000, 30000) and data type uint16"
     ]
    }
   ],
   "source": [
    "\n",
    "lsts = []\n",
    "for i in range(3):\n",
    "    lsts.append(np.random.rand(10000,30000).astype(np.uint16))"
   ]
  },
  {
   "cell_type": "code",
   "execution_count": 201,
   "metadata": {},
   "outputs": [
    {
     "ename": "MemoryError",
     "evalue": "Unable to allocate array with shape (20000, 30000) and data type float64",
     "output_type": "error",
     "traceback": [
      "\u001b[1;31m---------------------------------------------------------------------------\u001b[0m",
      "\u001b[1;31mMemoryError\u001b[0m                               Traceback (most recent call last)",
      "\u001b[1;32m<ipython-input-201-103389178f43>\u001b[0m in \u001b[0;36m<module>\u001b[1;34m\u001b[0m\n\u001b[1;32m----> 1\u001b[1;33m \u001b[0mnp\u001b[0m\u001b[1;33m.\u001b[0m\u001b[0mconcatenate\u001b[0m\u001b[1;33m(\u001b[0m\u001b[1;33m[\u001b[0m\u001b[0mlsts\u001b[0m\u001b[1;33m[\u001b[0m\u001b[1;36m0\u001b[0m\u001b[1;33m]\u001b[0m\u001b[1;33m,\u001b[0m\u001b[0mlsts\u001b[0m\u001b[1;33m[\u001b[0m\u001b[1;36m1\u001b[0m\u001b[1;33m]\u001b[0m\u001b[1;33m]\u001b[0m\u001b[1;33m)\u001b[0m\u001b[1;33m.\u001b[0m\u001b[0mshape\u001b[0m\u001b[1;33m\u001b[0m\u001b[1;33m\u001b[0m\u001b[0m\n\u001b[0m",
      "\u001b[1;32m<__array_function__ internals>\u001b[0m in \u001b[0;36mconcatenate\u001b[1;34m(*args, **kwargs)\u001b[0m\n",
      "\u001b[1;31mMemoryError\u001b[0m: Unable to allocate array with shape (20000, 30000) and data type float64"
     ]
    }
   ],
   "source": [
    "np.concatenate([lsts[0],lsts[1]]).shape"
   ]
  },
  {
   "cell_type": "code",
   "execution_count": 178,
   "metadata": {},
   "outputs": [
    {
     "data": {
      "text/plain": [
       "{'whiskers': [<matplotlib.lines.Line2D at 0x2160eef2400>,\n",
       "  <matplotlib.lines.Line2D at 0x21610f62fd0>],\n",
       " 'caps': [<matplotlib.lines.Line2D at 0x21610e4def0>,\n",
       "  <matplotlib.lines.Line2D at 0x21610f66978>],\n",
       " 'boxes': [<matplotlib.lines.Line2D at 0x2160eee7b70>],\n",
       " 'medians': [<matplotlib.lines.Line2D at 0x21610e52da0>],\n",
       " 'fliers': [<matplotlib.lines.Line2D at 0x2160ef228d0>],\n",
       " 'means': []}"
      ]
     },
     "execution_count": 178,
     "metadata": {},
     "output_type": "execute_result"
    },
    {
     "data": {
      "image/png": "[encoded data removed]",
      "text/plain": [
       "<Figure size 432x288 with 1 Axes>"
      ]
     },
     "metadata": {
      "needs_background": "light"
     },
     "output_type": "display_data"
    }
   ],
   "source": []
  },
  {
   "cell_type": "code",
   "execution_count": null,
   "metadata": {},
   "outputs": [],
   "source": []
  },
  {
   "cell_type": "code",
   "execution_count": 44,
   "metadata": {},
   "outputs": [
    {
     "name": "stdout",
     "output_type": "stream",
     "text": [
      "number of barcodes 5711\n"
     ]
    }
   ],
   "source": [
    "INFERCNV_SAMPLES_PATH = r'D:\\Technion studies\\Keren Laboratory\\python_playground\\outputs\\inferCNV\\executions\\all_data_31.12.20'\n",
    "tumor_file = r'infercnv.observations.txt'\n",
    "with open(join(INFERCNV_SAMPLES_PATH, sample_id, tumor_file), 'r') as f:\n",
    "    line = f.readline()\n",
    "    barcodes_length = len(line[:-1].split(' '))\n",
    "    print(f'number of barcodes {barcodes_length}')\n",
    "    barcodes = [ii.replace('\\\"', '') for ii in line.split(' ')]\n",
    "    barcodes[-1] = barcodes[-1][:-1]"
   ]
  },
  {
   "cell_type": "code",
   "execution_count": 48,
   "metadata": {},
   "outputs": [
    {
     "data": {
      "text/plain": [
       "[4901,\n",
       " 4903,\n",
       " 4908,\n",
       " 4910,\n",
       " 4915,\n",
       " 4917,\n",
       " 4919,\n",
       " 4935,\n",
       " 4936,\n",
       " 4938,\n",
       " 4939,\n",
       " 4942,\n",
       " 4943,\n",
       " 4944,\n",
       " 4948,\n",
       " 4950,\n",
       " 4951,\n",
       " 4952,\n",
       " 4953,\n",
       " 4955,\n",
       " 4957,\n",
       " 4958,\n",
       " 4963,\n",
       " 4970,\n",
       " 4971,\n",
       " 4976,\n",
       " 4978,\n",
       " 4988]"
      ]
     },
     "execution_count": 48,
     "metadata": {},
     "output_type": "execute_result"
    }
   ],
   "source": [
    "sorted([barcodes.index(aa) for aa in su_barcodes])\n"
   ]
  },
  {
   "cell_type": "code",
   "execution_count": 250,
   "metadata": {},
   "outputs": [],
   "source": [
    "# res = np.divide(mitochondria_genes_small, counting_reads_small, out=np.zeros_like(counting_reads_small), where=b!=counting_reads_small)\n",
    "# np.sort(res)\n",
    "# res = np.divide(mitochondria_genes_small, counting_reads_small, out=np.zeros_like(counting_reads_small), where=b!=counting_reads_small)\n",
    "# plt.hist(res, bins=30)\n",
    "# plt.title(\"ratio\")\n",
    "# plt.show()\n",
    "\n"
   ]
  },
  {
   "cell_type": "code",
   "execution_count": 192,
   "metadata": {},
   "outputs": [
    {
     "data": {
      "text/plain": [
       "Text(0.5, 1033.1471323529413, 'indexes')"
      ]
     },
     "execution_count": 192,
     "metadata": {},
     "output_type": "execute_result"
    }
   ],
   "source": [
    "# plot 2\n",
    "uniform = np.arange(len(counting_reads))\n",
    "axs[0, 1].plot(uniform, sorted(counting_reads), 'b')\n",
    "axs[0, 1].set_title(\"reads distribution\")\n",
    "axs[0, 1].set_ylabel('number of reads')\n",
    "axs[0, 1].set_xlabel('indexes')"
   ]
  },
  {
   "cell_type": "code",
   "execution_count": null,
   "metadata": {},
   "outputs": [],
   "source": []
  },
  {
   "cell_type": "code",
   "execution_count": null,
   "metadata": {},
   "outputs": [],
   "source": []
  },
  {
   "cell_type": "code",
   "execution_count": null,
   "metadata": {},
   "outputs": [],
   "source": []
  },
  {
   "cell_type": "code",
   "execution_count": 18,
   "metadata": {},
   "outputs": [],
   "source": [
    "sample_path = r'D:\\Technion studies\\Keren Laboratory\\python_playground\\outputs\\apoptosis\\16.12.20_empty_kept\\M100\\M100.pkl'\n",
    "\n",
    "\n",
    "rna_sample = pickle.load(open(sample_path, 'rb'))"
   ]
  },
  {
   "cell_type": "code",
   "execution_count": 19,
   "metadata": {},
   "outputs": [
    {
     "data": {
      "text/plain": [
       "164"
      ]
     },
     "execution_count": 19,
     "metadata": {},
     "output_type": "execute_result"
    }
   ],
   "source": [
    "sum(rna_sample.cells_information.getattr('is_cancer'))"
   ]
  }
 ],
 "metadata": {
  "kernelspec": {
   "display_name": "Python 3",
   "language": "python",
   "name": "python3"
  },
  "language_info": {
   "codemirror_mode": {
    "name": "ipython",
    "version": 3
   },
   "file_extension": ".py",
   "mimetype": "text/x-python",
   "name": "python",
   "nbconvert_exporter": "python",
   "pygments_lexer": "ipython3",
   "version": "3.7.3"
  }
 },
 "nbformat": 4,
 "nbformat_minor": 2
}
