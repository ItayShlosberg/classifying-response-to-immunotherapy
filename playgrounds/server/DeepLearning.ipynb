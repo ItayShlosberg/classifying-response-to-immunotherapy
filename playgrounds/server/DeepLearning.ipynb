{
 "cells": [
  {
   "cell_type": "code",
   "execution_count": 2,
   "metadata": {},
   "outputs": [],
   "source": [
    "# ------- SERVER EXTENSIONS ---------\n",
    "lib =  r'/srv01/technion/shitay/Code/classifying_response_to_immunotherapy/utilities/droplet_dataset'\n",
    "lib2 = r'/srv01/technion/shitay/Code/classifying_response_to_immunotherapy/utilities'\n",
    "lib3 = r'/srv01/technion/shitay/Code/classifying_response_to_immunotherapy/data_analysis'\n",
    "lib4 = r'/srv01/technion/shitay/Code/classifying_response_to_immunotherapy'\n",
    "lib5 = r'/srv01/technion/shitay/Code/classifying_response_to_immunotherapy/scripts'\n",
    "import sys\n",
    "sys.path.append(lib)\n",
    "sys.path.append(lib2)\n",
    "sys.path.append(lib3)\n",
    "sys.path.append(lib4)\n",
    "sys.path.append(lib5)\n",
    "# ------- SERVER EXTENSIONS ---------\n",
    "import numpy as np\n",
    "import pandas as pd\n",
    "import scipy\n",
    "import sklearn\n",
    "from sklearn.manifold import TSNE\n",
    "import pickle\n",
    "# from Bio.Cluster import kcluster\n",
    "import os\n",
    "import numpy as np\n",
    "import yaml\n",
    "import os\n",
    "import math\n",
    "import pandas\n",
    "from collections import Counter\n",
    "from sklearn.cluster import KMeans\n",
    "import matplotlib.pyplot as plt\n",
    "# from sklearn.metrics import confusion_matrix, ConfusionMatrixDisplay\n",
    "import sys\n",
    "import seaborn as sns\n",
    "# import pyclustering\n",
    "import matplotlib.pylab as plt\n",
    "import seaborn as sb\n",
    "from utilities.general_helpers import *\n",
    "from os.path import join\n",
    "from utilities.droplet_dataset import get_requested_subset\n",
    "from shutil import copyfile\n",
    "import matplotlib.pyplot as plt"
   ]
  },
  {
   "cell_type": "code",
   "execution_count": 1,
   "metadata": {},
   "outputs": [],
   "source": [
    "import torch.nn as nn\n",
    "\n",
    "class Classifier(nn.Module):\n",
    "\n",
    "    def __init__(self, output_dim=None, input_size=None):\n",
    "        \"\"\"\n",
    "\n",
    "        The Classifer class: We are developing a model similar to ACTINN for good accuracy\n",
    "\n",
    "        \"\"\"\n",
    "        if output_dim == None or input_size == None:\n",
    "            raise ValueError('Must explicitly declare input dim (num features) and output dim (number of classes)')\n",
    "\n",
    "        super(Classifier, self).__init__();\n",
    "        self.inp_dim = input_size;\n",
    "        self.out_dim = output_dim;\n",
    "\n",
    "        # feed forward layers\n",
    "        self.classifier_sequential = nn.Sequential(\n",
    "                                        nn.Linear(self.inp_dim, 100),\n",
    "                                        nn.ReLU(),\n",
    "\n",
    "                                        nn.Linear(100, 50),\n",
    "                                        nn.ReLU(),\n",
    "\n",
    "                                        nn.Linear(50, 25),\n",
    "                                        nn.ReLU(),\n",
    "\n",
    "                                        nn.Linear(25, output_dim)\n",
    "                                        # SoftMax not needed for CrossEntropyLoss in PyTorch\n",
    "                                        ## i.e. no need for nn.Softmax(dim=1)\n",
    "                                        )\n",
    "\n",
    "    def forward(self, x):\n",
    "        \"\"\"\n",
    "\n",
    "        Forward pass of the classifier\n",
    "\n",
    "        \"\"\"\n",
    "\n",
    "        out = self.classifier_sequential(x);\n",
    "\n",
    "        return out"
   ]
  },
  {
   "cell_type": "code",
   "execution_count": null,
   "metadata": {},
   "outputs": [
    {
     "name": "stdout",
     "output_type": "stream",
     "text": [
      "Loading cohort file:\n",
      "/storage/md_keren/shitay/Data/droplet_seq/cohort/normalized/6.21/cohort_normalized_26.6.21.pkl\n"
     ]
    }
   ],
   "source": [
    "FILTERED_CELLS_PATH = r'/storage/md_keren/shitay/Data/droplet_seq/cohort/normalized/6.21/cohort_normalized_26.6.21.pkl'\n",
    "print(f'Loading cohort file:\\n{FILTERED_CELLS_PATH}')\n",
    "cohort = pickle.load(open(FILTERED_CELLS_PATH, 'rb'))\n",
    "filtered_cells = cohort.filter_cells_by_property('is_immune', True)"
   ]
  },
  {
   "cell_type": "code",
   "execution_count": null,
   "metadata": {},
   "outputs": [],
   "source": []
  }
 ],
 "metadata": {
  "kernelspec": {
   "display_name": "Python 3",
   "language": "python",
   "name": "python3"
  },
  "language_info": {
   "codemirror_mode": {
    "name": "ipython",
    "version": 3
   },
   "file_extension": ".py",
   "mimetype": "text/x-python",
   "name": "python",
   "nbconvert_exporter": "python",
   "pygments_lexer": "ipython3",
   "version": "3.8.3"
  }
 },
 "nbformat": 4,
 "nbformat_minor": 4
}
