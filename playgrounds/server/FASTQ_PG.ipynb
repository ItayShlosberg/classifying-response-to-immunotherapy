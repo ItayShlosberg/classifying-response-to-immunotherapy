{
 "cells": [
  {
   "cell_type": "code",
   "execution_count": 1,
   "metadata": {},
   "outputs": [],
   "source": [
    "import numpy as np\n",
    "import pandas as pd\n",
    "import scipy\n",
    "import sklearn\n",
    "from sklearn.manifold import TSNE\n",
    "import pickle\n",
    "# from Bio.Cluster import kcluster\n",
    "import os\n",
    "import numpy as np\n",
    "import yaml\n",
    "import os\n",
    "import pandas\n",
    "from collections import Counter\n",
    "from sklearn.cluster import KMeans\n",
    "import matplotlib.pyplot as plt\n",
    "# from sklearn.metrics import confusion_matrix, ConfusionMatrixDisplay\n",
    "import sys\n",
    "import seaborn as sns\n",
    "# import pyclustering\n",
    "import matplotlib.pylab as plt\n",
    "import seaborn as sb\n",
    "from scipy.spatial.distance import cdist\n",
    "\n",
    "from shutil import copyfile\n",
    "import matplotlib as plt\n",
    "# ------- SERVER EXTENSIONS ---------\n",
    "lib =  r'/srv01/technion/shitay/Code/classifying_response_to_immunotherapy/utilities/droplet_dataset'\n",
    "lib2 = r'/srv01/technion/shitay/Code/classifying_response_to_immunotherapy/utilities'\n",
    "lib3 = r'/srv01/technion/shitay/Code/classifying_response_to_immunotherapy/data_analysis'\n",
    "lib4 = r'/srv01/technion/shitay/Code/classifying_response_to_immunotherapy'\n",
    "lib5 = r'/srv01/technion/shitay/Code/classifying_response_to_immunotherapy/scripts'\n",
    "import sys\n",
    "import pandas as pd, os\n",
    "sys.path.append(lib)\n",
    "sys.path.append(lib2)\n",
    "sys.path.append(lib3)\n",
    "sys.path.append(lib4)\n",
    "sys.path.append(lib5)\n",
    "# ------- SERVER EXTENSIONS ---------"
   ]
  },
  {
   "cell_type": "markdown",
   "metadata": {},
   "source": [
    "# Creating FASTQ files\n",
    "* 2 samples each time. you should only specify their names and the path for the joint CSV.\n",
    "* Should be a folder with CSV mapping the barcodes for both samples.\n",
    "* The output is a bash file which you can run and create the complete FASTQ files."
   ]
  },
  {
   "cell_type": "code",
   "execution_count": 16,
   "metadata": {},
   "outputs": [],
   "source": [
    "path = r'/storage/md_keren/shitay/10X/M149_M150/M149_M150_9-28-20.csv'\n",
    "\n",
    "sample1_name = 'M149'\n",
    "sample2_name = 'M150'\n",
    "\n",
    "output_bash_file = fr'/storage/md_keren/shitay/10X/M149_M150/combine_fastq_{sample1_name}_{sample2_name}.sh' ## the path of the created .sh file\n",
    "FASTQ_output_path = r'/storage/md_keren/shitay/18.11.20' ## the output path of the final FASTQ file after you run the .sh file that build the fastq\n",
    "\n",
    "\n",
    "# It is a unique prefix that each of the row files contains. \n",
    "# look over the folder '/storage/md_keren/shitay/10X/M149_M150/pkgs/SN0217504/',\n",
    "# the prefix there for example is '_HVM2VBGXG.' \n",
    "prefix = '_HVM2VBGXG.' "
   ]
  },
  {
   "cell_type": "code",
   "execution_count": 17,
   "metadata": {},
   "outputs": [
    {
     "data": {
      "text/plain": [
       "{1: 'CTCGTCAC', 2: 'GATCAGCA', 3: 'ACAACAGG', 4: 'TGGTGTTT'}"
      ]
     },
     "execution_count": 17,
     "metadata": {},
     "output_type": "execute_result"
    }
   ],
   "source": [
    "df = pd.read_csv(path)[['SampleName', 'IndexBarcode1']]\n",
    "values = df.values \n",
    "sample1_values = [[s[0],s[1]] for s in values if sample1_name in s[0]]\n",
    "sample1_values = {int(barcode[0].split('_')[1]): barcode[1] for barcode in sample1_values}\n",
    "sample2_values = [[s[0],s[1]] for s in values if sample2_name in s[0]]\n",
    "sample2_values = {int(barcode[0].split('_')[1]): barcode[1] for barcode in sample2_values}\n",
    "\n",
    "\n",
    "y = [[1, 2],[3, 4]]\n",
    "[z for x in y for z in x]\n",
    "sample1_values"
   ]
  },
  {
   "cell_type": "code",
   "execution_count": 18,
   "metadata": {},
   "outputs": [
    {
     "data": {
      "text/plain": [
       "['cat 1_HVM2VBGXG.1.CTCGTCAC.unmapped.1.fastq.gz 1_HVM2VBGXG.1.GATCAGCA.unmapped.1.fastq.gz 1_HVM2VBGXG.1.ACAACAGG.unmapped.1.fastq.gz 1_HVM2VBGXG.1.TGGTGTTT.unmapped.1.fastq.gz 2_HVM2VBGXG.2.CTCGTCAC.unmapped.1.fastq.gz 2_HVM2VBGXG.2.GATCAGCA.unmapped.1.fastq.gz 2_HVM2VBGXG.2.ACAACAGG.unmapped.1.fastq.gz 2_HVM2VBGXG.2.TGGTGTTT.unmapped.1.fastq.gz 3_HVM2VBGXG.3.CTCGTCAC.unmapped.1.fastq.gz 3_HVM2VBGXG.3.GATCAGCA.unmapped.1.fastq.gz 3_HVM2VBGXG.3.ACAACAGG.unmapped.1.fastq.gz 3_HVM2VBGXG.3.TGGTGTTT.unmapped.1.fastq.gz 4_HVM2VBGXG.4.CTCGTCAC.unmapped.1.fastq.gz 4_HVM2VBGXG.4.GATCAGCA.unmapped.1.fastq.gz 4_HVM2VBGXG.4.ACAACAGG.unmapped.1.fastq.gz 4_HVM2VBGXG.4.TGGTGTTT.unmapped.1.fastq.gz > /storage/md_keren/shitay/18.11.20/M149/M149_S1_L001_R1_001.fastq.gz',\n",
       " 'cat 1_HVM2VBGXG.1.CTCGTCAC.unmapped.2.fastq.gz 1_HVM2VBGXG.1.GATCAGCA.unmapped.2.fastq.gz 1_HVM2VBGXG.1.ACAACAGG.unmapped.2.fastq.gz 1_HVM2VBGXG.1.TGGTGTTT.unmapped.2.fastq.gz 2_HVM2VBGXG.2.CTCGTCAC.unmapped.2.fastq.gz 2_HVM2VBGXG.2.GATCAGCA.unmapped.2.fastq.gz 2_HVM2VBGXG.2.ACAACAGG.unmapped.2.fastq.gz 2_HVM2VBGXG.2.TGGTGTTT.unmapped.2.fastq.gz 3_HVM2VBGXG.3.CTCGTCAC.unmapped.2.fastq.gz 3_HVM2VBGXG.3.GATCAGCA.unmapped.2.fastq.gz 3_HVM2VBGXG.3.ACAACAGG.unmapped.2.fastq.gz 3_HVM2VBGXG.3.TGGTGTTT.unmapped.2.fastq.gz 4_HVM2VBGXG.4.CTCGTCAC.unmapped.2.fastq.gz 4_HVM2VBGXG.4.GATCAGCA.unmapped.2.fastq.gz 4_HVM2VBGXG.4.ACAACAGG.unmapped.2.fastq.gz 4_HVM2VBGXG.4.TGGTGTTT.unmapped.2.fastq.gz > /storage/md_keren/shitay/18.11.20/M149/M149_S1_L001_R2_001.fastq.gz',\n",
       " 'cat 1_HVM2VBGXG.1.CATGCGAT.unmapped.1.fastq.gz 1_HVM2VBGXG.1.TGATATTC.unmapped.1.fastq.gz 1_HVM2VBGXG.1.GTGATCGA.unmapped.1.fastq.gz 1_HVM2VBGXG.1.ACCCGACG.unmapped.1.fastq.gz 2_HVM2VBGXG.2.CATGCGAT.unmapped.1.fastq.gz 2_HVM2VBGXG.2.TGATATTC.unmapped.1.fastq.gz 2_HVM2VBGXG.2.GTGATCGA.unmapped.1.fastq.gz 2_HVM2VBGXG.2.ACCCGACG.unmapped.1.fastq.gz 3_HVM2VBGXG.3.CATGCGAT.unmapped.1.fastq.gz 3_HVM2VBGXG.3.TGATATTC.unmapped.1.fastq.gz 3_HVM2VBGXG.3.GTGATCGA.unmapped.1.fastq.gz 3_HVM2VBGXG.3.ACCCGACG.unmapped.1.fastq.gz 4_HVM2VBGXG.4.CATGCGAT.unmapped.1.fastq.gz 4_HVM2VBGXG.4.TGATATTC.unmapped.1.fastq.gz 4_HVM2VBGXG.4.GTGATCGA.unmapped.1.fastq.gz 4_HVM2VBGXG.4.ACCCGACG.unmapped.1.fastq.gz > /storage/md_keren/shitay/18.11.20/M150/M150_S1_L001_R1_001.fastq.gz',\n",
       " 'cat 1_HVM2VBGXG.1.CATGCGAT.unmapped.2.fastq.gz 1_HVM2VBGXG.1.TGATATTC.unmapped.2.fastq.gz 1_HVM2VBGXG.1.GTGATCGA.unmapped.2.fastq.gz 1_HVM2VBGXG.1.ACCCGACG.unmapped.2.fastq.gz 2_HVM2VBGXG.2.CATGCGAT.unmapped.2.fastq.gz 2_HVM2VBGXG.2.TGATATTC.unmapped.2.fastq.gz 2_HVM2VBGXG.2.GTGATCGA.unmapped.2.fastq.gz 2_HVM2VBGXG.2.ACCCGACG.unmapped.2.fastq.gz 3_HVM2VBGXG.3.CATGCGAT.unmapped.2.fastq.gz 3_HVM2VBGXG.3.TGATATTC.unmapped.2.fastq.gz 3_HVM2VBGXG.3.GTGATCGA.unmapped.2.fastq.gz 3_HVM2VBGXG.3.ACCCGACG.unmapped.2.fastq.gz 4_HVM2VBGXG.4.CATGCGAT.unmapped.2.fastq.gz 4_HVM2VBGXG.4.TGATATTC.unmapped.2.fastq.gz 4_HVM2VBGXG.4.GTGATCGA.unmapped.2.fastq.gz 4_HVM2VBGXG.4.ACCCGACG.unmapped.2.fastq.gz > /storage/md_keren/shitay/18.11.20/M150/M150_S1_L001_R2_001.fastq.gz']"
      ]
     },
     "execution_count": 18,
     "metadata": {},
     "output_type": "execute_result"
    }
   ],
   "source": [
    "\n",
    "def synthesize_command_for_sample(barcode_values, sample_name):\n",
    "    n_of_channels = 4\n",
    "    n_of_directions = 2\n",
    "    n_of_barcodes = len(barcode_values)\n",
    "    lines = []\n",
    "    for direction in range(1, 3):\n",
    "        line = 'cat '\n",
    "        for channel in range(1, n_of_channels+1):\n",
    "            for barcode_idx in range(1, n_of_barcodes+1):\n",
    "                barcode = barcode_values[barcode_idx]\n",
    "                line += str(channel)+prefix+str(channel)+'.'+barcode+'.unmapped.'+str(direction)+ '.fastq.gz '\n",
    "        line += f'> {FASTQ_output_path}/{sample_name}/{sample_name}_S1_L001_R{direction}_001.fastq.gz'\n",
    "        lines.append(line)      \n",
    "    return lines\n",
    "res = synthesize_command_for_sample(sample1_values, sample1_name) + synthesize_command_for_sample(sample2_values, sample2_name)\n",
    "res"
   ]
  },
  {
   "cell_type": "code",
   "execution_count": null,
   "metadata": {},
   "outputs": [],
   "source": [
    "\n",
    "# with open(output_bash_file, \"w\") as text_file:\n",
    "#     for line in res:\n",
    "#         text_file.write(line)\n",
    "#         text_file.write('\\n')"
   ]
  }
 ],
 "metadata": {
  "kernelspec": {
   "display_name": "Python 3",
   "language": "python",
   "name": "python3"
  },
  "language_info": {
   "codemirror_mode": {
    "name": "ipython",
    "version": 3
   },
   "file_extension": ".py",
   "mimetype": "text/x-python",
   "name": "python",
   "nbconvert_exporter": "python",
   "pygments_lexer": "ipython3",
   "version": "3.7.3"
  }
 },
 "nbformat": 4,
 "nbformat_minor": 2
}
