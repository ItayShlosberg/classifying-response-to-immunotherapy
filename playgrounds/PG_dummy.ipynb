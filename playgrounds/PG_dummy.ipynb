{
 "cells": [
  {
   "cell_type": "code",
   "execution_count": 2,
   "metadata": {},
   "outputs": [],
   "source": [
    "import sys\n",
    "lib = r'D:\\Technion studies\\Keren Laboratory\\python_playground\\classifying-response-to-immunotherapy\\utilities\\droplet_dataset'\n",
    "lib2 = r'D:\\Technion studies\\Keren Laboratory\\python_playground\\classifying-response-to-immunotherapy\\utilities'\n",
    "lib3 = r'D:\\Technion studies\\Keren Laboratory\\python_playground\\classifying-response-to-immunotherapy\\data_analysis'\n",
    "lib4 = r'D:\\Technion studies\\Keren Laboratory\\python_playground\\classifying-response-to-immunotherapy'\n",
    "sys.path.append(lib)\n",
    "sys.path.append(lib2)\n",
    "sys.path.append(lib3)\n",
    "sys.path.append(lib4)\n",
    "\n",
    "import os\n",
    "from os.path import join\n",
    "import sklearn\n",
    "from droplet_dataset import *\n",
    "from utilities import *\n",
    "from matplotlib import pyplot\n",
    "import numpy as np\n",
    "import scipy\n",
    "import pickle\n",
    "import matplotlib.pyplot as plt\n",
    "import pickle\n",
    "import pandas as pd\n",
    "import random\n",
    "from scipy.stats import pearsonr\n",
    "from matplotlib.pyplot import figure\n",
    "sklearn.__version__\n",
    "%matplotlib notebook\n",
    "\n",
    "\n"
   ]
  },
  {
   "cell_type": "code",
   "execution_count": 29,
   "metadata": {},
   "outputs": [],
   "source": [
    "SAMPLES_PATH = r'D:\\Technion studies\\Keren Laboratory\\python_playground\\outputs\\inferCNV\\update_runs\\dummy'"
   ]
  },
  {
   "cell_type": "code",
   "execution_count": null,
   "metadata": {},
   "outputs": [],
   "source": []
  },
  {
   "cell_type": "code",
   "execution_count": 8,
   "metadata": {},
   "outputs": [],
   "source": [
    "# samples = [subfolder for subfolder in os.listdir(SAMPLES_PATH) if subfolder.startswith('M')]\n",
    "# for sample_id in samples:\n",
    "#     print(sample_id)\n",
    "#     sample_path = join(SAMPLES_PATH, sample_id, f'{sample_id}.pkl')\n",
    "#     rna_sample = pickle.load(open(sample_path, 'rb'))\n",
    "    \n",
    "    \n",
    "#     for c in rna_sample.cells_information:\n",
    "#         c.count_insertions = c.count_insertions > 0\n",
    "#         c.count_deletions = c.count_deletions > 0\n",
    "#     print('num del ' + str(sum(rna_sample.cells_information.getattr('count_deletions'))))\n",
    "#     print('num ins ' + str(sum(rna_sample.cells_information.getattr('count_insertions'))))\n",
    "#     print(f'num cells {rna_sample.number_of_cells}', end='\\n\\n')\n"
   ]
  },
  {
   "cell_type": "code",
   "execution_count": null,
   "metadata": {},
   "outputs": [],
   "source": []
  },
  {
   "cell_type": "code",
   "execution_count": 30,
   "metadata": {},
   "outputs": [],
   "source": [
    "def extract_data_from_pickle(pickle_path):\n",
    "    \"\"\"\n",
    "    Retrieves data from PC located in PICKLE_PATH.\n",
    "    :return: cells_form, gene_names, patients_information\n",
    "    \"\"\"\n",
    "    cells_form, gene_names, patients_information = pickle.load(open(pickle_path, \"rb\"))\n",
    "    return cells_form, gene_names, patients_information\n",
    "\n",
    "# from termcolor import colored\n",
    "# from data import *\n",
    "PICKLE_PATH = r'D:\\Technion studies\\Keren Laboratory\\Data\\smart_seq\\SmartSeq_RNAseq_DATA.p'\n"
   ]
  },
  {
   "cell_type": "code",
   "execution_count": 11,
   "metadata": {},
   "outputs": [],
   "source": [
    "cells, gene_names, patients_information = extract_data_from_pickle(PICKLE_PATH)\n",
    "# dataset = RNAseq_Dataset(cells, patients_information, gene_names)"
   ]
  },
  {
   "cell_type": "code",
   "execution_count": 12,
   "metadata": {},
   "outputs": [],
   "source": [
    "from utilities.smart_seq_dataset import RNAseq_Dataset\n",
    "dataset = RNAseq_Dataset(cells, patients_information, gene_names)"
   ]
  },
  {
   "cell_type": "code",
   "execution_count": 27,
   "metadata": {},
   "outputs": [
    {
     "name": "stdout",
     "output_type": "stream",
     "text": [
      "index: 15216\n",
      "2 cluster: CD8_G\n",
      "6 cluster: CD8_2\n",
      "6 cluster: 9\n",
      "supervised: ['CD8 Cytotoxic T cells', 'Activated T cells', 'T cells']\n"
     ]
    }
   ],
   "source": [
    "barcode = 'F11_P3_M41_L001'\n",
    "\n",
    "c_idx = [idx for idx, c in enumerate(dataset.cells_information_list) if c.cell_id==barcode][0]\n",
    "print(f'index: {c_idx}')\n",
    "print(f'2 cluster: {dataset.cells_information_list[c_idx].t_cell_2_cluster}')\n",
    "print(f'6 cluster: {dataset.cells_information_list[c_idx].t_cell_6_cluster}')\n",
    "print(f'6 cluster: {dataset.cells_information_list[c_idx].general_11_cluster}')\n",
    "print(f'supervised: {dataset.cells_information_list[c_idx].supervised}')\n"
   ]
  },
  {
   "cell_type": "code",
   "execution_count": 35,
   "metadata": {},
   "outputs": [],
   "source": [
    "path2 = r'D:\\Technion studies\\Keren Laboratory\\python_playground\\outputs\\smart_seq\\SmartSeq_RNAseq_DATA_3.1.2021.p'\n",
    "cells2, gene_names2, patients_information2 = extract_data_from_pickle(path2)\n",
    "dataset2 = RNAseq_Dataset(cells, patients_information, gene_names)\n"
   ]
  },
  {
   "cell_type": "code",
   "execution_count": 46,
   "metadata": {},
   "outputs": [
    {
     "name": "stdout",
     "output_type": "stream",
     "text": [
      "index: 12\n",
      "2 cluster: CD8_G\n",
      "6 cluster: CD8_4\n",
      "6 cluster: 5\n",
      "supervised: ['CD8 Cytotoxic T cells', 'Activated T cells', 'Memory CD8 T cells', 'T cells']\n"
     ]
    }
   ],
   "source": [
    "barcode = 'A4_P6_M11'\n",
    "\n",
    "\n",
    "c_idx = [idx for idx, c in enumerate(dataset2.cells_information_list) if c.cell_id==barcode][0]\n",
    "print(f'index: {c_idx}')\n",
    "print(f'2 cluster: {dataset2.cells_information_list[c_idx].t_cell_2_cluster}')\n",
    "print(f'6 cluster: {dataset2.cells_information_list[c_idx].t_cell_6_cluster}')\n",
    "print(f'6 cluster: {dataset2.cells_information_list[c_idx].general_11_cluster}')\n",
    "print(f'supervised: {dataset2.cells_information_list[c_idx].supervised}')"
   ]
  },
  {
   "cell_type": "code",
   "execution_count": 42,
   "metadata": {},
   "outputs": [
    {
     "name": "stdout",
     "output_type": "stream",
     "text": [
      "index: 0\n",
      "index: A10_P3_M11\n",
      "2 cluster: None\n",
      "6 cluster: None\n",
      "6 cluster: 5\n",
      "supervised: ['NK cells']\n"
     ]
    }
   ],
   "source": [
    "c_idx = 0\n",
    "\n",
    "\n",
    "print(f'index: {c_idx}')\n",
    "print(f'index: {dataset2.cells_information_list[c_idx].cell_id}')\n",
    "print(f'2 cluster: {dataset2.cells_information_list[c_idx].t_cell_2_cluster}')\n",
    "print(f'6 cluster: {dataset2.cells_information_list[c_idx].t_cell_6_cluster}')\n",
    "print(f'6 cluster: {dataset2.cells_information_list[c_idx].general_11_cluster}')\n",
    "print(f'supervised: {dataset2.cells_information_list[c_idx].supervised}')"
   ]
  },
  {
   "cell_type": "code",
   "execution_count": null,
   "metadata": {},
   "outputs": [],
   "source": []
  },
  {
   "cell_type": "code",
   "execution_count": null,
   "metadata": {},
   "outputs": [],
   "source": []
  },
  {
   "cell_type": "code",
   "execution_count": 4,
   "metadata": {},
   "outputs": [
    {
     "data": {
      "text/plain": [
       "-3.473931188332412"
      ]
     },
     "execution_count": 4,
     "metadata": {},
     "output_type": "execute_result"
    }
   ],
   "source": [
    "import numpy as np\n",
    "\n",
    "s_f = 10000\n",
    "val = 900\n",
    "np.log2(val/s_f)"
   ]
  },
  {
   "cell_type": "code",
   "execution_count": null,
   "metadata": {},
   "outputs": [],
   "source": []
  },
  {
   "cell_type": "code",
   "execution_count": null,
   "metadata": {},
   "outputs": [],
   "source": []
  },
  {
   "cell_type": "code",
   "execution_count": null,
   "metadata": {},
   "outputs": [],
   "source": []
  },
  {
   "cell_type": "code",
   "execution_count": 1,
   "metadata": {},
   "outputs": [],
   "source": [
    "import sys\n",
    "import os\n",
    "lib = r'D:\\Technion studies\\Keren Laboratory\\python_playground\\classifying-response-to-immunotherapy\\utilities\\droplet_dataset'\n",
    "lib2 = r'D:\\Technion studies\\Keren Laboratory\\python_playground\\classifying-response-to-immunotherapy\\utilities'\n",
    "lib3 = r'D:\\Technion studies\\Keren Laboratory\\python_playground\\classifying-response-to-immunotherapy\\data_analysis'\n",
    "lib4 = r'D:\\Technion studies\\Keren Laboratory\\python_playground\\classifying-response-to-immunotherapy'\n",
    "lib5 = r'D:\\Technion studies\\Keren Laboratory\\python_playground\\classifying-response-to-immunotherapy\\scripts'\n",
    "sys.path.append(lib)\n",
    "sys.path.append(lib2)\n",
    "sys.path.append(lib3)\n",
    "sys.path.append(lib4)\n",
    "sys.path.append(lib5)\n",
    "\n",
    "import os\n",
    "from os.path import join\n",
    "import sklearn\n",
    "from droplet_dataset import *\n",
    "from utilities import *\n",
    "from matplotlib import pyplot\n",
    "import numpy as np\n",
    "import scipy\n",
    "import pickle\n",
    "import matplotlib.pyplot as plt\n",
    "import pickle\n",
    "import pandas as pd\n",
    "import random\n",
    "from scipy.stats import pearsonr\n",
    "from matplotlib.pyplot import figure\n",
    "sklearn.__version__\n",
    "from utilities.general_helpers import get_common_indices_of_boolean_lists, flip_sign_of_boolean_list\n",
    "%matplotlib notebook"
   ]
  },
  {
   "cell_type": "code",
   "execution_count": 26,
   "metadata": {},
   "outputs": [],
   "source": [
    "sample_id = 'M121'\n",
    "ROW_SAMPLES_PATH = fr'D:\\Technion studies\\Keren Laboratory\\Data\\droplet_seq\\ROW_DATA'\n",
    "SAMPLES_INFORMATION_PATH = fr'D:\\Technion studies\\Keren Laboratory\\python_playground\\outputs\\inferCNV\\update_runs\\4.3.21'\n",
    "\n",
    "\n",
    "rna_sample = loading_sample(row_data_path=join(ROW_SAMPLES_PATH, f'{sample_id}.pkl'),\n",
    "                                    cells_information_path=join(SAMPLES_INFORMATION_PATH, f'{sample_id}.pkl'))\n",
    "rna_sample = rna_sample.filter_cells_by_property('should_be_removed', False)"
   ]
  },
  {
   "cell_type": "code",
   "execution_count": 27,
   "metadata": {},
   "outputs": [
    {
     "data": {
      "text/plain": [
       "['cell_type_list',\n",
       " 'conflict_related_cell_types',\n",
       " 'is_apoptosis',\n",
       " 'is_immune',\n",
       " 'is_cancer',\n",
       " 'cancer_immune_conflict',\n",
       " 'is_doublet',\n",
       " 'is_lymphoid',\n",
       " 'is_myeloid',\n",
       " 'is_CelBender_empty',\n",
       " 'is_stromal',\n",
       " 'should_be_removed']"
      ]
     },
     "execution_count": 27,
     "metadata": {},
     "output_type": "execute_result"
    }
   ],
   "source": [
    "rna_sample.cells_information.getattr('is_myeloid')\n",
    "rna_sample.cells_information.getattr('is_lymphoid')\n",
    "list(rna_sample.cells_information.cells_information_list[0].__dict__.keys())"
   ]
  },
  {
   "cell_type": "code",
   "execution_count": 28,
   "metadata": {},
   "outputs": [],
   "source": [
    "sub_rna_sample = rna_sample[get_common_indices_of_boolean_lists(rna_sample.cells_information.getattr('is_myeloid'), rna_sample.cells_information.getattr('is_lymphoid'))]"
   ]
  },
  {
   "cell_type": "code",
   "execution_count": 29,
   "metadata": {},
   "outputs": [
    {
     "data": {
      "text/plain": [
       "[['Neutrophils', 'Immune_general', 'NK cells'],\n",
       " ['Neutrophils', 'Immune_general', 'NK cells'],\n",
       " ['Neutrophils', 'Immune_general', 'NK cells'],\n",
       " ['Neutrophils', 'Immune_general', 'B cells'],\n",
       " ['Neutrophils', 'Immune_general', 'B cells'],\n",
       " ['Neutrophils', 'Immune_general', 'B cells'],\n",
       " ['Neutrophils', 'B cells', 'pDCs', 'cDCs_dendritic_cells', 'Immune_general'],\n",
       " ['Neutrophils', 'Immune_general', 'B cells'],\n",
       " ['Immune_general', 'Granolocytes', 'B cells'],\n",
       " ['Neutrophils', 'Immune_general', 'NK cells'],\n",
       " ['Neutrophils', 'Immune_general', 'B cells'],\n",
       " ['Neutrophils', 'B cells', 'Monocyte_mature', 'Immune_general'],\n",
       " ['Immune_general', 'Granolocytes', 'B cells'],\n",
       " ['Neutrophils', 'Immune_general', 'NK cells'],\n",
       " ['Immune_general', 'Granolocytes', 'B cells'],\n",
       " ['pDCs', 'Immune_general', 'B cells'],\n",
       " ['Neutrophils', 'Immune_general', 'NK cells'],\n",
       " ['Neutrophils', 'Immune_general', 'NK cells'],\n",
       " ['Neutrophils', 'Immune_general', 'B cells'],\n",
       " ['Neutrophils', 'Immune_general', 'B cells'],\n",
       " ['Neutrophils', 'Immune_general', 'NK cells'],\n",
       " ['Neutrophils', 'Immune_general', 'NK cells'],\n",
       " ['Immune_general', 'Granolocytes', 'B cells'],\n",
       " ['Neutrophils', 'Immune_general', 'B cells'],\n",
       " ['Immune_general', 'Granolocytes', 'B cells'],\n",
       " ['Neutrophils', 'B cells', 'Monocyte_mature', 'Immune_general'],\n",
       " ['Neutrophils', 'Immune_general', 'cDCs_dendritic_cells', 'B cells'],\n",
       " ['Neutrophils', 'Immune_general', 'B cells'],\n",
       " ['Neutrophils', 'Immune_general', 'NK cells'],\n",
       " ['Neutrophils', 'Immune_general', 'B cells']]"
      ]
     },
     "execution_count": 29,
     "metadata": {},
     "output_type": "execute_result"
    }
   ],
   "source": [
    "sub_rna_sample.cells_information.getattr('cell_type_list')"
   ]
  },
  {
   "cell_type": "code",
   "execution_count": 30,
   "metadata": {},
   "outputs": [
    {
     "data": {
      "text/plain": [
       "0.00591016548463357"
      ]
     },
     "execution_count": 30,
     "metadata": {},
     "output_type": "execute_result"
    }
   ],
   "source": [
    "sub_rna_sample.number_of_cells / rna_sample.number_of_cells"
   ]
  },
  {
   "cell_type": "code",
   "execution_count": null,
   "metadata": {},
   "outputs": [],
   "source": []
  },
  {
   "cell_type": "code",
   "execution_count": 37,
   "metadata": {},
   "outputs": [
    {
     "name": "stdout",
     "output_type": "stream",
     "text": [
      "M100: 0.0\n",
      "M101: 0.0011399908800729594\n",
      "M102: 9.865824782951855e-05\n",
      "M103: 0.008633824276282377\n",
      "M104: 0.0002402691013935608\n",
      "M105: 0.0005816658911121452\n",
      "M106: 0.0002134927412467976\n",
      "M107: 0.00028011204481792715\n",
      "M108: 0.0\n",
      "M109: 0.0001668335001668335\n",
      "M110: 0.0017992083483267362\n",
      "M111: 0.008907159986296678\n",
      "M112: 0.0006971880083662561\n",
      "M114: 0.001981178801386825\n",
      "M115: 0.0020964360587002098\n",
      "M116: 0.0009052504526252263\n",
      "M118: 0.004611837048424289\n",
      "M120: 0.03949600193845408\n",
      "M121: 0.00591016548463357\n",
      "M122: 0.0008166598611678236\n",
      "M123: 0.003962139555359894\n",
      "M124: 0.001754770783066462\n",
      "M125: 0.004149377593360996\n",
      "M126: 0.001934984520123839\n",
      "M127: 0.0\n",
      "M128: 0.0\n",
      "M129: 0.00026232948583420777\n",
      "M130: 0.01235813366960908\n",
      "M131: 0.009456838021338506\n",
      "M132: 0.003156441112645492\n",
      "M133: 0.006736068585425597\n",
      "M134: 0.007893438579181056\n",
      "M135: 0.0010420284821118443\n",
      "M136: 0.0017002671848433326\n",
      "M137: 0.00015865460891638903\n",
      "M138: 0.0009302325581395349\n",
      "M139: 0.001993024414549078\n",
      "M140: 0.013228257810301155\n",
      "M141: 0.0024855012427506215\n",
      "M143: 0.0002894356005788712\n",
      "M144: 0.00011194447554013209\n",
      "M145: 0.0016414141414141414\n",
      "M146: 0.0030120481927710845\n",
      "M97: 0.001442169022209403\n",
      "M98: 0.03650292924740874\n",
      "M99: 0.0014936519790888724\n"
     ]
    }
   ],
   "source": [
    "sample_id = 'M121'\n",
    "ROW_SAMPLES_PATH = fr'D:\\Technion studies\\Keren Laboratory\\Data\\droplet_seq\\ROW_DATA'\n",
    "SAMPLES_INFORMATION_PATH = fr'D:\\Technion studies\\Keren Laboratory\\python_playground\\outputs\\inferCNV\\update_runs\\4.3.21'\n",
    "\n",
    "samples = [subfolder.replace(\".pkl\", \"\") for subfolder in os.listdir(SAMPLES_INFORMATION_PATH)]\n",
    "\n",
    "cell_types = []\n",
    "for sample_id in samples:\n",
    "    rna_sample = loading_sample(row_data_path=join(ROW_SAMPLES_PATH, f'{sample_id}.pkl'),\n",
    "                                        cells_information_path=join(SAMPLES_INFORMATION_PATH, f'{sample_id}.pkl'))\n",
    "    rna_sample = rna_sample.filter_cells_by_property('should_be_removed', False)\n",
    "    sub_rna_sample = rna_sample[get_common_indices_of_boolean_lists(rna_sample.cells_information.getattr('is_myeloid'), rna_sample.cells_information.getattr('is_lymphoid'))]\n",
    "    cell_types.append(sub_rna_sample.cells_information.getattr(\"cell_type_list\"))\n",
    "    print(f'{sample_id}: {sub_rna_sample.number_of_cells / rna_sample.number_of_cells}')"
   ]
  },
  {
   "cell_type": "code",
   "execution_count": 38,
   "metadata": {},
   "outputs": [
    {
     "data": {
      "text/plain": [
       "Counter({'Neutrophils': 713,\n",
       "         'Immune_general': 728,\n",
       "         'B cells': 200,\n",
       "         'NK cells': 595,\n",
       "         'Monocyte_mature': 107,\n",
       "         'cDCs_dendritic_cells': 86,\n",
       "         'myeloid cells_general_mature': 96,\n",
       "         'Granolocytes': 85,\n",
       "         'Macrophage_mature': 55,\n",
       "         'myeloid cells_general_immature': 4,\n",
       "         'Monocyte_immature': 7,\n",
       "         'CD4 helper T cells': 1,\n",
       "         'T cells': 3,\n",
       "         'pDCs': 4})"
      ]
     },
     "execution_count": 38,
     "metadata": {},
     "output_type": "execute_result"
    }
   ],
   "source": [
    "Counter(flatten_list(flatten_list(cell_types)))"
   ]
  },
  {
   "cell_type": "code",
   "execution_count": null,
   "metadata": {},
   "outputs": [],
   "source": []
  },
  {
   "cell_type": "code",
   "execution_count": null,
   "metadata": {},
   "outputs": [],
   "source": []
  },
  {
   "cell_type": "code",
   "execution_count": null,
   "metadata": {},
   "outputs": [],
   "source": []
  }
 ],
 "metadata": {
  "kernelspec": {
   "display_name": "Python 3",
   "language": "python",
   "name": "python3"
  },
  "language_info": {
   "codemirror_mode": {
    "name": "ipython",
    "version": 3
   },
   "file_extension": ".py",
   "mimetype": "text/x-python",
   "name": "python",
   "nbconvert_exporter": "python",
   "pygments_lexer": "ipython3",
   "version": "3.7.3"
  }
 },
 "nbformat": 4,
 "nbformat_minor": 4
}
