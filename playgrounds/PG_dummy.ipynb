{
 "cells": [
  {
   "cell_type": "code",
   "execution_count": 28,
   "metadata": {},
   "outputs": [],
   "source": [
    "import sys\n",
    "lib = r'D:\\Technion studies\\Keren Laboratory\\python_playground\\classifying-response-to-immunotherapy\\utilities\\droplet_dataset'\n",
    "lib2 = r'D:\\Technion studies\\Keren Laboratory\\python_playground\\classifying-response-to-immunotherapy\\utilities'\n",
    "lib3 = r'D:\\Technion studies\\Keren Laboratory\\python_playground\\classifying-response-to-immunotherapy\\data_analysis'\n",
    "lib4 = r'D:\\Technion studies\\Keren Laboratory\\python_playground\\classifying-response-to-immunotherapy'\n",
    "sys.path.append(lib)\n",
    "sys.path.append(lib2)\n",
    "sys.path.append(lib3)\n",
    "sys.path.append(lib4)\n",
    "\n",
    "import os\n",
    "from os.path import join\n",
    "import sklearn\n",
    "from droplet_dataset import *\n",
    "from utilities import *\n",
    "from matplotlib import pyplot\n",
    "import numpy as np\n",
    "import scipy\n",
    "import pickle\n",
    "import matplotlib.pyplot as plt\n",
    "import pickle\n",
    "import pandas as pd\n",
    "import random\n",
    "from scipy.stats import pearsonr\n",
    "from matplotlib.pyplot import figure\n",
    "sklearn.__version__\n",
    "%matplotlib notebook\n",
    "\n",
    "\n"
   ]
  },
  {
   "cell_type": "code",
   "execution_count": 29,
   "metadata": {},
   "outputs": [],
   "source": [
    "SAMPLES_PATH = r'D:\\Technion studies\\Keren Laboratory\\python_playground\\outputs\\inferCNV\\update_runs\\dummy'"
   ]
  },
  {
   "cell_type": "code",
   "execution_count": null,
   "metadata": {},
   "outputs": [],
   "source": []
  },
  {
   "cell_type": "code",
   "execution_count": 8,
   "metadata": {},
   "outputs": [],
   "source": [
    "# samples = [subfolder for subfolder in os.listdir(SAMPLES_PATH) if subfolder.startswith('M')]\n",
    "# for sample_id in samples:\n",
    "#     print(sample_id)\n",
    "#     sample_path = join(SAMPLES_PATH, sample_id, f'{sample_id}.pkl')\n",
    "#     rna_sample = pickle.load(open(sample_path, 'rb'))\n",
    "    \n",
    "    \n",
    "#     for c in rna_sample.cells_information:\n",
    "#         c.count_insertions = c.count_insertions > 0\n",
    "#         c.count_deletions = c.count_deletions > 0\n",
    "#     print('num del ' + str(sum(rna_sample.cells_information.getattr('count_deletions'))))\n",
    "#     print('num ins ' + str(sum(rna_sample.cells_information.getattr('count_insertions'))))\n",
    "#     print(f'num cells {rna_sample.number_of_cells}', end='\\n\\n')\n"
   ]
  },
  {
   "cell_type": "code",
   "execution_count": null,
   "metadata": {},
   "outputs": [],
   "source": []
  },
  {
   "cell_type": "code",
   "execution_count": 30,
   "metadata": {},
   "outputs": [],
   "source": [
    "def extract_data_from_pickle(pickle_path):\n",
    "    \"\"\"\n",
    "    Retrieves data from PC located in PICKLE_PATH.\n",
    "    :return: cells_form, gene_names, patients_information\n",
    "    \"\"\"\n",
    "    cells_form, gene_names, patients_information = pickle.load(open(pickle_path, \"rb\"))\n",
    "    return cells_form, gene_names, patients_information\n",
    "\n",
    "# from termcolor import colored\n",
    "# from data import *\n",
    "PICKLE_PATH = r'D:\\Technion studies\\Keren Laboratory\\Data\\smart_seq\\SmartSeq_RNAseq_DATA.p'\n"
   ]
  },
  {
   "cell_type": "code",
   "execution_count": 11,
   "metadata": {},
   "outputs": [],
   "source": [
    "cells, gene_names, patients_information = extract_data_from_pickle(PICKLE_PATH)\n",
    "# dataset = RNAseq_Dataset(cells, patients_information, gene_names)"
   ]
  },
  {
   "cell_type": "code",
   "execution_count": 12,
   "metadata": {},
   "outputs": [],
   "source": [
    "from utilities.smart_seq_dataset import RNAseq_Dataset\n",
    "dataset = RNAseq_Dataset(cells, patients_information, gene_names)"
   ]
  },
  {
   "cell_type": "code",
   "execution_count": 27,
   "metadata": {},
   "outputs": [
    {
     "name": "stdout",
     "output_type": "stream",
     "text": [
      "index: 15216\n",
      "2 cluster: CD8_G\n",
      "6 cluster: CD8_2\n",
      "6 cluster: 9\n",
      "supervised: ['CD8 Cytotoxic T cells', 'Activated T cells', 'T cells']\n"
     ]
    }
   ],
   "source": [
    "barcode = 'F11_P3_M41_L001'\n",
    "\n",
    "c_idx = [idx for idx, c in enumerate(dataset.cells_information_list) if c.cell_id==barcode][0]\n",
    "print(f'index: {c_idx}')\n",
    "print(f'2 cluster: {dataset.cells_information_list[c_idx].t_cell_2_cluster}')\n",
    "print(f'6 cluster: {dataset.cells_information_list[c_idx].t_cell_6_cluster}')\n",
    "print(f'6 cluster: {dataset.cells_information_list[c_idx].general_11_cluster}')\n",
    "print(f'supervised: {dataset.cells_information_list[c_idx].supervised}')\n"
   ]
  },
  {
   "cell_type": "code",
   "execution_count": 35,
   "metadata": {},
   "outputs": [],
   "source": [
    "path2 = r'D:\\Technion studies\\Keren Laboratory\\python_playground\\outputs\\smart_seq\\SmartSeq_RNAseq_DATA_3.1.2021.p'\n",
    "cells2, gene_names2, patients_information2 = extract_data_from_pickle(path2)\n",
    "dataset2 = RNAseq_Dataset(cells, patients_information, gene_names)\n"
   ]
  },
  {
   "cell_type": "code",
   "execution_count": 46,
   "metadata": {},
   "outputs": [
    {
     "name": "stdout",
     "output_type": "stream",
     "text": [
      "index: 12\n",
      "2 cluster: CD8_G\n",
      "6 cluster: CD8_4\n",
      "6 cluster: 5\n",
      "supervised: ['CD8 Cytotoxic T cells', 'Activated T cells', 'Memory CD8 T cells', 'T cells']\n"
     ]
    }
   ],
   "source": [
    "barcode = 'A4_P6_M11'\n",
    "\n",
    "\n",
    "c_idx = [idx for idx, c in enumerate(dataset2.cells_information_list) if c.cell_id==barcode][0]\n",
    "print(f'index: {c_idx}')\n",
    "print(f'2 cluster: {dataset2.cells_information_list[c_idx].t_cell_2_cluster}')\n",
    "print(f'6 cluster: {dataset2.cells_information_list[c_idx].t_cell_6_cluster}')\n",
    "print(f'6 cluster: {dataset2.cells_information_list[c_idx].general_11_cluster}')\n",
    "print(f'supervised: {dataset2.cells_information_list[c_idx].supervised}')"
   ]
  },
  {
   "cell_type": "code",
   "execution_count": 42,
   "metadata": {},
   "outputs": [
    {
     "name": "stdout",
     "output_type": "stream",
     "text": [
      "index: 0\n",
      "index: A10_P3_M11\n",
      "2 cluster: None\n",
      "6 cluster: None\n",
      "6 cluster: 5\n",
      "supervised: ['NK cells']\n"
     ]
    }
   ],
   "source": [
    "c_idx = 0\n",
    "\n",
    "\n",
    "print(f'index: {c_idx}')\n",
    "print(f'index: {dataset2.cells_information_list[c_idx].cell_id}')\n",
    "print(f'2 cluster: {dataset2.cells_information_list[c_idx].t_cell_2_cluster}')\n",
    "print(f'6 cluster: {dataset2.cells_information_list[c_idx].t_cell_6_cluster}')\n",
    "print(f'6 cluster: {dataset2.cells_information_list[c_idx].general_11_cluster}')\n",
    "print(f'supervised: {dataset2.cells_information_list[c_idx].supervised}')"
   ]
  }
 ],
 "metadata": {
  "kernelspec": {
   "display_name": "Python 3",
   "language": "python",
   "name": "python3"
  },
  "language_info": {
   "codemirror_mode": {
    "name": "ipython",
    "version": 3
   },
   "file_extension": ".py",
   "mimetype": "text/x-python",
   "name": "python",
   "nbconvert_exporter": "python",
   "pygments_lexer": "ipython3",
   "version": "3.7.3"
  }
 },
 "nbformat": 4,
 "nbformat_minor": 4
}
