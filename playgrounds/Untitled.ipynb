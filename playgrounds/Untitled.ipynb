{
 "cells": [
  {
   "cell_type": "code",
   "execution_count": 2,
   "metadata": {},
   "outputs": [],
   "source": [
    "from scipy.special import binom, comb\n",
    "# from scipy.stats import binom\n",
    "import matplotlib.pyplot as plt\n",
    "import numpy as np\n",
    "import sys\n",
    "lib = r'C:\\Users\\KerenYlab\\Desktop\\Technion studies\\Keren laboratory\\python_playground\\classifying-response-to-immunotherapy\\utilities\\droplet_dataset'\n",
    "lib2 = r'C:\\Users\\KerenYlab\\Desktop\\Technion studies\\Keren laboratory\\python_playground\\classifying-response-to-immunotherapy\\utilities'\n",
    "lib3 = r'C:\\Users\\KerenYlab\\Desktop\\Technion studies\\Keren laboratory\\python_playground\\classifying-response-to-immunotherapy\\data_analysis'\n",
    "lib4 = r'C:\\Users\\KerenYlab\\Desktop\\Technion studies\\Keren laboratory\\python_playground\\classifying-response-to-immunotherapy'\n",
    "sys.path.append(lib)\n",
    "sys.path.append(lib2)\n",
    "sys.path.append(lib3)\n",
    "sys.path.append(lib4)\n",
    "# from pyclustering.cluster.kmeans import kmeans\n",
    "# from pyclustering.utils.metric import type_metric, distance_metric\n",
    "# from pyclustering.cluster.center_initializer import kmeans_plusplus_initializer\n",
    "import numpy as np\n",
    "import matplotlib\n",
    "from utilities.droplet_dataset import  build_cohort\n",
    "import os\n",
    "from os.path import join\n",
    "from DL.Mars_seq_DL.data_loading import *\n",
    "from utilities.droplet_dataset import *\n",
    "import math\n",
    "import matplotlib as plt\n",
    "from sklearn.manifold import TSNE\n",
    "import statsmodels as sm\n",
    "import scipy.stats as stats\n",
    "# from Bio.Cluster import kcluster\n",
    "from sklearn.manifold import TSNE\n",
    "import pickle\n",
    "from scipy.stats import pearsonr\n",
    "import statsmodels as sm\n",
    "\n"
   ]
  },
  {
   "cell_type": "code",
   "execution_count": 24,
   "metadata": {},
   "outputs": [],
   "source": [
    "def str_list_to_float(li):\n",
    "    return [int(y) for y in li]"
   ]
  },
  {
   "cell_type": "code",
   "execution_count": null,
   "metadata": {},
   "outputs": [],
   "source": []
  },
  {
   "cell_type": "code",
   "execution_count": null,
   "metadata": {},
   "outputs": [],
   "source": [
    "idT = pd.read_csv('ids/' + species + '_' + idType + '.csv', dtype=object, index_col=0, header=0)\n",
    "commonIDs = list(set(idT.index).intersection(set(em.index)))\n",
    "idT = idT.loc[commonIDs,]\n",
    "em = em.loc[commonIDs,]\n",
    "em.index = idT.loc[commonIDs,'Symbol']\n",
    "em = em.groupby(level=0).sum()"
   ]
  },
  {
   "cell_type": "code",
   "execution_count": 54,
   "metadata": {},
   "outputs": [
    {
     "data": {
      "text/plain": [
       "'ids/d_d.csv'"
      ]
     },
     "execution_count": 54,
     "metadata": {},
     "output_type": "execute_result"
    }
   ],
   "source": [
    "species = 'd'\n",
    "idType = 'd'\n",
    "'ids/' + species + '_' + idType + '.csv'"
   ]
  },
  {
   "cell_type": "code",
   "execution_count": 83,
   "metadata": {},
   "outputs": [],
   "source": [
    "path = r'C:\\Users\\KerenYlab\\Desktop\\Technion studies\\Keren laboratory\\python_playground\\NATMI\\ids\\9606_ensembl.csv'\n",
    "emFile = r'C:\\Users\\KerenYlab\\Desktop\\Technion studies\\Keren laboratory\\python_playground\\outputs\\NATMI\\DEBUG\\count_table.csv'\n",
    "\n",
    "em = pd.read_csv(emFile, index_col=0, header=0)\n",
    "em = em.loc[em.max(axis=1)>0,]\n",
    "idT = pd.read_csv(path, dtype=object, index_col=0, header=0)\n",
    "\n"
   ]
  },
  {
   "cell_type": "code",
   "execution_count": 84,
   "metadata": {},
   "outputs": [
    {
     "name": "stdout",
     "output_type": "stream",
     "text": [
      "15052\n"
     ]
    }
   ],
   "source": [
    "commonIDs = list(set(idT.index).intersection(set(em.index)))\n",
    "print(len(commonIDs))\n"
   ]
  },
  {
   "cell_type": "code",
   "execution_count": 90,
   "metadata": {},
   "outputs": [
    {
     "data": {
      "text/plain": [
       "['ENSG00000113273',\n",
       " 'ENSG00000105419',\n",
       " 'ENSG00000167619',\n",
       " 'ENSG00000218739',\n",
       " 'ENSG00000225439',\n",
       " 'ENSG00000159217',\n",
       " 'ENSG00000117500',\n",
       " 'ENSG00000168395',\n",
       " 'ENSG00000101782',\n",
       " 'ENSG00000140025']"
      ]
     },
     "execution_count": 90,
     "metadata": {},
     "output_type": "execute_result"
    }
   ],
   "source": [
    "commonIDs[:10]\n",
    "commonIDs[-10:]"
   ]
  },
  {
   "cell_type": "code",
   "execution_count": 208,
   "metadata": {},
   "outputs": [
    {
     "name": "stdout",
     "output_type": "stream",
     "text": [
      "15052\n"
     ]
    },
    {
     "data": {
      "text/plain": [
       "[]"
      ]
     },
     "execution_count": 208,
     "metadata": {},
     "output_type": "execute_result"
    }
   ],
   "source": [
    "print(len(commonIDs))\n",
    "idT_1 = idT.loc[commonIDs,]\n",
    "idT_1#.reset_index()\n",
    "# len(idT_1)\n",
    "[[g1,g2] for g1, g2 in zip(commonIDs, list(idT_1.index)) if g1!=g2]\n",
    "# em = em.loc[commonIDs,]"
   ]
  },
  {
   "cell_type": "code",
   "execution_count": 209,
   "metadata": {},
   "outputs": [
    {
     "data": {
      "text/html": [
       "<div>\n",
       "<style scoped>\n",
       "    .dataframe tbody tr th:only-of-type {\n",
       "        vertical-align: middle;\n",
       "    }\n",
       "\n",
       "    .dataframe tbody tr th {\n",
       "        vertical-align: top;\n",
       "    }\n",
       "\n",
       "    .dataframe thead th {\n",
       "        text-align: right;\n",
       "    }\n",
       "</style>\n",
       "<table border=\"1\" class=\"dataframe\">\n",
       "  <thead>\n",
       "    <tr style=\"text-align: right;\">\n",
       "      <th></th>\n",
       "      <th>0</th>\n",
       "      <th>1</th>\n",
       "    </tr>\n",
       "  </thead>\n",
       "  <tbody>\n",
       "    <tr>\n",
       "      <th>3405</th>\n",
       "      <td>ENSG00000167258</td>\n",
       "      <td>ENSG00000167258</td>\n",
       "    </tr>\n",
       "    <tr>\n",
       "      <th>3406</th>\n",
       "      <td>ENSG00000169760</td>\n",
       "      <td>ENSG00000169760</td>\n",
       "    </tr>\n",
       "    <tr>\n",
       "      <th>3407</th>\n",
       "      <td>ENSG00000230426</td>\n",
       "      <td>ENSG00000230426</td>\n",
       "    </tr>\n",
       "    <tr>\n",
       "      <th>3408</th>\n",
       "      <td>ENSG00000169607</td>\n",
       "      <td>ENSG00000169607</td>\n",
       "    </tr>\n",
       "    <tr>\n",
       "      <th>3409</th>\n",
       "      <td>ENSG00000135926</td>\n",
       "      <td>ENSG00000135926</td>\n",
       "    </tr>\n",
       "  </tbody>\n",
       "</table>\n",
       "</div>"
      ],
      "text/plain": [
       "                    0                1\n",
       "3405  ENSG00000167258  ENSG00000167258\n",
       "3406  ENSG00000169760  ENSG00000169760\n",
       "3407  ENSG00000230426  ENSG00000230426\n",
       "3408  ENSG00000169607  ENSG00000169607\n",
       "3409  ENSG00000135926  ENSG00000135926"
      ]
     },
     "execution_count": 209,
     "metadata": {},
     "output_type": "execute_result"
    }
   ],
   "source": [
    "pd.DataFrame(list(zip(commonIDs, list(idT_1.index)))).iloc[3405:3410]"
   ]
  },
  {
   "cell_type": "code",
   "execution_count": 156,
   "metadata": {},
   "outputs": [
    {
     "data": {
      "text/html": [
       "<div>\n",
       "<style scoped>\n",
       "    .dataframe tbody tr th:only-of-type {\n",
       "        vertical-align: middle;\n",
       "    }\n",
       "\n",
       "    .dataframe tbody tr th {\n",
       "        vertical-align: top;\n",
       "    }\n",
       "\n",
       "    .dataframe thead th {\n",
       "        text-align: right;\n",
       "    }\n",
       "</style>\n",
       "<table border=\"1\" class=\"dataframe\">\n",
       "  <thead>\n",
       "    <tr style=\"text-align: right;\">\n",
       "      <th></th>\n",
       "      <th>Symbol</th>\n",
       "    </tr>\n",
       "    <tr>\n",
       "      <th>Ensembl Gene ID</th>\n",
       "      <th></th>\n",
       "    </tr>\n",
       "  </thead>\n",
       "  <tbody>\n",
       "    <tr>\n",
       "      <th>ENSG00000230426</th>\n",
       "      <td>ERVMER61-1</td>\n",
       "    </tr>\n",
       "    <tr>\n",
       "      <th>ENSG00000230426</th>\n",
       "      <td>LINC01036</td>\n",
       "    </tr>\n",
       "  </tbody>\n",
       "</table>\n",
       "</div>"
      ],
      "text/plain": [
       "                     Symbol\n",
       "Ensembl Gene ID            \n",
       "ENSG00000230426  ERVMER61-1\n",
       "ENSG00000230426   LINC01036"
      ]
     },
     "execution_count": 156,
     "metadata": {},
     "output_type": "execute_result"
    }
   ],
   "source": [
    "[g for g in commonIDs if g.startswith('ENSG0000023042')]\n",
    "commonIDs[3405:]\n",
    "idT.loc['ENSG00000230426']"
   ]
  },
  {
   "cell_type": "code",
   "execution_count": 212,
   "metadata": {},
   "outputs": [],
   "source": [
    "def BUG_FIXED_change_idT_index(idT):\n",
    "    dic_counter = {k:0 for k in set(idT.index)}\n",
    "    new_index = []\n",
    "    for k in np.array(idT.index):\n",
    "        if dic_counter[k]==0:\n",
    "            dic_counter[k]+=1 #print()\n",
    "            new_index += [k]\n",
    "        else:\n",
    "            print(k)\n",
    "            new_index += [k+'_2']\n",
    "    return new_index\n",
    "idT.index = BUG_FIXED_change_idT_index(idT)"
   ]
  },
  {
   "cell_type": "code",
   "execution_count": 121,
   "metadata": {},
   "outputs": [
    {
     "data": {
      "text/plain": [
       "Counter({1: 15052})"
      ]
     },
     "execution_count": 121,
     "metadata": {},
     "output_type": "execute_result"
    }
   ],
   "source": [
    "Counter(ll2)"
   ]
  },
  {
   "cell_type": "code",
   "execution_count": 74,
   "metadata": {},
   "outputs": [],
   "source": [
    "# set(idT.index)"
   ]
  },
  {
   "cell_type": "code",
   "execution_count": 65,
   "metadata": {},
   "outputs": [
    {
     "data": {
      "text/html": [
       "<div>\n",
       "<style scoped>\n",
       "    .dataframe tbody tr th:only-of-type {\n",
       "        vertical-align: middle;\n",
       "    }\n",
       "\n",
       "    .dataframe tbody tr th {\n",
       "        vertical-align: top;\n",
       "    }\n",
       "\n",
       "    .dataframe thead th {\n",
       "        text-align: right;\n",
       "    }\n",
       "</style>\n",
       "<table border=\"1\" class=\"dataframe\">\n",
       "  <thead>\n",
       "    <tr style=\"text-align: right;\">\n",
       "      <th></th>\n",
       "      <th>Ensembl Gene ID</th>\n",
       "      <th>Symbol</th>\n",
       "    </tr>\n",
       "  </thead>\n",
       "  <tbody>\n",
       "    <tr>\n",
       "      <th>0</th>\n",
       "      <td>ENSG00000121410</td>\n",
       "      <td>A1BG</td>\n",
       "    </tr>\n",
       "    <tr>\n",
       "      <th>1</th>\n",
       "      <td>ENSG00000268895</td>\n",
       "      <td>A1BG-AS1</td>\n",
       "    </tr>\n",
       "    <tr>\n",
       "      <th>2</th>\n",
       "      <td>ENSG00000148584</td>\n",
       "      <td>A1CF</td>\n",
       "    </tr>\n",
       "    <tr>\n",
       "      <th>3</th>\n",
       "      <td>ENSG00000175899</td>\n",
       "      <td>A2M</td>\n",
       "    </tr>\n",
       "    <tr>\n",
       "      <th>4</th>\n",
       "      <td>ENSG00000245105</td>\n",
       "      <td>A2M-AS1</td>\n",
       "    </tr>\n",
       "    <tr>\n",
       "      <th>...</th>\n",
       "      <td>...</td>\n",
       "      <td>...</td>\n",
       "    </tr>\n",
       "    <tr>\n",
       "      <th>38550</th>\n",
       "      <td>ENSG00000162378</td>\n",
       "      <td>ZYG11B</td>\n",
       "    </tr>\n",
       "    <tr>\n",
       "      <th>38551</th>\n",
       "      <td>ENSG00000159840</td>\n",
       "      <td>ZYX</td>\n",
       "    </tr>\n",
       "    <tr>\n",
       "      <th>38552</th>\n",
       "      <td>ENSG00000274572</td>\n",
       "      <td>ZYXP1</td>\n",
       "    </tr>\n",
       "    <tr>\n",
       "      <th>38553</th>\n",
       "      <td>ENSG00000074755</td>\n",
       "      <td>ZZEF1</td>\n",
       "    </tr>\n",
       "    <tr>\n",
       "      <th>38554</th>\n",
       "      <td>ENSG00000036549</td>\n",
       "      <td>ZZZ3</td>\n",
       "    </tr>\n",
       "  </tbody>\n",
       "</table>\n",
       "<p>38555 rows × 2 columns</p>\n",
       "</div>"
      ],
      "text/plain": [
       "       Ensembl Gene ID    Symbol\n",
       "0      ENSG00000121410      A1BG\n",
       "1      ENSG00000268895  A1BG-AS1\n",
       "2      ENSG00000148584      A1CF\n",
       "3      ENSG00000175899       A2M\n",
       "4      ENSG00000245105   A2M-AS1\n",
       "...                ...       ...\n",
       "38550  ENSG00000162378    ZYG11B\n",
       "38551  ENSG00000159840       ZYX\n",
       "38552  ENSG00000274572     ZYXP1\n",
       "38553  ENSG00000074755     ZZEF1\n",
       "38554  ENSG00000036549      ZZZ3\n",
       "\n",
       "[38555 rows x 2 columns]"
      ]
     },
     "execution_count": 65,
     "metadata": {},
     "output_type": "execute_result"
    }
   ],
   "source": [
    "idT"
   ]
  },
  {
   "cell_type": "code",
   "execution_count": null,
   "metadata": {},
   "outputs": [],
   "source": []
  },
  {
   "cell_type": "code",
   "execution_count": null,
   "metadata": {},
   "outputs": [],
   "source": []
  },
  {
   "cell_type": "code",
   "execution_count": 5,
   "metadata": {},
   "outputs": [
    {
     "data": {
      "text/plain": [
       "32738"
      ]
     },
     "execution_count": 5,
     "metadata": {},
     "output_type": "execute_result"
    }
   ],
   "source": [
    "pkl_path = r'C:\\Users\\KerenYlab\\Desktop\\Technion studies\\Keren laboratory\\Data\\droplet_seq\\DEBUG\\200_rand_cells.pkl'\n",
    "cohort = pickle.load(open(pkl_path, 'rb'))\n",
    "cohort.number_of_genes"
   ]
  },
  {
   "cell_type": "code",
   "execution_count": 14,
   "metadata": {},
   "outputs": [],
   "source": [
    "count_table = pd.DataFrame(cohort.counts.T, columns=cohort.barcodes, index=cohort.features)\n"
   ]
  },
  {
   "cell_type": "code",
   "execution_count": 48,
   "metadata": {},
   "outputs": [],
   "source": [
    "ann_df = pd.DataFrame(transpose_list([cohort.barcodes, cohort.get_cancer_immune_stroma_map()[1]]), columns=[\"Cell\", \"Annotation\"])"
   ]
  },
  {
   "cell_type": "code",
   "execution_count": 52,
   "metadata": {},
   "outputs": [],
   "source": [
    "count_table.to_csv(r'C:\\Users\\KerenYlab\\Desktop\\Technion studies\\Keren laboratory\\python_playground\\outputs\\NATMI\\DEBUG\\count_table.csv', index=True,header=True)\n",
    "ann_df.to_csv(r'C:\\Users\\KerenYlab\\Desktop\\Technion studies\\Keren laboratory\\python_playground\\outputs\\NATMI\\DEBUG\\ann.csv', index=False)"
   ]
  },
  {
   "cell_type": "code",
   "execution_count": 49,
   "metadata": {},
   "outputs": [
    {
     "data": {
      "text/html": [
       "<div>\n",
       "<style scoped>\n",
       "    .dataframe tbody tr th:only-of-type {\n",
       "        vertical-align: middle;\n",
       "    }\n",
       "\n",
       "    .dataframe tbody tr th {\n",
       "        vertical-align: top;\n",
       "    }\n",
       "\n",
       "    .dataframe thead th {\n",
       "        text-align: right;\n",
       "    }\n",
       "</style>\n",
       "<table border=\"1\" class=\"dataframe\">\n",
       "  <thead>\n",
       "    <tr style=\"text-align: right;\">\n",
       "      <th></th>\n",
       "      <th>Cell</th>\n",
       "      <th>Annotation</th>\n",
       "    </tr>\n",
       "  </thead>\n",
       "  <tbody>\n",
       "    <tr>\n",
       "      <th>0</th>\n",
       "      <td>ACGGCCAAGGTGATAT-1</td>\n",
       "      <td>is_cancer</td>\n",
       "    </tr>\n",
       "    <tr>\n",
       "      <th>1</th>\n",
       "      <td>AGGCCACTCGATCCCT-1</td>\n",
       "      <td>is_cancer</td>\n",
       "    </tr>\n",
       "    <tr>\n",
       "      <th>2</th>\n",
       "      <td>TAGGCATTCTAGAGTC-1</td>\n",
       "      <td>is_immune</td>\n",
       "    </tr>\n",
       "    <tr>\n",
       "      <th>3</th>\n",
       "      <td>TCAGGATTCCTGCTTG-1</td>\n",
       "      <td>is_immune</td>\n",
       "    </tr>\n",
       "    <tr>\n",
       "      <th>4</th>\n",
       "      <td>AACTGGTAGGCCCGTT-1</td>\n",
       "      <td>is_cancer</td>\n",
       "    </tr>\n",
       "    <tr>\n",
       "      <th>...</th>\n",
       "      <td>...</td>\n",
       "      <td>...</td>\n",
       "    </tr>\n",
       "    <tr>\n",
       "      <th>195</th>\n",
       "      <td>AACTCTTTCTGCCCTA-1</td>\n",
       "      <td>is_cancer</td>\n",
       "    </tr>\n",
       "    <tr>\n",
       "      <th>196</th>\n",
       "      <td>GTACTTTCATGACGGA-1</td>\n",
       "      <td>is_cancer</td>\n",
       "    </tr>\n",
       "    <tr>\n",
       "      <th>197</th>\n",
       "      <td>TTCTCCTGTGGTGTAG-1</td>\n",
       "      <td>is_immune</td>\n",
       "    </tr>\n",
       "    <tr>\n",
       "      <th>198</th>\n",
       "      <td>AAACCTGAGGGAGTAA-1</td>\n",
       "      <td>is_immune</td>\n",
       "    </tr>\n",
       "    <tr>\n",
       "      <th>199</th>\n",
       "      <td>CGGAGTCTCGCTTAGA-1</td>\n",
       "      <td>is_immune</td>\n",
       "    </tr>\n",
       "  </tbody>\n",
       "</table>\n",
       "<p>200 rows × 2 columns</p>\n",
       "</div>"
      ],
      "text/plain": [
       "                   Cell Annotation\n",
       "0    ACGGCCAAGGTGATAT-1  is_cancer\n",
       "1    AGGCCACTCGATCCCT-1  is_cancer\n",
       "2    TAGGCATTCTAGAGTC-1  is_immune\n",
       "3    TCAGGATTCCTGCTTG-1  is_immune\n",
       "4    AACTGGTAGGCCCGTT-1  is_cancer\n",
       "..                  ...        ...\n",
       "195  AACTCTTTCTGCCCTA-1  is_cancer\n",
       "196  GTACTTTCATGACGGA-1  is_cancer\n",
       "197  TTCTCCTGTGGTGTAG-1  is_immune\n",
       "198  AAACCTGAGGGAGTAA-1  is_immune\n",
       "199  CGGAGTCTCGCTTAGA-1  is_immune\n",
       "\n",
       "[200 rows x 2 columns]"
      ]
     },
     "execution_count": 49,
     "metadata": {},
     "output_type": "execute_result"
    }
   ],
   "source": [
    "ann_df"
   ]
  },
  {
   "cell_type": "code",
   "execution_count": 42,
   "metadata": {},
   "outputs": [
    {
     "data": {
      "text/html": [
       "<div>\n",
       "<style scoped>\n",
       "    .dataframe tbody tr th:only-of-type {\n",
       "        vertical-align: middle;\n",
       "    }\n",
       "\n",
       "    .dataframe tbody tr th {\n",
       "        vertical-align: top;\n",
       "    }\n",
       "\n",
       "    .dataframe thead th {\n",
       "        text-align: right;\n",
       "    }\n",
       "</style>\n",
       "<table border=\"1\" class=\"dataframe\">\n",
       "  <thead>\n",
       "    <tr style=\"text-align: right;\">\n",
       "      <th></th>\n",
       "      <th>ACGGCCAAGGTGATAT-1</th>\n",
       "      <th>AGGCCACTCGATCCCT-1</th>\n",
       "      <th>TAGGCATTCTAGAGTC-1</th>\n",
       "      <th>TCAGGATTCCTGCTTG-1</th>\n",
       "      <th>AACTGGTAGGCCCGTT-1</th>\n",
       "      <th>AGCTCTCCAGGGAGAG-1</th>\n",
       "      <th>CACAGGCAGCAGACTG-1</th>\n",
       "      <th>CCATGTCTCAAACGGG-1</th>\n",
       "      <th>CCTTTCTAGGTCATCT-1</th>\n",
       "      <th>CGCTGGAGTCAAAGCG-1</th>\n",
       "      <th>...</th>\n",
       "      <th>TTTCCTCTCTACTTAC-1</th>\n",
       "      <th>AAGGCAGGTGGCCCTA-1</th>\n",
       "      <th>ATGTGTGGTCTCTCTG-1</th>\n",
       "      <th>CAGAGAGTCGACCAGC-1</th>\n",
       "      <th>AAAGTAGGTCTGGAGA-1</th>\n",
       "      <th>AACTCTTTCTGCCCTA-1</th>\n",
       "      <th>GTACTTTCATGACGGA-1</th>\n",
       "      <th>TTCTCCTGTGGTGTAG-1</th>\n",
       "      <th>AAACCTGAGGGAGTAA-1</th>\n",
       "      <th>CGGAGTCTCGCTTAGA-1</th>\n",
       "    </tr>\n",
       "  </thead>\n",
       "  <tbody>\n",
       "    <tr>\n",
       "      <th>ENSG00000000003</th>\n",
       "      <td>0.000000</td>\n",
       "      <td>0.0</td>\n",
       "      <td>0.0</td>\n",
       "      <td>0.0</td>\n",
       "      <td>0.0</td>\n",
       "      <td>0.0</td>\n",
       "      <td>0.0</td>\n",
       "      <td>0.0</td>\n",
       "      <td>0.0</td>\n",
       "      <td>0.0</td>\n",
       "      <td>...</td>\n",
       "      <td>0.0</td>\n",
       "      <td>0.94197</td>\n",
       "      <td>0.0</td>\n",
       "      <td>0.0</td>\n",
       "      <td>0.0</td>\n",
       "      <td>0.0</td>\n",
       "      <td>0.0</td>\n",
       "      <td>0.0</td>\n",
       "      <td>0.0</td>\n",
       "      <td>0.0</td>\n",
       "    </tr>\n",
       "    <tr>\n",
       "      <th>ENSG00000000005</th>\n",
       "      <td>0.000000</td>\n",
       "      <td>0.0</td>\n",
       "      <td>0.0</td>\n",
       "      <td>0.0</td>\n",
       "      <td>0.0</td>\n",
       "      <td>0.0</td>\n",
       "      <td>0.0</td>\n",
       "      <td>0.0</td>\n",
       "      <td>0.0</td>\n",
       "      <td>0.0</td>\n",
       "      <td>...</td>\n",
       "      <td>0.0</td>\n",
       "      <td>0.00000</td>\n",
       "      <td>0.0</td>\n",
       "      <td>0.0</td>\n",
       "      <td>0.0</td>\n",
       "      <td>0.0</td>\n",
       "      <td>0.0</td>\n",
       "      <td>0.0</td>\n",
       "      <td>0.0</td>\n",
       "      <td>0.0</td>\n",
       "    </tr>\n",
       "    <tr>\n",
       "      <th>ENSG00000000419</th>\n",
       "      <td>0.000000</td>\n",
       "      <td>0.0</td>\n",
       "      <td>0.0</td>\n",
       "      <td>0.0</td>\n",
       "      <td>0.0</td>\n",
       "      <td>0.0</td>\n",
       "      <td>0.0</td>\n",
       "      <td>0.0</td>\n",
       "      <td>0.0</td>\n",
       "      <td>0.0</td>\n",
       "      <td>...</td>\n",
       "      <td>0.0</td>\n",
       "      <td>0.00000</td>\n",
       "      <td>0.0</td>\n",
       "      <td>0.0</td>\n",
       "      <td>0.0</td>\n",
       "      <td>0.0</td>\n",
       "      <td>0.0</td>\n",
       "      <td>0.0</td>\n",
       "      <td>0.0</td>\n",
       "      <td>0.0</td>\n",
       "    </tr>\n",
       "    <tr>\n",
       "      <th>ENSG00000000457</th>\n",
       "      <td>0.709399</td>\n",
       "      <td>0.0</td>\n",
       "      <td>0.0</td>\n",
       "      <td>0.0</td>\n",
       "      <td>0.0</td>\n",
       "      <td>0.0</td>\n",
       "      <td>0.0</td>\n",
       "      <td>0.0</td>\n",
       "      <td>0.0</td>\n",
       "      <td>0.0</td>\n",
       "      <td>...</td>\n",
       "      <td>0.0</td>\n",
       "      <td>0.00000</td>\n",
       "      <td>0.0</td>\n",
       "      <td>0.0</td>\n",
       "      <td>0.0</td>\n",
       "      <td>0.0</td>\n",
       "      <td>0.0</td>\n",
       "      <td>0.0</td>\n",
       "      <td>0.0</td>\n",
       "      <td>0.0</td>\n",
       "    </tr>\n",
       "    <tr>\n",
       "      <th>ENSG00000000460</th>\n",
       "      <td>0.000000</td>\n",
       "      <td>0.0</td>\n",
       "      <td>0.0</td>\n",
       "      <td>0.0</td>\n",
       "      <td>0.0</td>\n",
       "      <td>0.0</td>\n",
       "      <td>0.0</td>\n",
       "      <td>0.0</td>\n",
       "      <td>0.0</td>\n",
       "      <td>0.0</td>\n",
       "      <td>...</td>\n",
       "      <td>0.0</td>\n",
       "      <td>0.00000</td>\n",
       "      <td>0.0</td>\n",
       "      <td>0.0</td>\n",
       "      <td>0.0</td>\n",
       "      <td>0.0</td>\n",
       "      <td>0.0</td>\n",
       "      <td>0.0</td>\n",
       "      <td>0.0</td>\n",
       "      <td>0.0</td>\n",
       "    </tr>\n",
       "    <tr>\n",
       "      <th>...</th>\n",
       "      <td>...</td>\n",
       "      <td>...</td>\n",
       "      <td>...</td>\n",
       "      <td>...</td>\n",
       "      <td>...</td>\n",
       "      <td>...</td>\n",
       "      <td>...</td>\n",
       "      <td>...</td>\n",
       "      <td>...</td>\n",
       "      <td>...</td>\n",
       "      <td>...</td>\n",
       "      <td>...</td>\n",
       "      <td>...</td>\n",
       "      <td>...</td>\n",
       "      <td>...</td>\n",
       "      <td>...</td>\n",
       "      <td>...</td>\n",
       "      <td>...</td>\n",
       "      <td>...</td>\n",
       "      <td>...</td>\n",
       "      <td>...</td>\n",
       "    </tr>\n",
       "    <tr>\n",
       "      <th>ENSG00000273487</th>\n",
       "      <td>0.000000</td>\n",
       "      <td>0.0</td>\n",
       "      <td>0.0</td>\n",
       "      <td>0.0</td>\n",
       "      <td>0.0</td>\n",
       "      <td>0.0</td>\n",
       "      <td>0.0</td>\n",
       "      <td>0.0</td>\n",
       "      <td>0.0</td>\n",
       "      <td>0.0</td>\n",
       "      <td>...</td>\n",
       "      <td>0.0</td>\n",
       "      <td>0.00000</td>\n",
       "      <td>0.0</td>\n",
       "      <td>0.0</td>\n",
       "      <td>0.0</td>\n",
       "      <td>0.0</td>\n",
       "      <td>0.0</td>\n",
       "      <td>0.0</td>\n",
       "      <td>0.0</td>\n",
       "      <td>0.0</td>\n",
       "    </tr>\n",
       "    <tr>\n",
       "      <th>ENSG00000273488</th>\n",
       "      <td>0.000000</td>\n",
       "      <td>0.0</td>\n",
       "      <td>0.0</td>\n",
       "      <td>0.0</td>\n",
       "      <td>0.0</td>\n",
       "      <td>0.0</td>\n",
       "      <td>0.0</td>\n",
       "      <td>0.0</td>\n",
       "      <td>0.0</td>\n",
       "      <td>0.0</td>\n",
       "      <td>...</td>\n",
       "      <td>0.0</td>\n",
       "      <td>0.00000</td>\n",
       "      <td>0.0</td>\n",
       "      <td>0.0</td>\n",
       "      <td>0.0</td>\n",
       "      <td>0.0</td>\n",
       "      <td>0.0</td>\n",
       "      <td>0.0</td>\n",
       "      <td>0.0</td>\n",
       "      <td>0.0</td>\n",
       "    </tr>\n",
       "    <tr>\n",
       "      <th>ENSG00000273489</th>\n",
       "      <td>0.000000</td>\n",
       "      <td>0.0</td>\n",
       "      <td>0.0</td>\n",
       "      <td>0.0</td>\n",
       "      <td>0.0</td>\n",
       "      <td>0.0</td>\n",
       "      <td>0.0</td>\n",
       "      <td>0.0</td>\n",
       "      <td>0.0</td>\n",
       "      <td>0.0</td>\n",
       "      <td>...</td>\n",
       "      <td>0.0</td>\n",
       "      <td>0.00000</td>\n",
       "      <td>0.0</td>\n",
       "      <td>0.0</td>\n",
       "      <td>0.0</td>\n",
       "      <td>0.0</td>\n",
       "      <td>0.0</td>\n",
       "      <td>0.0</td>\n",
       "      <td>0.0</td>\n",
       "      <td>0.0</td>\n",
       "    </tr>\n",
       "    <tr>\n",
       "      <th>ENSG00000273492</th>\n",
       "      <td>0.000000</td>\n",
       "      <td>0.0</td>\n",
       "      <td>0.0</td>\n",
       "      <td>0.0</td>\n",
       "      <td>0.0</td>\n",
       "      <td>0.0</td>\n",
       "      <td>0.0</td>\n",
       "      <td>0.0</td>\n",
       "      <td>0.0</td>\n",
       "      <td>0.0</td>\n",
       "      <td>...</td>\n",
       "      <td>0.0</td>\n",
       "      <td>0.00000</td>\n",
       "      <td>0.0</td>\n",
       "      <td>0.0</td>\n",
       "      <td>0.0</td>\n",
       "      <td>0.0</td>\n",
       "      <td>0.0</td>\n",
       "      <td>0.0</td>\n",
       "      <td>0.0</td>\n",
       "      <td>0.0</td>\n",
       "    </tr>\n",
       "    <tr>\n",
       "      <th>ENSG00000273493</th>\n",
       "      <td>0.000000</td>\n",
       "      <td>0.0</td>\n",
       "      <td>0.0</td>\n",
       "      <td>0.0</td>\n",
       "      <td>0.0</td>\n",
       "      <td>0.0</td>\n",
       "      <td>0.0</td>\n",
       "      <td>0.0</td>\n",
       "      <td>0.0</td>\n",
       "      <td>0.0</td>\n",
       "      <td>...</td>\n",
       "      <td>0.0</td>\n",
       "      <td>0.00000</td>\n",
       "      <td>0.0</td>\n",
       "      <td>0.0</td>\n",
       "      <td>0.0</td>\n",
       "      <td>0.0</td>\n",
       "      <td>0.0</td>\n",
       "      <td>0.0</td>\n",
       "      <td>0.0</td>\n",
       "      <td>0.0</td>\n",
       "    </tr>\n",
       "  </tbody>\n",
       "</table>\n",
       "<p>32738 rows × 200 columns</p>\n",
       "</div>"
      ],
      "text/plain": [
       "                 ACGGCCAAGGTGATAT-1  AGGCCACTCGATCCCT-1  TAGGCATTCTAGAGTC-1  \\\n",
       "ENSG00000000003            0.000000                 0.0                 0.0   \n",
       "ENSG00000000005            0.000000                 0.0                 0.0   \n",
       "ENSG00000000419            0.000000                 0.0                 0.0   \n",
       "ENSG00000000457            0.709399                 0.0                 0.0   \n",
       "ENSG00000000460            0.000000                 0.0                 0.0   \n",
       "...                             ...                 ...                 ...   \n",
       "ENSG00000273487            0.000000                 0.0                 0.0   \n",
       "ENSG00000273488            0.000000                 0.0                 0.0   \n",
       "ENSG00000273489            0.000000                 0.0                 0.0   \n",
       "ENSG00000273492            0.000000                 0.0                 0.0   \n",
       "ENSG00000273493            0.000000                 0.0                 0.0   \n",
       "\n",
       "                 TCAGGATTCCTGCTTG-1  AACTGGTAGGCCCGTT-1  AGCTCTCCAGGGAGAG-1  \\\n",
       "ENSG00000000003                 0.0                 0.0                 0.0   \n",
       "ENSG00000000005                 0.0                 0.0                 0.0   \n",
       "ENSG00000000419                 0.0                 0.0                 0.0   \n",
       "ENSG00000000457                 0.0                 0.0                 0.0   \n",
       "ENSG00000000460                 0.0                 0.0                 0.0   \n",
       "...                             ...                 ...                 ...   \n",
       "ENSG00000273487                 0.0                 0.0                 0.0   \n",
       "ENSG00000273488                 0.0                 0.0                 0.0   \n",
       "ENSG00000273489                 0.0                 0.0                 0.0   \n",
       "ENSG00000273492                 0.0                 0.0                 0.0   \n",
       "ENSG00000273493                 0.0                 0.0                 0.0   \n",
       "\n",
       "                 CACAGGCAGCAGACTG-1  CCATGTCTCAAACGGG-1  CCTTTCTAGGTCATCT-1  \\\n",
       "ENSG00000000003                 0.0                 0.0                 0.0   \n",
       "ENSG00000000005                 0.0                 0.0                 0.0   \n",
       "ENSG00000000419                 0.0                 0.0                 0.0   \n",
       "ENSG00000000457                 0.0                 0.0                 0.0   \n",
       "ENSG00000000460                 0.0                 0.0                 0.0   \n",
       "...                             ...                 ...                 ...   \n",
       "ENSG00000273487                 0.0                 0.0                 0.0   \n",
       "ENSG00000273488                 0.0                 0.0                 0.0   \n",
       "ENSG00000273489                 0.0                 0.0                 0.0   \n",
       "ENSG00000273492                 0.0                 0.0                 0.0   \n",
       "ENSG00000273493                 0.0                 0.0                 0.0   \n",
       "\n",
       "                 CGCTGGAGTCAAAGCG-1  ...  TTTCCTCTCTACTTAC-1  \\\n",
       "ENSG00000000003                 0.0  ...                 0.0   \n",
       "ENSG00000000005                 0.0  ...                 0.0   \n",
       "ENSG00000000419                 0.0  ...                 0.0   \n",
       "ENSG00000000457                 0.0  ...                 0.0   \n",
       "ENSG00000000460                 0.0  ...                 0.0   \n",
       "...                             ...  ...                 ...   \n",
       "ENSG00000273487                 0.0  ...                 0.0   \n",
       "ENSG00000273488                 0.0  ...                 0.0   \n",
       "ENSG00000273489                 0.0  ...                 0.0   \n",
       "ENSG00000273492                 0.0  ...                 0.0   \n",
       "ENSG00000273493                 0.0  ...                 0.0   \n",
       "\n",
       "                 AAGGCAGGTGGCCCTA-1  ATGTGTGGTCTCTCTG-1  CAGAGAGTCGACCAGC-1  \\\n",
       "ENSG00000000003             0.94197                 0.0                 0.0   \n",
       "ENSG00000000005             0.00000                 0.0                 0.0   \n",
       "ENSG00000000419             0.00000                 0.0                 0.0   \n",
       "ENSG00000000457             0.00000                 0.0                 0.0   \n",
       "ENSG00000000460             0.00000                 0.0                 0.0   \n",
       "...                             ...                 ...                 ...   \n",
       "ENSG00000273487             0.00000                 0.0                 0.0   \n",
       "ENSG00000273488             0.00000                 0.0                 0.0   \n",
       "ENSG00000273489             0.00000                 0.0                 0.0   \n",
       "ENSG00000273492             0.00000                 0.0                 0.0   \n",
       "ENSG00000273493             0.00000                 0.0                 0.0   \n",
       "\n",
       "                 AAAGTAGGTCTGGAGA-1  AACTCTTTCTGCCCTA-1  GTACTTTCATGACGGA-1  \\\n",
       "ENSG00000000003                 0.0                 0.0                 0.0   \n",
       "ENSG00000000005                 0.0                 0.0                 0.0   \n",
       "ENSG00000000419                 0.0                 0.0                 0.0   \n",
       "ENSG00000000457                 0.0                 0.0                 0.0   \n",
       "ENSG00000000460                 0.0                 0.0                 0.0   \n",
       "...                             ...                 ...                 ...   \n",
       "ENSG00000273487                 0.0                 0.0                 0.0   \n",
       "ENSG00000273488                 0.0                 0.0                 0.0   \n",
       "ENSG00000273489                 0.0                 0.0                 0.0   \n",
       "ENSG00000273492                 0.0                 0.0                 0.0   \n",
       "ENSG00000273493                 0.0                 0.0                 0.0   \n",
       "\n",
       "                 TTCTCCTGTGGTGTAG-1  AAACCTGAGGGAGTAA-1  CGGAGTCTCGCTTAGA-1  \n",
       "ENSG00000000003                 0.0                 0.0                 0.0  \n",
       "ENSG00000000005                 0.0                 0.0                 0.0  \n",
       "ENSG00000000419                 0.0                 0.0                 0.0  \n",
       "ENSG00000000457                 0.0                 0.0                 0.0  \n",
       "ENSG00000000460                 0.0                 0.0                 0.0  \n",
       "...                             ...                 ...                 ...  \n",
       "ENSG00000273487                 0.0                 0.0                 0.0  \n",
       "ENSG00000273488                 0.0                 0.0                 0.0  \n",
       "ENSG00000273489                 0.0                 0.0                 0.0  \n",
       "ENSG00000273492                 0.0                 0.0                 0.0  \n",
       "ENSG00000273493                 0.0                 0.0                 0.0  \n",
       "\n",
       "[32738 rows x 200 columns]"
      ]
     },
     "execution_count": 42,
     "metadata": {},
     "output_type": "execute_result"
    }
   ],
   "source": [
    "count_table"
   ]
  },
  {
   "cell_type": "code",
   "execution_count": null,
   "metadata": {},
   "outputs": [],
   "source": [
    "\n",
    "\n",
    "\n",
    "\n"
   ]
  },
  {
   "cell_type": "code",
   "execution_count": 25,
   "metadata": {},
   "outputs": [],
   "source": [
    "txt_path = r'C:\\Users\\KerenYlab\\Desktop\\Technion studies\\Keren laboratory\\Data\\droplet_seq\\all_samples\\M136\\counts.txt'\n",
    "with open(txt_path, 'r') as read_file:\n",
    "    counts = read_file.readlines()\n",
    "    counts = np.array([str_list_to_float(counts.split(' ')[:-1]) for counts in counts]).astype(np.uint16).T"
   ]
  },
  {
   "cell_type": "code",
   "execution_count": 27,
   "metadata": {},
   "outputs": [
    {
     "data": {
      "text/plain": [
       "(4872, 22840)"
      ]
     },
     "execution_count": 27,
     "metadata": {},
     "output_type": "execute_result"
    }
   ],
   "source": [
    "counts.shape"
   ]
  },
  {
   "cell_type": "code",
   "execution_count": null,
   "metadata": {},
   "outputs": [],
   "source": [
    "import"
   ]
  },
  {
   "cell_type": "code",
   "execution_count": 1,
   "metadata": {},
   "outputs": [
    {
     "ename": "NameError",
     "evalue": "name 'pickle' is not defined",
     "output_type": "error",
     "traceback": [
      "\u001b[1;31m---------------------------------------------------------------------------\u001b[0m",
      "\u001b[1;31mNameError\u001b[0m                                 Traceback (most recent call last)",
      "\u001b[1;32m<ipython-input-1-30ad114ef84c>\u001b[0m in \u001b[0;36m<module>\u001b[1;34m\u001b[0m\n\u001b[0;32m      4\u001b[0m \u001b[1;33m\u001b[0m\u001b[0m\n\u001b[0;32m      5\u001b[0m \u001b[1;31m# tumor_cohort = pickle.load(open(tumor_path, 'rb'))\u001b[0m\u001b[1;33m\u001b[0m\u001b[1;33m\u001b[0m\u001b[1;33m\u001b[0m\u001b[0m\n\u001b[1;32m----> 6\u001b[1;33m \u001b[0mcohort\u001b[0m \u001b[1;33m=\u001b[0m \u001b[0mpickle\u001b[0m\u001b[1;33m.\u001b[0m\u001b[0mload\u001b[0m\u001b[1;33m(\u001b[0m\u001b[0mopen\u001b[0m\u001b[1;33m(\u001b[0m\u001b[0mCOHORT_PATH\u001b[0m\u001b[1;33m,\u001b[0m \u001b[1;34m'rb'\u001b[0m\u001b[1;33m)\u001b[0m\u001b[1;33m)\u001b[0m\u001b[1;33m\u001b[0m\u001b[1;33m\u001b[0m\u001b[0m\n\u001b[0m\u001b[0;32m      7\u001b[0m \u001b[1;31m# tumor_cohort = cohort.filter_cells_by_property('is_cancer', True)\u001b[0m\u001b[1;33m\u001b[0m\u001b[1;33m\u001b[0m\u001b[1;33m\u001b[0m\u001b[0m\n",
      "\u001b[1;31mNameError\u001b[0m: name 'pickle' is not defined"
     ]
    }
   ],
   "source": [
    "# tumor_path = r'/storage/md_keren/shitay/Data/droplet_seq/cohort/normalized/5.21/cohort_normalized_24.5.21.pkl'\n",
    "# COHORT_PATH = r'/storage/md_keren/shitay/Data/droplet_seq/cohort/normalized/6.21/cohort_normalized_26.6.21.pkl'\n",
    "COHORT_PATH = r'/storage/md_keren/shitay/Data/droplet_seq/M97_M173/subcohort/normalized/1.1.22/subcohort_normalized_1.1.22_protein_coding_genes.pkl'\n",
    "\n",
    "# tumor_cohort = pickle.load(open(tumor_path, 'rb'))\n",
    "cohort = pickle.load(open(COHORT_PATH, 'rb'))\n",
    "# tumor_cohort = cohort.filter_cells_by_property('is_cancer', True)\n"
   ]
  },
  {
   "cell_type": "code",
   "execution_count": null,
   "metadata": {},
   "outputs": [],
   "source": []
  },
  {
   "cell_type": "code",
   "execution_count": 5,
   "metadata": {},
   "outputs": [],
   "source": [
    "def prob(k, n, p):\n",
    "    return binom(n, k)*(p**k)*(1-p)**(n-k)"
   ]
  },
  {
   "cell_type": "code",
   "execution_count": 6,
   "metadata": {},
   "outputs": [
    {
     "name": "stdout",
     "output_type": "stream",
     "text": [
      "0.0009765625\n",
      "0.009765625\n",
      "0.0439453125\n",
      "0.1171875\n",
      "0.205078125\n",
      "0.24609375\n",
      "0.205078125\n",
      "0.1171875\n",
      "0.0439453125\n",
      "0.009765625\n",
      "0.0009765625\n"
     ]
    },
    {
     "data": {
      "text/plain": [
       "1.0"
      ]
     },
     "execution_count": 6,
     "metadata": {},
     "output_type": "execute_result"
    }
   ],
   "source": [
    "l = []\n",
    "n, p = 10, 0.5\n",
    "for k in range(n+1):\n",
    "    r = prob(k, n, p)\n",
    "    print(r)\n",
    "    l.append(r)\n",
    "sum(l)\n"
   ]
  },
  {
   "cell_type": "code",
   "execution_count": 7,
   "metadata": {},
   "outputs": [
    {
     "name": "stdout",
     "output_type": "stream",
     "text": [
      "0.026424115199999976\n",
      "0.08808038399999996\n",
      "0.20132659199999994\n",
      "0.30198988800000004\n",
      "0.26843545600000007\n",
      "0.10737418240000006\n"
     ]
    },
    {
     "data": {
      "text/plain": [
       "0.9936306176"
      ]
     },
     "execution_count": 7,
     "metadata": {},
     "output_type": "execute_result"
    }
   ],
   "source": [
    "l = []\n",
    "n, p = 10, 0.8\n",
    "for k in range(5, 11):\n",
    "    r = prob(k, n, p)\n",
    "    print(r)\n",
    "    l.append(r)\n",
    "sum(l)"
   ]
  },
  {
   "cell_type": "code",
   "execution_count": 8,
   "metadata": {},
   "outputs": [],
   "source": [
    "\n",
    "# The probability that Y gets 1<=K<=10\n",
    "l = []\n",
    "n, p = 100, 0.8\n",
    "for k in range(0, n+1):\n",
    "    r = prob(k, n, p)\n",
    "#     print(r)\n",
    "    l.append(r)\n"
   ]
  },
  {
   "cell_type": "code",
   "execution_count": 9,
   "metadata": {},
   "outputs": [
    {
     "name": "stdout",
     "output_type": "stream",
     "text": [
      "n = 100, p=0.8\n"
     ]
    },
    {
     "data": {
      "image/png": "[encoded data removed]",
      "text/plain": [
       "<Figure size 432x288 with 1 Axes>"
      ]
     },
     "metadata": {
      "needs_background": "light"
     },
     "output_type": "display_data"
    }
   ],
   "source": [
    "indexes = np.arange(len(l))\n",
    "print(f'n = {n}, p={p}')\n",
    "plt.plot(indexes, l, 'bo', ms=8, label='binom pmf')\n",
    "plt.vlines(indexes, 0, l, colors='b', lw=5, alpha=0.5)\n",
    "for i,j in zip(indexes[70:90],l[70:90]):\n",
    "    plt.annotate(round(j, 3),xy=(i-0.4,j+0.01))\n",
    "plt.show()"
   ]
  },
  {
   "cell_type": "code",
   "execution_count": 10,
   "metadata": {},
   "outputs": [],
   "source": [
    "mean = 8\n",
    "\n"
   ]
  },
  {
   "cell_type": "code",
   "execution_count": 36,
   "metadata": {},
   "outputs": [
    {
     "name": "stdout",
     "output_type": "stream",
     "text": [
      "1.0239999999999978e-07\n",
      "0\n",
      "4.198399999999992e-06\n",
      "1\n",
      "7.792639999999986e-05\n",
      "2\n",
      "0.0008643583999999989\n",
      "3\n",
      "0.006369382399999993\n",
      "4\n",
      "0.03279349759999997\n",
      "5\n",
      "0.12087388159999993\n",
      "6\n",
      "0.32220047359999987\n",
      "7\n",
      "0.6241903616\n",
      "8\n"
     ]
    },
    {
     "data": {
      "text/plain": [
       "0.6241903616"
      ]
     },
     "execution_count": 36,
     "metadata": {},
     "output_type": "execute_result"
    }
   ],
   "source": [
    "sum = 0\n",
    "for i in range(100):\n",
    "    sum += l[i]\n",
    "    \n",
    "    print(sum)\n",
    "    print(i)\n",
    "    if sum>0.5:\n",
    "        break\n",
    "sum"
   ]
  },
  {
   "cell_type": "code",
   "execution_count": 19,
   "metadata": {},
   "outputs": [
    {
     "data": {
      "text/plain": [
       "1.6212613988670742e-11"
      ]
     },
     "execution_count": 19,
     "metadata": {},
     "output_type": "execute_result"
    }
   ],
   "source": [
    "l[round(len(l)/2)]\n",
    "\n"
   ]
  },
  {
   "cell_type": "code",
   "execution_count": null,
   "metadata": {},
   "outputs": [],
   "source": []
  }
 ],
 "metadata": {
  "kernelspec": {
   "display_name": "Python 3",
   "language": "python",
   "name": "python3"
  },
  "language_info": {
   "codemirror_mode": {
    "name": "ipython",
    "version": 3
   },
   "file_extension": ".py",
   "mimetype": "text/x-python",
   "name": "python",
   "nbconvert_exporter": "python",
   "pygments_lexer": "ipython3",
   "version": "3.8.5"
  }
 },
 "nbformat": 4,
 "nbformat_minor": 4
}
