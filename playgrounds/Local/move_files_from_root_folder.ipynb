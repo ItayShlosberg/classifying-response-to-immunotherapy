{
 "cells": [
  {
   "cell_type": "code",
   "execution_count": 1,
   "metadata": {},
   "outputs": [],
   "source": [
    "import sys\n",
    "import os\n",
    "lib = r'C:\\Users\\KerenYlab\\Desktop\\Technion studies\\Keren Laboratory\\python_playground\\classifying-response-to-immunotherapy\\utilities\\droplet_dataset'\n",
    "lib2 = r'C:\\Users\\KerenYlab\\Desktop\\Technion studies\\Keren Laboratory\\python_playground\\classifying-response-to-immunotherapy\\utilities'\n",
    "lib3 = r'C:\\Users\\KerenYlab\\Desktop\\Technion studies\\Keren Laboratory\\python_playground\\classifying-response-to-immunotherapy\\data_analysis'\n",
    "lib4 = r'C:\\Users\\KerenYlab\\Desktop\\Technion studies\\Keren Laboratory\\python_playground\\classifying-response-to-immunotherapy'\n",
    "lib5 = r'C:\\Users\\KerenYlab\\Desktop\\Technion studies\\Keren Laboratory\\python_playground\\classifying-response-to-immunotherapy\\scripts'\n",
    "sys.path.append(lib)\n",
    "sys.path.append(lib2)\n",
    "sys.path.append(lib3)\n",
    "sys.path.append(lib4)\n",
    "sys.path.append(lib5)\n",
    "\n"
   ]
  },
  {
   "cell_type": "code",
   "execution_count": 19,
   "metadata": {},
   "outputs": [
    {
     "name": "stdout",
     "output_type": "stream",
     "text": [
      "C:\\Users\\KerenYlab\\Desktop\\Technion studies\\courses\\Human genetics - 274242\\274242w-20211106\\נושא_3\\סילבוס מעודכן תשפב.docx\n",
      "C:\\Users\\KerenYlab\\Desktop\\Technion studies\\courses\\Human genetics - 274242\\274242w-20211106\\נושא_3\\עץ הקורס.pptx\n",
      "C:\\Users\\KerenYlab\\Desktop\\Technion studies\\courses\\Human genetics - 274242\\274242w-20211106\\נושא_4\\הרצאה מס 1- מבנה הגנום ופרוייקט גנום האדם.ppt\n",
      "C:\\Users\\KerenYlab\\Desktop\\Technion studies\\courses\\Human genetics - 274242\\274242w-20211106\\נושא_5\\הרצאה 2- זיהוי גנים למחלות מונוגניות.pptx\n"
     ]
    }
   ],
   "source": [
    "import os\n",
    "import os\n",
    "import shutil\n",
    "from os.path import join\n",
    "folder = r'C:\\Users\\KerenYlab\\Desktop\\Technion studies\\courses\\Human genetics - 274242\\274242w-20211106'\n",
    "\n",
    "os.walk(folder)\n",
    "subfolders = [x[0].split('\\\\')[-1] for x in os.walk(folder)][1:]\n",
    "\n",
    "for sub_folder in subfolders:\n",
    "    for file in os.listdir(join(folder, sub_folder)):\n",
    "        print(join(folder, sub_folder, file))\n",
    "        os.rename(join(folder, sub_folder, file), join(folder, file))\n",
    "\n",
    "# os.rename(\"path/to/current/file.foo\", \"path/to/new/destination/for/file.foo\")\n",
    "# os.replace(\"path/to/current/file.foo\", \"path/to/new/destination/for/file.foo\")\n",
    "# shutil.move(\"path/to/current/file.foo\", \"path/to/new/destination/for/file.foo\")"
   ]
  },
  {
   "cell_type": "code",
   "execution_count": null,
   "metadata": {},
   "outputs": [],
   "source": []
  },
  {
   "cell_type": "markdown",
   "metadata": {},
   "source": [
    "# Debug"
   ]
  },
  {
   "cell_type": "code",
   "execution_count": 6,
   "metadata": {},
   "outputs": [
    {
     "data": {
      "text/plain": [
       "1.0"
      ]
     },
     "execution_count": 6,
     "metadata": {},
     "output_type": "execute_result"
    }
   ],
   "source": [
    "import math\n",
    "q = math.sqrt((1/4500))\n",
    "p = 1- q\n",
    "\n",
    "p**2 + q**2 + 2*p*q"
   ]
  },
  {
   "cell_type": "code",
   "execution_count": 8,
   "metadata": {},
   "outputs": [
    {
     "data": {
      "text/plain": [
       "0.9850928801500014"
      ]
     },
     "execution_count": 8,
     "metadata": {},
     "output_type": "execute_result"
    }
   ],
   "source": [
    "p"
   ]
  },
  {
   "cell_type": "code",
   "execution_count": 9,
   "metadata": {},
   "outputs": [
    {
     "data": {
      "text/plain": [
       "0.014907119849998597"
      ]
     },
     "execution_count": 9,
     "metadata": {},
     "output_type": "execute_result"
    }
   ],
   "source": [
    "q"
   ]
  }
 ],
 "metadata": {
  "kernelspec": {
   "display_name": "Python 3",
   "language": "python",
   "name": "python3"
  },
  "language_info": {
   "codemirror_mode": {
    "name": "ipython",
    "version": 3
   },
   "file_extension": ".py",
   "mimetype": "text/x-python",
   "name": "python",
   "nbconvert_exporter": "python",
   "pygments_lexer": "ipython3",
   "version": "3.8.5"
  }
 },
 "nbformat": 4,
 "nbformat_minor": 4
}
