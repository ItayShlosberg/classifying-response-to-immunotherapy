{
 "cells": [
  {
   "cell_type": "code",
   "execution_count": 2,
   "metadata": {},
   "outputs": [],
   "source": [
    "lib = r'C:\\Users\\KerenYlab\\Desktop\\Technion studies\\Keren Laboratory\\python_playground\\classifying-response-to-immunotherapy'\n",
    "import sys\n",
    "sys.path.append(lib)\n",
    "from utilities.package_importing import *\n",
    "import scipy.stats as stats"
   ]
  },
  {
   "cell_type": "code",
   "execution_count": 17,
   "metadata": {},
   "outputs": [
    {
     "data": {
      "text/plain": [
       "'C:\\\\Users\\\\KerenYlab\\\\Desktop\\\\T2.txt'"
      ]
     },
     "execution_count": 17,
     "metadata": {},
     "output_type": "execute_result"
    }
   ],
   "source": [
    "import shutil\n",
    "# shutil.copyfile(src, dst)"
   ]
  },
  {
   "cell_type": "code",
   "execution_count": 25,
   "metadata": {},
   "outputs": [],
   "source": [
    "ROOT_DIR = r'D:\\Thesis backups\\PC_local\\python_playground\\outputs\\inferCNV\\executions\\M97_M173_29.1.22'\n",
    "INFER_CNV_FILE_NAME = 'infercnv.png'\n",
    "DEST_FOLDER = r'C:\\Users\\KerenYlab\\Desktop\\all_cnv_maps'\n",
    "\n",
    "for sample in os.listdir(ROOT_DIR):\n",
    "    src = join(ROOT_DIR, sample, INFER_CNV_FILE_NAME)\n",
    "    dst = join(DEST_FOLDER, f'{sample}.png')\n",
    "    shutil.copyfile(src, dst)\n"
   ]
  }
 ],
 "metadata": {
  "kernelspec": {
   "display_name": "Python 3",
   "language": "python",
   "name": "python3"
  },
  "language_info": {
   "codemirror_mode": {
    "name": "ipython",
    "version": 3
   },
   "file_extension": ".py",
   "mimetype": "text/x-python",
   "name": "python",
   "nbconvert_exporter": "python",
   "pygments_lexer": "ipython3",
   "version": "3.8.5"
  }
 },
 "nbformat": 4,
 "nbformat_minor": 4
}
