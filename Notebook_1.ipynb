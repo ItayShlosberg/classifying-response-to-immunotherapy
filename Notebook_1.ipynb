{
 "cells": [
  {
   "cell_type": "code",
   "execution_count": 1,
   "metadata": {},
   "outputs": [],
   "source": [
    "from main import *\n",
    "\n",
    "PICKLE_PATH = r'DATA\\1-16291cells.p'\n",
    "PICKLE_PATH = r'DATA\\1-16291cells_all_protein_withoutFilterByVariance_supervised_classification.p'\n",
    "CHECKPOINT_TSNE_PATH = r'DATA\\TSNE_Embedded_1-16291cells_randInt21'  # comes into play as import OR export path.\n",
    "TSNE_IMPORT_EXPORT = False  # FALSE - Import, TRUE - EXPORT"
   ]
  },
  {
   "cell_type": "code",
   "execution_count": 2,
   "metadata": {},
   "outputs": [],
   "source": [
    "cells, gene_names, patients_information = extract_data_from_pickle()\n",
    "cells, patients_information = filter_cells_by_supervised_classification(cells, patients_information)\n",
    "patients = Patients(patients_information)\n",
    "# cells, gene_names = filter_genes_by_variance(cells, gene_names)\n",
    "# clusters, error, nfound = kcluster(cells, nclusters=2, dist='c')   # dist 'c' is pearson correlation distance\n",
    "# auc = correlation_response_clusters(patients['patient_details'],\n",
    "#                               patients['response_label'],\n",
    "#                               patients['keren_cluster'])\n",
    "\n",
    "# print(f'AUC: {auc}')\n",
    "_breakpoint = 0"
   ]
  },
  {
   "cell_type": "code",
   "execution_count": 3,
   "metadata": {},
   "outputs": [
    {
     "ename": "TypeError",
     "evalue": "build_confusion_matrix() missing 2 required positional arguments: 'classification1' and 'classification2'",
     "output_type": "error",
     "traceback": [
      "\u001b[1;31m---------------------------------------------------------------------------\u001b[0m",
      "\u001b[1;31mTypeError\u001b[0m                                 Traceback (most recent call last)",
      "\u001b[1;32m<ipython-input-3-0a94d26e8dbb>\u001b[0m in \u001b[0;36m<module>\u001b[1;34m\u001b[0m\n\u001b[1;32m----> 1\u001b[1;33m \u001b[0mbuild_confusion_matrix\u001b[0m\u001b[1;33m(\u001b[0m\u001b[1;33m)\u001b[0m\u001b[1;33m\u001b[0m\u001b[1;33m\u001b[0m\u001b[0m\n\u001b[0m",
      "\u001b[1;31mTypeError\u001b[0m: build_confusion_matrix() missing 2 required positional arguments: 'classification1' and 'classification2'"
     ]
    }
   ],
   "source": [
    "build_confusion_matrix()"
   ]
  },
  {
   "cell_type": "code",
   "execution_count": null,
   "metadata": {},
   "outputs": [],
   "source": []
  }
 ],
 "metadata": {
  "kernelspec": {
   "display_name": "Python 3",
   "language": "python",
   "name": "python3"
  }
 },
 "nbformat": 4,
 "nbformat_minor": 2
}
