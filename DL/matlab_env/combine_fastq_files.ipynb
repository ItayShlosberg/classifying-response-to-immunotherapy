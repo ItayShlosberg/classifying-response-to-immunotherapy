{
 "cells": [
  {
   "cell_type": "markdown",
   "metadata": {},
   "source": [
    "# FASTQ files"
   ]
  },
  {
   "cell_type": "code",
   "execution_count": 72,
   "metadata": {},
   "outputs": [],
   "source": [
    "import pandas as pd, os\n",
    "path = r'C:\\Users\\itay\\Desktop\\Technion studies\\Keren Laboratory\\milestones\\milestone 2 - 8.11.20\\FASTQ creation\\M145_M146_8-26-20.csv'\n",
    "df = pd.read_csv(path)[['SampleName', 'IndexBarcode1']]"
   ]
  },
  {
   "cell_type": "code",
   "execution_count": 73,
   "metadata": {},
   "outputs": [
    {
     "data": {
      "text/plain": [
       "{1: 'CTGTAACT', 2: 'TCTAGCGA', 3: 'AGAGTGTG', 4: 'GACCCTAC'}"
      ]
     },
     "execution_count": 73,
     "metadata": {},
     "output_type": "execute_result"
    }
   ],
   "source": [
    "\n",
    "values = df.values \n",
    "M145_values = [[s[0],s[1]] for s in values if 'M145' in s[0]]\n",
    "M145_values = {int(barcode[0].split('_')[1]): barcode[1] for barcode in M145_values}\n",
    "M146_values = [[s[0],s[1]] for s in values if 'M146' in s[0]]\n",
    "M146_values = {int(barcode[0].split('_')[1]): barcode[1] for barcode in M146_values}\n",
    "\n",
    "\n",
    "y = [[1, 2],[3, 4]]\n",
    "[z for x in y for z in x]\n",
    "M145_values"
   ]
  },
  {
   "cell_type": "code",
   "execution_count": 74,
   "metadata": {},
   "outputs": [],
   "source": [
    "# Pattern (16 times): channel + prefix + channel(1-4) + '.' + 'barcode (1-4)' + '.unmapped.' + 'direction (line for each direction)' + '.fastq.gz'\n",
    "# Syntax 2 lines per sample (for each direction): 'cat' + 16 times pattern + '>' + 'output path' + ''\n"
   ]
  },
  {
   "cell_type": "code",
   "execution_count": 88,
   "metadata": {},
   "outputs": [],
   "source": [
    "prefix = '_HVM2VBGXG.'\n",
    "\n",
    "def synthesize_command_for_sample(barcode_values, sample_name):\n",
    "    n_of_channels = 4\n",
    "    n_of_directions = 2\n",
    "    n_of_barcodes = len(barcode_values)\n",
    "    lines = []\n",
    "    for direction in range(1, 3):\n",
    "        line = 'cat '\n",
    "        for channel in range(1, n_of_channels+1):\n",
    "            for barcode_idx in range(1, n_of_barcodes+1):\n",
    "                barcode = barcode_values[barcode_idx]\n",
    "                line += str(channel)+prefix+str(channel)+'.'+barcode+'.unmapped.'+str(direction)+ '.fastq.gz '\n",
    "        line += f'> /storage/md_keren/shitay/18.11.20/{sample_name}/{sample_name}_S1_L001_R{direction}_001.fastq.gz'\n",
    "        lines.append(line)      \n",
    "    return lines\n",
    "res = synthesize_command_for_sample(M145_values, 'M145') + synthesize_command_for_sample(M146_values, 'M146')"
   ]
  },
  {
   "cell_type": "code",
   "execution_count": 89,
   "metadata": {},
   "outputs": [],
   "source": [
    "out = r'C:\\Users\\itay\\Desktop\\Technion studies\\Keren Laboratory\\milestones\\milestone 2 - 8.11.20\\FASTQ creation\\my scripts'\n",
    "file_name = 'combine_fastq_M145_M146_18.11.20.sh'\n",
    "with open(os.path.join(out, file_name), \"w\") as text_file:\n",
    "    for line in res:\n",
    "        text_file.write(line)\n",
    "        text_file.write('\\n')"
   ]
  },
  {
   "cell_type": "code",
   "execution_count": 90,
   "metadata": {},
   "outputs": [
    {
     "data": {
      "text/plain": [
       "['cat 1_HVM2VBGXG.1.CTGTAACT.unmapped.1.fastq.gz 1_HVM2VBGXG.1.TCTAGCGA.unmapped.1.fastq.gz 1_HVM2VBGXG.1.AGAGTGTG.unmapped.1.fastq.gz 1_HVM2VBGXG.1.GACCCTAC.unmapped.1.fastq.gz 2_HVM2VBGXG.2.CTGTAACT.unmapped.1.fastq.gz 2_HVM2VBGXG.2.TCTAGCGA.unmapped.1.fastq.gz 2_HVM2VBGXG.2.AGAGTGTG.unmapped.1.fastq.gz 2_HVM2VBGXG.2.GACCCTAC.unmapped.1.fastq.gz 3_HVM2VBGXG.3.CTGTAACT.unmapped.1.fastq.gz 3_HVM2VBGXG.3.TCTAGCGA.unmapped.1.fastq.gz 3_HVM2VBGXG.3.AGAGTGTG.unmapped.1.fastq.gz 3_HVM2VBGXG.3.GACCCTAC.unmapped.1.fastq.gz 4_HVM2VBGXG.4.CTGTAACT.unmapped.1.fastq.gz 4_HVM2VBGXG.4.TCTAGCGA.unmapped.1.fastq.gz 4_HVM2VBGXG.4.AGAGTGTG.unmapped.1.fastq.gz 4_HVM2VBGXG.4.GACCCTAC.unmapped.1.fastq.gz > /storage/md_keren/shitay/18.11.20/M145/M145_S1_L001_R1_001.fastq.gz',\n",
       " 'cat 1_HVM2VBGXG.1.CTGTAACT.unmapped.2.fastq.gz 1_HVM2VBGXG.1.TCTAGCGA.unmapped.2.fastq.gz 1_HVM2VBGXG.1.AGAGTGTG.unmapped.2.fastq.gz 1_HVM2VBGXG.1.GACCCTAC.unmapped.2.fastq.gz 2_HVM2VBGXG.2.CTGTAACT.unmapped.2.fastq.gz 2_HVM2VBGXG.2.TCTAGCGA.unmapped.2.fastq.gz 2_HVM2VBGXG.2.AGAGTGTG.unmapped.2.fastq.gz 2_HVM2VBGXG.2.GACCCTAC.unmapped.2.fastq.gz 3_HVM2VBGXG.3.CTGTAACT.unmapped.2.fastq.gz 3_HVM2VBGXG.3.TCTAGCGA.unmapped.2.fastq.gz 3_HVM2VBGXG.3.AGAGTGTG.unmapped.2.fastq.gz 3_HVM2VBGXG.3.GACCCTAC.unmapped.2.fastq.gz 4_HVM2VBGXG.4.CTGTAACT.unmapped.2.fastq.gz 4_HVM2VBGXG.4.TCTAGCGA.unmapped.2.fastq.gz 4_HVM2VBGXG.4.AGAGTGTG.unmapped.2.fastq.gz 4_HVM2VBGXG.4.GACCCTAC.unmapped.2.fastq.gz > /storage/md_keren/shitay/18.11.20/M145/M145_S1_L001_R2_001.fastq.gz',\n",
       " 'cat 1_HVM2VBGXG.1.ACCGTATG.unmapped.1.fastq.gz 1_HVM2VBGXG.1.GATTAGAT.unmapped.1.fastq.gz 1_HVM2VBGXG.1.CTGACTGA.unmapped.1.fastq.gz 1_HVM2VBGXG.1.TGACGCCC.unmapped.1.fastq.gz 2_HVM2VBGXG.2.ACCGTATG.unmapped.1.fastq.gz 2_HVM2VBGXG.2.GATTAGAT.unmapped.1.fastq.gz 2_HVM2VBGXG.2.CTGACTGA.unmapped.1.fastq.gz 2_HVM2VBGXG.2.TGACGCCC.unmapped.1.fastq.gz 3_HVM2VBGXG.3.ACCGTATG.unmapped.1.fastq.gz 3_HVM2VBGXG.3.GATTAGAT.unmapped.1.fastq.gz 3_HVM2VBGXG.3.CTGACTGA.unmapped.1.fastq.gz 3_HVM2VBGXG.3.TGACGCCC.unmapped.1.fastq.gz 4_HVM2VBGXG.4.ACCGTATG.unmapped.1.fastq.gz 4_HVM2VBGXG.4.GATTAGAT.unmapped.1.fastq.gz 4_HVM2VBGXG.4.CTGACTGA.unmapped.1.fastq.gz 4_HVM2VBGXG.4.TGACGCCC.unmapped.1.fastq.gz > /storage/md_keren/shitay/18.11.20/M146/M146_S1_L001_R1_001.fastq.gz',\n",
       " 'cat 1_HVM2VBGXG.1.ACCGTATG.unmapped.2.fastq.gz 1_HVM2VBGXG.1.GATTAGAT.unmapped.2.fastq.gz 1_HVM2VBGXG.1.CTGACTGA.unmapped.2.fastq.gz 1_HVM2VBGXG.1.TGACGCCC.unmapped.2.fastq.gz 2_HVM2VBGXG.2.ACCGTATG.unmapped.2.fastq.gz 2_HVM2VBGXG.2.GATTAGAT.unmapped.2.fastq.gz 2_HVM2VBGXG.2.CTGACTGA.unmapped.2.fastq.gz 2_HVM2VBGXG.2.TGACGCCC.unmapped.2.fastq.gz 3_HVM2VBGXG.3.ACCGTATG.unmapped.2.fastq.gz 3_HVM2VBGXG.3.GATTAGAT.unmapped.2.fastq.gz 3_HVM2VBGXG.3.CTGACTGA.unmapped.2.fastq.gz 3_HVM2VBGXG.3.TGACGCCC.unmapped.2.fastq.gz 4_HVM2VBGXG.4.ACCGTATG.unmapped.2.fastq.gz 4_HVM2VBGXG.4.GATTAGAT.unmapped.2.fastq.gz 4_HVM2VBGXG.4.CTGACTGA.unmapped.2.fastq.gz 4_HVM2VBGXG.4.TGACGCCC.unmapped.2.fastq.gz > /storage/md_keren/shitay/18.11.20/M146/M146_S1_L001_R2_001.fastq.gz']"
      ]
     },
     "execution_count": 90,
     "metadata": {},
     "output_type": "execute_result"
    }
   ],
   "source": [
    "res"
   ]
  }
 ],
 "metadata": {
  "kernelspec": {
   "display_name": "Python 3",
   "language": "python",
   "name": "python3"
  },
  "language_info": {
   "codemirror_mode": {
    "name": "ipython",
    "version": 3
   },
   "file_extension": ".py",
   "mimetype": "text/x-python",
   "name": "python",
   "nbconvert_exporter": "python",
   "pygments_lexer": "ipython3",
   "version": "3.8.3"
  }
 },
 "nbformat": 4,
 "nbformat_minor": 4
}
